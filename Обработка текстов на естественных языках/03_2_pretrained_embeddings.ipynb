{
  "cells": [
    {
      "cell_type": "markdown",
      "id": "3a564d5f",
      "metadata": {
        "id": "3a564d5f"
      },
      "source": [
        "#  Загрузка предобученных эмбеддингов\n",
        "\n",
        "__Автор задач: Блохин Н.В. (NVBlokhin@fa.ru)__\n",
        "\n",
        "Материалы:\n",
        "* Deep Learning with PyTorch (2020) Авторы: Eli Stevens, Luca Antiga, Thomas Viehmann\n",
        "* https://rusvectores.org/\n",
        "* https://scikit-learn.org/stable/modules/generated/sklearn.decomposition.PCA.html\n",
        "* https://github.com/natasha/navec\n",
        "* https://pytorch.org/docs/stable/generated/torch.nn.Embedding.html"
      ]
    },
    {
      "cell_type": "markdown",
      "id": "c9ecd663",
      "metadata": {
        "id": "c9ecd663"
      },
      "source": [
        "## Задачи для совместного разбора"
      ]
    },
    {
      "cell_type": "markdown",
      "id": "f5bae349",
      "metadata": {
        "id": "f5bae349"
      },
      "source": [
        "1\\. Создайте объект `nn.Embedding` на основе файла `ruscorpora_upos_skipgram_300_5_2018_sample.vec`."
      ]
    },
    {
      "cell_type": "code",
      "source": [
        "import torch as th"
      ],
      "metadata": {
        "id": "wRPGm53da7Vn"
      },
      "id": "wRPGm53da7Vn",
      "execution_count": null,
      "outputs": []
    },
    {
      "cell_type": "code",
      "source": [
        "embeddings = {}\n",
        "index = {}\n",
        "with open(\"ruscorpora_upos_skipgram_300_5_2018_sample.vec\", \"r\", encoding=\"utf8\") as fp:\n",
        "  fp.readline()\n",
        "  for idx, line in enumerate(fp):\n",
        "    word_pos, v = line.split(\" \", maxsplit=1)\n",
        "    word, pos = word_pos.split(\"_\")\n",
        "    v = [float(x) for x in v.split()]\n",
        "    embeddings[(word, pos)] = v\n",
        "    index[(word, pos)] = idx"
      ],
      "metadata": {
        "id": "KYh06-yeaLOu"
      },
      "id": "KYh06-yeaLOu",
      "execution_count": null,
      "outputs": []
    },
    {
      "cell_type": "code",
      "source": [
        "embeddings_t = th.Tensor(list(embeddings.values()))"
      ],
      "metadata": {
        "id": "PCiy3LvgcBUf"
      },
      "id": "PCiy3LvgcBUf",
      "execution_count": null,
      "outputs": []
    },
    {
      "cell_type": "code",
      "source": [
        "embeddings_t"
      ],
      "metadata": {
        "colab": {
          "base_uri": "https://localhost:8080/"
        },
        "id": "dNj8f1QIcgxH",
        "outputId": "e8c65303-d56f-4562-d538-69876f2fac93"
      },
      "id": "dNj8f1QIcgxH",
      "execution_count": null,
      "outputs": [
        {
          "output_type": "execute_result",
          "data": {
            "text/plain": [
              "tensor([[-0.0312,  0.0243, -0.0314,  ..., -0.0880,  0.0217, -0.0011],\n",
              "        [-0.0091,  0.0305,  0.0016,  ..., -0.0671,  0.0900,  0.0647],\n",
              "        [ 0.0092,  0.0413,  0.0039,  ..., -0.0028,  0.0904,  0.0656],\n",
              "        [-0.0611,  0.0601,  0.0791,  ..., -0.0239,  0.0646,  0.0744]])"
            ]
          },
          "metadata": {},
          "execution_count": 6
        }
      ]
    },
    {
      "cell_type": "code",
      "source": [
        "word = \"человек\"\n",
        "pos = \"NOUN\"\n",
        "\n",
        "embeddings_t[index[(word, pos)]]"
      ],
      "metadata": {
        "id": "79trOlCHciH3"
      },
      "id": "79trOlCHciH3",
      "execution_count": null,
      "outputs": []
    },
    {
      "cell_type": "code",
      "source": [
        "import torch.nn as nn"
      ],
      "metadata": {
        "id": "ByavlQFVc3vQ"
      },
      "id": "ByavlQFVc3vQ",
      "execution_count": null,
      "outputs": []
    },
    {
      "cell_type": "code",
      "source": [
        "e = nn.Embedding(num_embeddings=4, embedding_dim=300)"
      ],
      "metadata": {
        "id": "mvhUvPfBc5tZ"
      },
      "id": "mvhUvPfBc5tZ",
      "execution_count": null,
      "outputs": []
    },
    {
      "cell_type": "code",
      "source": [
        "e(th.LongTensor([3]))"
      ],
      "metadata": {
        "id": "wG-kyeywddlT"
      },
      "id": "wG-kyeywddlT",
      "execution_count": null,
      "outputs": []
    },
    {
      "cell_type": "code",
      "source": [
        "t = th.tensor([3], dtype=th.long)\n",
        "t, type(t)"
      ],
      "metadata": {
        "colab": {
          "base_uri": "https://localhost:8080/"
        },
        "id": "5t0LP5myfBbo",
        "outputId": "79f58d6d-1571-40c9-bf76-e5f5b4688220"
      },
      "id": "5t0LP5myfBbo",
      "execution_count": null,
      "outputs": [
        {
          "output_type": "execute_result",
          "data": {
            "text/plain": [
              "(tensor([3]), torch.Tensor)"
            ]
          },
          "metadata": {},
          "execution_count": 18
        }
      ]
    },
    {
      "cell_type": "markdown",
      "id": "4d7b6d63",
      "metadata": {
        "id": "4d7b6d63"
      },
      "source": [
        "## Задачи для самостоятельного решения"
      ]
    },
    {
      "cell_type": "markdown",
      "id": "de5cc3cc",
      "metadata": {
        "id": "de5cc3cc"
      },
      "source": [
        "<p class=\"task\" id=\"1\"></p>\n",
        "\n",
        "1\\. Воспользовавшись предобученными эмбеддингами [ruscorpora_upos_skipgram_300_5_2018](https://rusvectores.org/static/models/rusvectores4/RNC/ruscorpora_upos_skipgram_300_5_2018.vec.gz), создайте словарь, где ключом является кортеж из слова и части речи, а значением - номер этого слова в файле эмбеддингами (первую строку при расчете номера строк не учитывайте). Выведите на экран количество элементов в словаре. Создайте двумерный массив эмбеддингов и выведите на экран его форму.\n",
        "\n",
        "- [ ] Проверено на семинаре"
      ]
    },
    {
      "cell_type": "code",
      "source": [
        "import torch as th"
      ],
      "metadata": {
        "id": "CaBl_pWpr9RB"
      },
      "id": "CaBl_pWpr9RB",
      "execution_count": 7,
      "outputs": []
    },
    {
      "cell_type": "code",
      "source": [
        "embeddings = {}\n",
        "index = {}\n",
        "itow = {}\n",
        "\n",
        "with open(\"ruscorpora_upos_skipgram_300_5_2018.vec\", \"r\", encoding=\"utf8\") as fp:\n",
        "  fp.readline()\n",
        "  for idx, line in enumerate(fp):\n",
        "    word_pos, v = line.split(\" \", maxsplit=1)\n",
        "    word, pos = word_pos.split(\"_\")\n",
        "    v = [float(x) for x in v.split()]\n",
        "    embeddings[(word, pos)] = v\n",
        "    index[(word, pos)] = idx\n",
        "    itow[idx] = (word, pos)"
      ],
      "metadata": {
        "id": "SA9WwjIfqPd3"
      },
      "id": "SA9WwjIfqPd3",
      "execution_count": 77,
      "outputs": []
    },
    {
      "cell_type": "code",
      "source": [
        "len(index)"
      ],
      "metadata": {
        "colab": {
          "base_uri": "https://localhost:8080/"
        },
        "id": "rFje0GSIr3ge",
        "outputId": "f1dc0902-b4db-41c9-a76c-8b275f7add7d"
      },
      "id": "rFje0GSIr3ge",
      "execution_count": 78,
      "outputs": [
        {
          "output_type": "execute_result",
          "data": {
            "text/plain": [
              "195071"
            ]
          },
          "metadata": {},
          "execution_count": 78
        }
      ]
    },
    {
      "cell_type": "code",
      "source": [
        "embeddings_t = th.Tensor(list(embeddings.values()))\n",
        "embeddings_t.shape"
      ],
      "metadata": {
        "colab": {
          "base_uri": "https://localhost:8080/"
        },
        "id": "j_1CJFjTrHki",
        "outputId": "7341a783-1c04-42bd-eee9-55b780bdba54"
      },
      "id": "j_1CJFjTrHki",
      "execution_count": 79,
      "outputs": [
        {
          "output_type": "execute_result",
          "data": {
            "text/plain": [
              "torch.Size([195071, 300])"
            ]
          },
          "metadata": {},
          "execution_count": 79
        }
      ]
    },
    {
      "cell_type": "markdown",
      "id": "ed305824",
      "metadata": {
        "id": "ed305824"
      },
      "source": [
        "<p class=\"task\" id=\"2\"></p>\n",
        "\n",
        "2\\. Используя PCA, уменьшите размерность загруженных эмбеддингов до 2. Визуализируйте на плоскости точки для слов \"кот\", \"кошка\", \"собака\", \"киса\", \"овчарка\", \"студент\", \"препод\". Добавьте для точек подписи.\n",
        "\n",
        "- [ ] Проверено на семинаре"
      ]
    },
    {
      "cell_type": "code",
      "source": [
        "from sklearn.decomposition import PCA\n",
        "import matplotlib.pyplot as plt"
      ],
      "metadata": {
        "id": "dbOsdM2AsJQ3"
      },
      "id": "dbOsdM2AsJQ3",
      "execution_count": 80,
      "outputs": []
    },
    {
      "cell_type": "code",
      "source": [
        "pca = PCA(n_components=2)\n",
        "pca.fit(embeddings_t)\n",
        "embeddings_t_2 = pca.transform(embeddings_t)\n",
        "embeddings_t_2"
      ],
      "metadata": {
        "colab": {
          "base_uri": "https://localhost:8080/"
        },
        "id": "UB8-CzKZsRTD",
        "outputId": "80acf5d8-1586-4679-e915-507810a9382a"
      },
      "id": "UB8-CzKZsRTD",
      "execution_count": 81,
      "outputs": [
        {
          "output_type": "execute_result",
          "data": {
            "text/plain": [
              "array([[ 0.05368402, -0.06162436],\n",
              "       [ 0.25408442, -0.07486543],\n",
              "       [ 0.31490063,  0.09017937],\n",
              "       ...,\n",
              "       [-0.25629815, -0.1782016 ],\n",
              "       [ 0.4814758 ,  0.25856829],\n",
              "       [-0.06907251, -0.37088888]])"
            ]
          },
          "metadata": {},
          "execution_count": 81
        }
      ]
    },
    {
      "cell_type": "code",
      "source": [
        "words = [\"кот\", \"кошка\", \"собака\", \"киса\", \"овчарка\", \"студент\", \"препод\"]\n",
        "indexes = [index[(w, 'NOUN')] for w in words]"
      ],
      "metadata": {
        "id": "i-L0sK_ItF6l"
      },
      "id": "i-L0sK_ItF6l",
      "execution_count": 92,
      "outputs": []
    },
    {
      "cell_type": "code",
      "source": [
        "fig, ax = plt.subplots()\n",
        "ax.scatter(embeddings_t_2[indexes][:,0], embeddings_t_2[indexes][:,1])\n",
        "\n",
        "#words = words[:4]\n",
        "for i, txt in enumerate(words):\n",
        "    ax.annotate(txt, (embeddings_t_2[indexes][i,0]-0.01, embeddings_t_2[indexes][i,1]+0.005))"
      ],
      "metadata": {
        "colab": {
          "base_uri": "https://localhost:8080/",
          "height": 430
        },
        "id": "ziN8Wu0XuAV6",
        "outputId": "20a2476f-8c8b-435d-d8a2-bc6185c4f053"
      },
      "id": "ziN8Wu0XuAV6",
      "execution_count": 104,
      "outputs": [
        {
          "output_type": "display_data",
          "data": {
            "text/plain": [
              "<Figure size 640x480 with 1 Axes>"
            ],
            "image/png": "[encoded data removed]"
          },
          "metadata": {}
        }
      ]
    },
    {
      "cell_type": "markdown",
      "id": "cea1d063",
      "metadata": {
        "id": "cea1d063"
      },
      "source": [
        "<p class=\"task\" id=\"3\"></p>\n",
        "\n",
        "3\\. Напишите функцию, которая для заданного слова `word` находит `k` ближайших слов в смысле евклидова расстояния между эмбеддингами. Продемонстрируйте работу функции на словах из предыдущего задания.\n",
        "\n",
        "- [ ] Проверено на семинаре"
      ]
    },
    {
      "cell_type": "code",
      "source": [
        "def k_sim(k, word):\n",
        "  emb = embeddings_t[index[word]]\n",
        "  dist = (embeddings_t - emb).pow(2).sum(dim=1)\n",
        "  k_sim_idx = th.argsort(dist)[:k+1]\n",
        "  return k_sim_idx, dist[k_sim_idx]"
      ],
      "metadata": {
        "id": "cZgUmMRq34rA"
      },
      "id": "cZgUmMRq34rA",
      "execution_count": 105,
      "outputs": []
    },
    {
      "cell_type": "code",
      "source": [
        "k = 2\n",
        "words = [\"кот\", \"кошка\", \"собака\", \"киса\", \"овчарка\", \"студент\", \"препод\"]\n",
        "\n",
        "for w in words:\n",
        "  idx_sim, similarity = k_sim(k, (w, 'NOUN'))\n",
        "  print(f'ближайшие слова для {w}')\n",
        "  for i in range(1,len(idx_sim)):\n",
        "    print(itow[idx_sim[i].item()], similarity[i].item())\n",
        "  print()"
      ],
      "metadata": {
        "colab": {
          "base_uri": "https://localhost:8080/"
        },
        "id": "o1GIvmX6vmy0",
        "outputId": "8192f3fa-5b02-44a7-f086-d23c9e8706f6"
      },
      "id": "o1GIvmX6vmy0",
      "execution_count": 110,
      "outputs": [
        {
          "output_type": "stream",
          "name": "stdout",
          "text": [
            "ближайшие слова для кот\n",
            "('кошка', 'NOUN') 0.4388558566570282\n",
            "('котенок', 'NOUN') 0.629873514175415\n",
            "\n",
            "ближайшие слова для кошка\n",
            "('кот', 'NOUN') 0.4388558566570282\n",
            "('собака', 'NOUN') 0.5831884145736694\n",
            "\n",
            "ближайшие слова для собака\n",
            "('пес', 'NOUN') 0.39075443148612976\n",
            "('кошка', 'NOUN') 0.5831884145736694\n",
            "\n",
            "ближайшие слова для киса\n",
            "('-ой', 'NOUN') 0.7401083111763\n",
            "('якши', 'PROPN') 0.7595261931419373\n",
            "\n",
            "ближайшие слова для овчарка\n",
            "('пес', 'NOUN') 0.5917913913726807\n",
            "('собака', 'NOUN') 0.5964013934135437\n",
            "\n",
            "ближайшие слова для студент\n",
            "('аспирант', 'NOUN') 0.5797818899154663\n",
            "('преподаватель', 'NOUN') 0.6348735690116882\n",
            "\n",
            "ближайшие слова для препод\n",
            "('иняз', 'NOUN') 0.876899242401123\n",
            "('дубенко', 'PROPN') 0.8883008360862732\n",
            "\n"
          ]
        }
      ]
    },
    {
      "cell_type": "markdown",
      "id": "084cf35c",
      "metadata": {
        "id": "084cf35c"
      },
      "source": [
        "<p class=\"task\" id=\"4\"></p>\n",
        "\n",
        "4\\. Создайте слой `nn.Embedding` на основе загруженных эмбеддингов. Для каждого слова из задания 2 найдите соотетствующий ему индекс. Используя найденные индексы, получите для каждого слова его векторное представление. Выведите форму полученного тензора.\n",
        "\n",
        "- [ ] Проверено на семинаре"
      ]
    },
    {
      "cell_type": "code",
      "source": [
        "import torch.nn as nn"
      ],
      "metadata": {
        "id": "wVfoorA91mUw"
      },
      "id": "wVfoorA91mUw",
      "execution_count": 76,
      "outputs": []
    },
    {
      "cell_type": "code",
      "source": [
        "n, d = embeddings_t.shape\n",
        "print(n,d)\n",
        "\n",
        "e = nn.Embedding.from_pretrained(embeddings_t)\n",
        "e"
      ],
      "metadata": {
        "colab": {
          "base_uri": "https://localhost:8080/"
        },
        "id": "cBL56Eo04fh7",
        "outputId": "6e2b911c-93ac-423a-af65-bf5225a51382"
      },
      "id": "cBL56Eo04fh7",
      "execution_count": 138,
      "outputs": [
        {
          "output_type": "stream",
          "name": "stdout",
          "text": [
            "195071 300\n"
          ]
        },
        {
          "output_type": "execute_result",
          "data": {
            "text/plain": [
              "Embedding(195071, 300)"
            ]
          },
          "metadata": {},
          "execution_count": 138
        }
      ]
    },
    {
      "cell_type": "code",
      "source": [
        "words = [\"кот\", \"кошка\", \"собака\", \"киса\", \"овчарка\", \"студент\", \"препод\"]\n",
        "indexes = [index[(w, 'NOUN')] for w in words]\n",
        "\n",
        "\n",
        "e(th.LongTensor(indexes)).shape"
      ],
      "metadata": {
        "colab": {
          "base_uri": "https://localhost:8080/"
        },
        "id": "DPDl8gf4496T",
        "outputId": "f16fc9f0-e170-455d-9752-7602210539bf"
      },
      "id": "DPDl8gf4496T",
      "execution_count": 139,
      "outputs": [
        {
          "output_type": "execute_result",
          "data": {
            "text/plain": [
              "torch.Size([7, 300])"
            ]
          },
          "metadata": {},
          "execution_count": 139
        }
      ]
    },
    {
      "cell_type": "code",
      "source": [
        "(e(th.LongTensor([1])) == embeddings_t[1]).all()"
      ],
      "metadata": {
        "colab": {
          "base_uri": "https://localhost:8080/"
        },
        "id": "Wq8o58SS8r2A",
        "outputId": "94b65f83-0713-4643-aa90-0708abd8295d"
      },
      "id": "Wq8o58SS8r2A",
      "execution_count": 144,
      "outputs": [
        {
          "output_type": "execute_result",
          "data": {
            "text/plain": [
              "tensor(True)"
            ]
          },
          "metadata": {},
          "execution_count": 144
        }
      ]
    },
    {
      "cell_type": "markdown",
      "id": "68543255",
      "metadata": {
        "id": "68543255"
      },
      "source": [
        "<p class=\"task\" id=\"5\"></p>\n",
        "\n",
        "5\\. Создайте новый вариант `nn.Embedding`, где для нулевого индекса возвращается тензор из нулей, а для первого индекса возвращается тензор из чисел $\\frac{1}{300}$. Выведите на экран размер количество эмбеддингов и эмбеддинги для индексов 0 и 1.\n",
        "\n",
        "- [ ] Проверено на семинаре"
      ]
    },
    {
      "cell_type": "code",
      "source": [
        "a = th.cat([th.zeros((1,300)), th.ones((1,300))/300, embeddings_t], dim=0)\n",
        "e5 = nn.Embedding.from_pretrained(a)\n",
        "e5"
      ],
      "metadata": {
        "colab": {
          "base_uri": "https://localhost:8080/"
        },
        "id": "ebuPcwep6u0i",
        "outputId": "18b8b9d2-643a-422b-b6bd-06aca9e8b4e4"
      },
      "id": "ebuPcwep6u0i",
      "execution_count": 171,
      "outputs": [
        {
          "output_type": "execute_result",
          "data": {
            "text/plain": [
              "Embedding(195073, 300)"
            ]
          },
          "metadata": {},
          "execution_count": 171
        }
      ]
    },
    {
      "cell_type": "code",
      "source": [
        "e5(th.LongTensor([0]))"
      ],
      "metadata": {
        "colab": {
          "base_uri": "https://localhost:8080/"
        },
        "id": "VFd_2je3-NOn",
        "outputId": "6d28800e-5dd7-49a3-dc41-a22cb8696aa4"
      },
      "id": "VFd_2je3-NOn",
      "execution_count": 175,
      "outputs": [
        {
          "output_type": "execute_result",
          "data": {
            "text/plain": [
              "tensor([[0., 0., 0., 0., 0., 0., 0., 0., 0., 0., 0., 0., 0., 0., 0., 0., 0., 0., 0., 0., 0., 0., 0., 0.,\n",
              "         0., 0., 0., 0., 0., 0., 0., 0., 0., 0., 0., 0., 0., 0., 0., 0., 0., 0., 0., 0., 0., 0., 0., 0.,\n",
              "         0., 0., 0., 0., 0., 0., 0., 0., 0., 0., 0., 0., 0., 0., 0., 0., 0., 0., 0., 0., 0., 0., 0., 0.,\n",
              "         0., 0., 0., 0., 0., 0., 0., 0., 0., 0., 0., 0., 0., 0., 0., 0., 0., 0., 0., 0., 0., 0., 0., 0.,\n",
              "         0., 0., 0., 0., 0., 0., 0., 0., 0., 0., 0., 0., 0., 0., 0., 0., 0., 0., 0., 0., 0., 0., 0., 0.,\n",
              "         0., 0., 0., 0., 0., 0., 0., 0., 0., 0., 0., 0., 0., 0., 0., 0., 0., 0., 0., 0., 0., 0., 0., 0.,\n",
              "         0., 0., 0., 0., 0., 0., 0., 0., 0., 0., 0., 0., 0., 0., 0., 0., 0., 0., 0., 0., 0., 0., 0., 0.,\n",
              "         0., 0., 0., 0., 0., 0., 0., 0., 0., 0., 0., 0., 0., 0., 0., 0., 0., 0., 0., 0., 0., 0., 0., 0.,\n",
              "         0., 0., 0., 0., 0., 0., 0., 0., 0., 0., 0., 0., 0., 0., 0., 0., 0., 0., 0., 0., 0., 0., 0., 0.,\n",
              "         0., 0., 0., 0., 0., 0., 0., 0., 0., 0., 0., 0., 0., 0., 0., 0., 0., 0., 0., 0., 0., 0., 0., 0.,\n",
              "         0., 0., 0., 0., 0., 0., 0., 0., 0., 0., 0., 0., 0., 0., 0., 0., 0., 0., 0., 0., 0., 0., 0., 0.,\n",
              "         0., 0., 0., 0., 0., 0., 0., 0., 0., 0., 0., 0., 0., 0., 0., 0., 0., 0., 0., 0., 0., 0., 0., 0.,\n",
              "         0., 0., 0., 0., 0., 0., 0., 0., 0., 0., 0., 0.]])"
            ]
          },
          "metadata": {},
          "execution_count": 175
        }
      ]
    },
    {
      "cell_type": "code",
      "source": [
        "e5(th.LongTensor([1]))"
      ],
      "metadata": {
        "colab": {
          "base_uri": "https://localhost:8080/"
        },
        "id": "3r5SKjHK-SCj",
        "outputId": "9aa4d430-0752-462e-a16d-2ce94b71f367"
      },
      "id": "3r5SKjHK-SCj",
      "execution_count": 173,
      "outputs": [
        {
          "output_type": "execute_result",
          "data": {
            "text/plain": [
              "tensor([[0.0033, 0.0033, 0.0033, 0.0033, 0.0033, 0.0033, 0.0033, 0.0033, 0.0033,\n",
              "         0.0033, 0.0033, 0.0033, 0.0033, 0.0033, 0.0033, 0.0033, 0.0033, 0.0033,\n",
              "         0.0033, 0.0033, 0.0033, 0.0033, 0.0033, 0.0033, 0.0033, 0.0033, 0.0033,\n",
              "         0.0033, 0.0033, 0.0033, 0.0033, 0.0033, 0.0033, 0.0033, 0.0033, 0.0033,\n",
              "         0.0033, 0.0033, 0.0033, 0.0033, 0.0033, 0.0033, 0.0033, 0.0033, 0.0033,\n",
              "         0.0033, 0.0033, 0.0033, 0.0033, 0.0033, 0.0033, 0.0033, 0.0033, 0.0033,\n",
              "         0.0033, 0.0033, 0.0033, 0.0033, 0.0033, 0.0033, 0.0033, 0.0033, 0.0033,\n",
              "         0.0033, 0.0033, 0.0033, 0.0033, 0.0033, 0.0033, 0.0033, 0.0033, 0.0033,\n",
              "         0.0033, 0.0033, 0.0033, 0.0033, 0.0033, 0.0033, 0.0033, 0.0033, 0.0033,\n",
              "         0.0033, 0.0033, 0.0033, 0.0033, 0.0033, 0.0033, 0.0033, 0.0033, 0.0033,\n",
              "         0.0033, 0.0033, 0.0033, 0.0033, 0.0033, 0.0033, 0.0033, 0.0033, 0.0033,\n",
              "         0.0033, 0.0033, 0.0033, 0.0033, 0.0033, 0.0033, 0.0033, 0.0033, 0.0033,\n",
              "         0.0033, 0.0033, 0.0033, 0.0033, 0.0033, 0.0033, 0.0033, 0.0033, 0.0033,\n",
              "         0.0033, 0.0033, 0.0033, 0.0033, 0.0033, 0.0033, 0.0033, 0.0033, 0.0033,\n",
              "         0.0033, 0.0033, 0.0033, 0.0033, 0.0033, 0.0033, 0.0033, 0.0033, 0.0033,\n",
              "         0.0033, 0.0033, 0.0033, 0.0033, 0.0033, 0.0033, 0.0033, 0.0033, 0.0033,\n",
              "         0.0033, 0.0033, 0.0033, 0.0033, 0.0033, 0.0033, 0.0033, 0.0033, 0.0033,\n",
              "         0.0033, 0.0033, 0.0033, 0.0033, 0.0033, 0.0033, 0.0033, 0.0033, 0.0033,\n",
              "         0.0033, 0.0033, 0.0033, 0.0033, 0.0033, 0.0033, 0.0033, 0.0033, 0.0033,\n",
              "         0.0033, 0.0033, 0.0033, 0.0033, 0.0033, 0.0033, 0.0033, 0.0033, 0.0033,\n",
              "         0.0033, 0.0033, 0.0033, 0.0033, 0.0033, 0.0033, 0.0033, 0.0033, 0.0033,\n",
              "         0.0033, 0.0033, 0.0033, 0.0033, 0.0033, 0.0033, 0.0033, 0.0033, 0.0033,\n",
              "         0.0033, 0.0033, 0.0033, 0.0033, 0.0033, 0.0033, 0.0033, 0.0033, 0.0033,\n",
              "         0.0033, 0.0033, 0.0033, 0.0033, 0.0033, 0.0033, 0.0033, 0.0033, 0.0033,\n",
              "         0.0033, 0.0033, 0.0033, 0.0033, 0.0033, 0.0033, 0.0033, 0.0033, 0.0033,\n",
              "         0.0033, 0.0033, 0.0033, 0.0033, 0.0033, 0.0033, 0.0033, 0.0033, 0.0033,\n",
              "         0.0033, 0.0033, 0.0033, 0.0033, 0.0033, 0.0033, 0.0033, 0.0033, 0.0033,\n",
              "         0.0033, 0.0033, 0.0033, 0.0033, 0.0033, 0.0033, 0.0033, 0.0033, 0.0033,\n",
              "         0.0033, 0.0033, 0.0033, 0.0033, 0.0033, 0.0033, 0.0033, 0.0033, 0.0033,\n",
              "         0.0033, 0.0033, 0.0033, 0.0033, 0.0033, 0.0033, 0.0033, 0.0033, 0.0033,\n",
              "         0.0033, 0.0033, 0.0033, 0.0033, 0.0033, 0.0033, 0.0033, 0.0033, 0.0033,\n",
              "         0.0033, 0.0033, 0.0033, 0.0033, 0.0033, 0.0033, 0.0033, 0.0033, 0.0033,\n",
              "         0.0033, 0.0033, 0.0033, 0.0033, 0.0033, 0.0033, 0.0033, 0.0033, 0.0033,\n",
              "         0.0033, 0.0033, 0.0033]])"
            ]
          },
          "metadata": {},
          "execution_count": 173
        }
      ]
    },
    {
      "cell_type": "markdown",
      "id": "f895720c",
      "metadata": {
        "id": "f895720c"
      },
      "source": [
        "<p class=\"task\" id=\"6\"></p>\n",
        "\n",
        "6\\. Для каждого слова в каждом предложении батча получите его индекс. При поиске индекса слова приводите слово к нормальной форме. Части речи для простоты можно не учитывать. В случае отсутствия слова в словаре используйте индекс 1. Дополните все наборы индексов до одного размера индексом 0. Используя найденные индексы, получите для каждого слова в каждом предложении его векторное представление. Выведите форму полученного тензора.\n",
        "\n",
        "Получите векторное представление каждого предложения путем усреднения эмбеддингов слов этого предложения. Выведите форму результата на экран.\n",
        "\n",
        "- [ ] Проверено на семинаре"
      ]
    },
    {
      "cell_type": "code",
      "source": [
        "#!pip install pymorphy2"
      ],
      "metadata": {
        "id": "Dl9PkVjFCBQg"
      },
      "id": "Dl9PkVjFCBQg",
      "execution_count": null,
      "outputs": []
    },
    {
      "cell_type": "code",
      "source": [
        "import pymorphy2\n",
        "from nltk import word_tokenize\n",
        "import nltk\n",
        "\n",
        "nltk.download(\"punkt\")"
      ],
      "metadata": {
        "colab": {
          "base_uri": "https://localhost:8080/"
        },
        "id": "UVGT9em-Bg-M",
        "outputId": "f4cb6e1a-d90b-48c1-fc8c-3a3a88edcf5b"
      },
      "id": "UVGT9em-Bg-M",
      "execution_count": 182,
      "outputs": [
        {
          "output_type": "stream",
          "name": "stderr",
          "text": [
            "[nltk_data] Downloading package punkt to /root/nltk_data...\n",
            "[nltk_data]   Package punkt is already up-to-date!\n"
          ]
        },
        {
          "output_type": "execute_result",
          "data": {
            "text/plain": [
              "True"
            ]
          },
          "metadata": {},
          "execution_count": 182
        }
      ]
    },
    {
      "cell_type": "code",
      "execution_count": 202,
      "id": "2a6cf588",
      "metadata": {
        "id": "2a6cf588",
        "colab": {
          "base_uri": "https://localhost:8080/"
        },
        "outputId": "6a783458-5fb5-4d03-cb02-cd772c89edf3"
      },
      "outputs": [
        {
          "output_type": "execute_result",
          "data": {
            "text/plain": [
              "[['робот',\n",
              "  'пылесос',\n",
              "  'только',\n",
              "  'что',\n",
              "  'опередить',\n",
              "  'я',\n",
              "  'и',\n",
              "  'сожрать',\n",
              "  'попкорнин',\n",
              "  'который',\n",
              "  'я',\n",
              "  'хотеть',\n",
              "  'поднять'],\n",
              " ['я', 'приходить', 'к', 'хирург', 'он', 'я', 'предложить', 'отрезать', 'ухо']]"
            ]
          },
          "metadata": {},
          "execution_count": 202
        }
      ],
      "source": [
        "sents = [\n",
        "    \"робот пылесос только что опередил меня и сожрал попкорнину которую я хотел поднять\",\n",
        "    \"я приходил к хирургу он мне предложил отрезать ухо\"\n",
        "]\n",
        "\n",
        "morph = pymorphy2.MorphAnalyzer()\n",
        "\n",
        "sents_to_tokens = [\n",
        "    #[(morph.parse(w)[0].normal_form, morph.parse(w)[0].tag.POS) for w in word_tokenize(text.lower())]\n",
        "    [morph.parse(w)[0].normal_form for w in word_tokenize(text.lower())]\n",
        "    for text in sents\n",
        "]\n",
        "sents_to_tokens"
      ]
    },
    {
      "cell_type": "code",
      "source": [
        "def find_idx_by_word(word):\n",
        "  for k in index:\n",
        "    if word in k:\n",
        "      return index[k]\n",
        "  return 1"
      ],
      "metadata": {
        "id": "O2_gfTawEklW"
      },
      "id": "O2_gfTawEklW",
      "execution_count": 203,
      "outputs": []
    },
    {
      "cell_type": "code",
      "source": [
        "sent_idxs = [[find_idx_by_word(w) for w in sent] for sent in sents_to_tokens]\n",
        "mx_len = len(sent_idxs[0])\n",
        "sent_idxs[1].extend([0]*(mx_len-len(sent_idxs[1])))\n",
        "sent_idxs"
      ],
      "metadata": {
        "colab": {
          "base_uri": "https://localhost:8080/"
        },
        "id": "vs2MyHziEWX-",
        "outputId": "31db0d5d-3ddc-4ed3-d65e-4ec35ee926e7"
      },
      "id": "vs2MyHziEWX-",
      "execution_count": 211,
      "outputs": [
        {
          "output_type": "execute_result",
          "data": {
            "text/plain": [
              "[[8121, 18358, 1, 1, 20369, 77780, 1, 18827, 1, 1, 77780, 29, 5658],\n",
              " [77780, 47, 1, 5941, 1, 77780, 10397, 3653, 584, 0, 0, 0, 0]]"
            ]
          },
          "metadata": {},
          "execution_count": 211
        }
      ]
    },
    {
      "cell_type": "code",
      "source": [
        "emb_sent_word = e5(th.LongTensor(sent_idxs))\n",
        "emb_sent_word[:,:5]"
      ],
      "metadata": {
        "colab": {
          "base_uri": "https://localhost:8080/"
        },
        "id": "DX0v3JXtFKo-",
        "outputId": "5260657f-c369-428f-8e02-14300c31b304"
      },
      "id": "DX0v3JXtFKo-",
      "execution_count": 219,
      "outputs": [
        {
          "output_type": "execute_result",
          "data": {
            "text/plain": [
              "tensor([[[ 0.0509, -0.0621,  0.0309,  ...,  0.0714,  0.1030,  0.0879],\n",
              "         [-0.0204,  0.0529,  0.0057,  ..., -0.0069,  0.0785,  0.0230],\n",
              "         [ 0.0033,  0.0033,  0.0033,  ...,  0.0033,  0.0033,  0.0033],\n",
              "         [ 0.0033,  0.0033,  0.0033,  ...,  0.0033,  0.0033,  0.0033],\n",
              "         [-0.0050, -0.1003,  0.1158,  ..., -0.0282,  0.0416,  0.0247]],\n",
              "\n",
              "        [[ 0.0551, -0.0024, -0.0474,  ...,  0.1245,  0.1254, -0.0545],\n",
              "         [-0.0297, -0.0360, -0.0078,  ..., -0.0665,  0.0334,  0.0239],\n",
              "         [ 0.0033,  0.0033,  0.0033,  ...,  0.0033,  0.0033,  0.0033],\n",
              "         [-0.0949, -0.0987,  0.0579,  ..., -0.1376, -0.0365, -0.0289],\n",
              "         [ 0.0033,  0.0033,  0.0033,  ...,  0.0033,  0.0033,  0.0033]]])"
            ]
          },
          "metadata": {},
          "execution_count": 219
        }
      ]
    },
    {
      "cell_type": "code",
      "source": [
        "# форма полученного тензора\n",
        "emb_sent_word.shape"
      ],
      "metadata": {
        "colab": {
          "base_uri": "https://localhost:8080/"
        },
        "id": "iNVQyVKOMF8W",
        "outputId": "43952552-01f7-4030-fa55-1ccffa149b63"
      },
      "id": "iNVQyVKOMF8W",
      "execution_count": 223,
      "outputs": [
        {
          "output_type": "execute_result",
          "data": {
            "text/plain": [
              "torch.Size([2, 13, 300])"
            ]
          },
          "metadata": {},
          "execution_count": 223
        }
      ]
    },
    {
      "cell_type": "code",
      "source": [
        "emb_sent = emb_sent_word.mean(dim=1)\n",
        "emb_sent.shape"
      ],
      "metadata": {
        "colab": {
          "base_uri": "https://localhost:8080/"
        },
        "id": "2CvYWJ0kJ9WJ",
        "outputId": "14096347-ce64-416e-acfb-72eb32aad64e"
      },
      "id": "2CvYWJ0kJ9WJ",
      "execution_count": 224,
      "outputs": [
        {
          "output_type": "execute_result",
          "data": {
            "text/plain": [
              "torch.Size([2, 300])"
            ]
          },
          "metadata": {},
          "execution_count": 224
        }
      ]
    },
    {
      "cell_type": "markdown",
      "id": "8bf1a60c",
      "metadata": {
        "id": "8bf1a60c"
      },
      "source": [
        "<p class=\"task\" id=\"7\"></p>\n",
        "\n",
        "7\\. Загрузите модель [navec_hudlit_v1_12B_500K_300d_100q.tar](https://storage.yandexcloud.net/natasha-navec/packs/navec_hudlit_v1_12B_500K_300d_100q.tar) с помощью пакета `navec`. Для каждого слова в каждом предложении батча получите его индекс. При поиске индекса слова приводите слово к нормальной форме. В случае отсутствия слова в словаре используйте индекс токена `<unk>`. Дополните все наборы индексов до одного размера индексом токена `<pad>`. Используя найденные индексы, получите для каждого слова в каждом предложении его векторное представление.  Выведите форму полученного тензора.\n",
        "\n",
        "- [ ] Проверено на семинаре"
      ]
    },
    {
      "cell_type": "code",
      "source": [
        "#!pip install navec"
      ],
      "metadata": {
        "id": "VE83FtfbOree"
      },
      "id": "VE83FtfbOree",
      "execution_count": null,
      "outputs": []
    },
    {
      "cell_type": "code",
      "source": [
        "from navec import Navec\n",
        "\n",
        "path = 'navec_hudlit_v1_12B_500K_300d_100q.tar'\n",
        "navec = Navec.load(path)"
      ],
      "metadata": {
        "id": "BeDkALrqQDbh"
      },
      "id": "BeDkALrqQDbh",
      "execution_count": 229,
      "outputs": []
    },
    {
      "cell_type": "code",
      "execution_count": 230,
      "id": "29ff2290",
      "metadata": {
        "id": "29ff2290",
        "colab": {
          "base_uri": "https://localhost:8080/"
        },
        "outputId": "3903a2e6-b4fc-4402-c980-67ed3ca0852b"
      },
      "outputs": [
        {
          "output_type": "execute_result",
          "data": {
            "text/plain": [
              "[['робот',\n",
              "  'пылесос',\n",
              "  'только',\n",
              "  'что',\n",
              "  'опередить',\n",
              "  'я',\n",
              "  'и',\n",
              "  'сожрать',\n",
              "  'попкорнин',\n",
              "  'который',\n",
              "  'я',\n",
              "  'хотеть',\n",
              "  'поднять'],\n",
              " ['я', 'приходить', 'к', 'хирург', 'он', 'я', 'предложить', 'отрезать', 'ухо']]"
            ]
          },
          "metadata": {},
          "execution_count": 230
        }
      ],
      "source": [
        "sents = [\n",
        "    \"робот пылесос только что опередил меня и сожрал попкорнину которую я хотел поднять\",\n",
        "    \"я приходил к хирургу он мне предложил отрезать ухо\"\n",
        "]\n",
        "\n",
        "morph = pymorphy2.MorphAnalyzer()\n",
        "\n",
        "sents_to_tokens = [\n",
        "    [morph.parse(w)[0].normal_form for w in word_tokenize(text.lower())]\n",
        "    for text in sents\n",
        "]\n",
        "sents_to_tokens"
      ]
    },
    {
      "cell_type": "code",
      "source": [
        "sent_idxs = [[navec.vocab.get(w, navec.vocab.unk_id) for w in sent] for sent in sents_to_tokens]\n",
        "mx_len = len(sent_idxs[0])\n",
        "sent_idxs[1].extend([navec.vocab.pad_id]*(mx_len-len(sent_idxs[1])))\n",
        "sent_idxs"
      ],
      "metadata": {
        "colab": {
          "base_uri": "https://localhost:8080/"
        },
        "outputId": "c79beb1a-beb8-480c-fef8-1700e951b891",
        "id": "uTu73VqcQkyl"
      },
      "execution_count": 231,
      "outputs": [
        {
          "output_type": "execute_result",
          "data": {
            "text/plain": [
              "[[378109,\n",
              "  357295,\n",
              "  436756,\n",
              "  482066,\n",
              "  267912,\n",
              "  497765,\n",
              "  146473,\n",
              "  408788,\n",
              "  500000,\n",
              "  182773,\n",
              "  497765,\n",
              "  473233,\n",
              "  309105],\n",
              " [497765,\n",
              "  342851,\n",
              "  160196,\n",
              "  470904,\n",
              "  267308,\n",
              "  497765,\n",
              "  330993,\n",
              "  280341,\n",
              "  459125,\n",
              "  500001,\n",
              "  500001,\n",
              "  500001,\n",
              "  500001]]"
            ]
          },
          "metadata": {},
          "execution_count": 231
        }
      ],
      "id": "uTu73VqcQkyl"
    },
    {
      "cell_type": "code",
      "source": [
        "#!pip install slovnet"
      ],
      "metadata": {
        "id": "7z5x84pYSQF5"
      },
      "id": "7z5x84pYSQF5",
      "execution_count": null,
      "outputs": []
    },
    {
      "cell_type": "code",
      "source": [
        "from slovnet.model.emb import NavecEmbedding"
      ],
      "metadata": {
        "id": "atTOs3fvP6Ey"
      },
      "id": "atTOs3fvP6Ey",
      "execution_count": 234,
      "outputs": []
    },
    {
      "cell_type": "code",
      "source": [
        "emb = NavecEmbedding(navec)\n",
        "input = th.tensor(sent_idxs)\n",
        "output = emb(input)\n",
        "\n",
        "output[:,:5]"
      ],
      "metadata": {
        "colab": {
          "base_uri": "https://localhost:8080/"
        },
        "id": "aeq4DGGKSZ1z",
        "outputId": "cf9fc9e8-8c9e-4a4e-9555-d6bb9325af74"
      },
      "id": "aeq4DGGKSZ1z",
      "execution_count": 237,
      "outputs": [
        {
          "output_type": "execute_result",
          "data": {
            "text/plain": [
              "tensor([[[ 0.0482, -0.2004,  0.0586,  ..., -0.0513,  0.1501, -0.0794],\n",
              "         [ 0.1271, -0.3411,  0.2109,  ..., -0.3036, -0.0216, -0.1722],\n",
              "         [ 0.1864, -0.2708, -0.3037,  ..., -0.3365, -0.1798,  0.2134],\n",
              "         [-0.2598, -0.1137, -0.1642,  ..., -0.2754,  0.0252,  0.3528],\n",
              "         [-0.3389,  0.0122,  0.1750,  ...,  0.3387, -0.1046, -0.0112]],\n",
              "\n",
              "        [[-0.3499, -0.3076, -0.2750,  ..., -0.5250,  0.1350,  0.2226],\n",
              "         [ 0.3243, -0.4076,  0.0372,  ..., -0.1711, -0.6538,  0.2975],\n",
              "         [-0.5378, -0.6289, -0.3964,  ...,  0.3389,  0.0566, -0.0853],\n",
              "         [-0.3632,  0.3156,  0.4119,  ..., -0.2830,  0.0795, -0.3353],\n",
              "         [-0.5378, -0.6289, -0.3964,  ..., -0.2799, -0.1566, -0.0046]]])"
            ]
          },
          "metadata": {},
          "execution_count": 237
        }
      ]
    },
    {
      "cell_type": "code",
      "source": [
        "output.shape"
      ],
      "metadata": {
        "colab": {
          "base_uri": "https://localhost:8080/"
        },
        "id": "uBRzIXFsSpqd",
        "outputId": "1677040c-78da-4d85-ea7b-9eac9216ae79"
      },
      "id": "uBRzIXFsSpqd",
      "execution_count": 238,
      "outputs": [
        {
          "output_type": "execute_result",
          "data": {
            "text/plain": [
              "torch.Size([2, 13, 300])"
            ]
          },
          "metadata": {},
          "execution_count": 238
        }
      ]
    },
    {
      "cell_type": "markdown",
      "id": "66caa919",
      "metadata": {
        "id": "66caa919"
      },
      "source": [
        "## Обратная связь\n",
        "- [ ] Хочу получить обратную связь по решению"
      ]
    }
  ],
  "metadata": {
    "kernelspec": {
      "display_name": "Python 3 (ipykernel)",
      "language": "python",
      "name": "python3"
    },
    "language_info": {
      "codemirror_mode": {
        "name": "ipython",
        "version": 3
      },
      "file_extension": ".py",
      "mimetype": "text/x-python",
      "name": "python",
      "nbconvert_exporter": "python",
      "pygments_lexer": "ipython3",
      "version": "3.10.10"
    },
    "colab": {
      "provenance": []
    }
  },
  "nbformat": 4,
  "nbformat_minor": 5
}
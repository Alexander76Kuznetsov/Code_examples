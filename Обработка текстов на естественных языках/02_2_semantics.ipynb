{
  "cells": [
    {
      "cell_type": "markdown",
      "id": "334530cd",
      "metadata": {
        "id": "334530cd"
      },
      "source": [
        "# Компьютерная семантика\n",
        "\n",
        "__Автор задач: Блохин Н.В. (NVBlokhin@fa.ru)__\n",
        "\n",
        "Материалы:\n",
        "* https://www.nltk.org/howto/wordnet.html\n",
        "* https://ruwordnet.ru/ru\n",
        "* https://habr.com/ru/companies/unistar_digital/articles/687148/\n",
        "* https://www.scaler.com/topics/nlp/wordnet-in-nlp/"
      ]
    },
    {
      "cell_type": "markdown",
      "id": "afcdb9cf",
      "metadata": {
        "id": "afcdb9cf"
      },
      "source": [
        "## Задачи для совместного разбора"
      ]
    },
    {
      "cell_type": "markdown",
      "id": "c05553c9",
      "metadata": {
        "id": "c05553c9"
      },
      "source": [
        "1\\. Дано описание классов `Sence` и `Synset`. Создайте объект `Synset` на основе файлов из `data/rwn`."
      ]
    },
    {
      "cell_type": "code",
      "execution_count": 1,
      "id": "5b1c62b1",
      "metadata": {
        "id": "5b1c62b1"
      },
      "outputs": [],
      "source": [
        "from dataclasses import dataclass, field\n",
        "\n",
        "@dataclass\n",
        "class Sense:\n",
        "    id: str\n",
        "    name: str\n",
        "    lemma: str\n",
        "    main_word: str\n",
        "    synt_type: str\n",
        "    poses: str\n",
        "    synset_id: str\n",
        "    meaning: str\n",
        "\n",
        "@dataclass\n",
        "class Synset:\n",
        "    id: str\n",
        "    ruthes_name: str\n",
        "    definition: str\n",
        "    part_of_speech: str\n",
        "    senses: list[Sense] = field(default_factory=list)\n",
        "    hyponyms: list[\"Synset\"] = field(default_factory=list, repr=False)\n",
        "    hypernyms: list[\"Synset\"] = field(default_factory=list, repr=False)"
      ]
    },
    {
      "cell_type": "code",
      "source": [
        "from bs4 import BeautifulSoup"
      ],
      "metadata": {
        "id": "tIKHkUx2Vmam"
      },
      "id": "tIKHkUx2Vmam",
      "execution_count": 2,
      "outputs": []
    },
    {
      "cell_type": "code",
      "source": [
        "with open(\"./synsets.N.xml\", \"r\", encoding=\"utf8\") as fp:\n",
        "  synsets_bs = BeautifulSoup(fp)"
      ],
      "metadata": {
        "id": "SCHCCCJqVwGm"
      },
      "id": "SCHCCCJqVwGm",
      "execution_count": 17,
      "outputs": []
    },
    {
      "cell_type": "code",
      "source": [
        "example_synset = synsets_bs.find(\"synset\")\n",
        "example_synset"
      ],
      "metadata": {
        "colab": {
          "base_uri": "https://localhost:8080/"
        },
        "id": "FvJTCg_pVwB2",
        "outputId": "72aed943-7415-41f1-ebc9-c598a7eb0c80"
      },
      "id": "FvJTCg_pVwB2",
      "execution_count": 18,
      "outputs": [
        {
          "output_type": "execute_result",
          "data": {
            "text/plain": [
              "<synset definition=\"\" id=\"N12658\" part_of_speech=\"N\" ruthes_name=\"КОДИРОВАНИЕ ОТ ЗАВИСИМОСТИ\">\n",
              "<sense id=\"115643\">МЕДИЦИНСКИЙ КОДИРОВАНИЕ</sense>\n",
              "<sense id=\"115640\">КОДИРОВАНИЕ</sense>\n",
              "<sense id=\"115641\">КОДИРОВАНИЕ ОТ ЗАВИСИМОСТЬ</sense>\n",
              "<sense id=\"115642\">КОДИРОВАНИЕ ЗАВИСИМОСТЬ</sense>\n",
              "</synset>"
            ]
          },
          "metadata": {},
          "execution_count": 18
        }
      ]
    },
    {
      "cell_type": "code",
      "source": [
        "example_synset.attrs"
      ],
      "metadata": {
        "colab": {
          "base_uri": "https://localhost:8080/"
        },
        "id": "90U9w5RfWW5_",
        "outputId": "1632a813-7bce-4434-afa9-28909ea4e9fc"
      },
      "id": "90U9w5RfWW5_",
      "execution_count": 5,
      "outputs": [
        {
          "output_type": "execute_result",
          "data": {
            "text/plain": [
              "{'id': 'N12658',\n",
              " 'ruthes_name': 'КОДИРОВАНИЕ ОТ ЗАВИСИМОСТИ',\n",
              " 'definition': '',\n",
              " 'part_of_speech': 'N'}"
            ]
          },
          "metadata": {},
          "execution_count": 5
        }
      ]
    },
    {
      "cell_type": "code",
      "source": [
        "synset = Synset(**example_synset.attrs)\n",
        "synset"
      ],
      "metadata": {
        "colab": {
          "base_uri": "https://localhost:8080/"
        },
        "id": "V1HjpajMWeYP",
        "outputId": "229bbde7-02ae-48d5-95f3-9eae27e540e6"
      },
      "id": "V1HjpajMWeYP",
      "execution_count": 7,
      "outputs": [
        {
          "output_type": "execute_result",
          "data": {
            "text/plain": [
              "Synset(id='N12658', ruthes_name='КОДИРОВАНИЕ ОТ ЗАВИСИМОСТИ', definition='', part_of_speech='N', senses=[])"
            ]
          },
          "metadata": {},
          "execution_count": 7
        }
      ]
    },
    {
      "cell_type": "code",
      "source": [
        "synset.id"
      ],
      "metadata": {
        "colab": {
          "base_uri": "https://localhost:8080/",
          "height": 36
        },
        "id": "s1wO56ZuWky-",
        "outputId": "58a8b584-efc7-42ad-8a94-7420815562c5"
      },
      "id": "s1wO56ZuWky-",
      "execution_count": 8,
      "outputs": [
        {
          "output_type": "execute_result",
          "data": {
            "text/plain": [
              "'N12658'"
            ],
            "application/vnd.google.colaboratory.intrinsic+json": {
              "type": "string"
            }
          },
          "metadata": {},
          "execution_count": 8
        }
      ]
    },
    {
      "cell_type": "code",
      "source": [
        "with open(\"./senses.N.xml\", \"r\", encoding=\"utf8\") as fp:\n",
        "  senses_bs = BeautifulSoup(fp)"
      ],
      "metadata": {
        "id": "_ePfzPRJW9Af"
      },
      "id": "_ePfzPRJW9Af",
      "execution_count": 81,
      "outputs": []
    },
    {
      "cell_type": "code",
      "source": [
        "for sense in senses_bs.find_all(\"sense\", synset_id=synset.id):\n",
        "  print(sense)\n",
        "  break"
      ],
      "metadata": {
        "colab": {
          "base_uri": "https://localhost:8080/"
        },
        "id": "MMjaYoJOavwg",
        "outputId": "d4acd1d3-5e50-40c0-8940-789899162989"
      },
      "id": "MMjaYoJOavwg",
      "execution_count": 82,
      "outputs": [
        {
          "output_type": "stream",
          "name": "stdout",
          "text": [
            "<sense id=\"115643\" lemma=\"МЕДИЦИНСКИЙ КОДИРОВАНИЕ\" main_word=\"КОДИРОВАНИЕ\" meaning=\"1\" name=\"МЕДИЦИНСКОЕ КОДИРОВАНИЕ\" poses=\"Adj N\" synset_id=\"N12658\" synt_type=\"NG\"></sense>\n"
          ]
        }
      ]
    },
    {
      "cell_type": "code",
      "source": [
        "senses_list = [\n",
        "    Sense(**sense.attrs)\n",
        "    for sense in senses_bs.find_all(\"sense\", synset_id=synset.id)\n",
        "]\n",
        "synset.senses = senses_list"
      ],
      "metadata": {
        "id": "IDfmzFoLXAXn"
      },
      "id": "IDfmzFoLXAXn",
      "execution_count": null,
      "outputs": []
    },
    {
      "cell_type": "code",
      "source": [
        "synset"
      ],
      "metadata": {
        "colab": {
          "base_uri": "https://localhost:8080/"
        },
        "id": "Pe5PKHTLXXGB",
        "outputId": "171623fc-3731-46b3-dc4b-34d4d6833fac"
      },
      "id": "Pe5PKHTLXXGB",
      "execution_count": null,
      "outputs": [
        {
          "output_type": "execute_result",
          "data": {
            "text/plain": [
              "Synset(id='N12658', ruthes_name='КОДИРОВАНИЕ ОТ ЗАВИСИМОСТИ', definition='', part_of_speech='N', senses=[Sense(id='115643', name='МЕДИЦИНСКОЕ КОДИРОВАНИЕ', lemma='МЕДИЦИНСКИЙ КОДИРОВАНИЕ', main_word='КОДИРОВАНИЕ', synt_type='NG', poses='Adj N', synset_id='N12658', meaning='1'), Sense(id='115640', name='КОДИРОВАНИЕ', lemma='КОДИРОВАНИЕ', main_word='', synt_type='N', poses='', synset_id='N12658', meaning='3'), Sense(id='115641', name='КОДИРОВАНИЕ ОТ ЗАВИСИМОСТИ', lemma='КОДИРОВАНИЕ ОТ ЗАВИСИМОСТЬ', main_word='КОДИРОВАНИЕ', synt_type='NG', poses='N Prep N', synset_id='N12658', meaning='1'), Sense(id='115642', name='КОДИРОВАНИЕ ЗАВИСИМОСТИ', lemma='КОДИРОВАНИЕ ЗАВИСИМОСТЬ', main_word='КОДИРОВАНИЕ', synt_type='NG', poses='N N', synset_id='N12658', meaning='1')])"
            ]
          },
          "metadata": {},
          "execution_count": 11
        }
      ]
    },
    {
      "cell_type": "markdown",
      "id": "610d0f40",
      "metadata": {
        "id": "610d0f40"
      },
      "source": [
        "## Задачи для самостоятельного решения"
      ]
    },
    {
      "cell_type": "markdown",
      "id": "c13ab336",
      "metadata": {
        "id": "c13ab336"
      },
      "source": [
        "<p class=\"task\" id=\"1\"></p>\n",
        "\n",
        "1\\. На основе файлов `rwn/synsets.A.xml`, `rwn/synsets.N.xml` и `rwn/synsets.V.xml` создайте словарь `synsets`, где ключом является ID синсета, а значением - объекта класса `Synset`. Поля `senses`, `hyponyms`, `hypernyms` оставьте со значениями по умолчанию. Выведите количество объектов в полученном словаре на экран.\n",
        "\n",
        "- [ ] Проверено на семинаре"
      ]
    },
    {
      "cell_type": "code",
      "source": [
        "with open(\"./synsets.A.xml\", \"r\", encoding=\"utf8\") as fp:\n",
        "  synsets_bsA = BeautifulSoup(fp)\n",
        "\n",
        "with open(\"./synsets.N.xml\", \"r\", encoding=\"utf8\") as fp:\n",
        "  synsets_bsN = BeautifulSoup(fp)\n",
        "\n",
        "with open(\"./synsets.V.xml\", \"r\", encoding=\"utf8\") as fp:\n",
        "  synsets_bsV = BeautifulSoup(fp)"
      ],
      "metadata": {
        "id": "aZbuB8UGbPRs"
      },
      "id": "aZbuB8UGbPRs",
      "execution_count": 188,
      "outputs": []
    },
    {
      "cell_type": "code",
      "source": [
        "synsets = {}\n",
        "\n",
        "for file in [synsets_bsA, synsets_bsN, synsets_bsV]:\n",
        "  for i in file.find_all('synset'):\n",
        "    attrs = i.attrs\n",
        "    synsets[attrs['id']] = Synset(**attrs)"
      ],
      "metadata": {
        "id": "XAVe8r0-bTyw"
      },
      "id": "XAVe8r0-bTyw",
      "execution_count": 189,
      "outputs": []
    },
    {
      "cell_type": "code",
      "source": [
        "len(synsets)"
      ],
      "metadata": {
        "colab": {
          "base_uri": "https://localhost:8080/"
        },
        "id": "pbBri5FWbxJh",
        "outputId": "8b4700e7-b394-4feb-ffc8-f2627fef6617"
      },
      "id": "pbBri5FWbxJh",
      "execution_count": 190,
      "outputs": [
        {
          "output_type": "execute_result",
          "data": {
            "text/plain": [
              "49492"
            ]
          },
          "metadata": {},
          "execution_count": 190
        }
      ]
    },
    {
      "cell_type": "markdown",
      "id": "a9a857c6",
      "metadata": {
        "id": "a9a857c6"
      },
      "source": [
        "<p class=\"task\" id=\"2\"></p>\n",
        "\n",
        "2\\. Обновите поле `senses` у объектов в словаре `synsets` на основе файлов `rwn/senses.A.xml`, `rwn/senses.N.xml` и `rwn/senses.V.xml`. Выведите на экран среднее количество синонимов у синсетов.\n",
        "\n",
        "- [ ] Проверено на семинаре"
      ]
    },
    {
      "cell_type": "code",
      "source": [
        "with open(\"./senses.A.xml\", \"r\", encoding=\"utf8\") as fp:\n",
        "  senses_bsA = BeautifulSoup(fp)\n",
        "\n",
        "with open(\"./senses.N.xml\", \"r\", encoding=\"utf8\") as fp:\n",
        "  senses_bsN = BeautifulSoup(fp)\n",
        "\n",
        "with open(\"./senses.V.xml\", \"r\", encoding=\"utf8\") as fp:\n",
        "  senses_bsV = BeautifulSoup(fp)"
      ],
      "metadata": {
        "id": "9hd8btIEZAcZ"
      },
      "id": "9hd8btIEZAcZ",
      "execution_count": 112,
      "outputs": []
    },
    {
      "cell_type": "code",
      "source": [
        "for file in [senses_bsA, senses_bsN, senses_bsV]:\n",
        "  for i in file.find_all('sense'):\n",
        "    syns_id = i.attrs['synset_id']\n",
        "    synsets[syns_id].senses.append(Sense(**i.attrs))"
      ],
      "metadata": {
        "id": "IE_IrqR1fbNv"
      },
      "id": "IE_IrqR1fbNv",
      "execution_count": 191,
      "outputs": []
    },
    {
      "cell_type": "code",
      "source": [
        "sm = 0\n",
        "\n",
        "for i in synsets:\n",
        "  sm += len(synsets[i].senses)\n",
        "\n",
        "sm/len(synsets) # среднее количество синонимов"
      ],
      "metadata": {
        "colab": {
          "base_uri": "https://localhost:8080/"
        },
        "id": "EBz6hzhuk1c8",
        "outputId": "4761336b-4d8c-460d-e8d7-edcaabf0abbd"
      },
      "id": "EBz6hzhuk1c8",
      "execution_count": 192,
      "outputs": [
        {
          "output_type": "execute_result",
          "data": {
            "text/plain": [
              "2.6350925402085186"
            ]
          },
          "metadata": {},
          "execution_count": 192
        }
      ]
    },
    {
      "cell_type": "markdown",
      "id": "0b01f96d",
      "metadata": {
        "id": "0b01f96d"
      },
      "source": [
        "<p class=\"task\" id=\"3\"></p>\n",
        "\n",
        "3\\. Проанализируйте, какие типы отношений представлены в файле `rwn/synset_relations.*.xml`. Выведите множество типов отношений на экран.\n",
        "Обновите поля `hyponyms` и `hypernyms` у объектов в словаре `synsets` на основе файла `rwn/relation.xml`.\n",
        "\n",
        "- [ ] Проверено на семинаре"
      ]
    },
    {
      "cell_type": "code",
      "source": [
        "with open(\"./synset_relations.A.xml\", \"r\", encoding=\"utf8\") as fp:\n",
        "  synset_relationsA = BeautifulSoup(fp)\n",
        "\n",
        "with open(\"./synset_relations.N.xml\", \"r\", encoding=\"utf8\") as fp:\n",
        "  synset_relationsN = BeautifulSoup(fp)\n",
        "\n",
        "with open(\"./synset_relations.V.xml\", \"r\", encoding=\"utf8\") as fp:\n",
        "  synset_relationsV = BeautifulSoup(fp)"
      ],
      "metadata": {
        "id": "MWmIoJCfloxN"
      },
      "id": "MWmIoJCfloxN",
      "execution_count": 122,
      "outputs": []
    },
    {
      "cell_type": "code",
      "source": [
        "files = [synset_relationsA, synset_relationsN, synset_relationsV]\n",
        "types = set()\n",
        "\n",
        "for file in files:\n",
        "  types |= set([i.attrs['name'] for i in file.find_all('relation')])\n",
        "\n",
        "types"
      ],
      "metadata": {
        "colab": {
          "base_uri": "https://localhost:8080/"
        },
        "id": "Ng6DDbwUrIvV",
        "outputId": "3720b6fb-2a00-4d63-dcc3-adb490d28222"
      },
      "id": "Ng6DDbwUrIvV",
      "execution_count": 193,
      "outputs": [
        {
          "output_type": "execute_result",
          "data": {
            "text/plain": [
              "{'POS-synonymy',\n",
              " 'antonym',\n",
              " 'cause',\n",
              " 'domain',\n",
              " 'entailment',\n",
              " 'hypernym',\n",
              " 'hyponym',\n",
              " 'instance hypernym',\n",
              " 'instance hyponym',\n",
              " 'part holonym',\n",
              " 'part meronym'}"
            ]
          },
          "metadata": {},
          "execution_count": 193
        }
      ]
    },
    {
      "cell_type": "code",
      "source": [
        "synset_relationsN.find_all('relation', parent_id='N12906')"
      ],
      "metadata": {
        "colab": {
          "base_uri": "https://localhost:8080/"
        },
        "id": "h-ssdll627sl",
        "outputId": "b900d3be-51d3-4cb6-bbce-ef7f0985e059"
      },
      "id": "h-ssdll627sl",
      "execution_count": 204,
      "outputs": [
        {
          "output_type": "execute_result",
          "data": {
            "text/plain": [
              "[<relation child_id=\"N28789\" name=\"hypernym\" parent_id=\"N12906\"></relation>,\n",
              " <relation child_id=\"N24059\" name=\"hyponym\" parent_id=\"N12906\"></relation>,\n",
              " <relation child_id=\"N24860\" name=\"hyponym\" parent_id=\"N12906\"></relation>,\n",
              " <relation child_id=\"V48376\" name=\"POS-synonymy\" parent_id=\"N12906\"></relation>]"
            ]
          },
          "metadata": {},
          "execution_count": 204
        }
      ]
    },
    {
      "cell_type": "code",
      "source": [
        "synsets['N12906'].ruthes_name"
      ],
      "metadata": {
        "colab": {
          "base_uri": "https://localhost:8080/",
          "height": 36
        },
        "id": "u7NV1Pmm3GOm",
        "outputId": "95cda2f8-fbea-43e6-8cd0-d2199f1705da"
      },
      "id": "u7NV1Pmm3GOm",
      "execution_count": 207,
      "outputs": [
        {
          "output_type": "execute_result",
          "data": {
            "text/plain": [
              "'ПИЛОТИРОВАТЬ'"
            ],
            "application/vnd.google.colaboratory.intrinsic+json": {
              "type": "string"
            }
          },
          "metadata": {},
          "execution_count": 207
        }
      ]
    },
    {
      "cell_type": "code",
      "source": [
        "synsets['N28789'].ruthes_name   # name=\"hypernym\""
      ],
      "metadata": {
        "colab": {
          "base_uri": "https://localhost:8080/",
          "height": 36
        },
        "id": "qxIUtkPT3KTu",
        "outputId": "9e3352d2-e9d6-4b01-84f8-7ff49c929503"
      },
      "id": "qxIUtkPT3KTu",
      "execution_count": 208,
      "outputs": [
        {
          "output_type": "execute_result",
          "data": {
            "text/plain": [
              "'УПРАВЛЕНИЕ УСТРОЙСТВОМ'"
            ],
            "application/vnd.google.colaboratory.intrinsic+json": {
              "type": "string"
            }
          },
          "metadata": {},
          "execution_count": 208
        }
      ]
    },
    {
      "cell_type": "code",
      "source": [
        "synsets['N24059'].ruthes_name   # name=\"hyponym\""
      ],
      "metadata": {
        "colab": {
          "base_uri": "https://localhost:8080/",
          "height": 36
        },
        "id": "EVCKKyP33UhB",
        "outputId": "f67b5094-a8b6-41b8-9b1d-0150a487cee8"
      },
      "id": "EVCKKyP33UhB",
      "execution_count": 209,
      "outputs": [
        {
          "output_type": "execute_result",
          "data": {
            "text/plain": [
              "'ПИКИРОВАНИЕ САМОЛЕТА'"
            ],
            "application/vnd.google.colaboratory.intrinsic+json": {
              "type": "string"
            }
          },
          "metadata": {},
          "execution_count": 209
        }
      ]
    },
    {
      "cell_type": "code",
      "source": [
        "files = [synset_relationsA, synset_relationsN, synset_relationsV]\n",
        "\n",
        "for file in files:\n",
        "  for i in file.find_all('relation', attrs={'name':'hypernym'}):\n",
        "    ch_id, par_id = i.attrs['child_id'], i.attrs['parent_id']\n",
        "    synsets[par_id].hypernyms.append(ch_id)\n",
        "    #synsets[ch_id].hyponyms.append(par_id)\n",
        "\n",
        "  for i in file.find_all('relation', attrs={'name':'hyponym'}):\n",
        "    ch_id, par_id = i.attrs['child_id'], i.attrs['parent_id']\n",
        "    synsets[par_id].hyponyms.append(ch_id)\n",
        "    #synsets[ch_id].hypernyms.append(par_id)"
      ],
      "metadata": {
        "id": "XdIn7H6blUSB"
      },
      "id": "XdIn7H6blUSB",
      "execution_count": 194,
      "outputs": []
    },
    {
      "cell_type": "code",
      "source": [
        "cnt_ = 0\n",
        "for i in synsets:\n",
        "  print(synsets[i].hyponyms)\n",
        "  cnt_ += 1\n",
        "  if cnt_ > 5:\n",
        "    break"
      ],
      "metadata": {
        "colab": {
          "base_uri": "https://localhost:8080/"
        },
        "id": "I4oAE0TdtvfV",
        "outputId": "7c543ca8-38d3-41a2-953d-3d8410695c9f"
      },
      "id": "I4oAE0TdtvfV",
      "execution_count": 195,
      "outputs": [
        {
          "output_type": "stream",
          "name": "stdout",
          "text": [
            "[]\n",
            "['A8709', 'A11873']\n",
            "[]\n",
            "[]\n",
            "[]\n",
            "['A4654']\n"
          ]
        }
      ]
    },
    {
      "cell_type": "markdown",
      "id": "ca2816e6",
      "metadata": {
        "id": "ca2816e6"
      },
      "source": [
        "<p class=\"task\" id=\"4\"></p>\n",
        "\n",
        "4\\. Напишите функцию `find_by_name`, которая ищет синсеты по вхождению заданного слова в поле `ruthes_name`. При поиске приводите введенное слово к нормальной форме и не учитывайте регистр слов. Функция должна вернуть список, отсортированный по возрастаю значений расстояния Левенштейна между названием синсета и введенным словом. Продемонстрируйте, какие синсеты находятся по слову \"собака\".\n",
        "\n",
        "- [ ] Проверено на семинаре"
      ]
    },
    {
      "cell_type": "code",
      "source": [
        "!pip install pymorphy2"
      ],
      "metadata": {
        "id": "ony-zeB7v81M"
      },
      "id": "ony-zeB7v81M",
      "execution_count": null,
      "outputs": []
    },
    {
      "cell_type": "code",
      "source": [
        "!pip install Levenshtein"
      ],
      "metadata": {
        "id": "imyqfs0qw9Uk"
      },
      "id": "imyqfs0qw9Uk",
      "execution_count": null,
      "outputs": []
    },
    {
      "cell_type": "code",
      "source": [
        "import pymorphy2\n",
        "from Levenshtein import distance as lev"
      ],
      "metadata": {
        "id": "LQDTNxyJviks"
      },
      "id": "LQDTNxyJviks",
      "execution_count": 160,
      "outputs": []
    },
    {
      "cell_type": "code",
      "source": [
        "morph = pymorphy2.MorphAnalyzer()\n",
        "morph.parse('ЗАВИСИМОСТИ'.lower())[0].normal_form"
      ],
      "metadata": {
        "colab": {
          "base_uri": "https://localhost:8080/",
          "height": 36
        },
        "id": "GpaWKvTVwHfY",
        "outputId": "432549e4-8ee8-43d3-e65f-5344e02a85f1"
      },
      "id": "GpaWKvTVwHfY",
      "execution_count": 161,
      "outputs": [
        {
          "output_type": "execute_result",
          "data": {
            "text/plain": [
              "'зависимость'"
            ],
            "application/vnd.google.colaboratory.intrinsic+json": {
              "type": "string"
            }
          },
          "metadata": {},
          "execution_count": 161
        }
      ]
    },
    {
      "cell_type": "code",
      "source": [
        "lev('Loe','loE'), lev('loe','loe')"
      ],
      "metadata": {
        "colab": {
          "base_uri": "https://localhost:8080/"
        },
        "id": "kxNrJE4AyMVP",
        "outputId": "f997950d-1f6e-4cd2-c9a6-56a7190e21cc"
      },
      "id": "kxNrJE4AyMVP",
      "execution_count": 164,
      "outputs": [
        {
          "output_type": "execute_result",
          "data": {
            "text/plain": [
              "(2, 0)"
            ]
          },
          "metadata": {},
          "execution_count": 164
        }
      ]
    },
    {
      "cell_type": "code",
      "source": [
        "def find_by_name(synsets, word, morph):\n",
        "  word = word.lower()\n",
        "  word_inf = morph.parse(word)[0].normal_form\n",
        "\n",
        "  res = []\n",
        "  for i in synsets:\n",
        "    nm = synsets[i].ruthes_name\n",
        "    res.append((nm, lev(nm.lower(), word_inf)))\n",
        "\n",
        "  return sorted(res, key=(lambda x: x[1]))"
      ],
      "metadata": {
        "id": "_84paTL4nurk"
      },
      "id": "_84paTL4nurk",
      "execution_count": 173,
      "outputs": []
    },
    {
      "cell_type": "code",
      "source": [
        "find_by_name(synsets, 'собака', morph)"
      ],
      "metadata": {
        "colab": {
          "base_uri": "https://localhost:8080/"
        },
        "id": "mTLCfl_kzDev",
        "outputId": "6777e57b-6260-4536-b9ea-85d863f49e9a"
      },
      "id": "mTLCfl_kzDev",
      "execution_count": 174,
      "outputs": [
        {
          "output_type": "execute_result",
          "data": {
            "text/plain": [
              "[('СОБАКА', 0),\n",
              " ('СОБАКА', 0),\n",
              " ('ОСАКА', 2),\n",
              " ('СОНАТА', 2),\n",
              " ('СОПКА', 2),\n",
              " ('СОПКА', 2),\n",
              " ('ОСАКА', 2),\n",
              " ('СОНАТА', 2),\n",
              " ('САЛАКА', 2),\n",
              " ('ШОСТКА', 3),\n",
              " ('БАКУ', 3),\n",
              " ('КОВКА', 3),\n",
              " ('ОСАДА', 3),\n",
              " ('СУДАК', 3),\n",
              " ('СОСИСКА', 3),\n",
              " ('КОШКА', 3),\n",
              " ('ДОНКА', 3),\n",
              " ('ОКА', 3),\n",
              " ('МОНАКО', 3),\n",
              " ('ОТАРА', 3),\n",
              " ('САХАРА', 3),\n",
              " ('АБАКАН', 3),\n",
              " ('СПИЧКА', 3),\n",
              " ('СКАЛА', 3),\n",
              " ('МОМБАСА', 3),\n",
              " ('СТРОКА', 3),\n",
              " ('ЛОПАТА', 3),\n",
              " ('СОМАЛИ', 3),\n",
              " ('ЛОШАК', 3),\n",
              " ('СОЛОМА', 3),\n",
              " ('ОБОРКА', 3),\n",
              " ('СОБОЛЬ', 3),\n",
              " ('ЛОДКА', 3),\n",
              " ('КОБЫЛА', 3),\n",
              " ('ЛОЖКА', 3),\n",
              " ('ГОТИКА', 3),\n",
              " ('СОДА', 3),\n",
              " ('СИГАРА', 3),\n",
              " ('ЮБКА', 3),\n",
              " ('СТИРКА', 3),\n",
              " ('СОЛОДКА', 3),\n",
              " ('ВОДКА', 3),\n",
              " ('КОЛБАСА', 3),\n",
              " ('МОЧАЛКА', 3),\n",
              " ('ОПАРА', 3),\n",
              " ('СОСНА', 3),\n",
              " ('НОРКА', 3),\n",
              " ('РЫБАК', 3),\n",
              " ('СОСОК', 3),\n",
              " ('ОБИВКА', 3),\n",
              " ('ТОБАГО', 3),\n",
              " ('ОБВА', 3),\n",
              " ('СКАЛКА', 3),\n",
              " ('СУДАК', 3),\n",
              " ('ДОЯРКА', 3),\n",
              " ('РОБА', 3),\n",
              " ('ДОГАДКА', 3),\n",
              " ('ДРАКА', 3),\n",
              " ('КОБУРА', 3),\n",
              " ('НОРКА', 3),\n",
              " ('ЛОЖКА', 3),\n",
              " ('ЛОПАТА', 3),\n",
              " ('ЛОШАК', 3),\n",
              " ('СТРОКА', 3),\n",
              " ('СИБАЙ', 3),\n",
              " ('СОДА', 3),\n",
              " ('САХАРА', 3),\n",
              " ('МОЧАЛКА', 3),\n",
              " ('МАКАКА', 3),\n",
              " ('МОРАВА', 3),\n",
              " ('КОБЫЛА', 3),\n",
              " ('ДОСАДА', 3),\n",
              " ('ОБИВКА', 3),\n",
              " ('АБАКАН', 3),\n",
              " ('САТКА', 3),\n",
              " ('СУЛАК', 3),\n",
              " ('ОБОРКА', 3),\n",
              " ('РЫБАК', 3),\n",
              " ('КОШКА', 3),\n",
              " ('СОК', 3),\n",
              " ('САВА', 3),\n",
              " ('СОРСК', 3),\n",
              " ('СОБЛАЗН', 3),\n",
              " ('КОЛБАСА', 3),\n",
              " ('СКИДКА', 3),\n",
              " ('СОФА', 3),\n",
              " ('СОСОК', 3),\n",
              " ('СИНАРА', 3),\n",
              " ('ДОНКА', 3),\n",
              " ('ОМАХА', 3),\n",
              " ('СОЛОДКА', 3),\n",
              " ('АСАКА', 3),\n",
              " ('ЮБКА', 3),\n",
              " ('СОЛОМА', 3),\n",
              " ('НОСКА', 3),\n",
              " ('СОМАЛИ', 3),\n",
              " ('БАКАЛ', 3),\n",
              " ('КОВКА', 3),\n",
              " ('МОНАКО', 3),\n",
              " ('ВОДКА', 3),\n",
              " ('СОСНА', 3),\n",
              " ('ОСАДА', 3),\n",
              " ('ОПАРА', 3),\n",
              " ('ГОТИКА', 3),\n",
              " ('СКАЛА', 3),\n",
              " ('МОМБАСА', 3),\n",
              " ('СЛОВАКИ', 3),\n",
              " ('СОБЬ', 3),\n",
              " ('КОЧКА', 3),\n",
              " ('СПИЧКА', 3),\n",
              " ('ОКА', 3),\n",
              " ('БАКУ', 3),\n",
              " ('СОБОЛЬ', 3),\n",
              " ('АБАША', 3),\n",
              " ('СИГАРА', 3),\n",
              " ('СВАХА', 3),\n",
              " ('ЛОДКА', 3),\n",
              " ('КОСАТКА', 3),\n",
              " ('ОТАРА', 3),\n",
              " ('СОСИСКА', 3),\n",
              " ('ШОСТКА', 3),\n",
              " ('КОБРА', 3),\n",
              " ('СТИРКА', 3),\n",
              " ('СКИДКА', 3),\n",
              " ('ДРАКА', 3),\n",
              " ('СТИРКА', 3),\n",
              " ('КОВКА', 3),\n",
              " ('ОСАДА', 3),\n",
              " ('ДЫМКА', 4),\n",
              " ('МОНЕТА', 4),\n",
              " ('СИНИЦА', 4),\n",
              " ('ОЧКИ', 4),\n",
              " ('БУХАРА', 4),\n",
              " ('МОДА', 4),\n",
              " ('ДУЖКА', 4),\n",
              " ('КОКАРДА', 4),\n",
              " ('БАХЧА', 4),\n",
              " ('БУХАНКА', 4),\n",
              " ('ОРСК', 4),\n",
              " ('МОТОК', 4),\n",
              " ('БАЯН', 4),\n",
              " ('СОФИЯ', 4),\n",
              " ('ТОПАЗ', 4),\n",
              " ('СЕМГА', 4),\n",
              " ('КОПЕЙКА', 4),\n",
              " ('САРАФАН', 4),\n",
              " ('ЛАК', 4),\n",
              " ('СПАРЖА', 4),\n",
              " ('ГАЛКА', 4),\n",
              " ('СОКОЛ', 4),\n",
              " ('ПРОБИРКА', 4),\n",
              " ('СЛИВКИ', 4),\n",
              " ('САРАНЧА', 4),\n",
              " ('МОЧА', 4),\n",
              " ('РЕКА', 4),\n",
              " ('САЙРА', 4),\n",
              " ('ЛУБОК', 4),\n",
              " ('СОЛДАТ', 4),\n",
              " ('СКРИПКА', 4),\n",
              " ('ОСПА', 4),\n",
              " ('ПОЭМА', 4),\n",
              " ('ОНИКС', 4),\n",
              " ('БАЙТ', 4),\n",
              " ('ВАТА', 4),\n",
              " ('ПОЖАР', 4),\n",
              " ('ВКЛАДКА', 4),\n",
              " ('ПОЛК', 4),\n",
              " ('ПОХВАЛА', 4),\n",
              " ('ВОЛГА', 4),\n",
              " ('ЧАЙКА', 4),\n",
              " ('НЕВАДА', 4),\n",
              " ('КИЛЬКА', 4),\n",
              " ('СКУЛА', 4),\n",
              " ('ФОЛЬГА', 4),\n",
              " ('МОРДВА', 4),\n",
              " ('США', 4),\n",
              " ('ТОННА', 4),\n",
              " ('СИБИРЬ', 4),\n",
              " ('СВАЯ', 4),\n",
              " ('БАРАК', 4),\n",
              " ('ОБЕД', 4),\n",
              " ('АОРТА', 4),\n",
              " ('СОМ', 4),\n",
              " ('ЛЮБЕК', 4),\n",
              " ('ЛОЖБИНА', 4),\n",
              " ('СЕВАН', 4),\n",
              " ('СУРОК', 4),\n",
              " ('ОТЕК', 4),\n",
              " ('ЭТИКА', 4),\n",
              " ('КАМБАЛА', 4),\n",
              " ('ДЕКАДА', 4),\n",
              " ('ДОК', 4),\n",
              " ('ОБУВЬ', 4),\n",
              " ('ЧАБАН', 4),\n",
              " ('ЧЕСОТКА', 4),\n",
              " ('ТАРАКАН', 4),\n",
              " ('БАЙКАЛ', 4),\n",
              " ('ОДРА', 4),\n",
              " ('РОБКИЙ', 4),\n",
              " ('ГАЙАНА', 4),\n",
              " ('СМЕТА', 4),\n",
              " ('МОГИЛА', 4),\n",
              " ('ГАЛЬКА', 4),\n",
              " ('ПОСУДА', 4),\n",
              " ('СБЫТ', 4),\n",
              " ('ФИАЛКА', 4),\n",
              " ('ЗЛОБА', 4),\n",
              " ('ОТТАВА', 4),\n",
              " ('ЦИТАТА', 4),\n",
              " ('АЛАБАМА', 4),\n",
              " ('СТРОФА', 4),\n",
              " ('ОПАЛ', 4),\n",
              " ('КОРИЦА', 4),\n",
              " ('КЕПКА', 4),\n",
              " ('ТАРА', 4),\n",
              " ('КОККИ', 4),\n",
              " ('СМЕТАНА', 4),\n",
              " ('МОШОНКА', 4),\n",
              " ('ФРАК', 4),\n",
              " ('ЛУАРА', 4),\n",
              " ('ПЫТКА', 4),\n",
              " ('БУЛАВКА', 4),\n",
              " ('СЕСТРА', 4),\n",
              " ('БОТАНИКА', 4),\n",
              " ('СУББОТА', 4),\n",
              " ('АНГАРА', 4),\n",
              " ('ПРАГА', 4),\n",
              " ('ГАМАК', 4),\n",
              " ('УЛИКА', 4),\n",
              " ('БАНЯ', 4),\n",
              " ('СТАДО', 4),\n",
              " ('ГАВАНА', 4),\n",
              " ('КОМИКС', 4),\n",
              " ('ЛОМБАРД', 4),\n",
              " ('ПОЛВЕКА', 4),\n",
              " ('РЫБА', 4),\n",
              " ('СЮИТА', 4),\n",
              " ('ПАНИКА', 4),\n",
              " ('ПОЛТАВА', 4),\n",
              " ('КОКС', 4),\n",
              " ('САМБА', 4),\n",
              " ('ТОМСК', 4),\n",
              " ('ШАПКА', 4),\n",
              " ('КОМАР', 4),\n",
              " ('СЕНАЖ', 4),\n",
              " ('КАНАВА', 4),\n",
              " ('ЛОШАДЬ', 4),\n",
              " ('МИСКА', 4),\n",
              " ('ДОЛИНА', 4),\n",
              " ('СОУС', 4),\n",
              " ('САЗАН', 4),\n",
              " ('КАБИНА', 4),\n",
              " ('СТРАЗ', 4),\n",
              " ('СУДАН', 4),\n",
              " ('МЕККА', 4),\n",
              " ('БАКСАН', 4),\n",
              " ('БУЛКА', 4),\n",
              " ('ШЛЮПКА', 4),\n",
              " ('ПОИСК', 4),\n",
              " ('САХАР', 4),\n",
              " ('СОЧИ', 4),\n",
              " ('СЛОВАРЬ', 4),\n",
              " ('БАСКИ', 4),\n",
              " ('ГАДЮКА', 4),\n",
              " ('БУДКА', 4),\n",
              " ('СЕБЕЖ', 4),\n",
              " ('СОЛЯР', 4),\n",
              " ('РОСА', 4),\n",
              " ('ЛОБ', 4),\n",
              " ('ХОЛЕРА', 4),\n",
              " ('МУКА', 4),\n",
              " ('СИВАШ', 4),\n",
              " ('ОМСК', 4),\n",
              " ('ХОРЕК', 4),\n",
              " ('ЗОЛА', 4),\n",
              " ('КАРАКАС', 4),\n",
              " ('ВОСК', 4),\n",
              " ('АНАПА', 4),\n",
              " ('КОНЬКИ', 4),\n",
              " ('НАУКА', 4),\n",
              " ('ФИБРА', 4),\n",
              " ('КОФТА', 4),\n",
              " ('ПАСЕКА', 4),\n",
              " ('МОРАЛЬ', 4),\n",
              " ('БАКЛАН', 4),\n",
              " ('РЯСКА', 4),\n",
              " ('СЛОВАКИЯ', 4),\n",
              " ('ГОРА', 4),\n",
              " ('АФРИКА', 4),\n",
              " ('КОСЬБА', 4),\n",
              " ('КАСКА', 4),\n",
              " ('КОБАЛЬТ', 4),\n",
              " ('МОЧАЛО', 4),\n",
              " ('РОМАНС', 4),\n",
              " ('СКАУТ', 4),\n",
              " ('ОВАЛ', 4),\n",
              " ('ШПАЛА', 4),\n",
              " ('СТРУЖКА', 4),\n",
              " ('ОСИНА', 4),\n",
              " ('СОНЕТ', 4),\n",
              " ('ФОБОС', 4),\n",
              " ('КОРЯКИ', 4),\n",
              " ('СТАЛЬ', 4),\n",
              " ('ОСА', 4),\n",
              " ('КОРМА', 4),\n",
              " ('ЛОДЫЖКА', 4),\n",
              " ('ПРОДАЖА', 4),\n",
              " ('ОБЫЧАЙ', 4),\n",
              " ('СЕРА', 4),\n",
              " ('ГОБОЙ', 4),\n",
              " ('КАДКА', 4),\n",
              " ('САЙГАК', 4),\n",
              " ('ПЛЮШКА', 4),\n",
              " ('ПОВАР', 4),\n",
              " ('СВЯТКИ', 4),\n",
              " ('НАВАГА', 4),\n",
              " ('КОКАИН', 4),\n",
              " ('ЧАГА', 4),\n",
              " ('ФАРА', 4),\n",
              " ('СЛЮНА', 4),\n",
              " ('ГААГА', 4),\n",
              " ('МОЛЬБА', 4),\n",
              " ('ОБРЯД', 4),\n",
              " ('ТОВАР', 4),\n",
              " ('СУТКИ', 4),\n",
              " ('БЛУЗКА', 4),\n",
              " ('ОЛЬХА', 4),\n",
              " ('ФОНАРЬ', 4),\n",
              " ('ОРША', 4),\n",
              " ('ЮРМАЛА', 4),\n",
              " ('ГРЯДКА', 4),\n",
              " ('КОЛЫМА', 4),\n",
              " ('БЕЛКА', 4),\n",
              " ('МОНАХ', 4),\n",
              " ('ХОМЯК', 4),\n",
              " ('ЛХАСА', 4),\n",
              " ('ПОЛЧАСА', 4),\n",
              " ('ПАТОКА', 4),\n",
              " ('КАМА', 4),\n",
              " ('МОСКВА', 4),\n",
              " ('ЩУКА', 4),\n",
              " ('СААМЫ', 4),\n",
              " ('СПАМ', 4),\n",
              " ('ГИТАРА', 4),\n",
              " ('КОРЮШКА', 4),\n",
              " ('МОРЯК', 4),\n",
              " ('ДОЗА', 4),\n",
              " ('АМХАРА', 4),\n",
              " ('АМБАР', 4),\n",
              " ('ПЛАКАТ', 4),\n",
              " ('ШПАГА', 4),\n",
              " ('ПОЧКИ', 4),\n",
              " ('БОЛВАНКА', 4),\n",
              " ('СУХАРЬ', 4),\n",
              " ('РИЕКА', 4),\n",
              " ('АГАВА', 4),\n",
              " ('КОКЕТКА', 4),\n",
              " ('КУРТКА', 4),\n",
              " ('КОРСИКА', 4),\n",
              " ('ОВЦА', 4),\n",
              " ('СТРАУС', 4),\n",
              " ('ГАЙКА', 4),\n",
              " ('ОХОТА', 4),\n",
              " ('РАСА', 4),\n",
              " ('РОСОМАХА', 4),\n",
              " ('ТОСКАНА', 4),\n",
              " ('САТИРА', 4),\n",
              " ('ОБЫСК', 4),\n",
              " ('РЕДЬКА', 4),\n",
              " ('КАНАДА', 4),\n",
              " ('ЗОНА', 4),\n",
              " ('ПОЛЬША', 4),\n",
              " ('СПЕРМА', 4),\n",
              " ('МАК', 4),\n",
              " ('СОЧЕНЬ', 4),\n",
              " ('ШАКАЛ', 4),\n",
              " ('ЛОБНЯ', 4),\n",
              " ('ДОМРА', 4),\n",
              " ('ЗАЯВКА', 4),\n",
              " ('ВЗЯТКА', 4),\n",
              " ('СОВХОЗ', 4),\n",
              " ('СОФИТ', 4),\n",
              " ('МОНТАНА', 4),\n",
              " ('ОМАН', 4),\n",
              " ('ГРЕЛКА', 4),\n",
              " ('СУША', 4),\n",
              " ('СОПРАНО', 4),\n",
              " ('ЦУМАДА', 4),\n",
              " ('ПОГОДА', 4),\n",
              " ('ПРАБАБКА', 4),\n",
              " ('АПТЕКА', 4),\n",
              " ('ОБОИ', 4),\n",
              " ('ДОГМА', 4),\n",
              " ('ДУБНА', 4),\n",
              " ('РОТА', 4),\n",
              " ('СЕНАТ', 4),\n",
              " ('СОЛНЦЕ', 4),\n",
              " ('СЫЩИК', 4),\n",
              " ('СПИТАК', 4),\n",
              " ('САБОТАЖ', 4),\n",
              " ('ПИЖАМА', 4),\n",
              " ('ОГАЙО', 4),\n",
              " ('ДИОРАМА', 4),\n",
              " ('КОСЫНКА', 4),\n",
              " ('БОБР', 4),\n",
              " ('ФИЗИКА', 4),\n",
              " ('ПОЧВА', 4),\n",
              " ('НАРА', 4),\n",
              " ('ВОЙНА', 4),\n",
              " ('БАРЖА', 4),\n",
              " ('ШАЛЬКА', 4),\n",
              " ('ЛАРНАКА', 4),\n",
              " ('УТКА', 4),\n",
              " ('ФУРАЖКА', 4),\n",
              " ('ПАНАМА', 4),\n",
              " ('РУСАЛКА', 4),\n",
              " ('ИРАК', 4),\n",
              " ('ТРЕСКА', 4),\n",
              " ('САВАННА', 4),\n",
              " ('ПОЙМА', 4),\n",
              " ('МАКАО', 4),\n",
              " ('ОХРА', 4),\n",
              " ('МОНАРХ', 4),\n",
              " ('САНИ', 4),\n",
              " ('КОКС', 4),\n",
              " ('СОНЕТ', 4),\n",
              " ('ЩАРА', 4),\n",
              " ('СОБАКОВОД', 4),\n",
              " ('ФАРА', 4),\n",
              " ('СКАТ', 4),\n",
              " ('РУТКА', 4),\n",
              " ('СТРОФА', 4),\n",
              " ('ДЕКАДА', 4),\n",
              " ('ОХОТА', 4),\n",
              " ('ФОБОС', 4),\n",
              " ('САМОКАТ', 4),\n",
              " ('САБОТАЖ', 4),\n",
              " ('ИГАРКА', 4),\n",
              " ('ПРОДАЖА', 4),\n",
              " ('СЕРЬГА', 4),\n",
              " ('МОТОК', 4),\n",
              " ('ЗОЛА', 4),\n",
              " ('СОПЕТЬ', 4),\n",
              " ('АМБРА', 4),\n",
              " ('ГОРКИ', 4),\n",
              " ('АРКАДА', 4),\n",
              " ('КИЛЬКА', 4),\n",
              " ('ПОСУДА', 4),\n",
              " ('СНОБ', 4),\n",
              " ('ДРАВА', 4),\n",
              " ('ЭТИКА', 4),\n",
              " ('ОБЫЧАЙ', 4),\n",
              " ('КОРМА', 4),\n",
              " ('СУРСК', 4),\n",
              " ('ОРША', 4),\n",
              " ('КОМИКС', 4),\n",
              " ('МОРАЛЬ', 4),\n",
              " ('УСМЕШКА', 4),\n",
              " ('АОРТА', 4),\n",
              " ('ТОННА', 4),\n",
              " ('ПОХВАЛА', 4),\n",
              " ('ТЕЗКА', 4),\n",
              " ('ПОВАР', 4),\n",
              " ('ОБЕТ', 4),\n",
              " ('СТАЛЬ', 4),\n",
              " ('ФОНАРЬ', 4),\n",
              " ('ДУДКА', 4),\n",
              " ('АБАДАН', 4),\n",
              " ('ЩУКА', 4),\n",
              " ('КАДКА', 4),\n",
              " ('СТРАЗ', 4),\n",
              " ('МОРДВА', 4),\n",
              " ('НАУКА', 4),\n",
              " ('ИГУАНА', 4),\n",
              " ('КОНЬКИ', 4),\n",
              " ('СОФИЯ', 4),\n",
              " ('ПРОБИРКА', 4),\n",
              " ('АСТАНА', 4),\n",
              " ('САНИ', 4),\n",
              " ('ТЕТКА', 4),\n",
              " ('СКУЛА', 4),\n",
              " ('КОКЕТКА', 4),\n",
              " ('ВОЙНА', 4),\n",
              " ('ОМАН', 4),\n",
              " ('ОБОИ', 4),\n",
              " ('ПРЯЖКА', 4),\n",
              " ('СУПСА', 4),\n",
              " ('ДОБРЯНКА', 4),\n",
              " ('СУНЖА', 4),\n",
              " ('ВЗЯТКА', 4),\n",
              " ('МИСКА', 4),\n",
              " ('ТРЕСКА', 4),\n",
              " ('СЕЛЬВА', 4),\n",
              " ('ОНЕГА', 4),\n",
              " ('КОМАР', 4),\n",
              " ('МЕККА', 4),\n",
              " ('ТИРАНА', 4),\n",
              " ('ШАЛЬКА', 4),\n",
              " ('МОГИЛА', 4),\n",
              " ('НЕЯВКА', 4),\n",
              " ('КАЗАК', 4),\n",
              " ('ПОЭМА', 4),\n",
              " ('ХАНКА', 4),\n",
              " ('СОЛИСТ', 4),\n",
              " ('ВНУЧКА', 4),\n",
              " ('ФРАК', 4),\n",
              " ('ОСОБНЯК', 4),\n",
              " ('ТАРАКАН', 4),\n",
              " ('РОШАЛЬ', 4),\n",
              " ('ВЛТАВА', 4),\n",
              " ('ТОБОЛ', 4),\n",
              " ('МОСКВА', 4),\n",
              " ('КОЛИКИ', 4),\n",
              " ('КОККИ', 4),\n",
              " ('НЕБРАСКА', 4),\n",
              " ('ШИЛКА', 4),\n",
              " ('ОТЕК', 4),\n",
              " ('ИРАК', 4),\n",
              " ('СЛОВАКИЯ', 4),\n",
              " ('СПЕРМА', 4),\n",
              " ('ДЫМКА', 4),\n",
              " ('МОШОНКА', 4),\n",
              " ('ТУБА', 4),\n",
              " ('ХОББИ', 4),\n",
              " ('САЙДА', 4),\n",
              " ('ОБЫСК', 4),\n",
              " ('КАМА', 4),\n",
              " ('УБА', 4),\n",
              " ('ВОЛОШКА', 4),\n",
              " ('ЗАГАДКА', 4),\n",
              " ('БОГАЧ', 4),\n",
              " ('ОПИСКА', 4),\n",
              " ('САТИРА', 4),\n",
              " ('КАМБАЛА', 4),\n",
              " ('РАБАТ', 4),\n",
              " ('БУХАНКА', 4),\n",
              " ('САЙМА', 4),\n",
              " ('ПЛЮШКА', 4),\n",
              " ('СТАДО', 4),\n",
              " ('КЛИКА', 4),\n",
              " ('СНОРОВКА', 4),\n",
              " ('ГАЛЬКА', 4),\n",
              " ('СЛОВАРЬ', 4),\n",
              " ('ЛУАРА', 4),\n",
              " ('ФИАЛКА', 4),\n",
              " ('ПИЖАМА', 4),\n",
              " ('ЗЛОБА', 4),\n",
              " ('АПТЕКА', 4),\n",
              " ('ПОГОДА', 4),\n",
              " ('СЕВАН', 4),\n",
              " ('ОБШЛАГ', 4),\n",
              " ('РЯСКА', 4),\n",
              " ('СОПЛИ', 4),\n",
              " ('СТРУЖКА', 4),\n",
              " ('САЙГАК', 4),\n",
              " ('РЕДЬКА', 4),\n",
              " ('КОФТА', 4),\n",
              " ('СОМ', 4),\n",
              " ('ЧЕСОТКА', 4),\n",
              " ('ВАШКА', 4),\n",
              " ('МАЛАГА', 4),\n",
              " ('ТОСНА', 4),\n",
              " ('КОРЮШКА', 4),\n",
              " ('МОЛОЧА', 4),\n",
              " ('БАМАКО', 4),\n",
              " ('ИОКАНГА', 4),\n",
              " ('СЛУЖАНКА', 4),\n",
              " ('СОВХОЗ', 4),\n",
              " ('ПОЛТАВА', 4),\n",
              " ('КАША', 4),\n",
              " ('ГЖЕЛКА', 4),\n",
              " ('СЕМГА', 4),\n",
              " ('ТАРА', 4),\n",
              " ('СУНГАЧА', 4),\n",
              " ('СЕРА', 4),\n",
              " ('АЛУПКА', 4),\n",
              " ('СБЫТ', 4),\n",
              " ('БУЛКА', 4),\n",
              " ('СУХАРЬ', 4),\n",
              " ('НАВАГА', 4),\n",
              " ('ПОЙМА', 4),\n",
              " ('ОРСК', 4),\n",
              " ('СУРОК', 4),\n",
              " ('СЛЮНА', 4),\n",
              " ('ОСТРАВА', 4),\n",
              " ('ВОДЛА', 4),\n",
              " ('БУЛАВКА', 4),\n",
              " ('ХОДАТАЙ', 4),\n",
              " ('СИТРА', 4),\n",
              " ('ПОЧКИ', 4),\n",
              " ('БАНЯ', 4),\n",
              " ('СВИЯГА', 4),\n",
              " ('КОПЕЙКА', 4),\n",
              " ('ПОЖАР', 4),\n",
              " ('ЛОСИХА', 4),\n",
              " ('ЮРМАЛА', 4),\n",
              " ('БИРА', 4),\n",
              " ('ДАККА', 4),\n",
              " ('САЛ', 4),\n",
              " ('ОПАЛ', 4),\n",
              " ('ГИТАРА', 4),\n",
              " ('ЛХАСА', 4),\n",
              " ('ПАТОКА', 4),\n",
              " ('РЕГАТА', 4),\n",
              " ('СОПРАНО', 4),\n",
              " ('ЭМБА', 4),\n",
              " ('ИСКА', 4),\n",
              " ('ЧИУАУА', 4),\n",
              " ('СОЛДАТ', 4),\n",
              " ('ВАТА', 4),\n",
              " ('ГААГА', 4),\n",
              " ('ОПОЧКА', 4),\n",
              " ('СУДАН', 4),\n",
              " ('ОВЧАРКА', 4),\n",
              " ('ШАПКА', 4),\n",
              " ('РАСА', 4),\n",
              " ('СЕМА', 4),\n",
              " ('БОТАНИКА', 4),\n",
              " ('БАХЧА', 4),\n",
              " ('ПРАБАБКА', 4),\n",
              " ('ЛОЗАННА', 4),\n",
              " ('ОЛЬХА', 4),\n",
              " ('САЙРА', 4),\n",
              " ('БАРЖА', 4),\n",
              " ('КЛЮКА', 4),\n",
              " ('ПЛАКАТ', 4),\n",
              " ('БАЛИ', 4),\n",
              " ('ЛЮБЕК', 4),\n",
              " ('РОБОТ', 4),\n",
              " ('НАРА', 4),\n",
              " ('ОРАН', 4),\n",
              " ('МОЧА', 4),\n",
              " ('БРЯНКА', 4),\n",
              " ('БЛУЗКА', 4),\n",
              " ('ЛИАНА', 4),\n",
              " ('СЕБЕЖ', 4),\n",
              " ('ЛОБ', 4),\n",
              " ('ОМА', 4),\n",
              " ('МУКА', 4),\n",
              " ('БОБРИК', 4),\n",
              " ('ГАЛКА', 4),\n",
              " ('БОКС', 4),\n",
              " ('РЫСАК', 4),\n",
              " ('КЕПКА', 4),\n",
              " ('АЭРОБИКА', 4),\n",
              " ('ТАНАМА', 4),\n",
              " ('СУША', 4),\n",
              " ('СМЕТА', 4),\n",
              " ('КОСЬБА', 4),\n",
              " ('МАНА', 4),\n",
              " ('ТОТЬМА', 4),\n",
              " ('ОТТАВА', 4),\n",
              " ('ЛОБНЯ', 4),\n",
              " ('СТВИГА', 4),\n",
              " ('МОДА', 4),\n",
              " ('ЧАЙКА', 4),\n",
              " ('САРАФАН', 4),\n",
              " ('ЗАЯВКА', 4),\n",
              " ('КОРЯКИ', 4),\n",
              " ('РИЕКА', 4),\n",
              " ('ДОМБРА', 4),\n",
              " ('ДУБАЙ', 4),\n",
              " ('ШЕГАРКА', 4),\n",
              " ('СКАУТ', 4),\n",
              " ('КАМБАРКА', 4),\n",
              " ('УЛИКА', 4),\n",
              " ('СИДЕЛКА', 4),\n",
              " ('ОХРА', 4),\n",
              " ('УТКА', 4),\n",
              " ('СОФИТ', 4),\n",
              " ('ГРЯДКА', 4),\n",
              " ('ФАТА', 4),\n",
              " ('ТОНИК', 4),\n",
              " ('БУЛА', 4),\n",
              " ('СТВОРКА', 4),\n",
              " ('ЦИТАТА', 4),\n",
              " ('САМБА', 4),\n",
              " ('ГАДЮКА', 4),\n",
              " ('КОРИЦА', 4),\n",
              " ('ОЛИФА', 4),\n",
              " ('ОБЖОРА', 4),\n",
              " ('НОТОРА', 4),\n",
              " ('ЛАБА', 4),\n",
              " ('СИАНЬ', 4),\n",
              " ('ПАНАМА', 4),\n",
              " ('СВЯТКИ', 4),\n",
              " ('ЧАГА', 4),\n",
              " ('КОКАРДА', 4),\n",
              " ('МОНАРХ', 4),\n",
              " ('СУМАТРА', 4),\n",
              " ('ДАКАР', 4),\n",
              " ('БОБР', 4),\n",
              " ('КАНАДА', 4),\n",
              " ('НЕВАДА', 4),\n",
              " ('ОВЦА', 4),\n",
              " ('ЛУБОК', 4),\n",
              " ('САВАННА', 4),\n",
              " ('ПОЛЯКИ', 4),\n",
              " ('ШПАГА', 4),\n",
              " ('ОБЕД', 4),\n",
              " ('КОЖУРА', 4),\n",
              " ('СУББОТА', 4),\n",
              " ('БАРАК', 4),\n",
              " ('ОНИКС', 4),\n",
              " ('ГАМАК', 4),\n",
              " ('РОБКИЙ', 4),\n",
              " ('КУРАГА', 4),\n",
              " ('ДОДАТЬ', 4),\n",
              " ('АНКАРА', 4),\n",
              " ('ПОИСК', 4),\n",
              " ('СТЕЛЬКА', 4),\n",
              " ('АОСТА', 4),\n",
              " ('ВАТКА', 4),\n",
              " ('СЕНАТ', 4),\n",
              " ('СЕСТРА', 4),\n",
              " ('РОНА', 4),\n",
              " ('ЦУМАДА', 4),\n",
              " ('СПАРЖА', 4),\n",
              " ('АМХАРА', 4),\n",
              " ('НОКАУТ', 4),\n",
              " ('КАБИНА', 4),\n",
              " ('КАНАВА', 4),\n",
              " ('МОЛЬБА', 4),\n",
              " ('МОЙВА', 4),\n",
              " ('БУХАРА', 4),\n",
              " ('ОЧКИ', 4),\n",
              " ('ЛОКАУТ', 4),\n",
              " ('АЛЯСКА', 4),\n",
              " ('КОЛЮЧКА', 4),\n",
              " ('ЛАРНАКА', 4),\n",
              " ('СУТКИ', 4),\n",
              " ('ГАВАНА', 4),\n",
              " ('СТРАУС', 4),\n",
              " ('СОЛЯР', 4),\n",
              " ('ВАГА', 4),\n",
              " ('СВАТ', 4),\n",
              " ('ДУЖКА', 4),\n",
              " ('СОПОТ', 4),\n",
              " ('КОНИНА', 4),\n",
              " ('СЫЩИК', 4),\n",
              " ('МОЖГА', 4),\n",
              " ('ПОЧВА', 4),\n",
              " ('СОЧЕНЬ', 4),\n",
              " ('ПАРА', 4),\n",
              " ('КОТРА', 4),\n",
              " ('ДОК', 4),\n",
              " ('БАСКИ', 4),\n",
              " ('ОРОКИ', 4),\n",
              " ('САУНА', 4),\n",
              " ('ГОРЕЛКА', 4),\n",
              " ('РАБА', 4),\n",
              " ('ХОЛЕРА', 4),\n",
              " ('КОСЫНКА', 4),\n",
              " ('ОБЬ', 4),\n",
              " ('МАЙКА', 4),\n",
              " ('МАКАО', 4),\n",
              " ('ДОЗА', 4),\n",
              " ('МОРЯК', 4),\n",
              " ('ДУБОВКА', 4),\n",
              " ('ГАЙКА', 4),\n",
              " ('ГОРА', 4),\n",
              " ('СОУС', 4),\n",
              " ('ПОЛВЕКА', 4),\n",
              " ('КОЛЫМА', 4),\n",
              " ('СТОНАТЬ', 4),\n",
              " ('ЛЕСОСЕКА', 4),\n",
              " ('ОСА', 4),\n",
              " ('СЛИВКИ', 4),\n",
              " ('ДОЛИНА', 4),\n",
              " ('БАБОЧКА', 4),\n",
              " ('СОЧИ', 4),\n",
              " ('ГАЙАНА', 4),\n",
              " ('СОСНОВКА', 4),\n",
              " ('ПРОСЕКА', 4),\n",
              " ('БОТНА', 4),\n",
              " ('ТОКАРЬ', 4),\n",
              " ('РОМАНС', 4),\n",
              " ('ВЯТКА', 4),\n",
              " ('КАЛЕКА', 4),\n",
              " ('СУНА', 4),\n",
              " ('КАСКА', 4),\n",
              " ('СУЛА', 4),\n",
              " ('ГОРБУША', 4),\n",
              " ('ПИАЛА', 4),\n",
              " ('ОМЕЛА', 4),\n",
              " ('ФОЛЬГА', 4),\n",
              " ('ОЧАКОВ', 4),\n",
              " ('СЕНАЖ', 4),\n",
              " ('ОБУВЬ', 4),\n",
              " ('БАСМА', 4),\n",
              " ('СМЕТАНА', 4),\n",
              " ('ВКЛАДКА', 4),\n",
              " ('КОВА', 4),\n",
              " ('СИНИЦА', 4),\n",
              " ('ДУБИСА', 4),\n",
              " ('ДУБНА', 4),\n",
              " ('СЛОНИХА', 4),\n",
              " ('ПАЛАНА', 4),\n",
              " ('ЛОЖБИНА', 4),\n",
              " ('ГРЕЛКА', 4),\n",
              " ('КОКСА', 4),\n",
              " ('БАЙКАЛ', 4),\n",
              " ('РОЩА', 4),\n",
              " ('МОНАХ', 4),\n",
              " ('КУРТКА', 4),\n",
              " ('ПАРАНА', 4),\n",
              " ('МОНТАНА', 4),\n",
              " ('МАЛКА', 4),\n",
              " ('ГАНА', 4),\n",
              " ('БОЛОНКА', 4),\n",
              " ('РОТА', 4),\n",
              " ('УБАГАН', 4),\n",
              " ('ГАДАЛКА', 4),\n",
              " ('ОСИНА', 4),\n",
              " ('САМОУЧКА', 4),\n",
              " ('БАКЛАН', 4),\n",
              " ('ФИЗИКА', 4),\n",
              " ('САМОА', 4),\n",
              " ('ОМСК', 4),\n",
              " ('АЛАБАМА', 4),\n",
              " ('КАРАКАС', 4),\n",
              " ('АББАТ', 4),\n",
              " ('ЗАИКА', 4),\n",
              " ('ЗОНА', 4),\n",
              " ('АГАВА', 4),\n",
              " ('БОРОНА', 4),\n",
              " ('ПАСЕКА', 4),\n",
              " ('СИВАШ', 4),\n",
              " ('СОСУЛЬКА', 4),\n",
              " ('САБО', 4),\n",
              " ('СЕВЕРКА', 4),\n",
              " ('СААМЫ', 4),\n",
              " ('САЗАН', 4),\n",
              " ('УЛЫБКА', 4),\n",
              " ('БЕКАА', 4),\n",
              " ('ПОЕЗДКА', 4),\n",
              " ('МОКША', 4),\n",
              " ('ТОВАР', 4),\n",
              " ('ХАТА', 4),\n",
              " ('УДОЧКА', 4),\n",
              " ('БАЯН', 4),\n",
              " ('КОРАН', 4),\n",
              " ('БЕЛКА', 4),\n",
              " ('ВАЗА', 4),\n",
              " ('ПАПАХА', 4),\n",
              " ('СОЛНЦЕ', 4),\n",
              " ('САРАНЧА', 4),\n",
              " ('ЛОМБАРД', 4),\n",
              " ('БУДКА', 4),\n",
              " ('КОБАЛЬТ', 4),\n",
              " ('ЧАБАН', 4),\n",
              " ('БОГОТА', 4),\n",
              " ('РЫБА', 4),\n",
              " ('АГАРА', 4),\n",
              " ('МОНЕТА', 4),\n",
              " ('ЛОДЫЖКА', 4),\n",
              " ('ОШИБКА', 4),\n",
              " ('КОКАИН', 4),\n",
              " ('СЫЗРАНКА', 4),\n",
              " ('АФРИКА', 4),\n",
              " ('МАНАМА', 4),\n",
              " ('ПРОКАЗА', 4),\n",
              " ('УКАЗКА', 4),\n",
              " ('РОСА', 4),\n",
              " ('УЗБЕКИ', 4),\n",
              " ('МАК', 4),\n",
              " ('СВАЯ', 4),\n",
              " ('СОЛОД', 4),\n",
              " ('СОДОКЛАД', 4),\n",
              " ('ОША', 4),\n",
              " ('ПОЛЬША', 4),\n",
              " ('БОРОДА', 4),\n",
              " ('СОЖ', 4),\n",
              " ('ПЯТАК', 4),\n",
              " ('ОВАЛ', 4),\n",
              " ('ХОМЯК', 4),\n",
              " ('АМБАР', 4),\n",
              " ('АСТАРА', 4),\n",
              " ('ЛАК', 4),\n",
              " ('СПИТАК', 4),\n",
              " ('АНАПА', 4),\n",
              " ('АНГАРА', 4),\n",
              " ('ФИБРА', 4),\n",
              " ('СЮИТА', 4),\n",
              " ('БОЛДА', 4),\n",
              " ('БАСРА', 4),\n",
              " ('СИБИРЬ', 4),\n",
              " ('ГОБОЙ', 4),\n",
              " ('ОБРЯД', 4),\n",
              " ('ПОБОИ', 4),\n",
              " ('ШАКАЛ', 4),\n",
              " ('ПОМЕТКА', 4),\n",
              " ('СЫДА', 4),\n",
              " ('САХАР', 4),\n",
              " ('РУСАЛКА', 4),\n",
              " ('ПОЛЧАСА', 4),\n",
              " ('ЛОШАДЬ', 4),\n",
              " ('ОДРА', 4),\n",
              " ('ДИОРАМА', 4),\n",
              " ('ПЫТКА', 4),\n",
              " ('КРАЖА', 4),\n",
              " ('ПРАГА', 4),\n",
              " ('ТЮБИК', 4),\n",
              " ('ХОДОК', 4),\n",
              " ('ПАНИКА', 4),\n",
              " ('БОЛВАНКА', 4),\n",
              " ('РОСОМАХА', 4),\n",
              " ('ОАХУ', 4),\n",
              " ('НЕРКА', 4),\n",
              " ('САЛКИ', 4),\n",
              " ('СОКОЛ', 4),\n",
              " ('РЕКА', 4),\n",
              " ('КЕРАЛА', 4),\n",
              " ('МУРАФА', 4),\n",
              " ('ПОЛК', 4),\n",
              " ('СКРИПКА', 4),\n",
              " ('ДОМРА', 4),\n",
              " ('ПОЗЕМКА', 4),\n",
              " ('ТОНГА', 4),\n",
              " ('АЙМАРА', 4),\n",
              " ('КОЖВА', 4),\n",
              " ('СУРА', 4),\n",
              " ('КАЗАНКА', 4),\n",
              " ('ОЛБАНИ', 4),\n",
              " ('КУХАРКА', 4),\n",
              " ('ДОГМА', 4),\n",
              " ('ВОСК', 4),\n",
              " ('ТОСКАНА', 4),\n",
              " ('США', 4),\n",
              " ('КОРСИКА', 4),\n",
              " ('ШПАЛА', 4),\n",
              " ('ОСПА', 4),\n",
              " ('ОГАЙО', 4),\n",
              " ('ТОМСК', 4),\n",
              " ('БАЙТ', 4),\n",
              " ('МОЧАЛО', 4),\n",
              " ('ХОРЕК', 4),\n",
              " ('ВОРСКЛА', 4),\n",
              " ('СВИЧА', 4),\n",
              " ('ФУРАЖКА', 4),\n",
              " ('ШЛЮПКА', 4),\n",
              " ('ЕЛГАВА', 4),\n",
              " ('СИВА', 4),\n",
              " ('ВОЛГА', 4),\n",
              " ('СЛУЦК', 4),\n",
              " ('КОСИЛКА', 4),\n",
              " ('БАКСАН', 4),\n",
              " ('СПАМ', 4),\n",
              " ('ТОПАЗ', 4),\n",
              " ('ТАМАДА', 4),\n",
              " ('ТОКМАК', 4),\n",
              " ('МОДЕНА', 4),\n",
              " ('ПЫТКА', 4),\n",
              " ('УСМЕШКА', 4),\n",
              " ('КОСЬБА', 4),\n",
              " ('СОПЕТЬ', 4),\n",
              " ('СТОНАТЬ', 4),\n",
              " ('ПОБОИ', 4),\n",
              " ('СБЫТ', 4),\n",
              " ('УЛЫБКА', 4),\n",
              " ('НОКАУТ', 4),\n",
              " ('ПРОДАЖА', 4),\n",
              " ('КРАЖА', 4),\n",
              " ('САБОТАЖ', 4),\n",
              " ('РОБЕТЬ', 4),\n",
              " ('ДОДАТЬ', 4),\n",
              " ('ПОИСК', 4),\n",
              " ('БОДАТЬ', 4),\n",
              " ('ОБЫСК', 4),\n",
              " ('ОХОТА', 4),\n",
              " ('БУТАН', 5),\n",
              " ('ВОДОЛАЗ', 5),\n",
              " ('РЕШЕТКА', 5),\n",
              " ('ЧАСЫ', 5),\n",
              " ('ЭСТЕТИКА', 5),\n",
              " ('ИСФАХАН', 5),\n",
              " ('АНГИНА', 5),\n",
              " ('МИНОГА', 5),\n",
              " ('СКОЛИОЗ', 5),\n",
              " ('СИГ', 5),\n",
              " ('ТАНК', 5),\n",
              " ('ВАТТ', 5),\n",
              " ('СТАЙЕР', 5),\n",
              " ('СЕРБИЯ', 5),\n",
              " ('СИОНИЗМ', 5),\n",
              " ('СЫЧУАНЬ', 5),\n",
              " ('ДОЖДЬ', 5),\n",
              " ('МОДЕМ', 5),\n",
              " ('БАТУТ', 5),\n",
              " ('СИРИЯ', 5),\n",
              " ('ГОРОДКИ', 5),\n",
              " ('МИОМА', 5),\n",
              " ('МОРС', 5),\n",
              " ('КОПЧИК', 5),\n",
              " ('КОНАКОВО', 5),\n",
              " ('АРБАЛЕТ', 5),\n",
              " ('БРОМ', 5),\n",
              " ('ТАБЛИЦА', 5),\n",
              " ('ИНФАРКТ', 5),\n",
              " ('СЛАНЕЦ', 5),\n",
              " ...]"
            ]
          },
          "metadata": {},
          "execution_count": 174
        }
      ]
    },
    {
      "cell_type": "markdown",
      "id": "a7b9daab",
      "metadata": {
        "id": "a7b9daab"
      },
      "source": [
        "<p class=\"task\" id=\"5\"></p>\n",
        "\n",
        "5\\. Для пары слов \"собака\" и \"кошка\" найдите ближайший общий родительский синсет и выведите на экран его название. Синсет `A` назовем родительским синсетом синсета `B`, если от `B` можно подняться к `A` в таксономии синсетов, используя отношения гиперонимии. Найдите общий родительский синсет для пары слов \"кошка\" и \"студент\" и выведите на экран его название.\n",
        "\n",
        "- [ ] Проверено на семинаре"
      ]
    },
    {
      "cell_type": "code",
      "source": [
        "for i,v in synsets.items():\n",
        "  if v.ruthes_name.lower() == 'кошка':\n",
        "    print(i)"
      ],
      "metadata": {
        "colab": {
          "base_uri": "https://localhost:8080/"
        },
        "id": "_dWjnjB-zmJb",
        "outputId": "e0247e18-412a-4394-a6a7-ed248a49d9fd"
      },
      "id": "_dWjnjB-zmJb",
      "execution_count": 196,
      "outputs": [
        {
          "output_type": "stream",
          "name": "stdout",
          "text": [
            "A3055\n",
            "N27811\n"
          ]
        }
      ]
    },
    {
      "cell_type": "code",
      "source": [
        "synsets['A3055'] # прилагательное"
      ],
      "metadata": {
        "colab": {
          "base_uri": "https://localhost:8080/"
        },
        "id": "VugBwrV50tm2",
        "outputId": "5d90f109-3a4d-4308-ccfe-612e6d71d598"
      },
      "id": "VugBwrV50tm2",
      "execution_count": 197,
      "outputs": [
        {
          "output_type": "execute_result",
          "data": {
            "text/plain": [
              "Synset(id='A3055', ruthes_name='КОШКА', definition='небольшое хищное млекопитающее семейства кошачьих, истребляющее грызунов (преимущественно мышей и крыс)', part_of_speech='Adj', senses=[Sense(id='26088', name='КОШАЧИЙ', lemma='КОШАЧИЙ', main_word='', synt_type='Adj', poses='', synset_id='A3055', meaning='1')])"
            ]
          },
          "metadata": {},
          "execution_count": 197
        }
      ]
    },
    {
      "cell_type": "code",
      "source": [
        "synsets['N27811'] # существительное"
      ],
      "metadata": {
        "colab": {
          "base_uri": "https://localhost:8080/"
        },
        "id": "-ahuvrr70yDm",
        "outputId": "f020a6fc-8abc-43fc-fd34-e0ff3175e952"
      },
      "id": "-ahuvrr70yDm",
      "execution_count": 198,
      "outputs": [
        {
          "output_type": "execute_result",
          "data": {
            "text/plain": [
              "Synset(id='N27811', ruthes_name='КОШКА', definition='небольшое хищное млекопитающее семейства кошачьих, истребляющее грызунов (преимущественно мышей и крыс)', part_of_speech='N', senses=[Sense(id='26087', name='КОШКА', lemma='КОШКА', main_word='', synt_type='N', poses='', synset_id='N27811', meaning='2'), Sense(id='26089', name='КОШЕЧКА', lemma='КОШЕЧКА', main_word='', synt_type='N', poses='', synset_id='N27811', meaning='1'), Sense(id='26090', name='ДОМАШНЯЯ КОШКА', lemma='ДОМАШНИЙ КОШКА', main_word='КОШКА', synt_type='NG', poses='Adj N', synset_id='N27811', meaning='1')])"
            ]
          },
          "metadata": {},
          "execution_count": 198
        }
      ]
    },
    {
      "cell_type": "code",
      "source": [
        "for i,v in synsets.items():\n",
        "  if v.ruthes_name.lower() == 'студент':\n",
        "    print(i)"
      ],
      "metadata": {
        "colab": {
          "base_uri": "https://localhost:8080/"
        },
        "id": "8hANLELJ0pDo",
        "outputId": "2075e9fe-e925-449a-d1b5-35d0494d90ad"
      },
      "id": "8hANLELJ0pDo",
      "execution_count": 199,
      "outputs": [
        {
          "output_type": "stream",
          "name": "stdout",
          "text": [
            "N36005\n"
          ]
        }
      ]
    },
    {
      "cell_type": "code",
      "source": [
        "synsets['N36005']"
      ],
      "metadata": {
        "colab": {
          "base_uri": "https://localhost:8080/"
        },
        "id": "vQuC8pm40nfX",
        "outputId": "67fec9e8-d910-4a29-db1b-b77f26bbad43"
      },
      "id": "vQuC8pm40nfX",
      "execution_count": 200,
      "outputs": [
        {
          "output_type": "execute_result",
          "data": {
            "text/plain": [
              "Synset(id='N36005', ruthes_name='СТУДЕНТ', definition='учащийся высшего учебного заведения', part_of_speech='N', senses=[Sense(id='78952', name='СТУДЕНТ', lemma='СТУДЕНТ', main_word='', synt_type='N', poses='', synset_id='N36005', meaning='1'), Sense(id='78953', name='СТУДЕНТКА', lemma='СТУДЕНТКА', main_word='', synt_type='N', poses='', synset_id='N36005', meaning='1')])"
            ]
          },
          "metadata": {},
          "execution_count": 200
        }
      ]
    },
    {
      "cell_type": "code",
      "source": [
        "def find_parents(synsets, id1):\n",
        "  parents = set(synsets[id1].hypernyms)\n",
        "  return parents\n",
        "\n",
        "\n",
        "old_el1 = set()\n",
        "old_el2 = set()\n",
        "\n",
        "parents1 = set(synsets['N27811'].hypernyms) # кошка\n",
        "parents2 = set(synsets['N36005'].hypernyms) # студент\n",
        "\n",
        "while not parents1&parents2:\n",
        "  new_el1 = parents1 - old_el1\n",
        "  new_el2 = parents2 - old_el2\n",
        "  old_el1 = parents1.copy()\n",
        "  old_el2 = parents2.copy()\n",
        "\n",
        "  for i in new_el1:\n",
        "    parents1 |= find_parents(synsets, i)\n",
        "\n",
        "  for i in new_el2:\n",
        "    parents2 |= find_parents(synsets, i)"
      ],
      "metadata": {
        "id": "V88ER7-M1hl5"
      },
      "id": "V88ER7-M1hl5",
      "execution_count": 221,
      "outputs": []
    },
    {
      "cell_type": "code",
      "source": [
        "parents1&parents2"
      ],
      "metadata": {
        "colab": {
          "base_uri": "https://localhost:8080/"
        },
        "id": "EZXF2DFB0_5q",
        "outputId": "61b7f565-495a-4df9-bb8a-25034e19fc55"
      },
      "id": "EZXF2DFB0_5q",
      "execution_count": 222,
      "outputs": [
        {
          "output_type": "execute_result",
          "data": {
            "text/plain": [
              "{'N13063'}"
            ]
          },
          "metadata": {},
          "execution_count": 222
        }
      ]
    },
    {
      "cell_type": "code",
      "source": [
        "synsets['N13063'].ruthes_name"
      ],
      "metadata": {
        "colab": {
          "base_uri": "https://localhost:8080/",
          "height": 36
        },
        "id": "tinpKsNA6-lD",
        "outputId": "506af651-c5d3-4c1e-fc46-2c59f5121eff"
      },
      "id": "tinpKsNA6-lD",
      "execution_count": 223,
      "outputs": [
        {
          "output_type": "execute_result",
          "data": {
            "text/plain": [
              "'ЖИВОЙ ОРГАНИЗМ'"
            ],
            "application/vnd.google.colaboratory.intrinsic+json": {
              "type": "string"
            }
          },
          "metadata": {},
          "execution_count": 223
        }
      ]
    },
    {
      "cell_type": "markdown",
      "id": "9a306bef",
      "metadata": {
        "id": "9a306bef"
      },
      "source": [
        "<p class=\"task\" id=\"6\"></p>\n",
        "\n",
        "6\\. Для каждого слова из представленного текста найдите все возможные синонимы. Набор синонимов получите на основе поля `senses` у объектов `Synset`. В случае обнаружения точного совпадения введенного слова хотя бы с одним элементом из `senses`, весь набор `senses` трактуйте как синонимы. При поиске приводите слово к нормальной форме и не учитывайте регистр слов.\n",
        "\n",
        "Составьте все возможные вариации данного предложения, заменяя слова на найденные синонимы. В случае отсутствия синонимов для какого-то из слов, используйте исходное слово для генерации предложения. Выведите на экран общее количество перефразированных предложений.\n",
        "\n",
        "- [ ] Проверено на семинаре"
      ]
    },
    {
      "cell_type": "code",
      "execution_count": 225,
      "id": "b4b0cc9c",
      "metadata": {
        "id": "b4b0cc9c",
        "colab": {
          "base_uri": "https://localhost:8080/"
        },
        "outputId": "25849775-4610-4cb8-d843-491846dbacad"
      },
      "outputs": [
        {
          "output_type": "execute_result",
          "data": {
            "text/plain": [
              "['студент', 'ужаснуться', 'когда', 'увидеть', 'задача']"
            ]
          },
          "metadata": {},
          "execution_count": 225
        }
      ],
      "source": [
        "text = \"Студент ужаснулся когда увидел задачу\"\n",
        "\n",
        "morph = pymorphy2.MorphAnalyzer()\n",
        "words6 = [morph.parse(word)[0].normal_form for word in text.lower().split()]\n",
        "words6"
      ]
    },
    {
      "cell_type": "code",
      "source": [
        "synonims = {}\n",
        "for word in words6:\n",
        "  synonims[word] = set()\n",
        "\n",
        "  for i in synsets:\n",
        "    names = set()\n",
        "    fl = 0\n",
        "    fl2 = 0\n",
        "    for j in synsets[i].senses:\n",
        "      names.add(j.name)\n",
        "      if fl == 0 and j.name.lower() == word:\n",
        "        fl = 1\n",
        "      if fl2 == 0 and j.lemma.lower() == word:\n",
        "        fl2 = 1\n",
        "\n",
        "    if fl2:\n",
        "      synonims[word].add(synsets[i].ruthes_name)\n",
        "    if fl:\n",
        "      synonims[word] |= names"
      ],
      "metadata": {
        "id": "oJzaFxlhANGL"
      },
      "id": "oJzaFxlhANGL",
      "execution_count": 249,
      "outputs": []
    },
    {
      "cell_type": "code",
      "source": [
        "synonims"
      ],
      "metadata": {
        "colab": {
          "base_uri": "https://localhost:8080/"
        },
        "id": "Hg9734PF7V7K",
        "outputId": "8a8677ee-957e-4232-bc4c-5aa8fd375ab1"
      },
      "id": "Hg9734PF7V7K",
      "execution_count": 250,
      "outputs": [
        {
          "output_type": "execute_result",
          "data": {
            "text/plain": [
              "{'студент': {'СТУДЕНТ', 'СТУДЕНТКА'},\n",
              " 'ужаснуться': {'НЕПРИЯТНО УДИВИТЬСЯ',\n",
              "  'ПРИЙТИ В УЖАС',\n",
              "  'ПРИХОДИТЬ В УЖАС',\n",
              "  'СТЫНЕТ КРОВЬ',\n",
              "  'СТЫНЕТ КРОВЬ В ЖИЛАХ',\n",
              "  'СХВАТИТЬСЯ ЗА ГОЛОВУ',\n",
              "  'УЖАСАТЬСЯ',\n",
              "  'УЖАСНУТЬСЯ',\n",
              "  'УЖАСНУТЬСЯ (ИСПУГАТЬСЯ)',\n",
              "  'УЖАСНУТЬСЯ, НЕПРИЯТНО УДИВИТЬСЯ',\n",
              "  'ХВАТАТЬСЯ ЗА ГОЛОВУ'},\n",
              " 'когда': set(),\n",
              " 'увидеть': {'ВИДАТЬСЯ',\n",
              "  'ВИДЕТЬ',\n",
              "  'ВИДЕТЬ ГЛАЗАМИ',\n",
              "  'ВИДЕТЬ, ВОСПРИНИМАТЬ ЗРЕНИЕМ',\n",
              "  'ВИДЕТЬСЯ',\n",
              "  'ВОСПРИНИМАТЬ ЗРЕНИЕМ',\n",
              "  'ВСКРЫВАТЬ',\n",
              "  'ВСКРЫТЬ',\n",
              "  'ВСТРЕТИТЬ',\n",
              "  'ВСТРЕТИТЬ, УВИДЕТЬСЯ',\n",
              "  'ВСТРЕТИТЬСЯ',\n",
              "  'ВСТРЕЧАТЬ',\n",
              "  'ВСТРЕЧАТЬСЯ',\n",
              "  'ВЫСВЕТИТЬ',\n",
              "  'ВЫСВЕЧИВАТЬ',\n",
              "  'ВЫЯВИТЬ',\n",
              "  'ВЫЯВЛЯТЬ',\n",
              "  'ЗАМЕТИТЬ',\n",
              "  'ЗАМЕТИТЬ, ОБНАРУЖИТЬ',\n",
              "  'ЗАМЕЧАТЬ',\n",
              "  'ЗАПРИМЕТИТЬ',\n",
              "  'ЗАСЕКАТЬ',\n",
              "  'ЗАСЕЧЬ',\n",
              "  'ИМЕТЬ ВСТРЕЧУ',\n",
              "  'ЛИЦЕЗРЕТЬ',\n",
              "  'НЕ УСКОЛЬЗНУТЬ ОТ ВНИМАНИЯ',\n",
              "  'ОБНАРУЖИВАТЬ',\n",
              "  'ОБНАРУЖИТЬ',\n",
              "  'ПЕРЕСЕКАТЬСЯ',\n",
              "  'ПЕРЕСЕЧЬСЯ',\n",
              "  'ПОВИДАТЬ',\n",
              "  'ПОВИДАТЬСЯ',\n",
              "  'ПОДМЕТИТЬ',\n",
              "  'ПОДМЕЧАТЬ',\n",
              "  'ПРИМЕТИТЬ',\n",
              "  'ПРИМЕЧАТЬ',\n",
              "  'РАЗГЛЯДЕТЬ',\n",
              "  'СВИДЕТЬСЯ',\n",
              "  'УВИДАТЬ',\n",
              "  'УВИДЕТЬ',\n",
              "  'УВИДЕТЬСЯ',\n",
              "  'УЗРЕТЬ',\n",
              "  'УЛИЦЕЗРЕТЬ',\n",
              "  'УСМАТРИВАТЬ',\n",
              "  'УСМОТРЕТЬ',\n",
              "  'УСМОТРЕТЬ (СЧЕСТЬ, ПРИЗНАТЬ СУЩЕСТВУЮЩИМ)'},\n",
              " 'задача': {'ЗАДАЧА', 'ЗАДАЧА (УПРАЖНЕНИЕ)', 'ЗАДАЧА (ЦЕЛЬ)', 'ЗАДАЧКА'}}"
            ]
          },
          "metadata": {},
          "execution_count": 250
        }
      ]
    },
    {
      "cell_type": "markdown",
      "id": "724b1c9c",
      "metadata": {
        "id": "724b1c9c"
      },
      "source": [
        "## Обратная связь\n",
        "- [ ] Хочу получить обратную связь по решению"
      ]
    }
  ],
  "metadata": {
    "kernelspec": {
      "display_name": "Python 3 (ipykernel)",
      "language": "python",
      "name": "python3"
    },
    "language_info": {
      "codemirror_mode": {
        "name": "ipython",
        "version": 3
      },
      "file_extension": ".py",
      "mimetype": "text/x-python",
      "name": "python",
      "nbconvert_exporter": "python",
      "pygments_lexer": "ipython3",
      "version": "3.9.13"
    },
    "colab": {
      "provenance": []
    }
  },
  "nbformat": 4,
  "nbformat_minor": 5
}
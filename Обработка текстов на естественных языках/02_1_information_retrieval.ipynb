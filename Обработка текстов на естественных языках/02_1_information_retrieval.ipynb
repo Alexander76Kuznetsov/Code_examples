{
  "cells": [
    {
      "cell_type": "markdown",
      "id": "de42f073",
      "metadata": {
        "id": "de42f073"
      },
      "source": [
        "# Информационный поиск\n",
        "\n",
        "__Автор задач: Блохин Н.В. (NVBlokhin@fa.ru)__\n",
        "\n",
        "Материалы:\n",
        "* https://nlp.stanford.edu/~manning/xyzzy/Intro_Inform_Retrieval_Russian.pdf\n",
        "* https://en.wikipedia.org/wiki/Jaccard_index\n",
        "* https://en.wikipedia.org/wiki/TF-IDF\n",
        "* https://en.wikipedia.org/wiki/Okapi_BM25"
      ]
    },
    {
      "cell_type": "markdown",
      "id": "afcdb9cf",
      "metadata": {
        "id": "afcdb9cf"
      },
      "source": [
        "## Задачи для совместного разбора"
      ]
    },
    {
      "cell_type": "markdown",
      "id": "0ac7edf6",
      "metadata": {
        "id": "0ac7edf6"
      },
      "source": [
        "1\\. Дан корпус текстов. Построить прямой и обратный индексы для слов из текста"
      ]
    },
    {
      "cell_type": "code",
      "execution_count": null,
      "id": "64a308df",
      "metadata": {
        "id": "64a308df"
      },
      "outputs": [],
      "source": [
        "corpus = [\n",
        "    \"Первым специальным индексом для запросов с джокером общего вида является перестановочный индекс\",\n",
        "    \"Методы усовершенствования индексов для расширения функциональных возможностей и повышения скорости поиска\"\n",
        "]"
      ]
    },
    {
      "cell_type": "code",
      "source": [
        "!pip install pymorphy2"
      ],
      "metadata": {
        "id": "6D0ZwcpFgAi2"
      },
      "id": "6D0ZwcpFgAi2",
      "execution_count": null,
      "outputs": []
    },
    {
      "cell_type": "code",
      "source": [
        "from nltk import word_tokenize\n",
        "\n",
        "import nltk\n",
        "nltk.download('punkt')"
      ],
      "metadata": {
        "colab": {
          "base_uri": "https://localhost:8080/"
        },
        "id": "h7NPNX5wgN52",
        "outputId": "b8478cb8-6da7-42cd-ace6-d300bdf25ffd"
      },
      "id": "h7NPNX5wgN52",
      "execution_count": null,
      "outputs": [
        {
          "output_type": "stream",
          "name": "stderr",
          "text": [
            "[nltk_data] Downloading package punkt to /root/nltk_data...\n",
            "[nltk_data]   Unzipping tokenizers/punkt.zip.\n"
          ]
        },
        {
          "output_type": "execute_result",
          "data": {
            "text/plain": [
              "True"
            ]
          },
          "metadata": {},
          "execution_count": 8
        }
      ]
    },
    {
      "cell_type": "code",
      "source": [
        "import pymorphy2\n",
        "\n",
        "morph = pymorphy2.MorphAnalyzer()"
      ],
      "metadata": {
        "id": "ScZMmi-4fLLF"
      },
      "id": "ScZMmi-4fLLF",
      "execution_count": null,
      "outputs": []
    },
    {
      "cell_type": "code",
      "source": [
        "index = {}\n",
        "for idx, doc in enumerate(corpus):\n",
        "  index[idx] = [\n",
        "    morph.parse(w)[0].normal_form\n",
        "    for w in word_tokenize(doc)\n",
        "  ]"
      ],
      "metadata": {
        "id": "tAHtgQ6cf_Qg"
      },
      "id": "tAHtgQ6cf_Qg",
      "execution_count": null,
      "outputs": []
    },
    {
      "cell_type": "code",
      "source": [
        "index"
      ],
      "metadata": {
        "id": "YPXX1iWJgaCO"
      },
      "id": "YPXX1iWJgaCO",
      "execution_count": null,
      "outputs": []
    },
    {
      "cell_type": "code",
      "source": [
        "from collections import defaultdict\n",
        "# inv_index = defaultdict(list)\n",
        "inv_index = defaultdict(set)\n",
        "\n",
        "# defaultdict(f)\n",
        "# if k not in d:\n",
        "# d[k] = f() # list()\n",
        "\n",
        "for idx, tokens in index.items():\n",
        "  for tok in tokens:\n",
        "    inv_index[tok].add(idx)"
      ],
      "metadata": {
        "id": "I15jH8NWgmK_"
      },
      "id": "I15jH8NWgmK_",
      "execution_count": null,
      "outputs": []
    },
    {
      "cell_type": "markdown",
      "source": [
        "2\\. Посчитать индекс Жаккара для предложений из заданного корпуса."
      ],
      "metadata": {
        "id": "FBAmdMYpipnJ"
      },
      "id": "FBAmdMYpipnJ"
    },
    {
      "cell_type": "code",
      "source": [
        "index[0]"
      ],
      "metadata": {
        "colab": {
          "base_uri": "https://localhost:8080/"
        },
        "id": "lKyPLX6Kg7uW",
        "outputId": "23e3c45e-6323-43ab-bf6d-9f485b34f866"
      },
      "id": "lKyPLX6Kg7uW",
      "execution_count": null,
      "outputs": [
        {
          "output_type": "execute_result",
          "data": {
            "text/plain": [
              "['первый',\n",
              " 'специальный',\n",
              " 'индекс',\n",
              " 'для',\n",
              " 'запрос',\n",
              " 'с',\n",
              " 'джокер',\n",
              " 'общий',\n",
              " 'вид',\n",
              " 'являться',\n",
              " 'перестановочный',\n",
              " 'индекс']"
            ]
          },
          "metadata": {},
          "execution_count": 16
        }
      ]
    },
    {
      "cell_type": "code",
      "source": [
        "index[1]"
      ],
      "metadata": {
        "colab": {
          "base_uri": "https://localhost:8080/"
        },
        "id": "F1RV4CobiChm",
        "outputId": "fa606590-fdec-4d3b-e7b1-84056b6cf386"
      },
      "id": "F1RV4CobiChm",
      "execution_count": null,
      "outputs": [
        {
          "output_type": "execute_result",
          "data": {
            "text/plain": [
              "['метод',\n",
              " 'усовершенствование',\n",
              " 'индекс',\n",
              " 'для',\n",
              " 'расширение',\n",
              " 'функциональный',\n",
              " 'возможность',\n",
              " 'и',\n",
              " 'повышение',\n",
              " 'скорость',\n",
              " 'поиск']"
            ]
          },
          "metadata": {},
          "execution_count": 17
        }
      ]
    },
    {
      "cell_type": "code",
      "source": [
        "(\n",
        "    len(set(index[0]).intersection(set(index[1]))),\n",
        "    len(set(index[0]).union(set(index[1])))\n",
        ")"
      ],
      "metadata": {
        "colab": {
          "base_uri": "https://localhost:8080/"
        },
        "id": "2n0g2NvTiEiW",
        "outputId": "53f63945-a0b0-4142-e2f0-9635af1d3f86"
      },
      "id": "2n0g2NvTiEiW",
      "execution_count": null,
      "outputs": [
        {
          "output_type": "execute_result",
          "data": {
            "text/plain": [
              "(2, 20)"
            ]
          },
          "metadata": {},
          "execution_count": 21
        }
      ]
    },
    {
      "cell_type": "markdown",
      "id": "610d0f40",
      "metadata": {
        "id": "610d0f40"
      },
      "source": [
        "## Задачи для самостоятельного решения"
      ]
    },
    {
      "cell_type": "markdown",
      "id": "ed0981f2",
      "metadata": {
        "id": "ed0981f2"
      },
      "source": [
        "<p class=\"task\" id=\"1\"></p>\n",
        "\n",
        "1\\. Считайте тексты новостей из файла `news.json`. Назовём прямым индексом словарь, где ключами являются номера новостей, а значениями - списки нормализованных слов, входящих в эту новость. Номер новости определяется ее положением в файле. Назовём обратным индексом словарь, где ключами являются нормальные формы слов, а значениями - множества номеров новостей, которые содержат данное слово (не обязательно в нормальной форме). Постройте прямой и обратный индекс. Выведите из длины на экран. Выведите значения обратного индекса по ключу \"москва\".\n",
        "\n",
        "- [ ] Проверено на семинаре"
      ]
    },
    {
      "cell_type": "code",
      "source": [
        "!pip install pymorphy2"
      ],
      "metadata": {
        "colab": {
          "base_uri": "https://localhost:8080/"
        },
        "id": "QXssfXiPJQxh",
        "outputId": "935393cb-7619-4f6f-cbdc-5f7451cac835"
      },
      "id": "QXssfXiPJQxh",
      "execution_count": null,
      "outputs": [
        {
          "output_type": "stream",
          "name": "stdout",
          "text": [
            "Collecting pymorphy2\n",
            "  Downloading pymorphy2-0.9.1-py3-none-any.whl (55 kB)\n",
            "\u001b[2K     \u001b[90m━━━━━━━━━━━━━━━━━━━━━━━━━━━━━━━━━━━━━━━━\u001b[0m \u001b[32m55.5/55.5 kB\u001b[0m \u001b[31m1.7 MB/s\u001b[0m eta \u001b[36m0:00:00\u001b[0m\n",
            "\u001b[?25hCollecting dawg-python>=0.7.1 (from pymorphy2)\n",
            "  Downloading DAWG_Python-0.7.2-py2.py3-none-any.whl (11 kB)\n",
            "Collecting pymorphy2-dicts-ru<3.0,>=2.4 (from pymorphy2)\n",
            "  Downloading pymorphy2_dicts_ru-2.4.417127.4579844-py2.py3-none-any.whl (8.2 MB)\n",
            "\u001b[2K     \u001b[90m━━━━━━━━━━━━━━━━━━━━━━━━━━━━━━━━━━━━━━━━\u001b[0m \u001b[32m8.2/8.2 MB\u001b[0m \u001b[31m63.7 MB/s\u001b[0m eta \u001b[36m0:00:00\u001b[0m\n",
            "\u001b[?25hCollecting docopt>=0.6 (from pymorphy2)\n",
            "  Downloading docopt-0.6.2.tar.gz (25 kB)\n",
            "  Preparing metadata (setup.py) ... \u001b[?25l\u001b[?25hdone\n",
            "Building wheels for collected packages: docopt\n",
            "  Building wheel for docopt (setup.py) ... \u001b[?25l\u001b[?25hdone\n",
            "  Created wheel for docopt: filename=docopt-0.6.2-py2.py3-none-any.whl size=13705 sha256=a688a2baa0070a56e8dc184ee25a4008cd3216309546555902470a3f73970cf8\n",
            "  Stored in directory: /root/.cache/pip/wheels/fc/ab/d4/5da2067ac95b36618c629a5f93f809425700506f72c9732fac\n",
            "Successfully built docopt\n",
            "Installing collected packages: pymorphy2-dicts-ru, docopt, dawg-python, pymorphy2\n",
            "Successfully installed dawg-python-0.7.2 docopt-0.6.2 pymorphy2-0.9.1 pymorphy2-dicts-ru-2.4.417127.4579844\n"
          ]
        }
      ]
    },
    {
      "cell_type": "code",
      "source": [
        "from nltk import word_tokenize\n",
        "import pandas as pd\n",
        "import json\n",
        "import pymorphy2\n",
        "from nltk.tokenize import RegexpTokenizer\n",
        "from nltk.tokenize import  word_tokenize\n",
        "from collections import defaultdict\n",
        "\n",
        "import nltk\n",
        "nltk.download('punkt')"
      ],
      "metadata": {
        "colab": {
          "base_uri": "https://localhost:8080/"
        },
        "id": "sHV04DP-JUk7",
        "outputId": "2f565c26-e251-47d2-cfb3-efe7c1ab4480"
      },
      "id": "sHV04DP-JUk7",
      "execution_count": 70,
      "outputs": [
        {
          "output_type": "stream",
          "name": "stderr",
          "text": [
            "[nltk_data] Downloading package punkt to /root/nltk_data...\n",
            "[nltk_data]   Package punkt is already up-to-date!\n"
          ]
        },
        {
          "output_type": "execute_result",
          "data": {
            "text/plain": [
              "True"
            ]
          },
          "metadata": {},
          "execution_count": 70
        }
      ]
    },
    {
      "cell_type": "code",
      "source": [
        "with open('news.json') as fp:\n",
        "  file = json.load(fp)"
      ],
      "metadata": {
        "id": "rFSRGUZOIfqm"
      },
      "id": "rFSRGUZOIfqm",
      "execution_count": 133,
      "outputs": []
    },
    {
      "cell_type": "code",
      "source": [
        "# каждая новость - это одно предложение\n",
        "pd.read_json('news.json')[0].apply(lambda x: '.' in x).any() +\\\n",
        "        pd.read_json('news.json')[0].apply(lambda x: ',' in x).any() +\\\n",
        "        pd.read_json('news.json')[0].apply(lambda x: '?' in x).any() +\\\n",
        "        pd.read_json('news.json')[0].apply(lambda x: '!' in x).any()"
      ],
      "metadata": {
        "colab": {
          "base_uri": "https://localhost:8080/"
        },
        "id": "MtInRVg9KWbt",
        "outputId": "32d24bfa-b311-4f9f-e034-2e934eb5c8ce"
      },
      "id": "MtInRVg9KWbt",
      "execution_count": 134,
      "outputs": [
        {
          "output_type": "execute_result",
          "data": {
            "text/plain": [
              "False"
            ]
          },
          "metadata": {},
          "execution_count": 134
        }
      ]
    },
    {
      "cell_type": "code",
      "source": [
        "morph = pymorphy2.MorphAnalyzer()\n",
        "#tokenizer = RegexpTokenizer(\"\\w+\")\n",
        "tokenizer = RegexpTokenizer(\"[а-яёА-ЯЁa-zA-Z]+\")"
      ],
      "metadata": {
        "id": "qMF6UEeKIASf"
      },
      "id": "qMF6UEeKIASf",
      "execution_count": 135,
      "outputs": []
    },
    {
      "cell_type": "code",
      "source": [
        "index_forward = {}\n",
        "for idx, doc in enumerate(file):\n",
        "  index_forward[idx] = [\n",
        "    morph.parse(w)[0].normal_form\n",
        "    for w in tokenizer.tokenize(doc.lower())\n",
        "  ]"
      ],
      "metadata": {
        "id": "3OEPS70-I2EE"
      },
      "id": "3OEPS70-I2EE",
      "execution_count": 136,
      "outputs": []
    },
    {
      "cell_type": "code",
      "source": [
        "file[1]"
      ],
      "metadata": {
        "colab": {
          "base_uri": "https://localhost:8080/",
          "height": 36
        },
        "id": "WV1RHB9BL0OA",
        "outputId": "46a63239-8c9d-40db-cd2d-17790bb72358"
      },
      "id": "WV1RHB9BL0OA",
      "execution_count": 137,
      "outputs": [
        {
          "output_type": "execute_result",
          "data": {
            "text/plain": [
              "'банк россии решил снизить ключевую ставку с 20  до 17 '"
            ],
            "application/vnd.google.colaboratory.intrinsic+json": {
              "type": "string"
            }
          },
          "metadata": {},
          "execution_count": 137
        }
      ]
    },
    {
      "cell_type": "code",
      "source": [
        "index_forward[1]"
      ],
      "metadata": {
        "colab": {
          "base_uri": "https://localhost:8080/"
        },
        "id": "Jws9MWjALWhp",
        "outputId": "765c054a-5159-490c-94a6-3f4a3ba76542"
      },
      "id": "Jws9MWjALWhp",
      "execution_count": 138,
      "outputs": [
        {
          "output_type": "execute_result",
          "data": {
            "text/plain": [
              "['банк', 'россия', 'решить', 'снизить', 'ключевой', 'ставка', 'с', 'до']"
            ]
          },
          "metadata": {},
          "execution_count": 138
        }
      ]
    },
    {
      "cell_type": "code",
      "source": [
        "# index_backward = {}\n",
        "\n",
        "# for idx, words in index_forward.items():\n",
        "#   for word in words:\n",
        "#     if word not in index_backward:\n",
        "#       index_backward[word] = []\n",
        "#     index_backward[word].append(idx)"
      ],
      "metadata": {
        "id": "M1MPcFnGL--I"
      },
      "id": "M1MPcFnGL--I",
      "execution_count": 139,
      "outputs": []
    },
    {
      "cell_type": "code",
      "source": [
        "index_backward = defaultdict(set)\n",
        "\n",
        "for idx, tokens in index_forward.items():\n",
        "  for tok in tokens:\n",
        "    index_backward[tok].add(idx)"
      ],
      "metadata": {
        "id": "gVgzJqFQPvDK"
      },
      "id": "gVgzJqFQPvDK",
      "execution_count": 140,
      "outputs": []
    },
    {
      "cell_type": "code",
      "source": [
        "index_backward['банк']"
      ],
      "metadata": {
        "colab": {
          "base_uri": "https://localhost:8080/"
        },
        "id": "HLSDHU6lMYzt",
        "outputId": "cd588b91-2052-49c1-93fa-cb32f09cb4dd"
      },
      "id": "HLSDHU6lMYzt",
      "execution_count": 141,
      "outputs": [
        {
          "output_type": "execute_result",
          "data": {
            "text/plain": [
              "{1, 348, 447}"
            ]
          },
          "metadata": {},
          "execution_count": 141
        }
      ]
    },
    {
      "cell_type": "code",
      "source": [
        "print(file[1])\n",
        "print(file[348])\n",
        "print(file[447])"
      ],
      "metadata": {
        "colab": {
          "base_uri": "https://localhost:8080/"
        },
        "id": "qnYsySPRMbck",
        "outputId": "937423f2-727f-482e-df31-7ee8e6cdae72"
      },
      "id": "qnYsySPRMbck",
      "execution_count": 142,
      "outputs": [
        {
          "output_type": "stream",
          "name": "stdout",
          "text": [
            "банк россии решил снизить ключевую ставку с 20  до 17 \n",
            "«тинькофф банк» заблокировал доступ к пожертвованиям  собранным на выплату штрафов за пикеты — журналист илья азар\n",
            "банк россии выступил против идеи страховать нефть\n"
          ]
        }
      ]
    },
    {
      "cell_type": "code",
      "source": [
        "len(index_forward), len(index_backward)"
      ],
      "metadata": {
        "colab": {
          "base_uri": "https://localhost:8080/"
        },
        "id": "_blQBPdeNDtf",
        "outputId": "6db8619d-3f40-4b6d-c25b-adbaf0c0b0bd"
      },
      "id": "_blQBPdeNDtf",
      "execution_count": 143,
      "outputs": [
        {
          "output_type": "execute_result",
          "data": {
            "text/plain": [
              "(500, 2375)"
            ]
          },
          "metadata": {},
          "execution_count": 143
        }
      ]
    },
    {
      "cell_type": "markdown",
      "id": "14129c09",
      "metadata": {
        "id": "14129c09"
      },
      "source": [
        "<p class=\"task\" id=\"2\"></p>\n",
        "\n",
        "2\\. Для каждого документа из текста определите, как часто слова этого документа встречаются в заданном тексте, воспользовавшись обратным индексом. Выведите на экран текст топ-3 новостей, наиболее похожих по набору токенов на заданный текст. Выведите на экран текст найденных новостей и количество совпадающих токенов.\n",
        "\n",
        "- [ ] Проверено на семинаре"
      ]
    },
    {
      "cell_type": "code",
      "execution_count": 144,
      "id": "d01d117e",
      "metadata": {
        "id": "d01d117e"
      },
      "outputs": [],
      "source": [
        "example = \"Жириновский предложил перенести столицу из Москвы\""
      ]
    },
    {
      "cell_type": "code",
      "source": [
        "words_example = [morph.parse(w)[0].normal_form for w in tokenizer.tokenize(example)]\n",
        "words_example"
      ],
      "metadata": {
        "colab": {
          "base_uri": "https://localhost:8080/"
        },
        "id": "N6rB4SdKNTAs",
        "outputId": "bd3f6dc7-c02d-4dff-a991-cb73700ea56c"
      },
      "id": "N6rB4SdKNTAs",
      "execution_count": 145,
      "outputs": [
        {
          "output_type": "execute_result",
          "data": {
            "text/plain": [
              "['жириновский', 'предложить', 'перенести', 'столица', 'из', 'москва']"
            ]
          },
          "metadata": {},
          "execution_count": 145
        }
      ]
    },
    {
      "cell_type": "code",
      "source": [
        "d2 = {}\n",
        "for word in words_example:\n",
        "  docs = index_backward[word]\n",
        "  for idx in docs:\n",
        "    d2[idx] = d2.get(idx,0)+1"
      ],
      "metadata": {
        "id": "_qRC7FmYOdj-"
      },
      "id": "_qRC7FmYOdj-",
      "execution_count": 146,
      "outputs": []
    },
    {
      "cell_type": "code",
      "source": [
        "similar_texts = sorted(d2.items(),key=lambda x: x[1], reverse=True)\n",
        "for i in similar_texts[:3]:\n",
        "  print('text:', file[i[0]])\n",
        "  print('number of repeating tokens:', i[1])\n",
        "  print()\n"
      ],
      "metadata": {
        "colab": {
          "base_uri": "https://localhost:8080/"
        },
        "id": "a878ugjQQRmK",
        "outputId": "7112d782-ba32-4df8-b683-c7616704a132"
      },
      "id": "a878ugjQQRmK",
      "execution_count": 147,
      "outputs": [
        {
          "output_type": "stream",
          "name": "stdout",
          "text": [
            "text: трамп предложил перенести новые санкции против россии из за дня народного единства \n",
            "number of repeating tokens: 3\n",
            "\n",
            "text: жириновский предложил дать ремня создателям гачимучи каверов на известные песни \n",
            "number of repeating tokens: 2\n",
            "\n",
            "text: 31 декабря владимир жириновский предложит имя своего преемника \n",
            "number of repeating tokens: 2\n",
            "\n"
          ]
        }
      ]
    },
    {
      "cell_type": "markdown",
      "id": "976c770a",
      "metadata": {
        "id": "976c770a"
      },
      "source": [
        "<p class=\"task\" id=\"3\"></p>\n",
        "\n",
        "3\\. Для заданного текста новости найдите топ-3 наиболее похожих новости, воспользовавшись коэффициентом Жаккара. Для определения количества общих слов в тексте используйте обратный индекс.  Выведите на экран текст найденных новостей и значение коэффициента Жаккара для каждой новости.\n",
        "\n",
        "- [ ] Проверено на семинаре"
      ]
    },
    {
      "cell_type": "markdown",
      "source": [
        "![image.png](data:image/png;base64,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)"
      ],
      "metadata": {
        "id": "QP7FEsrjTBG8"
      },
      "id": "QP7FEsrjTBG8"
    },
    {
      "cell_type": "markdown",
      "source": [
        "Из прошлого номера возбмем словарь d2, созданный через обратный индекс.\n",
        "\n",
        "Если индекс документа есть в d2, значит $c = doc \\cap example = d2[idx]$, если нет, то $c = 0$"
      ],
      "metadata": {
        "id": "8qtGb1ryTuOV"
      },
      "id": "8qtGb1ryTuOV"
    },
    {
      "cell_type": "code",
      "execution_count": 148,
      "id": "e3803082",
      "metadata": {
        "id": "e3803082"
      },
      "outputs": [],
      "source": [
        "example = \"Жириновский предложил перенести столицу из Москвы\""
      ]
    },
    {
      "cell_type": "code",
      "source": [
        "words_example = [morph.parse(w)[0].normal_form for w in tokenizer.tokenize(example)]\n",
        "a = len(set(words_example))\n",
        "\n",
        "d3 = {}\n",
        "for word in words_example:\n",
        "  docs = index_backward[word]\n",
        "  for idx in docs:\n",
        "    d3[idx] = d3.get(idx,0)+1"
      ],
      "metadata": {
        "id": "HAV13duFUx3y"
      },
      "id": "HAV13duFUx3y",
      "execution_count": 149,
      "outputs": []
    },
    {
      "cell_type": "code",
      "source": [
        "K_J = {}\n",
        "for idx, txt in index_forward.items():\n",
        "  if idx in d3:\n",
        "    c = d3[idx]\n",
        "    b = len(set(txt))\n",
        "    K_J[idx] = c / (a+b-c)\n",
        "  else:\n",
        "    K_J[idx] = 0"
      ],
      "metadata": {
        "id": "LGfD2RTcU5W7"
      },
      "id": "LGfD2RTcU5W7",
      "execution_count": 150,
      "outputs": []
    },
    {
      "cell_type": "code",
      "source": [
        "similar_texts3 = sorted(K_J.items(), key=lambda x: x[1], reverse=True)\n",
        "for i in similar_texts3[:3]:\n",
        "  print('text:', file[i[0]])\n",
        "  print('K_J:', i[1])\n",
        "  print()\n"
      ],
      "metadata": {
        "colab": {
          "base_uri": "https://localhost:8080/"
        },
        "id": "gMPhHcboV9VH",
        "outputId": "6b38f08f-7840-42c6-f903-d844fa3f31ef"
      },
      "id": "gMPhHcboV9VH",
      "execution_count": 151,
      "outputs": [
        {
          "output_type": "stream",
          "name": "stdout",
          "text": [
            "text: трамп предложил перенести новые санкции против россии из за дня народного единства \n",
            "K_J: 0.2\n",
            "\n",
            "text: международную универсиаду 2023 года перенесут из екатеринбурга\n",
            "K_J: 0.2\n",
            "\n",
            "text: 31 декабря владимир жириновский предложит имя своего преемника \n",
            "K_J: 0.18181818181818182\n",
            "\n"
          ]
        }
      ]
    },
    {
      "cell_type": "markdown",
      "id": "0d7f7cd3",
      "metadata": {
        "id": "0d7f7cd3"
      },
      "source": [
        "<p class=\"task\" id=\"4\"></p>\n",
        "\n",
        "4\\. Реализуйте функцию для расчета TF-IDF.\n",
        "![image.png](attachment:image.png)\n",
        "![image-2.png](attachment:image-2.png)\n",
        "![image-3.png](attachment:image-3.png)\n",
        "\n",
        "Для расчета обратной частоты документа воспользуйтесь обратным индексом из предыдущей задачи. При расчете IDF добавьте сглаживание, прибавив единицу к числителю и знаменателю дроби.\n",
        "\n",
        "- [ ] Проверено на семинаре"
      ]
    },
    {
      "cell_type": "code",
      "source": [
        "import numpy as np"
      ],
      "metadata": {
        "id": "JnodICxUYB1l"
      },
      "id": "JnodICxUYB1l",
      "execution_count": 161,
      "outputs": []
    },
    {
      "cell_type": "code",
      "source": [
        "idf = {}\n",
        "N = len(file)\n",
        "\n",
        "for word, docs_id in index_backward.items():\n",
        "  idf[word] = np.log((N+1) / (len(docs_id)+1))"
      ],
      "metadata": {
        "id": "LOIxG7FKZkY7"
      },
      "id": "LOIxG7FKZkY7",
      "execution_count": 164,
      "outputs": []
    },
    {
      "cell_type": "code",
      "source": [
        "tf_idf = {}\n",
        "for idx, doc in index_forward.items():\n",
        "  tf_idf[idx] = {}\n",
        "  for word in doc:\n",
        "    tf_idf[idx][word] = doc.count(word) / len(doc) * idf[word]"
      ],
      "metadata": {
        "id": "oGFSQz5tYdcn"
      },
      "id": "oGFSQz5tYdcn",
      "execution_count": 167,
      "outputs": []
    },
    {
      "cell_type": "markdown",
      "id": "0228dd96",
      "metadata": {
        "id": "0228dd96"
      },
      "source": [
        "<p class=\"task\" id=\"5\"></p>\n",
        "\n",
        "5\\. Используя собственную реализацию TD-IDF, закодируйте новости. Результатом должна являться матрица `MxN`, где `M` - количество новостей в корпусе, `N` - размер обратного индекса. Выведите форму полученной матрицы на экран.\n",
        "\n",
        "- [ ] Проверено на семинаре"
      ]
    },
    {
      "cell_type": "code",
      "source": [
        "df5 = pd.DataFrame(tf_idf).T.fillna(0)\n",
        "df5.iloc[:10,:10]"
      ],
      "metadata": {
        "colab": {
          "base_uri": "https://localhost:8080/",
          "height": 363
        },
        "id": "IM28vahOZi6f",
        "outputId": "6f8d6866-5d59-4642-8065-9c98f486cf99"
      },
      "id": "IM28vahOZi6f",
      "execution_count": 191,
      "outputs": [
        {
          "output_type": "execute_result",
          "data": {
            "text/plain": [
              "   российский    бюджет         в      март  недополучить    более  миллиард  \\\n",
              "0    0.269025  0.511799  0.084133  0.552346      0.552346  0.42707   0.42707   \n",
              "1    0.000000  0.000000  0.000000  0.000000      0.000000  0.00000   0.00000   \n",
              "2    0.000000  0.000000  0.129435  0.000000      0.000000  0.00000   0.00000   \n",
              "3    0.000000  0.000000  0.000000  0.000000      0.000000  0.00000   0.00000   \n",
              "4    0.000000  0.000000  0.000000  0.000000      0.000000  0.00000   0.00000   \n",
              "5    0.000000  0.000000  0.000000  0.000000      0.000000  0.00000   0.00000   \n",
              "6    0.000000  0.000000  0.120190  0.000000      0.000000  0.00000   0.00000   \n",
              "7    0.000000  0.000000  0.000000  0.000000      0.000000  0.00000   0.00000   \n",
              "8    0.000000  0.000000  0.000000  0.000000      0.000000  0.00000   0.00000   \n",
              "9    0.000000  0.000000  0.000000  0.000000      0.000000  0.00000   0.00000   \n",
              "\n",
              "      рубль  нефтегазовый     доход  \n",
              "0  0.381871      0.552346  0.552346  \n",
              "1  0.000000      0.000000  0.000000  \n",
              "2  0.000000      0.000000  0.000000  \n",
              "3  0.000000      0.000000  0.000000  \n",
              "4  0.000000      0.000000  0.000000  \n",
              "5  0.000000      0.000000  0.000000  \n",
              "6  0.000000      0.000000  0.000000  \n",
              "7  0.000000      0.000000  0.000000  \n",
              "8  0.200985      0.000000  0.000000  \n",
              "9  0.000000      0.000000  0.000000  "
            ],
            "text/html": [
              "\n",
              "  <div id=\"df-8c5524b8-adac-468c-9cd7-2f2775dc3f98\" class=\"colab-df-container\">\n",
              "    <div>\n",
              "<style scoped>\n",
              "    .dataframe tbody tr th:only-of-type {\n",
              "        vertical-align: middle;\n",
              "    }\n",
              "\n",
              "    .dataframe tbody tr th {\n",
              "        vertical-align: top;\n",
              "    }\n",
              "\n",
              "    .dataframe thead th {\n",
              "        text-align: right;\n",
              "    }\n",
              "</style>\n",
              "<table border=\"1\" class=\"dataframe\">\n",
              "  <thead>\n",
              "    <tr style=\"text-align: right;\">\n",
              "      <th></th>\n",
              "      <th>российский</th>\n",
              "      <th>бюджет</th>\n",
              "      <th>в</th>\n",
              "      <th>март</th>\n",
              "      <th>недополучить</th>\n",
              "      <th>более</th>\n",
              "      <th>миллиард</th>\n",
              "      <th>рубль</th>\n",
              "      <th>нефтегазовый</th>\n",
              "      <th>доход</th>\n",
              "    </tr>\n",
              "  </thead>\n",
              "  <tbody>\n",
              "    <tr>\n",
              "      <th>0</th>\n",
              "      <td>0.269025</td>\n",
              "      <td>0.511799</td>\n",
              "      <td>0.084133</td>\n",
              "      <td>0.552346</td>\n",
              "      <td>0.552346</td>\n",
              "      <td>0.42707</td>\n",
              "      <td>0.42707</td>\n",
              "      <td>0.381871</td>\n",
              "      <td>0.552346</td>\n",
              "      <td>0.552346</td>\n",
              "    </tr>\n",
              "    <tr>\n",
              "      <th>1</th>\n",
              "      <td>0.000000</td>\n",
              "      <td>0.000000</td>\n",
              "      <td>0.000000</td>\n",
              "      <td>0.000000</td>\n",
              "      <td>0.000000</td>\n",
              "      <td>0.00000</td>\n",
              "      <td>0.00000</td>\n",
              "      <td>0.000000</td>\n",
              "      <td>0.000000</td>\n",
              "      <td>0.000000</td>\n",
              "    </tr>\n",
              "    <tr>\n",
              "      <th>2</th>\n",
              "      <td>0.000000</td>\n",
              "      <td>0.000000</td>\n",
              "      <td>0.129435</td>\n",
              "      <td>0.000000</td>\n",
              "      <td>0.000000</td>\n",
              "      <td>0.00000</td>\n",
              "      <td>0.00000</td>\n",
              "      <td>0.000000</td>\n",
              "      <td>0.000000</td>\n",
              "      <td>0.000000</td>\n",
              "    </tr>\n",
              "    <tr>\n",
              "      <th>3</th>\n",
              "      <td>0.000000</td>\n",
              "      <td>0.000000</td>\n",
              "      <td>0.000000</td>\n",
              "      <td>0.000000</td>\n",
              "      <td>0.000000</td>\n",
              "      <td>0.00000</td>\n",
              "      <td>0.00000</td>\n",
              "      <td>0.000000</td>\n",
              "      <td>0.000000</td>\n",
              "      <td>0.000000</td>\n",
              "    </tr>\n",
              "    <tr>\n",
              "      <th>4</th>\n",
              "      <td>0.000000</td>\n",
              "      <td>0.000000</td>\n",
              "      <td>0.000000</td>\n",
              "      <td>0.000000</td>\n",
              "      <td>0.000000</td>\n",
              "      <td>0.00000</td>\n",
              "      <td>0.00000</td>\n",
              "      <td>0.000000</td>\n",
              "      <td>0.000000</td>\n",
              "      <td>0.000000</td>\n",
              "    </tr>\n",
              "    <tr>\n",
              "      <th>5</th>\n",
              "      <td>0.000000</td>\n",
              "      <td>0.000000</td>\n",
              "      <td>0.000000</td>\n",
              "      <td>0.000000</td>\n",
              "      <td>0.000000</td>\n",
              "      <td>0.00000</td>\n",
              "      <td>0.00000</td>\n",
              "      <td>0.000000</td>\n",
              "      <td>0.000000</td>\n",
              "      <td>0.000000</td>\n",
              "    </tr>\n",
              "    <tr>\n",
              "      <th>6</th>\n",
              "      <td>0.000000</td>\n",
              "      <td>0.000000</td>\n",
              "      <td>0.120190</td>\n",
              "      <td>0.000000</td>\n",
              "      <td>0.000000</td>\n",
              "      <td>0.00000</td>\n",
              "      <td>0.00000</td>\n",
              "      <td>0.000000</td>\n",
              "      <td>0.000000</td>\n",
              "      <td>0.000000</td>\n",
              "    </tr>\n",
              "    <tr>\n",
              "      <th>7</th>\n",
              "      <td>0.000000</td>\n",
              "      <td>0.000000</td>\n",
              "      <td>0.000000</td>\n",
              "      <td>0.000000</td>\n",
              "      <td>0.000000</td>\n",
              "      <td>0.00000</td>\n",
              "      <td>0.00000</td>\n",
              "      <td>0.000000</td>\n",
              "      <td>0.000000</td>\n",
              "      <td>0.000000</td>\n",
              "    </tr>\n",
              "    <tr>\n",
              "      <th>8</th>\n",
              "      <td>0.000000</td>\n",
              "      <td>0.000000</td>\n",
              "      <td>0.000000</td>\n",
              "      <td>0.000000</td>\n",
              "      <td>0.000000</td>\n",
              "      <td>0.00000</td>\n",
              "      <td>0.00000</td>\n",
              "      <td>0.200985</td>\n",
              "      <td>0.000000</td>\n",
              "      <td>0.000000</td>\n",
              "    </tr>\n",
              "    <tr>\n",
              "      <th>9</th>\n",
              "      <td>0.000000</td>\n",
              "      <td>0.000000</td>\n",
              "      <td>0.000000</td>\n",
              "      <td>0.000000</td>\n",
              "      <td>0.000000</td>\n",
              "      <td>0.00000</td>\n",
              "      <td>0.00000</td>\n",
              "      <td>0.000000</td>\n",
              "      <td>0.000000</td>\n",
              "      <td>0.000000</td>\n",
              "    </tr>\n",
              "  </tbody>\n",
              "</table>\n",
              "</div>\n",
              "    <div class=\"colab-df-buttons\">\n",
              "\n",
              "  <div class=\"colab-df-container\">\n",
              "    <button class=\"colab-df-convert\" onclick=\"convertToInteractive('df-8c5524b8-adac-468c-9cd7-2f2775dc3f98')\"\n",
              "            title=\"Convert this dataframe to an interactive table.\"\n",
              "            style=\"display:none;\">\n",
              "\n",
              "  <svg xmlns=\"http://www.w3.org/2000/svg\" height=\"24px\" viewBox=\"0 -960 960 960\">\n",
              "    <path d=\"M120-120v-720h720v720H120Zm60-500h600v-160H180v160Zm220 220h160v-160H400v160Zm0 220h160v-160H400v160ZM180-400h160v-160H180v160Zm440 0h160v-160H620v160ZM180-180h160v-160H180v160Zm440 0h160v-160H620v160Z\"/>\n",
              "  </svg>\n",
              "    </button>\n",
              "\n",
              "  <style>\n",
              "    .colab-df-container {\n",
              "      display:flex;\n",
              "      gap: 12px;\n",
              "    }\n",
              "\n",
              "    .colab-df-convert {\n",
              "      background-color: #E8F0FE;\n",
              "      border: none;\n",
              "      border-radius: 50%;\n",
              "      cursor: pointer;\n",
              "      display: none;\n",
              "      fill: #1967D2;\n",
              "      height: 32px;\n",
              "      padding: 0 0 0 0;\n",
              "      width: 32px;\n",
              "    }\n",
              "\n",
              "    .colab-df-convert:hover {\n",
              "      background-color: #E2EBFA;\n",
              "      box-shadow: 0px 1px 2px rgba(60, 64, 67, 0.3), 0px 1px 3px 1px rgba(60, 64, 67, 0.15);\n",
              "      fill: #174EA6;\n",
              "    }\n",
              "\n",
              "    .colab-df-buttons div {\n",
              "      margin-bottom: 4px;\n",
              "    }\n",
              "\n",
              "    [theme=dark] .colab-df-convert {\n",
              "      background-color: #3B4455;\n",
              "      fill: #D2E3FC;\n",
              "    }\n",
              "\n",
              "    [theme=dark] .colab-df-convert:hover {\n",
              "      background-color: #434B5C;\n",
              "      box-shadow: 0px 1px 3px 1px rgba(0, 0, 0, 0.15);\n",
              "      filter: drop-shadow(0px 1px 2px rgba(0, 0, 0, 0.3));\n",
              "      fill: #FFFFFF;\n",
              "    }\n",
              "  </style>\n",
              "\n",
              "    <script>\n",
              "      const buttonEl =\n",
              "        document.querySelector('#df-8c5524b8-adac-468c-9cd7-2f2775dc3f98 button.colab-df-convert');\n",
              "      buttonEl.style.display =\n",
              "        google.colab.kernel.accessAllowed ? 'block' : 'none';\n",
              "\n",
              "      async function convertToInteractive(key) {\n",
              "        const element = document.querySelector('#df-8c5524b8-adac-468c-9cd7-2f2775dc3f98');\n",
              "        const dataTable =\n",
              "          await google.colab.kernel.invokeFunction('convertToInteractive',\n",
              "                                                    [key], {});\n",
              "        if (!dataTable) return;\n",
              "\n",
              "        const docLinkHtml = 'Like what you see? Visit the ' +\n",
              "          '<a target=\"_blank\" href=https://colab.research.google.com/notebooks/data_table.ipynb>data table notebook</a>'\n",
              "          + ' to learn more about interactive tables.';\n",
              "        element.innerHTML = '';\n",
              "        dataTable['output_type'] = 'display_data';\n",
              "        await google.colab.output.renderOutput(dataTable, element);\n",
              "        const docLink = document.createElement('div');\n",
              "        docLink.innerHTML = docLinkHtml;\n",
              "        element.appendChild(docLink);\n",
              "      }\n",
              "    </script>\n",
              "  </div>\n",
              "\n",
              "\n",
              "<div id=\"df-5d6aa7a9-5ccf-4370-9982-082b55d73e5a\">\n",
              "  <button class=\"colab-df-quickchart\" onclick=\"quickchart('df-5d6aa7a9-5ccf-4370-9982-082b55d73e5a')\"\n",
              "            title=\"Suggest charts.\"\n",
              "            style=\"display:none;\">\n",
              "\n",
              "<svg xmlns=\"http://www.w3.org/2000/svg\" height=\"24px\"viewBox=\"0 0 24 24\"\n",
              "     width=\"24px\">\n",
              "    <g>\n",
              "        <path d=\"M19 3H5c-1.1 0-2 .9-2 2v14c0 1.1.9 2 2 2h14c1.1 0 2-.9 2-2V5c0-1.1-.9-2-2-2zM9 17H7v-7h2v7zm4 0h-2V7h2v10zm4 0h-2v-4h2v4z\"/>\n",
              "    </g>\n",
              "</svg>\n",
              "  </button>\n",
              "\n",
              "<style>\n",
              "  .colab-df-quickchart {\n",
              "      --bg-color: #E8F0FE;\n",
              "      --fill-color: #1967D2;\n",
              "      --hover-bg-color: #E2EBFA;\n",
              "      --hover-fill-color: #174EA6;\n",
              "      --disabled-fill-color: #AAA;\n",
              "      --disabled-bg-color: #DDD;\n",
              "  }\n",
              "\n",
              "  [theme=dark] .colab-df-quickchart {\n",
              "      --bg-color: #3B4455;\n",
              "      --fill-color: #D2E3FC;\n",
              "      --hover-bg-color: #434B5C;\n",
              "      --hover-fill-color: #FFFFFF;\n",
              "      --disabled-bg-color: #3B4455;\n",
              "      --disabled-fill-color: #666;\n",
              "  }\n",
              "\n",
              "  .colab-df-quickchart {\n",
              "    background-color: var(--bg-color);\n",
              "    border: none;\n",
              "    border-radius: 50%;\n",
              "    cursor: pointer;\n",
              "    display: none;\n",
              "    fill: var(--fill-color);\n",
              "    height: 32px;\n",
              "    padding: 0;\n",
              "    width: 32px;\n",
              "  }\n",
              "\n",
              "  .colab-df-quickchart:hover {\n",
              "    background-color: var(--hover-bg-color);\n",
              "    box-shadow: 0 1px 2px rgba(60, 64, 67, 0.3), 0 1px 3px 1px rgba(60, 64, 67, 0.15);\n",
              "    fill: var(--button-hover-fill-color);\n",
              "  }\n",
              "\n",
              "  .colab-df-quickchart-complete:disabled,\n",
              "  .colab-df-quickchart-complete:disabled:hover {\n",
              "    background-color: var(--disabled-bg-color);\n",
              "    fill: var(--disabled-fill-color);\n",
              "    box-shadow: none;\n",
              "  }\n",
              "\n",
              "  .colab-df-spinner {\n",
              "    border: 2px solid var(--fill-color);\n",
              "    border-color: transparent;\n",
              "    border-bottom-color: var(--fill-color);\n",
              "    animation:\n",
              "      spin 1s steps(1) infinite;\n",
              "  }\n",
              "\n",
              "  @keyframes spin {\n",
              "    0% {\n",
              "      border-color: transparent;\n",
              "      border-bottom-color: var(--fill-color);\n",
              "      border-left-color: var(--fill-color);\n",
              "    }\n",
              "    20% {\n",
              "      border-color: transparent;\n",
              "      border-left-color: var(--fill-color);\n",
              "      border-top-color: var(--fill-color);\n",
              "    }\n",
              "    30% {\n",
              "      border-color: transparent;\n",
              "      border-left-color: var(--fill-color);\n",
              "      border-top-color: var(--fill-color);\n",
              "      border-right-color: var(--fill-color);\n",
              "    }\n",
              "    40% {\n",
              "      border-color: transparent;\n",
              "      border-right-color: var(--fill-color);\n",
              "      border-top-color: var(--fill-color);\n",
              "    }\n",
              "    60% {\n",
              "      border-color: transparent;\n",
              "      border-right-color: var(--fill-color);\n",
              "    }\n",
              "    80% {\n",
              "      border-color: transparent;\n",
              "      border-right-color: var(--fill-color);\n",
              "      border-bottom-color: var(--fill-color);\n",
              "    }\n",
              "    90% {\n",
              "      border-color: transparent;\n",
              "      border-bottom-color: var(--fill-color);\n",
              "    }\n",
              "  }\n",
              "</style>\n",
              "\n",
              "  <script>\n",
              "    async function quickchart(key) {\n",
              "      const quickchartButtonEl =\n",
              "        document.querySelector('#' + key + ' button');\n",
              "      quickchartButtonEl.disabled = true;  // To prevent multiple clicks.\n",
              "      quickchartButtonEl.classList.add('colab-df-spinner');\n",
              "      try {\n",
              "        const charts = await google.colab.kernel.invokeFunction(\n",
              "            'suggestCharts', [key], {});\n",
              "      } catch (error) {\n",
              "        console.error('Error during call to suggestCharts:', error);\n",
              "      }\n",
              "      quickchartButtonEl.classList.remove('colab-df-spinner');\n",
              "      quickchartButtonEl.classList.add('colab-df-quickchart-complete');\n",
              "    }\n",
              "    (() => {\n",
              "      let quickchartButtonEl =\n",
              "        document.querySelector('#df-5d6aa7a9-5ccf-4370-9982-082b55d73e5a button');\n",
              "      quickchartButtonEl.style.display =\n",
              "        google.colab.kernel.accessAllowed ? 'block' : 'none';\n",
              "    })();\n",
              "  </script>\n",
              "</div>\n",
              "    </div>\n",
              "  </div>\n"
            ]
          },
          "metadata": {},
          "execution_count": 191
        }
      ]
    },
    {
      "cell_type": "code",
      "source": [
        "df5.shape"
      ],
      "metadata": {
        "colab": {
          "base_uri": "https://localhost:8080/"
        },
        "id": "LNQAeXEjcIu4",
        "outputId": "b100bd71-16c1-4274-d5cc-64b9b268fa81"
      },
      "id": "LNQAeXEjcIu4",
      "execution_count": 192,
      "outputs": [
        {
          "output_type": "execute_result",
          "data": {
            "text/plain": [
              "(500, 2375)"
            ]
          },
          "metadata": {},
          "execution_count": 192
        }
      ]
    },
    {
      "cell_type": "code",
      "source": [
        "df5.shape == (len(file), len(index_backward))"
      ],
      "metadata": {
        "colab": {
          "base_uri": "https://localhost:8080/"
        },
        "id": "7phCS6DdcBmb",
        "outputId": "9ea687a2-1452-443f-cb8d-2478dc17e82e"
      },
      "id": "7phCS6DdcBmb",
      "execution_count": 193,
      "outputs": [
        {
          "output_type": "execute_result",
          "data": {
            "text/plain": [
              "True"
            ]
          },
          "metadata": {},
          "execution_count": 193
        }
      ]
    },
    {
      "cell_type": "markdown",
      "id": "9f1e0fe2",
      "metadata": {
        "id": "9f1e0fe2"
      },
      "source": [
        "<p class=\"task\" id=\"6\"></p>\n",
        "\n",
        "6\\. Для заданного текста новости найдите топ-3 наиболее похожих новости, воспользовавшись матрицей TD-IDF из предыдущего задания. Для определения схожести используйте функцию косинусного расстояния. Выведите на экран текст найденных новостей и значение метрики близости для каждой новости.\n",
        "\n",
        "- [ ] Проверено на семинаре"
      ]
    },
    {
      "cell_type": "code",
      "execution_count": 180,
      "id": "2c85148d",
      "metadata": {
        "id": "2c85148d",
        "colab": {
          "base_uri": "https://localhost:8080/"
        },
        "outputId": "a7d3a0c9-b0bf-4ca1-9490-4ef75a12e3bd"
      },
      "outputs": [
        {
          "output_type": "execute_result",
          "data": {
            "text/plain": [
              "['жириновский', 'предложить', 'перенести', 'столица', 'из', 'москва']"
            ]
          },
          "metadata": {},
          "execution_count": 180
        }
      ],
      "source": [
        "example = \"Жириновский предложил перенести столицу из Москвы\"\n",
        "words_example = [morph.parse(w)[0].normal_form for w in tokenizer.tokenize(example)]\n",
        "words_example"
      ]
    },
    {
      "cell_type": "code",
      "source": [
        "words = list(df5.columns)\n",
        "vec_ex = {}\n",
        "\n",
        "for word in words:\n",
        "  if word in words_example:\n",
        "    vec_ex[word] = words_example.count(word) / len(doc) * idf[word]\n",
        "  else:\n",
        "    vec_ex[word] = 0\n",
        "\n",
        "vec_ex = np.array(list(vec_ex.values()))"
      ],
      "metadata": {
        "id": "n610spOLdJ4t"
      },
      "id": "n610spOLdJ4t",
      "execution_count": 229,
      "outputs": []
    },
    {
      "cell_type": "code",
      "source": [
        "df5.values.shape"
      ],
      "metadata": {
        "colab": {
          "base_uri": "https://localhost:8080/"
        },
        "id": "TIILcV-ggFQv",
        "outputId": "2a00d099-1b28-4de8-f440-c76a2ee2a0b2"
      },
      "id": "TIILcV-ggFQv",
      "execution_count": 230,
      "outputs": [
        {
          "output_type": "execute_result",
          "data": {
            "text/plain": [
              "(500, 2375)"
            ]
          },
          "metadata": {},
          "execution_count": 230
        }
      ]
    },
    {
      "cell_type": "code",
      "source": [
        "vec_ex.shape"
      ],
      "metadata": {
        "colab": {
          "base_uri": "https://localhost:8080/"
        },
        "id": "0KO2S3SfgHZS",
        "outputId": "9747830e-1e8f-4ba9-f69d-37228eef7b71"
      },
      "id": "0KO2S3SfgHZS",
      "execution_count": 233,
      "outputs": [
        {
          "output_type": "execute_result",
          "data": {
            "text/plain": [
              "(2375,)"
            ]
          },
          "metadata": {},
          "execution_count": 233
        }
      ]
    },
    {
      "cell_type": "code",
      "source": [
        "dist = 1-df5.values@vec_ex / (np.linalg.norm(df5.values, axis=1)*np.linalg.norm(vec_ex))\n",
        "sim_idx = dist.argsort()\n",
        "dist[sim_idx[:10]]"
      ],
      "metadata": {
        "colab": {
          "base_uri": "https://localhost:8080/"
        },
        "id": "QrXbUirbhx04",
        "outputId": "7cf532ce-9c3a-4974-85a3-5b3f59bdb8a6"
      },
      "id": "QrXbUirbhx04",
      "execution_count": 264,
      "outputs": [
        {
          "output_type": "execute_result",
          "data": {
            "text/plain": [
              "array([0.70863768, 0.72998482, 0.7492542 , 0.77085303, 0.78384458,\n",
              "       0.78580243, 0.80412392, 0.87301437, 0.8997564 , 0.90195995])"
            ]
          },
          "metadata": {},
          "execution_count": 264
        }
      ]
    },
    {
      "cell_type": "code",
      "source": [
        "sim_idx[:3]"
      ],
      "metadata": {
        "colab": {
          "base_uri": "https://localhost:8080/"
        },
        "id": "gHRWnKa6ispa",
        "outputId": "7f90b7c5-ab86-4beb-c650-fd6887a52759"
      },
      "id": "gHRWnKa6ispa",
      "execution_count": 268,
      "outputs": [
        {
          "output_type": "execute_result",
          "data": {
            "text/plain": [
              "array([ 9, 78, 36])"
            ]
          },
          "metadata": {},
          "execution_count": 268
        }
      ]
    },
    {
      "cell_type": "code",
      "source": [
        "for i in sim_idx[:3]:\n",
        "  print('text:', file[i])\n",
        "  print()\n"
      ],
      "metadata": {
        "colab": {
          "base_uri": "https://localhost:8080/"
        },
        "id": "-i2L_l7Tif71",
        "outputId": "90ff6663-f048-4b43-ba23-0d05ed07123a"
      },
      "id": "-i2L_l7Tif71",
      "execution_count": 267,
      "outputs": [
        {
          "output_type": "stream",
          "name": "stdout",
          "text": [
            "text: трамп предложил перенести новые санкции против россии из за дня народного единства \n",
            "\n",
            "text: 31 декабря владимир жириновский предложит имя своего преемника \n",
            "\n",
            "text: международную универсиаду 2023 года перенесут из екатеринбурга\n",
            "\n"
          ]
        }
      ]
    },
    {
      "cell_type": "markdown",
      "id": "dfab2314",
      "metadata": {
        "id": "dfab2314"
      },
      "source": [
        "<p class=\"task\" id=\"7\"></p>\n",
        "\n",
        "7\\. Для заданного текста новости найдите топ-3 наиболее похожих новости, воспользовавшись собственной реализацией функции ранжирования [BM25](https://en.wikipedia.org/wiki/Okapi_BM25). Выведите на экран текст найденных новостей и значение метрики ранжирования для каждой новости.\n",
        "\n",
        "- [ ] Проверено на семинаре"
      ]
    },
    {
      "cell_type": "markdown",
      "source": [
        "![image.png](data:image/png;base64,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)"
      ],
      "metadata": {
        "id": "TNXpujpgkNmq"
      },
      "id": "TNXpujpgkNmq"
    },
    {
      "cell_type": "code",
      "execution_count": 269,
      "id": "e8738a1b",
      "metadata": {
        "id": "e8738a1b",
        "colab": {
          "base_uri": "https://localhost:8080/"
        },
        "outputId": "cecf7753-2de5-4041-fa86-a2dcf2e10468"
      },
      "outputs": [
        {
          "output_type": "execute_result",
          "data": {
            "text/plain": [
              "['жириновский', 'предложить', 'перенести', 'столица', 'из', 'москва']"
            ]
          },
          "metadata": {},
          "execution_count": 269
        }
      ],
      "source": [
        "example = \"Жириновский предложил перенести столицу из Москвы\"\n",
        "words_example = [morph.parse(w)[0].normal_form for w in tokenizer.tokenize(example)]\n",
        "words_example"
      ]
    },
    {
      "cell_type": "code",
      "source": [
        "lenghts = [len(index_forward[doc]) for doc in index_forward]\n",
        "D = sum(lenghts)\n",
        "advdl = D / len(file)\n",
        "\n",
        "\n",
        "idf7 = {}\n",
        "for word in words_example:\n",
        "  idf7[word] = np.log((len(file)-len(index_backward[word])+0.5)/(len(index_backward[word])+0.5) + 1)\n",
        "\n",
        "k1 = 1.2\n",
        "b = 0.75\n",
        "d7 = {}\n",
        "for idx, doc in index_forward.items():\n",
        "  score = 0\n",
        "  for word in words_example:\n",
        "    f_q = doc.count(word)\n",
        "    score += idf7[word] * f_q*(k1+1) / (f_q + k1*(1-b + b*(D/advdl)))\n",
        "\n",
        "  d7[idx] = score"
      ],
      "metadata": {
        "id": "Y2-SfOzSixMd"
      },
      "id": "Y2-SfOzSixMd",
      "execution_count": 271,
      "outputs": []
    },
    {
      "cell_type": "code",
      "source": [
        "similar_texts7 = sorted(d7.items(), key=lambda x: x[1], reverse=True)\n",
        "for i in similar_texts7[:3]:\n",
        "  print('text:', file[i[0]])\n",
        "  print('BM25 score:', i[1])\n",
        "  print()"
      ],
      "metadata": {
        "colab": {
          "base_uri": "https://localhost:8080/"
        },
        "id": "JmZQYI3tmA95",
        "outputId": "c6a9d476-f602-489a-984c-c3b26b6ed376"
      },
      "id": "JmZQYI3tmA95",
      "execution_count": 273,
      "outputs": [
        {
          "output_type": "stream",
          "name": "stdout",
          "text": [
            "text: трамп предложил перенести новые санкции против россии из за дня народного единства \n",
            "BM25 score: 0.04985151756280831\n",
            "\n",
            "text: 31 декабря владимир жириновский предложит имя своего преемника \n",
            "BM25 score: 0.03954635908883146\n",
            "\n",
            "text: жириновский предложил дать ремня создателям гачимучи каверов на известные песни \n",
            "BM25 score: 0.03954635908883146\n",
            "\n"
          ]
        }
      ]
    },
    {
      "cell_type": "markdown",
      "id": "724b1c9c",
      "metadata": {
        "id": "724b1c9c"
      },
      "source": [
        "## Обратная связь\n",
        "- [ ] Хочу получить обратную связь по решению"
      ]
    },
    {
      "cell_type": "code",
      "source": [],
      "metadata": {
        "id": "UG6GPhHdt5It"
      },
      "id": "UG6GPhHdt5It",
      "execution_count": null,
      "outputs": []
    }
  ],
  "metadata": {
    "kernelspec": {
      "display_name": "Python 3 (ipykernel)",
      "language": "python",
      "name": "python3"
    },
    "language_info": {
      "codemirror_mode": {
        "name": "ipython",
        "version": 3
      },
      "file_extension": ".py",
      "mimetype": "text/x-python",
      "name": "python",
      "nbconvert_exporter": "python",
      "pygments_lexer": "ipython3",
      "version": "3.9.13"
    },
    "colab": {
      "provenance": []
    }
  },
  "nbformat": 4,
  "nbformat_minor": 5
}
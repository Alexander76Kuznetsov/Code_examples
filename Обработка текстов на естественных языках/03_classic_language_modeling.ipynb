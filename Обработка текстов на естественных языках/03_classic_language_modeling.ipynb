{
  "cells": [
    {
      "cell_type": "markdown",
      "id": "28bd3bfb",
      "metadata": {
        "id": "28bd3bfb"
      },
      "source": [
        "# Языковые модели на n-граммах\n",
        "\n",
        "__Автор задач: Блохин Н.В. (NVBlokhin@fa.ru)__\n",
        "\n",
        "Материалы:\n",
        "* https://www.nltk.org/api/nltk.util.html\n",
        "* https://web.stanford.edu/~jurafsky/slp3/3.pdf\n",
        "* https://www.youtube.com/watch?v=QGT6XTeA3YQ"
      ]
    },
    {
      "cell_type": "markdown",
      "id": "0e0c795b",
      "metadata": {
        "id": "0e0c795b"
      },
      "source": [
        "## Задачи для совместного разбора"
      ]
    },
    {
      "cell_type": "markdown",
      "id": "9a1b4cda",
      "metadata": {
        "id": "9a1b4cda"
      },
      "source": [
        "1\\. Выделите из текста n-граммы."
      ]
    },
    {
      "cell_type": "code",
      "execution_count": null,
      "id": "23e15cdb",
      "metadata": {
        "id": "23e15cdb"
      },
      "outputs": [],
      "source": [
        "text = \"\"\"Вода это жидкость которая имеет свойство быть водой.\n",
        "Вода состоит из молекул, которые выглядят как вода\"\"\""
      ]
    },
    {
      "cell_type": "code",
      "source": [
        "from nltk.util import ngrams\n",
        "from nltk import sent_tokenize\n",
        "from nltk.tokenize import RegexpTokenizer\n",
        "\n",
        "import nltk\n",
        "nltk.download('punkt')"
      ],
      "metadata": {
        "colab": {
          "base_uri": "https://localhost:8080/"
        },
        "id": "kCPU27GTRKQf",
        "outputId": "7ea56214-91fa-481e-cb8f-b55cd9447749"
      },
      "id": "kCPU27GTRKQf",
      "execution_count": null,
      "outputs": [
        {
          "output_type": "stream",
          "name": "stderr",
          "text": [
            "[nltk_data] Downloading package punkt to /root/nltk_data...\n",
            "[nltk_data]   Unzipping tokenizers/punkt.zip.\n"
          ]
        },
        {
          "output_type": "execute_result",
          "data": {
            "text/plain": [
              "True"
            ]
          },
          "metadata": {},
          "execution_count": 2
        }
      ]
    },
    {
      "cell_type": "code",
      "source": [
        "# unigrams = ngrams(text, n=1)\n",
        "# unigrams = list(unigrams)\n",
        "# unigrams"
      ],
      "metadata": {
        "id": "haXEg9DJRa7v"
      },
      "id": "haXEg9DJRa7v",
      "execution_count": null,
      "outputs": []
    },
    {
      "cell_type": "code",
      "source": [
        "sents = sent_tokenize(text)\n",
        "tokenizer = RegexpTokenizer(\"\\w+\")\n",
        "\n",
        "unigrams = []\n",
        "bigrams = []\n",
        "for sent in sents:\n",
        "  tokens = tokenizer.tokenize(sent.lower())\n",
        "  unigrams.extend(ngrams(tokens, n=1))\n",
        "  bigrams.extend(ngrams(tokens, n=2))"
      ],
      "metadata": {
        "id": "QATOX0xRRhhv"
      },
      "id": "QATOX0xRRhhv",
      "execution_count": null,
      "outputs": []
    },
    {
      "cell_type": "code",
      "source": [
        "unigrams[:5]"
      ],
      "metadata": {
        "colab": {
          "base_uri": "https://localhost:8080/"
        },
        "id": "1T99H7svSeHh",
        "outputId": "c0279c84-e5e6-4d28-e793-7980df2f7068"
      },
      "id": "1T99H7svSeHh",
      "execution_count": null,
      "outputs": [
        {
          "output_type": "execute_result",
          "data": {
            "text/plain": [
              "[('вода',), ('это',), ('жидкость',), ('которая',), ('имеет',)]"
            ]
          },
          "metadata": {},
          "execution_count": 140
        }
      ]
    },
    {
      "cell_type": "code",
      "source": [
        "bigrams"
      ],
      "metadata": {
        "colab": {
          "base_uri": "https://localhost:8080/"
        },
        "id": "SKG3p0PKSeEX",
        "outputId": "7aa11923-5874-4620-a181-31a474c2f3bb"
      },
      "id": "SKG3p0PKSeEX",
      "execution_count": null,
      "outputs": [
        {
          "output_type": "execute_result",
          "data": {
            "text/plain": [
              "[('вода', 'это'),\n",
              " ('это', 'жидкость'),\n",
              " ('жидкость', 'которая'),\n",
              " ('которая', 'имеет'),\n",
              " ('имеет', 'свойство'),\n",
              " ('свойство', 'быть'),\n",
              " ('быть', 'водой'),\n",
              " ('вода', 'состоит'),\n",
              " ('состоит', 'из'),\n",
              " ('из', 'молекул'),\n",
              " ('молекул', 'которые'),\n",
              " ('которые', 'выглядят'),\n",
              " ('выглядят', 'как'),\n",
              " ('как', 'вода')]"
            ]
          },
          "metadata": {},
          "execution_count": 141
        }
      ]
    },
    {
      "cell_type": "markdown",
      "id": "eff10835",
      "metadata": {
        "id": "eff10835"
      },
      "source": [
        "2. Рассчитайте вероятности  $P(вода)$, $P(это|вода)$, $P(состоит|вода)$.\n",
        "\n",
        "$$P(w_i) = \\frac{C(w_i)}{N}$$\n",
        "$$P(w_i|w_{i-1})=\\frac{C(w_{i-1} w_i)}{C(w_{i-1})}$$"
      ]
    },
    {
      "cell_type": "code",
      "source": [
        "w = (\"вода\", )\n",
        "c = unigrams.count(w)\n",
        "N = len(unigrams)\n",
        "c, N, c / N"
      ],
      "metadata": {
        "colab": {
          "base_uri": "https://localhost:8080/"
        },
        "id": "90Pbz0b2Swp3",
        "outputId": "7f2ff78d-3e90-4071-b081-22527485ebdb"
      },
      "id": "90Pbz0b2Swp3",
      "execution_count": null,
      "outputs": [
        {
          "output_type": "execute_result",
          "data": {
            "text/plain": [
              "(3, 16, 0.1875)"
            ]
          },
          "metadata": {},
          "execution_count": 19
        }
      ]
    },
    {
      "cell_type": "code",
      "source": [
        "# P(это|вода)\n",
        "w2 = (\"вода\", \"это\")\n",
        "c2 = bigrams.count(w2)\n",
        "c2, c, c2/c\n",
        "\n",
        "# P(это)"
      ],
      "metadata": {
        "colab": {
          "base_uri": "https://localhost:8080/"
        },
        "id": "hZWW8asITX6Y",
        "outputId": "86748b5a-70de-4a9c-d874-6937f8e7d04b"
      },
      "id": "hZWW8asITX6Y",
      "execution_count": null,
      "outputs": [
        {
          "output_type": "execute_result",
          "data": {
            "text/plain": [
              "(1, 3, 0.3333333333333333)"
            ]
          },
          "metadata": {},
          "execution_count": 22
        }
      ]
    },
    {
      "cell_type": "markdown",
      "id": "686788c2",
      "metadata": {
        "id": "686788c2"
      },
      "source": [
        "3. Рассчитайте вероятности  $P_L(вода)$, $P_L(это|вода)$, $P_L(состоит|вода)$.\n",
        "\n",
        "$$P_L(w_i) = \\frac{C(w_i)+1}{N+V}$$, $$P_L(w_i|w_{i-1})=\\frac{C(w_{i-1} w_i)+1}{C(w_{i-1})+V}$$"
      ]
    },
    {
      "cell_type": "code",
      "source": [
        "len(set(unigrams))"
      ],
      "metadata": {
        "colab": {
          "base_uri": "https://localhost:8080/"
        },
        "id": "lMIKRc5pVN2P",
        "outputId": "972e84ac-1027-4062-d1d5-d32ad48fd675"
      },
      "id": "lMIKRc5pVN2P",
      "execution_count": null,
      "outputs": [
        {
          "output_type": "execute_result",
          "data": {
            "text/plain": [
              "14"
            ]
          },
          "metadata": {},
          "execution_count": 24
        }
      ]
    },
    {
      "cell_type": "code",
      "source": [
        "# вода не\n",
        "# P(не|вода) = 0\n",
        "# P  = (0 + 1) / (3 + 14)"
      ],
      "metadata": {
        "id": "XeCV5WkYVj04"
      },
      "id": "XeCV5WkYVj04",
      "execution_count": null,
      "outputs": []
    },
    {
      "cell_type": "markdown",
      "id": "610d0f40",
      "metadata": {
        "id": "610d0f40"
      },
      "source": [
        "## Задачи для самостоятельного решения"
      ]
    },
    {
      "cell_type": "code",
      "source": [
        "from nltk.util import ngrams\n",
        "from nltk import sent_tokenize\n",
        "from nltk.tokenize import RegexpTokenizer\n",
        "import pandas as pd\n",
        "import re\n",
        "\n",
        "import nltk\n",
        "nltk.download('punkt')"
      ],
      "metadata": {
        "colab": {
          "base_uri": "https://localhost:8080/"
        },
        "id": "yl6AnapIqKPX",
        "outputId": "05a0b968-f841-47ae-cb01-f16c98044d65"
      },
      "id": "yl6AnapIqKPX",
      "execution_count": 246,
      "outputs": [
        {
          "output_type": "stream",
          "name": "stderr",
          "text": [
            "[nltk_data] Downloading package punkt to /root/nltk_data...\n",
            "[nltk_data]   Package punkt is already up-to-date!\n"
          ]
        },
        {
          "output_type": "execute_result",
          "data": {
            "text/plain": [
              "True"
            ]
          },
          "metadata": {},
          "execution_count": 246
        }
      ]
    },
    {
      "cell_type": "markdown",
      "id": "f02d1d0d",
      "metadata": {
        "id": "f02d1d0d"
      },
      "source": [
        "<p class=\"task\" id=\"1\"></p>\n",
        "\n",
        "1\\. Считайте файл `data/moya-semia/Лучше кошки зверя нет 2.csv`. Получите список предложений из сообщений. Приведите предложения к нижнему регистру и удалите все символы, кроме букв и пробелов. Получите список слов (униграмм) и биграмм."
      ]
    },
    {
      "cell_type": "code",
      "source": [
        "df1 = pd.read_csv('Лучше кошки зверя нет 2.csv', header=None)\n",
        "df1.head()"
      ],
      "metadata": {
        "colab": {
          "base_uri": "https://localhost:8080/",
          "height": 206
        },
        "id": "SezAYOiupQCI",
        "outputId": "b7a6af32-1da5-43e0-c283-9080aff352c8"
      },
      "id": "SezAYOiupQCI",
      "execution_count": 247,
      "outputs": [
        {
          "output_type": "execute_result",
          "data": {
            "text/plain": [
              "                                                   0  \\\n",
              "0  http://forum.moya-semya.ru/index.php?app=forum...   \n",
              "1  http://forum.moya-semya.ru/index.php?app=forum...   \n",
              "2  http://forum.moya-semya.ru/index.php?app=forum...   \n",
              "3  http://forum.moya-semya.ru/index.php?app=forum...   \n",
              "4  http://forum.moya-semya.ru/index.php?app=forum...   \n",
              "\n",
              "                                                   1        2  \n",
              "0  Завтра мои котейки идут к врачу. А 21-го жду и...  Unknown  \n",
              "1  Котя скучает по мужу. Со вторника спит на его ...  Unknown  \n",
              "2  Получилось так, что мне пришлось \"отдать\" мою ...  Unknown  \n",
              "3  Лучше всего для начала спросить об этом у люде...  Unknown  \n",
              "4  что волонтеры принесут, то и насыпалиЗначит, к...  Unknown  "
            ],
            "text/html": [
              "\n",
              "  <div id=\"df-6641c56b-30fa-422b-903d-8bc5d8c44de6\" class=\"colab-df-container\">\n",
              "    <div>\n",
              "<style scoped>\n",
              "    .dataframe tbody tr th:only-of-type {\n",
              "        vertical-align: middle;\n",
              "    }\n",
              "\n",
              "    .dataframe tbody tr th {\n",
              "        vertical-align: top;\n",
              "    }\n",
              "\n",
              "    .dataframe thead th {\n",
              "        text-align: right;\n",
              "    }\n",
              "</style>\n",
              "<table border=\"1\" class=\"dataframe\">\n",
              "  <thead>\n",
              "    <tr style=\"text-align: right;\">\n",
              "      <th></th>\n",
              "      <th>0</th>\n",
              "      <th>1</th>\n",
              "      <th>2</th>\n",
              "    </tr>\n",
              "  </thead>\n",
              "  <tbody>\n",
              "    <tr>\n",
              "      <th>0</th>\n",
              "      <td>http://forum.moya-semya.ru/index.php?app=forum...</td>\n",
              "      <td>Завтра мои котейки идут к врачу. А 21-го жду и...</td>\n",
              "      <td>Unknown</td>\n",
              "    </tr>\n",
              "    <tr>\n",
              "      <th>1</th>\n",
              "      <td>http://forum.moya-semya.ru/index.php?app=forum...</td>\n",
              "      <td>Котя скучает по мужу. Со вторника спит на его ...</td>\n",
              "      <td>Unknown</td>\n",
              "    </tr>\n",
              "    <tr>\n",
              "      <th>2</th>\n",
              "      <td>http://forum.moya-semya.ru/index.php?app=forum...</td>\n",
              "      <td>Получилось так, что мне пришлось \"отдать\" мою ...</td>\n",
              "      <td>Unknown</td>\n",
              "    </tr>\n",
              "    <tr>\n",
              "      <th>3</th>\n",
              "      <td>http://forum.moya-semya.ru/index.php?app=forum...</td>\n",
              "      <td>Лучше всего для начала спросить об этом у люде...</td>\n",
              "      <td>Unknown</td>\n",
              "    </tr>\n",
              "    <tr>\n",
              "      <th>4</th>\n",
              "      <td>http://forum.moya-semya.ru/index.php?app=forum...</td>\n",
              "      <td>что волонтеры принесут, то и насыпалиЗначит, к...</td>\n",
              "      <td>Unknown</td>\n",
              "    </tr>\n",
              "  </tbody>\n",
              "</table>\n",
              "</div>\n",
              "    <div class=\"colab-df-buttons\">\n",
              "\n",
              "  <div class=\"colab-df-container\">\n",
              "    <button class=\"colab-df-convert\" onclick=\"convertToInteractive('df-6641c56b-30fa-422b-903d-8bc5d8c44de6')\"\n",
              "            title=\"Convert this dataframe to an interactive table.\"\n",
              "            style=\"display:none;\">\n",
              "\n",
              "  <svg xmlns=\"http://www.w3.org/2000/svg\" height=\"24px\" viewBox=\"0 -960 960 960\">\n",
              "    <path d=\"M120-120v-720h720v720H120Zm60-500h600v-160H180v160Zm220 220h160v-160H400v160Zm0 220h160v-160H400v160ZM180-400h160v-160H180v160Zm440 0h160v-160H620v160ZM180-180h160v-160H180v160Zm440 0h160v-160H620v160Z\"/>\n",
              "  </svg>\n",
              "    </button>\n",
              "\n",
              "  <style>\n",
              "    .colab-df-container {\n",
              "      display:flex;\n",
              "      gap: 12px;\n",
              "    }\n",
              "\n",
              "    .colab-df-convert {\n",
              "      background-color: #E8F0FE;\n",
              "      border: none;\n",
              "      border-radius: 50%;\n",
              "      cursor: pointer;\n",
              "      display: none;\n",
              "      fill: #1967D2;\n",
              "      height: 32px;\n",
              "      padding: 0 0 0 0;\n",
              "      width: 32px;\n",
              "    }\n",
              "\n",
              "    .colab-df-convert:hover {\n",
              "      background-color: #E2EBFA;\n",
              "      box-shadow: 0px 1px 2px rgba(60, 64, 67, 0.3), 0px 1px 3px 1px rgba(60, 64, 67, 0.15);\n",
              "      fill: #174EA6;\n",
              "    }\n",
              "\n",
              "    .colab-df-buttons div {\n",
              "      margin-bottom: 4px;\n",
              "    }\n",
              "\n",
              "    [theme=dark] .colab-df-convert {\n",
              "      background-color: #3B4455;\n",
              "      fill: #D2E3FC;\n",
              "    }\n",
              "\n",
              "    [theme=dark] .colab-df-convert:hover {\n",
              "      background-color: #434B5C;\n",
              "      box-shadow: 0px 1px 3px 1px rgba(0, 0, 0, 0.15);\n",
              "      filter: drop-shadow(0px 1px 2px rgba(0, 0, 0, 0.3));\n",
              "      fill: #FFFFFF;\n",
              "    }\n",
              "  </style>\n",
              "\n",
              "    <script>\n",
              "      const buttonEl =\n",
              "        document.querySelector('#df-6641c56b-30fa-422b-903d-8bc5d8c44de6 button.colab-df-convert');\n",
              "      buttonEl.style.display =\n",
              "        google.colab.kernel.accessAllowed ? 'block' : 'none';\n",
              "\n",
              "      async function convertToInteractive(key) {\n",
              "        const element = document.querySelector('#df-6641c56b-30fa-422b-903d-8bc5d8c44de6');\n",
              "        const dataTable =\n",
              "          await google.colab.kernel.invokeFunction('convertToInteractive',\n",
              "                                                    [key], {});\n",
              "        if (!dataTable) return;\n",
              "\n",
              "        const docLinkHtml = 'Like what you see? Visit the ' +\n",
              "          '<a target=\"_blank\" href=https://colab.research.google.com/notebooks/data_table.ipynb>data table notebook</a>'\n",
              "          + ' to learn more about interactive tables.';\n",
              "        element.innerHTML = '';\n",
              "        dataTable['output_type'] = 'display_data';\n",
              "        await google.colab.output.renderOutput(dataTable, element);\n",
              "        const docLink = document.createElement('div');\n",
              "        docLink.innerHTML = docLinkHtml;\n",
              "        element.appendChild(docLink);\n",
              "      }\n",
              "    </script>\n",
              "  </div>\n",
              "\n",
              "\n",
              "<div id=\"df-a7ca0cd0-09f4-4415-be07-9f3c864be9c2\">\n",
              "  <button class=\"colab-df-quickchart\" onclick=\"quickchart('df-a7ca0cd0-09f4-4415-be07-9f3c864be9c2')\"\n",
              "            title=\"Suggest charts.\"\n",
              "            style=\"display:none;\">\n",
              "\n",
              "<svg xmlns=\"http://www.w3.org/2000/svg\" height=\"24px\"viewBox=\"0 0 24 24\"\n",
              "     width=\"24px\">\n",
              "    <g>\n",
              "        <path d=\"M19 3H5c-1.1 0-2 .9-2 2v14c0 1.1.9 2 2 2h14c1.1 0 2-.9 2-2V5c0-1.1-.9-2-2-2zM9 17H7v-7h2v7zm4 0h-2V7h2v10zm4 0h-2v-4h2v4z\"/>\n",
              "    </g>\n",
              "</svg>\n",
              "  </button>\n",
              "\n",
              "<style>\n",
              "  .colab-df-quickchart {\n",
              "      --bg-color: #E8F0FE;\n",
              "      --fill-color: #1967D2;\n",
              "      --hover-bg-color: #E2EBFA;\n",
              "      --hover-fill-color: #174EA6;\n",
              "      --disabled-fill-color: #AAA;\n",
              "      --disabled-bg-color: #DDD;\n",
              "  }\n",
              "\n",
              "  [theme=dark] .colab-df-quickchart {\n",
              "      --bg-color: #3B4455;\n",
              "      --fill-color: #D2E3FC;\n",
              "      --hover-bg-color: #434B5C;\n",
              "      --hover-fill-color: #FFFFFF;\n",
              "      --disabled-bg-color: #3B4455;\n",
              "      --disabled-fill-color: #666;\n",
              "  }\n",
              "\n",
              "  .colab-df-quickchart {\n",
              "    background-color: var(--bg-color);\n",
              "    border: none;\n",
              "    border-radius: 50%;\n",
              "    cursor: pointer;\n",
              "    display: none;\n",
              "    fill: var(--fill-color);\n",
              "    height: 32px;\n",
              "    padding: 0;\n",
              "    width: 32px;\n",
              "  }\n",
              "\n",
              "  .colab-df-quickchart:hover {\n",
              "    background-color: var(--hover-bg-color);\n",
              "    box-shadow: 0 1px 2px rgba(60, 64, 67, 0.3), 0 1px 3px 1px rgba(60, 64, 67, 0.15);\n",
              "    fill: var(--button-hover-fill-color);\n",
              "  }\n",
              "\n",
              "  .colab-df-quickchart-complete:disabled,\n",
              "  .colab-df-quickchart-complete:disabled:hover {\n",
              "    background-color: var(--disabled-bg-color);\n",
              "    fill: var(--disabled-fill-color);\n",
              "    box-shadow: none;\n",
              "  }\n",
              "\n",
              "  .colab-df-spinner {\n",
              "    border: 2px solid var(--fill-color);\n",
              "    border-color: transparent;\n",
              "    border-bottom-color: var(--fill-color);\n",
              "    animation:\n",
              "      spin 1s steps(1) infinite;\n",
              "  }\n",
              "\n",
              "  @keyframes spin {\n",
              "    0% {\n",
              "      border-color: transparent;\n",
              "      border-bottom-color: var(--fill-color);\n",
              "      border-left-color: var(--fill-color);\n",
              "    }\n",
              "    20% {\n",
              "      border-color: transparent;\n",
              "      border-left-color: var(--fill-color);\n",
              "      border-top-color: var(--fill-color);\n",
              "    }\n",
              "    30% {\n",
              "      border-color: transparent;\n",
              "      border-left-color: var(--fill-color);\n",
              "      border-top-color: var(--fill-color);\n",
              "      border-right-color: var(--fill-color);\n",
              "    }\n",
              "    40% {\n",
              "      border-color: transparent;\n",
              "      border-right-color: var(--fill-color);\n",
              "      border-top-color: var(--fill-color);\n",
              "    }\n",
              "    60% {\n",
              "      border-color: transparent;\n",
              "      border-right-color: var(--fill-color);\n",
              "    }\n",
              "    80% {\n",
              "      border-color: transparent;\n",
              "      border-right-color: var(--fill-color);\n",
              "      border-bottom-color: var(--fill-color);\n",
              "    }\n",
              "    90% {\n",
              "      border-color: transparent;\n",
              "      border-bottom-color: var(--fill-color);\n",
              "    }\n",
              "  }\n",
              "</style>\n",
              "\n",
              "  <script>\n",
              "    async function quickchart(key) {\n",
              "      const quickchartButtonEl =\n",
              "        document.querySelector('#' + key + ' button');\n",
              "      quickchartButtonEl.disabled = true;  // To prevent multiple clicks.\n",
              "      quickchartButtonEl.classList.add('colab-df-spinner');\n",
              "      try {\n",
              "        const charts = await google.colab.kernel.invokeFunction(\n",
              "            'suggestCharts', [key], {});\n",
              "      } catch (error) {\n",
              "        console.error('Error during call to suggestCharts:', error);\n",
              "      }\n",
              "      quickchartButtonEl.classList.remove('colab-df-spinner');\n",
              "      quickchartButtonEl.classList.add('colab-df-quickchart-complete');\n",
              "    }\n",
              "    (() => {\n",
              "      let quickchartButtonEl =\n",
              "        document.querySelector('#df-a7ca0cd0-09f4-4415-be07-9f3c864be9c2 button');\n",
              "      quickchartButtonEl.style.display =\n",
              "        google.colab.kernel.accessAllowed ? 'block' : 'none';\n",
              "    })();\n",
              "  </script>\n",
              "</div>\n",
              "    </div>\n",
              "  </div>\n"
            ]
          },
          "metadata": {},
          "execution_count": 247
        }
      ]
    },
    {
      "cell_type": "code",
      "source": [
        "proccessed_sents = df1[1].apply(lambda x: [re.sub(r'[^а-яё ]+', ' ', sent.lower()) for sent in sent_tokenize(x)])\n",
        "proccessed_sents"
      ],
      "metadata": {
        "colab": {
          "base_uri": "https://localhost:8080/"
        },
        "id": "udlCHRw9ryVC",
        "outputId": "8741db73-2df2-44fd-9e3e-0f48111a2f74"
      },
      "id": "udlCHRw9ryVC",
      "execution_count": 280,
      "outputs": [
        {
          "output_type": "execute_result",
          "data": {
            "text/plain": [
              "0       [завтра мои котейки идут к врачу , а  го жду и...\n",
              "1       [котя скучает по мужу , со вторника спит на ег...\n",
              "2       [получилось так  что мне пришлось  отдать  мою...\n",
              "3       [лучше всего для начала спросить об этом у люд...\n",
              "4       [что волонтеры принесут  то и насыпализначит  ...\n",
              "                              ...                        \n",
              "1579    [надо на ночь сыпать больше корма я своим насы...\n",
              "1580    [а вот когда реально голодные   кусаются , мог...\n",
              "1581    [и нет  разницы  в эмоциях  человека  и кота ,...\n",
              "1582    [который деньтоже запал если не пристроили   н...\n",
              "1583    [хочу сказать спасибо большое тем  кто  совето...\n",
              "Name: 1, Length: 1584, dtype: object"
            ]
          },
          "metadata": {},
          "execution_count": 280
        }
      ]
    },
    {
      "cell_type": "code",
      "source": [
        "tokenizer = RegexpTokenizer(\"\\w+\")\n",
        "\n",
        "all_sents = proccessed_sents.sum()\n",
        "unigrams = []\n",
        "bigrams = []\n",
        "for sent in all_sents:\n",
        "  tokens = tokenizer.tokenize(sent)\n",
        "  unigrams.extend(ngrams(tokens, n=1))\n",
        "  bigrams.extend(ngrams(tokens, n=2))"
      ],
      "metadata": {
        "id": "ujP_mj51qWAl"
      },
      "id": "ujP_mj51qWAl",
      "execution_count": 281,
      "outputs": []
    },
    {
      "cell_type": "code",
      "source": [
        "unigrams[:10], len(unigrams)"
      ],
      "metadata": {
        "colab": {
          "base_uri": "https://localhost:8080/"
        },
        "id": "SzTj8V39s75r",
        "outputId": "ae574716-f5b2-4b10-fd14-f513b8434019"
      },
      "id": "SzTj8V39s75r",
      "execution_count": 282,
      "outputs": [
        {
          "output_type": "execute_result",
          "data": {
            "text/plain": [
              "([('завтра',),\n",
              "  ('мои',),\n",
              "  ('котейки',),\n",
              "  ('идут',),\n",
              "  ('к',),\n",
              "  ('врачу',),\n",
              "  ('а',),\n",
              "  ('го',),\n",
              "  ('жду',),\n",
              "  ('их',)],\n",
              " 174803)"
            ]
          },
          "metadata": {},
          "execution_count": 282
        }
      ]
    },
    {
      "cell_type": "code",
      "source": [
        "bigrams[:10], len(bigrams)"
      ],
      "metadata": {
        "colab": {
          "base_uri": "https://localhost:8080/"
        },
        "id": "-vZpSkh2tFAH",
        "outputId": "47c94bb2-4744-4649-8c93-2bbda62c5f9b"
      },
      "id": "-vZpSkh2tFAH",
      "execution_count": 283,
      "outputs": [
        {
          "output_type": "execute_result",
          "data": {
            "text/plain": [
              "([('завтра', 'мои'),\n",
              "  ('мои', 'котейки'),\n",
              "  ('котейки', 'идут'),\n",
              "  ('идут', 'к'),\n",
              "  ('к', 'врачу'),\n",
              "  ('а', 'го'),\n",
              "  ('го', 'жду'),\n",
              "  ('жду', 'их'),\n",
              "  ('их', 'домой'),\n",
              "  ('прошу', 'помощи')],\n",
              " 160397)"
            ]
          },
          "metadata": {},
          "execution_count": 283
        }
      ]
    },
    {
      "cell_type": "markdown",
      "id": "2a170a1d",
      "metadata": {
        "id": "2a170a1d"
      },
      "source": [
        "<p class=\"task\" id=\"2\"></p>\n",
        "\n",
        "2\\. Получите распределение вероятностей для униграм $P(w_i) = \\frac{C(w_i)}{N}$, где $N$ - количество униграм, $C(w_i)$ - частота использования токена $w_i$. Получите распределение условных вероятностей для биграмм $P(w_i|w_{i-1})=\\frac{C(w_{i-1} w_i)}{C(w_{i-1})}$ ($C(w_{i-1} w_i)$ - частота использования словосочетания $w_{i-1}w_i$)."
      ]
    },
    {
      "cell_type": "code",
      "source": [
        "from collections import Counter"
      ],
      "metadata": {
        "id": "YhxXrQv4uTMG"
      },
      "id": "YhxXrQv4uTMG",
      "execution_count": 284,
      "outputs": []
    },
    {
      "cell_type": "code",
      "source": [
        "N_unigram = len(unigrams)\n",
        "Pw_unigram = Counter(unigrams)\n",
        "for i in Pw_unigram:\n",
        "  Pw_unigram[i] = Pw_unigram[i]/N_unigram\n",
        "Pw_unigram.most_common(15)"
      ],
      "metadata": {
        "colab": {
          "base_uri": "https://localhost:8080/"
        },
        "id": "n1-9V3uvtc6C",
        "outputId": "444cf9e2-3810-4bb1-cb37-37781460df4d"
      },
      "id": "n1-9V3uvtc6C",
      "execution_count": 285,
      "outputs": [
        {
          "output_type": "execute_result",
          "data": {
            "text/plain": [
              "[(('и',), 0.037024536192170616),\n",
              " (('не',), 0.025331373031355298),\n",
              " (('в',), 0.02412429992620264),\n",
              " (('на',), 0.022379478613067282),\n",
              " (('с',), 0.01348947100450221),\n",
              " (('я',), 0.013089020211323604),\n",
              " (('что',), 0.013020371503921557),\n",
              " (('а',), 0.012333884429901089),\n",
              " (('у',), 0.009662305566838099),\n",
              " (('как',), 0.008255007065096137),\n",
              " (('то',), 0.007963250058637437),\n",
              " (('но',), 0.00787743917438488),\n",
              " (('по',), 0.006561672282512314),\n",
              " (('он',), 0.006206987294268405),\n",
              " (('это',), 0.005680680537519379)]"
            ]
          },
          "metadata": {},
          "execution_count": 285
        }
      ]
    },
    {
      "cell_type": "code",
      "source": [
        "len(Pw_unigram), len(Pw_unigram) == len(set(Pw_unigram))"
      ],
      "metadata": {
        "colab": {
          "base_uri": "https://localhost:8080/"
        },
        "id": "r8TqUdvcvsKE",
        "outputId": "48fc0751-44fe-456e-aee0-e30ca3d57549"
      },
      "id": "r8TqUdvcvsKE",
      "execution_count": 286,
      "outputs": [
        {
          "output_type": "execute_result",
          "data": {
            "text/plain": [
              "(28463, True)"
            ]
          },
          "metadata": {},
          "execution_count": 286
        }
      ]
    },
    {
      "cell_type": "code",
      "source": [
        "cnt_unigram = Counter(unigrams)\n",
        "Pw_bigram = Counter(bigrams)\n",
        "for i in Pw_bigram:\n",
        "  Pw_bigram[i] = Pw_bigram[i]/cnt_unigram[(i[0], )]\n",
        "Pw_bigram.most_common(15)"
      ],
      "metadata": {
        "colab": {
          "base_uri": "https://localhost:8080/"
        },
        "id": "QpbI7vLcva66",
        "outputId": "37a80d52-9621-4632-ca63-733dc84c004d"
      },
      "id": "QpbI7vLcva66",
      "execution_count": 287,
      "outputs": [
        {
          "output_type": "execute_result",
          "data": {
            "text/plain": [
              "[(('определенному', 'наполнителю'), 1.0),\n",
              " (('документы', 'и'), 1.0),\n",
              " (('переднее', 'сидение'), 1.0),\n",
              " (('расстроился', 'вылез'), 1.0),\n",
              " (('заныл', 'и'), 1.0),\n",
              " (('ехидненько', 'так'), 1.0),\n",
              " (('трупаков', 'припер'), 1.0),\n",
              " (('закапываешь', 'или'), 1.0),\n",
              " (('швыряешь', 'за'), 1.0),\n",
              " (('зосю', 'маме'), 1.0),\n",
              " (('зоська', 'прижилась'), 1.0),\n",
              " (('сосватать', 'вот'), 1.0),\n",
              " (('насыпализначит', 'котики'), 1.0),\n",
              " (('привередливые', 'выбирайте'), 1.0),\n",
              " (('удобству', 'и'), 1.0)]"
            ]
          },
          "metadata": {},
          "execution_count": 287
        }
      ]
    },
    {
      "cell_type": "code",
      "source": [
        "len(Pw_bigram), len(Pw_bigram) == len(set(Pw_bigram))"
      ],
      "metadata": {
        "colab": {
          "base_uri": "https://localhost:8080/"
        },
        "id": "j46aOpn-vxzK",
        "outputId": "73078e35-e80c-4e06-8545-c66a22cd7a70"
      },
      "id": "j46aOpn-vxzK",
      "execution_count": 288,
      "outputs": [
        {
          "output_type": "execute_result",
          "data": {
            "text/plain": [
              "(104148, True)"
            ]
          },
          "metadata": {},
          "execution_count": 288
        }
      ]
    },
    {
      "cell_type": "markdown",
      "id": "c9d6c4f1",
      "metadata": {
        "id": "c9d6c4f1"
      },
      "source": [
        "<p class=\"task\" id=\"3\"></p>\n",
        "\n",
        "3\\.Воспользовавшись полученными вероятностями, сгенерируйте текст длиной не более 20 слов, начинающийся с токена \"мой\". При генерации текста выбирайте слово с наибольшей вероятностью соответствующего биграмма. Выведите полученный текст на экран."
      ]
    },
    {
      "cell_type": "code",
      "source": [
        "bigrams_sorted = Pw_bigram.most_common()\n",
        "text_gen = ['мой']\n",
        "n_words = 1\n",
        "\n",
        "while n_words < 20:\n",
        "  for bigr in bigrams_sorted:\n",
        "    if bigr[0][0] == text_gen[-1]:\n",
        "      text_gen += [bigr[0][1]]\n",
        "      n_words += 1\n",
        "      break\n",
        "\n",
        "' '.join(text_gen)"
      ],
      "metadata": {
        "colab": {
          "base_uri": "https://localhost:8080/",
          "height": 36
        },
        "id": "tJ5prJ21waIN",
        "outputId": "b5ee40ce-50a7-4236-aafb-213cc11e6bb2"
      },
      "id": "tJ5prJ21waIN",
      "execution_count": 289,
      "outputs": [
        {
          "output_type": "execute_result",
          "data": {
            "text/plain": [
              "'мой кот в доме не знаю что то что то что то что то что то что то что то'"
            ],
            "application/vnd.google.colaboratory.intrinsic+json": {
              "type": "string"
            }
          },
          "metadata": {},
          "execution_count": 289
        }
      ]
    },
    {
      "cell_type": "markdown",
      "id": "4039fcbf",
      "metadata": {
        "id": "4039fcbf"
      },
      "source": [
        "<p class=\"task\" id=\"4\"></p>\n",
        "\n",
        "4\\.Воспользовавшись полученными вероятностями, сгенерируйте текст длиной не более 20 слов, начинающийся с токена \"мой\". При генерации текста выбирайте слово пропорционально вероятностям соответствующих биграммов. Выведите полученный текст на экран."
      ]
    },
    {
      "cell_type": "code",
      "source": [
        "bigrams_sorted = Pw_bigram.most_common()\n",
        "text_gen = ['мой']\n",
        "n_words = 1\n",
        "\n",
        "while n_words < 20:\n",
        "  for bigr in bigrams_sorted:\n",
        "    if bigr[0][0] == text_gen[-1]:\n",
        "      text_gen += [bigr[0][1]]\n",
        "      n_words += 1\n",
        "      break\n",
        "\n",
        "' '.join(text_gen)"
      ],
      "metadata": {
        "colab": {
          "base_uri": "https://localhost:8080/",
          "height": 36
        },
        "id": "Up4nlYDuyz1F",
        "outputId": "dfa20149-4726-4a10-96e9-968f981fbe47"
      },
      "id": "Up4nlYDuyz1F",
      "execution_count": 290,
      "outputs": [
        {
          "output_type": "execute_result",
          "data": {
            "text/plain": [
              "'мой кот в доме не знаю что то что то что то что то что то что то что то'"
            ],
            "application/vnd.google.colaboratory.intrinsic+json": {
              "type": "string"
            }
          },
          "metadata": {},
          "execution_count": 290
        }
      ]
    },
    {
      "cell_type": "markdown",
      "id": "bde3ee55",
      "metadata": {
        "id": "bde3ee55"
      },
      "source": [
        "<p class=\"task\" id=\"5\"></p>\n",
        "\n",
        "5\\. Получите распределение вероятностей для униграм, воспользовавшись сглаживанием Лапласа: $P_L(w_i) = \\frac{C(w_i)+1}{N+V}$, где $V$ - количество уникальных униграмм. Получите распределение условных вероятностей для биграмм $P_L(w_i|w_{i-1})=\\frac{C(w_{i-1} w_i)+1}{C(w_{i-1})+V}$"
      ]
    },
    {
      "cell_type": "code",
      "source": [
        "N_unigram = len(unigrams)\n",
        "PLw_unigram = Counter(unigrams)\n",
        "V_unigram = len(PLw_unigram)\n",
        "\n",
        "for i in PLw_unigram:\n",
        "  PLw_unigram[i] = (PLw_unigram[i]+1)/(N_unigram+V_unigram)\n",
        "\n",
        "PLw_unigram.most_common(15)"
      ],
      "metadata": {
        "colab": {
          "base_uri": "https://localhost:8080/"
        },
        "id": "jBkKkwIY2q-S",
        "outputId": "70cd40c7-66ae-4ca8-fbb0-ba211a2bca28"
      },
      "id": "jBkKkwIY2q-S",
      "execution_count": 291,
      "outputs": [
        {
          "output_type": "execute_result",
          "data": {
            "text/plain": [
              "[(('и',), 0.03184497161355072),\n",
              " (('не',), 0.021789182647368472),\n",
              " (('в',), 0.02075113398207275),\n",
              " (('на',), 0.01925063709621875),\n",
              " (('с',), 0.011605482471244577),\n",
              " (('я',), 0.01126110613678628),\n",
              " (('что',), 0.011202070193736287),\n",
              " (('а',), 0.01061171076323635),\n",
              " (('у',), 0.008314228646207433),\n",
              " (('как',), 0.007103991813682564),\n",
              " (('то',), 0.006853089055720091),\n",
              " (('но',), 0.006779294126907599),\n",
              " (('по',), 0.0056477718851160544),\n",
              " (('он',), 0.005342752846024422),\n",
              " (('это',), 0.004890143949307804)]"
            ]
          },
          "metadata": {},
          "execution_count": 291
        }
      ]
    },
    {
      "cell_type": "code",
      "source": [
        "cnt_unigram = Counter(unigrams)\n",
        "PLw_bigram = Counter(bigrams)\n",
        "\n",
        "for i in PLw_bigram:\n",
        "  PLw_bigram[i] = (PLw_bigram[i]+1)/(cnt_unigram[(i[0], )]+V_unigram)\n",
        "\n",
        "PLw_bigram.most_common(15)"
      ],
      "metadata": {
        "colab": {
          "base_uri": "https://localhost:8080/"
        },
        "id": "G9YHi5KvzWqa",
        "outputId": "7d69c962-a756-43da-8f6d-286fbf1a3011"
      },
      "id": "G9YHi5KvzWqa",
      "execution_count": 292,
      "outputs": [
        {
          "output_type": "execute_result",
          "data": {
            "text/plain": [
              "[(('у', 'меня'), 0.013033961262934466),\n",
              " (('у', 'нас'), 0.012304324754576811),\n",
              " (('и', 'не'), 0.006927150422212681),\n",
              " (('что', 'то'), 0.0042616871075832),\n",
              " (('я', 'не'), 0.004097427725927612),\n",
              " (('а', 'потом'), 0.004017113556941768),\n",
              " (('потому', 'что'), 0.003880711813446142),\n",
              " (('так', 'и'), 0.0035670607419486344),\n",
              " (('ко', 'мне'), 0.0034294512877939528),\n",
              " (('не', 'знаю'), 0.003253169560062023),\n",
              " (('у', 'него'), 0.0032501989917750065),\n",
              " (('на', 'меня'), 0.00311969111969112),\n",
              " (('как', 'то'), 0.003109743864107537),\n",
              " (('а', 'я'), 0.0031026486821907964),\n",
              " (('так', 'что'), 0.0029895366218236174)]"
            ]
          },
          "metadata": {},
          "execution_count": 292
        }
      ]
    },
    {
      "cell_type": "markdown",
      "id": "56ed1b9e",
      "metadata": {
        "id": "56ed1b9e"
      },
      "source": [
        "<p class=\"task\" id=\"6\"></p>\n",
        "\n",
        "6\\.Воспользовавшись полученными после сглаживания вероятностями, сгенерируйте текст длиной не более 20 слов, начинающийся с токена \"мой\". При генерации текста выбирайте слово пропорционально вероятностям соответствующих биграммов. Выведите полученный текст на экран."
      ]
    },
    {
      "cell_type": "code",
      "source": [
        "import numpy as np"
      ],
      "metadata": {
        "id": "yqYQVZQc5Dnp"
      },
      "id": "yqYQVZQc5Dnp",
      "execution_count": 293,
      "outputs": []
    },
    {
      "cell_type": "code",
      "source": [
        "bigrams_L_sorted = PLw_bigram.most_common()\n",
        "text6_gen = ['мой']\n",
        "n_words = 1\n",
        "\n",
        "while n_words < 20:\n",
        "  p_words = []\n",
        "  sum_p = 0\n",
        "  words = []\n",
        "  for bigr in bigrams_L_sorted:\n",
        "    if bigr[0][0] == text6_gen[-1]:\n",
        "      sum_p += bigr[1]\n",
        "      p_words.append(bigr[1])\n",
        "      words.append(bigr[0][1])\n",
        "\n",
        "  p_words = [p/sum_p for p in p_words]\n",
        "  if words:\n",
        "    new_word = np.random.choice(words, p=p_words)\n",
        "    text6_gen += [new_word]\n",
        "    n_words += 1\n",
        "  else:\n",
        "    text6_gen.pop()\n",
        "    n_words -= 1\n",
        "\n",
        "\n",
        "' '.join(text6_gen)"
      ],
      "metadata": {
        "colab": {
          "base_uri": "https://localhost:8080/",
          "height": 36
        },
        "id": "5di5ox0X4UZA",
        "outputId": "c87185b6-2509-4971-8047-47027b7dcdc3"
      },
      "id": "5di5ox0X4UZA",
      "execution_count": 294,
      "outputs": [
        {
          "output_type": "execute_result",
          "data": {
            "text/plain": [
              "'мой детский садик вернее не хворать и бедняга покорно сносил всё просчитано до вчерашнего дня оставить открытой дверью выглядываю так'"
            ],
            "application/vnd.google.colaboratory.intrinsic+json": {
              "type": "string"
            }
          },
          "metadata": {},
          "execution_count": 294
        }
      ]
    },
    {
      "cell_type": "markdown",
      "id": "8e93617c",
      "metadata": {
        "id": "8e93617c"
      },
      "source": [
        "<p class=\"task\" id=\"7\"></p>\n",
        "\n",
        "7\\. Рассчитайте перплексию для текста \"Котя пришел домой с хромой лапой\" для четырех моделей: на 1/2-граммах и с/без использования сглаживания Лапласа. Сведите результат в таблицу. Повторите вычисления для текста \"После пар я поеду кормить своего кота\", используя доступные модели.\n",
        "\n",
        "$Perplexity(W) = P(w_1w_2...w_N)^{-\\frac{1}{N}}$\n",
        "\n",
        "Для модели на униграммах $P(w_1w_2...w_N) = \\Pi_{i=1}^{N}{P(w_i)}$\n",
        "\n",
        "Для модели на биграммах $P(w_1w_2...w_N) = \\Pi_{i=1}^{N}{P(w_i|w_{i-1})}$"
      ]
    },
    {
      "cell_type": "code",
      "execution_count": 295,
      "id": "3fd5addc",
      "metadata": {
        "id": "3fd5addc"
      },
      "outputs": [],
      "source": [
        "test1 = \"После пар я поеду кормить своего кота\".lower()\n",
        "test2 = \"Котя пришел домой с хромой лапой\".lower()"
      ]
    },
    {
      "cell_type": "code",
      "source": [
        "def perplexity(W, laplace=False):\n",
        "  tokenizer = RegexpTokenizer(\"\\w+\")\n",
        "  tokens = tokenizer.tokenize(W)\n",
        "\n",
        "  unigrams = list(ngrams(tokens, n=1))\n",
        "  bigrams = list(ngrams(tokens, n=2))\n",
        "\n",
        "  N = len(tokens)\n",
        "\n",
        "  Pw_uni = Counter(unigrams)\n",
        "  V = len(Pw_uni)\n",
        "  for i in Pw_uni:\n",
        "    Pw_uni[i] = (Pw_uni[i]+laplace)/(N+V*laplace)\n",
        "\n",
        "\n",
        "  cnt = Counter(unigrams)\n",
        "  Pw_big = Counter(bigrams)\n",
        "  for i in Pw_big:\n",
        "    Pw_big[i] = (Pw_big[i]+laplace)/(cnt[(i[0], )]+V*laplace)\n",
        "\n",
        "  Pw_uni_np, Pw_big_np = np.array(list(Pw_uni.values())), np.array(list(Pw_big.values()))\n",
        "\n",
        "  return np.prod(Pw_uni_np)**(-1/N), np.prod(Pw_big_np)**(-1/N)"
      ],
      "metadata": {
        "id": "hVJ7CWnB9XnC"
      },
      "id": "hVJ7CWnB9XnC",
      "execution_count": 296,
      "outputs": []
    },
    {
      "cell_type": "code",
      "source": [
        "# test2 = \"Котя пришел домой с хромой лапой\".lower()\n",
        "pd.DataFrame([perplexity(test2), perplexity(test2,laplace=True)],columns=['unigrams','bigrams'], index=['without laplace', 'with laplace'])"
      ],
      "metadata": {
        "colab": {
          "base_uri": "https://localhost:8080/",
          "height": 112
        },
        "id": "U26rHlTAF2w9",
        "outputId": "35f100b9-a7c5-44a5-8be4-5bb12b565cd3"
      },
      "id": "U26rHlTAF2w9",
      "execution_count": 297,
      "outputs": [
        {
          "output_type": "execute_result",
          "data": {
            "text/plain": [
              "                 unigrams   bigrams\n",
              "without laplace       6.0  1.000000\n",
              "with laplace          6.0  2.840469"
            ],
            "text/html": [
              "\n",
              "  <div id=\"df-55dd7a16-074b-477a-88e8-acbb6cd8b854\" class=\"colab-df-container\">\n",
              "    <div>\n",
              "<style scoped>\n",
              "    .dataframe tbody tr th:only-of-type {\n",
              "        vertical-align: middle;\n",
              "    }\n",
              "\n",
              "    .dataframe tbody tr th {\n",
              "        vertical-align: top;\n",
              "    }\n",
              "\n",
              "    .dataframe thead th {\n",
              "        text-align: right;\n",
              "    }\n",
              "</style>\n",
              "<table border=\"1\" class=\"dataframe\">\n",
              "  <thead>\n",
              "    <tr style=\"text-align: right;\">\n",
              "      <th></th>\n",
              "      <th>unigrams</th>\n",
              "      <th>bigrams</th>\n",
              "    </tr>\n",
              "  </thead>\n",
              "  <tbody>\n",
              "    <tr>\n",
              "      <th>without laplace</th>\n",
              "      <td>6.0</td>\n",
              "      <td>1.000000</td>\n",
              "    </tr>\n",
              "    <tr>\n",
              "      <th>with laplace</th>\n",
              "      <td>6.0</td>\n",
              "      <td>2.840469</td>\n",
              "    </tr>\n",
              "  </tbody>\n",
              "</table>\n",
              "</div>\n",
              "    <div class=\"colab-df-buttons\">\n",
              "\n",
              "  <div class=\"colab-df-container\">\n",
              "    <button class=\"colab-df-convert\" onclick=\"convertToInteractive('df-55dd7a16-074b-477a-88e8-acbb6cd8b854')\"\n",
              "            title=\"Convert this dataframe to an interactive table.\"\n",
              "            style=\"display:none;\">\n",
              "\n",
              "  <svg xmlns=\"http://www.w3.org/2000/svg\" height=\"24px\" viewBox=\"0 -960 960 960\">\n",
              "    <path d=\"M120-120v-720h720v720H120Zm60-500h600v-160H180v160Zm220 220h160v-160H400v160Zm0 220h160v-160H400v160ZM180-400h160v-160H180v160Zm440 0h160v-160H620v160ZM180-180h160v-160H180v160Zm440 0h160v-160H620v160Z\"/>\n",
              "  </svg>\n",
              "    </button>\n",
              "\n",
              "  <style>\n",
              "    .colab-df-container {\n",
              "      display:flex;\n",
              "      gap: 12px;\n",
              "    }\n",
              "\n",
              "    .colab-df-convert {\n",
              "      background-color: #E8F0FE;\n",
              "      border: none;\n",
              "      border-radius: 50%;\n",
              "      cursor: pointer;\n",
              "      display: none;\n",
              "      fill: #1967D2;\n",
              "      height: 32px;\n",
              "      padding: 0 0 0 0;\n",
              "      width: 32px;\n",
              "    }\n",
              "\n",
              "    .colab-df-convert:hover {\n",
              "      background-color: #E2EBFA;\n",
              "      box-shadow: 0px 1px 2px rgba(60, 64, 67, 0.3), 0px 1px 3px 1px rgba(60, 64, 67, 0.15);\n",
              "      fill: #174EA6;\n",
              "    }\n",
              "\n",
              "    .colab-df-buttons div {\n",
              "      margin-bottom: 4px;\n",
              "    }\n",
              "\n",
              "    [theme=dark] .colab-df-convert {\n",
              "      background-color: #3B4455;\n",
              "      fill: #D2E3FC;\n",
              "    }\n",
              "\n",
              "    [theme=dark] .colab-df-convert:hover {\n",
              "      background-color: #434B5C;\n",
              "      box-shadow: 0px 1px 3px 1px rgba(0, 0, 0, 0.15);\n",
              "      filter: drop-shadow(0px 1px 2px rgba(0, 0, 0, 0.3));\n",
              "      fill: #FFFFFF;\n",
              "    }\n",
              "  </style>\n",
              "\n",
              "    <script>\n",
              "      const buttonEl =\n",
              "        document.querySelector('#df-55dd7a16-074b-477a-88e8-acbb6cd8b854 button.colab-df-convert');\n",
              "      buttonEl.style.display =\n",
              "        google.colab.kernel.accessAllowed ? 'block' : 'none';\n",
              "\n",
              "      async function convertToInteractive(key) {\n",
              "        const element = document.querySelector('#df-55dd7a16-074b-477a-88e8-acbb6cd8b854');\n",
              "        const dataTable =\n",
              "          await google.colab.kernel.invokeFunction('convertToInteractive',\n",
              "                                                    [key], {});\n",
              "        if (!dataTable) return;\n",
              "\n",
              "        const docLinkHtml = 'Like what you see? Visit the ' +\n",
              "          '<a target=\"_blank\" href=https://colab.research.google.com/notebooks/data_table.ipynb>data table notebook</a>'\n",
              "          + ' to learn more about interactive tables.';\n",
              "        element.innerHTML = '';\n",
              "        dataTable['output_type'] = 'display_data';\n",
              "        await google.colab.output.renderOutput(dataTable, element);\n",
              "        const docLink = document.createElement('div');\n",
              "        docLink.innerHTML = docLinkHtml;\n",
              "        element.appendChild(docLink);\n",
              "      }\n",
              "    </script>\n",
              "  </div>\n",
              "\n",
              "\n",
              "<div id=\"df-f8cefaf7-bb75-4012-944a-950a1490e9a6\">\n",
              "  <button class=\"colab-df-quickchart\" onclick=\"quickchart('df-f8cefaf7-bb75-4012-944a-950a1490e9a6')\"\n",
              "            title=\"Suggest charts.\"\n",
              "            style=\"display:none;\">\n",
              "\n",
              "<svg xmlns=\"http://www.w3.org/2000/svg\" height=\"24px\"viewBox=\"0 0 24 24\"\n",
              "     width=\"24px\">\n",
              "    <g>\n",
              "        <path d=\"M19 3H5c-1.1 0-2 .9-2 2v14c0 1.1.9 2 2 2h14c1.1 0 2-.9 2-2V5c0-1.1-.9-2-2-2zM9 17H7v-7h2v7zm4 0h-2V7h2v10zm4 0h-2v-4h2v4z\"/>\n",
              "    </g>\n",
              "</svg>\n",
              "  </button>\n",
              "\n",
              "<style>\n",
              "  .colab-df-quickchart {\n",
              "      --bg-color: #E8F0FE;\n",
              "      --fill-color: #1967D2;\n",
              "      --hover-bg-color: #E2EBFA;\n",
              "      --hover-fill-color: #174EA6;\n",
              "      --disabled-fill-color: #AAA;\n",
              "      --disabled-bg-color: #DDD;\n",
              "  }\n",
              "\n",
              "  [theme=dark] .colab-df-quickchart {\n",
              "      --bg-color: #3B4455;\n",
              "      --fill-color: #D2E3FC;\n",
              "      --hover-bg-color: #434B5C;\n",
              "      --hover-fill-color: #FFFFFF;\n",
              "      --disabled-bg-color: #3B4455;\n",
              "      --disabled-fill-color: #666;\n",
              "  }\n",
              "\n",
              "  .colab-df-quickchart {\n",
              "    background-color: var(--bg-color);\n",
              "    border: none;\n",
              "    border-radius: 50%;\n",
              "    cursor: pointer;\n",
              "    display: none;\n",
              "    fill: var(--fill-color);\n",
              "    height: 32px;\n",
              "    padding: 0;\n",
              "    width: 32px;\n",
              "  }\n",
              "\n",
              "  .colab-df-quickchart:hover {\n",
              "    background-color: var(--hover-bg-color);\n",
              "    box-shadow: 0 1px 2px rgba(60, 64, 67, 0.3), 0 1px 3px 1px rgba(60, 64, 67, 0.15);\n",
              "    fill: var(--button-hover-fill-color);\n",
              "  }\n",
              "\n",
              "  .colab-df-quickchart-complete:disabled,\n",
              "  .colab-df-quickchart-complete:disabled:hover {\n",
              "    background-color: var(--disabled-bg-color);\n",
              "    fill: var(--disabled-fill-color);\n",
              "    box-shadow: none;\n",
              "  }\n",
              "\n",
              "  .colab-df-spinner {\n",
              "    border: 2px solid var(--fill-color);\n",
              "    border-color: transparent;\n",
              "    border-bottom-color: var(--fill-color);\n",
              "    animation:\n",
              "      spin 1s steps(1) infinite;\n",
              "  }\n",
              "\n",
              "  @keyframes spin {\n",
              "    0% {\n",
              "      border-color: transparent;\n",
              "      border-bottom-color: var(--fill-color);\n",
              "      border-left-color: var(--fill-color);\n",
              "    }\n",
              "    20% {\n",
              "      border-color: transparent;\n",
              "      border-left-color: var(--fill-color);\n",
              "      border-top-color: var(--fill-color);\n",
              "    }\n",
              "    30% {\n",
              "      border-color: transparent;\n",
              "      border-left-color: var(--fill-color);\n",
              "      border-top-color: var(--fill-color);\n",
              "      border-right-color: var(--fill-color);\n",
              "    }\n",
              "    40% {\n",
              "      border-color: transparent;\n",
              "      border-right-color: var(--fill-color);\n",
              "      border-top-color: var(--fill-color);\n",
              "    }\n",
              "    60% {\n",
              "      border-color: transparent;\n",
              "      border-right-color: var(--fill-color);\n",
              "    }\n",
              "    80% {\n",
              "      border-color: transparent;\n",
              "      border-right-color: var(--fill-color);\n",
              "      border-bottom-color: var(--fill-color);\n",
              "    }\n",
              "    90% {\n",
              "      border-color: transparent;\n",
              "      border-bottom-color: var(--fill-color);\n",
              "    }\n",
              "  }\n",
              "</style>\n",
              "\n",
              "  <script>\n",
              "    async function quickchart(key) {\n",
              "      const quickchartButtonEl =\n",
              "        document.querySelector('#' + key + ' button');\n",
              "      quickchartButtonEl.disabled = true;  // To prevent multiple clicks.\n",
              "      quickchartButtonEl.classList.add('colab-df-spinner');\n",
              "      try {\n",
              "        const charts = await google.colab.kernel.invokeFunction(\n",
              "            'suggestCharts', [key], {});\n",
              "      } catch (error) {\n",
              "        console.error('Error during call to suggestCharts:', error);\n",
              "      }\n",
              "      quickchartButtonEl.classList.remove('colab-df-spinner');\n",
              "      quickchartButtonEl.classList.add('colab-df-quickchart-complete');\n",
              "    }\n",
              "    (() => {\n",
              "      let quickchartButtonEl =\n",
              "        document.querySelector('#df-f8cefaf7-bb75-4012-944a-950a1490e9a6 button');\n",
              "      quickchartButtonEl.style.display =\n",
              "        google.colab.kernel.accessAllowed ? 'block' : 'none';\n",
              "    })();\n",
              "  </script>\n",
              "</div>\n",
              "    </div>\n",
              "  </div>\n"
            ]
          },
          "metadata": {},
          "execution_count": 297
        }
      ]
    },
    {
      "cell_type": "code",
      "source": [
        "# test1 = \"После пар я поеду кормить своего кота\".lower()\n",
        "pd.DataFrame([perplexity(test1), perplexity(test1,laplace=True)],columns=['unigrams','bigrams'], index=['without laplace', 'with laplace'])"
      ],
      "metadata": {
        "colab": {
          "base_uri": "https://localhost:8080/",
          "height": 112
        },
        "id": "c27IsdVJ9_B1",
        "outputId": "fdc4efa0-13a5-4b70-e9ad-486307fecff5"
      },
      "id": "c27IsdVJ9_B1",
      "execution_count": 298,
      "outputs": [
        {
          "output_type": "execute_result",
          "data": {
            "text/plain": [
              "                 unigrams   bigrams\n",
              "without laplace       7.0  1.000000\n",
              "with laplace          7.0  3.281341"
            ],
            "text/html": [
              "\n",
              "  <div id=\"df-d3773139-39c5-4ee5-bece-bde283a3dac3\" class=\"colab-df-container\">\n",
              "    <div>\n",
              "<style scoped>\n",
              "    .dataframe tbody tr th:only-of-type {\n",
              "        vertical-align: middle;\n",
              "    }\n",
              "\n",
              "    .dataframe tbody tr th {\n",
              "        vertical-align: top;\n",
              "    }\n",
              "\n",
              "    .dataframe thead th {\n",
              "        text-align: right;\n",
              "    }\n",
              "</style>\n",
              "<table border=\"1\" class=\"dataframe\">\n",
              "  <thead>\n",
              "    <tr style=\"text-align: right;\">\n",
              "      <th></th>\n",
              "      <th>unigrams</th>\n",
              "      <th>bigrams</th>\n",
              "    </tr>\n",
              "  </thead>\n",
              "  <tbody>\n",
              "    <tr>\n",
              "      <th>without laplace</th>\n",
              "      <td>7.0</td>\n",
              "      <td>1.000000</td>\n",
              "    </tr>\n",
              "    <tr>\n",
              "      <th>with laplace</th>\n",
              "      <td>7.0</td>\n",
              "      <td>3.281341</td>\n",
              "    </tr>\n",
              "  </tbody>\n",
              "</table>\n",
              "</div>\n",
              "    <div class=\"colab-df-buttons\">\n",
              "\n",
              "  <div class=\"colab-df-container\">\n",
              "    <button class=\"colab-df-convert\" onclick=\"convertToInteractive('df-d3773139-39c5-4ee5-bece-bde283a3dac3')\"\n",
              "            title=\"Convert this dataframe to an interactive table.\"\n",
              "            style=\"display:none;\">\n",
              "\n",
              "  <svg xmlns=\"http://www.w3.org/2000/svg\" height=\"24px\" viewBox=\"0 -960 960 960\">\n",
              "    <path d=\"M120-120v-720h720v720H120Zm60-500h600v-160H180v160Zm220 220h160v-160H400v160Zm0 220h160v-160H400v160ZM180-400h160v-160H180v160Zm440 0h160v-160H620v160ZM180-180h160v-160H180v160Zm440 0h160v-160H620v160Z\"/>\n",
              "  </svg>\n",
              "    </button>\n",
              "\n",
              "  <style>\n",
              "    .colab-df-container {\n",
              "      display:flex;\n",
              "      gap: 12px;\n",
              "    }\n",
              "\n",
              "    .colab-df-convert {\n",
              "      background-color: #E8F0FE;\n",
              "      border: none;\n",
              "      border-radius: 50%;\n",
              "      cursor: pointer;\n",
              "      display: none;\n",
              "      fill: #1967D2;\n",
              "      height: 32px;\n",
              "      padding: 0 0 0 0;\n",
              "      width: 32px;\n",
              "    }\n",
              "\n",
              "    .colab-df-convert:hover {\n",
              "      background-color: #E2EBFA;\n",
              "      box-shadow: 0px 1px 2px rgba(60, 64, 67, 0.3), 0px 1px 3px 1px rgba(60, 64, 67, 0.15);\n",
              "      fill: #174EA6;\n",
              "    }\n",
              "\n",
              "    .colab-df-buttons div {\n",
              "      margin-bottom: 4px;\n",
              "    }\n",
              "\n",
              "    [theme=dark] .colab-df-convert {\n",
              "      background-color: #3B4455;\n",
              "      fill: #D2E3FC;\n",
              "    }\n",
              "\n",
              "    [theme=dark] .colab-df-convert:hover {\n",
              "      background-color: #434B5C;\n",
              "      box-shadow: 0px 1px 3px 1px rgba(0, 0, 0, 0.15);\n",
              "      filter: drop-shadow(0px 1px 2px rgba(0, 0, 0, 0.3));\n",
              "      fill: #FFFFFF;\n",
              "    }\n",
              "  </style>\n",
              "\n",
              "    <script>\n",
              "      const buttonEl =\n",
              "        document.querySelector('#df-d3773139-39c5-4ee5-bece-bde283a3dac3 button.colab-df-convert');\n",
              "      buttonEl.style.display =\n",
              "        google.colab.kernel.accessAllowed ? 'block' : 'none';\n",
              "\n",
              "      async function convertToInteractive(key) {\n",
              "        const element = document.querySelector('#df-d3773139-39c5-4ee5-bece-bde283a3dac3');\n",
              "        const dataTable =\n",
              "          await google.colab.kernel.invokeFunction('convertToInteractive',\n",
              "                                                    [key], {});\n",
              "        if (!dataTable) return;\n",
              "\n",
              "        const docLinkHtml = 'Like what you see? Visit the ' +\n",
              "          '<a target=\"_blank\" href=https://colab.research.google.com/notebooks/data_table.ipynb>data table notebook</a>'\n",
              "          + ' to learn more about interactive tables.';\n",
              "        element.innerHTML = '';\n",
              "        dataTable['output_type'] = 'display_data';\n",
              "        await google.colab.output.renderOutput(dataTable, element);\n",
              "        const docLink = document.createElement('div');\n",
              "        docLink.innerHTML = docLinkHtml;\n",
              "        element.appendChild(docLink);\n",
              "      }\n",
              "    </script>\n",
              "  </div>\n",
              "\n",
              "\n",
              "<div id=\"df-cb786a4b-66ed-48ae-8583-f7e7df830e9f\">\n",
              "  <button class=\"colab-df-quickchart\" onclick=\"quickchart('df-cb786a4b-66ed-48ae-8583-f7e7df830e9f')\"\n",
              "            title=\"Suggest charts.\"\n",
              "            style=\"display:none;\">\n",
              "\n",
              "<svg xmlns=\"http://www.w3.org/2000/svg\" height=\"24px\"viewBox=\"0 0 24 24\"\n",
              "     width=\"24px\">\n",
              "    <g>\n",
              "        <path d=\"M19 3H5c-1.1 0-2 .9-2 2v14c0 1.1.9 2 2 2h14c1.1 0 2-.9 2-2V5c0-1.1-.9-2-2-2zM9 17H7v-7h2v7zm4 0h-2V7h2v10zm4 0h-2v-4h2v4z\"/>\n",
              "    </g>\n",
              "</svg>\n",
              "  </button>\n",
              "\n",
              "<style>\n",
              "  .colab-df-quickchart {\n",
              "      --bg-color: #E8F0FE;\n",
              "      --fill-color: #1967D2;\n",
              "      --hover-bg-color: #E2EBFA;\n",
              "      --hover-fill-color: #174EA6;\n",
              "      --disabled-fill-color: #AAA;\n",
              "      --disabled-bg-color: #DDD;\n",
              "  }\n",
              "\n",
              "  [theme=dark] .colab-df-quickchart {\n",
              "      --bg-color: #3B4455;\n",
              "      --fill-color: #D2E3FC;\n",
              "      --hover-bg-color: #434B5C;\n",
              "      --hover-fill-color: #FFFFFF;\n",
              "      --disabled-bg-color: #3B4455;\n",
              "      --disabled-fill-color: #666;\n",
              "  }\n",
              "\n",
              "  .colab-df-quickchart {\n",
              "    background-color: var(--bg-color);\n",
              "    border: none;\n",
              "    border-radius: 50%;\n",
              "    cursor: pointer;\n",
              "    display: none;\n",
              "    fill: var(--fill-color);\n",
              "    height: 32px;\n",
              "    padding: 0;\n",
              "    width: 32px;\n",
              "  }\n",
              "\n",
              "  .colab-df-quickchart:hover {\n",
              "    background-color: var(--hover-bg-color);\n",
              "    box-shadow: 0 1px 2px rgba(60, 64, 67, 0.3), 0 1px 3px 1px rgba(60, 64, 67, 0.15);\n",
              "    fill: var(--button-hover-fill-color);\n",
              "  }\n",
              "\n",
              "  .colab-df-quickchart-complete:disabled,\n",
              "  .colab-df-quickchart-complete:disabled:hover {\n",
              "    background-color: var(--disabled-bg-color);\n",
              "    fill: var(--disabled-fill-color);\n",
              "    box-shadow: none;\n",
              "  }\n",
              "\n",
              "  .colab-df-spinner {\n",
              "    border: 2px solid var(--fill-color);\n",
              "    border-color: transparent;\n",
              "    border-bottom-color: var(--fill-color);\n",
              "    animation:\n",
              "      spin 1s steps(1) infinite;\n",
              "  }\n",
              "\n",
              "  @keyframes spin {\n",
              "    0% {\n",
              "      border-color: transparent;\n",
              "      border-bottom-color: var(--fill-color);\n",
              "      border-left-color: var(--fill-color);\n",
              "    }\n",
              "    20% {\n",
              "      border-color: transparent;\n",
              "      border-left-color: var(--fill-color);\n",
              "      border-top-color: var(--fill-color);\n",
              "    }\n",
              "    30% {\n",
              "      border-color: transparent;\n",
              "      border-left-color: var(--fill-color);\n",
              "      border-top-color: var(--fill-color);\n",
              "      border-right-color: var(--fill-color);\n",
              "    }\n",
              "    40% {\n",
              "      border-color: transparent;\n",
              "      border-right-color: var(--fill-color);\n",
              "      border-top-color: var(--fill-color);\n",
              "    }\n",
              "    60% {\n",
              "      border-color: transparent;\n",
              "      border-right-color: var(--fill-color);\n",
              "    }\n",
              "    80% {\n",
              "      border-color: transparent;\n",
              "      border-right-color: var(--fill-color);\n",
              "      border-bottom-color: var(--fill-color);\n",
              "    }\n",
              "    90% {\n",
              "      border-color: transparent;\n",
              "      border-bottom-color: var(--fill-color);\n",
              "    }\n",
              "  }\n",
              "</style>\n",
              "\n",
              "  <script>\n",
              "    async function quickchart(key) {\n",
              "      const quickchartButtonEl =\n",
              "        document.querySelector('#' + key + ' button');\n",
              "      quickchartButtonEl.disabled = true;  // To prevent multiple clicks.\n",
              "      quickchartButtonEl.classList.add('colab-df-spinner');\n",
              "      try {\n",
              "        const charts = await google.colab.kernel.invokeFunction(\n",
              "            'suggestCharts', [key], {});\n",
              "      } catch (error) {\n",
              "        console.error('Error during call to suggestCharts:', error);\n",
              "      }\n",
              "      quickchartButtonEl.classList.remove('colab-df-spinner');\n",
              "      quickchartButtonEl.classList.add('colab-df-quickchart-complete');\n",
              "    }\n",
              "    (() => {\n",
              "      let quickchartButtonEl =\n",
              "        document.querySelector('#df-cb786a4b-66ed-48ae-8583-f7e7df830e9f button');\n",
              "      quickchartButtonEl.style.display =\n",
              "        google.colab.kernel.accessAllowed ? 'block' : 'none';\n",
              "    })();\n",
              "  </script>\n",
              "</div>\n",
              "    </div>\n",
              "  </div>\n"
            ]
          },
          "metadata": {},
          "execution_count": 298
        }
      ]
    },
    {
      "cell_type": "code",
      "source": [],
      "metadata": {
        "id": "V8u4kAKXF2Dj"
      },
      "id": "V8u4kAKXF2Dj",
      "execution_count": null,
      "outputs": []
    }
  ],
  "metadata": {
    "kernelspec": {
      "display_name": "Python 3 (ipykernel)",
      "language": "python",
      "name": "python3"
    },
    "language_info": {
      "codemirror_mode": {
        "name": "ipython",
        "version": 3
      },
      "file_extension": ".py",
      "mimetype": "text/x-python",
      "name": "python",
      "nbconvert_exporter": "python",
      "pygments_lexer": "ipython3",
      "version": "3.9.13"
    },
    "colab": {
      "provenance": []
    }
  },
  "nbformat": 4,
  "nbformat_minor": 5
}
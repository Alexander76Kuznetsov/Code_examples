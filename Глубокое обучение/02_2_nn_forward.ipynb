{
  "cells": [
    {
      "cell_type": "markdown",
      "id": "3a564d5f",
      "metadata": {
        "id": "3a564d5f"
      },
      "source": [
        "#  Forward pass\n",
        "\n",
        "__Автор задач: Блохин Н.В. (NVBlokhin@fa.ru)__\n",
        "\n",
        "Материалы:\n",
        "* Deep Learning with PyTorch (2020) Авторы: Eli Stevens, Luca Antiga, Thomas Viehmann\n",
        "* https://pytorch.org/docs/stable/generated/torch.matmul.html\n",
        "* https://machinelearningmastery.com/choose-an-activation-function-for-deep-learning/\n",
        "* https://machinelearningmastery.com/loss-and-loss-functions-for-training-deep-learning-neural-networks/"
      ]
    },
    {
      "cell_type": "markdown",
      "id": "c9ecd663",
      "metadata": {
        "id": "c9ecd663"
      },
      "source": [
        "## Задачи для совместного разбора"
      ]
    },
    {
      "cell_type": "markdown",
      "id": "a87d01a9",
      "metadata": {
        "id": "a87d01a9"
      },
      "source": [
        "1\\. Используя операции над матрицами и векторами из библиотеки `torch`, реализуйте нейрон с заданными весами `weights` и `bias`. Пропустите вектор `inputs` через нейрон и выведите результат."
      ]
    },
    {
      "cell_type": "code",
      "execution_count": 1,
      "id": "bc1b50d5",
      "metadata": {
        "id": "bc1b50d5"
      },
      "outputs": [],
      "source": [
        "class Neuron:\n",
        "  def __init__(self, weights, bias):\n",
        "    # <создать атрибуты объекта weights и bias>\n",
        "    pass\n",
        "\n",
        "  def forward(self, inputs):\n",
        "    return # <реализовать логику нейрона>\n"
      ]
    },
    {
      "cell_type": "code",
      "execution_count": null,
      "id": "60f299f7",
      "metadata": {
        "id": "60f299f7"
      },
      "outputs": [],
      "source": [
        "inputs = torch.tensor([1.0, 2.0, 3.0, 4.0])\n",
        "weights = torch.tensor([-0.2, 0.3, -0.5, 0.7])\n",
        "bias = 3.14"
      ]
    },
    {
      "cell_type": "markdown",
      "id": "32e5fe51",
      "metadata": {
        "id": "32e5fe51"
      },
      "source": [
        "2\\. Используя операции над матрицами и векторами из библиотеки `torch`, реализуйте функцию активации ReLU:\n",
        "\n",
        "![](https://wikimedia.org/api/rest_v1/media/math/render/svg/f4353f4e3e484130504049599d2e7b040793e1eb)\n",
        "\n",
        "Создайте матрицу размера (4,3), заполненную числами из стандартного нормального распределения, и проверьте работоспособность функции активации."
      ]
    },
    {
      "cell_type": "code",
      "execution_count": null,
      "id": "4679f4e5",
      "metadata": {
        "id": "4679f4e5"
      },
      "outputs": [],
      "source": [
        "class ReLU:\n",
        "  def forward(self, inputs):\n",
        "    # <реализовать логику ReLU>\n",
        "    pass"
      ]
    },
    {
      "cell_type": "markdown",
      "id": "c6a16748",
      "metadata": {
        "id": "c6a16748"
      },
      "source": [
        "3\\. Используя операции над матрицами и векторами из библиотеки `torch`, реализуйте функцию потерь MSE:\n",
        "\n",
        "![](https://wikimedia.org/api/rest_v1/media/math/render/svg/e258221518869aa1c6561bb75b99476c4734108e)\n",
        "где $Y_i$ - правильный ответ для примера $i$, $\\hat{Y_i}$ - предсказание модели для примера $i$, $n$ - количество примеров в батче."
      ]
    },
    {
      "cell_type": "code",
      "execution_count": null,
      "id": "e046dfa6",
      "metadata": {
        "id": "e046dfa6"
      },
      "outputs": [],
      "source": [
        "class MSELoss:\n",
        "  def forward(self, y_pred, y_true):\n",
        "    return # <реализовать логику MSE>"
      ]
    },
    {
      "cell_type": "code",
      "execution_count": null,
      "id": "e686f8b8",
      "metadata": {
        "id": "e686f8b8"
      },
      "outputs": [],
      "source": [
        "y_pred = torch.tensor([1, 3, 5])\n",
        "y_true = torch.tensor([2, 3, 4])"
      ]
    },
    {
      "cell_type": "markdown",
      "id": "4d7b6d63",
      "metadata": {
        "id": "4d7b6d63"
      },
      "source": [
        "## Задачи для самостоятельного решения"
      ]
    },
    {
      "cell_type": "markdown",
      "id": "705e742b",
      "metadata": {
        "id": "705e742b"
      },
      "source": [
        "### Cоздание полносвязных слоев"
      ]
    },
    {
      "cell_type": "markdown",
      "id": "36fe867c",
      "metadata": {
        "id": "36fe867c"
      },
      "source": [
        "<p class=\"task\" id=\"1_1\"></p>\n",
        "\n",
        "1\\.1 Используя операции над матрицами и векторами из библиотеки `torch`, реализуйте полносвязный слой из `n_neurons` нейронов с `n_features` весами у каждого нейрона (инициализируются из стандартного нормального распределения) и опциональным вектором смещения.\n",
        "\n",
        "$$y = xW^T + b$$\n",
        "\n",
        "Пропустите вектор `inputs` через слой и выведите результат. Результатом прогона сквозь слой должна быть матрица размера `batch_size` x `n_neurons`."
      ]
    },
    {
      "cell_type": "code",
      "source": [
        "import torch as th"
      ],
      "metadata": {
        "id": "rTj0GHG0oUUc"
      },
      "id": "rTj0GHG0oUUc",
      "execution_count": 2,
      "outputs": []
    },
    {
      "cell_type": "code",
      "execution_count": 4,
      "id": "680571a2",
      "metadata": {
        "id": "680571a2"
      },
      "outputs": [],
      "source": [
        "class Linear:\n",
        "    def __init__(self, n_neurons, n_features, bias: bool = False):\n",
        "        self.n_neurons = n_neurons\n",
        "        self.n_features = n_features\n",
        "\n",
        "        self.W = th.normal(0,1,size=[self.n_neurons,self.n_features])\n",
        "        self.bias = bias * th.normal(0,1,size=[self.n_neurons])\n",
        "\n",
        "    def forward(self, inputs):\n",
        "        return inputs@self.W.T + self.bias"
      ]
    },
    {
      "cell_type": "code",
      "execution_count": 29,
      "id": "943ddd88",
      "metadata": {
        "colab": {
          "base_uri": "https://localhost:8080/"
        },
        "id": "943ddd88",
        "outputId": "51578d4a-c12e-4225-a137-80e07b45e15b"
      },
      "outputs": [
        {
          "output_type": "execute_result",
          "data": {
            "text/plain": [
              "tensor([[ -5.5419,  -2.6727,  -3.6796],\n",
              "        [  8.9479,   6.1256, -12.4714],\n",
              "        [  2.6875,   3.6606,   1.8357]])"
            ]
          },
          "metadata": {},
          "execution_count": 29
        }
      ],
      "source": [
        "# inputs: batch_size(3) x 4\n",
        "inputs = th.tensor([[1, 2, 3, 2.5],\n",
        "                       [2, 5, -1, 2],\n",
        "                       [-1.5, 2.7, 3.3, -0.8]])\n",
        "\n",
        "l = Linear(*inputs.shape)\n",
        "l.forward(inputs)"
      ]
    },
    {
      "cell_type": "markdown",
      "id": "fad52a4f",
      "metadata": {
        "id": "fad52a4f"
      },
      "source": [
        "<p class=\"task\" id=\"1_2\"></p>\n",
        "\n",
        "1\\.2 Используя решение предыдущей задачи, создайте 2 полносвязных слоя и пропустите тензор `inputs` последовательно через эти два слоя. Количество нейронов в первом слое выберите произвольно, количество нейронов во втором слое выберите так, чтобы результатом прогона являлась матрица `batch_size x 7`."
      ]
    },
    {
      "cell_type": "code",
      "source": [
        "l1 = Linear(9,4, True)\n",
        "f1 = l1.forward(inputs)\n",
        "\n",
        "l2 = Linear(7,9)\n",
        "f2 = l2.forward(f1)\n",
        "\n",
        "f2"
      ],
      "metadata": {
        "colab": {
          "base_uri": "https://localhost:8080/"
        },
        "id": "2wFzfhIiqaw8",
        "outputId": "a70bb3de-73be-46d9-b516-45855b12b783"
      },
      "id": "2wFzfhIiqaw8",
      "execution_count": 8,
      "outputs": [
        {
          "output_type": "execute_result",
          "data": {
            "text/plain": [
              "tensor([[-1.4606e+01, -1.6309e+01, -2.2960e+01, -1.8519e+00, -4.8067e+00,\n",
              "          9.7363e+00,  9.0718e+00],\n",
              "        [-9.8192e+00, -1.3733e-02, -2.5315e+01,  8.4303e+00, -1.1045e+01,\n",
              "          2.2833e+01,  4.3280e+00],\n",
              "        [-9.5726e+00, -1.3757e+01, -2.1762e+01,  1.0030e+01,  9.7110e-01,\n",
              "          6.0511e+00,  3.5186e+00]])"
            ]
          },
          "metadata": {},
          "execution_count": 8
        }
      ]
    },
    {
      "cell_type": "code",
      "source": [
        "f2.shape"
      ],
      "metadata": {
        "colab": {
          "base_uri": "https://localhost:8080/"
        },
        "id": "0713UGyGy83h",
        "outputId": "b14d3148-1905-45b4-bcc1-55d4bb93b68f"
      },
      "id": "0713UGyGy83h",
      "execution_count": 9,
      "outputs": [
        {
          "output_type": "execute_result",
          "data": {
            "text/plain": [
              "torch.Size([3, 7])"
            ]
          },
          "metadata": {},
          "execution_count": 9
        }
      ]
    },
    {
      "cell_type": "markdown",
      "id": "1f89bb8e",
      "metadata": {
        "id": "1f89bb8e"
      },
      "source": [
        "### Создание функций активации"
      ]
    },
    {
      "cell_type": "markdown",
      "id": "d3c912a6",
      "metadata": {
        "id": "d3c912a6"
      },
      "source": [
        "<p class=\"task\" id=\"2_1\"></p>\n",
        "\n",
        "2\\.1 Используя операции над матрицами и векторами из библиотеки `torch`, реализуйте функцию активации softmax:\n",
        "\n",
        "![](https://wikimedia.org/api/rest_v1/media/math/render/svg/6d7500d980c313da83e4117da701bf7c8f1982f5)\n",
        "\n",
        "$$\\overrightarrow{x} = (x_1, ..., x_J)$$\n",
        "\n",
        "Создайте матрицу размера (4,3), заполненную числами из стандартного нормального распределения, и проверьте работоспособность функции активации. Строки матрицы трактовать как выходы линейного слоя некоторого классификатора для 4 различных примеров. Функция должна применяться переданной на вход матрице построчно."
      ]
    },
    {
      "cell_type": "code",
      "execution_count": 10,
      "id": "41ec4062",
      "metadata": {
        "id": "41ec4062"
      },
      "outputs": [],
      "source": [
        "class Softmax:\n",
        "    def forward(self, inputs):\n",
        "        return (th.exp(inputs).T / th.exp(inputs).sum(dim=1)).T"
      ]
    },
    {
      "cell_type": "code",
      "source": [
        "sm = Softmax()\n",
        "sm.forward(inputs)"
      ],
      "metadata": {
        "colab": {
          "base_uri": "https://localhost:8080/"
        },
        "id": "lKW6R4IPtC9M",
        "outputId": "5f37e5b7-e72d-4f99-ab9f-5f3b9ce4dced"
      },
      "id": "lKW6R4IPtC9M",
      "execution_count": 11,
      "outputs": [
        {
          "output_type": "execute_result",
          "data": {
            "text/plain": [
              "tensor([[0.0641, 0.1744, 0.4740, 0.2875],\n",
              "        [0.0452, 0.9074, 0.0022, 0.0452],\n",
              "        [0.0052, 0.3488, 0.6355, 0.0105]])"
            ]
          },
          "metadata": {},
          "execution_count": 11
        }
      ]
    },
    {
      "cell_type": "code",
      "source": [
        "th.exp(inputs[0]) / th.exp(inputs[0]).sum()"
      ],
      "metadata": {
        "colab": {
          "base_uri": "https://localhost:8080/"
        },
        "id": "x_7ULvz0tJA1",
        "outputId": "63b33b9d-5659-48ed-9ee9-22c316abffe7"
      },
      "id": "x_7ULvz0tJA1",
      "execution_count": 12,
      "outputs": [
        {
          "output_type": "execute_result",
          "data": {
            "text/plain": [
              "tensor([0.0641, 0.1744, 0.4740, 0.2875])"
            ]
          },
          "metadata": {},
          "execution_count": 12
        }
      ]
    },
    {
      "cell_type": "code",
      "source": [
        "th.exp(inputs[1]) / th.exp(inputs[1]).sum()"
      ],
      "metadata": {
        "colab": {
          "base_uri": "https://localhost:8080/"
        },
        "id": "5i7P6CP_tQ9U",
        "outputId": "d000923e-7464-4929-c340-56c10d8aed17"
      },
      "id": "5i7P6CP_tQ9U",
      "execution_count": 13,
      "outputs": [
        {
          "output_type": "execute_result",
          "data": {
            "text/plain": [
              "tensor([0.0452, 0.9074, 0.0022, 0.0452])"
            ]
          },
          "metadata": {},
          "execution_count": 13
        }
      ]
    },
    {
      "cell_type": "code",
      "source": [
        "sm.forward(inputs).sum(axis=1)"
      ],
      "metadata": {
        "colab": {
          "base_uri": "https://localhost:8080/"
        },
        "id": "dxcmD4EX6ZyK",
        "outputId": "458a2320-674b-4db0-ef58-05a5ee3a9ba7"
      },
      "id": "dxcmD4EX6ZyK",
      "execution_count": 26,
      "outputs": [
        {
          "output_type": "execute_result",
          "data": {
            "text/plain": [
              "tensor([1.0000, 1.0000, 1.0000])"
            ]
          },
          "metadata": {},
          "execution_count": 26
        }
      ]
    },
    {
      "cell_type": "markdown",
      "id": "1a8acbae",
      "metadata": {
        "id": "1a8acbae"
      },
      "source": [
        "<p class=\"task\" id=\"2_1\"></p>\n",
        "\n",
        "2.2 Используя операции над матрицами и векторами из библиотеки `torch`, реализуйте функцию активации ELU:\n",
        "\n",
        "![](https://wikimedia.org/api/rest_v1/media/math/render/svg/eb23becd37c3602c4838e53f532163279192e4fd)\n",
        "\n",
        "Создайте матрицу размера 4x3, заполненную числами из стандартного нормального распределения, и проверьте работоспособность функции активации."
      ]
    },
    {
      "cell_type": "code",
      "execution_count": 47,
      "id": "998b3675",
      "metadata": {
        "id": "998b3675"
      },
      "outputs": [],
      "source": [
        "class ELU:\n",
        "    def __init__(self, alpha: float):\n",
        "        self.alpha = alpha\n",
        "\n",
        "    def forward(self, inputs):\n",
        "      inputs1 = inputs.clone()\n",
        "      inputs1[inputs1<0] = self.alpha * (th.exp(inputs1[inputs1<0])-1)\n",
        "      return inputs1"
      ]
    },
    {
      "cell_type": "code",
      "source": [
        "sample = th.normal(0,1,(4,3))\n",
        "\n",
        "elu = ELU(1)\n",
        "elu.forward(sample)"
      ],
      "metadata": {
        "colab": {
          "base_uri": "https://localhost:8080/"
        },
        "id": "6-ffdfMit6gU",
        "outputId": "83804be9-8a05-4a43-e854-3c1b06991d4e"
      },
      "id": "6-ffdfMit6gU",
      "execution_count": 48,
      "outputs": [
        {
          "output_type": "execute_result",
          "data": {
            "text/plain": [
              "tensor([[ 0.3569,  0.1971,  0.8180],\n",
              "        [ 0.4549, -0.1957,  1.1083],\n",
              "        [-0.1708, -0.3570,  0.7115],\n",
              "        [ 1.3089, -0.5310, -0.7009]])"
            ]
          },
          "metadata": {},
          "execution_count": 48
        }
      ]
    },
    {
      "cell_type": "code",
      "source": [
        "sample"
      ],
      "metadata": {
        "colab": {
          "base_uri": "https://localhost:8080/"
        },
        "id": "wX95ErIO_fMo",
        "outputId": "d0bd6e1d-4cfa-4bac-97cf-8d9097a9d300"
      },
      "id": "wX95ErIO_fMo",
      "execution_count": 49,
      "outputs": [
        {
          "output_type": "execute_result",
          "data": {
            "text/plain": [
              "tensor([[ 0.3569,  0.1971,  0.8180],\n",
              "        [ 0.4549, -0.2178,  1.1083],\n",
              "        [-0.1873, -0.4416,  0.7115],\n",
              "        [ 1.3089, -0.7572, -1.2070]])"
            ]
          },
          "metadata": {},
          "execution_count": 49
        }
      ]
    },
    {
      "cell_type": "markdown",
      "id": "aa02fb0d",
      "metadata": {
        "id": "aa02fb0d"
      },
      "source": [
        "### Создание функции потерь"
      ]
    },
    {
      "cell_type": "markdown",
      "id": "bab7e56a",
      "metadata": {
        "id": "bab7e56a"
      },
      "source": [
        "<p class=\"task\" id=\"3_1\"></p>\n",
        "\n",
        "3\\.1 Используя операции над матрицами и векторами из библиотеки `torch`, реализуйте функцию потерь CrossEntropyLoss:\n",
        "\n",
        "$$y_i = (y_{i,1},...,y_{i,k})$$\n",
        "<img src=\"https://i.ibb.co/93gy1dN/Screenshot-9.png\" width=\"200\">\n",
        "\n",
        "$$ CrossEntropyLoss = \\frac{1}{n}\\sum_{i=1}^{n}{L_i}$$\n",
        "где $y_i$ - вектор правильных ответов для примера $i$, $\\hat{y_i}$ - вектор предсказаний модели для примера $i$; $k$ - количество классов, $n$ - количество примеров в батче.\n",
        "\n",
        "Создайте полносвязный слой с 3 нейронами и прогнать через него батч `inputs`. Полученный результат пропустите через функцию активации Softmax. Посчитайте значение функции потерь, трактуя вектор `y` как вектор правильных ответов."
      ]
    },
    {
      "cell_type": "code",
      "execution_count": 141,
      "id": "f683f102",
      "metadata": {
        "id": "f683f102"
      },
      "outputs": [],
      "source": [
        "class CrossEntropyLoss:\n",
        "  def forward(self, y_pred, y_true):\n",
        "    res = - (y_true * th.log(y_pred)).mean()\n",
        "    return res"
      ]
    },
    {
      "cell_type": "code",
      "execution_count": 142,
      "id": "82a4dba3",
      "metadata": {
        "id": "82a4dba3"
      },
      "outputs": [],
      "source": [
        "inputs = th.tensor([[1, 2, 3, 2.5],\n",
        "                        [2, 5, -1, 2],\n",
        "                        [-1.5, 2.7, 3.3, -0.8]])\n",
        "y = th.tensor([1, 0, 0])"
      ]
    },
    {
      "cell_type": "code",
      "source": [
        "l1 = Linear(4,4, True)\n",
        "f1 = l1.forward(inputs)\n",
        "\n",
        "l2 = Linear(4,4)\n",
        "f2 = l2.forward(f1)\n",
        "\n",
        "l3 = Linear(2,4)\n",
        "f3 = l3.forward(f2)\n",
        "\n",
        "sm = Softmax()\n",
        "y_pred = sm.forward(f3)\n",
        "y_pred"
      ],
      "metadata": {
        "colab": {
          "base_uri": "https://localhost:8080/"
        },
        "id": "mGsS3JXT6BDO",
        "outputId": "5b406016-3e4b-4709-976b-4a40d31c8c5a"
      },
      "id": "mGsS3JXT6BDO",
      "execution_count": 164,
      "outputs": [
        {
          "output_type": "execute_result",
          "data": {
            "text/plain": [
              "tensor([[0.0064, 0.9936],\n",
              "        [0.7659, 0.2341],\n",
              "        [0.1732, 0.8268]])"
            ]
          },
          "metadata": {},
          "execution_count": 164
        }
      ]
    },
    {
      "cell_type": "code",
      "source": [
        "CE = CrossEntropyLoss()\n",
        "CE.forward(y_pred[:,1], y)"
      ],
      "metadata": {
        "colab": {
          "base_uri": "https://localhost:8080/"
        },
        "id": "cPG5TxJx56Ow",
        "outputId": "de22badf-364e-4132-a54b-eacb1106f5ee"
      },
      "id": "cPG5TxJx56Ow",
      "execution_count": 165,
      "outputs": [
        {
          "output_type": "execute_result",
          "data": {
            "text/plain": [
              "tensor(0.0022)"
            ]
          },
          "metadata": {},
          "execution_count": 165
        }
      ]
    },
    {
      "cell_type": "markdown",
      "id": "7c9c82a1",
      "metadata": {
        "id": "7c9c82a1"
      },
      "source": [
        "<p class=\"task\" id=\"3_2\"></p>\n",
        "\n",
        "3.2 Модифицируйте MSE, добавив L2-регуляризацию.\n",
        "\n",
        "$$MSE_R = MSE + \\lambda\\sum_{i=1}^{m}w_i^2$$\n",
        "\n",
        "где $\\lambda$ - коэффициент регуляризации; $w_i$ - веса модели."
      ]
    },
    {
      "cell_type": "code",
      "execution_count": 169,
      "id": "b1f858a9",
      "metadata": {
        "id": "b1f858a9"
      },
      "outputs": [],
      "source": [
        "class MSERegularized:\n",
        "    def __init__(self, lambda_):\n",
        "        self.lambda_ = lambda_\n",
        "\n",
        "    def data_loss(self, y_pred, y_true):\n",
        "        return ((y_pred-y_true)**2).mean()\n",
        "\n",
        "    def reg_loss(self, weights):\n",
        "        return self.lambda_ * (weights**2).sum()\n",
        "\n",
        "    def forward(self, y_pred, y_true, weights):\n",
        "        return self.data_loss(y_pred, y_true) + self.reg_loss(weights)"
      ]
    },
    {
      "cell_type": "code",
      "execution_count": 170,
      "id": "4c997c44",
      "metadata": {
        "id": "4c997c44"
      },
      "outputs": [],
      "source": [
        "y_pred = th.tensor([-0.5, 1, 1.7])\n",
        "y_true = th.tensor([0, 0.6, 2.3])\n",
        "weights = th.normal(0, 5, (10, 1))"
      ]
    },
    {
      "cell_type": "code",
      "source": [
        "reg = MSERegularized(0.5)\n",
        "reg.forward(y_pred, y_true, weights)"
      ],
      "metadata": {
        "colab": {
          "base_uri": "https://localhost:8080/"
        },
        "id": "hSg428dgHb8Y",
        "outputId": "af626a8b-5266-49fd-a7c8-ca96dd6d6990"
      },
      "id": "hSg428dgHb8Y",
      "execution_count": 171,
      "outputs": [
        {
          "output_type": "execute_result",
          "data": {
            "text/plain": [
              "tensor(53.4906)"
            ]
          },
          "metadata": {},
          "execution_count": 171
        }
      ]
    },
    {
      "cell_type": "markdown",
      "id": "66caa919",
      "metadata": {
        "id": "66caa919"
      },
      "source": [
        "## Обратная связь\n",
        "- [ ] Хочу получить обратную связь по решению"
      ]
    }
  ],
  "metadata": {
    "kernelspec": {
      "display_name": "Python [conda env:dl23]",
      "language": "python",
      "name": "conda-env-dl23-py"
    },
    "language_info": {
      "codemirror_mode": {
        "name": "ipython",
        "version": 3
      },
      "file_extension": ".py",
      "mimetype": "text/x-python",
      "name": "python",
      "nbconvert_exporter": "python",
      "pygments_lexer": "ipython3",
      "version": "3.10.0"
    },
    "colab": {
      "provenance": []
    }
  },
  "nbformat": 4,
  "nbformat_minor": 5
}
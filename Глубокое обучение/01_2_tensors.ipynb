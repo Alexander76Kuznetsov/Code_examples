{
  "cells": [
    {
      "cell_type": "markdown",
      "metadata": {
        "id": "ab47ec31"
      },
      "source": [
        "# Знакомство с `torch.Tensor`\n",
        "\n",
        "__Автор задач: Блохин Н.В. (NVBlokhin@fa.ru)__\n",
        "\n",
        "Материалы:\n",
        "* Deep Learning with PyTorch (2020) Авторы: Eli Stevens, Luca Antiga, Thomas Viehmann\n",
        "* https://pytorch.org/docs/stable/torch.html\n"
      ],
      "id": "ab47ec31"
    },
    {
      "cell_type": "code",
      "execution_count": 1,
      "metadata": {
        "id": "Qs776Jd2Xprr"
      },
      "outputs": [],
      "source": [
        "import torch as th"
      ],
      "id": "Qs776Jd2Xprr"
    },
    {
      "cell_type": "code",
      "execution_count": null,
      "metadata": {
        "colab": {
          "base_uri": "https://localhost:8080/",
          "height": 36
        },
        "id": "L-I1p5puXsPv",
        "outputId": "0641b5cc-da33-4168-d3e9-8fa3b28a1ea6"
      },
      "outputs": [
        {
          "data": {
            "application/vnd.google.colaboratory.intrinsic+json": {
              "type": "string"
            },
            "text/plain": [
              "'2.0.1+cu118'"
            ]
          },
          "execution_count": 2,
          "metadata": {},
          "output_type": "execute_result"
        }
      ],
      "source": [
        "th.__version__"
      ],
      "id": "L-I1p5puXsPv"
    },
    {
      "cell_type": "code",
      "execution_count": null,
      "metadata": {
        "colab": {
          "base_uri": "https://localhost:8080/"
        },
        "id": "k8PyyljuX4C_",
        "outputId": "5a3b526b-5084-483e-a634-c759fe3ed3ab"
      },
      "outputs": [
        {
          "name": "stdout",
          "output_type": "stream",
          "text": [
            "Python 3.10.12\n"
          ]
        }
      ],
      "source": [
        "!python --version"
      ],
      "id": "k8PyyljuX4C_"
    },
    {
      "cell_type": "markdown",
      "metadata": {
        "id": "b2e5acce"
      },
      "source": [
        "## Задачи для совместного разбора"
      ],
      "id": "b2e5acce"
    },
    {
      "cell_type": "markdown",
      "metadata": {
        "id": "cb56f308"
      },
      "source": [
        "1\\. Создайте тензор и исследуйте его основные характеристики"
      ],
      "id": "cb56f308"
    },
    {
      "cell_type": "code",
      "execution_count": null,
      "metadata": {
        "colab": {
          "base_uri": "https://localhost:8080/"
        },
        "id": "scdQ6Vu2YNc4",
        "outputId": "4e9192f9-d352-42e6-e1b0-8459fef0031c"
      },
      "outputs": [
        {
          "data": {
            "text/plain": [
              "tensor([ 3.,  6.,  4.,  1., 10.,  1., 10.,  6.,  9.,  9.])"
            ]
          },
          "execution_count": 13,
          "metadata": {},
          "output_type": "execute_result"
        }
      ],
      "source": [
        "t = th.randint(0,11,size=(10,), dtype=th.float32)\n",
        "t"
      ],
      "id": "scdQ6Vu2YNc4"
    },
    {
      "cell_type": "code",
      "execution_count": null,
      "metadata": {
        "colab": {
          "base_uri": "https://localhost:8080/"
        },
        "id": "yvRskF-IYng1",
        "outputId": "d96eee21-b7d1-45bb-e2d0-e76faaae7679"
      },
      "outputs": [
        {
          "data": {
            "text/plain": [
              "torch.int64"
            ]
          },
          "execution_count": 12,
          "metadata": {},
          "output_type": "execute_result"
        }
      ],
      "source": [
        "t.dtype"
      ],
      "id": "yvRskF-IYng1"
    },
    {
      "cell_type": "code",
      "execution_count": null,
      "metadata": {
        "colab": {
          "base_uri": "https://localhost:8080/"
        },
        "id": "t5KZTcfhYneb",
        "outputId": "6afd4aaa-a906-40a4-ab07-61343be8808a"
      },
      "outputs": [
        {
          "data": {
            "text/plain": [
              "(torch.Size([10]), torch.Size([10]))"
            ]
          },
          "execution_count": 15,
          "metadata": {},
          "output_type": "execute_result"
        }
      ],
      "source": [
        "t.size(), t.shape"
      ],
      "id": "t5KZTcfhYneb"
    },
    {
      "cell_type": "markdown",
      "metadata": {
        "id": "c1d14d26"
      },
      "source": [
        "2\\. Создайте трехмерный тензор и рассмотрите основные способы индексирования по нему"
      ],
      "id": "c1d14d26"
    },
    {
      "cell_type": "code",
      "execution_count": null,
      "metadata": {
        "colab": {
          "base_uri": "https://localhost:8080/"
        },
        "id": "xS41hcLbZfNA",
        "outputId": "95fccad1-3fcd-429a-ed7d-3f6c674cf1e3"
      },
      "outputs": [
        {
          "data": {
            "text/plain": [
              "(tensor(3.), 3.0)"
            ]
          },
          "execution_count": 22,
          "metadata": {},
          "output_type": "execute_result"
        }
      ],
      "source": [
        "t = th.randint(0,11,size=(10,5,5), dtype=th.float32)\n",
        "t[0,0,0], t[0,0,0].item()"
      ],
      "id": "xS41hcLbZfNA"
    },
    {
      "cell_type": "markdown",
      "metadata": {
        "id": "c4dfe946"
      },
      "source": [
        "3\\. Создайте тензор (4х4) и модифицируйте следующим образом: ко всем четным столбцам прибавьте 1, из нечетных вычтите 1."
      ],
      "id": "c4dfe946"
    },
    {
      "cell_type": "code",
      "execution_count": null,
      "metadata": {
        "colab": {
          "base_uri": "https://localhost:8080/"
        },
        "id": "J9F1PGxsbfg5",
        "outputId": "68c41518-3955-42dc-af6c-01e75e213357"
      },
      "outputs": [
        {
          "data": {
            "text/plain": [
              "tensor([[ 0.,  0.,  1., 10.,  5.],\n",
              "        [ 8., 10.,  8.,  6.,  6.],\n",
              "        [ 5.,  8., 10.,  7.,  7.],\n",
              "        [ 3.,  4.,  2.,  8.,  8.],\n",
              "        [ 5.,  0.,  3.,  2.,  9.]])"
            ]
          },
          "execution_count": 37,
          "metadata": {},
          "output_type": "execute_result"
        }
      ],
      "source": [
        "t = th.randint(0,11,size=(5,5), dtype=th.float32)\n",
        "t"
      ],
      "id": "J9F1PGxsbfg5"
    },
    {
      "cell_type": "code",
      "execution_count": null,
      "metadata": {
        "colab": {
          "base_uri": "https://localhost:8080/"
        },
        "id": "52PZjg1kbp73",
        "outputId": "4f3f272f-ce4f-450d-f6ac-9031417fac55"
      },
      "outputs": [
        {
          "data": {
            "text/plain": [
              "tensor([[100., 100., 101., 110., 105.],\n",
              "        [108., 110., 108., 106., 106.],\n",
              "        [105., 108., 110., 107., 107.],\n",
              "        [103., 104., 102., 108., 108.],\n",
              "        [105., 100., 103., 102., 109.]])"
            ]
          },
          "execution_count": 38,
          "metadata": {},
          "output_type": "execute_result"
        }
      ],
      "source": [
        "t + 100"
      ],
      "id": "52PZjg1kbp73"
    },
    {
      "cell_type": "code",
      "execution_count": null,
      "metadata": {
        "colab": {
          "base_uri": "https://localhost:8080/"
        },
        "id": "RC5UXgjmbtzu",
        "outputId": "84f11e0c-81f0-46ed-aa51-365652fe1f0d"
      },
      "outputs": [
        {
          "data": {
            "text/plain": [
              "tensor([1., 1., 1., 1., 1.])"
            ]
          },
          "execution_count": 39,
          "metadata": {},
          "output_type": "execute_result"
        }
      ],
      "source": [
        "t2 = th.ones(5)\n",
        "t2"
      ],
      "id": "RC5UXgjmbtzu"
    },
    {
      "cell_type": "code",
      "execution_count": null,
      "metadata": {
        "colab": {
          "base_uri": "https://localhost:8080/"
        },
        "id": "OGL3-lAnbzR1",
        "outputId": "8c6a175c-cd4b-46f0-cfd5-75322bbc663a"
      },
      "outputs": [
        {
          "data": {
            "text/plain": [
              "tensor([[ 1.,  1.,  2., 11.,  6.],\n",
              "        [ 9., 11.,  9.,  7.,  7.],\n",
              "        [ 6.,  9., 11.,  8.,  8.],\n",
              "        [ 4.,  5.,  3.,  9.,  9.],\n",
              "        [ 6.,  1.,  4.,  3., 10.]])"
            ]
          },
          "execution_count": 40,
          "metadata": {},
          "output_type": "execute_result"
        }
      ],
      "source": [
        "t+t2"
      ],
      "id": "OGL3-lAnbzR1"
    },
    {
      "cell_type": "markdown",
      "metadata": {
        "id": "f73eb486"
      },
      "source": [
        "4\\. Исследуйте совместимость `torch` с `numpy` и `sklearn`"
      ],
      "id": "f73eb486"
    },
    {
      "cell_type": "code",
      "execution_count": null,
      "metadata": {
        "id": "I7CnyvQAcHeK"
      },
      "outputs": [],
      "source": [
        "import numpy as np"
      ],
      "id": "I7CnyvQAcHeK"
    },
    {
      "cell_type": "code",
      "execution_count": null,
      "metadata": {
        "colab": {
          "base_uri": "https://localhost:8080/"
        },
        "id": "14Ke7WMTcaf4",
        "outputId": "d345297e-4ea8-483c-df3a-199dba68d01f"
      },
      "outputs": [
        {
          "data": {
            "text/plain": [
              "tensor([[ 0.0000,  0.0000,  0.8415, -0.5440, -0.9589],\n",
              "        [ 0.9894, -0.5440,  0.9894, -0.2794, -0.2794],\n",
              "        [-0.9589,  0.9894, -0.5440,  0.6570,  0.6570],\n",
              "        [ 0.1411, -0.7568,  0.9093,  0.9894,  0.9894],\n",
              "        [-0.9589,  0.0000,  0.1411,  0.9093,  0.4121]])"
            ]
          },
          "execution_count": 42,
          "metadata": {},
          "output_type": "execute_result"
        }
      ],
      "source": [
        "np.sin(t)"
      ],
      "id": "14Ke7WMTcaf4"
    },
    {
      "cell_type": "code",
      "execution_count": null,
      "metadata": {
        "id": "DiSOA_-ecabI"
      },
      "outputs": [],
      "source": [
        "from sklearn.preprocessing import MinMaxScaler"
      ],
      "id": "DiSOA_-ecabI"
    },
    {
      "cell_type": "code",
      "execution_count": null,
      "metadata": {
        "colab": {
          "base_uri": "https://localhost:8080/"
        },
        "id": "hvD8gYbCcttG",
        "outputId": "9c8fc6e6-1730-45c2-d8c5-adc7172be089"
      },
      "outputs": [
        {
          "data": {
            "text/plain": [
              "array([[0.        , 0.        , 0.        , 1.        , 0.        ],\n",
              "       [1.        , 1.        , 0.77777778, 0.5       , 0.25      ],\n",
              "       [0.625     , 0.8       , 1.        , 0.625     , 0.5       ],\n",
              "       [0.375     , 0.4       , 0.11111111, 0.75      , 0.75      ],\n",
              "       [0.625     , 0.        , 0.22222222, 0.        , 1.        ]])"
            ]
          },
          "execution_count": 44,
          "metadata": {},
          "output_type": "execute_result"
        }
      ],
      "source": [
        "MinMaxScaler().fit_transform(t)"
      ],
      "id": "hvD8gYbCcttG"
    },
    {
      "cell_type": "markdown",
      "metadata": {
        "id": "8e3aaaeb"
      },
      "source": [
        "## Задачи для самостоятельного решения"
      ],
      "id": "8e3aaaeb"
    },
    {
      "cell_type": "markdown",
      "metadata": {
        "id": "fdb47cbe"
      },
      "source": [
        "<p class=\"task\" id=\"1\"></p>\n",
        "\n",
        "1\\. Создайте двумерный тензор размера (100000, 10), заполненный нулями. Используя прихотливое индексирование, поставьте в каждой строке тензора ровно одну единицу в случайно выбранном столбце. Рассчитайте и выведите на экран вероятности $p_i$ того, что для случайно выбранной строки в столбце $i$ будет стоять единица."
      ],
      "id": "fdb47cbe"
    },
    {
      "cell_type": "code",
      "execution_count": null,
      "metadata": {
        "colab": {
          "base_uri": "https://localhost:8080/"
        },
        "id": "YPDJImmIZOLk",
        "outputId": "20721d3b-eb77-45e8-aee1-8ec808bd9cca"
      },
      "outputs": [
        {
          "data": {
            "text/plain": [
              "tensor([[0., 0., 1., 0., 0., 0., 0., 0., 0., 0.],\n",
              "        [0., 1., 0., 0., 0., 0., 0., 0., 0., 0.],\n",
              "        [0., 0., 0., 0., 0., 1., 0., 0., 0., 0.],\n",
              "        [0., 0., 0., 1., 0., 0., 0., 0., 0., 0.],\n",
              "        [0., 0., 0., 0., 1., 0., 0., 0., 0., 0.]])"
            ]
          },
          "execution_count": 4,
          "metadata": {},
          "output_type": "execute_result"
        }
      ],
      "source": [
        "nrow = 100000\n",
        "ncol = 10\n",
        "z = th.zeros(nrow,ncol)\n",
        "z[th.arange(nrow), th.randint(0,10,size=(nrow,))] = 1\n",
        "z[:5]"
      ],
      "id": "YPDJImmIZOLk"
    },
    {
      "cell_type": "code",
      "execution_count": null,
      "metadata": {
        "colab": {
          "base_uri": "https://localhost:8080/"
        },
        "id": "2_5Nw_QmfpKG",
        "outputId": "9aa10b4d-df37-482d-bd2d-267151865e73"
      },
      "outputs": [
        {
          "data": {
            "text/plain": [
              "torch.Size([100000, 10])"
            ]
          },
          "execution_count": 5,
          "metadata": {},
          "output_type": "execute_result"
        }
      ],
      "source": [
        "z.shape"
      ],
      "id": "2_5Nw_QmfpKG"
    },
    {
      "cell_type": "code",
      "execution_count": null,
      "metadata": {
        "colab": {
          "base_uri": "https://localhost:8080/"
        },
        "id": "VJ_pgcNxaekp",
        "outputId": "e984a05a-d3e2-437f-a225-506ac9efe165"
      },
      "outputs": [
        {
          "data": {
            "text/plain": [
              "tensor([0.0999, 0.1002, 0.1006, 0.1014, 0.0997, 0.0979, 0.1010, 0.1009, 0.0988,\n",
              "        0.0998])"
            ]
          },
          "execution_count": 6,
          "metadata": {},
          "output_type": "execute_result"
        }
      ],
      "source": [
        "z.mean(dim=0) # sum/num_rows"
      ],
      "id": "VJ_pgcNxaekp"
    },
    {
      "cell_type": "code",
      "execution_count": null,
      "metadata": {
        "colab": {
          "base_uri": "https://localhost:8080/"
        },
        "id": "xUd9wJfdaiDp",
        "outputId": "1d039c7a-f627-41de-9423-0be5da9252c3"
      },
      "outputs": [
        {
          "data": {
            "text/plain": [
              "tensor(1.0000)"
            ]
          },
          "execution_count": 7,
          "metadata": {},
          "output_type": "execute_result"
        }
      ],
      "source": [
        "z.mean(dim=0).sum()"
      ],
      "id": "xUd9wJfdaiDp"
    },
    {
      "cell_type": "code",
      "execution_count": null,
      "metadata": {
        "colab": {
          "base_uri": "https://localhost:8080/"
        },
        "id": "EcaoPJCbhE5G",
        "outputId": "1198f546-ac9d-4d71-c804-2e82b2a5990c"
      },
      "outputs": [
        {
          "data": {
            "text/plain": [
              "tensor(True)"
            ]
          },
          "execution_count": 8,
          "metadata": {},
          "output_type": "execute_result"
        }
      ],
      "source": [
        "(z.sum(dim=1) == 1).all()"
      ],
      "id": "EcaoPJCbhE5G"
    },
    {
      "cell_type": "markdown",
      "metadata": {
        "id": "2212b996"
      },
      "source": [
        "<p class=\"task\" id=\"2\"></p>\n",
        "\n",
        "2\\. При помощи прихотливого индексирования для двумерного тензора размерности (10, 10), состоящего из случайных целых чисел в пределах от 0 до 10, получите тензор элементов, находящихся сразу над побочной диагональю."
      ],
      "id": "2212b996"
    },
    {
      "cell_type": "code",
      "execution_count": null,
      "metadata": {
        "colab": {
          "base_uri": "https://localhost:8080/"
        },
        "id": "fPeqGnCuc8LP",
        "outputId": "55b1a16f-6d53-480b-c726-21021a019685"
      },
      "outputs": [
        {
          "data": {
            "text/plain": [
              "tensor([[ True,  True,  True,  True,  True,  True,  True,  True,  True, False],\n",
              "        [ True,  True,  True,  True,  True,  True,  True,  True, False, False],\n",
              "        [ True,  True,  True,  True,  True,  True,  True, False, False, False],\n",
              "        [ True,  True,  True,  True,  True,  True, False, False, False, False],\n",
              "        [ True,  True,  True,  True,  True, False, False, False, False, False],\n",
              "        [ True,  True,  True,  True, False, False, False, False, False, False],\n",
              "        [ True,  True,  True, False, False, False, False, False, False, False],\n",
              "        [ True,  True, False, False, False, False, False, False, False, False],\n",
              "        [ True, False, False, False, False, False, False, False, False, False],\n",
              "        [False, False, False, False, False, False, False, False, False, False]])"
            ]
          },
          "execution_count": 10,
          "metadata": {},
          "output_type": "execute_result"
        }
      ],
      "source": [
        "x, y = th.meshgrid(th.arange(9,-1,-1), th.arange(10), indexing='ij')\n",
        "x > y"
      ],
      "id": "fPeqGnCuc8LP"
    },
    {
      "cell_type": "code",
      "execution_count": null,
      "metadata": {
        "colab": {
          "base_uri": "https://localhost:8080/"
        },
        "id": "t5jyrnlthxPL",
        "outputId": "b73b218c-a6b3-411f-c7c2-54c2a0e4f178"
      },
      "outputs": [
        {
          "data": {
            "text/plain": [
              "tensor([0, 0, 0, 0, 0, 0, 0, 0, 0, 1, 1, 1, 1, 1, 1, 1, 1, 2, 2, 2, 2, 2, 2, 2,\n",
              "        3, 3, 3, 3, 3, 3, 4, 4, 4, 4, 4, 5, 5, 5, 5, 6, 6, 6, 7, 7, 8])"
            ]
          },
          "execution_count": 11,
          "metadata": {},
          "output_type": "execute_result"
        }
      ],
      "source": [
        "9-x[x>y]"
      ],
      "id": "t5jyrnlthxPL"
    },
    {
      "cell_type": "code",
      "execution_count": null,
      "metadata": {
        "colab": {
          "base_uri": "https://localhost:8080/"
        },
        "id": "gjFhaXPUhxDd",
        "outputId": "fdf7691e-d2c2-4784-85ef-fb2963e50522"
      },
      "outputs": [
        {
          "data": {
            "text/plain": [
              "tensor([0, 1, 2, 3, 4, 5, 6, 7, 8, 0, 1, 2, 3, 4, 5, 6, 7, 0, 1, 2, 3, 4, 5, 6,\n",
              "        0, 1, 2, 3, 4, 5, 0, 1, 2, 3, 4, 0, 1, 2, 3, 0, 1, 2, 0, 1, 0])"
            ]
          },
          "execution_count": 12,
          "metadata": {},
          "output_type": "execute_result"
        }
      ],
      "source": [
        "y[x>y]"
      ],
      "id": "gjFhaXPUhxDd"
    },
    {
      "cell_type": "code",
      "execution_count": null,
      "metadata": {
        "colab": {
          "base_uri": "https://localhost:8080/"
        },
        "id": "XoceZrT9jHM8",
        "outputId": "14a1979a-d55f-4bfa-d7a1-e7586690643f"
      },
      "outputs": [
        {
          "data": {
            "text/plain": [
              "tensor([[ 2,  1,  0,  8, 10,  8,  3,  9, 10,  6],\n",
              "        [10,  3,  4,  1,  3,  6,  3,  3,  3,  9],\n",
              "        [ 8,  6,  2,  0,  6,  6,  8,  6,  4,  9],\n",
              "        [ 2,  4,  3, 10,  0, 10,  9,  9,  2,  4],\n",
              "        [ 2,  4,  1,  1,  1,  5,  8,  6,  3,  2],\n",
              "        [ 5,  1, 10,  5,  8,  5,  7,  9,  2,  4],\n",
              "        [ 2,  7, 10,  4,  4,  5,  7, 10,  7,  5],\n",
              "        [ 5,  0,  8,  3, 10,  0,  7,  0,  3,  4],\n",
              "        [ 0,  1,  6,  5,  6,  2,  9, 10,  5,  0],\n",
              "        [ 7, 10, 10,  6,  8,  3,  9,  9,  4,  0]])"
            ]
          },
          "execution_count": 13,
          "metadata": {},
          "output_type": "execute_result"
        }
      ],
      "source": [
        "t2 = th.randint(0,11,size=(10,10))\n",
        "t2"
      ],
      "id": "XoceZrT9jHM8"
    },
    {
      "cell_type": "code",
      "execution_count": null,
      "metadata": {
        "colab": {
          "base_uri": "https://localhost:8080/"
        },
        "id": "Gl_LM9coeSrO",
        "outputId": "f23de72c-737d-4f06-8c68-6f72a9ba15fa"
      },
      "outputs": [
        {
          "data": {
            "text/plain": [
              "tensor([ 2,  1,  0,  8, 10,  8,  3,  9, 10, 10,  3,  4,  1,  3,  6,  3,  3,  8,\n",
              "         6,  2,  0,  6,  6,  8,  2,  4,  3, 10,  0, 10,  2,  4,  1,  1,  1,  5,\n",
              "         1, 10,  5,  2,  7, 10,  5,  0,  0])"
            ]
          },
          "execution_count": 14,
          "metadata": {},
          "output_type": "execute_result"
        }
      ],
      "source": [
        "t2[9-x[x>y],y[x>y]]"
      ],
      "id": "Gl_LM9coeSrO"
    },
    {
      "cell_type": "markdown",
      "metadata": {
        "id": "4c81e1c1"
      },
      "source": [
        "<p class=\"task\" id=\"3\"></p>\n",
        "\n",
        "3\\. Создайте двумерный тензор $t$ размерности (5, 5), состоящий из случайных чисел в пределах от 0 до 100. Обнулить все значения в массиве, расположенные вне квадрата размера 3х3 вокруг максимального элемента. Если максимумов несколько, обнулите элементы около любого из них."
      ],
      "id": "4c81e1c1"
    },
    {
      "cell_type": "code",
      "execution_count": null,
      "metadata": {
        "colab": {
          "base_uri": "https://localhost:8080/"
        },
        "id": "SUBdjhDKeZO-",
        "outputId": "bcaccac2-77c5-4fbb-b825-ff329975bd67"
      },
      "outputs": [
        {
          "data": {
            "text/plain": [
              "(tensor([[18, 48, 65, 37, 59],\n",
              "         [83, 84, 21, 27, 49],\n",
              "         [92, 38,  8, 52, 39],\n",
              "         [65, 44, 21, 38, 11],\n",
              "         [44, 34,  0, 56, 21]]),\n",
              " tensor(10))"
            ]
          },
          "execution_count": 16,
          "metadata": {},
          "output_type": "execute_result"
        }
      ],
      "source": [
        "row, col = 5, 5\n",
        "t3 = th.randint(0,101,size=(row, col))\n",
        "id_max = t3.argmax()\n",
        "t3, id_max"
      ],
      "id": "SUBdjhDKeZO-"
    },
    {
      "cell_type": "code",
      "execution_count": null,
      "metadata": {
        "colab": {
          "base_uri": "https://localhost:8080/"
        },
        "id": "lJAvFzYXmkmx",
        "outputId": "5d0db027-7365-444b-8479-775e7bf7f2d1"
      },
      "outputs": [
        {
          "data": {
            "text/plain": [
              "(tensor(2), tensor(0))"
            ]
          },
          "execution_count": 17,
          "metadata": {},
          "output_type": "execute_result"
        }
      ],
      "source": [
        "x3, y3 = id_max//row, id_max%col\n",
        "x3, y3"
      ],
      "id": "lJAvFzYXmkmx"
    },
    {
      "cell_type": "code",
      "execution_count": null,
      "metadata": {
        "colab": {
          "base_uri": "https://localhost:8080/"
        },
        "id": "AhXv4CU2nXqM",
        "outputId": "24437ba8-2fb5-4a7b-9f61-101a646c1615"
      },
      "outputs": [
        {
          "data": {
            "text/plain": [
              "tensor([[ 0,  1,  2,  3,  4],\n",
              "        [ 5,  6,  7,  8,  9],\n",
              "        [10, 11, 12, 13, 14],\n",
              "        [15, 16, 17, 18, 19],\n",
              "        [20, 21, 22, 23, 24]])"
            ]
          },
          "execution_count": 18,
          "metadata": {},
          "output_type": "execute_result"
        }
      ],
      "source": [
        "idx = th.arange(row*col).reshape(row,col)\n",
        "idx"
      ],
      "id": "AhXv4CU2nXqM"
    },
    {
      "cell_type": "code",
      "execution_count": null,
      "metadata": {
        "colab": {
          "base_uri": "https://localhost:8080/"
        },
        "id": "2cRSSGhrkj2x",
        "outputId": "fd949072-3c91-4644-c846-1c7988854ef5"
      },
      "outputs": [
        {
          "data": {
            "text/plain": [
              "tensor([[ 5,  6],\n",
              "        [10, 11],\n",
              "        [15, 16]])"
            ]
          },
          "execution_count": 19,
          "metadata": {},
          "output_type": "execute_result"
        }
      ],
      "source": [
        "nidx = idx[max(x3,1)-1:x3+2,max(y3,1)-1:y3+2]\n",
        "nidx"
      ],
      "id": "2cRSSGhrkj2x"
    },
    {
      "cell_type": "code",
      "execution_count": null,
      "metadata": {
        "colab": {
          "base_uri": "https://localhost:8080/"
        },
        "id": "zVw9W-VPoXwu",
        "outputId": "17298f2a-09da-4a61-ad5b-9a1d89465328"
      },
      "outputs": [
        {
          "data": {
            "text/plain": [
              "tensor([1., 1., 1., 1., 1., 0., 0., 1., 1., 1., 0., 0., 1., 1., 1., 0., 0., 1.,\n",
              "        1., 1., 1., 1., 1., 1., 1.])"
            ]
          },
          "execution_count": 20,
          "metadata": {},
          "output_type": "execute_result"
        }
      ],
      "source": [
        "z3 = th.ones(row*col)\n",
        "z3[nidx.flatten()] = 0\n",
        "z3"
      ],
      "id": "zVw9W-VPoXwu"
    },
    {
      "cell_type": "code",
      "execution_count": null,
      "metadata": {
        "colab": {
          "base_uri": "https://localhost:8080/"
        },
        "id": "7GXXUh5ulCG5",
        "outputId": "f7b89924-c813-4481-835e-f42b7857d926"
      },
      "outputs": [
        {
          "data": {
            "text/plain": [
              "tensor([[ 0,  0,  0,  0,  0],\n",
              "        [83, 84,  0,  0,  0],\n",
              "        [92, 38,  0,  0,  0],\n",
              "        [65, 44,  0,  0,  0],\n",
              "        [ 0,  0,  0,  0,  0]])"
            ]
          },
          "execution_count": 21,
          "metadata": {},
          "output_type": "execute_result"
        }
      ],
      "source": [
        "t3.flatten()[z3==1] = 0\n",
        "t3"
      ],
      "id": "7GXXUh5ulCG5"
    },
    {
      "cell_type": "code",
      "execution_count": null,
      "metadata": {
        "id": "q_frhkEFlKXd"
      },
      "outputs": [],
      "source": [
        "def task3(tens):\n",
        "  tens_copy = tens.clone()\n",
        "  row, col = tens.shape\n",
        "  id_max = tens_copy.argmax()\n",
        "  x3, y3 = id_max//row, id_max%col\n",
        "\n",
        "  idx = th.arange(row*col).reshape(row,col)\n",
        "  nidx = idx[max(x3,1)-1:x3+2,max(y3,1)-1:y3+2]\n",
        "\n",
        "  ones = th.ones(row*col)\n",
        "  ones[nidx.flatten()] = 0\n",
        "\n",
        "  tens_copy.flatten()[z3==1] = 0\n",
        "  return tens_copy"
      ],
      "id": "q_frhkEFlKXd"
    },
    {
      "cell_type": "markdown",
      "metadata": {
        "id": "f68b795c"
      },
      "source": [
        "<p class=\"task\" id=\"4\"></p>\n",
        "\n",
        "4\\. Создайте трехмерный массив размерности (2, 5, 5) на основе решения задачи 3 (объедините исходный и результирущий тензор вдоль нулевой оси). Сохраните полученный трехмерный тензор в файл `tensor.pt`. Загрузите полученный тензор и покажите, что все элементы двух тензоров совпадают."
      ],
      "id": "f68b795c"
    },
    {
      "cell_type": "code",
      "execution_count": null,
      "metadata": {
        "colab": {
          "base_uri": "https://localhost:8080/"
        },
        "id": "OGJtDiW85eO2",
        "outputId": "aafb3098-abb8-4895-b8eb-bf44016f2b22"
      },
      "outputs": [
        {
          "data": {
            "text/plain": [
              "tensor([[[ 3, 59, 94, 84, 12],\n",
              "         [88, 82, 94, 11, 89],\n",
              "         [47, 50, 38, 25, 97],\n",
              "         [26, 98, 80, 44, 60],\n",
              "         [72, 84, 64, 59,  5]],\n",
              "\n",
              "        [[ 0,  0,  0,  0,  0],\n",
              "         [88, 82,  0,  0,  0],\n",
              "         [47, 50,  0,  0,  0],\n",
              "         [26, 98,  0,  0,  0],\n",
              "         [ 0,  0,  0,  0,  0]]])"
            ]
          },
          "execution_count": 27,
          "metadata": {},
          "output_type": "execute_result"
        }
      ],
      "source": [
        "row4, col4 = 5, 5\n",
        "t4 = th.randint(0,101,size=(row4, col4))\n",
        "t4_res = task3(t4)\n",
        "t4_merged = th.stack([t4,t4_res])\n",
        "t4_merged"
      ],
      "id": "OGJtDiW85eO2"
    },
    {
      "cell_type": "code",
      "execution_count": null,
      "metadata": {
        "colab": {
          "base_uri": "https://localhost:8080/"
        },
        "id": "8RlZY8Hum2FS",
        "outputId": "2c8ad07f-06c7-4b79-bab7-582593ffe829"
      },
      "outputs": [
        {
          "data": {
            "text/plain": [
              "torch.Size([2, 5, 5])"
            ]
          },
          "execution_count": 28,
          "metadata": {},
          "output_type": "execute_result"
        }
      ],
      "source": [
        "t4_merged.shape"
      ],
      "id": "8RlZY8Hum2FS"
    },
    {
      "cell_type": "code",
      "execution_count": null,
      "metadata": {
        "id": "dvU4SjJ7m3cj"
      },
      "outputs": [],
      "source": [
        "th.save(t4_merged, 'tensor.pt')"
      ],
      "id": "dvU4SjJ7m3cj"
    },
    {
      "cell_type": "code",
      "execution_count": null,
      "metadata": {
        "colab": {
          "base_uri": "https://localhost:8080/"
        },
        "id": "-KudAMiNnJXZ",
        "outputId": "4a2772f4-3552-438a-9f44-5ad31eacbd09"
      },
      "outputs": [
        {
          "data": {
            "text/plain": [
              "tensor([[[ 3, 59, 94, 84, 12],\n",
              "         [88, 82, 94, 11, 89],\n",
              "         [47, 50, 38, 25, 97],\n",
              "         [26, 98, 80, 44, 60],\n",
              "         [72, 84, 64, 59,  5]],\n",
              "\n",
              "        [[ 0,  0,  0,  0,  0],\n",
              "         [88, 82,  0,  0,  0],\n",
              "         [47, 50,  0,  0,  0],\n",
              "         [26, 98,  0,  0,  0],\n",
              "         [ 0,  0,  0,  0,  0]]])"
            ]
          },
          "execution_count": 32,
          "metadata": {},
          "output_type": "execute_result"
        }
      ],
      "source": [
        "t4_loaded = th.load('tensor.pt')\n",
        "t4_loaded"
      ],
      "id": "-KudAMiNnJXZ"
    },
    {
      "cell_type": "code",
      "execution_count": null,
      "metadata": {
        "colab": {
          "base_uri": "https://localhost:8080/"
        },
        "id": "my2zvOVEnWUT",
        "outputId": "ca6b68cf-985e-4476-e49d-09cec31a5a95"
      },
      "outputs": [
        {
          "data": {
            "text/plain": [
              "tensor(True)"
            ]
          },
          "execution_count": 34,
          "metadata": {},
          "output_type": "execute_result"
        }
      ],
      "source": [
        "(t4_merged == t4_loaded).all()"
      ],
      "id": "my2zvOVEnWUT"
    },
    {
      "cell_type": "markdown",
      "metadata": {
        "id": "ab2dd4cd"
      },
      "source": [
        "<p class=\"task\" id=\"5\"></p>\n",
        "\n",
        "5\\. Создайте четырехмерный массив `t` размерности (2, 3, 5, 5), заполненный случайными целыми числами от 1 до 10 (сами значения должны быть представлены типом float32). Рассчитайте среднее значение для каждого двумерного тензора `t[i, j, :, :]`. Представьте результат в виде трехмерного тензора размера (2, 3, 1)."
      ],
      "id": "ab2dd4cd"
    },
    {
      "cell_type": "code",
      "execution_count": null,
      "metadata": {
        "colab": {
          "base_uri": "https://localhost:8080/"
        },
        "id": "0QKKxPscFHqz",
        "outputId": "c9d70c25-93e6-434c-e76c-a67f45241287"
      },
      "outputs": [
        {
          "data": {
            "text/plain": [
              "tensor([[[[10.,  6.,  9.,  6.,  1.],\n",
              "          [ 4.,  2.,  4.,  8.,  7.],\n",
              "          [ 1.,  1.,  6.,  2.,  6.],\n",
              "          [ 1.,  3.,  6.,  9.,  3.],\n",
              "          [ 8.,  3.,  9.,  9.,  4.]],\n",
              "\n",
              "         [[ 2.,  3.,  7.,  1.,  7.],\n",
              "          [ 3.,  3.,  3.,  3.,  7.],\n",
              "          [ 6.,  8.,  4.,  4.,  6.],\n",
              "          [ 3.,  6.,  9.,  1., 10.],\n",
              "          [ 4.,  4.,  7.,  1., 10.]],\n",
              "\n",
              "         [[ 5.,  7.,  2.,  8.,  3.],\n",
              "          [ 2.,  1.,  3.,  1.,  5.],\n",
              "          [ 3.,  1.,  3., 10.,  9.],\n",
              "          [ 8.,  5.,  4.,  7.,  5.],\n",
              "          [10.,  3.,  1., 10.,  5.]]],\n",
              "\n",
              "\n",
              "        [[[ 2.,  1.,  6.,  2.,  6.],\n",
              "          [ 5.,  4.,  9.,  9., 10.],\n",
              "          [ 7.,  6.,  8., 10.,  3.],\n",
              "          [ 9.,  4.,  6.,  3.,  3.],\n",
              "          [ 8.,  6.,  2.,  9.,  2.]],\n",
              "\n",
              "         [[ 3.,  3.,  4.,  7.,  6.],\n",
              "          [ 5.,  5.,  3.,  5.,  4.],\n",
              "          [ 5.,  3.,  7.,  1.,  6.],\n",
              "          [ 9.,  8.,  9.,  3.,  1.],\n",
              "          [ 9.,  4.,  3.,  1.,  1.]],\n",
              "\n",
              "         [[ 3.,  5.,  7., 10.,  9.],\n",
              "          [ 3.,  7.,  7.,  5.,  8.],\n",
              "          [ 8.,  2., 10.,  9.,  9.],\n",
              "          [ 3.,  3.,  1.,  7.,  3.],\n",
              "          [ 2.,  1., 10.,  9., 10.]]]])"
            ]
          },
          "execution_count": 79,
          "metadata": {},
          "output_type": "execute_result"
        }
      ],
      "source": [
        "t5 = th.randint(1,11,size=(2,3,5,5), dtype=th.float32)\n",
        "t5"
      ],
      "id": "0QKKxPscFHqz"
    },
    {
      "cell_type": "code",
      "execution_count": null,
      "metadata": {
        "colab": {
          "base_uri": "https://localhost:8080/"
        },
        "id": "XWsCvSPYFXKK",
        "outputId": "7cce6e6d-8298-4252-adc1-8021dd750a36"
      },
      "outputs": [
        {
          "data": {
            "text/plain": [
              "tensor([[[5.1200],\n",
              "         [4.8800],\n",
              "         [4.8400]],\n",
              "\n",
              "        [[5.6000],\n",
              "         [4.6000],\n",
              "         [6.0400]]])"
            ]
          },
          "execution_count": 101,
          "metadata": {},
          "output_type": "execute_result"
        }
      ],
      "source": [
        "res5 = t5.mean(dim=(2,3), keepdim=True).flatten(2)\n",
        "res5"
      ],
      "id": "XWsCvSPYFXKK"
    },
    {
      "cell_type": "code",
      "execution_count": null,
      "metadata": {
        "colab": {
          "base_uri": "https://localhost:8080/"
        },
        "id": "PnOl3SbxGiiS",
        "outputId": "faa94230-c32e-4355-c23e-f477731f5706"
      },
      "outputs": [
        {
          "data": {
            "text/plain": [
              "torch.Size([2, 3, 1])"
            ]
          },
          "execution_count": 102,
          "metadata": {},
          "output_type": "execute_result"
        }
      ],
      "source": [
        "res5.shape"
      ],
      "id": "PnOl3SbxGiiS"
    },
    {
      "cell_type": "markdown",
      "metadata": {
        "id": "0f29b7fa"
      },
      "source": [
        "<p class=\"task\" id=\"6\"></p>\n",
        "\n",
        "6\\. Создайте одномерный тензор размера `N=100_000_000`, заполненный числами из экспоненциального распредления с параметром $\\lambda=5$. Рассчитайте значения для построения гистограммы при помощи пакета `torch`. Визуализируйте гистограмму. Проверьте возможность использования GPU. При наличии GPU перенесите созданный тензор в память GPU, повторите вычисления. Сравните время расчетом с и без использования GPU."
      ],
      "id": "0f29b7fa"
    },
    {
      "cell_type": "code",
      "execution_count": 2,
      "metadata": {
        "id": "ZTy-6XWEYHn4"
      },
      "outputs": [],
      "source": [
        "from torch.distributions.exponential import Exponential\n",
        "import matplotlib.pyplot as plt"
      ],
      "id": "ZTy-6XWEYHn4"
    },
    {
      "cell_type": "code",
      "execution_count": 3,
      "metadata": {
        "colab": {
          "base_uri": "https://localhost:8080/"
        },
        "id": "IZf1F0zAnjDF",
        "outputId": "3f65dfe8-22f5-425f-a9d8-9caf9cc48ef6"
      },
      "outputs": [
        {
          "output_type": "execute_result",
          "data": {
            "text/plain": [
              "tensor([0.1848, 0.2893, 0.0447,  ..., 0.2499, 0.3662, 0.0227])"
            ]
          },
          "metadata": {},
          "execution_count": 3
        }
      ],
      "source": [
        "N6 = 100_000_000\n",
        "lambda6 = 5\n",
        "\n",
        "t6 = Exponential(rate=lambda6).sample([N6])\n",
        "t6"
      ],
      "id": "IZf1F0zAnjDF"
    },
    {
      "cell_type": "code",
      "execution_count": 4,
      "metadata": {
        "colab": {
          "base_uri": "https://localhost:8080/"
        },
        "id": "R31M1VrqX7Dg",
        "outputId": "fa37c75e-f7ba-435a-9a60-320c65e65ede"
      },
      "outputs": [
        {
          "output_type": "execute_result",
          "data": {
            "text/plain": [
              "(tensor(0.2000), tensor(0.0400))"
            ]
          },
          "metadata": {},
          "execution_count": 4
        }
      ],
      "source": [
        "t6.mean(), t6.var()"
      ],
      "id": "R31M1VrqX7Dg"
    },
    {
      "cell_type": "code",
      "execution_count": 5,
      "metadata": {
        "colab": {
          "base_uri": "https://localhost:8080/"
        },
        "id": "I4wUrI0Waic9",
        "outputId": "706e1622-8cc9-4bb8-a4d7-965ba53aeb66"
      },
      "outputs": [
        {
          "output_type": "stream",
          "name": "stdout",
          "text": [
            "CPU times: user 1.62 s, sys: 0 ns, total: 1.62 s\n",
            "Wall time: 1.62 s\n"
          ]
        }
      ],
      "source": [
        "%%time\n",
        "cnt, x = th.histogram(t6, bins=10000, range=(0.,5.))"
      ],
      "id": "I4wUrI0Waic9"
    },
    {
      "cell_type": "code",
      "source": [
        "plt.bar((x[1:]+x[:-1])/2, cnt, align='center', width=0.01)"
      ],
      "metadata": {
        "colab": {
          "base_uri": "https://localhost:8080/",
          "height": 447
        },
        "id": "2yzCVPGSf_xa",
        "outputId": "a039ac4b-2446-4913-d4ee-b8f557ef2442"
      },
      "id": "2yzCVPGSf_xa",
      "execution_count": 6,
      "outputs": [
        {
          "output_type": "execute_result",
          "data": {
            "text/plain": [
              "<BarContainer object of 10000 artists>"
            ]
          },
          "metadata": {},
          "execution_count": 6
        },
        {
          "output_type": "display_data",
          "data": {
            "text/plain": [
              "<Figure size 640x480 with 1 Axes>"
            ],
            "image/png": "[encoded data removed]"
          },
          "metadata": {}
        }
      ]
    },
    {
      "cell_type": "markdown",
      "metadata": {
        "id": "kEVdRuiNc3UF"
      },
      "source": [
        "### **GPU**"
      ],
      "id": "kEVdRuiNc3UF"
    },
    {
      "cell_type": "code",
      "execution_count": 28,
      "metadata": {
        "colab": {
          "base_uri": "https://localhost:8080/"
        },
        "id": "9yFszJLxd0FU",
        "outputId": "bcd64af1-ee58-47da-a2ef-dae9b40aeb8e"
      },
      "outputs": [
        {
          "output_type": "execute_result",
          "data": {
            "text/plain": [
              "True"
            ]
          },
          "metadata": {},
          "execution_count": 28
        }
      ],
      "source": [
        "th.cuda.is_available()"
      ],
      "id": "9yFszJLxd0FU"
    },
    {
      "cell_type": "code",
      "source": [
        "t6_cuda = t6.to(device=\"cuda\")"
      ],
      "metadata": {
        "id": "oAme-pmfeGXd"
      },
      "id": "oAme-pmfeGXd",
      "execution_count": 29,
      "outputs": []
    },
    {
      "cell_type": "code",
      "execution_count": 30,
      "metadata": {
        "colab": {
          "base_uri": "https://localhost:8080/"
        },
        "id": "nFbHaw12YxPR",
        "outputId": "ace39571-18b5-4843-d952-dab88fd674b6"
      },
      "outputs": [
        {
          "output_type": "stream",
          "name": "stdout",
          "text": [
            "CPU times: user 581 µs, sys: 62 µs, total: 643 µs\n",
            "Wall time: 373 µs\n"
          ]
        }
      ],
      "source": [
        "%%time\n",
        "cnt_cuda = th.histc(t6_cuda, bins=10000, max=5)"
      ],
      "id": "nFbHaw12YxPR"
    },
    {
      "cell_type": "code",
      "source": [
        "plt.bar((th.arange(0,5,0.0005)), cnt_cuda.cpu(), align='center', width=0.01)"
      ],
      "metadata": {
        "colab": {
          "base_uri": "https://localhost:8080/",
          "height": 447
        },
        "id": "ZLh9kpHIgEC3",
        "outputId": "32d78344-d9b6-41d3-f889-cef8ce1cee37"
      },
      "id": "ZLh9kpHIgEC3",
      "execution_count": 31,
      "outputs": [
        {
          "output_type": "execute_result",
          "data": {
            "text/plain": [
              "<BarContainer object of 10000 artists>"
            ]
          },
          "metadata": {},
          "execution_count": 31
        },
        {
          "output_type": "display_data",
          "data": {
            "text/plain": [
              "<Figure size 640x480 with 1 Axes>"
            ],
            "image/png": "[encoded data removed]"
          },
          "metadata": {}
        }
      ]
    },
    {
      "cell_type": "markdown",
      "metadata": {
        "id": "590c35a6"
      },
      "source": [
        "<p class=\"task\" id=\"7\"></p>\n",
        "\n",
        "7\\. Создайте четырехмерный тензор размера (10, 6, 6, 3), заполненный случайными целыми числами от 0 до 255. Считая, что данный тензор представляет собой батч из 10 картинок размера 6х6 в формате RGB, измените тензор следующим образом. Для оттенков красного обнулите все столбцы, кроме первых двух; для оттенков зеленого обнулите столбцы со второго по четвертый; для оттенков синего обнулите пятый и шестой столбцы. Для выполнения задания используйте механизм распространения."
      ],
      "id": "590c35a6"
    },
    {
      "cell_type": "code",
      "execution_count": null,
      "metadata": {
        "colab": {
          "base_uri": "https://localhost:8080/"
        },
        "id": "lYm_lrYEns3b",
        "outputId": "7ac0f62f-256a-4f96-9093-87a266b07af6"
      },
      "outputs": [
        {
          "data": {
            "text/plain": [
              "torch.Size([10, 6, 6, 3])"
            ]
          },
          "execution_count": 56,
          "metadata": {},
          "output_type": "execute_result"
        }
      ],
      "source": [
        "t7 = th.randint(0,256,size=(10,6,6,3))\n",
        "t7.shape"
      ],
      "id": "lYm_lrYEns3b"
    },
    {
      "cell_type": "code",
      "execution_count": null,
      "metadata": {
        "colab": {
          "base_uri": "https://localhost:8080/"
        },
        "id": "7pLQz8B3o8Di",
        "outputId": "25ea452b-c165-4f71-f203-aef46ca0c09b"
      },
      "outputs": [
        {
          "data": {
            "text/plain": [
              "tensor([[[[ 13, 148,  31],\n",
              "          [199, 127, 167],\n",
              "          [168,  37,  92],\n",
              "          [ 22, 177,  21],\n",
              "          [247, 157,  89],\n",
              "          [148,  68,   7]],\n",
              "\n",
              "         [[229,   0, 235],\n",
              "          [162,   0,  52],\n",
              "          [157,   0, 172],\n",
              "          [131,   0, 131],\n",
              "          [124,   0, 241],\n",
              "          [ 40,   0, 180]],\n",
              "\n",
              "         [[  0,   0, 241],\n",
              "          [  0,   0, 166],\n",
              "          [  0,   0,  98],\n",
              "          [  0,   0,  73],\n",
              "          [  0,   0, 181],\n",
              "          [  0,   0, 164]],\n",
              "\n",
              "         [[  0,   0,  64],\n",
              "          [  0,   0,  14],\n",
              "          [  0,   0, 171],\n",
              "          [  0,   0,  93],\n",
              "          [  0,   0,  14],\n",
              "          [  0,   0,  72]],\n",
              "\n",
              "         [[  0,  65,   0],\n",
              "          [  0, 108,   0],\n",
              "          [  0, 232,   0],\n",
              "          [  0, 173,   0],\n",
              "          [  0,  80,   0],\n",
              "          [  0, 165,   0]],\n",
              "\n",
              "         [[  0, 255,   0],\n",
              "          [  0,  88,   0],\n",
              "          [  0, 233,   0],\n",
              "          [  0,  45,   0],\n",
              "          [  0,  90,   0],\n",
              "          [  0, 124,   0]]],\n",
              "\n",
              "\n",
              "        [[[224,  80, 244],\n",
              "          [178, 110, 186],\n",
              "          [178, 108, 208],\n",
              "          [110, 139,  45],\n",
              "          [  4, 165, 194],\n",
              "          [148,  30,  90]],\n",
              "\n",
              "         [[233,   0,  51],\n",
              "          [ 30,   0, 154],\n",
              "          [142,   0,  22],\n",
              "          [129,   0, 175],\n",
              "          [ 86,   0, 124],\n",
              "          [152,   0, 186]],\n",
              "\n",
              "         [[  0,   0, 145],\n",
              "          [  0,   0, 137],\n",
              "          [  0,   0, 252],\n",
              "          [  0,   0,  43],\n",
              "          [  0,   0, 130],\n",
              "          [  0,   0,  27]],\n",
              "\n",
              "         [[  0,   0,  59],\n",
              "          [  0,   0, 221],\n",
              "          [  0,   0,  85],\n",
              "          [  0,   0, 139],\n",
              "          [  0,   0,  55],\n",
              "          [  0,   0, 224]],\n",
              "\n",
              "         [[  0, 130,   0],\n",
              "          [  0, 230,   0],\n",
              "          [  0,  44,   0],\n",
              "          [  0,  86,   0],\n",
              "          [  0,  52,   0],\n",
              "          [  0, 144,   0]],\n",
              "\n",
              "         [[  0, 247,   0],\n",
              "          [  0, 137,   0],\n",
              "          [  0, 149,   0],\n",
              "          [  0, 101,   0],\n",
              "          [  0, 243,   0],\n",
              "          [  0, 133,   0]]],\n",
              "\n",
              "\n",
              "        [[[185,  93, 171],\n",
              "          [100,  90,  52],\n",
              "          [230, 156, 154],\n",
              "          [238, 193,  34],\n",
              "          [212,  45, 228],\n",
              "          [174,  20, 186]],\n",
              "\n",
              "         [[168,   0, 245],\n",
              "          [ 29,   0,  57],\n",
              "          [150,   0,  50],\n",
              "          [151,   0, 200],\n",
              "          [ 57,   0, 121],\n",
              "          [ 97,   0,   5]],\n",
              "\n",
              "         [[  0,   0, 150],\n",
              "          [  0,   0,  27],\n",
              "          [  0,   0, 132],\n",
              "          [  0,   0, 170],\n",
              "          [  0,   0, 248],\n",
              "          [  0,   0,  96]],\n",
              "\n",
              "         [[  0,   0,  38],\n",
              "          [  0,   0,  34],\n",
              "          [  0,   0, 244],\n",
              "          [  0,   0, 215],\n",
              "          [  0,   0, 148],\n",
              "          [  0,   0, 103]],\n",
              "\n",
              "         [[  0, 176,   0],\n",
              "          [  0, 180,   0],\n",
              "          [  0, 184,   0],\n",
              "          [  0, 126,   0],\n",
              "          [  0, 215,   0],\n",
              "          [  0,  21,   0]],\n",
              "\n",
              "         [[  0,  99,   0],\n",
              "          [  0,  83,   0],\n",
              "          [  0,  61,   0],\n",
              "          [  0,  34,   0],\n",
              "          [  0,  70,   0],\n",
              "          [  0, 236,   0]]],\n",
              "\n",
              "\n",
              "        ...,\n",
              "\n",
              "\n",
              "        [[[225, 134,  48],\n",
              "          [ 32,   6, 211],\n",
              "          [ 51,   6,  68],\n",
              "          [ 96, 248, 237],\n",
              "          [  9,  10,  98],\n",
              "          [  1,  43, 198]],\n",
              "\n",
              "         [[239,   0, 231],\n",
              "          [255,   0, 192],\n",
              "          [136,   0,  81],\n",
              "          [ 70,   0,  14],\n",
              "          [ 37,   0,  79],\n",
              "          [ 65,   0, 218]],\n",
              "\n",
              "         [[  0,   0,  22],\n",
              "          [  0,   0, 251],\n",
              "          [  0,   0, 184],\n",
              "          [  0,   0, 200],\n",
              "          [  0,   0, 231],\n",
              "          [  0,   0,   1]],\n",
              "\n",
              "         [[  0,   0,  44],\n",
              "          [  0,   0,  98],\n",
              "          [  0,   0, 207],\n",
              "          [  0,   0, 182],\n",
              "          [  0,   0,  36],\n",
              "          [  0,   0,  84]],\n",
              "\n",
              "         [[  0, 183,   0],\n",
              "          [  0,  13,   0],\n",
              "          [  0,  59,   0],\n",
              "          [  0, 253,   0],\n",
              "          [  0,  62,   0],\n",
              "          [  0, 163,   0]],\n",
              "\n",
              "         [[  0,  95,   0],\n",
              "          [  0,   1,   0],\n",
              "          [  0, 217,   0],\n",
              "          [  0, 212,   0],\n",
              "          [  0, 142,   0],\n",
              "          [  0, 244,   0]]],\n",
              "\n",
              "\n",
              "        [[[140, 122, 175],\n",
              "          [233,  70, 224],\n",
              "          [168,  16,  98],\n",
              "          [241, 232, 210],\n",
              "          [ 60, 112, 231],\n",
              "          [228, 251, 132]],\n",
              "\n",
              "         [[254,   0,  89],\n",
              "          [161,   0,  46],\n",
              "          [169,   0,   0],\n",
              "          [115,   0,  71],\n",
              "          [ 26,   0, 118],\n",
              "          [ 11,   0, 193]],\n",
              "\n",
              "         [[  0,   0, 205],\n",
              "          [  0,   0,  43],\n",
              "          [  0,   0, 206],\n",
              "          [  0,   0, 140],\n",
              "          [  0,   0, 114],\n",
              "          [  0,   0,  47]],\n",
              "\n",
              "         [[  0,   0, 222],\n",
              "          [  0,   0,  93],\n",
              "          [  0,   0,  71],\n",
              "          [  0,   0, 131],\n",
              "          [  0,   0,  97],\n",
              "          [  0,   0, 233]],\n",
              "\n",
              "         [[  0, 224,   0],\n",
              "          [  0,  86,   0],\n",
              "          [  0, 230,   0],\n",
              "          [  0, 108,   0],\n",
              "          [  0,  52,   0],\n",
              "          [  0, 240,   0]],\n",
              "\n",
              "         [[  0,  70,   0],\n",
              "          [  0, 175,   0],\n",
              "          [  0, 134,   0],\n",
              "          [  0,   9,   0],\n",
              "          [  0, 138,   0],\n",
              "          [  0,  54,   0]]],\n",
              "\n",
              "\n",
              "        [[[143, 197, 170],\n",
              "          [239,  54,  13],\n",
              "          [ 29,  90,  56],\n",
              "          [  1, 104, 130],\n",
              "          [252, 190,   7],\n",
              "          [ 54, 201, 190]],\n",
              "\n",
              "         [[ 62,   0, 109],\n",
              "          [ 65,   0, 141],\n",
              "          [108,   0,  75],\n",
              "          [155,   0,  84],\n",
              "          [158,   0,  74],\n",
              "          [ 20,   0, 198]],\n",
              "\n",
              "         [[  0,   0,  32],\n",
              "          [  0,   0, 220],\n",
              "          [  0,   0, 157],\n",
              "          [  0,   0, 135],\n",
              "          [  0,   0, 188],\n",
              "          [  0,   0,  42]],\n",
              "\n",
              "         [[  0,   0,  40],\n",
              "          [  0,   0,  25],\n",
              "          [  0,   0, 151],\n",
              "          [  0,   0,  62],\n",
              "          [  0,   0, 237],\n",
              "          [  0,   0, 222]],\n",
              "\n",
              "         [[  0,  80,   0],\n",
              "          [  0,  99,   0],\n",
              "          [  0,  27,   0],\n",
              "          [  0,  52,   0],\n",
              "          [  0,   5,   0],\n",
              "          [  0,  70,   0]],\n",
              "\n",
              "         [[  0,  19,   0],\n",
              "          [  0, 223,   0],\n",
              "          [  0, 192,   0],\n",
              "          [  0,  42,   0],\n",
              "          [  0,  48,   0],\n",
              "          [  0, 255,   0]]]])"
            ]
          },
          "execution_count": 57,
          "metadata": {},
          "output_type": "execute_result"
        }
      ],
      "source": [
        "t7[:,2:,:,0] = 0\n",
        "t7[:,1:4,:,1] = 0\n",
        "t7[:,4:6,:,2] = 0\n",
        "t7"
      ],
      "id": "7pLQz8B3o8Di"
    },
    {
      "cell_type": "code",
      "execution_count": null,
      "metadata": {
        "colab": {
          "base_uri": "https://localhost:8080/"
        },
        "id": "vUBKk1m2n5_x",
        "outputId": "57496962-edf1-4672-db46-f215dbd3ee33"
      },
      "outputs": [
        {
          "data": {
            "text/plain": [
              "torch.Size([10, 6, 6, 3])"
            ]
          },
          "execution_count": 58,
          "metadata": {},
          "output_type": "execute_result"
        }
      ],
      "source": [
        "t7.shape"
      ],
      "id": "vUBKk1m2n5_x"
    },
    {
      "cell_type": "markdown",
      "metadata": {
        "id": "c87e5d68"
      },
      "source": [
        "## Обратная связь\n",
        "- [ ] Хочу получить обратную связь по решению"
      ],
      "id": "c87e5d68"
    },
    {
      "cell_type": "code",
      "execution_count": null,
      "metadata": {
        "id": "45728f21"
      },
      "outputs": [],
      "source": [],
      "id": "45728f21"
    }
  ],
  "metadata": {
    "colab": {
      "provenance": []
    },
    "kernelspec": {
      "display_name": "Python 3",
      "name": "python3"
    },
    "language_info": {
      "codemirror_mode": {
        "name": "ipython",
        "version": 3
      },
      "file_extension": ".py",
      "mimetype": "text/x-python",
      "name": "python",
      "nbconvert_exporter": "python",
      "pygments_lexer": "ipython3",
      "version": "3.9.13"
    }
  },
  "nbformat": 4,
  "nbformat_minor": 5
}
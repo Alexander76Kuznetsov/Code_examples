{
 "cells": [
  {
   "cell_type": "markdown",
   "id": "8724633e",
   "metadata": {},
   "source": [
    "# Методы машинного обучения в рекомендательных системах"
   ]
  },
  {
   "cell_type": "markdown",
   "id": "05799d28",
   "metadata": {},
   "source": [
    "### Описание\n",
    "\n",
    "**Цель:** создать рекомендательную систему фильмов, используя методы машинного обучения.\n",
    "\n",
    "**Задачи:**\n",
    "1) провести предобработку данных;\\\n",
    "2) реализовать алгоритмы рекомендательных систем, основанных на следующих подходах: demographic filtering, content-based filtering, collaborative filtering;\\\n",
    "3) продумать логику выдачи рекомендаций разными методами.\n",
    "\n",
    "**Ожидаемый результат:** алгоритм, ранжирующий фильмы на основании различных признаков с целью выдачи рекомендации."
   ]
  },
  {
   "cell_type": "markdown",
   "id": "b1a3a7b7",
   "metadata": {},
   "source": [
    "### Dataset\n",
    "from: https://www.kaggle.com/datasets/rounakbanik/the-movies-dataset/versions/5?resource=download\n",
    "\n",
    "**Содержание**\\\n",
    "Этот набор данных состоит из следующих файлов:\n",
    "\n",
    "**movies_metadata.csv**: Основной файл метаданных фильмов. Содержит информацию о 45 000 фильмах, включенных в полный набор данных MovieLens. Характеристики включают плакаты, задники, бюджет, выручку, даты выпуска, языки, страны-производители и компании.\n",
    "\n",
    "**keywords.csv**: Содержит ключевые слова для сюжета фильма для наших фильмов MovieLens. Доступен в виде строкового объекта JSON.\n",
    "\n",
    "**credits.csv**: Содержит информацию об актерском составе и съемочной группе для всех наших фильмов.\n",
    "\n",
    "**links.csv**: файл, содержащий идентификаторы TMDB и IMDB всех фильмов, представленных в полном наборе данных MovieLens.\n",
    "\n",
    "**links_small.csv**: Содержит идентификаторы TMDB и IMDB небольшого подмножества из 9000 фильмов из полного набора данных.\n",
    "\n",
    "**ratings_small.csv**: Подмножество из 100 000 оценок от 700 пользователей по 9 000 фильмам."
   ]
  },
  {
   "cell_type": "code",
   "execution_count": 3,
   "id": "77311b34",
   "metadata": {},
   "outputs": [],
   "source": [
    "import pandas as pd\n",
    "import matplotlib.pyplot as plt\n",
    "import warnings\n",
    "warnings.filterwarnings('ignore')"
   ]
  },
  {
   "cell_type": "code",
   "execution_count": 4,
   "id": "00723429",
   "metadata": {
    "scrolled": false
   },
   "outputs": [
    {
     "name": "stdout",
     "output_type": "stream",
     "text": [
      "Wall time: 1.41 s\n"
     ]
    },
    {
     "data": {
      "text/html": [
       "<div>\n",
       "<style scoped>\n",
       "    .dataframe tbody tr th:only-of-type {\n",
       "        vertical-align: middle;\n",
       "    }\n",
       "\n",
       "    .dataframe tbody tr th {\n",
       "        vertical-align: top;\n",
       "    }\n",
       "\n",
       "    .dataframe thead th {\n",
       "        text-align: right;\n",
       "    }\n",
       "</style>\n",
       "<table border=\"1\" class=\"dataframe\">\n",
       "  <thead>\n",
       "    <tr style=\"text-align: right;\">\n",
       "      <th></th>\n",
       "      <th>adult</th>\n",
       "      <th>belongs_to_collection</th>\n",
       "      <th>budget</th>\n",
       "      <th>genres</th>\n",
       "      <th>homepage</th>\n",
       "      <th>id</th>\n",
       "      <th>imdb_id</th>\n",
       "      <th>original_language</th>\n",
       "      <th>original_title</th>\n",
       "      <th>overview</th>\n",
       "      <th>...</th>\n",
       "      <th>release_date</th>\n",
       "      <th>revenue</th>\n",
       "      <th>runtime</th>\n",
       "      <th>spoken_languages</th>\n",
       "      <th>status</th>\n",
       "      <th>tagline</th>\n",
       "      <th>title</th>\n",
       "      <th>video</th>\n",
       "      <th>vote_average</th>\n",
       "      <th>vote_count</th>\n",
       "    </tr>\n",
       "  </thead>\n",
       "  <tbody>\n",
       "    <tr>\n",
       "      <th>0</th>\n",
       "      <td>False</td>\n",
       "      <td>{'id': 10194, 'name': 'Toy Story Collection', ...</td>\n",
       "      <td>30000000</td>\n",
       "      <td>[{'id': 16, 'name': 'Animation'}, {'id': 35, '...</td>\n",
       "      <td>http://toystory.disney.com/toy-story</td>\n",
       "      <td>862</td>\n",
       "      <td>tt0114709</td>\n",
       "      <td>en</td>\n",
       "      <td>Toy Story</td>\n",
       "      <td>Led by Woody, Andy's toys live happily in his ...</td>\n",
       "      <td>...</td>\n",
       "      <td>1995-10-30</td>\n",
       "      <td>373554033.0</td>\n",
       "      <td>81.0</td>\n",
       "      <td>[{'iso_639_1': 'en', 'name': 'English'}]</td>\n",
       "      <td>Released</td>\n",
       "      <td>NaN</td>\n",
       "      <td>Toy Story</td>\n",
       "      <td>False</td>\n",
       "      <td>7.7</td>\n",
       "      <td>5415.0</td>\n",
       "    </tr>\n",
       "    <tr>\n",
       "      <th>1</th>\n",
       "      <td>False</td>\n",
       "      <td>NaN</td>\n",
       "      <td>65000000</td>\n",
       "      <td>[{'id': 12, 'name': 'Adventure'}, {'id': 14, '...</td>\n",
       "      <td>NaN</td>\n",
       "      <td>8844</td>\n",
       "      <td>tt0113497</td>\n",
       "      <td>en</td>\n",
       "      <td>Jumanji</td>\n",
       "      <td>When siblings Judy and Peter discover an encha...</td>\n",
       "      <td>...</td>\n",
       "      <td>1995-12-15</td>\n",
       "      <td>262797249.0</td>\n",
       "      <td>104.0</td>\n",
       "      <td>[{'iso_639_1': 'en', 'name': 'English'}, {'iso...</td>\n",
       "      <td>Released</td>\n",
       "      <td>Roll the dice and unleash the excitement!</td>\n",
       "      <td>Jumanji</td>\n",
       "      <td>False</td>\n",
       "      <td>6.9</td>\n",
       "      <td>2413.0</td>\n",
       "    </tr>\n",
       "    <tr>\n",
       "      <th>2</th>\n",
       "      <td>False</td>\n",
       "      <td>{'id': 119050, 'name': 'Grumpy Old Men Collect...</td>\n",
       "      <td>0</td>\n",
       "      <td>[{'id': 10749, 'name': 'Romance'}, {'id': 35, ...</td>\n",
       "      <td>NaN</td>\n",
       "      <td>15602</td>\n",
       "      <td>tt0113228</td>\n",
       "      <td>en</td>\n",
       "      <td>Grumpier Old Men</td>\n",
       "      <td>A family wedding reignites the ancient feud be...</td>\n",
       "      <td>...</td>\n",
       "      <td>1995-12-22</td>\n",
       "      <td>0.0</td>\n",
       "      <td>101.0</td>\n",
       "      <td>[{'iso_639_1': 'en', 'name': 'English'}]</td>\n",
       "      <td>Released</td>\n",
       "      <td>Still Yelling. Still Fighting. Still Ready for...</td>\n",
       "      <td>Grumpier Old Men</td>\n",
       "      <td>False</td>\n",
       "      <td>6.5</td>\n",
       "      <td>92.0</td>\n",
       "    </tr>\n",
       "    <tr>\n",
       "      <th>3</th>\n",
       "      <td>False</td>\n",
       "      <td>NaN</td>\n",
       "      <td>16000000</td>\n",
       "      <td>[{'id': 35, 'name': 'Comedy'}, {'id': 18, 'nam...</td>\n",
       "      <td>NaN</td>\n",
       "      <td>31357</td>\n",
       "      <td>tt0114885</td>\n",
       "      <td>en</td>\n",
       "      <td>Waiting to Exhale</td>\n",
       "      <td>Cheated on, mistreated and stepped on, the wom...</td>\n",
       "      <td>...</td>\n",
       "      <td>1995-12-22</td>\n",
       "      <td>81452156.0</td>\n",
       "      <td>127.0</td>\n",
       "      <td>[{'iso_639_1': 'en', 'name': 'English'}]</td>\n",
       "      <td>Released</td>\n",
       "      <td>Friends are the people who let you be yourself...</td>\n",
       "      <td>Waiting to Exhale</td>\n",
       "      <td>False</td>\n",
       "      <td>6.1</td>\n",
       "      <td>34.0</td>\n",
       "    </tr>\n",
       "    <tr>\n",
       "      <th>4</th>\n",
       "      <td>False</td>\n",
       "      <td>{'id': 96871, 'name': 'Father of the Bride Col...</td>\n",
       "      <td>0</td>\n",
       "      <td>[{'id': 35, 'name': 'Comedy'}]</td>\n",
       "      <td>NaN</td>\n",
       "      <td>11862</td>\n",
       "      <td>tt0113041</td>\n",
       "      <td>en</td>\n",
       "      <td>Father of the Bride Part II</td>\n",
       "      <td>Just when George Banks has recovered from his ...</td>\n",
       "      <td>...</td>\n",
       "      <td>1995-02-10</td>\n",
       "      <td>76578911.0</td>\n",
       "      <td>106.0</td>\n",
       "      <td>[{'iso_639_1': 'en', 'name': 'English'}]</td>\n",
       "      <td>Released</td>\n",
       "      <td>Just When His World Is Back To Normal... He's ...</td>\n",
       "      <td>Father of the Bride Part II</td>\n",
       "      <td>False</td>\n",
       "      <td>5.7</td>\n",
       "      <td>173.0</td>\n",
       "    </tr>\n",
       "  </tbody>\n",
       "</table>\n",
       "<p>5 rows × 24 columns</p>\n",
       "</div>"
      ],
      "text/plain": [
       "   adult                              belongs_to_collection    budget   \n",
       "0  False  {'id': 10194, 'name': 'Toy Story Collection', ...  30000000  \\\n",
       "1  False                                                NaN  65000000   \n",
       "2  False  {'id': 119050, 'name': 'Grumpy Old Men Collect...         0   \n",
       "3  False                                                NaN  16000000   \n",
       "4  False  {'id': 96871, 'name': 'Father of the Bride Col...         0   \n",
       "\n",
       "                                              genres   \n",
       "0  [{'id': 16, 'name': 'Animation'}, {'id': 35, '...  \\\n",
       "1  [{'id': 12, 'name': 'Adventure'}, {'id': 14, '...   \n",
       "2  [{'id': 10749, 'name': 'Romance'}, {'id': 35, ...   \n",
       "3  [{'id': 35, 'name': 'Comedy'}, {'id': 18, 'nam...   \n",
       "4                     [{'id': 35, 'name': 'Comedy'}]   \n",
       "\n",
       "                               homepage     id    imdb_id original_language   \n",
       "0  http://toystory.disney.com/toy-story    862  tt0114709                en  \\\n",
       "1                                   NaN   8844  tt0113497                en   \n",
       "2                                   NaN  15602  tt0113228                en   \n",
       "3                                   NaN  31357  tt0114885                en   \n",
       "4                                   NaN  11862  tt0113041                en   \n",
       "\n",
       "                original_title   \n",
       "0                    Toy Story  \\\n",
       "1                      Jumanji   \n",
       "2             Grumpier Old Men   \n",
       "3            Waiting to Exhale   \n",
       "4  Father of the Bride Part II   \n",
       "\n",
       "                                            overview  ... release_date   \n",
       "0  Led by Woody, Andy's toys live happily in his ...  ...   1995-10-30  \\\n",
       "1  When siblings Judy and Peter discover an encha...  ...   1995-12-15   \n",
       "2  A family wedding reignites the ancient feud be...  ...   1995-12-22   \n",
       "3  Cheated on, mistreated and stepped on, the wom...  ...   1995-12-22   \n",
       "4  Just when George Banks has recovered from his ...  ...   1995-02-10   \n",
       "\n",
       "       revenue runtime                                   spoken_languages   \n",
       "0  373554033.0    81.0           [{'iso_639_1': 'en', 'name': 'English'}]  \\\n",
       "1  262797249.0   104.0  [{'iso_639_1': 'en', 'name': 'English'}, {'iso...   \n",
       "2          0.0   101.0           [{'iso_639_1': 'en', 'name': 'English'}]   \n",
       "3   81452156.0   127.0           [{'iso_639_1': 'en', 'name': 'English'}]   \n",
       "4   76578911.0   106.0           [{'iso_639_1': 'en', 'name': 'English'}]   \n",
       "\n",
       "     status                                            tagline   \n",
       "0  Released                                                NaN  \\\n",
       "1  Released          Roll the dice and unleash the excitement!   \n",
       "2  Released  Still Yelling. Still Fighting. Still Ready for...   \n",
       "3  Released  Friends are the people who let you be yourself...   \n",
       "4  Released  Just When His World Is Back To Normal... He's ...   \n",
       "\n",
       "                         title  video vote_average vote_count  \n",
       "0                    Toy Story  False          7.7     5415.0  \n",
       "1                      Jumanji  False          6.9     2413.0  \n",
       "2             Grumpier Old Men  False          6.5       92.0  \n",
       "3            Waiting to Exhale  False          6.1       34.0  \n",
       "4  Father of the Bride Part II  False          5.7      173.0  \n",
       "\n",
       "[5 rows x 24 columns]"
      ]
     },
     "execution_count": 4,
     "metadata": {},
     "output_type": "execute_result"
    }
   ],
   "source": [
    "%%time\n",
    "df = pd.read_csv('movies_metadata.csv')\n",
    "df.head()"
   ]
  },
  {
   "cell_type": "code",
   "execution_count": 5,
   "id": "bd2bf358",
   "metadata": {},
   "outputs": [
    {
     "data": {
      "text/plain": [
       "Index(['adult', 'belongs_to_collection', 'budget', 'genres', 'homepage', 'id',\n",
       "       'imdb_id', 'original_language', 'original_title', 'overview',\n",
       "       'popularity', 'poster_path', 'production_companies',\n",
       "       'production_countries', 'release_date', 'revenue', 'runtime',\n",
       "       'spoken_languages', 'status', 'tagline', 'title', 'video',\n",
       "       'vote_average', 'vote_count'],\n",
       "      dtype='object')"
      ]
     },
     "execution_count": 5,
     "metadata": {},
     "output_type": "execute_result"
    }
   ],
   "source": [
    "df.columns"
   ]
  },
  {
   "cell_type": "code",
   "execution_count": 6,
   "id": "372995eb",
   "metadata": {},
   "outputs": [
    {
     "data": {
      "text/html": [
       "<div>\n",
       "<style scoped>\n",
       "    .dataframe tbody tr th:only-of-type {\n",
       "        vertical-align: middle;\n",
       "    }\n",
       "\n",
       "    .dataframe tbody tr th {\n",
       "        vertical-align: top;\n",
       "    }\n",
       "\n",
       "    .dataframe thead th {\n",
       "        text-align: right;\n",
       "    }\n",
       "</style>\n",
       "<table border=\"1\" class=\"dataframe\">\n",
       "  <thead>\n",
       "    <tr style=\"text-align: right;\">\n",
       "      <th></th>\n",
       "      <th>genres</th>\n",
       "      <th>id</th>\n",
       "      <th>overview</th>\n",
       "      <th>popularity</th>\n",
       "      <th>production_companies</th>\n",
       "      <th>title</th>\n",
       "      <th>vote_average</th>\n",
       "      <th>vote_count</th>\n",
       "    </tr>\n",
       "  </thead>\n",
       "  <tbody>\n",
       "    <tr>\n",
       "      <th>0</th>\n",
       "      <td>[{'id': 16, 'name': 'Animation'}, {'id': 35, '...</td>\n",
       "      <td>862</td>\n",
       "      <td>Led by Woody, Andy's toys live happily in his ...</td>\n",
       "      <td>21.946943</td>\n",
       "      <td>[{'name': 'Pixar Animation Studios', 'id': 3}]</td>\n",
       "      <td>Toy Story</td>\n",
       "      <td>7.7</td>\n",
       "      <td>5415.0</td>\n",
       "    </tr>\n",
       "    <tr>\n",
       "      <th>1</th>\n",
       "      <td>[{'id': 12, 'name': 'Adventure'}, {'id': 14, '...</td>\n",
       "      <td>8844</td>\n",
       "      <td>When siblings Judy and Peter discover an encha...</td>\n",
       "      <td>17.015539</td>\n",
       "      <td>[{'name': 'TriStar Pictures', 'id': 559}, {'na...</td>\n",
       "      <td>Jumanji</td>\n",
       "      <td>6.9</td>\n",
       "      <td>2413.0</td>\n",
       "    </tr>\n",
       "    <tr>\n",
       "      <th>2</th>\n",
       "      <td>[{'id': 10749, 'name': 'Romance'}, {'id': 35, ...</td>\n",
       "      <td>15602</td>\n",
       "      <td>A family wedding reignites the ancient feud be...</td>\n",
       "      <td>11.7129</td>\n",
       "      <td>[{'name': 'Warner Bros.', 'id': 6194}, {'name'...</td>\n",
       "      <td>Grumpier Old Men</td>\n",
       "      <td>6.5</td>\n",
       "      <td>92.0</td>\n",
       "    </tr>\n",
       "    <tr>\n",
       "      <th>3</th>\n",
       "      <td>[{'id': 35, 'name': 'Comedy'}, {'id': 18, 'nam...</td>\n",
       "      <td>31357</td>\n",
       "      <td>Cheated on, mistreated and stepped on, the wom...</td>\n",
       "      <td>3.859495</td>\n",
       "      <td>[{'name': 'Twentieth Century Fox Film Corporat...</td>\n",
       "      <td>Waiting to Exhale</td>\n",
       "      <td>6.1</td>\n",
       "      <td>34.0</td>\n",
       "    </tr>\n",
       "    <tr>\n",
       "      <th>4</th>\n",
       "      <td>[{'id': 35, 'name': 'Comedy'}]</td>\n",
       "      <td>11862</td>\n",
       "      <td>Just when George Banks has recovered from his ...</td>\n",
       "      <td>8.387519</td>\n",
       "      <td>[{'name': 'Sandollar Productions', 'id': 5842}...</td>\n",
       "      <td>Father of the Bride Part II</td>\n",
       "      <td>5.7</td>\n",
       "      <td>173.0</td>\n",
       "    </tr>\n",
       "  </tbody>\n",
       "</table>\n",
       "</div>"
      ],
      "text/plain": [
       "                                              genres     id   \n",
       "0  [{'id': 16, 'name': 'Animation'}, {'id': 35, '...    862  \\\n",
       "1  [{'id': 12, 'name': 'Adventure'}, {'id': 14, '...   8844   \n",
       "2  [{'id': 10749, 'name': 'Romance'}, {'id': 35, ...  15602   \n",
       "3  [{'id': 35, 'name': 'Comedy'}, {'id': 18, 'nam...  31357   \n",
       "4                     [{'id': 35, 'name': 'Comedy'}]  11862   \n",
       "\n",
       "                                            overview popularity   \n",
       "0  Led by Woody, Andy's toys live happily in his ...  21.946943  \\\n",
       "1  When siblings Judy and Peter discover an encha...  17.015539   \n",
       "2  A family wedding reignites the ancient feud be...    11.7129   \n",
       "3  Cheated on, mistreated and stepped on, the wom...   3.859495   \n",
       "4  Just when George Banks has recovered from his ...   8.387519   \n",
       "\n",
       "                                production_companies   \n",
       "0     [{'name': 'Pixar Animation Studios', 'id': 3}]  \\\n",
       "1  [{'name': 'TriStar Pictures', 'id': 559}, {'na...   \n",
       "2  [{'name': 'Warner Bros.', 'id': 6194}, {'name'...   \n",
       "3  [{'name': 'Twentieth Century Fox Film Corporat...   \n",
       "4  [{'name': 'Sandollar Productions', 'id': 5842}...   \n",
       "\n",
       "                         title  vote_average  vote_count  \n",
       "0                    Toy Story           7.7      5415.0  \n",
       "1                      Jumanji           6.9      2413.0  \n",
       "2             Grumpier Old Men           6.5        92.0  \n",
       "3            Waiting to Exhale           6.1        34.0  \n",
       "4  Father of the Bride Part II           5.7       173.0  "
      ]
     },
     "execution_count": 6,
     "metadata": {},
     "output_type": "execute_result"
    }
   ],
   "source": [
    "df2 = df[['genres','id','overview','popularity','production_companies','title','vote_average','vote_count']]\n",
    "df2.head()"
   ]
  },
  {
   "cell_type": "code",
   "execution_count": 7,
   "id": "75902e17",
   "metadata": {},
   "outputs": [
    {
     "data": {
      "text/plain": [
       "genres                    0\n",
       "id                        0\n",
       "overview                954\n",
       "popularity                5\n",
       "production_companies      3\n",
       "title                     6\n",
       "vote_average              6\n",
       "vote_count                6\n",
       "dtype: int64"
      ]
     },
     "execution_count": 7,
     "metadata": {},
     "output_type": "execute_result"
    }
   ],
   "source": [
    "df2.isna().sum() # проверим наличие пропусков"
   ]
  },
  {
   "cell_type": "code",
   "execution_count": 8,
   "id": "72c362a9",
   "metadata": {},
   "outputs": [
    {
     "data": {
      "text/plain": [
       "(45466, 8)"
      ]
     },
     "execution_count": 8,
     "metadata": {},
     "output_type": "execute_result"
    }
   ],
   "source": [
    "df2.shape"
   ]
  },
  {
   "cell_type": "code",
   "execution_count": 9,
   "id": "79c409df",
   "metadata": {},
   "outputs": [
    {
     "data": {
      "text/plain": [
       "(44506, 8)"
      ]
     },
     "execution_count": 9,
     "metadata": {},
     "output_type": "execute_result"
    }
   ],
   "source": [
    "# удалим пропущенные значения\n",
    "df2 = df2.dropna().reset_index(drop=True)\n",
    "df2.shape"
   ]
  },
  {
   "cell_type": "markdown",
   "id": "d04e69a5",
   "metadata": {},
   "source": [
    "**В датасете есть фильмы, информация о которых записана несколько раз** "
   ]
  },
  {
   "cell_type": "code",
   "execution_count": 10,
   "id": "7092fe95",
   "metadata": {},
   "outputs": [
    {
     "data": {
      "text/plain": [
       "id\n",
       "141971     True\n",
       "10991      True\n",
       "14788      True\n",
       "97995      True\n",
       "15028      True\n",
       "          ...  \n",
       "27583     False\n",
       "6883      False\n",
       "26390     False\n",
       "34016     False\n",
       "461257    False\n",
       "Name: count, Length: 44476, dtype: bool"
      ]
     },
     "execution_count": 10,
     "metadata": {},
     "output_type": "execute_result"
    }
   ],
   "source": [
    "df2['id'].value_counts()>1"
   ]
  },
  {
   "cell_type": "code",
   "execution_count": 11,
   "id": "1ec49786",
   "metadata": {},
   "outputs": [
    {
     "data": {
      "text/html": [
       "<div>\n",
       "<style scoped>\n",
       "    .dataframe tbody tr th:only-of-type {\n",
       "        vertical-align: middle;\n",
       "    }\n",
       "\n",
       "    .dataframe tbody tr th {\n",
       "        vertical-align: top;\n",
       "    }\n",
       "\n",
       "    .dataframe thead th {\n",
       "        text-align: right;\n",
       "    }\n",
       "</style>\n",
       "<table border=\"1\" class=\"dataframe\">\n",
       "  <thead>\n",
       "    <tr style=\"text-align: right;\">\n",
       "      <th></th>\n",
       "      <th>genres</th>\n",
       "      <th>id</th>\n",
       "      <th>overview</th>\n",
       "      <th>popularity</th>\n",
       "      <th>production_companies</th>\n",
       "      <th>title</th>\n",
       "      <th>vote_average</th>\n",
       "      <th>vote_count</th>\n",
       "    </tr>\n",
       "  </thead>\n",
       "  <tbody>\n",
       "    <tr>\n",
       "      <th>5689</th>\n",
       "      <td>[{'id': 18, 'name': 'Drama'}]</td>\n",
       "      <td>109962</td>\n",
       "      <td>Two literary women compete for 20 years: one w...</td>\n",
       "      <td>12.180836</td>\n",
       "      <td>[{'name': 'Metro-Goldwyn-Mayer (MGM)', 'id': 8...</td>\n",
       "      <td>Rich and Famous</td>\n",
       "      <td>4.9</td>\n",
       "      <td>7.0</td>\n",
       "    </tr>\n",
       "    <tr>\n",
       "      <th>20745</th>\n",
       "      <td>[{'id': 18, 'name': 'Drama'}]</td>\n",
       "      <td>109962</td>\n",
       "      <td>Two literary women compete for 20 years: one w...</td>\n",
       "      <td>10.396878</td>\n",
       "      <td>[{'name': 'Metro-Goldwyn-Mayer (MGM)', 'id': 8...</td>\n",
       "      <td>Rich and Famous</td>\n",
       "      <td>4.9</td>\n",
       "      <td>7.0</td>\n",
       "    </tr>\n",
       "  </tbody>\n",
       "</table>\n",
       "</div>"
      ],
      "text/plain": [
       "                              genres      id   \n",
       "5689   [{'id': 18, 'name': 'Drama'}]  109962  \\\n",
       "20745  [{'id': 18, 'name': 'Drama'}]  109962   \n",
       "\n",
       "                                                overview popularity   \n",
       "5689   Two literary women compete for 20 years: one w...  12.180836  \\\n",
       "20745  Two literary women compete for 20 years: one w...  10.396878   \n",
       "\n",
       "                                    production_companies            title   \n",
       "5689   [{'name': 'Metro-Goldwyn-Mayer (MGM)', 'id': 8...  Rich and Famous  \\\n",
       "20745  [{'name': 'Metro-Goldwyn-Mayer (MGM)', 'id': 8...  Rich and Famous   \n",
       "\n",
       "       vote_average  vote_count  \n",
       "5689            4.9         7.0  \n",
       "20745           4.9         7.0  "
      ]
     },
     "execution_count": 11,
     "metadata": {},
     "output_type": "execute_result"
    }
   ],
   "source": [
    "df2[df2['id']=='109962']"
   ]
  },
  {
   "cell_type": "code",
   "execution_count": 12,
   "id": "6ff1ca62",
   "metadata": {},
   "outputs": [
    {
     "data": {
      "text/plain": [
       "0"
      ]
     },
     "execution_count": 12,
     "metadata": {},
     "output_type": "execute_result"
    }
   ],
   "source": [
    "# оставим по одной записи о каждом фильме\n",
    "df2 = df2.drop_duplicates(subset='id').reset_index(drop=True)\n",
    "sum(df2['id'].value_counts()>1)"
   ]
  },
  {
   "cell_type": "markdown",
   "id": "c40715db",
   "metadata": {},
   "source": [
    "# Demographic Filtering"
   ]
  },
  {
   "cell_type": "markdown",
   "id": "e3c5c682",
   "metadata": {},
   "source": [
    "### Холодный старт\n",
    "\n",
    "Холодный старт – это типичная ситуация, когда ещё не накоплено достаточное количество данных для корректной работы рекомендательной системы. В этой ситуации будем рекомендовать самые высокорейтинговые и самые популярные фильмы."
   ]
  },
  {
   "cell_type": "markdown",
   "id": "35343ba7",
   "metadata": {},
   "source": [
    "**Movie rating**\n",
    "\n",
    "https://en.wikipedia.org/wiki/Shrinkage_(statistics)\n",
    "\n",
    "https://help.imdb.com/article/imdb/track-movies-tv/ratings-faq/G67Y87TFYYP6TWAV#"
   ]
  },
  {
   "cell_type": "markdown",
   "id": "dbbb636e",
   "metadata": {},
   "source": [
    "$$\\text{Weighted Rating (WR)} = \\frac{v}{v+m} \\cdot R + \\frac{m}{v+m} \\cdot C$$\n",
    "* v - количество голосов, отданных за фильм;\n",
    "* m - минимальное количество голосов, необходимое для включения в таблицу;\n",
    "* R - средний рейтинг фильма;\n",
    "* C - среднее число голосов по всему датасету"
   ]
  },
  {
   "cell_type": "code",
   "execution_count": 13,
   "id": "4d591b68",
   "metadata": {},
   "outputs": [
    {
     "name": "stdout",
     "output_type": "stream",
     "text": [
      "Среднее число голосов = 5.639018796654375\n",
      "У фильма должно быть хотя бы m = 165.0 оценок\n",
      "Количество фильмов = 4458\n",
      "Wall time: 16.6 ms\n"
     ]
    }
   ],
   "source": [
    "%%time\n",
    "C = df2['vote_average'].mean()\n",
    "print(f'Среднее число голосов = {C}')\n",
    "\n",
    "m = df2['vote_count'].quantile(0.9)\n",
    "print(f'У фильма должно быть хотя бы m = {m} оценок')\n",
    "\n",
    "# отберем фильмы, удовлетворяющие условию\n",
    "high_rated_films = df2.copy()[df2['vote_count'] >= m]\n",
    "print(f'Количество фильмов = {high_rated_films.shape[0]}')"
   ]
  },
  {
   "cell_type": "markdown",
   "id": "56d8d7d7",
   "metadata": {},
   "source": [
    "Отобрано 4458 фильмов с достаточным количеством голосов"
   ]
  },
  {
   "cell_type": "code",
   "execution_count": 14,
   "id": "d331a757",
   "metadata": {},
   "outputs": [],
   "source": [
    "# функция, рассчитывающая взвешеный рейтинг (WR)\n",
    "def weighted_rating(x, m, C): \n",
    "    v = x['vote_count']\n",
    "    R = x['vote_average']\n",
    "    return (v/(v+m) * R) + (m/(m+v) * C)"
   ]
  },
  {
   "cell_type": "code",
   "execution_count": 15,
   "id": "77f37910",
   "metadata": {},
   "outputs": [
    {
     "name": "stdout",
     "output_type": "stream",
     "text": [
      "Wall time: 109 ms\n"
     ]
    },
    {
     "data": {
      "text/html": [
       "<div>\n",
       "<style scoped>\n",
       "    .dataframe tbody tr th:only-of-type {\n",
       "        vertical-align: middle;\n",
       "    }\n",
       "\n",
       "    .dataframe tbody tr th {\n",
       "        vertical-align: top;\n",
       "    }\n",
       "\n",
       "    .dataframe thead th {\n",
       "        text-align: right;\n",
       "    }\n",
       "</style>\n",
       "<table border=\"1\" class=\"dataframe\">\n",
       "  <thead>\n",
       "    <tr style=\"text-align: right;\">\n",
       "      <th></th>\n",
       "      <th>genres</th>\n",
       "      <th>id</th>\n",
       "      <th>overview</th>\n",
       "      <th>popularity</th>\n",
       "      <th>production_companies</th>\n",
       "      <th>title</th>\n",
       "      <th>vote_average</th>\n",
       "      <th>vote_count</th>\n",
       "      <th>WR</th>\n",
       "    </tr>\n",
       "  </thead>\n",
       "  <tbody>\n",
       "    <tr>\n",
       "      <th>0</th>\n",
       "      <td>[{'id': 16, 'name': 'Animation'}, {'id': 35, '...</td>\n",
       "      <td>862</td>\n",
       "      <td>Led by Woody, Andy's toys live happily in his ...</td>\n",
       "      <td>21.946943</td>\n",
       "      <td>[{'name': 'Pixar Animation Studios', 'id': 3}]</td>\n",
       "      <td>Toy Story</td>\n",
       "      <td>7.7</td>\n",
       "      <td>5415.0</td>\n",
       "      <td>7.639057</td>\n",
       "    </tr>\n",
       "    <tr>\n",
       "      <th>1</th>\n",
       "      <td>[{'id': 12, 'name': 'Adventure'}, {'id': 14, '...</td>\n",
       "      <td>8844</td>\n",
       "      <td>When siblings Judy and Peter discover an encha...</td>\n",
       "      <td>17.015539</td>\n",
       "      <td>[{'name': 'TriStar Pictures', 'id': 559}, {'na...</td>\n",
       "      <td>Jumanji</td>\n",
       "      <td>6.9</td>\n",
       "      <td>2413.0</td>\n",
       "      <td>6.819293</td>\n",
       "    </tr>\n",
       "    <tr>\n",
       "      <th>4</th>\n",
       "      <td>[{'id': 35, 'name': 'Comedy'}]</td>\n",
       "      <td>11862</td>\n",
       "      <td>Just when George Banks has recovered from his ...</td>\n",
       "      <td>8.387519</td>\n",
       "      <td>[{'name': 'Sandollar Productions', 'id': 5842}...</td>\n",
       "      <td>Father of the Bride Part II</td>\n",
       "      <td>5.7</td>\n",
       "      <td>173.0</td>\n",
       "      <td>5.670231</td>\n",
       "    </tr>\n",
       "    <tr>\n",
       "      <th>5</th>\n",
       "      <td>[{'id': 28, 'name': 'Action'}, {'id': 80, 'nam...</td>\n",
       "      <td>949</td>\n",
       "      <td>Obsessive master thief, Neil McCauley leads a ...</td>\n",
       "      <td>17.924927</td>\n",
       "      <td>[{'name': 'Regency Enterprises', 'id': 508}, {...</td>\n",
       "      <td>Heat</td>\n",
       "      <td>7.7</td>\n",
       "      <td>1886.0</td>\n",
       "      <td>7.534197</td>\n",
       "    </tr>\n",
       "    <tr>\n",
       "      <th>8</th>\n",
       "      <td>[{'id': 28, 'name': 'Action'}, {'id': 12, 'nam...</td>\n",
       "      <td>9091</td>\n",
       "      <td>International action superstar Jean Claude Van...</td>\n",
       "      <td>5.23158</td>\n",
       "      <td>[{'name': 'Universal Pictures', 'id': 33}, {'n...</td>\n",
       "      <td>Sudden Death</td>\n",
       "      <td>5.5</td>\n",
       "      <td>174.0</td>\n",
       "      <td>5.567664</td>\n",
       "    </tr>\n",
       "  </tbody>\n",
       "</table>\n",
       "</div>"
      ],
      "text/plain": [
       "                                              genres     id   \n",
       "0  [{'id': 16, 'name': 'Animation'}, {'id': 35, '...    862  \\\n",
       "1  [{'id': 12, 'name': 'Adventure'}, {'id': 14, '...   8844   \n",
       "4                     [{'id': 35, 'name': 'Comedy'}]  11862   \n",
       "5  [{'id': 28, 'name': 'Action'}, {'id': 80, 'nam...    949   \n",
       "8  [{'id': 28, 'name': 'Action'}, {'id': 12, 'nam...   9091   \n",
       "\n",
       "                                            overview popularity   \n",
       "0  Led by Woody, Andy's toys live happily in his ...  21.946943  \\\n",
       "1  When siblings Judy and Peter discover an encha...  17.015539   \n",
       "4  Just when George Banks has recovered from his ...   8.387519   \n",
       "5  Obsessive master thief, Neil McCauley leads a ...  17.924927   \n",
       "8  International action superstar Jean Claude Van...    5.23158   \n",
       "\n",
       "                                production_companies   \n",
       "0     [{'name': 'Pixar Animation Studios', 'id': 3}]  \\\n",
       "1  [{'name': 'TriStar Pictures', 'id': 559}, {'na...   \n",
       "4  [{'name': 'Sandollar Productions', 'id': 5842}...   \n",
       "5  [{'name': 'Regency Enterprises', 'id': 508}, {...   \n",
       "8  [{'name': 'Universal Pictures', 'id': 33}, {'n...   \n",
       "\n",
       "                         title  vote_average  vote_count        WR  \n",
       "0                    Toy Story           7.7      5415.0  7.639057  \n",
       "1                      Jumanji           6.9      2413.0  6.819293  \n",
       "4  Father of the Bride Part II           5.7       173.0  5.670231  \n",
       "5                         Heat           7.7      1886.0  7.534197  \n",
       "8                 Sudden Death           5.5       174.0  5.567664  "
      ]
     },
     "execution_count": 15,
     "metadata": {},
     "output_type": "execute_result"
    }
   ],
   "source": [
    "%%time\n",
    "high_rated_films['WR'] = high_rated_films.apply(weighted_rating, axis=1, args=(m,C))\n",
    "high_rated_films.head()"
   ]
  },
  {
   "cell_type": "markdown",
   "id": "d0989b7e",
   "metadata": {},
   "source": [
    "### Рекомендация самых высокооцененных фильмов"
   ]
  },
  {
   "cell_type": "code",
   "execution_count": 16,
   "id": "83a433db",
   "metadata": {},
   "outputs": [
    {
     "data": {
      "image/png": "[encoded data removed]",
      "text/plain": [
       "<Figure size 864x360 with 1 Axes>"
      ]
     },
     "metadata": {
      "needs_background": "light"
     },
     "output_type": "display_data"
    },
    {
     "name": "stdout",
     "output_type": "stream",
     "text": [
      "Wall time: 472 ms\n"
     ]
    }
   ],
   "source": [
    "%%time\n",
    "\n",
    "# сортировка фильмов по убыванию score\n",
    "high_rated_films = high_rated_films.sort_values('WR', ascending=False)\n",
    "\n",
    "# топ-10 самых высокооцененных фильмов\n",
    "top_highest_rated = high_rated_films[['title', 'vote_count', 'vote_average', 'WR']].head(10)\n",
    "\n",
    "plt.figure(figsize=(12,5))\n",
    "\n",
    "plt.barh(top_highest_rated['title'], \n",
    "         top_highest_rated['WR'].head(10),\n",
    "         color='lightgreen'\n",
    ")\n",
    "\n",
    "plt.gca().invert_yaxis()\n",
    "plt.xlabel(\"Weighted Rating\")\n",
    "plt.title(\"Best Movies\")\n",
    "plt.show()"
   ]
  },
  {
   "cell_type": "markdown",
   "id": "d0387a4c",
   "metadata": {},
   "source": [
    "### Рекомендация самых популярных фильмов"
   ]
  },
  {
   "cell_type": "code",
   "execution_count": 17,
   "id": "679a2bff",
   "metadata": {},
   "outputs": [
    {
     "data": {
      "image/png": "[encoded data removed]",
      "text/plain": [
       "<Figure size 864x360 with 1 Axes>"
      ]
     },
     "metadata": {
      "needs_background": "light"
     },
     "output_type": "display_data"
    },
    {
     "name": "stdout",
     "output_type": "stream",
     "text": [
      "Wall time: 370 ms\n"
     ]
    }
   ],
   "source": [
    "%%time\n",
    "\n",
    "df2['popularity'] = df2['popularity'].astype('float64')\n",
    "\n",
    "popular_movies = df2.sort_values('popularity', ascending=False)\n",
    "\n",
    "plt.figure(figsize=(12,5))\n",
    "\n",
    "plt.barh(popular_movies['title'].head(10), \n",
    "         popular_movies['popularity'].head(10),\n",
    "         color='skyblue'\n",
    ")\n",
    "\n",
    "plt.gca().invert_yaxis()\n",
    "plt.xlabel(\"Popularity\")\n",
    "plt.title(\"Popular Movies\")\n",
    "plt.show()"
   ]
  },
  {
   "cell_type": "markdown",
   "id": "57b72ada",
   "metadata": {},
   "source": [
    "# Content-Based Filtering\n",
    "\n",
    "**Для заданного фильма найдем похожие на него по описанию**"
   ]
  },
  {
   "cell_type": "code",
   "execution_count": 18,
   "id": "c164fec2",
   "metadata": {},
   "outputs": [
    {
     "data": {
      "text/plain": [
       "0        Led by Woody, Andy's toys live happily in his ...\n",
       "1        When siblings Judy and Peter discover an encha...\n",
       "2        A family wedding reignites the ancient feud be...\n",
       "3        Cheated on, mistreated and stepped on, the wom...\n",
       "4        Just when George Banks has recovered from his ...\n",
       "                               ...                        \n",
       "44471          Rising and falling between a man and woman.\n",
       "44472    An artist struggles to finish his work while a...\n",
       "44473    When one of her hits goes wrong, a professiona...\n",
       "44474    In a small town live two brothers, one a minis...\n",
       "44475    50 years after decriminalisation of homosexual...\n",
       "Name: overview, Length: 44476, dtype: object"
      ]
     },
     "execution_count": 18,
     "metadata": {},
     "output_type": "execute_result"
    }
   ],
   "source": [
    "df2['overview']"
   ]
  },
  {
   "cell_type": "code",
   "execution_count": 19,
   "id": "763d3e49",
   "metadata": {},
   "outputs": [],
   "source": [
    "from sklearn.feature_extraction.text import TfidfVectorizer"
   ]
  },
  {
   "cell_type": "code",
   "execution_count": 20,
   "id": "a5b7b67e",
   "metadata": {},
   "outputs": [
    {
     "name": "stdout",
     "output_type": "stream",
     "text": [
      "Wall time: 4.79 s\n"
     ]
    },
    {
     "data": {
      "text/plain": [
       "(44476, 75827)"
      ]
     },
     "execution_count": 20,
     "metadata": {},
     "output_type": "execute_result"
    }
   ],
   "source": [
    "%%time\n",
    "tfidf = TfidfVectorizer(stop_words='english')\n",
    "# создание TF-IDF matrix\n",
    "tfidf_matrix = tfidf.fit_transform(df2['overview'])\n",
    "tfidf_matrix.shape"
   ]
  },
  {
   "cell_type": "code",
   "execution_count": 21,
   "id": "94f07db4",
   "metadata": {},
   "outputs": [
    {
     "data": {
      "text/plain": [
       "title\n",
       "Toy Story                      0\n",
       "Jumanji                        1\n",
       "Grumpier Old Men               2\n",
       "Waiting to Exhale              3\n",
       "Father of the Bride Part II    4\n",
       "dtype: int64"
      ]
     },
     "execution_count": 21,
     "metadata": {},
     "output_type": "execute_result"
    }
   ],
   "source": [
    "# создадим series, в которой индексы - названия фильмов\n",
    "indices = pd.Series(df2.index, index=df2['title']).drop_duplicates()\n",
    "indices.head()"
   ]
  },
  {
   "cell_type": "markdown",
   "id": "2a2d333b",
   "metadata": {},
   "source": [
    "### Создание рекомендации на основе сходства описаний фильмов"
   ]
  },
  {
   "cell_type": "markdown",
   "id": "b1d8c32e",
   "metadata": {},
   "source": [
    "**1. Cosine similarity**"
   ]
  },
  {
   "cell_type": "code",
   "execution_count": 22,
   "id": "413cffc5",
   "metadata": {},
   "outputs": [],
   "source": [
    "import numpy as np\n",
    "from sklearn.metrics.pairwise import cosine_similarity"
   ]
  },
  {
   "cell_type": "markdown",
   "id": "1978226c",
   "metadata": {},
   "source": [
    "$$\\text{similarity}(x,y) = \\frac{xy^T}{\\Vert x \\Vert \\Vert y \\Vert}$$"
   ]
  },
  {
   "cell_type": "code",
   "execution_count": 23,
   "id": "1f9fe4c5",
   "metadata": {},
   "outputs": [],
   "source": [
    "def get_recommendations_overview_cossim(title):\n",
    "    \n",
    "    # находим индекс фильма по title\n",
    "    idx = indices[title]\n",
    "    \n",
    "    # рассчитываем косинусное расстояние для конкретного фильма и всех остальных\n",
    "    cosine_sim = cosine_similarity(tfidf_matrix[idx], tfidf_matrix)[0]\n",
    "    \n",
    "    # сортируем\n",
    "    sorted_cosine_sim = cosine_sim.argsort()\n",
    "\n",
    "    # выводим 10 наиболее похожих фильмов\n",
    "    return df2['title'].iloc[sorted_cosine_sim[-11:-1]]"
   ]
  },
  {
   "cell_type": "code",
   "execution_count": 24,
   "id": "ea7c6677",
   "metadata": {},
   "outputs": [
    {
     "name": "stdout",
     "output_type": "stream",
     "text": [
      "Wall time: 80.9 ms\n"
     ]
    },
    {
     "data": {
      "text/plain": [
       "40783                           Alcatraz Island\n",
       "9196     Female Prisoner Scorpion: Jailhouse 41\n",
       "33663                   Women's Prison Massacre\n",
       "9361                                    In Hell\n",
       "17342                           Girls in Prison\n",
       "36063                            Women's Prison\n",
       "11292                               Brute Force\n",
       "38404                         Seven Times Seven\n",
       "6523                                Civil Brand\n",
       "16858                   They Made Me a Fugitive\n",
       "Name: title, dtype: object"
      ]
     },
     "execution_count": 24,
     "metadata": {},
     "output_type": "execute_result"
    }
   ],
   "source": [
    "%%time\n",
    "get_recommendations_overview_cossim('The Shawshank Redemption')"
   ]
  },
  {
   "cell_type": "code",
   "execution_count": 25,
   "id": "327521b3",
   "metadata": {},
   "outputs": [
    {
     "name": "stdout",
     "output_type": "stream",
     "text": [
      "Wall time: 76.5 ms\n"
     ]
    },
    {
     "data": {
      "text/plain": [
       "12458               Dead Awake\n",
       "35440             Frankenstein\n",
       "5315                   Perfect\n",
       "29873               Freerunner\n",
       "28123                    Julia\n",
       "22704                  In Fear\n",
       "23739           Make Your Move\n",
       "5181                 Delirious\n",
       "31390           Unknown Caller\n",
       "15388    9/11: The Twin Towers\n",
       "Name: title, dtype: object"
      ]
     },
     "execution_count": 25,
     "metadata": {},
     "output_type": "execute_result"
    }
   ],
   "source": [
    "%%time\n",
    "get_recommendations_overview_cossim('Fight Club')"
   ]
  },
  {
   "cell_type": "markdown",
   "id": "ea93ccea",
   "metadata": {},
   "source": [
    "**2. KMeans**"
   ]
  },
  {
   "cell_type": "code",
   "execution_count": 26,
   "id": "7aac9a8e",
   "metadata": {},
   "outputs": [],
   "source": [
    "from sklearn.cluster import KMeans"
   ]
  },
  {
   "cell_type": "code",
   "execution_count": 27,
   "id": "f7fbd990",
   "metadata": {},
   "outputs": [
    {
     "name": "stdout",
     "output_type": "stream",
     "text": [
      "Wall time: 3 ms\n"
     ]
    },
    {
     "data": {
      "text/plain": [
       "(4458, 75827)"
      ]
     },
     "execution_count": 27,
     "metadata": {},
     "output_type": "execute_result"
    }
   ],
   "source": [
    "%%time\n",
    "\n",
    "# отберем строки tfidf_matrix, соответсвующие фильмам с наибольшим рейтингом\n",
    "tfidf_matrix_for_KMeans = tfidf_matrix[high_rated_films.index]\n",
    "tfidf_matrix_for_KMeans.shape"
   ]
  },
  {
   "cell_type": "code",
   "execution_count": 28,
   "id": "f3f1f02a",
   "metadata": {},
   "outputs": [
    {
     "data": {
      "text/plain": [
       "14.86"
      ]
     },
     "execution_count": 28,
     "metadata": {},
     "output_type": "execute_result"
    }
   ],
   "source": [
    "4458 / 300"
   ]
  },
  {
   "cell_type": "code",
   "execution_count": 29,
   "id": "30157432",
   "metadata": {},
   "outputs": [
    {
     "name": "stdout",
     "output_type": "stream",
     "text": [
      "Wall time: 13.5 s\n"
     ]
    },
    {
     "data": {
      "text/plain": [
       "array([268, 233, 117,   5,  32, 243, 218, 203, 218, 281])"
      ]
     },
     "execution_count": 29,
     "metadata": {},
     "output_type": "execute_result"
    }
   ],
   "source": [
    "%%time\n",
    "# обучим модель, чтобы она кластерзовала фильмы по их описаниям\n",
    "kmeans = KMeans(n_clusters=300, random_state=0, n_init=\"auto\").fit(tfidf_matrix_for_KMeans)\n",
    "clustered_movies = kmeans.labels_\n",
    "\n",
    "clustered_movies[:10]"
   ]
  },
  {
   "cell_type": "code",
   "execution_count": 30,
   "id": "6cd879a0",
   "metadata": {},
   "outputs": [],
   "source": [
    "def get_recommendations_overview_KMeans(title):\n",
    "    \n",
    "    # находим индекс фильма по title\n",
    "    df_t = high_rated_films.reset_index(drop=True)\n",
    "    idx = (df_t[df_t['title']==title]).index[0]\n",
    "    \n",
    "    # получаем названия наиболее похожих фильмов\n",
    "    recommendation = high_rated_films['title'].iloc[clustered_movies==clustered_movies[idx]]\n",
    "\n",
    "    return recommendation"
   ]
  },
  {
   "cell_type": "code",
   "execution_count": 31,
   "id": "17bb10c3",
   "metadata": {
    "scrolled": true
   },
   "outputs": [
    {
     "name": "stdout",
     "output_type": "stream",
     "text": [
      "Wall time: 6.07 ms\n"
     ]
    },
    {
     "data": {
      "text/plain": [
       "312      The Shawshank Redemption\n",
       "28212              McFarland, USA\n",
       "257             A Little Princess\n",
       "979                 Cool Runnings\n",
       "4716              The Last Castle\n",
       "11174                  Invincible\n",
       "11428             We Are Marshall\n",
       "10063            The Longest Yard\n",
       "6056         Bend It Like Beckham\n",
       "2203                 The Waterboy\n",
       "9792                 Ice Princess\n",
       "Name: title, dtype: object"
      ]
     },
     "execution_count": 31,
     "metadata": {},
     "output_type": "execute_result"
    }
   ],
   "source": [
    "%%time\n",
    "get_recommendations_overview_KMeans('The Shawshank Redemption')"
   ]
  },
  {
   "cell_type": "code",
   "execution_count": 32,
   "id": "3e8b84cf",
   "metadata": {},
   "outputs": [
    {
     "name": "stdout",
     "output_type": "stream",
     "text": [
      "Wall time: 5.56 ms\n"
     ]
    },
    {
     "data": {
      "text/plain": [
       "2824                                  Fight Club\n",
       "1187                          Dead Poets Society\n",
       "12981                                   The Wave\n",
       "9425                                  The Chorus\n",
       "11772                            This Is England\n",
       "7320                                 Le Samouraï\n",
       "31127                 I Can Quit Whenever I Want\n",
       "22155                            Fuck You Goethe\n",
       "16883                                Melancholia\n",
       "18659                                 Detachment\n",
       "804                                      Matilda\n",
       "6689                              School of Rock\n",
       "27374                                   The DUFF\n",
       "20503                               In the House\n",
       "3312                Guess Who's Coming to Dinner\n",
       "15739                                     Easy A\n",
       "4751                        The Devil's Backbone\n",
       "15973                Undisputed III : Redemption\n",
       "8221                               Bad Education\n",
       "11275                               The Guardian\n",
       "11446                         Notes on a Scandal\n",
       "2466                                    Election\n",
       "13901                             The Ugly Truth\n",
       "23570                            Wish I Was Here\n",
       "17915                        What's Your Number?\n",
       "14146                       World's Greatest Dad\n",
       "4513                   See No Evil, Hear No Evil\n",
       "3302                                    Red Dawn\n",
       "11156                                   Accepted\n",
       "41092                                 Fist Fight\n",
       "10419                              Elizabethtown\n",
       "27195                                   Expelled\n",
       "13461                                    Knowing\n",
       "3111             Sister Act 2: Back in the Habit\n",
       "2449                           Never Been Kissed\n",
       "37783                    A Hologram for the King\n",
       "6170                    The Lizzie McGuire Movie\n",
       "2353                              She's All That\n",
       "32283                                    Cooties\n",
       "35828                            Serial Teachers\n",
       "19684                                   Red Dawn\n",
       "6361       Legally Blonde 2: Red, White & Blonde\n",
       "21108                               Mean Girls 2\n",
       "6088                                Dreamcatcher\n",
       "31173                                The Gallows\n",
       "6308     Dumb and Dumberer: When Harry Met Lloyd\n",
       "Name: title, dtype: object"
      ]
     },
     "execution_count": 32,
     "metadata": {},
     "output_type": "execute_result"
    }
   ],
   "source": [
    "%%time\n",
    "get_recommendations_overview_KMeans('Fight Club')"
   ]
  },
  {
   "cell_type": "markdown",
   "id": "6cd3cb09",
   "metadata": {},
   "source": [
    "### Используя жанры, ключевые слова, состав актеров и режиссеров"
   ]
  },
  {
   "cell_type": "code",
   "execution_count": 33,
   "id": "35b073a0",
   "metadata": {},
   "outputs": [
    {
     "name": "stdout",
     "output_type": "stream",
     "text": [
      "Wall time: 5.2 s\n"
     ]
    },
    {
     "data": {
      "text/plain": [
       "((46419, 2), (45476, 3))"
      ]
     },
     "execution_count": 33,
     "metadata": {},
     "output_type": "execute_result"
    }
   ],
   "source": [
    "%%time\n",
    "df_keywords = pd.read_csv('keywords.csv', dtype={'id': 'object'})\n",
    "df_credits = pd.read_csv('credits.csv', dtype={'id': 'object'})\n",
    "\n",
    "df_keywords.shape, df_credits.shape"
   ]
  },
  {
   "cell_type": "markdown",
   "id": "44b7648a",
   "metadata": {},
   "source": [
    "**Дополним датасет дополнительной информацей о фильме**"
   ]
  },
  {
   "cell_type": "code",
   "execution_count": 34,
   "id": "daa80d74",
   "metadata": {},
   "outputs": [
    {
     "name": "stdout",
     "output_type": "stream",
     "text": [
      "Wall time: 136 ms\n"
     ]
    },
    {
     "data": {
      "text/html": [
       "<div>\n",
       "<style scoped>\n",
       "    .dataframe tbody tr th:only-of-type {\n",
       "        vertical-align: middle;\n",
       "    }\n",
       "\n",
       "    .dataframe tbody tr th {\n",
       "        vertical-align: top;\n",
       "    }\n",
       "\n",
       "    .dataframe thead th {\n",
       "        text-align: right;\n",
       "    }\n",
       "</style>\n",
       "<table border=\"1\" class=\"dataframe\">\n",
       "  <thead>\n",
       "    <tr style=\"text-align: right;\">\n",
       "      <th></th>\n",
       "      <th>genres</th>\n",
       "      <th>id</th>\n",
       "      <th>overview</th>\n",
       "      <th>popularity</th>\n",
       "      <th>production_companies</th>\n",
       "      <th>title</th>\n",
       "      <th>vote_average</th>\n",
       "      <th>vote_count</th>\n",
       "      <th>keywords</th>\n",
       "      <th>cast</th>\n",
       "      <th>crew</th>\n",
       "    </tr>\n",
       "  </thead>\n",
       "  <tbody>\n",
       "    <tr>\n",
       "      <th>0</th>\n",
       "      <td>[{'id': 16, 'name': 'Animation'}, {'id': 35, '...</td>\n",
       "      <td>862</td>\n",
       "      <td>Led by Woody, Andy's toys live happily in his ...</td>\n",
       "      <td>21.946943</td>\n",
       "      <td>[{'name': 'Pixar Animation Studios', 'id': 3}]</td>\n",
       "      <td>Toy Story</td>\n",
       "      <td>7.7</td>\n",
       "      <td>5415.0</td>\n",
       "      <td>[{'id': 931, 'name': 'jealousy'}, {'id': 4290,...</td>\n",
       "      <td>[{'cast_id': 14, 'character': 'Woody (voice)',...</td>\n",
       "      <td>[{'credit_id': '52fe4284c3a36847f8024f49', 'de...</td>\n",
       "    </tr>\n",
       "    <tr>\n",
       "      <th>1</th>\n",
       "      <td>[{'id': 12, 'name': 'Adventure'}, {'id': 14, '...</td>\n",
       "      <td>8844</td>\n",
       "      <td>When siblings Judy and Peter discover an encha...</td>\n",
       "      <td>17.015539</td>\n",
       "      <td>[{'name': 'TriStar Pictures', 'id': 559}, {'na...</td>\n",
       "      <td>Jumanji</td>\n",
       "      <td>6.9</td>\n",
       "      <td>2413.0</td>\n",
       "      <td>[{'id': 10090, 'name': 'board game'}, {'id': 1...</td>\n",
       "      <td>[{'cast_id': 1, 'character': 'Alan Parrish', '...</td>\n",
       "      <td>[{'credit_id': '52fe44bfc3a36847f80a7cd1', 'de...</td>\n",
       "    </tr>\n",
       "    <tr>\n",
       "      <th>2</th>\n",
       "      <td>[{'id': 10749, 'name': 'Romance'}, {'id': 35, ...</td>\n",
       "      <td>15602</td>\n",
       "      <td>A family wedding reignites the ancient feud be...</td>\n",
       "      <td>11.712900</td>\n",
       "      <td>[{'name': 'Warner Bros.', 'id': 6194}, {'name'...</td>\n",
       "      <td>Grumpier Old Men</td>\n",
       "      <td>6.5</td>\n",
       "      <td>92.0</td>\n",
       "      <td>[{'id': 1495, 'name': 'fishing'}, {'id': 12392...</td>\n",
       "      <td>[{'cast_id': 2, 'character': 'Max Goldman', 'c...</td>\n",
       "      <td>[{'credit_id': '52fe466a9251416c75077a89', 'de...</td>\n",
       "    </tr>\n",
       "    <tr>\n",
       "      <th>3</th>\n",
       "      <td>[{'id': 35, 'name': 'Comedy'}, {'id': 18, 'nam...</td>\n",
       "      <td>31357</td>\n",
       "      <td>Cheated on, mistreated and stepped on, the wom...</td>\n",
       "      <td>3.859495</td>\n",
       "      <td>[{'name': 'Twentieth Century Fox Film Corporat...</td>\n",
       "      <td>Waiting to Exhale</td>\n",
       "      <td>6.1</td>\n",
       "      <td>34.0</td>\n",
       "      <td>[{'id': 818, 'name': 'based on novel'}, {'id':...</td>\n",
       "      <td>[{'cast_id': 1, 'character': \"Savannah 'Vannah...</td>\n",
       "      <td>[{'credit_id': '52fe44779251416c91011acb', 'de...</td>\n",
       "    </tr>\n",
       "    <tr>\n",
       "      <th>4</th>\n",
       "      <td>[{'id': 35, 'name': 'Comedy'}]</td>\n",
       "      <td>11862</td>\n",
       "      <td>Just when George Banks has recovered from his ...</td>\n",
       "      <td>8.387519</td>\n",
       "      <td>[{'name': 'Sandollar Productions', 'id': 5842}...</td>\n",
       "      <td>Father of the Bride Part II</td>\n",
       "      <td>5.7</td>\n",
       "      <td>173.0</td>\n",
       "      <td>[{'id': 1009, 'name': 'baby'}, {'id': 1599, 'n...</td>\n",
       "      <td>[{'cast_id': 1, 'character': 'George Banks', '...</td>\n",
       "      <td>[{'credit_id': '52fe44959251416c75039ed7', 'de...</td>\n",
       "    </tr>\n",
       "  </tbody>\n",
       "</table>\n",
       "</div>"
      ],
      "text/plain": [
       "                                              genres     id   \n",
       "0  [{'id': 16, 'name': 'Animation'}, {'id': 35, '...    862  \\\n",
       "1  [{'id': 12, 'name': 'Adventure'}, {'id': 14, '...   8844   \n",
       "2  [{'id': 10749, 'name': 'Romance'}, {'id': 35, ...  15602   \n",
       "3  [{'id': 35, 'name': 'Comedy'}, {'id': 18, 'nam...  31357   \n",
       "4                     [{'id': 35, 'name': 'Comedy'}]  11862   \n",
       "\n",
       "                                            overview  popularity   \n",
       "0  Led by Woody, Andy's toys live happily in his ...   21.946943  \\\n",
       "1  When siblings Judy and Peter discover an encha...   17.015539   \n",
       "2  A family wedding reignites the ancient feud be...   11.712900   \n",
       "3  Cheated on, mistreated and stepped on, the wom...    3.859495   \n",
       "4  Just when George Banks has recovered from his ...    8.387519   \n",
       "\n",
       "                                production_companies   \n",
       "0     [{'name': 'Pixar Animation Studios', 'id': 3}]  \\\n",
       "1  [{'name': 'TriStar Pictures', 'id': 559}, {'na...   \n",
       "2  [{'name': 'Warner Bros.', 'id': 6194}, {'name'...   \n",
       "3  [{'name': 'Twentieth Century Fox Film Corporat...   \n",
       "4  [{'name': 'Sandollar Productions', 'id': 5842}...   \n",
       "\n",
       "                         title  vote_average  vote_count   \n",
       "0                    Toy Story           7.7      5415.0  \\\n",
       "1                      Jumanji           6.9      2413.0   \n",
       "2             Grumpier Old Men           6.5        92.0   \n",
       "3            Waiting to Exhale           6.1        34.0   \n",
       "4  Father of the Bride Part II           5.7       173.0   \n",
       "\n",
       "                                            keywords   \n",
       "0  [{'id': 931, 'name': 'jealousy'}, {'id': 4290,...  \\\n",
       "1  [{'id': 10090, 'name': 'board game'}, {'id': 1...   \n",
       "2  [{'id': 1495, 'name': 'fishing'}, {'id': 12392...   \n",
       "3  [{'id': 818, 'name': 'based on novel'}, {'id':...   \n",
       "4  [{'id': 1009, 'name': 'baby'}, {'id': 1599, 'n...   \n",
       "\n",
       "                                                cast   \n",
       "0  [{'cast_id': 14, 'character': 'Woody (voice)',...  \\\n",
       "1  [{'cast_id': 1, 'character': 'Alan Parrish', '...   \n",
       "2  [{'cast_id': 2, 'character': 'Max Goldman', 'c...   \n",
       "3  [{'cast_id': 1, 'character': \"Savannah 'Vannah...   \n",
       "4  [{'cast_id': 1, 'character': 'George Banks', '...   \n",
       "\n",
       "                                                crew  \n",
       "0  [{'credit_id': '52fe4284c3a36847f8024f49', 'de...  \n",
       "1  [{'credit_id': '52fe44bfc3a36847f80a7cd1', 'de...  \n",
       "2  [{'credit_id': '52fe466a9251416c75077a89', 'de...  \n",
       "3  [{'credit_id': '52fe44779251416c91011acb', 'de...  \n",
       "4  [{'credit_id': '52fe44959251416c75039ed7', 'de...  "
      ]
     },
     "execution_count": 34,
     "metadata": {},
     "output_type": "execute_result"
    }
   ],
   "source": [
    "%%time\n",
    "df2 = df2.merge(df_keywords, on='id')\n",
    "df2 = df2.merge(df_credits, on='id')\n",
    "df2.head()"
   ]
  },
  {
   "cell_type": "code",
   "execution_count": 35,
   "id": "3193a0d5",
   "metadata": {},
   "outputs": [
    {
     "data": {
      "text/plain": [
       "0"
      ]
     },
     "execution_count": 35,
     "metadata": {},
     "output_type": "execute_result"
    }
   ],
   "source": [
    "# проверим наличие пропусков\n",
    "df2.isna().sum().sum()"
   ]
  },
  {
   "cell_type": "code",
   "execution_count": 36,
   "id": "9f44be2b",
   "metadata": {},
   "outputs": [
    {
     "data": {
      "text/plain": [
       "957"
      ]
     },
     "execution_count": 36,
     "metadata": {},
     "output_type": "execute_result"
    }
   ],
   "source": [
    "sum(df2['id'].value_counts()>1)"
   ]
  },
  {
   "cell_type": "code",
   "execution_count": 37,
   "id": "0e07d6b4",
   "metadata": {},
   "outputs": [
    {
     "data": {
      "text/plain": [
       "0"
      ]
     },
     "execution_count": 37,
     "metadata": {},
     "output_type": "execute_result"
    }
   ],
   "source": [
    "df2 = df2.drop_duplicates(subset='id').reset_index(drop=True)\n",
    "sum(df2['id'].value_counts()>1)"
   ]
  },
  {
   "cell_type": "code",
   "execution_count": 38,
   "id": "ff6f9123",
   "metadata": {},
   "outputs": [
    {
     "data": {
      "text/plain": [
       "(44475, 11)"
      ]
     },
     "execution_count": 38,
     "metadata": {},
     "output_type": "execute_result"
    }
   ],
   "source": [
    "df2.shape"
   ]
  },
  {
   "cell_type": "markdown",
   "id": "a7ff4633",
   "metadata": {},
   "source": [
    "**Некоторые признаки записаны в виде строк вида '[{}, {}]', их нужно преобразовать к списку словарей**"
   ]
  },
  {
   "cell_type": "code",
   "execution_count": 39,
   "id": "df44b37d",
   "metadata": {},
   "outputs": [
    {
     "name": "stdout",
     "output_type": "stream",
     "text": [
      "Overwriting conver_strlist.py\n"
     ]
    }
   ],
   "source": [
    "%%file conver_strlist.py\n",
    "from ast import literal_eval\n",
    "def conver_strlist(dff):\n",
    "    # получим список жанров\n",
    "    dff['genres'] = dff['genres'].apply(literal_eval).apply(lambda x: [i['name'] for i in x])\n",
    "\n",
    "    # получим список компаний\n",
    "    dff['production_companies'] = dff['production_companies'].apply(literal_eval).apply(lambda x: [i['name'] for i in x])\n",
    "\n",
    "    # получим список ключевых слов\n",
    "    dff['keywords'] = dff['keywords'].apply(literal_eval).apply(lambda x: [i['name'] for i in x])\n",
    "\n",
    "    # получим список актеров\n",
    "    dff['cast'] = dff['cast'].apply(literal_eval).apply(lambda x: [i['name'] for i in x])\n",
    "\n",
    "    # получим список режиссеров\n",
    "    dff['crew'] = dff['crew'].apply(literal_eval).apply(lambda x: [i['name'] for i in x if i['job']=='Director'])\n",
    "    \n",
    "    return dff"
   ]
  },
  {
   "cell_type": "code",
   "execution_count": 40,
   "id": "c9260635",
   "metadata": {},
   "outputs": [],
   "source": [
    "from ast import literal_eval\n",
    "import multiprocessing\n",
    "from conver_strlist import conver_strlist"
   ]
  },
  {
   "cell_type": "code",
   "execution_count": 41,
   "id": "e532f5d7",
   "metadata": {},
   "outputs": [
    {
     "name": "stdout",
     "output_type": "stream",
     "text": [
      "Wall time: 14.7 s\n"
     ]
    },
    {
     "data": {
      "text/html": [
       "<div>\n",
       "<style scoped>\n",
       "    .dataframe tbody tr th:only-of-type {\n",
       "        vertical-align: middle;\n",
       "    }\n",
       "\n",
       "    .dataframe tbody tr th {\n",
       "        vertical-align: top;\n",
       "    }\n",
       "\n",
       "    .dataframe thead th {\n",
       "        text-align: right;\n",
       "    }\n",
       "</style>\n",
       "<table border=\"1\" class=\"dataframe\">\n",
       "  <thead>\n",
       "    <tr style=\"text-align: right;\">\n",
       "      <th></th>\n",
       "      <th>genres</th>\n",
       "      <th>id</th>\n",
       "      <th>overview</th>\n",
       "      <th>popularity</th>\n",
       "      <th>production_companies</th>\n",
       "      <th>title</th>\n",
       "      <th>vote_average</th>\n",
       "      <th>vote_count</th>\n",
       "      <th>keywords</th>\n",
       "      <th>cast</th>\n",
       "      <th>crew</th>\n",
       "    </tr>\n",
       "  </thead>\n",
       "  <tbody>\n",
       "    <tr>\n",
       "      <th>0</th>\n",
       "      <td>[Animation, Comedy, Family]</td>\n",
       "      <td>862</td>\n",
       "      <td>Led by Woody, Andy's toys live happily in his ...</td>\n",
       "      <td>21.946943</td>\n",
       "      <td>[Pixar Animation Studios]</td>\n",
       "      <td>Toy Story</td>\n",
       "      <td>7.7</td>\n",
       "      <td>5415.0</td>\n",
       "      <td>[jealousy, toy, boy, friendship, friends, riva...</td>\n",
       "      <td>[Tom Hanks, Tim Allen, Don Rickles, Jim Varney...</td>\n",
       "      <td>[John Lasseter]</td>\n",
       "    </tr>\n",
       "    <tr>\n",
       "      <th>1</th>\n",
       "      <td>[Adventure, Fantasy, Family]</td>\n",
       "      <td>8844</td>\n",
       "      <td>When siblings Judy and Peter discover an encha...</td>\n",
       "      <td>17.015539</td>\n",
       "      <td>[TriStar Pictures, Teitler Film, Interscope Co...</td>\n",
       "      <td>Jumanji</td>\n",
       "      <td>6.9</td>\n",
       "      <td>2413.0</td>\n",
       "      <td>[board game, disappearance, based on children'...</td>\n",
       "      <td>[Robin Williams, Jonathan Hyde, Kirsten Dunst,...</td>\n",
       "      <td>[Joe Johnston]</td>\n",
       "    </tr>\n",
       "    <tr>\n",
       "      <th>2</th>\n",
       "      <td>[Romance, Comedy]</td>\n",
       "      <td>15602</td>\n",
       "      <td>A family wedding reignites the ancient feud be...</td>\n",
       "      <td>11.712900</td>\n",
       "      <td>[Warner Bros., Lancaster Gate]</td>\n",
       "      <td>Grumpier Old Men</td>\n",
       "      <td>6.5</td>\n",
       "      <td>92.0</td>\n",
       "      <td>[fishing, best friend, duringcreditsstinger, o...</td>\n",
       "      <td>[Walter Matthau, Jack Lemmon, Ann-Margret, Sop...</td>\n",
       "      <td>[Howard Deutch]</td>\n",
       "    </tr>\n",
       "    <tr>\n",
       "      <th>3</th>\n",
       "      <td>[Comedy, Drama, Romance]</td>\n",
       "      <td>31357</td>\n",
       "      <td>Cheated on, mistreated and stepped on, the wom...</td>\n",
       "      <td>3.859495</td>\n",
       "      <td>[Twentieth Century Fox Film Corporation]</td>\n",
       "      <td>Waiting to Exhale</td>\n",
       "      <td>6.1</td>\n",
       "      <td>34.0</td>\n",
       "      <td>[based on novel, interracial relationship, sin...</td>\n",
       "      <td>[Whitney Houston, Angela Bassett, Loretta Devi...</td>\n",
       "      <td>[Forest Whitaker]</td>\n",
       "    </tr>\n",
       "    <tr>\n",
       "      <th>4</th>\n",
       "      <td>[Comedy]</td>\n",
       "      <td>11862</td>\n",
       "      <td>Just when George Banks has recovered from his ...</td>\n",
       "      <td>8.387519</td>\n",
       "      <td>[Sandollar Productions, Touchstone Pictures]</td>\n",
       "      <td>Father of the Bride Part II</td>\n",
       "      <td>5.7</td>\n",
       "      <td>173.0</td>\n",
       "      <td>[baby, midlife crisis, confidence, aging, daug...</td>\n",
       "      <td>[Steve Martin, Diane Keaton, Martin Short, Kim...</td>\n",
       "      <td>[Charles Shyer]</td>\n",
       "    </tr>\n",
       "  </tbody>\n",
       "</table>\n",
       "</div>"
      ],
      "text/plain": [
       "                         genres     id   \n",
       "0   [Animation, Comedy, Family]    862  \\\n",
       "1  [Adventure, Fantasy, Family]   8844   \n",
       "2             [Romance, Comedy]  15602   \n",
       "3      [Comedy, Drama, Romance]  31357   \n",
       "4                      [Comedy]  11862   \n",
       "\n",
       "                                            overview  popularity   \n",
       "0  Led by Woody, Andy's toys live happily in his ...   21.946943  \\\n",
       "1  When siblings Judy and Peter discover an encha...   17.015539   \n",
       "2  A family wedding reignites the ancient feud be...   11.712900   \n",
       "3  Cheated on, mistreated and stepped on, the wom...    3.859495   \n",
       "4  Just when George Banks has recovered from his ...    8.387519   \n",
       "\n",
       "                                production_companies   \n",
       "0                          [Pixar Animation Studios]  \\\n",
       "1  [TriStar Pictures, Teitler Film, Interscope Co...   \n",
       "2                     [Warner Bros., Lancaster Gate]   \n",
       "3           [Twentieth Century Fox Film Corporation]   \n",
       "4       [Sandollar Productions, Touchstone Pictures]   \n",
       "\n",
       "                         title  vote_average  vote_count   \n",
       "0                    Toy Story           7.7      5415.0  \\\n",
       "1                      Jumanji           6.9      2413.0   \n",
       "2             Grumpier Old Men           6.5        92.0   \n",
       "3            Waiting to Exhale           6.1        34.0   \n",
       "4  Father of the Bride Part II           5.7       173.0   \n",
       "\n",
       "                                            keywords   \n",
       "0  [jealousy, toy, boy, friendship, friends, riva...  \\\n",
       "1  [board game, disappearance, based on children'...   \n",
       "2  [fishing, best friend, duringcreditsstinger, o...   \n",
       "3  [based on novel, interracial relationship, sin...   \n",
       "4  [baby, midlife crisis, confidence, aging, daug...   \n",
       "\n",
       "                                                cast               crew  \n",
       "0  [Tom Hanks, Tim Allen, Don Rickles, Jim Varney...    [John Lasseter]  \n",
       "1  [Robin Williams, Jonathan Hyde, Kirsten Dunst,...     [Joe Johnston]  \n",
       "2  [Walter Matthau, Jack Lemmon, Ann-Margret, Sop...    [Howard Deutch]  \n",
       "3  [Whitney Houston, Angela Bassett, Loretta Devi...  [Forest Whitaker]  \n",
       "4  [Steve Martin, Diane Keaton, Martin Short, Kim...    [Charles Shyer]  "
      ]
     },
     "execution_count": 41,
     "metadata": {},
     "output_type": "execute_result"
    }
   ],
   "source": [
    "%%time\n",
    "num_cores = multiprocessing.cpu_count()\n",
    "df2_split = np.array_split(df2, num_cores, axis=0)\n",
    "\n",
    "with multiprocessing.Pool(processes=num_cores) as pool:\n",
    "    df_extra_info = pd.concat(pool.map(conver_strlist, df2_split))\n",
    "    \n",
    "df_extra_info.head()"
   ]
  },
  {
   "cell_type": "markdown",
   "id": "d57cd460",
   "metadata": {},
   "source": [
    "**Преобразуем данные:**\n",
    "* приведем слова к нижнему регистру\n",
    "* удалим пробелы, чтобы различать разных людей с одним именем, например, Tom Hardy и Tom Cruise**"
   ]
  },
  {
   "cell_type": "code",
   "execution_count": 47,
   "id": "baf23920",
   "metadata": {},
   "outputs": [
    {
     "name": "stdout",
     "output_type": "stream",
     "text": [
      "Overwriting convert_low_nospace.py\n"
     ]
    }
   ],
   "source": [
    "%%file convert_low_nospace.py\n",
    "def convert_low_nospace(dff):\n",
    "    features = ['title', 'genres','production_companies','keywords','crew']\n",
    "    \n",
    "    for feature in features[1:]:\n",
    "        dff[feature] = dff[feature].apply(\n",
    "            lambda x: [i.replace(\" \", \"\").lower() for i in x]\n",
    "        )\n",
    "    \n",
    "    return dff[features]"
   ]
  },
  {
   "cell_type": "code",
   "execution_count": 48,
   "id": "88916d67",
   "metadata": {},
   "outputs": [],
   "source": [
    "from convert_low_nospace import convert_low_nospace"
   ]
  },
  {
   "cell_type": "code",
   "execution_count": 49,
   "id": "52441048",
   "metadata": {
    "scrolled": false
   },
   "outputs": [
    {
     "name": "stdout",
     "output_type": "stream",
     "text": [
      "Wall time: 2.96 s\n"
     ]
    },
    {
     "data": {
      "text/html": [
       "<div>\n",
       "<style scoped>\n",
       "    .dataframe tbody tr th:only-of-type {\n",
       "        vertical-align: middle;\n",
       "    }\n",
       "\n",
       "    .dataframe tbody tr th {\n",
       "        vertical-align: top;\n",
       "    }\n",
       "\n",
       "    .dataframe thead th {\n",
       "        text-align: right;\n",
       "    }\n",
       "</style>\n",
       "<table border=\"1\" class=\"dataframe\">\n",
       "  <thead>\n",
       "    <tr style=\"text-align: right;\">\n",
       "      <th></th>\n",
       "      <th>title</th>\n",
       "      <th>genres</th>\n",
       "      <th>production_companies</th>\n",
       "      <th>keywords</th>\n",
       "      <th>crew</th>\n",
       "    </tr>\n",
       "  </thead>\n",
       "  <tbody>\n",
       "    <tr>\n",
       "      <th>0</th>\n",
       "      <td>Toy Story</td>\n",
       "      <td>[animation, comedy, family]</td>\n",
       "      <td>[pixaranimationstudios]</td>\n",
       "      <td>[jealousy, toy, boy, friendship, friends, riva...</td>\n",
       "      <td>[johnlasseter]</td>\n",
       "    </tr>\n",
       "    <tr>\n",
       "      <th>1</th>\n",
       "      <td>Jumanji</td>\n",
       "      <td>[adventure, fantasy, family]</td>\n",
       "      <td>[tristarpictures, teitlerfilm, interscopecommu...</td>\n",
       "      <td>[boardgame, disappearance, basedonchildren'sbo...</td>\n",
       "      <td>[joejohnston]</td>\n",
       "    </tr>\n",
       "    <tr>\n",
       "      <th>2</th>\n",
       "      <td>Grumpier Old Men</td>\n",
       "      <td>[romance, comedy]</td>\n",
       "      <td>[warnerbros., lancastergate]</td>\n",
       "      <td>[fishing, bestfriend, duringcreditsstinger, ol...</td>\n",
       "      <td>[howarddeutch]</td>\n",
       "    </tr>\n",
       "    <tr>\n",
       "      <th>3</th>\n",
       "      <td>Waiting to Exhale</td>\n",
       "      <td>[comedy, drama, romance]</td>\n",
       "      <td>[twentiethcenturyfoxfilmcorporation]</td>\n",
       "      <td>[basedonnovel, interracialrelationship, single...</td>\n",
       "      <td>[forestwhitaker]</td>\n",
       "    </tr>\n",
       "    <tr>\n",
       "      <th>4</th>\n",
       "      <td>Father of the Bride Part II</td>\n",
       "      <td>[comedy]</td>\n",
       "      <td>[sandollarproductions, touchstonepictures]</td>\n",
       "      <td>[baby, midlifecrisis, confidence, aging, daugh...</td>\n",
       "      <td>[charlesshyer]</td>\n",
       "    </tr>\n",
       "  </tbody>\n",
       "</table>\n",
       "</div>"
      ],
      "text/plain": [
       "                         title                        genres   \n",
       "0                    Toy Story   [animation, comedy, family]  \\\n",
       "1                      Jumanji  [adventure, fantasy, family]   \n",
       "2             Grumpier Old Men             [romance, comedy]   \n",
       "3            Waiting to Exhale      [comedy, drama, romance]   \n",
       "4  Father of the Bride Part II                      [comedy]   \n",
       "\n",
       "                                production_companies   \n",
       "0                            [pixaranimationstudios]  \\\n",
       "1  [tristarpictures, teitlerfilm, interscopecommu...   \n",
       "2                       [warnerbros., lancastergate]   \n",
       "3               [twentiethcenturyfoxfilmcorporation]   \n",
       "4         [sandollarproductions, touchstonepictures]   \n",
       "\n",
       "                                            keywords              crew  \n",
       "0  [jealousy, toy, boy, friendship, friends, riva...    [johnlasseter]  \n",
       "1  [boardgame, disappearance, basedonchildren'sbo...     [joejohnston]  \n",
       "2  [fishing, bestfriend, duringcreditsstinger, ol...    [howarddeutch]  \n",
       "3  [basedonnovel, interracialrelationship, single...  [forestwhitaker]  \n",
       "4  [baby, midlifecrisis, confidence, aging, daugh...    [charlesshyer]  "
      ]
     },
     "execution_count": 49,
     "metadata": {},
     "output_type": "execute_result"
    }
   ],
   "source": [
    "%%time\n",
    "num_cores = multiprocessing.cpu_count()\n",
    "df_extra_info_split = np.array_split(df_extra_info, num_cores, axis=0)\n",
    "\n",
    "with multiprocessing.Pool(processes=num_cores) as pool:\n",
    "    df_with_cast = pd.concat(pool.map(convert_low_nospace, df_extra_info_split))\n",
    "    \n",
    "df_with_cast.head()"
   ]
  },
  {
   "cell_type": "markdown",
   "id": "c32870b4",
   "metadata": {},
   "source": [
    "**Получим текстовую строку с информацией**"
   ]
  },
  {
   "cell_type": "code",
   "execution_count": 50,
   "id": "17521795",
   "metadata": {},
   "outputs": [
    {
     "name": "stdout",
     "output_type": "stream",
     "text": [
      "Wall time: 503 ms\n"
     ]
    },
    {
     "data": {
      "text/plain": [
       "0        animation comedy family pixaranimationstudios ...\n",
       "1        adventure fantasy family tristarpictures teitl...\n",
       "2        romance comedy warnerbros. lancastergate fishi...\n",
       "3        comedy drama romance twentiethcenturyfoxfilmco...\n",
       "4        comedy sandollarproductions touchstonepictures...\n",
       "                               ...                        \n",
       "44470              drama family tragiclove hamidnematollah\n",
       "44471           drama sineolivia artist play pinoy lavdiaz\n",
       "44472    action drama thriller americanworldpictures ma...\n",
       "44473                            yermoliev yakovprotazanov\n",
       "44474                                         daisyasquith\n",
       "Name: genres, Length: 44475, dtype: object"
      ]
     },
     "execution_count": 50,
     "metadata": {},
     "output_type": "execute_result"
    }
   ],
   "source": [
    "%%time\n",
    "soup = df_with_cast['genres'].copy()\n",
    "for i in features[1:]:\n",
    "    soup += df_with_cast[i].copy()\n",
    "soup = soup.apply(lambda x: ' '.join(x))\n",
    "soup"
   ]
  },
  {
   "cell_type": "markdown",
   "id": "ee6935fb",
   "metadata": {},
   "source": [
    "**Создание рекомендации на основе сходства жанров, ключевых слов, состава команды**"
   ]
  },
  {
   "cell_type": "code",
   "execution_count": 51,
   "id": "780a8330",
   "metadata": {},
   "outputs": [],
   "source": [
    "from sklearn.feature_extraction.text import CountVectorizer\n",
    "from sklearn.metrics.pairwise import cosine_similarity"
   ]
  },
  {
   "cell_type": "code",
   "execution_count": 52,
   "id": "a2df5008",
   "metadata": {},
   "outputs": [],
   "source": [
    "CntVctr = CountVectorizer(stop_words='english')\n",
    "count_matrix = CntVctr.fit_transform(soup)"
   ]
  },
  {
   "cell_type": "code",
   "execution_count": 63,
   "id": "0851bc98",
   "metadata": {},
   "outputs": [],
   "source": [
    "def get_recommendations_cast_cossim(title):\n",
    "    idx = indices[title]\n",
    "    \n",
    "    # Получаем косинусное расстояние для конкретного фильма и всех остальных\n",
    "    cosine_sim = cosine_similarity(count_matrix[idx], count_matrix)\n",
    "\n",
    "    sorted_cosine_sim = cosine_sim.argsort(axis=1)[0]\n",
    "\n",
    "    recommendation = sorted_cosine_sim[-11:-1]\n",
    "\n",
    "    return df2['title'].iloc[recommendation]"
   ]
  },
  {
   "cell_type": "code",
   "execution_count": 64,
   "id": "60100d3c",
   "metadata": {},
   "outputs": [
    {
     "name": "stdout",
     "output_type": "stream",
     "text": [
      "Wall time: 22 ms\n"
     ]
    },
    {
     "data": {
      "text/plain": [
       "14788                   Caged\n",
       "38875      Lights of New York\n",
       "11894                     McQ\n",
       "26560               Juke Girl\n",
       "25700           Lady Gangster\n",
       "43303    High School Big Shot\n",
       "27676      The Strange Affair\n",
       "28242               Unchained\n",
       "23910    Castle on the Hudson\n",
       "33928    Duffy of San Quentin\n",
       "Name: title, dtype: object"
      ]
     },
     "execution_count": 64,
     "metadata": {},
     "output_type": "execute_result"
    }
   ],
   "source": [
    "%%time\n",
    "get_recommendations_cast_cossim('The Shawshank Redemption')"
   ]
  },
  {
   "cell_type": "code",
   "execution_count": 65,
   "id": "51540a26",
   "metadata": {},
   "outputs": [
    {
     "name": "stdout",
     "output_type": "stream",
     "text": [
      "Wall time: 20.3 ms\n"
     ]
    },
    {
     "data": {
      "text/plain": [
       "4933                The Five Heartbeats\n",
       "13007    I Can Get it For You Wholesale\n",
       "2465                        Pushing Tin\n",
       "2915                  Anywhere But Here\n",
       "11321                            Flicka\n",
       "24238                        Blue Denim\n",
       "17417               Tender Is the Night\n",
       "18606                Satan Never Sleeps\n",
       "16475        Phone Call from a Stranger\n",
       "25886                   Three Brave Men\n",
       "Name: title, dtype: object"
      ]
     },
     "execution_count": 65,
     "metadata": {},
     "output_type": "execute_result"
    }
   ],
   "source": [
    "%%time\n",
    "get_recommendations_cast_cossim('Fight Club')"
   ]
  },
  {
   "cell_type": "code",
   "execution_count": 58,
   "id": "35a7ec69",
   "metadata": {},
   "outputs": [],
   "source": [
    "from sklearn.cluster import MiniBatchKMeans"
   ]
  },
  {
   "cell_type": "code",
   "execution_count": 71,
   "id": "6b6cce16",
   "metadata": {},
   "outputs": [
    {
     "name": "stdout",
     "output_type": "stream",
     "text": [
      "Wall time: 25.8 s\n"
     ]
    },
    {
     "data": {
      "text/plain": [
       "array([721, 990,   4,  32, 627,  27, 781, 685, 163, 163])"
      ]
     },
     "execution_count": 71,
     "metadata": {},
     "output_type": "execute_result"
    }
   ],
   "source": [
    "%%time\n",
    "kmb = MiniBatchKMeans(n_clusters=1000, random_state=0, n_init=\"auto\").fit(count_matrix)\n",
    "clustered_movies_kmb = kmb.labels_\n",
    "\n",
    "clustered_movies_kmb[:10]"
   ]
  },
  {
   "cell_type": "code",
   "execution_count": 72,
   "id": "847f7160",
   "metadata": {},
   "outputs": [],
   "source": [
    "def get_recommendations_cast_MiniBatchKMeans(title):\n",
    "    \n",
    "    # находим индекс фильма по title\n",
    "    idx = indices[title]\n",
    "    \n",
    "    particular_cluster = clustered_movies_kmb[idx]\n",
    "    # получаем названия наиболее похожих фильмов\n",
    "    recommendation = df2['title'].iloc[clustered_movies_kmb==particular_cluster]\n",
    "\n",
    "    return recommendation"
   ]
  },
  {
   "cell_type": "code",
   "execution_count": 73,
   "id": "6d45a742",
   "metadata": {},
   "outputs": [
    {
     "name": "stdout",
     "output_type": "stream",
     "text": [
      "Wall time: 4 ms\n"
     ]
    },
    {
     "data": {
      "text/plain": [
       "15                                        Casino\n",
       "29                                Shanghai Triad\n",
       "30                               Dangerous Minds\n",
       "40                               Dead Presidents\n",
       "79       Things to Do in Denver When You're Dead\n",
       "                          ...                   \n",
       "43847                             Secret Defense\n",
       "43977                             The Wrong Road\n",
       "43981                          One Hundred Steps\n",
       "44060                   G:MT Greenwich Mean Time\n",
       "44072                                Junction 48\n",
       "Name: title, Length: 855, dtype: object"
      ]
     },
     "execution_count": 73,
     "metadata": {},
     "output_type": "execute_result"
    }
   ],
   "source": [
    "%%time\n",
    "get_recommendations_cast_MiniBatchKMeans('The Shawshank Redemption')"
   ]
  },
  {
   "cell_type": "code",
   "execution_count": 74,
   "id": "c1834d4d",
   "metadata": {},
   "outputs": [
    {
     "name": "stdout",
     "output_type": "stream",
     "text": [
      "Wall time: 1.56 ms\n"
     ]
    },
    {
     "data": {
      "text/plain": [
       "25                          Othello\n",
       "883                Sunset Boulevard\n",
       "887                   All About Eve\n",
       "889                         Rebecca\n",
       "1809        How Green Was My Valley\n",
       "                    ...            \n",
       "34762             The Man I Married\n",
       "35323                 Woman's World\n",
       "35640             The Young Messiah\n",
       "36865    The Truth About Bebe Donge\n",
       "38663                   Night Train\n",
       "Name: title, Length: 139, dtype: object"
      ]
     },
     "execution_count": 74,
     "metadata": {},
     "output_type": "execute_result"
    }
   ],
   "source": [
    "%%time\n",
    "get_recommendations_cast_MiniBatchKMeans('Fight Club')"
   ]
  },
  {
   "cell_type": "markdown",
   "id": "124da58c",
   "metadata": {},
   "source": [
    "# Collaborative Filtering"
   ]
  },
  {
   "cell_type": "markdown",
   "id": "1fd96570",
   "metadata": {},
   "source": [
    "https://surprise.readthedocs.io/en/stable/getting_started.html#getting-started\n",
    "\n",
    "**Коллаборативная фильтрация** (англ. **collaborative filtering**) — это один из методов построения прогнозов в рекомендательных системах, использующий известные предпочтения (оценки) группы пользователей для предсказывания неизвестных предпочтений другого пользователя. Его основное допущение состоит в следующем: те, кто одинаково оценивал какие-либо предметы в прошлом, склонны давать похожие оценки другим предметам и в будущем."
   ]
  },
  {
   "cell_type": "code",
   "execution_count": 75,
   "id": "a947c4e2",
   "metadata": {},
   "outputs": [],
   "source": [
    "from surprise import Reader, Dataset, SVD, accuracy\n",
    "from surprise.model_selection import cross_validate, train_test_split, GridSearchCV"
   ]
  },
  {
   "cell_type": "markdown",
   "id": "ccafc62c",
   "metadata": {},
   "source": [
    "## SVD"
   ]
  },
  {
   "cell_type": "code",
   "execution_count": 76,
   "id": "e5dfcc05",
   "metadata": {},
   "outputs": [],
   "source": [
    "reader = Reader()\n",
    "ratings = pd.read_csv('ratings_small.csv')\n",
    "data = Dataset.load_from_df(ratings[['userId', 'movieId', 'rating']], reader)\n",
    "trainset, testset = train_test_split(data, test_size=0.25)"
   ]
  },
  {
   "cell_type": "markdown",
   "id": "b270f294",
   "metadata": {},
   "source": [
    "**Подберем оптимальные гиперпараметры для модели SVD**"
   ]
  },
  {
   "cell_type": "code",
   "execution_count": 79,
   "id": "0dd31863",
   "metadata": {},
   "outputs": [
    {
     "name": "stdout",
     "output_type": "stream",
     "text": [
      "0.9013202269066788\n",
      "{'n_epochs': 40, 'lr_all': 0.005, 'reg_all': 0.4}\n",
      "Wall time: 7min 23s\n"
     ]
    }
   ],
   "source": [
    "%%time\n",
    "param_grid = {\"n_epochs\": [20, 30, 40], \"lr_all\": [0.005, 0.01, 1], \"reg_all\": [0.02, 0.4, 1]}\n",
    "gs = GridSearchCV(SVD, param_grid, measures=[\"rmse\", \"mae\"], cv=3)\n",
    "\n",
    "gs.fit(data)\n",
    "print(gs.best_score[\"rmse\"])\n",
    "print(gs.best_params[\"rmse\"])"
   ]
  },
  {
   "cell_type": "code",
   "execution_count": 212,
   "id": "2324cf76",
   "metadata": {},
   "outputs": [
    {
     "name": "stdout",
     "output_type": "stream",
     "text": [
      "RMSE: 0.9011\n",
      "0.9011322752622644\n",
      "MAE:  0.6997\n",
      "0.6996578484112456\n",
      "Wall time: 7.4 s\n"
     ]
    }
   ],
   "source": [
    "%%time\n",
    "algo = SVD(n_epochs=40, lr_all=0.005, reg_all=0.4)\n",
    "algo.fit(trainset)\n",
    "predictions = algo.test(testset)\n",
    "print(accuracy.rmse(predictions))\n",
    "print(accuracy.mae(predictions))"
   ]
  },
  {
   "cell_type": "markdown",
   "id": "e72868d0",
   "metadata": {},
   "source": [
    "**Судя по MAE, при прогнозировании оценки фильма модель ошибается в среднем на 0.6997, то есть меньше, чем на балл - довально хороший результат.**"
   ]
  },
  {
   "cell_type": "code",
   "execution_count": 85,
   "id": "b4739eb4",
   "metadata": {},
   "outputs": [
    {
     "data": {
      "text/html": [
       "<div>\n",
       "<style scoped>\n",
       "    .dataframe tbody tr th:only-of-type {\n",
       "        vertical-align: middle;\n",
       "    }\n",
       "\n",
       "    .dataframe tbody tr th {\n",
       "        vertical-align: top;\n",
       "    }\n",
       "\n",
       "    .dataframe thead th {\n",
       "        text-align: right;\n",
       "    }\n",
       "</style>\n",
       "<table border=\"1\" class=\"dataframe\">\n",
       "  <thead>\n",
       "    <tr style=\"text-align: right;\">\n",
       "      <th></th>\n",
       "      <th>uid</th>\n",
       "      <th>iid</th>\n",
       "      <th>r_ui</th>\n",
       "      <th>est</th>\n",
       "    </tr>\n",
       "  </thead>\n",
       "  <tbody>\n",
       "    <tr>\n",
       "      <th>21774</th>\n",
       "      <td>22</td>\n",
       "      <td>8950</td>\n",
       "      <td>4.0</td>\n",
       "      <td>3.646226</td>\n",
       "    </tr>\n",
       "    <tr>\n",
       "      <th>19591</th>\n",
       "      <td>105</td>\n",
       "      <td>2916</td>\n",
       "      <td>4.0</td>\n",
       "      <td>3.422974</td>\n",
       "    </tr>\n",
       "    <tr>\n",
       "      <th>8016</th>\n",
       "      <td>384</td>\n",
       "      <td>31685</td>\n",
       "      <td>3.0</td>\n",
       "      <td>3.148068</td>\n",
       "    </tr>\n",
       "    <tr>\n",
       "      <th>15011</th>\n",
       "      <td>472</td>\n",
       "      <td>2285</td>\n",
       "      <td>4.0</td>\n",
       "      <td>3.440291</td>\n",
       "    </tr>\n",
       "    <tr>\n",
       "      <th>16441</th>\n",
       "      <td>102</td>\n",
       "      <td>58</td>\n",
       "      <td>4.0</td>\n",
       "      <td>3.921006</td>\n",
       "    </tr>\n",
       "  </tbody>\n",
       "</table>\n",
       "</div>"
      ],
      "text/plain": [
       "       uid    iid  r_ui       est\n",
       "21774   22   8950   4.0  3.646226\n",
       "19591  105   2916   4.0  3.422974\n",
       "8016   384  31685   3.0  3.148068\n",
       "15011  472   2285   4.0  3.440291\n",
       "16441  102     58   4.0  3.921006"
      ]
     },
     "execution_count": 85,
     "metadata": {},
     "output_type": "execute_result"
    }
   ],
   "source": [
    "df_pred_svd = pd.DataFrame(predictions).drop('details', axis=1)\n",
    "df_pred_svd.sample(5)"
   ]
  },
  {
   "cell_type": "markdown",
   "id": "013f175e",
   "metadata": {},
   "source": [
    "### Изобразим предсказание для некоторых пользователей"
   ]
  },
  {
   "cell_type": "code",
   "execution_count": 202,
   "id": "92036ec3",
   "metadata": {},
   "outputs": [],
   "source": [
    "def visualize_test_user(user_id):\n",
    "    user_for_vis = list(\n",
    "        filter(\n",
    "            lambda x: x[0]==user_id,\n",
    "            testset\n",
    "        )\n",
    "    )\n",
    "\n",
    "    x = list(map(lambda x: x[2], user_for_vis))\n",
    "    y = [algo.predict(*i)[3] for i in user_for_vis]\n",
    "\n",
    "    plt.figure(figsize=(10,4))\n",
    "    plt.title(f'Comparing values with predictions, user = {user_id}')\n",
    "    plt.plot(range(len(x)), x, label='true')\n",
    "    plt.plot(range(len(x)),y, c='r', label=\"predicted\")\n",
    "    plt.legend()\n",
    "    plt.grid()"
   ]
  },
  {
   "cell_type": "code",
   "execution_count": 210,
   "id": "3194bee0",
   "metadata": {
    "scrolled": true
   },
   "outputs": [
    {
     "data": {
      "image/png": "[encoded data removed]",
      "text/plain": [
       "<Figure size 720x288 with 1 Axes>"
      ]
     },
     "metadata": {
      "needs_background": "light"
     },
     "output_type": "display_data"
    }
   ],
   "source": [
    "visualize_test_user(598)"
   ]
  },
  {
   "cell_type": "code",
   "execution_count": 211,
   "id": "40c1d485",
   "metadata": {
    "scrolled": false
   },
   "outputs": [
    {
     "data": {
      "image/png": "[encoded data removed]",
      "text/plain": [
       "<Figure size 720x288 with 1 Axes>"
      ]
     },
     "metadata": {
      "needs_background": "light"
     },
     "output_type": "display_data"
    }
   ],
   "source": [
    "visualize_test_user(486)"
   ]
  },
  {
   "cell_type": "markdown",
   "id": "db6e4621",
   "metadata": {},
   "source": [
    "### Пример рекомендации"
   ]
  },
  {
   "cell_type": "code",
   "execution_count": 86,
   "id": "b3d0df35",
   "metadata": {
    "scrolled": true
   },
   "outputs": [
    {
     "data": {
      "text/html": [
       "<div>\n",
       "<style scoped>\n",
       "    .dataframe tbody tr th:only-of-type {\n",
       "        vertical-align: middle;\n",
       "    }\n",
       "\n",
       "    .dataframe tbody tr th {\n",
       "        vertical-align: top;\n",
       "    }\n",
       "\n",
       "    .dataframe thead th {\n",
       "        text-align: right;\n",
       "    }\n",
       "</style>\n",
       "<table border=\"1\" class=\"dataframe\">\n",
       "  <thead>\n",
       "    <tr style=\"text-align: right;\">\n",
       "      <th></th>\n",
       "      <th>uid</th>\n",
       "      <th>iid</th>\n",
       "      <th>r_ui</th>\n",
       "      <th>est</th>\n",
       "    </tr>\n",
       "  </thead>\n",
       "  <tbody>\n",
       "    <tr>\n",
       "      <th>0</th>\n",
       "      <td>31</td>\n",
       "      <td>527</td>\n",
       "      <td>5.0</td>\n",
       "      <td>4.332079</td>\n",
       "    </tr>\n",
       "    <tr>\n",
       "      <th>1</th>\n",
       "      <td>598</td>\n",
       "      <td>4310</td>\n",
       "      <td>2.0</td>\n",
       "      <td>3.165126</td>\n",
       "    </tr>\n",
       "    <tr>\n",
       "      <th>2</th>\n",
       "      <td>529</td>\n",
       "      <td>2716</td>\n",
       "      <td>4.0</td>\n",
       "      <td>3.595869</td>\n",
       "    </tr>\n",
       "    <tr>\n",
       "      <th>3</th>\n",
       "      <td>486</td>\n",
       "      <td>2716</td>\n",
       "      <td>4.0</td>\n",
       "      <td>3.771479</td>\n",
       "    </tr>\n",
       "    <tr>\n",
       "      <th>4</th>\n",
       "      <td>624</td>\n",
       "      <td>7153</td>\n",
       "      <td>4.5</td>\n",
       "      <td>3.509867</td>\n",
       "    </tr>\n",
       "  </tbody>\n",
       "</table>\n",
       "</div>"
      ],
      "text/plain": [
       "   uid   iid  r_ui       est\n",
       "0   31   527   5.0  4.332079\n",
       "1  598  4310   2.0  3.165126\n",
       "2  529  2716   4.0  3.595869\n",
       "3  486  2716   4.0  3.771479\n",
       "4  624  7153   4.5  3.509867"
      ]
     },
     "execution_count": 86,
     "metadata": {},
     "output_type": "execute_result"
    }
   ],
   "source": [
    "# возьмем 3 пользователей и предскажем их оценку определенных фильмов\n",
    "example_svd = testset[:5] # (user_id, item_id, movie_rating_by_user)\n",
    "pd.DataFrame([algo.predict(*example_svd[i]) for i in range(5)]).drop('details', axis=1)"
   ]
  },
  {
   "cell_type": "markdown",
   "id": "ebf3076a",
   "metadata": {},
   "source": [
    "**Будем рекомендовать фильм пользователю в случае, если предсказанная оценка этого фильма выше 60% оценок фильмов, которые нам известны**"
   ]
  },
  {
   "cell_type": "code",
   "execution_count": 158,
   "id": "08bd5489",
   "metadata": {},
   "outputs": [
    {
     "data": {
      "text/html": [
       "<div>\n",
       "<style scoped>\n",
       "    .dataframe tbody tr th:only-of-type {\n",
       "        vertical-align: middle;\n",
       "    }\n",
       "\n",
       "    .dataframe tbody tr th {\n",
       "        vertical-align: top;\n",
       "    }\n",
       "\n",
       "    .dataframe thead th {\n",
       "        text-align: right;\n",
       "    }\n",
       "</style>\n",
       "<table border=\"1\" class=\"dataframe\">\n",
       "  <thead>\n",
       "    <tr style=\"text-align: right;\">\n",
       "      <th></th>\n",
       "      <th>userId</th>\n",
       "      <th>movieId</th>\n",
       "      <th>rating</th>\n",
       "      <th>timestamp</th>\n",
       "    </tr>\n",
       "  </thead>\n",
       "  <tbody>\n",
       "    <tr>\n",
       "      <th>46419</th>\n",
       "      <td>340</td>\n",
       "      <td>6</td>\n",
       "      <td>4.0</td>\n",
       "      <td>1410374053</td>\n",
       "    </tr>\n",
       "    <tr>\n",
       "      <th>46420</th>\n",
       "      <td>340</td>\n",
       "      <td>47</td>\n",
       "      <td>5.0</td>\n",
       "      <td>1410374238</td>\n",
       "    </tr>\n",
       "    <tr>\n",
       "      <th>46421</th>\n",
       "      <td>340</td>\n",
       "      <td>293</td>\n",
       "      <td>4.0</td>\n",
       "      <td>1410374113</td>\n",
       "    </tr>\n",
       "    <tr>\n",
       "      <th>46422</th>\n",
       "      <td>340</td>\n",
       "      <td>296</td>\n",
       "      <td>3.5</td>\n",
       "      <td>1410374199</td>\n",
       "    </tr>\n",
       "    <tr>\n",
       "      <th>46423</th>\n",
       "      <td>340</td>\n",
       "      <td>318</td>\n",
       "      <td>5.0</td>\n",
       "      <td>1410252785</td>\n",
       "    </tr>\n",
       "  </tbody>\n",
       "</table>\n",
       "</div>"
      ],
      "text/plain": [
       "       userId  movieId  rating   timestamp\n",
       "46419     340        6     4.0  1410374053\n",
       "46420     340       47     5.0  1410374238\n",
       "46421     340      293     4.0  1410374113\n",
       "46422     340      296     3.5  1410374199\n",
       "46423     340      318     5.0  1410252785"
      ]
     },
     "metadata": {},
     "output_type": "display_data"
    },
    {
     "name": "stdout",
     "output_type": "stream",
     "text": [
      "real WR = 5.0\n",
      "0.6-quantile = 4.0\n",
      "est_rating = 4.060067224790942\n",
      "YES\n"
     ]
    }
   ],
   "source": [
    "# df, содержащий оцененные пользователем 340 фильмы, кроме фильма 4993\n",
    "user_example = ratings[(ratings['userId']==340)&(ratings['movieId']!=4993)]\n",
    "display(user_example.head())\n",
    "\n",
    "real_rating_exam = ratings[(ratings['userId']==340)&(ratings['movieId']==4993)]\n",
    "print('real WR =', real_rating_exam.values[0][2])\n",
    "\n",
    "# найдем 0.6-квантиль оценок пользователя 340\n",
    "quan_exam = user_example['rating'].quantile(0.6)\n",
    "print(f'0.6-quantile = {quan_exam}')\n",
    "\n",
    "est_rating_exam = algo.predict(*real_rating_exam.values[0][:-1])[3]\n",
    "print(f'est_rating = {est_rating_exam}')\n",
    "\n",
    "# решим, рекомендовать фильм 4993 или нет\n",
    "print('YES') if est_rating_exam>=quan_exam else print('NO')"
   ]
  },
  {
   "cell_type": "markdown",
   "id": "f2c613c0",
   "metadata": {},
   "source": [
    "**В данном случае алогоритм верно решил рекомендовать. Пояснение:**\n",
    "1. 60% фильмов, которые этот пользователь оценивал, получили рейтинг 4 и ниже;\n",
    "2. пользователь оценил данный фильм на 5, значит, фильм понравился и его следует рекомендовать;\n",
    "3. модель предсказала оценку 4.06, что выше 0.6-квантиля, так что она правильно рекомендует этот фильм"
   ]
  },
  {
   "cell_type": "code",
   "execution_count": 148,
   "id": "25723207",
   "metadata": {},
   "outputs": [
    {
     "data": {
      "text/html": [
       "<div>\n",
       "<style scoped>\n",
       "    .dataframe tbody tr th:only-of-type {\n",
       "        vertical-align: middle;\n",
       "    }\n",
       "\n",
       "    .dataframe tbody tr th {\n",
       "        vertical-align: top;\n",
       "    }\n",
       "\n",
       "    .dataframe thead th {\n",
       "        text-align: right;\n",
       "    }\n",
       "</style>\n",
       "<table border=\"1\" class=\"dataframe\">\n",
       "  <thead>\n",
       "    <tr style=\"text-align: right;\">\n",
       "      <th></th>\n",
       "      <th>userId</th>\n",
       "      <th>movieId</th>\n",
       "      <th>rating</th>\n",
       "      <th>timestamp</th>\n",
       "    </tr>\n",
       "  </thead>\n",
       "  <tbody>\n",
       "    <tr>\n",
       "      <th>90016</th>\n",
       "      <td>598</td>\n",
       "      <td>1</td>\n",
       "      <td>4.5</td>\n",
       "      <td>1057554797</td>\n",
       "    </tr>\n",
       "    <tr>\n",
       "      <th>90017</th>\n",
       "      <td>598</td>\n",
       "      <td>11</td>\n",
       "      <td>4.0</td>\n",
       "      <td>1008571467</td>\n",
       "    </tr>\n",
       "    <tr>\n",
       "      <th>90018</th>\n",
       "      <td>598</td>\n",
       "      <td>15</td>\n",
       "      <td>2.0</td>\n",
       "      <td>1007344372</td>\n",
       "    </tr>\n",
       "    <tr>\n",
       "      <th>90019</th>\n",
       "      <td>598</td>\n",
       "      <td>17</td>\n",
       "      <td>2.0</td>\n",
       "      <td>1009415293</td>\n",
       "    </tr>\n",
       "    <tr>\n",
       "      <th>90020</th>\n",
       "      <td>598</td>\n",
       "      <td>39</td>\n",
       "      <td>3.0</td>\n",
       "      <td>1008571296</td>\n",
       "    </tr>\n",
       "    <tr>\n",
       "      <th>...</th>\n",
       "      <td>...</td>\n",
       "      <td>...</td>\n",
       "      <td>...</td>\n",
       "      <td>...</td>\n",
       "    </tr>\n",
       "    <tr>\n",
       "      <th>90323</th>\n",
       "      <td>598</td>\n",
       "      <td>6377</td>\n",
       "      <td>4.5</td>\n",
       "      <td>1057554688</td>\n",
       "    </tr>\n",
       "    <tr>\n",
       "      <th>90324</th>\n",
       "      <td>598</td>\n",
       "      <td>6461</td>\n",
       "      <td>3.5</td>\n",
       "      <td>1057555106</td>\n",
       "    </tr>\n",
       "    <tr>\n",
       "      <th>90325</th>\n",
       "      <td>598</td>\n",
       "      <td>6534</td>\n",
       "      <td>2.0</td>\n",
       "      <td>1057554710</td>\n",
       "    </tr>\n",
       "    <tr>\n",
       "      <th>90326</th>\n",
       "      <td>598</td>\n",
       "      <td>6537</td>\n",
       "      <td>4.0</td>\n",
       "      <td>1057555152</td>\n",
       "    </tr>\n",
       "    <tr>\n",
       "      <th>90327</th>\n",
       "      <td>598</td>\n",
       "      <td>6539</td>\n",
       "      <td>5.0</td>\n",
       "      <td>1057555166</td>\n",
       "    </tr>\n",
       "  </tbody>\n",
       "</table>\n",
       "<p>311 rows × 4 columns</p>\n",
       "</div>"
      ],
      "text/plain": [
       "       userId  movieId  rating   timestamp\n",
       "90016     598        1     4.5  1057554797\n",
       "90017     598       11     4.0  1008571467\n",
       "90018     598       15     2.0  1007344372\n",
       "90019     598       17     2.0  1009415293\n",
       "90020     598       39     3.0  1008571296\n",
       "...       ...      ...     ...         ...\n",
       "90323     598     6377     4.5  1057554688\n",
       "90324     598     6461     3.5  1057555106\n",
       "90325     598     6534     2.0  1057554710\n",
       "90326     598     6537     4.0  1057555152\n",
       "90327     598     6539     5.0  1057555166\n",
       "\n",
       "[311 rows x 4 columns]"
      ]
     },
     "metadata": {},
     "output_type": "display_data"
    },
    {
     "name": "stdout",
     "output_type": "stream",
     "text": [
      "real WR = 2.0\n",
      "0.6-quantile = 4.0\n",
      "est_rating = 3.165126494590933\n",
      "NO\n"
     ]
    }
   ],
   "source": [
    "# df, содержащий оцененные пользователем 598 фильмы, кроме фильма 4310\n",
    "user_example = ratings[(ratings['userId']==598)&(ratings['movieId']!=4310)]\n",
    "display(user_example)\n",
    "\n",
    "real_rating_exam = ratings[(ratings['userId']==598)&(ratings['movieId']==4310)]\n",
    "print('real WR =', real_rating_exam.values[0][2])\n",
    "\n",
    "# найдем 0.6-квантиль оценок пользователя 598\n",
    "quan_exam = user_example['rating'].quantile(0.6)\n",
    "print(f'0.6-quantile = {quan_exam}')\n",
    "\n",
    "est_rating_exam = algo.predict(*real_rating_exam.values[0][:-1])[3]\n",
    "print(f'est_rating = {est_rating_exam}')\n",
    "\n",
    "# решим, рекомендовать фильм 4310 или нет\n",
    "print('YES') if est_rating_exam>=quan_exam else print('NO')"
   ]
  },
  {
   "cell_type": "markdown",
   "id": "a4f9bdbe",
   "metadata": {},
   "source": [
    "**В данном случае алогоритм верно решил не рекомендовать этот фильм**"
   ]
  },
  {
   "cell_type": "markdown",
   "id": "8b91a666",
   "metadata": {},
   "source": [
    "### SVD recommendation"
   ]
  },
  {
   "cell_type": "code",
   "execution_count": 111,
   "id": "fb1e8386",
   "metadata": {
    "scrolled": true
   },
   "outputs": [
    {
     "data": {
      "text/html": [
       "<div>\n",
       "<style scoped>\n",
       "    .dataframe tbody tr th:only-of-type {\n",
       "        vertical-align: middle;\n",
       "    }\n",
       "\n",
       "    .dataframe tbody tr th {\n",
       "        vertical-align: top;\n",
       "    }\n",
       "\n",
       "    .dataframe thead th {\n",
       "        text-align: right;\n",
       "    }\n",
       "</style>\n",
       "<table border=\"1\" class=\"dataframe\">\n",
       "  <thead>\n",
       "    <tr style=\"text-align: right;\">\n",
       "      <th></th>\n",
       "      <th>genres</th>\n",
       "      <th>id</th>\n",
       "      <th>overview</th>\n",
       "      <th>popularity</th>\n",
       "      <th>production_companies</th>\n",
       "      <th>title</th>\n",
       "      <th>vote_average</th>\n",
       "      <th>vote_count</th>\n",
       "      <th>WR</th>\n",
       "    </tr>\n",
       "  </thead>\n",
       "  <tbody>\n",
       "    <tr>\n",
       "      <th>312</th>\n",
       "      <td>[{'id': 18, 'name': 'Drama'}, {'id': 80, 'name...</td>\n",
       "      <td>278</td>\n",
       "      <td>Framed in the 1940s for the double murder of h...</td>\n",
       "      <td>51.645403</td>\n",
       "      <td>[{'name': 'Castle Rock Entertainment', 'id': 9...</td>\n",
       "      <td>The Shawshank Redemption</td>\n",
       "      <td>8.5</td>\n",
       "      <td>8358.0</td>\n",
       "      <td>8.444613</td>\n",
       "    </tr>\n",
       "    <tr>\n",
       "      <th>823</th>\n",
       "      <td>[{'id': 18, 'name': 'Drama'}, {'id': 80, 'name...</td>\n",
       "      <td>238</td>\n",
       "      <td>Spanning the years 1945 to 1955, a chronicle o...</td>\n",
       "      <td>41.109264</td>\n",
       "      <td>[{'name': 'Paramount Pictures', 'id': 4}, {'na...</td>\n",
       "      <td>The Godfather</td>\n",
       "      <td>8.5</td>\n",
       "      <td>6024.0</td>\n",
       "      <td>8.423726</td>\n",
       "    </tr>\n",
       "    <tr>\n",
       "      <th>10276</th>\n",
       "      <td>[{'id': 35, 'name': 'Comedy'}, {'id': 18, 'nam...</td>\n",
       "      <td>19404</td>\n",
       "      <td>Raj is a rich, carefree, happy-go-lucky second...</td>\n",
       "      <td>34.457024</td>\n",
       "      <td>[{'name': 'Yash Raj Films', 'id': 1569}]</td>\n",
       "      <td>Dilwale Dulhania Le Jayenge</td>\n",
       "      <td>9.1</td>\n",
       "      <td>661.0</td>\n",
       "      <td>8.408642</td>\n",
       "    </tr>\n",
       "    <tr>\n",
       "      <th>12443</th>\n",
       "      <td>[{'id': 18, 'name': 'Drama'}, {'id': 28, 'name...</td>\n",
       "      <td>155</td>\n",
       "      <td>Batman raises the stakes in his war on crime. ...</td>\n",
       "      <td>123.167259</td>\n",
       "      <td>[{'name': 'DC Comics', 'id': 429}, {'name': 'L...</td>\n",
       "      <td>The Dark Knight</td>\n",
       "      <td>8.3</td>\n",
       "      <td>12269.0</td>\n",
       "      <td>8.264689</td>\n",
       "    </tr>\n",
       "    <tr>\n",
       "      <th>2824</th>\n",
       "      <td>[{'id': 18, 'name': 'Drama'}]</td>\n",
       "      <td>550</td>\n",
       "      <td>A ticking-time-bomb insomniac and a slippery s...</td>\n",
       "      <td>63.869599</td>\n",
       "      <td>[{'name': 'Twentieth Century Fox Film Corporat...</td>\n",
       "      <td>Fight Club</td>\n",
       "      <td>8.3</td>\n",
       "      <td>9678.0</td>\n",
       "      <td>8.255393</td>\n",
       "    </tr>\n",
       "  </tbody>\n",
       "</table>\n",
       "</div>"
      ],
      "text/plain": [
       "                                                  genres     id   \n",
       "312    [{'id': 18, 'name': 'Drama'}, {'id': 80, 'name...    278  \\\n",
       "823    [{'id': 18, 'name': 'Drama'}, {'id': 80, 'name...    238   \n",
       "10276  [{'id': 35, 'name': 'Comedy'}, {'id': 18, 'nam...  19404   \n",
       "12443  [{'id': 18, 'name': 'Drama'}, {'id': 28, 'name...    155   \n",
       "2824                       [{'id': 18, 'name': 'Drama'}]    550   \n",
       "\n",
       "                                                overview  popularity   \n",
       "312    Framed in the 1940s for the double murder of h...   51.645403  \\\n",
       "823    Spanning the years 1945 to 1955, a chronicle o...   41.109264   \n",
       "10276  Raj is a rich, carefree, happy-go-lucky second...   34.457024   \n",
       "12443  Batman raises the stakes in his war on crime. ...  123.167259   \n",
       "2824   A ticking-time-bomb insomniac and a slippery s...   63.869599   \n",
       "\n",
       "                                    production_companies   \n",
       "312    [{'name': 'Castle Rock Entertainment', 'id': 9...  \\\n",
       "823    [{'name': 'Paramount Pictures', 'id': 4}, {'na...   \n",
       "10276           [{'name': 'Yash Raj Films', 'id': 1569}]   \n",
       "12443  [{'name': 'DC Comics', 'id': 429}, {'name': 'L...   \n",
       "2824   [{'name': 'Twentieth Century Fox Film Corporat...   \n",
       "\n",
       "                             title  vote_average  vote_count        WR  \n",
       "312       The Shawshank Redemption           8.5      8358.0  8.444613  \n",
       "823                  The Godfather           8.5      6024.0  8.423726  \n",
       "10276  Dilwale Dulhania Le Jayenge           9.1       661.0  8.408642  \n",
       "12443              The Dark Knight           8.3     12269.0  8.264689  \n",
       "2824                    Fight Club           8.3      9678.0  8.255393  "
      ]
     },
     "execution_count": 111,
     "metadata": {},
     "output_type": "execute_result"
    }
   ],
   "source": [
    "high_rated_films.head()"
   ]
  },
  {
   "cell_type": "code",
   "execution_count": 113,
   "id": "41b4e4ed",
   "metadata": {},
   "outputs": [
    {
     "data": {
      "text/plain": [
       "(4458, 9)"
      ]
     },
     "execution_count": 113,
     "metadata": {},
     "output_type": "execute_result"
    }
   ],
   "source": [
    "high_rated_films_svd = high_rated_films.astype({'id':'float64'})\n",
    "high_rated_films_svd.shape"
   ]
  },
  {
   "cell_type": "code",
   "execution_count": 114,
   "id": "314731a0",
   "metadata": {},
   "outputs": [
    {
     "data": {
      "text/html": [
       "<div>\n",
       "<style scoped>\n",
       "    .dataframe tbody tr th:only-of-type {\n",
       "        vertical-align: middle;\n",
       "    }\n",
       "\n",
       "    .dataframe tbody tr th {\n",
       "        vertical-align: top;\n",
       "    }\n",
       "\n",
       "    .dataframe thead th {\n",
       "        text-align: right;\n",
       "    }\n",
       "</style>\n",
       "<table border=\"1\" class=\"dataframe\">\n",
       "  <thead>\n",
       "    <tr style=\"text-align: right;\">\n",
       "      <th></th>\n",
       "      <th>movieId</th>\n",
       "      <th>imdbId</th>\n",
       "      <th>tmdbId</th>\n",
       "    </tr>\n",
       "  </thead>\n",
       "  <tbody>\n",
       "    <tr>\n",
       "      <th>0</th>\n",
       "      <td>1</td>\n",
       "      <td>114709</td>\n",
       "      <td>862.0</td>\n",
       "    </tr>\n",
       "    <tr>\n",
       "      <th>1</th>\n",
       "      <td>2</td>\n",
       "      <td>113497</td>\n",
       "      <td>8844.0</td>\n",
       "    </tr>\n",
       "    <tr>\n",
       "      <th>2</th>\n",
       "      <td>3</td>\n",
       "      <td>113228</td>\n",
       "      <td>15602.0</td>\n",
       "    </tr>\n",
       "    <tr>\n",
       "      <th>3</th>\n",
       "      <td>4</td>\n",
       "      <td>114885</td>\n",
       "      <td>31357.0</td>\n",
       "    </tr>\n",
       "    <tr>\n",
       "      <th>4</th>\n",
       "      <td>5</td>\n",
       "      <td>113041</td>\n",
       "      <td>11862.0</td>\n",
       "    </tr>\n",
       "  </tbody>\n",
       "</table>\n",
       "</div>"
      ],
      "text/plain": [
       "   movieId  imdbId   tmdbId\n",
       "0        1  114709    862.0\n",
       "1        2  113497   8844.0\n",
       "2        3  113228  15602.0\n",
       "3        4  114885  31357.0\n",
       "4        5  113041  11862.0"
      ]
     },
     "execution_count": 114,
     "metadata": {},
     "output_type": "execute_result"
    }
   ],
   "source": [
    "links = pd.read_csv('links_small.csv').dropna()\n",
    "links.head()"
   ]
  },
  {
   "cell_type": "code",
   "execution_count": 115,
   "id": "1448a949",
   "metadata": {},
   "outputs": [
    {
     "data": {
      "text/html": [
       "<div>\n",
       "<style scoped>\n",
       "    .dataframe tbody tr th:only-of-type {\n",
       "        vertical-align: middle;\n",
       "    }\n",
       "\n",
       "    .dataframe tbody tr th {\n",
       "        vertical-align: top;\n",
       "    }\n",
       "\n",
       "    .dataframe thead th {\n",
       "        text-align: right;\n",
       "    }\n",
       "</style>\n",
       "<table border=\"1\" class=\"dataframe\">\n",
       "  <thead>\n",
       "    <tr style=\"text-align: right;\">\n",
       "      <th></th>\n",
       "      <th>movieId</th>\n",
       "      <th>imdbId</th>\n",
       "      <th>tmdbId</th>\n",
       "      <th>id</th>\n",
       "      <th>title</th>\n",
       "      <th>WR</th>\n",
       "    </tr>\n",
       "  </thead>\n",
       "  <tbody>\n",
       "    <tr>\n",
       "      <th>99</th>\n",
       "      <td>318</td>\n",
       "      <td>111161</td>\n",
       "      <td>278.0</td>\n",
       "      <td>278.0</td>\n",
       "      <td>The Shawshank Redemption</td>\n",
       "      <td>8.444613</td>\n",
       "    </tr>\n",
       "    <tr>\n",
       "      <th>226</th>\n",
       "      <td>858</td>\n",
       "      <td>68646</td>\n",
       "      <td>238.0</td>\n",
       "      <td>238.0</td>\n",
       "      <td>The Godfather</td>\n",
       "      <td>8.423726</td>\n",
       "    </tr>\n",
       "    <tr>\n",
       "      <th>2266</th>\n",
       "      <td>58559</td>\n",
       "      <td>468569</td>\n",
       "      <td>155.0</td>\n",
       "      <td>155.0</td>\n",
       "      <td>The Dark Knight</td>\n",
       "      <td>8.264689</td>\n",
       "    </tr>\n",
       "    <tr>\n",
       "      <th>899</th>\n",
       "      <td>2959</td>\n",
       "      <td>137523</td>\n",
       "      <td>550.0</td>\n",
       "      <td>550.0</td>\n",
       "      <td>Fight Club</td>\n",
       "      <td>8.255393</td>\n",
       "    </tr>\n",
       "    <tr>\n",
       "      <th>89</th>\n",
       "      <td>296</td>\n",
       "      <td>110912</td>\n",
       "      <td>680.0</td>\n",
       "      <td>680.0</td>\n",
       "      <td>Pulp Fiction</td>\n",
       "      <td>8.250304</td>\n",
       "    </tr>\n",
       "    <tr>\n",
       "      <th>...</th>\n",
       "      <td>...</td>\n",
       "      <td>...</td>\n",
       "      <td>...</td>\n",
       "      <td>...</td>\n",
       "      <td>...</td>\n",
       "      <td>...</td>\n",
       "    </tr>\n",
       "    <tr>\n",
       "      <th>3079</th>\n",
       "      <td>103596</td>\n",
       "      <td>2724064</td>\n",
       "      <td>205321.0</td>\n",
       "      <td>205321.0</td>\n",
       "      <td>Sharknado</td>\n",
       "      <td>4.267547</td>\n",
       "    </tr>\n",
       "    <tr>\n",
       "      <th>2321</th>\n",
       "      <td>61348</td>\n",
       "      <td>1213644</td>\n",
       "      <td>13805.0</td>\n",
       "      <td>13805.0</td>\n",
       "      <td>Disaster Movie</td>\n",
       "      <td>4.109489</td>\n",
       "    </tr>\n",
       "    <tr>\n",
       "      <th>1047</th>\n",
       "      <td>3593</td>\n",
       "      <td>185183</td>\n",
       "      <td>5491.0</td>\n",
       "      <td>5491.0</td>\n",
       "      <td>Battlefield Earth</td>\n",
       "      <td>4.026977</td>\n",
       "    </tr>\n",
       "    <tr>\n",
       "      <th>2095</th>\n",
       "      <td>50798</td>\n",
       "      <td>799949</td>\n",
       "      <td>9760.0</td>\n",
       "      <td>9760.0</td>\n",
       "      <td>Epic Movie</td>\n",
       "      <td>4.006489</td>\n",
       "    </tr>\n",
       "    <tr>\n",
       "      <th>2416</th>\n",
       "      <td>67867</td>\n",
       "      <td>1098327</td>\n",
       "      <td>14164.0</td>\n",
       "      <td>14164.0</td>\n",
       "      <td>Dragonball Evolution</td>\n",
       "      <td>3.606153</td>\n",
       "    </tr>\n",
       "  </tbody>\n",
       "</table>\n",
       "<p>3528 rows × 6 columns</p>\n",
       "</div>"
      ],
      "text/plain": [
       "      movieId   imdbId    tmdbId        id                     title        WR\n",
       "99        318   111161     278.0     278.0  The Shawshank Redemption  8.444613\n",
       "226       858    68646     238.0     238.0             The Godfather  8.423726\n",
       "2266    58559   468569     155.0     155.0           The Dark Knight  8.264689\n",
       "899      2959   137523     550.0     550.0                Fight Club  8.255393\n",
       "89        296   110912     680.0     680.0              Pulp Fiction  8.250304\n",
       "...       ...      ...       ...       ...                       ...       ...\n",
       "3079   103596  2724064  205321.0  205321.0                 Sharknado  4.267547\n",
       "2321    61348  1213644   13805.0   13805.0            Disaster Movie  4.109489\n",
       "1047     3593   185183    5491.0    5491.0         Battlefield Earth  4.026977\n",
       "2095    50798   799949    9760.0    9760.0                Epic Movie  4.006489\n",
       "2416    67867  1098327   14164.0   14164.0      Dragonball Evolution  3.606153\n",
       "\n",
       "[3528 rows x 6 columns]"
      ]
     },
     "execution_count": 115,
     "metadata": {},
     "output_type": "execute_result"
    }
   ],
   "source": [
    "best_movies_links = links.merge(high_rated_films_svd[['id', 'title', 'WR']], left_on='tmdbId', right_on='id').sort_values('WR', ascending=False)\n",
    "best_movies_links_arr = best_movies_links.values\n",
    "best_movies_links"
   ]
  },
  {
   "cell_type": "code",
   "execution_count": 116,
   "id": "63d7b2a1",
   "metadata": {},
   "outputs": [
    {
     "name": "stdout",
     "output_type": "stream",
     "text": [
      "Wall time: 9.72 s\n"
     ]
    },
    {
     "data": {
      "text/plain": [
       "<surprise.prediction_algorithms.matrix_factorization.SVD at 0x1f288d2f5e0>"
      ]
     },
     "execution_count": 116,
     "metadata": {},
     "output_type": "execute_result"
    }
   ],
   "source": [
    "%%time\n",
    "data_svd_rec = data.build_full_trainset()\n",
    "\n",
    "svd_complete = SVD(n_epochs=40, lr_all=0.005, reg_all=0.4)\n",
    "svd_complete.fit(data_svd_rec);"
   ]
  },
  {
   "cell_type": "code",
   "execution_count": 143,
   "id": "90287102",
   "metadata": {},
   "outputs": [],
   "source": [
    "def get_recommendation_collaborative_svd(user_id, alpha=0.6):\n",
    "    df_ru = ratings[(ratings['userId']==user_id)]\n",
    "    watched_movies = df_ru['movieId'].values\n",
    "    quan = df_ru['rating'].quantile(alpha)\n",
    "    \n",
    "    c = 0\n",
    "    rec = [] # список рекомендованных фильмов\n",
    "    for i in best_movies_links_arr:\n",
    "        # не рекомендуем фильм, если пользователь его уже смотреть\n",
    "        if i[0] in watched_movies:\n",
    "            continue\n",
    "            \n",
    "        movie_id = i[0]\n",
    "        movie_WR = i[5]\n",
    "        est_r = svd_complete.predict(user_id, movie_id, movie_WR)[3]\n",
    "        if est_r >= quan:\n",
    "            c += 1\n",
    "            rec.append(i[4]) # добавляем фильм в список, если предсказанная оценка > 0.6-квантиля\n",
    "            if c >= 100:\n",
    "                #np.random.shuffle(rec)\n",
    "                return rec\n",
    "    \n",
    "    if len(rec) < 20:\n",
    "        rec = get_recommendation_collaborative_svd(user_id, alpha=alpha-0.1)\n",
    "    #np.random.shuffle(rec)\n",
    "    return rec"
   ]
  },
  {
   "cell_type": "code",
   "execution_count": 144,
   "id": "ded25802",
   "metadata": {},
   "outputs": [
    {
     "name": "stdout",
     "output_type": "stream",
     "text": [
      "Wall time: 39.2 ms\n"
     ]
    },
    {
     "data": {
      "text/plain": [
       "['Psycho',\n",
       " \"Howl's Moving Castle\",\n",
       " 'Memento',\n",
       " 'City of God',\n",
       " 'The Departed',\n",
       " 'My Neighbor Totoro',\n",
       " 'Once Upon a Time in the West',\n",
       " 'Modern Times',\n",
       " 'There Will Be Blood',\n",
       " 'Paths of Glory',\n",
       " 'Paperman',\n",
       " 'Rush',\n",
       " \"Hachi: A Dog's Tale\",\n",
       " \"Singin' in the Rain\",\n",
       " 'Captain Phillips',\n",
       " 'Raging Bull',\n",
       " 'M',\n",
       " 'Wild Tales',\n",
       " 'The Kid',\n",
       " 'The Third Man',\n",
       " 'On the Waterfront',\n",
       " 'Yojimbo',\n",
       " 'Ran',\n",
       " 'Amores perros',\n",
       " 'A Trip to the Moon',\n",
       " \"All the President's Men\",\n",
       " 'The Fighter',\n",
       " 'The General',\n",
       " 'Rebecca',\n",
       " 'Philomena',\n",
       " 'Ikiru',\n",
       " 'Strangers on a Train',\n",
       " 'In the Name of the Father',\n",
       " 'Love Me If You Dare',\n",
       " 'A Prophet',\n",
       " 'It Happened One Night',\n",
       " 'Paris, Texas',\n",
       " 'The Conversation',\n",
       " 'The Warriors',\n",
       " 'Run Lola Run',\n",
       " 'Diabolique',\n",
       " 'Tell No One',\n",
       " 'The Philadelphia Story',\n",
       " 'Blood Simple',\n",
       " 'Shadow of a Doubt',\n",
       " 'Aguirre: The Wrath of God',\n",
       " 'The Killer',\n",
       " 'Happiness',\n",
       " 'His Girl Friday',\n",
       " 'The Sea Inside',\n",
       " 'The Producers',\n",
       " 'Drunken Master',\n",
       " 'Swingers']"
      ]
     },
     "execution_count": 144,
     "metadata": {},
     "output_type": "execute_result"
    }
   ],
   "source": [
    "%%time\n",
    "# получаем рекомендацию\n",
    "get_recommendation_collaborative_svd(119)"
   ]
  },
  {
   "cell_type": "markdown",
   "id": "d5a1af8f",
   "metadata": {},
   "source": [
    "# Заключение"
   ]
  },
  {
   "cell_type": "markdown",
   "id": "d9bccc58",
   "metadata": {},
   "source": [
    "В ходе курсовой работы мной были реализованы следующие подходы:\n",
    "* **Demographic Filtering**, рекомендующий лучшие фильмы по рейтингу или популярности (неперсонализированная рекомендация)\n",
    "\n",
    "* **Content-based filtering**, находящий похожие по описанию или составу актеров/режиссеров фильмы. Можно использовать как отдельную функцию: если пользователю понравился сюжет или каст фильма, он может найти похожие фильмы. Реализовано через *косинусное расстояние*, *KMeans* и *MiniBatchKMeans*.\n",
    "\n",
    "* **Collaborative filtering**. Имеются данные об оценках пользователей разных фильмов (user_id, movie_id, rating). Модель находит пользователей со схожими вкусами и рекомендуюет фильмы, которые оценил один, но не оценил другой. Например: [(user_1, \"Avatar\", 8), (user_2, \"Avatar\", 8.5), (user_1, \"Fight Club\", 9)], в данном случае пользователю user_2 будет предложен к просмотру \"Fight Club\". Реализовано с помощью алгоритма *SVD* из библиотеки surprise.\n",
    "\n",
    "При первых входах пользователя в систему, ему будет предложен список фильмов, сформированный на основе **demographic filtering**. Клиент может посмотреть некоторые из этих кинокартин и оценить их или сразу присвоить рейтинг фильмам, которые он уже смотрел. Полученная информация о предпочтениях конкретного пользователя будет использоваться для персональной рекомендации при помощи подходов **collaborative filtering** и **content-based filtering**.\n",
    "\n",
    "Также в системе будет функция поиска похожих фильмов: это идея дополнительного использования 2 подхода (**content-based filtering**). Пользователь сможет явно задать интересующий его фильм, например, \"Fight Club\", и система порекомендует похожие."
   ]
  }
 ],
 "metadata": {
  "kernelspec": {
   "display_name": "Python 3",
   "language": "python",
   "name": "python3"
  },
  "language_info": {
   "codemirror_mode": {
    "name": "ipython",
    "version": 3
   },
   "file_extension": ".py",
   "mimetype": "text/x-python",
   "name": "python",
   "nbconvert_exporter": "python",
   "pygments_lexer": "ipython3",
   "version": "3.8.8"
  }
 },
 "nbformat": 4,
 "nbformat_minor": 5
}

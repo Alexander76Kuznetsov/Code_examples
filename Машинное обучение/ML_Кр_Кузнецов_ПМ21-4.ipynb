{
 "cells": [
  {
   "cell_type": "markdown",
   "id": "7c8db920",
   "metadata": {},
   "source": [
    "# Кузнецов, ПМ21-4, вариант 20"
   ]
  },
  {
   "cell_type": "markdown",
   "id": "f260c489",
   "metadata": {},
   "source": [
    "# 1. Познакомьтесь с возможностями библиотеки sklearn по загрузке датасетов из репозитория openml.org"
   ]
  },
  {
   "cell_type": "code",
   "execution_count": 104,
   "id": "dcca4ffc",
   "metadata": {},
   "outputs": [],
   "source": [
    "from sklearn.datasets import fetch_openml\n",
    "import pandas as pd\n",
    "import matplotlib.pyplot as plt\n",
    "import seaborn as sns"
   ]
  },
  {
   "cell_type": "markdown",
   "id": "795fcb9c",
   "metadata": {},
   "source": [
    "# 2. Загрузите нужный вам датасет, выведите его основные характеристики: количество строк и столбцов, типы данных, количество значений в каждом столбце, основную статистическую информацию об атрибутах."
   ]
  },
  {
   "cell_type": "code",
   "execution_count": 245,
   "id": "67c2493d",
   "metadata": {},
   "outputs": [],
   "source": [
    "df = fetch_openml(name='prnn_crabs')"
   ]
  },
  {
   "cell_type": "code",
   "execution_count": 246,
   "id": "85bc00b5",
   "metadata": {
    "scrolled": true
   },
   "outputs": [],
   "source": [
    "X = df['data']\n",
    "y = df['target']"
   ]
  },
  {
   "cell_type": "code",
   "execution_count": 247,
   "id": "102ccb93",
   "metadata": {
    "scrolled": true
   },
   "outputs": [
    {
     "data": {
      "text/html": [
       "<div>\n",
       "<style scoped>\n",
       "    .dataframe tbody tr th:only-of-type {\n",
       "        vertical-align: middle;\n",
       "    }\n",
       "\n",
       "    .dataframe tbody tr th {\n",
       "        vertical-align: top;\n",
       "    }\n",
       "\n",
       "    .dataframe thead th {\n",
       "        text-align: right;\n",
       "    }\n",
       "</style>\n",
       "<table border=\"1\" class=\"dataframe\">\n",
       "  <thead>\n",
       "    <tr style=\"text-align: right;\">\n",
       "      <th></th>\n",
       "      <th>sex</th>\n",
       "      <th>index</th>\n",
       "      <th>FL</th>\n",
       "      <th>RW</th>\n",
       "      <th>CL</th>\n",
       "      <th>CW</th>\n",
       "      <th>BD</th>\n",
       "    </tr>\n",
       "  </thead>\n",
       "  <tbody>\n",
       "    <tr>\n",
       "      <th>0</th>\n",
       "      <td>Male</td>\n",
       "      <td>1.0</td>\n",
       "      <td>8.1</td>\n",
       "      <td>6.7</td>\n",
       "      <td>16.1</td>\n",
       "      <td>19.0</td>\n",
       "      <td>7.0</td>\n",
       "    </tr>\n",
       "    <tr>\n",
       "      <th>1</th>\n",
       "      <td>Male</td>\n",
       "      <td>2.0</td>\n",
       "      <td>8.8</td>\n",
       "      <td>7.7</td>\n",
       "      <td>18.1</td>\n",
       "      <td>20.8</td>\n",
       "      <td>7.4</td>\n",
       "    </tr>\n",
       "    <tr>\n",
       "      <th>2</th>\n",
       "      <td>Male</td>\n",
       "      <td>3.0</td>\n",
       "      <td>9.2</td>\n",
       "      <td>7.8</td>\n",
       "      <td>19.0</td>\n",
       "      <td>22.4</td>\n",
       "      <td>7.7</td>\n",
       "    </tr>\n",
       "    <tr>\n",
       "      <th>3</th>\n",
       "      <td>Male</td>\n",
       "      <td>4.0</td>\n",
       "      <td>9.6</td>\n",
       "      <td>7.9</td>\n",
       "      <td>20.1</td>\n",
       "      <td>23.1</td>\n",
       "      <td>8.2</td>\n",
       "    </tr>\n",
       "    <tr>\n",
       "      <th>4</th>\n",
       "      <td>Male</td>\n",
       "      <td>5.0</td>\n",
       "      <td>9.8</td>\n",
       "      <td>8.0</td>\n",
       "      <td>20.3</td>\n",
       "      <td>23.0</td>\n",
       "      <td>8.2</td>\n",
       "    </tr>\n",
       "  </tbody>\n",
       "</table>\n",
       "</div>"
      ],
      "text/plain": [
       "    sex  index   FL   RW    CL    CW   BD\n",
       "0  Male    1.0  8.1  6.7  16.1  19.0  7.0\n",
       "1  Male    2.0  8.8  7.7  18.1  20.8  7.4\n",
       "2  Male    3.0  9.2  7.8  19.0  22.4  7.7\n",
       "3  Male    4.0  9.6  7.9  20.1  23.1  8.2\n",
       "4  Male    5.0  9.8  8.0  20.3  23.0  8.2"
      ]
     },
     "execution_count": 247,
     "metadata": {},
     "output_type": "execute_result"
    }
   ],
   "source": [
    "X.head()"
   ]
  },
  {
   "cell_type": "code",
   "execution_count": 248,
   "id": "3caeef88",
   "metadata": {},
   "outputs": [
    {
     "data": {
      "text/plain": [
       "(200, 7)"
      ]
     },
     "execution_count": 248,
     "metadata": {},
     "output_type": "execute_result"
    }
   ],
   "source": [
    "X.shape"
   ]
  },
  {
   "cell_type": "code",
   "execution_count": 249,
   "id": "2272ed6d",
   "metadata": {},
   "outputs": [
    {
     "name": "stdout",
     "output_type": "stream",
     "text": [
      "<class 'pandas.core.frame.DataFrame'>\n",
      "RangeIndex: 200 entries, 0 to 199\n",
      "Data columns (total 7 columns):\n",
      " #   Column  Non-Null Count  Dtype   \n",
      "---  ------  --------------  -----   \n",
      " 0   sex     200 non-null    category\n",
      " 1   index   200 non-null    float64 \n",
      " 2   FL      200 non-null    float64 \n",
      " 3   RW      200 non-null    float64 \n",
      " 4   CL      200 non-null    float64 \n",
      " 5   CW      200 non-null    float64 \n",
      " 6   BD      200 non-null    float64 \n",
      "dtypes: category(1), float64(6)\n",
      "memory usage: 9.8 KB\n"
     ]
    }
   ],
   "source": [
    "X.info()"
   ]
  },
  {
   "cell_type": "code",
   "execution_count": 250,
   "id": "dab9ff4a",
   "metadata": {},
   "outputs": [
    {
     "data": {
      "text/html": [
       "<div>\n",
       "<style scoped>\n",
       "    .dataframe tbody tr th:only-of-type {\n",
       "        vertical-align: middle;\n",
       "    }\n",
       "\n",
       "    .dataframe tbody tr th {\n",
       "        vertical-align: top;\n",
       "    }\n",
       "\n",
       "    .dataframe thead th {\n",
       "        text-align: right;\n",
       "    }\n",
       "</style>\n",
       "<table border=\"1\" class=\"dataframe\">\n",
       "  <thead>\n",
       "    <tr style=\"text-align: right;\">\n",
       "      <th></th>\n",
       "      <th>index</th>\n",
       "      <th>FL</th>\n",
       "      <th>RW</th>\n",
       "      <th>CL</th>\n",
       "      <th>CW</th>\n",
       "      <th>BD</th>\n",
       "    </tr>\n",
       "  </thead>\n",
       "  <tbody>\n",
       "    <tr>\n",
       "      <th>count</th>\n",
       "      <td>200.000000</td>\n",
       "      <td>200.000000</td>\n",
       "      <td>200.00000</td>\n",
       "      <td>200.000000</td>\n",
       "      <td>200.000000</td>\n",
       "      <td>200.000000</td>\n",
       "    </tr>\n",
       "    <tr>\n",
       "      <th>mean</th>\n",
       "      <td>25.500000</td>\n",
       "      <td>15.583000</td>\n",
       "      <td>12.73850</td>\n",
       "      <td>32.105500</td>\n",
       "      <td>36.414500</td>\n",
       "      <td>14.030500</td>\n",
       "    </tr>\n",
       "    <tr>\n",
       "      <th>std</th>\n",
       "      <td>14.467083</td>\n",
       "      <td>3.495325</td>\n",
       "      <td>2.57334</td>\n",
       "      <td>7.118983</td>\n",
       "      <td>7.871955</td>\n",
       "      <td>3.424772</td>\n",
       "    </tr>\n",
       "    <tr>\n",
       "      <th>min</th>\n",
       "      <td>1.000000</td>\n",
       "      <td>7.200000</td>\n",
       "      <td>6.50000</td>\n",
       "      <td>14.700000</td>\n",
       "      <td>17.100000</td>\n",
       "      <td>6.100000</td>\n",
       "    </tr>\n",
       "    <tr>\n",
       "      <th>25%</th>\n",
       "      <td>13.000000</td>\n",
       "      <td>12.900000</td>\n",
       "      <td>11.00000</td>\n",
       "      <td>27.275000</td>\n",
       "      <td>31.500000</td>\n",
       "      <td>11.400000</td>\n",
       "    </tr>\n",
       "    <tr>\n",
       "      <th>50%</th>\n",
       "      <td>25.500000</td>\n",
       "      <td>15.550000</td>\n",
       "      <td>12.80000</td>\n",
       "      <td>32.100000</td>\n",
       "      <td>36.800000</td>\n",
       "      <td>13.900000</td>\n",
       "    </tr>\n",
       "    <tr>\n",
       "      <th>75%</th>\n",
       "      <td>38.000000</td>\n",
       "      <td>18.050000</td>\n",
       "      <td>14.30000</td>\n",
       "      <td>37.225000</td>\n",
       "      <td>42.000000</td>\n",
       "      <td>16.600000</td>\n",
       "    </tr>\n",
       "    <tr>\n",
       "      <th>max</th>\n",
       "      <td>50.000000</td>\n",
       "      <td>23.100000</td>\n",
       "      <td>20.20000</td>\n",
       "      <td>47.600000</td>\n",
       "      <td>54.600000</td>\n",
       "      <td>21.600000</td>\n",
       "    </tr>\n",
       "  </tbody>\n",
       "</table>\n",
       "</div>"
      ],
      "text/plain": [
       "            index          FL         RW          CL          CW          BD\n",
       "count  200.000000  200.000000  200.00000  200.000000  200.000000  200.000000\n",
       "mean    25.500000   15.583000   12.73850   32.105500   36.414500   14.030500\n",
       "std     14.467083    3.495325    2.57334    7.118983    7.871955    3.424772\n",
       "min      1.000000    7.200000    6.50000   14.700000   17.100000    6.100000\n",
       "25%     13.000000   12.900000   11.00000   27.275000   31.500000   11.400000\n",
       "50%     25.500000   15.550000   12.80000   32.100000   36.800000   13.900000\n",
       "75%     38.000000   18.050000   14.30000   37.225000   42.000000   16.600000\n",
       "max     50.000000   23.100000   20.20000   47.600000   54.600000   21.600000"
      ]
     },
     "execution_count": 250,
     "metadata": {},
     "output_type": "execute_result"
    }
   ],
   "source": [
    "X.describe()"
   ]
  },
  {
   "cell_type": "code",
   "execution_count": 251,
   "id": "1428f08d",
   "metadata": {},
   "outputs": [
    {
     "data": {
      "text/plain": [
       "0    blue_form\n",
       "1    blue_form\n",
       "2    blue_form\n",
       "3    blue_form\n",
       "4    blue_form\n",
       "Name: sp, dtype: category\n",
       "Categories (2, object): ['blue_form', 'orange_form']"
      ]
     },
     "execution_count": 251,
     "metadata": {},
     "output_type": "execute_result"
    }
   ],
   "source": [
    "y.head()"
   ]
  },
  {
   "cell_type": "markdown",
   "id": "283a3f18",
   "metadata": {},
   "source": [
    "**В целевой переменной 2 класса $\\Rightarrow$ бинарная классификация**"
   ]
  },
  {
   "cell_type": "code",
   "execution_count": 252,
   "id": "581bf1c7",
   "metadata": {
    "scrolled": true
   },
   "outputs": [
    {
     "data": {
      "text/plain": [
       "146    1\n",
       "79     0\n",
       "177    1\n",
       "163    1\n",
       "150    1\n",
       "12     0\n",
       "58     0\n",
       "29     0\n",
       "59     0\n",
       "171    1\n",
       "Name: sp, dtype: int64"
      ]
     },
     "execution_count": 252,
     "metadata": {},
     "output_type": "execute_result"
    }
   ],
   "source": [
    "y_int = (y=='orange_form').apply(int)\n",
    "y_int.sample(10)"
   ]
  },
  {
   "cell_type": "markdown",
   "id": "0bf5521e",
   "metadata": {},
   "source": [
    "\"1\" - 'orange_form'\\\n",
    "\"0\" - 'blue_form'"
   ]
  },
  {
   "cell_type": "markdown",
   "id": "e8dddf8b",
   "metadata": {},
   "source": [
    "# 3. Прочитайте и изложите в работе общее описание датасета. Опишите, решаемую моделированием проблему."
   ]
  },
  {
   "cell_type": "markdown",
   "id": "e744402b",
   "metadata": {},
   "source": [
    "Данные Campbell & Mahon (1974) о морфологии скальных крабов рода Leptograpsus.\n",
    "\n",
    "Насчитывается по 50 особей каждого пола каждой из двух цветовых форм.\n",
    "\n",
    "Файл данных crabs.dat содержит строки\n",
    "\n",
    "sp \"species\" с кодировкой B (синяя форма) или O (оранжевая форма) индекс пола с кодировкой M или F в каждой группе из 50 FL передняя кромка панциря (мм) RW задняя ширина панциря (мм) CL длина по средней линии панциря (мм) CW максимальная ширина панциря (мм) Глубина корпуса BD (мм)"
   ]
  },
  {
   "cell_type": "markdown",
   "id": "3ae2096d",
   "metadata": {},
   "source": [
    "**Задача:** юинарная классификация крабов."
   ]
  },
  {
   "cell_type": "markdown",
   "id": "17dc53df",
   "metadata": {},
   "source": [
    "# 4. Удалите, если нужно, нечисловые колонки в датасете."
   ]
  },
  {
   "cell_type": "code",
   "execution_count": 253,
   "id": "bceb5d03",
   "metadata": {},
   "outputs": [],
   "source": [
    "from sklearn import preprocessing"
   ]
  },
  {
   "cell_type": "markdown",
   "id": "cae0da92",
   "metadata": {},
   "source": [
    "**Заменим признак 'sex' на бинарный признак 'is_male', и удалим столбцы 'sex' и 'index'.**"
   ]
  },
  {
   "cell_type": "code",
   "execution_count": 254,
   "id": "f599d2ad",
   "metadata": {},
   "outputs": [
    {
     "data": {
      "text/html": [
       "<div>\n",
       "<style scoped>\n",
       "    .dataframe tbody tr th:only-of-type {\n",
       "        vertical-align: middle;\n",
       "    }\n",
       "\n",
       "    .dataframe tbody tr th {\n",
       "        vertical-align: top;\n",
       "    }\n",
       "\n",
       "    .dataframe thead th {\n",
       "        text-align: right;\n",
       "    }\n",
       "</style>\n",
       "<table border=\"1\" class=\"dataframe\">\n",
       "  <thead>\n",
       "    <tr style=\"text-align: right;\">\n",
       "      <th></th>\n",
       "      <th>sex</th>\n",
       "      <th>index</th>\n",
       "      <th>FL</th>\n",
       "      <th>RW</th>\n",
       "      <th>CL</th>\n",
       "      <th>CW</th>\n",
       "      <th>BD</th>\n",
       "      <th>is_male</th>\n",
       "    </tr>\n",
       "  </thead>\n",
       "  <tbody>\n",
       "    <tr>\n",
       "      <th>47</th>\n",
       "      <td>Male</td>\n",
       "      <td>48.0</td>\n",
       "      <td>19.8</td>\n",
       "      <td>14.2</td>\n",
       "      <td>43.2</td>\n",
       "      <td>49.7</td>\n",
       "      <td>18.6</td>\n",
       "      <td>1</td>\n",
       "    </tr>\n",
       "    <tr>\n",
       "      <th>48</th>\n",
       "      <td>Male</td>\n",
       "      <td>49.0</td>\n",
       "      <td>19.8</td>\n",
       "      <td>14.3</td>\n",
       "      <td>42.4</td>\n",
       "      <td>48.9</td>\n",
       "      <td>18.3</td>\n",
       "      <td>1</td>\n",
       "    </tr>\n",
       "    <tr>\n",
       "      <th>49</th>\n",
       "      <td>Male</td>\n",
       "      <td>50.0</td>\n",
       "      <td>21.3</td>\n",
       "      <td>15.7</td>\n",
       "      <td>47.1</td>\n",
       "      <td>54.6</td>\n",
       "      <td>20.0</td>\n",
       "      <td>1</td>\n",
       "    </tr>\n",
       "    <tr>\n",
       "      <th>50</th>\n",
       "      <td>Female</td>\n",
       "      <td>1.0</td>\n",
       "      <td>7.2</td>\n",
       "      <td>6.5</td>\n",
       "      <td>14.7</td>\n",
       "      <td>17.1</td>\n",
       "      <td>6.1</td>\n",
       "      <td>0</td>\n",
       "    </tr>\n",
       "    <tr>\n",
       "      <th>51</th>\n",
       "      <td>Female</td>\n",
       "      <td>2.0</td>\n",
       "      <td>9.0</td>\n",
       "      <td>8.5</td>\n",
       "      <td>19.3</td>\n",
       "      <td>22.7</td>\n",
       "      <td>7.7</td>\n",
       "      <td>0</td>\n",
       "    </tr>\n",
       "  </tbody>\n",
       "</table>\n",
       "</div>"
      ],
      "text/plain": [
       "       sex  index    FL    RW    CL    CW    BD  is_male\n",
       "47    Male   48.0  19.8  14.2  43.2  49.7  18.6        1\n",
       "48    Male   49.0  19.8  14.3  42.4  48.9  18.3        1\n",
       "49    Male   50.0  21.3  15.7  47.1  54.6  20.0        1\n",
       "50  Female    1.0   7.2   6.5  14.7  17.1   6.1        0\n",
       "51  Female    2.0   9.0   8.5  19.3  22.7   7.7        0"
      ]
     },
     "execution_count": 254,
     "metadata": {},
     "output_type": "execute_result"
    }
   ],
   "source": [
    "le = preprocessing.LabelEncoder()\n",
    "X['is_male'] = le.fit_transform(X['sex'])\n",
    "X.iloc[47:52]"
   ]
  },
  {
   "cell_type": "code",
   "execution_count": 255,
   "id": "107b0f5b",
   "metadata": {},
   "outputs": [
    {
     "data": {
      "text/html": [
       "<div>\n",
       "<style scoped>\n",
       "    .dataframe tbody tr th:only-of-type {\n",
       "        vertical-align: middle;\n",
       "    }\n",
       "\n",
       "    .dataframe tbody tr th {\n",
       "        vertical-align: top;\n",
       "    }\n",
       "\n",
       "    .dataframe thead th {\n",
       "        text-align: right;\n",
       "    }\n",
       "</style>\n",
       "<table border=\"1\" class=\"dataframe\">\n",
       "  <thead>\n",
       "    <tr style=\"text-align: right;\">\n",
       "      <th></th>\n",
       "      <th>FL</th>\n",
       "      <th>RW</th>\n",
       "      <th>CL</th>\n",
       "      <th>CW</th>\n",
       "      <th>BD</th>\n",
       "      <th>is_male</th>\n",
       "    </tr>\n",
       "  </thead>\n",
       "  <tbody>\n",
       "    <tr>\n",
       "      <th>0</th>\n",
       "      <td>8.1</td>\n",
       "      <td>6.7</td>\n",
       "      <td>16.1</td>\n",
       "      <td>19.0</td>\n",
       "      <td>7.0</td>\n",
       "      <td>1</td>\n",
       "    </tr>\n",
       "    <tr>\n",
       "      <th>1</th>\n",
       "      <td>8.8</td>\n",
       "      <td>7.7</td>\n",
       "      <td>18.1</td>\n",
       "      <td>20.8</td>\n",
       "      <td>7.4</td>\n",
       "      <td>1</td>\n",
       "    </tr>\n",
       "    <tr>\n",
       "      <th>2</th>\n",
       "      <td>9.2</td>\n",
       "      <td>7.8</td>\n",
       "      <td>19.0</td>\n",
       "      <td>22.4</td>\n",
       "      <td>7.7</td>\n",
       "      <td>1</td>\n",
       "    </tr>\n",
       "    <tr>\n",
       "      <th>3</th>\n",
       "      <td>9.6</td>\n",
       "      <td>7.9</td>\n",
       "      <td>20.1</td>\n",
       "      <td>23.1</td>\n",
       "      <td>8.2</td>\n",
       "      <td>1</td>\n",
       "    </tr>\n",
       "    <tr>\n",
       "      <th>4</th>\n",
       "      <td>9.8</td>\n",
       "      <td>8.0</td>\n",
       "      <td>20.3</td>\n",
       "      <td>23.0</td>\n",
       "      <td>8.2</td>\n",
       "      <td>1</td>\n",
       "    </tr>\n",
       "  </tbody>\n",
       "</table>\n",
       "</div>"
      ],
      "text/plain": [
       "    FL   RW    CL    CW   BD  is_male\n",
       "0  8.1  6.7  16.1  19.0  7.0        1\n",
       "1  8.8  7.7  18.1  20.8  7.4        1\n",
       "2  9.2  7.8  19.0  22.4  7.7        1\n",
       "3  9.6  7.9  20.1  23.1  8.2        1\n",
       "4  9.8  8.0  20.3  23.0  8.2        1"
      ]
     },
     "execution_count": 255,
     "metadata": {},
     "output_type": "execute_result"
    }
   ],
   "source": [
    "X = X.drop(['sex','index'], axis=1)\n",
    "X.head()"
   ]
  },
  {
   "cell_type": "code",
   "execution_count": 256,
   "id": "689bd9d7",
   "metadata": {},
   "outputs": [
    {
     "data": {
      "text/plain": [
       "0    blue_form\n",
       "1    blue_form\n",
       "2    blue_form\n",
       "3    blue_form\n",
       "4    blue_form\n",
       "Name: sp, dtype: category\n",
       "Categories (2, object): ['blue_form', 'orange_form']"
      ]
     },
     "execution_count": 256,
     "metadata": {},
     "output_type": "execute_result"
    }
   ],
   "source": [
    "y.head()"
   ]
  },
  {
   "cell_type": "markdown",
   "id": "4dffa49b",
   "metadata": {},
   "source": [
    "# 5. При необходимости заполните нулем пропущенные значения."
   ]
  },
  {
   "cell_type": "code",
   "execution_count": 257,
   "id": "8d712490",
   "metadata": {},
   "outputs": [
    {
     "data": {
      "text/plain": [
       "0"
      ]
     },
     "execution_count": 257,
     "metadata": {},
     "output_type": "execute_result"
    }
   ],
   "source": [
    "X.isna().sum().sum()"
   ]
  },
  {
   "cell_type": "markdown",
   "id": "8aa11ef8",
   "metadata": {},
   "source": [
    "**Пропущенных значений нет**"
   ]
  },
  {
   "cell_type": "markdown",
   "id": "3c42e35c",
   "metadata": {},
   "source": [
    "# 6. Постройте гистограммы распределения по каждому признаку."
   ]
  },
  {
   "cell_type": "code",
   "execution_count": 258,
   "id": "8bc500c7",
   "metadata": {},
   "outputs": [
    {
     "data": {
      "text/html": [
       "<div>\n",
       "<style scoped>\n",
       "    .dataframe tbody tr th:only-of-type {\n",
       "        vertical-align: middle;\n",
       "    }\n",
       "\n",
       "    .dataframe tbody tr th {\n",
       "        vertical-align: top;\n",
       "    }\n",
       "\n",
       "    .dataframe thead th {\n",
       "        text-align: right;\n",
       "    }\n",
       "</style>\n",
       "<table border=\"1\" class=\"dataframe\">\n",
       "  <thead>\n",
       "    <tr style=\"text-align: right;\">\n",
       "      <th></th>\n",
       "      <th>FL</th>\n",
       "      <th>RW</th>\n",
       "      <th>CL</th>\n",
       "      <th>CW</th>\n",
       "      <th>BD</th>\n",
       "      <th>is_male</th>\n",
       "      <th>sp</th>\n",
       "    </tr>\n",
       "  </thead>\n",
       "  <tbody>\n",
       "    <tr>\n",
       "      <th>0</th>\n",
       "      <td>8.1</td>\n",
       "      <td>6.7</td>\n",
       "      <td>16.1</td>\n",
       "      <td>19.0</td>\n",
       "      <td>7.0</td>\n",
       "      <td>1</td>\n",
       "      <td>0</td>\n",
       "    </tr>\n",
       "    <tr>\n",
       "      <th>1</th>\n",
       "      <td>8.8</td>\n",
       "      <td>7.7</td>\n",
       "      <td>18.1</td>\n",
       "      <td>20.8</td>\n",
       "      <td>7.4</td>\n",
       "      <td>1</td>\n",
       "      <td>0</td>\n",
       "    </tr>\n",
       "    <tr>\n",
       "      <th>2</th>\n",
       "      <td>9.2</td>\n",
       "      <td>7.8</td>\n",
       "      <td>19.0</td>\n",
       "      <td>22.4</td>\n",
       "      <td>7.7</td>\n",
       "      <td>1</td>\n",
       "      <td>0</td>\n",
       "    </tr>\n",
       "    <tr>\n",
       "      <th>3</th>\n",
       "      <td>9.6</td>\n",
       "      <td>7.9</td>\n",
       "      <td>20.1</td>\n",
       "      <td>23.1</td>\n",
       "      <td>8.2</td>\n",
       "      <td>1</td>\n",
       "      <td>0</td>\n",
       "    </tr>\n",
       "    <tr>\n",
       "      <th>4</th>\n",
       "      <td>9.8</td>\n",
       "      <td>8.0</td>\n",
       "      <td>20.3</td>\n",
       "      <td>23.0</td>\n",
       "      <td>8.2</td>\n",
       "      <td>1</td>\n",
       "      <td>0</td>\n",
       "    </tr>\n",
       "    <tr>\n",
       "      <th>...</th>\n",
       "      <td>...</td>\n",
       "      <td>...</td>\n",
       "      <td>...</td>\n",
       "      <td>...</td>\n",
       "      <td>...</td>\n",
       "      <td>...</td>\n",
       "      <td>...</td>\n",
       "    </tr>\n",
       "    <tr>\n",
       "      <th>195</th>\n",
       "      <td>21.4</td>\n",
       "      <td>18.0</td>\n",
       "      <td>41.2</td>\n",
       "      <td>46.2</td>\n",
       "      <td>18.7</td>\n",
       "      <td>0</td>\n",
       "      <td>1</td>\n",
       "    </tr>\n",
       "    <tr>\n",
       "      <th>196</th>\n",
       "      <td>21.7</td>\n",
       "      <td>17.1</td>\n",
       "      <td>41.7</td>\n",
       "      <td>47.2</td>\n",
       "      <td>19.6</td>\n",
       "      <td>0</td>\n",
       "      <td>1</td>\n",
       "    </tr>\n",
       "    <tr>\n",
       "      <th>197</th>\n",
       "      <td>21.9</td>\n",
       "      <td>17.2</td>\n",
       "      <td>42.6</td>\n",
       "      <td>47.4</td>\n",
       "      <td>19.5</td>\n",
       "      <td>0</td>\n",
       "      <td>1</td>\n",
       "    </tr>\n",
       "    <tr>\n",
       "      <th>198</th>\n",
       "      <td>22.5</td>\n",
       "      <td>17.2</td>\n",
       "      <td>43.0</td>\n",
       "      <td>48.7</td>\n",
       "      <td>19.8</td>\n",
       "      <td>0</td>\n",
       "      <td>1</td>\n",
       "    </tr>\n",
       "    <tr>\n",
       "      <th>199</th>\n",
       "      <td>23.1</td>\n",
       "      <td>20.2</td>\n",
       "      <td>46.2</td>\n",
       "      <td>52.5</td>\n",
       "      <td>21.1</td>\n",
       "      <td>0</td>\n",
       "      <td>1</td>\n",
       "    </tr>\n",
       "  </tbody>\n",
       "</table>\n",
       "<p>200 rows × 7 columns</p>\n",
       "</div>"
      ],
      "text/plain": [
       "       FL    RW    CL    CW    BD  is_male  sp\n",
       "0     8.1   6.7  16.1  19.0   7.0        1   0\n",
       "1     8.8   7.7  18.1  20.8   7.4        1   0\n",
       "2     9.2   7.8  19.0  22.4   7.7        1   0\n",
       "3     9.6   7.9  20.1  23.1   8.2        1   0\n",
       "4     9.8   8.0  20.3  23.0   8.2        1   0\n",
       "..    ...   ...   ...   ...   ...      ...  ..\n",
       "195  21.4  18.0  41.2  46.2  18.7        0   1\n",
       "196  21.7  17.1  41.7  47.2  19.6        0   1\n",
       "197  21.9  17.2  42.6  47.4  19.5        0   1\n",
       "198  22.5  17.2  43.0  48.7  19.8        0   1\n",
       "199  23.1  20.2  46.2  52.5  21.1        0   1\n",
       "\n",
       "[200 rows x 7 columns]"
      ]
     },
     "execution_count": 258,
     "metadata": {},
     "output_type": "execute_result"
    }
   ],
   "source": [
    "X_y = pd.concat([X, y_int], axis=1)\n",
    "X_y"
   ]
  },
  {
   "cell_type": "code",
   "execution_count": 259,
   "id": "1fdd4781",
   "metadata": {},
   "outputs": [
    {
     "data": {
      "image/png": "[encoded data removed]",
      "text/plain": [
       "<Figure size 1080x1080 with 6 Axes>"
      ]
     },
     "metadata": {
      "needs_background": "light"
     },
     "output_type": "display_data"
    }
   ],
   "source": [
    "features = X.columns\n",
    "for i, f in enumerate(features):\n",
    "    ax = plt.subplot(3, 2, i+1)\n",
    "    ax.figure.set_size_inches(15, 15)\n",
    "    sns.histplot(data=X_y, x=f, hue='sp', bins=50);\n",
    "    plt.title(\"Histogram\");"
   ]
  },
  {
   "cell_type": "markdown",
   "id": "0b6a0e61",
   "metadata": {},
   "source": [
    "# 7. Постройте модель машинного обучения, обучите ее на всем датасете."
   ]
  },
  {
   "cell_type": "code",
   "execution_count": 260,
   "id": "26bde82c",
   "metadata": {},
   "outputs": [],
   "source": [
    "from sklearn.linear_model import LogisticRegression"
   ]
  },
  {
   "cell_type": "code",
   "execution_count": 261,
   "id": "2222c02b",
   "metadata": {},
   "outputs": [],
   "source": [
    "clf = LogisticRegression().fit(X, y_int)"
   ]
  },
  {
   "cell_type": "code",
   "execution_count": 262,
   "id": "47eb25ec",
   "metadata": {},
   "outputs": [
    {
     "data": {
      "text/plain": [
       "array([0, 0, 0, 0, 0, 0, 0, 0, 0, 0, 0, 0, 0, 0, 0, 0, 0, 0, 0, 0, 0, 0,\n",
       "       0, 0, 0, 0, 0, 0, 0, 0, 0, 0, 0, 0, 0, 0, 0, 0, 0, 0, 0, 0, 0, 0,\n",
       "       0, 0, 0, 0, 0, 0, 0, 0, 0, 0, 0, 0, 0, 0, 0, 0, 0, 0, 0, 0, 0, 0,\n",
       "       0, 0, 0, 0, 0, 0, 0, 0, 0, 0, 0, 0, 0, 0, 0, 0, 0, 0, 0, 0, 0, 0,\n",
       "       0, 0, 0, 0, 0, 0, 0, 0, 0, 0, 0, 0, 1, 1, 1, 1, 1, 1, 1, 1, 1, 1,\n",
       "       1, 1, 1, 1, 1, 1, 1, 1, 1, 1, 1, 1, 1, 1, 1, 1, 1, 1, 1, 1, 1, 1,\n",
       "       1, 1, 1, 1, 1, 1, 1, 1, 1, 1, 1, 1, 1, 1, 1, 1, 1, 1, 1, 1, 1, 1,\n",
       "       1, 1, 1, 1, 1, 1, 1, 1, 1, 1, 1, 1, 1, 1, 1, 1, 1, 1, 1, 1, 1, 1,\n",
       "       1, 1, 1, 1, 1, 1, 1, 1, 1, 1, 1, 1, 1, 1, 1, 1, 1, 1, 1, 1, 1, 1,\n",
       "       1, 1], dtype=int64)"
      ]
     },
     "execution_count": 262,
     "metadata": {},
     "output_type": "execute_result"
    }
   ],
   "source": [
    "y_pred = clf.predict(X)\n",
    "y_pred"
   ]
  },
  {
   "cell_type": "markdown",
   "id": "65a98ed2",
   "metadata": {},
   "source": [
    "# 8. Измерьте эффективность данной модели и сделайте вывод о ее применимости на практике."
   ]
  },
  {
   "cell_type": "code",
   "execution_count": 263,
   "id": "48f81769",
   "metadata": {
    "scrolled": true
   },
   "outputs": [
    {
     "data": {
      "text/plain": [
       "1.0"
      ]
     },
     "execution_count": 263,
     "metadata": {},
     "output_type": "execute_result"
    }
   ],
   "source": [
    "clf.score(X, y_int)"
   ]
  },
  {
   "cell_type": "code",
   "execution_count": 300,
   "id": "e7d281e2",
   "metadata": {},
   "outputs": [],
   "source": [
    "from sklearn.metrics import f1_score"
   ]
  },
  {
   "cell_type": "code",
   "execution_count": 301,
   "id": "6e2d730b",
   "metadata": {},
   "outputs": [
    {
     "data": {
      "text/plain": [
       "1.0"
      ]
     },
     "execution_count": 301,
     "metadata": {},
     "output_type": "execute_result"
    }
   ],
   "source": [
    "f1_score(y_int, y_pred)"
   ]
  },
  {
   "cell_type": "markdown",
   "id": "2449a23a",
   "metadata": {},
   "source": [
    "**Модель делает идельную классификацию на обучающем наборе, возможно переобучние**"
   ]
  },
  {
   "cell_type": "markdown",
   "id": "31d96031",
   "metadata": {},
   "source": [
    "# 9. Визуализируйте результаты моделирования, сравните реальные и предсказанные значения."
   ]
  },
  {
   "cell_type": "code",
   "execution_count": 266,
   "id": "4e226147",
   "metadata": {},
   "outputs": [
    {
     "data": {
      "image/png": "[encoded data removed]",
      "text/plain": [
       "<Figure size 432x288 with 1 Axes>"
      ]
     },
     "metadata": {
      "needs_background": "light"
     },
     "output_type": "display_data"
    }
   ],
   "source": [
    "plt.scatter(X.index, y_pred, lw=5)\n",
    "plt.scatter(X.index, y_int);"
   ]
  },
  {
   "cell_type": "markdown",
   "id": "dd059c47",
   "metadata": {},
   "source": [
    "# 10. Используйте несколько простых моделей машинного обучения. Сравните их эффективность между собой."
   ]
  },
  {
   "cell_type": "code",
   "execution_count": 267,
   "id": "9ff56f3e",
   "metadata": {},
   "outputs": [],
   "source": [
    "from sklearn.ensemble import RandomForestClassifier"
   ]
  },
  {
   "cell_type": "code",
   "execution_count": 268,
   "id": "23c45dd2",
   "metadata": {},
   "outputs": [
    {
     "data": {
      "text/plain": [
       "RandomForestClassifier(max_depth=5, random_state=0)"
      ]
     },
     "execution_count": 268,
     "metadata": {},
     "output_type": "execute_result"
    }
   ],
   "source": [
    "clf_for = RandomForestClassifier(max_depth=5, random_state=0)\n",
    "clf_for.fit(X, y_int)"
   ]
  },
  {
   "cell_type": "code",
   "execution_count": 269,
   "id": "3246eead",
   "metadata": {},
   "outputs": [],
   "source": [
    "y_pred_for = clf_for.predict(X)"
   ]
  },
  {
   "cell_type": "code",
   "execution_count": 270,
   "id": "f7a1884e",
   "metadata": {},
   "outputs": [
    {
     "data": {
      "image/png": "[encoded data removed]",
      "text/plain": [
       "<Figure size 432x288 with 1 Axes>"
      ]
     },
     "metadata": {
      "needs_background": "light"
     },
     "output_type": "display_data"
    }
   ],
   "source": [
    "plt.scatter(X.index, y_pred_for, lw=5, label=\"predicted\")\n",
    "plt.scatter(X.index, y_int, label=\"True\");"
   ]
  },
  {
   "cell_type": "code",
   "execution_count": 271,
   "id": "c357fd34",
   "metadata": {},
   "outputs": [
    {
     "data": {
      "text/plain": [
       "0.965"
      ]
     },
     "execution_count": 271,
     "metadata": {},
     "output_type": "execute_result"
    }
   ],
   "source": [
    "clf_for.score(X,y_int)"
   ]
  },
  {
   "cell_type": "code",
   "execution_count": 272,
   "id": "f827a9d2",
   "metadata": {},
   "outputs": [
    {
     "data": {
      "text/plain": [
       "0.9644670050761421"
      ]
     },
     "execution_count": 272,
     "metadata": {},
     "output_type": "execute_result"
    }
   ],
   "source": [
    "f1_score(y_int, y_pred_for)"
   ]
  },
  {
   "cell_type": "markdown",
   "id": "0c79d136",
   "metadata": {},
   "source": [
    "**Случайный лес сработал хуже на обучающей выборке**"
   ]
  },
  {
   "cell_type": "code",
   "execution_count": 273,
   "id": "821397d0",
   "metadata": {},
   "outputs": [],
   "source": [
    "from sklearn.neighbors import KNeighborsClassifier"
   ]
  },
  {
   "cell_type": "code",
   "execution_count": 274,
   "id": "81a817cd",
   "metadata": {},
   "outputs": [
    {
     "data": {
      "text/plain": [
       "KNeighborsClassifier(n_neighbors=3)"
      ]
     },
     "execution_count": 274,
     "metadata": {},
     "output_type": "execute_result"
    }
   ],
   "source": [
    "clf_knn = KNeighborsClassifier(n_neighbors=3)\n",
    "clf_knn.fit(X, y_int)"
   ]
  },
  {
   "cell_type": "code",
   "execution_count": 275,
   "id": "a9766903",
   "metadata": {},
   "outputs": [],
   "source": [
    "y_pred_knn = clf_knn.predict(X)"
   ]
  },
  {
   "cell_type": "code",
   "execution_count": 276,
   "id": "6222d959",
   "metadata": {},
   "outputs": [
    {
     "data": {
      "text/plain": [
       "0.98"
      ]
     },
     "execution_count": 276,
     "metadata": {},
     "output_type": "execute_result"
    }
   ],
   "source": [
    "clf_knn.score(X,y_int)"
   ]
  },
  {
   "cell_type": "code",
   "execution_count": 277,
   "id": "d834ced1",
   "metadata": {},
   "outputs": [
    {
     "data": {
      "text/plain": [
       "0.9801980198019802"
      ]
     },
     "execution_count": 277,
     "metadata": {},
     "output_type": "execute_result"
    }
   ],
   "source": [
    "f1_score(y_int, y_pred_knn)"
   ]
  },
  {
   "cell_type": "markdown",
   "id": "400a7aa8",
   "metadata": {},
   "source": [
    "# Дополнительные задания\n",
    "### 1. Разбейте датасет на обучающую и тестовую выборки. Обучите модель на первой, а измерьте ее эффективность на второй."
   ]
  },
  {
   "cell_type": "code",
   "execution_count": 278,
   "id": "60d542f4",
   "metadata": {},
   "outputs": [],
   "source": [
    "from sklearn.model_selection import train_test_split"
   ]
  },
  {
   "cell_type": "code",
   "execution_count": 279,
   "id": "593a1a69",
   "metadata": {},
   "outputs": [],
   "source": [
    "X_train, X_test, y_train, y_test = train_test_split(X, y_int, test_size=0.3, random_state=42)"
   ]
  },
  {
   "cell_type": "code",
   "execution_count": 280,
   "id": "21998e35",
   "metadata": {},
   "outputs": [
    {
     "data": {
      "text/plain": [
       "(140, 6)"
      ]
     },
     "execution_count": 280,
     "metadata": {},
     "output_type": "execute_result"
    }
   ],
   "source": [
    "X_train.shape"
   ]
  },
  {
   "cell_type": "code",
   "execution_count": 281,
   "id": "ecdd324c",
   "metadata": {},
   "outputs": [
    {
     "data": {
      "text/plain": [
       "(60, 6)"
      ]
     },
     "execution_count": 281,
     "metadata": {},
     "output_type": "execute_result"
    }
   ],
   "source": [
    "X_test.shape"
   ]
  },
  {
   "cell_type": "code",
   "execution_count": 294,
   "id": "58396804",
   "metadata": {},
   "outputs": [
    {
     "data": {
      "text/plain": [
       "1.0"
      ]
     },
     "execution_count": 294,
     "metadata": {},
     "output_type": "execute_result"
    }
   ],
   "source": [
    "clf1 = LogisticRegression().fit(X_train, y_train)\n",
    "clf1_score = clf1.score(X_test, y_test)\n",
    "clf1_score"
   ]
  },
  {
   "cell_type": "code",
   "execution_count": 295,
   "id": "7c8c5a1c",
   "metadata": {},
   "outputs": [
    {
     "data": {
      "text/plain": [
       "0.85"
      ]
     },
     "execution_count": 295,
     "metadata": {},
     "output_type": "execute_result"
    }
   ],
   "source": [
    "clf_for1 = RandomForestClassifier(max_depth=5).fit(X_train, y_train)\n",
    "clf_for1_score = clf_for1.score(X_test, y_test)\n",
    "clf_for1_score"
   ]
  },
  {
   "cell_type": "code",
   "execution_count": 296,
   "id": "db7f8b04",
   "metadata": {},
   "outputs": [
    {
     "data": {
      "text/plain": [
       "0.9166666666666666"
      ]
     },
     "execution_count": 296,
     "metadata": {},
     "output_type": "execute_result"
    }
   ],
   "source": [
    "clf_knn1 = KNeighborsClassifier(n_neighbors=3).fit(X_train, y_train)\n",
    "clf_knn1_score = clf_knn1.score(X_test, y_test)\n",
    "clf_knn1_score"
   ]
  },
  {
   "cell_type": "markdown",
   "id": "277a6ab2",
   "metadata": {},
   "source": [
    "### 2. Примените несколько метрик эффективности для сравнения моделей."
   ]
  },
  {
   "cell_type": "code",
   "execution_count": 305,
   "id": "d82f9d5c",
   "metadata": {},
   "outputs": [],
   "source": [
    "from sklearn.metrics import roc_auc_score"
   ]
  },
  {
   "cell_type": "code",
   "execution_count": 318,
   "id": "40222537",
   "metadata": {},
   "outputs": [
    {
     "data": {
      "text/plain": [
       "1.0"
      ]
     },
     "execution_count": 318,
     "metadata": {},
     "output_type": "execute_result"
    }
   ],
   "source": [
    "roc_auc_score_score = roc_auc_score(y_test, clf1.predict(X_test))\n",
    "roc_auc_score_score"
   ]
  },
  {
   "cell_type": "code",
   "execution_count": 319,
   "id": "9bd37736",
   "metadata": {},
   "outputs": [
    {
     "data": {
      "text/plain": [
       "0.8492769744160178"
      ]
     },
     "execution_count": 319,
     "metadata": {},
     "output_type": "execute_result"
    }
   ],
   "source": [
    "roc_auc_score_score_for1 = roc_auc_score(list(y_test), list(clf_for1.predict(X_test)))\n",
    "roc_auc_score_score_for1"
   ]
  },
  {
   "cell_type": "code",
   "execution_count": 321,
   "id": "e42ef3da",
   "metadata": {},
   "outputs": [
    {
     "data": {
      "text/plain": [
       "0.9171301446051168"
      ]
     },
     "execution_count": 321,
     "metadata": {},
     "output_type": "execute_result"
    }
   ],
   "source": [
    "roc_auc_score_score_knn1 = roc_auc_score(y_test, clf_knn1.predict(X_test))\n",
    "roc_auc_score_score_knn1"
   ]
  },
  {
   "cell_type": "markdown",
   "id": "b2cd9c0d",
   "metadata": {},
   "source": [
    "### 3. Выведите сводную таблицу эффективности моделей."
   ]
  },
  {
   "cell_type": "code",
   "execution_count": 322,
   "id": "54d53426",
   "metadata": {},
   "outputs": [
    {
     "data": {
      "text/html": [
       "<div>\n",
       "<style scoped>\n",
       "    .dataframe tbody tr th:only-of-type {\n",
       "        vertical-align: middle;\n",
       "    }\n",
       "\n",
       "    .dataframe tbody tr th {\n",
       "        vertical-align: top;\n",
       "    }\n",
       "\n",
       "    .dataframe thead th {\n",
       "        text-align: right;\n",
       "    }\n",
       "</style>\n",
       "<table border=\"1\" class=\"dataframe\">\n",
       "  <thead>\n",
       "    <tr style=\"text-align: right;\">\n",
       "      <th></th>\n",
       "      <th>Model</th>\n",
       "      <th>Score</th>\n",
       "      <th>roc-auc</th>\n",
       "    </tr>\n",
       "  </thead>\n",
       "  <tbody>\n",
       "    <tr>\n",
       "      <th>0</th>\n",
       "      <td>LogReg</td>\n",
       "      <td>1.000000</td>\n",
       "      <td>1.000000</td>\n",
       "    </tr>\n",
       "    <tr>\n",
       "      <th>1</th>\n",
       "      <td>Random Forest</td>\n",
       "      <td>0.850000</td>\n",
       "      <td>0.849277</td>\n",
       "    </tr>\n",
       "    <tr>\n",
       "      <th>2</th>\n",
       "      <td>KNN</td>\n",
       "      <td>0.916667</td>\n",
       "      <td>0.917130</td>\n",
       "    </tr>\n",
       "  </tbody>\n",
       "</table>\n",
       "</div>"
      ],
      "text/plain": [
       "           Model     Score   roc-auc\n",
       "0         LogReg  1.000000  1.000000\n",
       "1  Random Forest  0.850000  0.849277\n",
       "2            KNN  0.916667  0.917130"
      ]
     },
     "execution_count": 322,
     "metadata": {},
     "output_type": "execute_result"
    }
   ],
   "source": [
    "models = ['LogReg', 'Random Forest', 'KNN']\n",
    "scores = [clf1_score, clf_for1_score, clf_knn1_score]\n",
    "roc = [roc_auc_score_score, roc_auc_score_score_for1, roc_auc_score_score_knn1]\n",
    "pd.DataFrame({'Model':models, 'Score':scores, 'roc-auc': roc})"
   ]
  },
  {
   "cell_type": "code",
   "execution_count": null,
   "id": "b8129153",
   "metadata": {},
   "outputs": [],
   "source": []
  }
 ],
 "metadata": {
  "kernelspec": {
   "display_name": "Python 3 (ipykernel)",
   "language": "python",
   "name": "python3"
  },
  "language_info": {
   "codemirror_mode": {
    "name": "ipython",
    "version": 3
   },
   "file_extension": ".py",
   "mimetype": "text/x-python",
   "name": "python",
   "nbconvert_exporter": "python",
   "pygments_lexer": "ipython3",
   "version": "3.9.7"
  }
 },
 "nbformat": 4,
 "nbformat_minor": 5
}

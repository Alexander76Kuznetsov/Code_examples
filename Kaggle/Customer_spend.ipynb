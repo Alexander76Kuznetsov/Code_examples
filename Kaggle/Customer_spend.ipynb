{
 "cells": [
  {
   "cell_type": "code",
   "execution_count": 1,
   "id": "5d0d6593",
   "metadata": {},
   "outputs": [],
   "source": [
    "import pandas as pd\n",
    "import numpy as np\n",
    "from sklearn.linear_model import LinearRegression\n",
    "from sklearn.ensemble import RandomForestRegressor\n",
    "from sklearn.model_selection import train_test_split\n",
    "from sklearn.preprocessing import OneHotEncoder\n",
    "from sklearn.feature_selection import SelectFromModel"
   ]
  },
  {
   "cell_type": "code",
   "execution_count": 2,
   "id": "58424f48",
   "metadata": {},
   "outputs": [
    {
     "data": {
      "text/html": [
       "<div>\n",
       "<style scoped>\n",
       "    .dataframe tbody tr th:only-of-type {\n",
       "        vertical-align: middle;\n",
       "    }\n",
       "\n",
       "    .dataframe tbody tr th {\n",
       "        vertical-align: top;\n",
       "    }\n",
       "\n",
       "    .dataframe thead th {\n",
       "        text-align: right;\n",
       "    }\n",
       "</style>\n",
       "<table border=\"1\" class=\"dataframe\">\n",
       "  <thead>\n",
       "    <tr style=\"text-align: right;\">\n",
       "      <th></th>\n",
       "      <th>Id</th>\n",
       "      <th>spend</th>\n",
       "      <th>X1</th>\n",
       "      <th>X2</th>\n",
       "      <th>X3</th>\n",
       "      <th>X4</th>\n",
       "      <th>X5</th>\n",
       "      <th>X6</th>\n",
       "      <th>X7</th>\n",
       "      <th>X8</th>\n",
       "      <th>...</th>\n",
       "      <th>X121</th>\n",
       "      <th>X122</th>\n",
       "      <th>X123</th>\n",
       "      <th>X124</th>\n",
       "      <th>X125</th>\n",
       "      <th>X126</th>\n",
       "      <th>X127</th>\n",
       "      <th>X128</th>\n",
       "      <th>X129</th>\n",
       "      <th>X130</th>\n",
       "    </tr>\n",
       "  </thead>\n",
       "  <tbody>\n",
       "    <tr>\n",
       "      <th>0</th>\n",
       "      <td>1294</td>\n",
       "      <td>87.78</td>\n",
       "      <td>0.919559</td>\n",
       "      <td>5</td>\n",
       "      <td>0.767277</td>\n",
       "      <td>0.527667</td>\n",
       "      <td>0.663123</td>\n",
       "      <td>5</td>\n",
       "      <td>0.354308</td>\n",
       "      <td>4</td>\n",
       "      <td>...</td>\n",
       "      <td>0.028279</td>\n",
       "      <td>58</td>\n",
       "      <td>-0.277899</td>\n",
       "      <td>5</td>\n",
       "      <td>-1.951704</td>\n",
       "      <td>5</td>\n",
       "      <td>0.604964</td>\n",
       "      <td>2</td>\n",
       "      <td>0.87</td>\n",
       "      <td>4</td>\n",
       "    </tr>\n",
       "    <tr>\n",
       "      <th>1</th>\n",
       "      <td>3330</td>\n",
       "      <td>417.54</td>\n",
       "      <td>0.299191</td>\n",
       "      <td>3</td>\n",
       "      <td>1.505120</td>\n",
       "      <td>0.064536</td>\n",
       "      <td>0.152453</td>\n",
       "      <td>2</td>\n",
       "      <td>0.737194</td>\n",
       "      <td>9</td>\n",
       "      <td>...</td>\n",
       "      <td>-1.246903</td>\n",
       "      <td>143</td>\n",
       "      <td>-1.845731</td>\n",
       "      <td>4</td>\n",
       "      <td>1.996854</td>\n",
       "      <td>3</td>\n",
       "      <td>0.940476</td>\n",
       "      <td>4</td>\n",
       "      <td>0.62</td>\n",
       "      <td>7</td>\n",
       "    </tr>\n",
       "    <tr>\n",
       "      <th>2</th>\n",
       "      <td>8437</td>\n",
       "      <td>4.74</td>\n",
       "      <td>0.728089</td>\n",
       "      <td>5</td>\n",
       "      <td>0.091530</td>\n",
       "      <td>0.214224</td>\n",
       "      <td>4.479039</td>\n",
       "      <td>6</td>\n",
       "      <td>0.119507</td>\n",
       "      <td>6</td>\n",
       "      <td>...</td>\n",
       "      <td>-0.737271</td>\n",
       "      <td>357</td>\n",
       "      <td>-0.444177</td>\n",
       "      <td>2</td>\n",
       "      <td>-0.878652</td>\n",
       "      <td>4</td>\n",
       "      <td>0.999782</td>\n",
       "      <td>4</td>\n",
       "      <td>0.94</td>\n",
       "      <td>6</td>\n",
       "    </tr>\n",
       "    <tr>\n",
       "      <th>3</th>\n",
       "      <td>965</td>\n",
       "      <td>97.27</td>\n",
       "      <td>0.724195</td>\n",
       "      <td>3</td>\n",
       "      <td>0.303376</td>\n",
       "      <td>0.120158</td>\n",
       "      <td>2.278870</td>\n",
       "      <td>4</td>\n",
       "      <td>1.674182</td>\n",
       "      <td>9</td>\n",
       "      <td>...</td>\n",
       "      <td>0.189367</td>\n",
       "      <td>43</td>\n",
       "      <td>-1.042953</td>\n",
       "      <td>6</td>\n",
       "      <td>0.422634</td>\n",
       "      <td>5</td>\n",
       "      <td>0.286419</td>\n",
       "      <td>5</td>\n",
       "      <td>0.38</td>\n",
       "      <td>6</td>\n",
       "    </tr>\n",
       "    <tr>\n",
       "      <th>4</th>\n",
       "      <td>1767</td>\n",
       "      <td>30.84</td>\n",
       "      <td>0.433751</td>\n",
       "      <td>3</td>\n",
       "      <td>1.288729</td>\n",
       "      <td>0.151632</td>\n",
       "      <td>1.103588</td>\n",
       "      <td>4</td>\n",
       "      <td>0.022785</td>\n",
       "      <td>4</td>\n",
       "      <td>...</td>\n",
       "      <td>-1.374196</td>\n",
       "      <td>78</td>\n",
       "      <td>1.362921</td>\n",
       "      <td>1</td>\n",
       "      <td>0.684774</td>\n",
       "      <td>3</td>\n",
       "      <td>0.548782</td>\n",
       "      <td>4</td>\n",
       "      <td>0.50</td>\n",
       "      <td>8</td>\n",
       "    </tr>\n",
       "  </tbody>\n",
       "</table>\n",
       "<p>5 rows × 132 columns</p>\n",
       "</div>"
      ],
      "text/plain": [
       "     Id   spend        X1  X2        X3        X4        X5  X6        X7  X8   \n",
       "0  1294   87.78  0.919559   5  0.767277  0.527667  0.663123   5  0.354308   4  \\\n",
       "1  3330  417.54  0.299191   3  1.505120  0.064536  0.152453   2  0.737194   9   \n",
       "2  8437    4.74  0.728089   5  0.091530  0.214224  4.479039   6  0.119507   6   \n",
       "3   965   97.27  0.724195   3  0.303376  0.120158  2.278870   4  1.674182   9   \n",
       "4  1767   30.84  0.433751   3  1.288729  0.151632  1.103588   4  0.022785   4   \n",
       "\n",
       "   ...      X121  X122      X123  X124      X125  X126      X127  X128  X129   \n",
       "0  ...  0.028279    58 -0.277899     5 -1.951704     5  0.604964     2  0.87  \\\n",
       "1  ... -1.246903   143 -1.845731     4  1.996854     3  0.940476     4  0.62   \n",
       "2  ... -0.737271   357 -0.444177     2 -0.878652     4  0.999782     4  0.94   \n",
       "3  ...  0.189367    43 -1.042953     6  0.422634     5  0.286419     5  0.38   \n",
       "4  ... -1.374196    78  1.362921     1  0.684774     3  0.548782     4  0.50   \n",
       "\n",
       "   X130  \n",
       "0     4  \n",
       "1     7  \n",
       "2     6  \n",
       "3     6  \n",
       "4     8  \n",
       "\n",
       "[5 rows x 132 columns]"
      ]
     },
     "execution_count": 2,
     "metadata": {},
     "output_type": "execute_result"
    }
   ],
   "source": [
    "df_train = pd.read_csv('train.csv')\n",
    "df_train.head()"
   ]
  },
  {
   "cell_type": "code",
   "execution_count": 3,
   "id": "b3fb9892",
   "metadata": {},
   "outputs": [
    {
     "data": {
      "text/plain": [
       "5204"
      ]
     },
     "execution_count": 3,
     "metadata": {},
     "output_type": "execute_result"
    }
   ],
   "source": [
    "df_train['Id'].nunique()"
   ]
  },
  {
   "cell_type": "code",
   "execution_count": 4,
   "id": "09d555cb",
   "metadata": {},
   "outputs": [
    {
     "data": {
      "text/plain": [
       "(5204, 132)"
      ]
     },
     "execution_count": 4,
     "metadata": {},
     "output_type": "execute_result"
    }
   ],
   "source": [
    "df_train.shape"
   ]
  },
  {
   "cell_type": "code",
   "execution_count": 5,
   "id": "917a00da",
   "metadata": {},
   "outputs": [],
   "source": [
    "X = df_train.drop(['Id', 'spend'], axis=1)\n",
    "y = df_train['spend']"
   ]
  },
  {
   "cell_type": "code",
   "execution_count": 6,
   "id": "00fdfe4d",
   "metadata": {},
   "outputs": [
    {
     "data": {
      "text/plain": [
       "array([dtype('float64'), dtype('int64'), dtype('O')], dtype=object)"
      ]
     },
     "execution_count": 6,
     "metadata": {},
     "output_type": "execute_result"
    }
   ],
   "source": [
    "X.dtypes.unique()"
   ]
  },
  {
   "cell_type": "code",
   "execution_count": 7,
   "id": "80c0f8e2",
   "metadata": {},
   "outputs": [
    {
     "data": {
      "text/plain": [
       "array([ 50, 108])"
      ]
     },
     "execution_count": 7,
     "metadata": {},
     "output_type": "execute_result"
    }
   ],
   "source": [
    "np.arange(130)[X.dtypes == 'O']"
   ]
  },
  {
   "cell_type": "code",
   "execution_count": 8,
   "id": "03ba584c",
   "metadata": {},
   "outputs": [
    {
     "data": {
      "text/plain": [
       "0         Feb\n",
       "1         May\n",
       "2         Dec\n",
       "3         Feb\n",
       "4       March\n",
       "        ...  \n",
       "5199      Aug\n",
       "5200      Nov\n",
       "5201     Sept\n",
       "5202      Dec\n",
       "5203      Dec\n",
       "Name: X51, Length: 5204, dtype: object"
      ]
     },
     "execution_count": 8,
     "metadata": {},
     "output_type": "execute_result"
    }
   ],
   "source": [
    "X.iloc[:,50] # one hot encoding (month)"
   ]
  },
  {
   "cell_type": "code",
   "execution_count": 9,
   "id": "c81c2e3a",
   "metadata": {},
   "outputs": [
    {
     "data": {
      "text/plain": [
       "array(['clear', 'cloudy/misty', 'light rain/snow', 'heavy rain/snow'],\n",
       "      dtype=object)"
      ]
     },
     "execution_count": 9,
     "metadata": {},
     "output_type": "execute_result"
    }
   ],
   "source": [
    "X.iloc[:,108].unique() # one hot encoding (weather)"
   ]
  },
  {
   "cell_type": "code",
   "execution_count": 14,
   "id": "635bc5c5",
   "metadata": {},
   "outputs": [
    {
     "data": {
      "text/plain": [
       "array(['Feb', 'May', 'Dec', 'March', 'Aug', 'July', 'June', 'Sept',\n",
       "       'April', 'Jan', 'Oct', 'Nov'], dtype=object)"
      ]
     },
     "execution_count": 14,
     "metadata": {},
     "output_type": "execute_result"
    }
   ],
   "source": [
    "X.iloc[:,50].unique()"
   ]
  },
  {
   "cell_type": "code",
   "execution_count": 10,
   "id": "99eed445",
   "metadata": {},
   "outputs": [],
   "source": [
    "enc = OneHotEncoder()\n",
    "X_encoded = pd.concat([X, pd.DataFrame(enc.fit_transform(X[['X51', 'X109']]).toarray())], axis=1)\n",
    "X_encoded = X_encoded.drop(['X51', 'X109'], axis=1)"
   ]
  },
  {
   "cell_type": "code",
   "execution_count": 15,
   "id": "0f284d71",
   "metadata": {},
   "outputs": [
    {
     "data": {
      "text/html": [
       "<div>\n",
       "<style scoped>\n",
       "    .dataframe tbody tr th:only-of-type {\n",
       "        vertical-align: middle;\n",
       "    }\n",
       "\n",
       "    .dataframe tbody tr th {\n",
       "        vertical-align: top;\n",
       "    }\n",
       "\n",
       "    .dataframe thead th {\n",
       "        text-align: right;\n",
       "    }\n",
       "</style>\n",
       "<table border=\"1\" class=\"dataframe\">\n",
       "  <thead>\n",
       "    <tr style=\"text-align: right;\">\n",
       "      <th></th>\n",
       "      <th>X1</th>\n",
       "      <th>X2</th>\n",
       "      <th>X3</th>\n",
       "      <th>X4</th>\n",
       "      <th>X5</th>\n",
       "      <th>X6</th>\n",
       "      <th>X7</th>\n",
       "      <th>X8</th>\n",
       "      <th>X9</th>\n",
       "      <th>X10</th>\n",
       "      <th>...</th>\n",
       "      <th>6</th>\n",
       "      <th>7</th>\n",
       "      <th>8</th>\n",
       "      <th>9</th>\n",
       "      <th>10</th>\n",
       "      <th>11</th>\n",
       "      <th>12</th>\n",
       "      <th>13</th>\n",
       "      <th>14</th>\n",
       "      <th>15</th>\n",
       "    </tr>\n",
       "  </thead>\n",
       "  <tbody>\n",
       "    <tr>\n",
       "      <th>0</th>\n",
       "      <td>0.919559</td>\n",
       "      <td>5</td>\n",
       "      <td>0.767277</td>\n",
       "      <td>0.527667</td>\n",
       "      <td>0.663123</td>\n",
       "      <td>5</td>\n",
       "      <td>0.354308</td>\n",
       "      <td>4</td>\n",
       "      <td>0.1940</td>\n",
       "      <td>0.548686</td>\n",
       "      <td>...</td>\n",
       "      <td>0.0</td>\n",
       "      <td>0.0</td>\n",
       "      <td>0.0</td>\n",
       "      <td>0.0</td>\n",
       "      <td>0.0</td>\n",
       "      <td>0.0</td>\n",
       "      <td>1.0</td>\n",
       "      <td>0.0</td>\n",
       "      <td>0.0</td>\n",
       "      <td>0.0</td>\n",
       "    </tr>\n",
       "    <tr>\n",
       "      <th>1</th>\n",
       "      <td>0.299191</td>\n",
       "      <td>3</td>\n",
       "      <td>1.505120</td>\n",
       "      <td>0.064536</td>\n",
       "      <td>0.152453</td>\n",
       "      <td>2</td>\n",
       "      <td>0.737194</td>\n",
       "      <td>9</td>\n",
       "      <td>0.4478</td>\n",
       "      <td>0.425385</td>\n",
       "      <td>...</td>\n",
       "      <td>0.0</td>\n",
       "      <td>0.0</td>\n",
       "      <td>1.0</td>\n",
       "      <td>0.0</td>\n",
       "      <td>0.0</td>\n",
       "      <td>0.0</td>\n",
       "      <td>0.0</td>\n",
       "      <td>1.0</td>\n",
       "      <td>0.0</td>\n",
       "      <td>0.0</td>\n",
       "    </tr>\n",
       "    <tr>\n",
       "      <th>2</th>\n",
       "      <td>0.728089</td>\n",
       "      <td>5</td>\n",
       "      <td>0.091530</td>\n",
       "      <td>0.214224</td>\n",
       "      <td>4.479039</td>\n",
       "      <td>6</td>\n",
       "      <td>0.119507</td>\n",
       "      <td>6</td>\n",
       "      <td>0.2836</td>\n",
       "      <td>0.245031</td>\n",
       "      <td>...</td>\n",
       "      <td>0.0</td>\n",
       "      <td>0.0</td>\n",
       "      <td>0.0</td>\n",
       "      <td>0.0</td>\n",
       "      <td>0.0</td>\n",
       "      <td>0.0</td>\n",
       "      <td>0.0</td>\n",
       "      <td>0.0</td>\n",
       "      <td>0.0</td>\n",
       "      <td>1.0</td>\n",
       "    </tr>\n",
       "    <tr>\n",
       "      <th>3</th>\n",
       "      <td>0.724195</td>\n",
       "      <td>3</td>\n",
       "      <td>0.303376</td>\n",
       "      <td>0.120158</td>\n",
       "      <td>2.278870</td>\n",
       "      <td>4</td>\n",
       "      <td>1.674182</td>\n",
       "      <td>9</td>\n",
       "      <td>0.1642</td>\n",
       "      <td>0.900082</td>\n",
       "      <td>...</td>\n",
       "      <td>0.0</td>\n",
       "      <td>0.0</td>\n",
       "      <td>0.0</td>\n",
       "      <td>0.0</td>\n",
       "      <td>0.0</td>\n",
       "      <td>0.0</td>\n",
       "      <td>1.0</td>\n",
       "      <td>0.0</td>\n",
       "      <td>0.0</td>\n",
       "      <td>0.0</td>\n",
       "    </tr>\n",
       "    <tr>\n",
       "      <th>4</th>\n",
       "      <td>0.433751</td>\n",
       "      <td>3</td>\n",
       "      <td>1.288729</td>\n",
       "      <td>0.151632</td>\n",
       "      <td>1.103588</td>\n",
       "      <td>4</td>\n",
       "      <td>0.022785</td>\n",
       "      <td>4</td>\n",
       "      <td>0.3284</td>\n",
       "      <td>0.922927</td>\n",
       "      <td>...</td>\n",
       "      <td>0.0</td>\n",
       "      <td>1.0</td>\n",
       "      <td>0.0</td>\n",
       "      <td>0.0</td>\n",
       "      <td>0.0</td>\n",
       "      <td>0.0</td>\n",
       "      <td>1.0</td>\n",
       "      <td>0.0</td>\n",
       "      <td>0.0</td>\n",
       "      <td>0.0</td>\n",
       "    </tr>\n",
       "    <tr>\n",
       "      <th>...</th>\n",
       "      <td>...</td>\n",
       "      <td>...</td>\n",
       "      <td>...</td>\n",
       "      <td>...</td>\n",
       "      <td>...</td>\n",
       "      <td>...</td>\n",
       "      <td>...</td>\n",
       "      <td>...</td>\n",
       "      <td>...</td>\n",
       "      <td>...</td>\n",
       "      <td>...</td>\n",
       "      <td>...</td>\n",
       "      <td>...</td>\n",
       "      <td>...</td>\n",
       "      <td>...</td>\n",
       "      <td>...</td>\n",
       "      <td>...</td>\n",
       "      <td>...</td>\n",
       "      <td>...</td>\n",
       "      <td>...</td>\n",
       "      <td>...</td>\n",
       "    </tr>\n",
       "    <tr>\n",
       "      <th>5199</th>\n",
       "      <td>0.134553</td>\n",
       "      <td>2</td>\n",
       "      <td>0.907356</td>\n",
       "      <td>0.355256</td>\n",
       "      <td>0.300539</td>\n",
       "      <td>5</td>\n",
       "      <td>1.407920</td>\n",
       "      <td>4</td>\n",
       "      <td>0.1343</td>\n",
       "      <td>0.865887</td>\n",
       "      <td>...</td>\n",
       "      <td>0.0</td>\n",
       "      <td>0.0</td>\n",
       "      <td>0.0</td>\n",
       "      <td>0.0</td>\n",
       "      <td>0.0</td>\n",
       "      <td>0.0</td>\n",
       "      <td>1.0</td>\n",
       "      <td>0.0</td>\n",
       "      <td>0.0</td>\n",
       "      <td>0.0</td>\n",
       "    </tr>\n",
       "    <tr>\n",
       "      <th>5200</th>\n",
       "      <td>0.676594</td>\n",
       "      <td>5</td>\n",
       "      <td>1.379912</td>\n",
       "      <td>0.589060</td>\n",
       "      <td>2.860463</td>\n",
       "      <td>3</td>\n",
       "      <td>1.551198</td>\n",
       "      <td>2</td>\n",
       "      <td>0.4627</td>\n",
       "      <td>0.496456</td>\n",
       "      <td>...</td>\n",
       "      <td>0.0</td>\n",
       "      <td>0.0</td>\n",
       "      <td>0.0</td>\n",
       "      <td>1.0</td>\n",
       "      <td>0.0</td>\n",
       "      <td>0.0</td>\n",
       "      <td>1.0</td>\n",
       "      <td>0.0</td>\n",
       "      <td>0.0</td>\n",
       "      <td>0.0</td>\n",
       "    </tr>\n",
       "    <tr>\n",
       "      <th>5201</th>\n",
       "      <td>0.853983</td>\n",
       "      <td>6</td>\n",
       "      <td>0.094023</td>\n",
       "      <td>0.696752</td>\n",
       "      <td>0.691726</td>\n",
       "      <td>3</td>\n",
       "      <td>0.188240</td>\n",
       "      <td>6</td>\n",
       "      <td>0.1642</td>\n",
       "      <td>0.881448</td>\n",
       "      <td>...</td>\n",
       "      <td>0.0</td>\n",
       "      <td>0.0</td>\n",
       "      <td>0.0</td>\n",
       "      <td>0.0</td>\n",
       "      <td>0.0</td>\n",
       "      <td>1.0</td>\n",
       "      <td>1.0</td>\n",
       "      <td>0.0</td>\n",
       "      <td>0.0</td>\n",
       "      <td>0.0</td>\n",
       "    </tr>\n",
       "    <tr>\n",
       "      <th>5202</th>\n",
       "      <td>0.480869</td>\n",
       "      <td>5</td>\n",
       "      <td>0.910970</td>\n",
       "      <td>0.025219</td>\n",
       "      <td>0.900026</td>\n",
       "      <td>6</td>\n",
       "      <td>3.051571</td>\n",
       "      <td>4</td>\n",
       "      <td>0.1642</td>\n",
       "      <td>0.440449</td>\n",
       "      <td>...</td>\n",
       "      <td>0.0</td>\n",
       "      <td>0.0</td>\n",
       "      <td>0.0</td>\n",
       "      <td>0.0</td>\n",
       "      <td>0.0</td>\n",
       "      <td>0.0</td>\n",
       "      <td>1.0</td>\n",
       "      <td>0.0</td>\n",
       "      <td>0.0</td>\n",
       "      <td>0.0</td>\n",
       "    </tr>\n",
       "    <tr>\n",
       "      <th>5203</th>\n",
       "      <td>0.982248</td>\n",
       "      <td>6</td>\n",
       "      <td>1.324935</td>\n",
       "      <td>0.308022</td>\n",
       "      <td>1.366625</td>\n",
       "      <td>3</td>\n",
       "      <td>1.105485</td>\n",
       "      <td>3</td>\n",
       "      <td>0.1940</td>\n",
       "      <td>0.019771</td>\n",
       "      <td>...</td>\n",
       "      <td>0.0</td>\n",
       "      <td>0.0</td>\n",
       "      <td>0.0</td>\n",
       "      <td>0.0</td>\n",
       "      <td>0.0</td>\n",
       "      <td>0.0</td>\n",
       "      <td>1.0</td>\n",
       "      <td>0.0</td>\n",
       "      <td>0.0</td>\n",
       "      <td>0.0</td>\n",
       "    </tr>\n",
       "  </tbody>\n",
       "</table>\n",
       "<p>5204 rows × 144 columns</p>\n",
       "</div>"
      ],
      "text/plain": [
       "            X1  X2        X3        X4        X5  X6        X7  X8      X9   \n",
       "0     0.919559   5  0.767277  0.527667  0.663123   5  0.354308   4  0.1940  \\\n",
       "1     0.299191   3  1.505120  0.064536  0.152453   2  0.737194   9  0.4478   \n",
       "2     0.728089   5  0.091530  0.214224  4.479039   6  0.119507   6  0.2836   \n",
       "3     0.724195   3  0.303376  0.120158  2.278870   4  1.674182   9  0.1642   \n",
       "4     0.433751   3  1.288729  0.151632  1.103588   4  0.022785   4  0.3284   \n",
       "...        ...  ..       ...       ...       ...  ..       ...  ..     ...   \n",
       "5199  0.134553   2  0.907356  0.355256  0.300539   5  1.407920   4  0.1343   \n",
       "5200  0.676594   5  1.379912  0.589060  2.860463   3  1.551198   2  0.4627   \n",
       "5201  0.853983   6  0.094023  0.696752  0.691726   3  0.188240   6  0.1642   \n",
       "5202  0.480869   5  0.910970  0.025219  0.900026   6  3.051571   4  0.1642   \n",
       "5203  0.982248   6  1.324935  0.308022  1.366625   3  1.105485   3  0.1940   \n",
       "\n",
       "           X10  ...    6    7    8    9   10   11   12   13   14   15  \n",
       "0     0.548686  ...  0.0  0.0  0.0  0.0  0.0  0.0  1.0  0.0  0.0  0.0  \n",
       "1     0.425385  ...  0.0  0.0  1.0  0.0  0.0  0.0  0.0  1.0  0.0  0.0  \n",
       "2     0.245031  ...  0.0  0.0  0.0  0.0  0.0  0.0  0.0  0.0  0.0  1.0  \n",
       "3     0.900082  ...  0.0  0.0  0.0  0.0  0.0  0.0  1.0  0.0  0.0  0.0  \n",
       "4     0.922927  ...  0.0  1.0  0.0  0.0  0.0  0.0  1.0  0.0  0.0  0.0  \n",
       "...        ...  ...  ...  ...  ...  ...  ...  ...  ...  ...  ...  ...  \n",
       "5199  0.865887  ...  0.0  0.0  0.0  0.0  0.0  0.0  1.0  0.0  0.0  0.0  \n",
       "5200  0.496456  ...  0.0  0.0  0.0  1.0  0.0  0.0  1.0  0.0  0.0  0.0  \n",
       "5201  0.881448  ...  0.0  0.0  0.0  0.0  0.0  1.0  1.0  0.0  0.0  0.0  \n",
       "5202  0.440449  ...  0.0  0.0  0.0  0.0  0.0  0.0  1.0  0.0  0.0  0.0  \n",
       "5203  0.019771  ...  0.0  0.0  0.0  0.0  0.0  0.0  1.0  0.0  0.0  0.0  \n",
       "\n",
       "[5204 rows x 144 columns]"
      ]
     },
     "execution_count": 15,
     "metadata": {},
     "output_type": "execute_result"
    }
   ],
   "source": [
    "X_encoded"
   ]
  },
  {
   "cell_type": "code",
   "execution_count": 11,
   "id": "4b3340f0",
   "metadata": {},
   "outputs": [],
   "source": [
    "X_train, X_test, y_train, y_test = train_test_split(X_encoded,y, test_size=0.3, random_state=42)"
   ]
  },
  {
   "cell_type": "code",
   "execution_count": 20,
   "id": "1f86a2e6",
   "metadata": {},
   "outputs": [],
   "source": [
    "X_train.columns = X_train.columns.astype(str)\n",
    "X_test.columns = X_test.columns.astype(str)"
   ]
  },
  {
   "cell_type": "code",
   "execution_count": 21,
   "id": "a16f8d72",
   "metadata": {},
   "outputs": [
    {
     "data": {
      "text/plain": [
       "0.9987861567064764"
      ]
     },
     "execution_count": 21,
     "metadata": {},
     "output_type": "execute_result"
    }
   ],
   "source": [
    "X_train.columns = X_train.columns.astype(str)\n",
    "RF = RandomForestRegressor(n_estimators=100, max_depth=15).fit(X_train, y_train)\n",
    "RF.score(X_test, y_test)"
   ]
  },
  {
   "cell_type": "code",
   "execution_count": 22,
   "id": "84f13c38",
   "metadata": {},
   "outputs": [
    {
     "data": {
      "text/html": [
       "<style>#sk-container-id-1 {color: black;background-color: white;}#sk-container-id-1 pre{padding: 0;}#sk-container-id-1 div.sk-toggleable {background-color: white;}#sk-container-id-1 label.sk-toggleable__label {cursor: pointer;display: block;width: 100%;margin-bottom: 0;padding: 0.3em;box-sizing: border-box;text-align: center;}#sk-container-id-1 label.sk-toggleable__label-arrow:before {content: \"▸\";float: left;margin-right: 0.25em;color: #696969;}#sk-container-id-1 label.sk-toggleable__label-arrow:hover:before {color: black;}#sk-container-id-1 div.sk-estimator:hover label.sk-toggleable__label-arrow:before {color: black;}#sk-container-id-1 div.sk-toggleable__content {max-height: 0;max-width: 0;overflow: hidden;text-align: left;background-color: #f0f8ff;}#sk-container-id-1 div.sk-toggleable__content pre {margin: 0.2em;color: black;border-radius: 0.25em;background-color: #f0f8ff;}#sk-container-id-1 input.sk-toggleable__control:checked~div.sk-toggleable__content {max-height: 200px;max-width: 100%;overflow: auto;}#sk-container-id-1 input.sk-toggleable__control:checked~label.sk-toggleable__label-arrow:before {content: \"▾\";}#sk-container-id-1 div.sk-estimator input.sk-toggleable__control:checked~label.sk-toggleable__label {background-color: #d4ebff;}#sk-container-id-1 div.sk-label input.sk-toggleable__control:checked~label.sk-toggleable__label {background-color: #d4ebff;}#sk-container-id-1 input.sk-hidden--visually {border: 0;clip: rect(1px 1px 1px 1px);clip: rect(1px, 1px, 1px, 1px);height: 1px;margin: -1px;overflow: hidden;padding: 0;position: absolute;width: 1px;}#sk-container-id-1 div.sk-estimator {font-family: monospace;background-color: #f0f8ff;border: 1px dotted black;border-radius: 0.25em;box-sizing: border-box;margin-bottom: 0.5em;}#sk-container-id-1 div.sk-estimator:hover {background-color: #d4ebff;}#sk-container-id-1 div.sk-parallel-item::after {content: \"\";width: 100%;border-bottom: 1px solid gray;flex-grow: 1;}#sk-container-id-1 div.sk-label:hover label.sk-toggleable__label {background-color: #d4ebff;}#sk-container-id-1 div.sk-serial::before {content: \"\";position: absolute;border-left: 1px solid gray;box-sizing: border-box;top: 0;bottom: 0;left: 50%;z-index: 0;}#sk-container-id-1 div.sk-serial {display: flex;flex-direction: column;align-items: center;background-color: white;padding-right: 0.2em;padding-left: 0.2em;position: relative;}#sk-container-id-1 div.sk-item {position: relative;z-index: 1;}#sk-container-id-1 div.sk-parallel {display: flex;align-items: stretch;justify-content: center;background-color: white;position: relative;}#sk-container-id-1 div.sk-item::before, #sk-container-id-1 div.sk-parallel-item::before {content: \"\";position: absolute;border-left: 1px solid gray;box-sizing: border-box;top: 0;bottom: 0;left: 50%;z-index: -1;}#sk-container-id-1 div.sk-parallel-item {display: flex;flex-direction: column;z-index: 1;position: relative;background-color: white;}#sk-container-id-1 div.sk-parallel-item:first-child::after {align-self: flex-end;width: 50%;}#sk-container-id-1 div.sk-parallel-item:last-child::after {align-self: flex-start;width: 50%;}#sk-container-id-1 div.sk-parallel-item:only-child::after {width: 0;}#sk-container-id-1 div.sk-dashed-wrapped {border: 1px dashed gray;margin: 0 0.4em 0.5em 0.4em;box-sizing: border-box;padding-bottom: 0.4em;background-color: white;}#sk-container-id-1 div.sk-label label {font-family: monospace;font-weight: bold;display: inline-block;line-height: 1.2em;}#sk-container-id-1 div.sk-label-container {text-align: center;}#sk-container-id-1 div.sk-container {/* jupyter's `normalize.less` sets `[hidden] { display: none; }` but bootstrap.min.css set `[hidden] { display: none !important; }` so we also need the `!important` here to be able to override the default hidden behavior on the sphinx rendered scikit-learn.org. See: https://github.com/scikit-learn/scikit-learn/issues/21755 */display: inline-block !important;position: relative;}#sk-container-id-1 div.sk-text-repr-fallback {display: none;}</style><div id=\"sk-container-id-1\" class=\"sk-top-container\"><div class=\"sk-text-repr-fallback\"><pre>SelectFromModel(estimator=RandomForestRegressor(max_depth=10))</pre><b>In a Jupyter environment, please rerun this cell to show the HTML representation or trust the notebook. <br />On GitHub, the HTML representation is unable to render, please try loading this page with nbviewer.org.</b></div><div class=\"sk-container\" hidden><div class=\"sk-item sk-dashed-wrapped\"><div class=\"sk-label-container\"><div class=\"sk-label sk-toggleable\"><input class=\"sk-toggleable__control sk-hidden--visually\" id=\"sk-estimator-id-1\" type=\"checkbox\" ><label for=\"sk-estimator-id-1\" class=\"sk-toggleable__label sk-toggleable__label-arrow\">SelectFromModel</label><div class=\"sk-toggleable__content\"><pre>SelectFromModel(estimator=RandomForestRegressor(max_depth=10))</pre></div></div></div><div class=\"sk-parallel\"><div class=\"sk-parallel-item\"><div class=\"sk-item\"><div class=\"sk-label-container\"><div class=\"sk-label sk-toggleable\"><input class=\"sk-toggleable__control sk-hidden--visually\" id=\"sk-estimator-id-2\" type=\"checkbox\" ><label for=\"sk-estimator-id-2\" class=\"sk-toggleable__label sk-toggleable__label-arrow\">estimator: RandomForestRegressor</label><div class=\"sk-toggleable__content\"><pre>RandomForestRegressor(max_depth=10)</pre></div></div></div><div class=\"sk-serial\"><div class=\"sk-item\"><div class=\"sk-estimator sk-toggleable\"><input class=\"sk-toggleable__control sk-hidden--visually\" id=\"sk-estimator-id-3\" type=\"checkbox\" ><label for=\"sk-estimator-id-3\" class=\"sk-toggleable__label sk-toggleable__label-arrow\">RandomForestRegressor</label><div class=\"sk-toggleable__content\"><pre>RandomForestRegressor(max_depth=10)</pre></div></div></div></div></div></div></div></div></div></div>"
      ],
      "text/plain": [
       "SelectFromModel(estimator=RandomForestRegressor(max_depth=10))"
      ]
     },
     "execution_count": 22,
     "metadata": {},
     "output_type": "execute_result"
    }
   ],
   "source": [
    "sel = SelectFromModel(RandomForestRegressor(n_estimators=100, max_depth=10))\n",
    "sel.fit(X_train, y_train)"
   ]
  },
  {
   "cell_type": "code",
   "execution_count": 23,
   "id": "698b0967",
   "metadata": {},
   "outputs": [
    {
     "data": {
      "text/plain": [
       "Index(['X23', 'X101'], dtype='object')"
      ]
     },
     "execution_count": 23,
     "metadata": {},
     "output_type": "execute_result"
    }
   ],
   "source": [
    "X_train.columns[sel.get_support()]"
   ]
  },
  {
   "cell_type": "code",
   "execution_count": 24,
   "id": "12ab92cd",
   "metadata": {},
   "outputs": [
    {
     "data": {
      "text/plain": [
       "0.9999999999138333"
      ]
     },
     "execution_count": 24,
     "metadata": {},
     "output_type": "execute_result"
    }
   ],
   "source": [
    "X_train_selected = X_train[['X23', 'X101']]\n",
    "X_test_selected = X_test[['X23', 'X101']]\n",
    "\n",
    "LR = LinearRegression().fit(X_train_selected, y_train)\n",
    "LR.score(X_test_selected, y_test)"
   ]
  },
  {
   "cell_type": "code",
   "execution_count": 25,
   "id": "5091b7fc",
   "metadata": {},
   "outputs": [
    {
     "data": {
      "text/plain": [
       "0.999999999919146"
      ]
     },
     "execution_count": 25,
     "metadata": {},
     "output_type": "execute_result"
    }
   ],
   "source": [
    "X_encoded_selected = X_encoded[['X23', 'X101']]\n",
    "\n",
    "LR_full = LinearRegression().fit(X_encoded_selected, y)\n",
    "LR_full.score(X_encoded_selected, y)"
   ]
  },
  {
   "cell_type": "markdown",
   "id": "48f00bb0",
   "metadata": {},
   "source": [
    "# prediction"
   ]
  },
  {
   "cell_type": "code",
   "execution_count": 26,
   "id": "a2dd20f2",
   "metadata": {},
   "outputs": [
    {
     "data": {
      "text/html": [
       "<div>\n",
       "<style scoped>\n",
       "    .dataframe tbody tr th:only-of-type {\n",
       "        vertical-align: middle;\n",
       "    }\n",
       "\n",
       "    .dataframe tbody tr th {\n",
       "        vertical-align: top;\n",
       "    }\n",
       "\n",
       "    .dataframe thead th {\n",
       "        text-align: right;\n",
       "    }\n",
       "</style>\n",
       "<table border=\"1\" class=\"dataframe\">\n",
       "  <thead>\n",
       "    <tr style=\"text-align: right;\">\n",
       "      <th></th>\n",
       "      <th>Id</th>\n",
       "      <th>X1</th>\n",
       "      <th>X2</th>\n",
       "      <th>X3</th>\n",
       "      <th>X4</th>\n",
       "      <th>X5</th>\n",
       "      <th>X6</th>\n",
       "      <th>X7</th>\n",
       "      <th>X8</th>\n",
       "      <th>X9</th>\n",
       "      <th>...</th>\n",
       "      <th>X121</th>\n",
       "      <th>X122</th>\n",
       "      <th>X123</th>\n",
       "      <th>X124</th>\n",
       "      <th>X125</th>\n",
       "      <th>X126</th>\n",
       "      <th>X127</th>\n",
       "      <th>X128</th>\n",
       "      <th>X129</th>\n",
       "      <th>X130</th>\n",
       "    </tr>\n",
       "  </thead>\n",
       "  <tbody>\n",
       "    <tr>\n",
       "      <th>0</th>\n",
       "      <td>6882</td>\n",
       "      <td>0.771529</td>\n",
       "      <td>9</td>\n",
       "      <td>3.866913</td>\n",
       "      <td>0.875137</td>\n",
       "      <td>1.178556</td>\n",
       "      <td>4</td>\n",
       "      <td>1.072548</td>\n",
       "      <td>3</td>\n",
       "      <td>0.4925</td>\n",
       "      <td>...</td>\n",
       "      <td>-0.498453</td>\n",
       "      <td>292</td>\n",
       "      <td>-1.728426</td>\n",
       "      <td>4</td>\n",
       "      <td>0.396087</td>\n",
       "      <td>5</td>\n",
       "      <td>0.320310</td>\n",
       "      <td>2</td>\n",
       "      <td>0.70</td>\n",
       "      <td>6</td>\n",
       "    </tr>\n",
       "    <tr>\n",
       "      <th>1</th>\n",
       "      <td>1643</td>\n",
       "      <td>0.019751</td>\n",
       "      <td>6</td>\n",
       "      <td>0.908369</td>\n",
       "      <td>0.998922</td>\n",
       "      <td>3.156672</td>\n",
       "      <td>5</td>\n",
       "      <td>0.042720</td>\n",
       "      <td>3</td>\n",
       "      <td>0.2239</td>\n",
       "      <td>...</td>\n",
       "      <td>0.873936</td>\n",
       "      <td>72</td>\n",
       "      <td>-1.415597</td>\n",
       "      <td>7</td>\n",
       "      <td>-0.204529</td>\n",
       "      <td>5</td>\n",
       "      <td>0.381549</td>\n",
       "      <td>6</td>\n",
       "      <td>0.65</td>\n",
       "      <td>3</td>\n",
       "    </tr>\n",
       "    <tr>\n",
       "      <th>2</th>\n",
       "      <td>4417</td>\n",
       "      <td>0.401443</td>\n",
       "      <td>8</td>\n",
       "      <td>0.080149</td>\n",
       "      <td>0.155562</td>\n",
       "      <td>0.801341</td>\n",
       "      <td>4</td>\n",
       "      <td>0.051964</td>\n",
       "      <td>4</td>\n",
       "      <td>0.1642</td>\n",
       "      <td>...</td>\n",
       "      <td>0.414044</td>\n",
       "      <td>188</td>\n",
       "      <td>0.332442</td>\n",
       "      <td>1</td>\n",
       "      <td>-0.549344</td>\n",
       "      <td>4</td>\n",
       "      <td>0.172268</td>\n",
       "      <td>3</td>\n",
       "      <td>0.62</td>\n",
       "      <td>3</td>\n",
       "    </tr>\n",
       "    <tr>\n",
       "      <th>3</th>\n",
       "      <td>6940</td>\n",
       "      <td>0.065122</td>\n",
       "      <td>2</td>\n",
       "      <td>4.565464</td>\n",
       "      <td>0.412285</td>\n",
       "      <td>0.359151</td>\n",
       "      <td>6</td>\n",
       "      <td>0.744402</td>\n",
       "      <td>5</td>\n",
       "      <td>0.2537</td>\n",
       "      <td>...</td>\n",
       "      <td>1.598134</td>\n",
       "      <td>294</td>\n",
       "      <td>-0.489875</td>\n",
       "      <td>4</td>\n",
       "      <td>-0.434907</td>\n",
       "      <td>3</td>\n",
       "      <td>0.686500</td>\n",
       "      <td>3</td>\n",
       "      <td>0.54</td>\n",
       "      <td>5</td>\n",
       "    </tr>\n",
       "    <tr>\n",
       "      <th>4</th>\n",
       "      <td>7370</td>\n",
       "      <td>0.189363</td>\n",
       "      <td>5</td>\n",
       "      <td>0.203273</td>\n",
       "      <td>0.710065</td>\n",
       "      <td>1.526602</td>\n",
       "      <td>4</td>\n",
       "      <td>0.506877</td>\n",
       "      <td>4</td>\n",
       "      <td>0.1343</td>\n",
       "      <td>...</td>\n",
       "      <td>1.457410</td>\n",
       "      <td>312</td>\n",
       "      <td>0.338231</td>\n",
       "      <td>6</td>\n",
       "      <td>-0.208131</td>\n",
       "      <td>5</td>\n",
       "      <td>0.553829</td>\n",
       "      <td>4</td>\n",
       "      <td>0.46</td>\n",
       "      <td>2</td>\n",
       "    </tr>\n",
       "  </tbody>\n",
       "</table>\n",
       "<p>5 rows × 131 columns</p>\n",
       "</div>"
      ],
      "text/plain": [
       "     Id        X1  X2        X3        X4        X5  X6        X7  X8      X9   \n",
       "0  6882  0.771529   9  3.866913  0.875137  1.178556   4  1.072548   3  0.4925  \\\n",
       "1  1643  0.019751   6  0.908369  0.998922  3.156672   5  0.042720   3  0.2239   \n",
       "2  4417  0.401443   8  0.080149  0.155562  0.801341   4  0.051964   4  0.1642   \n",
       "3  6940  0.065122   2  4.565464  0.412285  0.359151   6  0.744402   5  0.2537   \n",
       "4  7370  0.189363   5  0.203273  0.710065  1.526602   4  0.506877   4  0.1343   \n",
       "\n",
       "   ...      X121  X122      X123  X124      X125  X126      X127  X128  X129   \n",
       "0  ... -0.498453   292 -1.728426     4  0.396087     5  0.320310     2  0.70  \\\n",
       "1  ...  0.873936    72 -1.415597     7 -0.204529     5  0.381549     6  0.65   \n",
       "2  ...  0.414044   188  0.332442     1 -0.549344     4  0.172268     3  0.62   \n",
       "3  ...  1.598134   294 -0.489875     4 -0.434907     3  0.686500     3  0.54   \n",
       "4  ...  1.457410   312  0.338231     6 -0.208131     5  0.553829     4  0.46   \n",
       "\n",
       "   X130  \n",
       "0     6  \n",
       "1     3  \n",
       "2     3  \n",
       "3     5  \n",
       "4     2  \n",
       "\n",
       "[5 rows x 131 columns]"
      ]
     },
     "execution_count": 26,
     "metadata": {},
     "output_type": "execute_result"
    }
   ],
   "source": [
    "df_test = pd.read_csv('test.csv')\n",
    "df_test.head()"
   ]
  },
  {
   "cell_type": "markdown",
   "id": "345d17a5",
   "metadata": {},
   "source": [
    "### 1"
   ]
  },
  {
   "cell_type": "code",
   "execution_count": 95,
   "id": "935644af",
   "metadata": {},
   "outputs": [],
   "source": [
    "X_subm = df_test.drop('Id', axis=1)\n",
    "X_subm_encoded = pd.concat([X_subm, pd.DataFrame(enc.transform(X_subm[['X51', 'X109']]).toarray())], axis=1)\n",
    "X_subm_encoded = X_subm_encoded.drop(['X51', 'X109'], axis=1)"
   ]
  },
  {
   "cell_type": "code",
   "execution_count": 96,
   "id": "07d51eba",
   "metadata": {},
   "outputs": [
    {
     "data": {
      "text/plain": [
       "array([ 501.4066   ,   67.162    ,  433.7482381, ...,  363.9725   ,\n",
       "       1228.1916   ,  418.22719  ])"
      ]
     },
     "execution_count": 96,
     "metadata": {},
     "output_type": "execute_result"
    }
   ],
   "source": [
    "test_prediction = RF.predict(X_subm_encoded)\n",
    "test_prediction"
   ]
  },
  {
   "cell_type": "markdown",
   "id": "9eebd397",
   "metadata": {},
   "source": [
    "# 2 (linear regression with selected features)"
   ]
  },
  {
   "cell_type": "code",
   "execution_count": 27,
   "id": "5605c955",
   "metadata": {
    "scrolled": true
   },
   "outputs": [],
   "source": [
    "X_subm2 = df_test[['X23', 'X101']]\n",
    "test_prediction2 = LR_full.predict(X_subm2)"
   ]
  },
  {
   "cell_type": "markdown",
   "id": "6ff3036c",
   "metadata": {},
   "source": [
    "# submission"
   ]
  },
  {
   "cell_type": "code",
   "execution_count": 29,
   "id": "e67304a1",
   "metadata": {},
   "outputs": [
    {
     "data": {
      "text/html": [
       "<div>\n",
       "<style scoped>\n",
       "    .dataframe tbody tr th:only-of-type {\n",
       "        vertical-align: middle;\n",
       "    }\n",
       "\n",
       "    .dataframe tbody tr th {\n",
       "        vertical-align: top;\n",
       "    }\n",
       "\n",
       "    .dataframe thead th {\n",
       "        text-align: right;\n",
       "    }\n",
       "</style>\n",
       "<table border=\"1\" class=\"dataframe\">\n",
       "  <thead>\n",
       "    <tr style=\"text-align: right;\">\n",
       "      <th></th>\n",
       "      <th>Id</th>\n",
       "      <th>Expected</th>\n",
       "    </tr>\n",
       "  </thead>\n",
       "  <tbody>\n",
       "    <tr>\n",
       "      <th>0</th>\n",
       "      <td>6882</td>\n",
       "      <td>498.203893</td>\n",
       "    </tr>\n",
       "    <tr>\n",
       "      <th>1</th>\n",
       "      <td>1643</td>\n",
       "      <td>66.427025</td>\n",
       "    </tr>\n",
       "    <tr>\n",
       "      <th>2</th>\n",
       "      <td>4417</td>\n",
       "      <td>431.776660</td>\n",
       "    </tr>\n",
       "    <tr>\n",
       "      <th>3</th>\n",
       "      <td>6940</td>\n",
       "      <td>941.842735</td>\n",
       "    </tr>\n",
       "    <tr>\n",
       "      <th>4</th>\n",
       "      <td>7370</td>\n",
       "      <td>685.623496</td>\n",
       "    </tr>\n",
       "    <tr>\n",
       "      <th>...</th>\n",
       "      <td>...</td>\n",
       "      <td>...</td>\n",
       "    </tr>\n",
       "    <tr>\n",
       "      <th>3436</th>\n",
       "      <td>6861</td>\n",
       "      <td>241.984633</td>\n",
       "    </tr>\n",
       "    <tr>\n",
       "      <th>3437</th>\n",
       "      <td>6435</td>\n",
       "      <td>854.063902</td>\n",
       "    </tr>\n",
       "    <tr>\n",
       "      <th>3438</th>\n",
       "      <td>6746</td>\n",
       "      <td>367.721854</td>\n",
       "    </tr>\n",
       "    <tr>\n",
       "      <th>3439</th>\n",
       "      <td>4508</td>\n",
       "      <td>1219.413567</td>\n",
       "    </tr>\n",
       "    <tr>\n",
       "      <th>3440</th>\n",
       "      <td>3350</td>\n",
       "      <td>415.169856</td>\n",
       "    </tr>\n",
       "  </tbody>\n",
       "</table>\n",
       "<p>3441 rows × 2 columns</p>\n",
       "</div>"
      ],
      "text/plain": [
       "        Id     Expected\n",
       "0     6882   498.203893\n",
       "1     1643    66.427025\n",
       "2     4417   431.776660\n",
       "3     6940   941.842735\n",
       "4     7370   685.623496\n",
       "...    ...          ...\n",
       "3436  6861   241.984633\n",
       "3437  6435   854.063902\n",
       "3438  6746   367.721854\n",
       "3439  4508  1219.413567\n",
       "3440  3350   415.169856\n",
       "\n",
       "[3441 rows x 2 columns]"
      ]
     },
     "execution_count": 29,
     "metadata": {},
     "output_type": "execute_result"
    }
   ],
   "source": [
    "submission = pd.read_csv('submission.csv')\n",
    "submission['Expected'] = test_prediction2\n",
    "submission"
   ]
  },
  {
   "cell_type": "code",
   "execution_count": 30,
   "id": "feab1cd9",
   "metadata": {},
   "outputs": [],
   "source": [
    "submission.to_csv('submission_LR_full.csv', index=False)"
   ]
  },
  {
   "cell_type": "code",
   "execution_count": null,
   "id": "070a0e36",
   "metadata": {},
   "outputs": [],
   "source": []
  }
 ],
 "metadata": {
  "kernelspec": {
   "display_name": "Python 3",
   "language": "python",
   "name": "python3"
  },
  "language_info": {
   "codemirror_mode": {
    "name": "ipython",
    "version": 3
   },
   "file_extension": ".py",
   "mimetype": "text/x-python",
   "name": "python",
   "nbconvert_exporter": "python",
   "pygments_lexer": "ipython3",
   "version": "3.8.8"
  }
 },
 "nbformat": 4,
 "nbformat_minor": 5
}

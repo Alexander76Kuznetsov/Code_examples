{
  "cells": [
    {
      "cell_type": "markdown",
      "metadata": {
        "id": "IMGpSaGtwexA"
      },
      "source": [
        "# Dask Delayed"
      ]
    },
    {
      "cell_type": "markdown",
      "metadata": {
        "id": "QzJ5LQLTwexC"
      },
      "source": [
        "__Автор задач: Блохин Н.В. (NVBlokhin@fa.ru)__\n",
        "\n",
        "Материалы:\n",
        "* Макрушин С.В. Лекция \"Dask Delayed\"\n",
        "* https://docs.dask.org/en/latest/delayed.html\n",
        "* Jesse C. Daniel. Data Science with Python and Dask.\n",
        "* https://saturncloud.io/blog/a-data-scientist-s-guide-to-lazy-evaluation-with-dask/\n",
        "* https://www.coiled.io/blog/how-to-learn-dask-in-2021\n",
        "* https://realpython.com/python-concurrency/"
      ]
    },
    {
      "cell_type": "markdown",
      "metadata": {
        "id": "ZenzA2m7wexC"
      },
      "source": [
        "## Задачи для совместного разбора"
      ]
    },
    {
      "cell_type": "markdown",
      "metadata": {
        "id": "K8UyZbvvwexD"
      },
      "source": [
        "1\\. Напишите 2 функции, имитирующие CPU-bound задачу и IO-bound задачу:\n",
        "\n",
        "`cpu_task()`: генерирует 100 тыс. случайных чисел и возвращает их сумму (без использования `numpy`)\n",
        "\n",
        "`io_task()`: \"спит\" 0.1 сек, затем генерирует случайное число и возвращает его\n",
        "\n",
        "Замерьте время выполнения 100 последовательных вызовов каждой из этих функций. Распараллелив вычисления при помощи `dask.delayed`, сократите время выполнения. Исследуйте, как зависит время вычислений от выбранного планировщика `scheduler`."
      ]
    },
    {
      "cell_type": "markdown",
      "metadata": {
        "id": "txWyf56EwexF"
      },
      "source": [
        "## Лабораторная работа 14"
      ]
    },
    {
      "cell_type": "code",
      "execution_count": 11,
      "metadata": {
        "id": "aOCmvDNgwexD"
      },
      "outputs": [],
      "source": [
        "import numpy as np\n",
        "import dask.delayed as delayed\n",
        "import dask\n",
        "from time import sleep\n",
        "import random\n",
        "from bs4 import BeautifulSoup\n",
        "import xml.etree.ElementTree as ET"
      ]
    },
    {
      "cell_type": "markdown",
      "metadata": {
        "id": "d4NIvbo2wexF"
      },
      "source": [
        "<p class=\"task\" id=\"1\"></p>\n",
        "\n",
        "1\\. Напишите функцию `read_profiles`, которая считывает один файл формата xml из каталога `reviewers_full` и по данным этого файла формирует список словарей, содержащих следующие ключи: `id`, `username`, `name`, `sex`, `country`, `mail`, `registered`, `birthdate`, `name_prefix`, `country_code`. Часть из этих значений в исходном файле хранится в виде тэгов, часть - в виде атрибутов тэгов. Для конкретного человека какие-то из этих ключей могут отсутствовать. \n",
        "\n",
        "Обработайте все файлы, вызвав последовательно вызвав эту функцию для каждого из них, и собрав результаты в один общий список словарей `profiles`. Измерьте время выполнения кода.\n",
        "\n",
        "Выведите на экран уникальные значения по ключам `name_prefix` и `country_code`\n",
        "\n",
        "\n",
        "```python\n",
        "def read_profiles(file: str) -> list[dict]:\n",
        "    pass\n",
        "```"
      ]
    },
    {
      "cell_type": "code",
      "source": [
        "from pathlib import Path"
      ],
      "metadata": {
        "id": "RMrXbxMD8RoO"
      },
      "execution_count": 342,
      "outputs": []
    },
    {
      "cell_type": "code",
      "source": [
        "cols = [\"id\", \"username\", \"name\", \"sex\", \"country\", \"mail\", \"registered\", \"birthdate\"]\n",
        "\n",
        "def read_profiles(file: str) -> list[dict]:\n",
        "  with open(file, 'r') as f:\n",
        "      data1 = f.readlines()\n",
        "\n",
        "  data1 = ''.join(data1[2:-1]).replace('\\n','')\n",
        "  data1 = re.findall(r'<user.*?>.*?</user>', data1)\n",
        "\n",
        "  profile = []\n",
        "  for i in data1:\n",
        "    d = {}\n",
        "    for col in cols:\n",
        "      val = re.findall(f'<{col}.*>(.+?)</{col}>', i)\n",
        "      if val:\n",
        "        d[col] = val[0]\n",
        "      else:\n",
        "        d[col] = None\n",
        "\n",
        "    code = re.findall(r'code=\"(.*?)\">', i)\n",
        "    pref = re.findall(r'prefix=\"(.*?)\">', i)\n",
        "    if code:\n",
        "      d[\"country_code\"] = code[0]\n",
        "    else:\n",
        "      d[\"country_code\"] = None\n",
        "    if pref:\n",
        "      d[\"name_prefix\"] = pref[0]\n",
        "    else:\n",
        "      d[\"name_prefix\"] = None\n",
        "    \n",
        "    profile.append(d)\n",
        "  \n",
        "  return profile"
      ],
      "metadata": {
        "id": "3eMPQGqluAOG"
      },
      "execution_count": 333,
      "outputs": []
    },
    {
      "cell_type": "code",
      "source": [
        "%%time\n",
        "directory = 'reviews_full'\n",
        "pathlist = Path(directory).glob('*.xml')\n",
        "\n",
        "profiles = []\n",
        "for path in pathlist:\n",
        "    profiles.extend(read_profiles(path))"
      ],
      "metadata": {
        "colab": {
          "base_uri": "https://localhost:8080/"
        },
        "id": "rE_aTjzV62e7",
        "outputId": "1357adec-d64e-4193-9050-3e44d672d1c8"
      },
      "execution_count": 334,
      "outputs": [
        {
          "output_type": "stream",
          "name": "stdout",
          "text": [
            "CPU times: user 54.5 s, sys: 1.7 s, total: 56.2 s\n",
            "Wall time: 56.7 s\n"
          ]
        }
      ]
    },
    {
      "cell_type": "code",
      "source": [
        "%%time\n",
        "s_prefix1 = set()\n",
        "for i in profiles:\n",
        "  if i['name_prefix']:\n",
        "    s_prefix1.add(i['name_prefix'])\n",
        "s_prefix1"
      ],
      "metadata": {
        "colab": {
          "base_uri": "https://localhost:8080/"
        },
        "outputId": "2026b7b7-e433-498c-ee9c-219ef7534237",
        "id": "5ZLe-DH87VL9"
      },
      "execution_count": 338,
      "outputs": [
        {
          "output_type": "stream",
          "name": "stdout",
          "text": [
            "CPU times: user 289 ms, sys: 1.84 ms, total: 291 ms\n",
            "Wall time: 318 ms\n"
          ]
        },
        {
          "output_type": "execute_result",
          "data": {
            "text/plain": [
              "{'Dr.', 'Miss', 'Mr.', 'Mrs.', 'Ms.'}"
            ]
          },
          "metadata": {},
          "execution_count": 338
        }
      ]
    },
    {
      "cell_type": "code",
      "source": [
        "%%time\n",
        "s_ccode1 = set()\n",
        "for i in profiles:\n",
        "    if i['country_code']:\n",
        "      s_ccode1.add(i['country_code'])\n",
        "s_ccode1"
      ],
      "metadata": {
        "colab": {
          "base_uri": "https://localhost:8080/"
        },
        "outputId": "a915e023-0671-498f-985e-4f221344430f",
        "id": "0RAMMI3K7VL-"
      },
      "execution_count": 340,
      "outputs": [
        {
          "output_type": "stream",
          "name": "stdout",
          "text": [
            "CPU times: user 217 ms, sys: 1.91 ms, total: 219 ms\n",
            "Wall time: 223 ms\n"
          ]
        },
        {
          "output_type": "execute_result",
          "data": {
            "text/plain": [
              "{'AD',\n",
              " 'AE',\n",
              " 'AF',\n",
              " 'AG',\n",
              " 'AI',\n",
              " 'AL',\n",
              " 'AM',\n",
              " 'AN',\n",
              " 'AO',\n",
              " 'AR',\n",
              " 'AS',\n",
              " 'AT',\n",
              " 'AU',\n",
              " 'AW',\n",
              " 'AZ',\n",
              " 'BA',\n",
              " 'BB',\n",
              " 'BD',\n",
              " 'BE',\n",
              " 'BF',\n",
              " 'BG',\n",
              " 'BH',\n",
              " 'BI',\n",
              " 'BJ',\n",
              " 'BM',\n",
              " 'BN',\n",
              " 'BO',\n",
              " 'BR',\n",
              " 'BS',\n",
              " 'BT',\n",
              " 'BW',\n",
              " 'BY',\n",
              " 'BZ',\n",
              " 'CA',\n",
              " 'CC',\n",
              " 'CF',\n",
              " 'CH',\n",
              " 'CK',\n",
              " 'CL',\n",
              " 'CM',\n",
              " 'CN',\n",
              " 'CO',\n",
              " 'CR',\n",
              " 'CU',\n",
              " 'CV',\n",
              " 'CX',\n",
              " 'CY',\n",
              " 'CZ',\n",
              " 'DE',\n",
              " 'DJ',\n",
              " 'DK',\n",
              " 'DM',\n",
              " 'DO',\n",
              " 'DZ',\n",
              " 'EC',\n",
              " 'EE',\n",
              " 'EG',\n",
              " 'EH',\n",
              " 'ER',\n",
              " 'ES',\n",
              " 'ET',\n",
              " 'FI',\n",
              " 'FJ',\n",
              " 'FK',\n",
              " 'FO',\n",
              " 'FR',\n",
              " 'GA',\n",
              " 'GB',\n",
              " 'GD',\n",
              " 'GE',\n",
              " 'GF',\n",
              " 'GG',\n",
              " 'GH',\n",
              " 'GI',\n",
              " 'GL',\n",
              " 'GM',\n",
              " 'GN',\n",
              " 'GP',\n",
              " 'GQ',\n",
              " 'GR',\n",
              " 'GS',\n",
              " 'GT',\n",
              " 'GU',\n",
              " 'GW',\n",
              " 'GY',\n",
              " 'HM',\n",
              " 'HN',\n",
              " 'HR',\n",
              " 'HT',\n",
              " 'HU',\n",
              " 'ID',\n",
              " 'IE',\n",
              " 'IL',\n",
              " 'IM',\n",
              " 'IN',\n",
              " 'IQ',\n",
              " 'IR',\n",
              " 'IS',\n",
              " 'IT',\n",
              " 'JE',\n",
              " 'JM',\n",
              " 'JO',\n",
              " 'JP',\n",
              " 'KE',\n",
              " 'KH',\n",
              " 'KI',\n",
              " 'KM',\n",
              " 'KN',\n",
              " 'KW',\n",
              " 'KY',\n",
              " 'KZ',\n",
              " 'LA',\n",
              " 'LB',\n",
              " 'LC',\n",
              " 'LI',\n",
              " 'LK',\n",
              " 'LR',\n",
              " 'LS',\n",
              " 'LT',\n",
              " 'LU',\n",
              " 'LV',\n",
              " 'LY',\n",
              " 'MA',\n",
              " 'MC',\n",
              " 'ME',\n",
              " 'MF',\n",
              " 'MG',\n",
              " 'MH',\n",
              " 'ML',\n",
              " 'MM',\n",
              " 'MN',\n",
              " 'MO',\n",
              " 'MP',\n",
              " 'MQ',\n",
              " 'MR',\n",
              " 'MS',\n",
              " 'MT',\n",
              " 'MU',\n",
              " 'MV',\n",
              " 'MW',\n",
              " 'MX',\n",
              " 'MY',\n",
              " 'MZ',\n",
              " 'NC',\n",
              " 'NE',\n",
              " 'NF',\n",
              " 'NG',\n",
              " 'NI',\n",
              " 'NL',\n",
              " 'NO',\n",
              " 'NP',\n",
              " 'NR',\n",
              " 'NU',\n",
              " 'NZ',\n",
              " 'OM',\n",
              " 'PA',\n",
              " 'PE',\n",
              " 'PF',\n",
              " 'PG',\n",
              " 'PH',\n",
              " 'PK',\n",
              " 'PL',\n",
              " 'PM',\n",
              " 'PR',\n",
              " 'PT',\n",
              " 'PW',\n",
              " 'PY',\n",
              " 'QA',\n",
              " 'RE',\n",
              " 'RO',\n",
              " 'RS',\n",
              " 'RW',\n",
              " 'SA',\n",
              " 'SB',\n",
              " 'SC',\n",
              " 'SD',\n",
              " 'SE',\n",
              " 'SG',\n",
              " 'SI',\n",
              " 'SL',\n",
              " 'SM',\n",
              " 'SN',\n",
              " 'SO',\n",
              " 'SR',\n",
              " 'ST',\n",
              " 'SV',\n",
              " 'SY',\n",
              " 'SZ',\n",
              " 'TD',\n",
              " 'TF',\n",
              " 'TG',\n",
              " 'TH',\n",
              " 'TJ',\n",
              " 'TK',\n",
              " 'TL',\n",
              " 'TM',\n",
              " 'TN',\n",
              " 'TO',\n",
              " 'TR',\n",
              " 'TT',\n",
              " 'TV',\n",
              " 'TW',\n",
              " 'TZ',\n",
              " 'UA',\n",
              " 'UG',\n",
              " 'UM',\n",
              " 'UY',\n",
              " 'UZ',\n",
              " 'VA',\n",
              " 'VC',\n",
              " 'VE',\n",
              " 'VN',\n",
              " 'VU',\n",
              " 'WF',\n",
              " 'WS',\n",
              " 'YE',\n",
              " 'YT',\n",
              " 'ZA',\n",
              " 'ZM',\n",
              " 'ZW',\n",
              " 'nan'}"
            ]
          },
          "metadata": {},
          "execution_count": 340
        }
      ]
    },
    {
      "cell_type": "code",
      "source": [
        "# проверка, что в данных есть country_code, который равен 'nan'\n",
        "for i in profiles:\n",
        "  if i['country_code'] == 'nan':\n",
        "    print(i)\n",
        "    break"
      ],
      "metadata": {
        "colab": {
          "base_uri": "https://localhost:8080/"
        },
        "id": "X5xRFjfq8cXK",
        "outputId": "f895cb68-08ac-4837-8e5b-d76c166b10f7"
      },
      "execution_count": 343,
      "outputs": [
        {
          "output_type": "stream",
          "name": "stdout",
          "text": [
            "{'id': '93893', 'username': 'emily23', 'name': None, 'sex': None, 'country': 'Namibia', 'mail': None, 'registered': '2019-09-27', 'birthdate': '1963-03-22', 'country_code': 'nan', 'name_prefix': None}\n"
          ]
        }
      ]
    },
    {
      "cell_type": "markdown",
      "metadata": {
        "id": "SCTmxaBEwexG"
      },
      "source": [
        "<p class=\"task\" id=\"2\"></p>\n",
        "\n",
        "2\\. Задекорируйте функцию `read_profiles` при помощи `dask.delayed`. Cоздайте список `reviewers`, состоящий из 20 объектов `Delayed` (по одному объекту на файл). Повторите решение задачи 1, распараллелив вычисления при помощи `dask`. Измерьте время выполнения кода. Добейтесь существенного (в разы) уменьшения времени выполнения в сравнении с решением задачи 1."
      ]
    },
    {
      "cell_type": "code",
      "source": [
        "read_profiles_delayed = dask.delayed(read_profiles)\n",
        "\n",
        "directory = 'reviews_full'\n",
        "pathlist = Path(directory).glob('*.xml')\n",
        "\n",
        "reviewers = [read_profiles_delayed(path) for path in pathlist]\n",
        "reviewers"
      ],
      "metadata": {
        "colab": {
          "base_uri": "https://localhost:8080/"
        },
        "id": "GybBOyuhAUfd",
        "outputId": "f07baffa-d995-40e9-e3ef-500da1f97342"
      },
      "execution_count": 350,
      "outputs": [
        {
          "output_type": "execute_result",
          "data": {
            "text/plain": [
              "[Delayed('read_profiles-54a1b630-7737-4ea5-8b76-1fef3d468d01'),\n",
              " Delayed('read_profiles-1d267559-5d79-4701-b1b8-3cb32a5390a7'),\n",
              " Delayed('read_profiles-b643c840-d041-4fde-ac7c-97bd19eeb38b'),\n",
              " Delayed('read_profiles-6a9cf180-da77-4e57-8ffc-c6a9df8af576'),\n",
              " Delayed('read_profiles-5852192a-38fd-4e64-90ec-c0473383c4d2'),\n",
              " Delayed('read_profiles-57ec43c9-8b85-485c-a066-13d85ea11a42'),\n",
              " Delayed('read_profiles-d9cb66e0-1109-46f1-8002-4d9ee5de3b97'),\n",
              " Delayed('read_profiles-8c6b80f2-f8d3-4dc0-90ef-63dbbae5be8f'),\n",
              " Delayed('read_profiles-cc31246f-4fba-4c51-a66c-50c9afeeb595'),\n",
              " Delayed('read_profiles-f44f65af-0b0d-47d7-bb5f-aab1badaedc8'),\n",
              " Delayed('read_profiles-c7ec9761-045c-431c-a177-005cc95d02a0'),\n",
              " Delayed('read_profiles-85478f25-cfe3-4c5b-8bc8-50202aadb2d3'),\n",
              " Delayed('read_profiles-85d23c7c-1e54-4483-8689-49ac5b272f05'),\n",
              " Delayed('read_profiles-ef4bc73b-f890-45fb-a1b8-0c23a2e21d73'),\n",
              " Delayed('read_profiles-dc73279a-895f-43c9-8aed-ae98564642e1'),\n",
              " Delayed('read_profiles-006ce948-0781-425f-9b9c-fd724ab0f7c4'),\n",
              " Delayed('read_profiles-7583cf9e-92bf-4e63-b8f7-5bc9129812d7'),\n",
              " Delayed('read_profiles-c99910a8-e2a6-4a73-9641-4a45093e5e5c'),\n",
              " Delayed('read_profiles-03e52e03-f0e1-4f9f-86f1-0c30b5c4ec05'),\n",
              " Delayed('read_profiles-b3ac6dd9-8215-4ce1-bf67-5011c3c651b0')]"
            ]
          },
          "metadata": {},
          "execution_count": 350
        }
      ]
    },
    {
      "cell_type": "code",
      "source": [
        "%%time\n",
        "profiles2 = dask.delayed(sum)(reviewers,[]).compute(scheduler='processes')"
      ],
      "metadata": {
        "colab": {
          "base_uri": "https://localhost:8080/"
        },
        "id": "e4s2Y0CNN-ax",
        "outputId": "7ad10324-bcfb-4a41-e84b-91997bba5344"
      },
      "execution_count": 351,
      "outputs": [
        {
          "output_type": "stream",
          "name": "stdout",
          "text": [
            "CPU times: user 6.09 s, sys: 2.15 s, total: 8.24 s\n",
            "Wall time: 1min 7s\n"
          ]
        }
      ]
    },
    {
      "cell_type": "markdown",
      "source": [
        "**CPU times уменьшилось в 6.82 раза**\\\n",
        "**Wall time увеличилось в 1.18 раз (10s)**"
      ],
      "metadata": {
        "id": "Fdk6NWWXR6wl"
      }
    },
    {
      "cell_type": "code",
      "source": [
        "%%time\n",
        "s_prefix2 = set()\n",
        "for i in profiles2:\n",
        "  if i['name_prefix']:\n",
        "    s_prefix2.add(i['name_prefix'])\n",
        "s_prefix2"
      ],
      "metadata": {
        "colab": {
          "base_uri": "https://localhost:8080/"
        },
        "outputId": "d8b765c7-c54a-4587-9214-fe752b09ab89",
        "id": "yhVpwSjlSppd"
      },
      "execution_count": 356,
      "outputs": [
        {
          "output_type": "stream",
          "name": "stdout",
          "text": [
            "CPU times: user 193 ms, sys: 1.98 ms, total: 195 ms\n",
            "Wall time: 204 ms\n"
          ]
        },
        {
          "output_type": "execute_result",
          "data": {
            "text/plain": [
              "{'Dr.', 'Miss', 'Mr.', 'Mrs.', 'Ms.'}"
            ]
          },
          "metadata": {},
          "execution_count": 356
        }
      ]
    },
    {
      "cell_type": "code",
      "source": [
        "s_prefix1 == s_prefix2"
      ],
      "metadata": {
        "colab": {
          "base_uri": "https://localhost:8080/"
        },
        "id": "fFNoZjXQTCiK",
        "outputId": "27e83444-f8de-4e7f-db6c-69bfffdd797b"
      },
      "execution_count": 357,
      "outputs": [
        {
          "output_type": "execute_result",
          "data": {
            "text/plain": [
              "True"
            ]
          },
          "metadata": {},
          "execution_count": 357
        }
      ]
    },
    {
      "cell_type": "code",
      "source": [
        "%%time\n",
        "s_ccode2 = set()\n",
        "for i in profiles2:\n",
        "    if i['country_code']:\n",
        "      s_ccode2.add(i['country_code'])\n",
        "s_ccode2"
      ],
      "metadata": {
        "colab": {
          "base_uri": "https://localhost:8080/"
        },
        "outputId": "f6f9fdc6-8a06-4105-f2c1-e1ca17cb59ee",
        "id": "BhjtZ5MASppt"
      },
      "execution_count": 358,
      "outputs": [
        {
          "output_type": "stream",
          "name": "stdout",
          "text": [
            "CPU times: user 340 ms, sys: 0 ns, total: 340 ms\n",
            "Wall time: 379 ms\n"
          ]
        },
        {
          "output_type": "execute_result",
          "data": {
            "text/plain": [
              "{'AD',\n",
              " 'AE',\n",
              " 'AF',\n",
              " 'AG',\n",
              " 'AI',\n",
              " 'AL',\n",
              " 'AM',\n",
              " 'AN',\n",
              " 'AO',\n",
              " 'AR',\n",
              " 'AS',\n",
              " 'AT',\n",
              " 'AU',\n",
              " 'AW',\n",
              " 'AZ',\n",
              " 'BA',\n",
              " 'BB',\n",
              " 'BD',\n",
              " 'BE',\n",
              " 'BF',\n",
              " 'BG',\n",
              " 'BH',\n",
              " 'BI',\n",
              " 'BJ',\n",
              " 'BM',\n",
              " 'BN',\n",
              " 'BO',\n",
              " 'BR',\n",
              " 'BS',\n",
              " 'BT',\n",
              " 'BW',\n",
              " 'BY',\n",
              " 'BZ',\n",
              " 'CA',\n",
              " 'CC',\n",
              " 'CF',\n",
              " 'CH',\n",
              " 'CK',\n",
              " 'CL',\n",
              " 'CM',\n",
              " 'CN',\n",
              " 'CO',\n",
              " 'CR',\n",
              " 'CU',\n",
              " 'CV',\n",
              " 'CX',\n",
              " 'CY',\n",
              " 'CZ',\n",
              " 'DE',\n",
              " 'DJ',\n",
              " 'DK',\n",
              " 'DM',\n",
              " 'DO',\n",
              " 'DZ',\n",
              " 'EC',\n",
              " 'EE',\n",
              " 'EG',\n",
              " 'EH',\n",
              " 'ER',\n",
              " 'ES',\n",
              " 'ET',\n",
              " 'FI',\n",
              " 'FJ',\n",
              " 'FK',\n",
              " 'FO',\n",
              " 'FR',\n",
              " 'GA',\n",
              " 'GB',\n",
              " 'GD',\n",
              " 'GE',\n",
              " 'GF',\n",
              " 'GG',\n",
              " 'GH',\n",
              " 'GI',\n",
              " 'GL',\n",
              " 'GM',\n",
              " 'GN',\n",
              " 'GP',\n",
              " 'GQ',\n",
              " 'GR',\n",
              " 'GS',\n",
              " 'GT',\n",
              " 'GU',\n",
              " 'GW',\n",
              " 'GY',\n",
              " 'HM',\n",
              " 'HN',\n",
              " 'HR',\n",
              " 'HT',\n",
              " 'HU',\n",
              " 'ID',\n",
              " 'IE',\n",
              " 'IL',\n",
              " 'IM',\n",
              " 'IN',\n",
              " 'IQ',\n",
              " 'IR',\n",
              " 'IS',\n",
              " 'IT',\n",
              " 'JE',\n",
              " 'JM',\n",
              " 'JO',\n",
              " 'JP',\n",
              " 'KE',\n",
              " 'KH',\n",
              " 'KI',\n",
              " 'KM',\n",
              " 'KN',\n",
              " 'KW',\n",
              " 'KY',\n",
              " 'KZ',\n",
              " 'LA',\n",
              " 'LB',\n",
              " 'LC',\n",
              " 'LI',\n",
              " 'LK',\n",
              " 'LR',\n",
              " 'LS',\n",
              " 'LT',\n",
              " 'LU',\n",
              " 'LV',\n",
              " 'LY',\n",
              " 'MA',\n",
              " 'MC',\n",
              " 'ME',\n",
              " 'MF',\n",
              " 'MG',\n",
              " 'MH',\n",
              " 'ML',\n",
              " 'MM',\n",
              " 'MN',\n",
              " 'MO',\n",
              " 'MP',\n",
              " 'MQ',\n",
              " 'MR',\n",
              " 'MS',\n",
              " 'MT',\n",
              " 'MU',\n",
              " 'MV',\n",
              " 'MW',\n",
              " 'MX',\n",
              " 'MY',\n",
              " 'MZ',\n",
              " 'NC',\n",
              " 'NE',\n",
              " 'NF',\n",
              " 'NG',\n",
              " 'NI',\n",
              " 'NL',\n",
              " 'NO',\n",
              " 'NP',\n",
              " 'NR',\n",
              " 'NU',\n",
              " 'NZ',\n",
              " 'OM',\n",
              " 'PA',\n",
              " 'PE',\n",
              " 'PF',\n",
              " 'PG',\n",
              " 'PH',\n",
              " 'PK',\n",
              " 'PL',\n",
              " 'PM',\n",
              " 'PR',\n",
              " 'PT',\n",
              " 'PW',\n",
              " 'PY',\n",
              " 'QA',\n",
              " 'RE',\n",
              " 'RO',\n",
              " 'RS',\n",
              " 'RW',\n",
              " 'SA',\n",
              " 'SB',\n",
              " 'SC',\n",
              " 'SD',\n",
              " 'SE',\n",
              " 'SG',\n",
              " 'SI',\n",
              " 'SL',\n",
              " 'SM',\n",
              " 'SN',\n",
              " 'SO',\n",
              " 'SR',\n",
              " 'ST',\n",
              " 'SV',\n",
              " 'SY',\n",
              " 'SZ',\n",
              " 'TD',\n",
              " 'TF',\n",
              " 'TG',\n",
              " 'TH',\n",
              " 'TJ',\n",
              " 'TK',\n",
              " 'TL',\n",
              " 'TM',\n",
              " 'TN',\n",
              " 'TO',\n",
              " 'TR',\n",
              " 'TT',\n",
              " 'TV',\n",
              " 'TW',\n",
              " 'TZ',\n",
              " 'UA',\n",
              " 'UG',\n",
              " 'UM',\n",
              " 'UY',\n",
              " 'UZ',\n",
              " 'VA',\n",
              " 'VC',\n",
              " 'VE',\n",
              " 'VN',\n",
              " 'VU',\n",
              " 'WF',\n",
              " 'WS',\n",
              " 'YE',\n",
              " 'YT',\n",
              " 'ZA',\n",
              " 'ZM',\n",
              " 'ZW',\n",
              " 'nan'}"
            ]
          },
          "metadata": {},
          "execution_count": 358
        }
      ]
    },
    {
      "cell_type": "code",
      "source": [
        "s_ccode1 == s_ccode2"
      ],
      "metadata": {
        "colab": {
          "base_uri": "https://localhost:8080/"
        },
        "id": "2AW2LxxqTAdX",
        "outputId": "a8c56c2c-d1ae-4e76-96cb-b743a92f3cbd"
      },
      "execution_count": 359,
      "outputs": [
        {
          "output_type": "execute_result",
          "data": {
            "text/plain": [
              "True"
            ]
          },
          "metadata": {},
          "execution_count": 359
        }
      ]
    },
    {
      "cell_type": "markdown",
      "metadata": {
        "id": "2QinhvcgwexG"
      },
      "source": [
        "<p class=\"task\" id=\"3\"></p>\n",
        "\n",
        "3\\. Задекорируйте функцию из задания 1 при помощи `dask.delayed` и создайте список `reviewers`, состоящий из 20 объектов `Delayed` (по одному объекту на файл). Из списка объектов `Delayed`, создайте `dask.bag` при помощи метода `db.from_delayed`. Добавьте ключ `birth_year`, в котором хранится год рождения человека. Оставьте в выборке только тех людей, которые __наверняка__ моложе 1980 года. Преобразуйте поле `id` к целому типу.\n",
        "\n",
        "Выведите на экран количество элементов в созданном `Bag`."
      ]
    },
    {
      "cell_type": "code",
      "source": [
        "import dask.bag as db"
      ],
      "metadata": {
        "id": "h_0YjpN_TGKl"
      },
      "execution_count": 360,
      "outputs": []
    },
    {
      "cell_type": "code",
      "source": [
        "def get_birth_year(x):\n",
        "  if x['birthdate']:\n",
        "    x['birth_year'] = int(x['birthdate'].split('-')[0])\n",
        "  else:\n",
        "    x['birth_year'] = None\n",
        "\n",
        "  if x['id']:\n",
        "    x['id'] = int(x['id'])\n",
        "    \n",
        "  return x"
      ],
      "metadata": {
        "id": "8hRw8lE3VWCz"
      },
      "execution_count": 367,
      "outputs": []
    },
    {
      "cell_type": "code",
      "source": [
        "%%time\n",
        "bg3 = db.from_delayed(reviewers)\n",
        "bg3_with_year = bg3.map(get_birth_year)\n",
        "bg3_with_year.take(3)"
      ],
      "metadata": {
        "colab": {
          "base_uri": "https://localhost:8080/"
        },
        "id": "wVHKF-x_UGtN",
        "outputId": "3ea3c5ba-2976-44bf-c1af-f29bcbc6ea4c"
      },
      "execution_count": 368,
      "outputs": [
        {
          "output_type": "stream",
          "name": "stdout",
          "text": [
            "CPU times: user 30.9 ms, sys: 28 µs, total: 30.9 ms\n",
            "Wall time: 3.1 s\n"
          ]
        },
        {
          "output_type": "execute_result",
          "data": {
            "text/plain": [
              "({'id': 52390,\n",
              "  'username': 'jasmine20',\n",
              "  'name': None,\n",
              "  'sex': None,\n",
              "  'country': None,\n",
              "  'mail': 'thomas40@gmail.com',\n",
              "  'registered': None,\n",
              "  'birthdate': None,\n",
              "  'country_code': None,\n",
              "  'name_prefix': None,\n",
              "  'birth_year': None},\n",
              " {'id': 48514,\n",
              "  'username': 'mccarthytodd',\n",
              "  'name': 'Benjamin Cruz',\n",
              "  'sex': 'M',\n",
              "  'country': None,\n",
              "  'mail': 'raymond39@gmail.com',\n",
              "  'registered': '2007-04-25',\n",
              "  'birthdate': '1990-06-14',\n",
              "  'country_code': None,\n",
              "  'name_prefix': 'Dr.',\n",
              "  'birth_year': 1990},\n",
              " {'id': 40507,\n",
              "  'username': 'rsanchez',\n",
              "  'name': None,\n",
              "  'sex': None,\n",
              "  'country': 'Egypt',\n",
              "  'mail': None,\n",
              "  'registered': '2004-11-09',\n",
              "  'birthdate': '2022-03-24',\n",
              "  'country_code': 'EG',\n",
              "  'name_prefix': None,\n",
              "  'birth_year': 2022})"
            ]
          },
          "metadata": {},
          "execution_count": 368
        }
      ]
    },
    {
      "cell_type": "code",
      "source": [
        "def is_younger(x):\n",
        "  return x['birth_year'] is not None and x['birth_year'] > 1980"
      ],
      "metadata": {
        "id": "VVhEg82HWlHT"
      },
      "execution_count": 369,
      "outputs": []
    },
    {
      "cell_type": "code",
      "source": [
        "%%time\n",
        "bg3_young = bg3_with_year.filter(is_younger)\n",
        "bg3_young.take(3)"
      ],
      "metadata": {
        "colab": {
          "base_uri": "https://localhost:8080/"
        },
        "id": "vDSwhNwNUGqW",
        "outputId": "fe664636-27fe-48fe-89c7-c3b442a871e4"
      },
      "execution_count": 370,
      "outputs": [
        {
          "output_type": "stream",
          "name": "stdout",
          "text": [
            "CPU times: user 29.6 ms, sys: 1.19 ms, total: 30.8 ms\n",
            "Wall time: 2.89 s\n"
          ]
        },
        {
          "output_type": "execute_result",
          "data": {
            "text/plain": [
              "({'id': 48514,\n",
              "  'username': 'mccarthytodd',\n",
              "  'name': 'Benjamin Cruz',\n",
              "  'sex': 'M',\n",
              "  'country': None,\n",
              "  'mail': 'raymond39@gmail.com',\n",
              "  'registered': '2007-04-25',\n",
              "  'birthdate': '1990-06-14',\n",
              "  'country_code': None,\n",
              "  'name_prefix': 'Dr.',\n",
              "  'birth_year': 1990},\n",
              " {'id': 40507,\n",
              "  'username': 'rsanchez',\n",
              "  'name': None,\n",
              "  'sex': None,\n",
              "  'country': 'Egypt',\n",
              "  'mail': None,\n",
              "  'registered': '2004-11-09',\n",
              "  'birthdate': '2022-03-24',\n",
              "  'country_code': 'EG',\n",
              "  'name_prefix': None,\n",
              "  'birth_year': 2022},\n",
              " {'id': 87421,\n",
              "  'username': 'ramirezheather',\n",
              "  'name': 'William Weaver',\n",
              "  'sex': None,\n",
              "  'country': None,\n",
              "  'mail': 'daniel25@hotmail.com',\n",
              "  'registered': '2018-05-20',\n",
              "  'birthdate': '1997-03-29',\n",
              "  'country_code': None,\n",
              "  'name_prefix': None,\n",
              "  'birth_year': 1997})"
            ]
          },
          "metadata": {},
          "execution_count": 370
        }
      ]
    },
    {
      "cell_type": "code",
      "source": [
        "%%time\n",
        "bg3_young.count().compute()"
      ],
      "metadata": {
        "colab": {
          "base_uri": "https://localhost:8080/"
        },
        "id": "8bfWVKkTXgK-",
        "outputId": "2069ce04-9e7c-4e94-99bd-65c386cf8ea7"
      },
      "execution_count": 371,
      "outputs": [
        {
          "output_type": "stream",
          "name": "stdout",
          "text": [
            "CPU times: user 301 ms, sys: 30.7 ms, total: 332 ms\n",
            "Wall time: 51.9 s\n"
          ]
        },
        {
          "output_type": "execute_result",
          "data": {
            "text/plain": [
              "287501"
            ]
          },
          "metadata": {},
          "execution_count": 371
        }
      ]
    },
    {
      "cell_type": "markdown",
      "metadata": {
        "id": "RAfd0fIRwexH"
      },
      "source": [
        "<p class=\"task\" id=\"4\"></p>\n",
        "\n",
        "4\\. Преобразуйте `Bag` из предыдущего задания в `dd.DataFrame`. Найдите и выведите на экран страну с наибольшим количеством пользователей."
      ]
    },
    {
      "cell_type": "code",
      "source": [
        "dd4 = bg3_young.to_dataframe()\n",
        "dd4.head()"
      ],
      "metadata": {
        "colab": {
          "base_uri": "https://localhost:8080/",
          "height": 206
        },
        "id": "fdDPtPHGXHvN",
        "outputId": "c48df11e-dc0c-4a86-a37a-615f74c1155a"
      },
      "execution_count": 372,
      "outputs": [
        {
          "output_type": "execute_result",
          "data": {
            "text/plain": [
              "      id        username            name   sex   country  \\\n",
              "0  48514    mccarthytodd   Benjamin Cruz     M      None   \n",
              "1  40507        rsanchez            None  None     Egypt   \n",
              "2  87421  ramirezheather  William Weaver  None      None   \n",
              "3  68609        lauren64            None     M    France   \n",
              "4  53251       katelyn58   William Noble     M  Botswana   \n",
              "\n",
              "                   mail  registered   birthdate country_code name_prefix  \\\n",
              "0   raymond39@gmail.com  2007-04-25  1990-06-14         None         Dr.   \n",
              "1                  None  2004-11-09  2022-03-24           EG        None   \n",
              "2  daniel25@hotmail.com  2018-05-20  1997-03-29         None        None   \n",
              "3                  None        None  1982-08-17           FR        None   \n",
              "4                  None        None  2015-09-07           BW         Mr.   \n",
              "\n",
              "   birth_year  \n",
              "0        1990  \n",
              "1        2022  \n",
              "2        1997  \n",
              "3        1982  \n",
              "4        2015  "
            ],
            "text/html": [
              "\n",
              "  <div id=\"df-6dd13830-c4ad-4916-8e87-c84c3d324e66\">\n",
              "    <div class=\"colab-df-container\">\n",
              "      <div>\n",
              "<style scoped>\n",
              "    .dataframe tbody tr th:only-of-type {\n",
              "        vertical-align: middle;\n",
              "    }\n",
              "\n",
              "    .dataframe tbody tr th {\n",
              "        vertical-align: top;\n",
              "    }\n",
              "\n",
              "    .dataframe thead th {\n",
              "        text-align: right;\n",
              "    }\n",
              "</style>\n",
              "<table border=\"1\" class=\"dataframe\">\n",
              "  <thead>\n",
              "    <tr style=\"text-align: right;\">\n",
              "      <th></th>\n",
              "      <th>id</th>\n",
              "      <th>username</th>\n",
              "      <th>name</th>\n",
              "      <th>sex</th>\n",
              "      <th>country</th>\n",
              "      <th>mail</th>\n",
              "      <th>registered</th>\n",
              "      <th>birthdate</th>\n",
              "      <th>country_code</th>\n",
              "      <th>name_prefix</th>\n",
              "      <th>birth_year</th>\n",
              "    </tr>\n",
              "  </thead>\n",
              "  <tbody>\n",
              "    <tr>\n",
              "      <th>0</th>\n",
              "      <td>48514</td>\n",
              "      <td>mccarthytodd</td>\n",
              "      <td>Benjamin Cruz</td>\n",
              "      <td>M</td>\n",
              "      <td>None</td>\n",
              "      <td>raymond39@gmail.com</td>\n",
              "      <td>2007-04-25</td>\n",
              "      <td>1990-06-14</td>\n",
              "      <td>None</td>\n",
              "      <td>Dr.</td>\n",
              "      <td>1990</td>\n",
              "    </tr>\n",
              "    <tr>\n",
              "      <th>1</th>\n",
              "      <td>40507</td>\n",
              "      <td>rsanchez</td>\n",
              "      <td>None</td>\n",
              "      <td>None</td>\n",
              "      <td>Egypt</td>\n",
              "      <td>None</td>\n",
              "      <td>2004-11-09</td>\n",
              "      <td>2022-03-24</td>\n",
              "      <td>EG</td>\n",
              "      <td>None</td>\n",
              "      <td>2022</td>\n",
              "    </tr>\n",
              "    <tr>\n",
              "      <th>2</th>\n",
              "      <td>87421</td>\n",
              "      <td>ramirezheather</td>\n",
              "      <td>William Weaver</td>\n",
              "      <td>None</td>\n",
              "      <td>None</td>\n",
              "      <td>daniel25@hotmail.com</td>\n",
              "      <td>2018-05-20</td>\n",
              "      <td>1997-03-29</td>\n",
              "      <td>None</td>\n",
              "      <td>None</td>\n",
              "      <td>1997</td>\n",
              "    </tr>\n",
              "    <tr>\n",
              "      <th>3</th>\n",
              "      <td>68609</td>\n",
              "      <td>lauren64</td>\n",
              "      <td>None</td>\n",
              "      <td>M</td>\n",
              "      <td>France</td>\n",
              "      <td>None</td>\n",
              "      <td>None</td>\n",
              "      <td>1982-08-17</td>\n",
              "      <td>FR</td>\n",
              "      <td>None</td>\n",
              "      <td>1982</td>\n",
              "    </tr>\n",
              "    <tr>\n",
              "      <th>4</th>\n",
              "      <td>53251</td>\n",
              "      <td>katelyn58</td>\n",
              "      <td>William Noble</td>\n",
              "      <td>M</td>\n",
              "      <td>Botswana</td>\n",
              "      <td>None</td>\n",
              "      <td>None</td>\n",
              "      <td>2015-09-07</td>\n",
              "      <td>BW</td>\n",
              "      <td>Mr.</td>\n",
              "      <td>2015</td>\n",
              "    </tr>\n",
              "  </tbody>\n",
              "</table>\n",
              "</div>\n",
              "      <button class=\"colab-df-convert\" onclick=\"convertToInteractive('df-6dd13830-c4ad-4916-8e87-c84c3d324e66')\"\n",
              "              title=\"Convert this dataframe to an interactive table.\"\n",
              "              style=\"display:none;\">\n",
              "        \n",
              "  <svg xmlns=\"http://www.w3.org/2000/svg\" height=\"24px\"viewBox=\"0 0 24 24\"\n",
              "       width=\"24px\">\n",
              "    <path d=\"M0 0h24v24H0V0z\" fill=\"none\"/>\n",
              "    <path d=\"M18.56 5.44l.94 2.06.94-2.06 2.06-.94-2.06-.94-.94-2.06-.94 2.06-2.06.94zm-11 1L8.5 8.5l.94-2.06 2.06-.94-2.06-.94L8.5 2.5l-.94 2.06-2.06.94zm10 10l.94 2.06.94-2.06 2.06-.94-2.06-.94-.94-2.06-.94 2.06-2.06.94z\"/><path d=\"M17.41 7.96l-1.37-1.37c-.4-.4-.92-.59-1.43-.59-.52 0-1.04.2-1.43.59L10.3 9.45l-7.72 7.72c-.78.78-.78 2.05 0 2.83L4 21.41c.39.39.9.59 1.41.59.51 0 1.02-.2 1.41-.59l7.78-7.78 2.81-2.81c.8-.78.8-2.07 0-2.86zM5.41 20L4 18.59l7.72-7.72 1.47 1.35L5.41 20z\"/>\n",
              "  </svg>\n",
              "      </button>\n",
              "      \n",
              "  <style>\n",
              "    .colab-df-container {\n",
              "      display:flex;\n",
              "      flex-wrap:wrap;\n",
              "      gap: 12px;\n",
              "    }\n",
              "\n",
              "    .colab-df-convert {\n",
              "      background-color: #E8F0FE;\n",
              "      border: none;\n",
              "      border-radius: 50%;\n",
              "      cursor: pointer;\n",
              "      display: none;\n",
              "      fill: #1967D2;\n",
              "      height: 32px;\n",
              "      padding: 0 0 0 0;\n",
              "      width: 32px;\n",
              "    }\n",
              "\n",
              "    .colab-df-convert:hover {\n",
              "      background-color: #E2EBFA;\n",
              "      box-shadow: 0px 1px 2px rgba(60, 64, 67, 0.3), 0px 1px 3px 1px rgba(60, 64, 67, 0.15);\n",
              "      fill: #174EA6;\n",
              "    }\n",
              "\n",
              "    [theme=dark] .colab-df-convert {\n",
              "      background-color: #3B4455;\n",
              "      fill: #D2E3FC;\n",
              "    }\n",
              "\n",
              "    [theme=dark] .colab-df-convert:hover {\n",
              "      background-color: #434B5C;\n",
              "      box-shadow: 0px 1px 3px 1px rgba(0, 0, 0, 0.15);\n",
              "      filter: drop-shadow(0px 1px 2px rgba(0, 0, 0, 0.3));\n",
              "      fill: #FFFFFF;\n",
              "    }\n",
              "  </style>\n",
              "\n",
              "      <script>\n",
              "        const buttonEl =\n",
              "          document.querySelector('#df-6dd13830-c4ad-4916-8e87-c84c3d324e66 button.colab-df-convert');\n",
              "        buttonEl.style.display =\n",
              "          google.colab.kernel.accessAllowed ? 'block' : 'none';\n",
              "\n",
              "        async function convertToInteractive(key) {\n",
              "          const element = document.querySelector('#df-6dd13830-c4ad-4916-8e87-c84c3d324e66');\n",
              "          const dataTable =\n",
              "            await google.colab.kernel.invokeFunction('convertToInteractive',\n",
              "                                                     [key], {});\n",
              "          if (!dataTable) return;\n",
              "\n",
              "          const docLinkHtml = 'Like what you see? Visit the ' +\n",
              "            '<a target=\"_blank\" href=https://colab.research.google.com/notebooks/data_table.ipynb>data table notebook</a>'\n",
              "            + ' to learn more about interactive tables.';\n",
              "          element.innerHTML = '';\n",
              "          dataTable['output_type'] = 'display_data';\n",
              "          await google.colab.output.renderOutput(dataTable, element);\n",
              "          const docLink = document.createElement('div');\n",
              "          docLink.innerHTML = docLinkHtml;\n",
              "          element.appendChild(docLink);\n",
              "        }\n",
              "      </script>\n",
              "    </div>\n",
              "  </div>\n",
              "  "
            ]
          },
          "metadata": {},
          "execution_count": 372
        }
      ]
    },
    {
      "cell_type": "code",
      "source": [
        "test4 = dd4.head()"
      ],
      "metadata": {
        "id": "TNgAXm3QXxhA"
      },
      "execution_count": 373,
      "outputs": []
    },
    {
      "cell_type": "code",
      "source": [
        "%%time\n",
        "dd4['country'].value_counts().compute()"
      ],
      "metadata": {
        "colab": {
          "base_uri": "https://localhost:8080/"
        },
        "id": "b09PMStRAjxZ",
        "outputId": "8618f342-4091-41b9-fde1-2bcba4eacf60"
      },
      "execution_count": 377,
      "outputs": [
        {
          "output_type": "stream",
          "name": "stdout",
          "text": [
            "CPU times: user 58.2 s, sys: 399 ms, total: 58.6 s\n",
            "Wall time: 58.9 s\n"
          ]
        },
        {
          "output_type": "execute_result",
          "data": {
            "text/plain": [
              "Korea                1185\n",
              "Congo                1146\n",
              "Liberia               660\n",
              "Brunei Darussalam     660\n",
              "Gambia                658\n",
              "                     ... \n",
              "Guadeloupe            540\n",
              "Timor-Leste           538\n",
              "Saint Martin          531\n",
              "Saint Barthelemy      530\n",
              "Bangladesh            514\n",
              "Name: country, Length: 243, dtype: int64"
            ]
          },
          "metadata": {},
          "execution_count": 377
        }
      ]
    },
    {
      "cell_type": "markdown",
      "source": [
        "**В данных могут быть дублирующиеся 'id'. Так как нужно посчитать кол-во пользователей, то от дубликатов следует избавиться**"
      ],
      "metadata": {
        "id": "U2QaA7VsBEgH"
      }
    },
    {
      "cell_type": "code",
      "source": [
        "%%time\n",
        "dd4[['id','country']].drop_duplicates('id')['country'].value_counts().compute()"
      ],
      "metadata": {
        "colab": {
          "base_uri": "https://localhost:8080/"
        },
        "id": "3ds86NFbYMgM",
        "outputId": "35b054e0-2bb1-4fc7-c97c-8e7f503f55e4"
      },
      "execution_count": 436,
      "outputs": [
        {
          "output_type": "stream",
          "name": "stdout",
          "text": [
            "CPU times: user 3.35 s, sys: 395 ms, total: 3.74 s\n",
            "Wall time: 56.8 s\n"
          ]
        },
        {
          "output_type": "execute_result",
          "data": {
            "text/plain": [
              "Congo                     376\n",
              "Korea                     375\n",
              "Maldives                  226\n",
              "Ghana                     226\n",
              "Pitcairn Islands          226\n",
              "                         ... \n",
              "Cyprus                    165\n",
              "Guadeloupe                164\n",
              "Saint Barthelemy          163\n",
              "Libyan Arab Jamahiriya    163\n",
              "Honduras                  162\n",
              "Name: country, Length: 243, dtype: int64"
            ]
          },
          "metadata": {},
          "execution_count": 436
        }
      ]
    },
    {
      "cell_type": "markdown",
      "metadata": {
        "id": "D5M17SAfwexH"
      },
      "source": [
        "<p class=\"task\" id=\"5\"></p>\n",
        "\n",
        "5\\. Даны две функции: `get_product` и `add_to_db`. Воспользовавшись функцией `get_product`, получите список из 16 товаров с ID от 1 до 16. Добавьте каждый товар в БД __по отдельности__ при помощи функции `add_to_db`. Посчитайте общую сумму добавленных товаров и выведите ее на экран. Замерьте время выполнения данного решения.\n",
        "\n",
        "При решении данной задачи не используйте параллельных вычислений (включая `dask`). \n",
        "\n",
        "__Важно__: выполните ячейку ниже и далее работайте с запущенным `Client` (даже если вы его не используете, как в этой задаче)."
      ]
    },
    {
      "cell_type": "code",
      "execution_count": 378,
      "metadata": {
        "colab": {
          "base_uri": "https://localhost:8080/",
          "height": 404
        },
        "id": "2E6YUlPlwexH",
        "outputId": "9c96f8c4-95c6-4f4a-d3e9-4601c2a6f5b5"
      },
      "outputs": [
        {
          "output_type": "stream",
          "name": "stderr",
          "text": [
            "INFO:distributed.http.proxy:To route to workers diagnostics web server please install jupyter-server-proxy: python -m pip install jupyter-server-proxy\n",
            "INFO:distributed.scheduler:State start\n",
            "INFO:distributed.scheduler:  Scheduler at:     tcp://127.0.0.1:41559\n",
            "INFO:distributed.scheduler:  dashboard at:            127.0.0.1:8787\n",
            "INFO:distributed.nanny:        Start Nanny at: 'tcp://127.0.0.1:33937'\n",
            "INFO:distributed.nanny:        Start Nanny at: 'tcp://127.0.0.1:46837'\n",
            "INFO:distributed.scheduler:Register worker <WorkerState 'tcp://127.0.0.1:42743', name: 0, status: init, memory: 0, processing: 0>\n",
            "INFO:distributed.scheduler:Starting worker compute stream, tcp://127.0.0.1:42743\n",
            "INFO:distributed.core:Starting established connection to tcp://127.0.0.1:57672\n",
            "INFO:distributed.scheduler:Register worker <WorkerState 'tcp://127.0.0.1:39679', name: 1, status: init, memory: 0, processing: 0>\n",
            "INFO:distributed.scheduler:Starting worker compute stream, tcp://127.0.0.1:39679\n",
            "INFO:distributed.core:Starting established connection to tcp://127.0.0.1:57678\n",
            "INFO:distributed.scheduler:Receive client connection: Client-e1d40162-fd6e-11ed-86d4-0242ac1c000c\n",
            "INFO:distributed.core:Starting established connection to tcp://127.0.0.1:57688\n"
          ]
        },
        {
          "output_type": "execute_result",
          "data": {
            "text/plain": [
              "<Client: 'tcp://127.0.0.1:41559' processes=2 threads=2, memory=12.68 GiB>"
            ],
            "text/html": [
              "<div>\n",
              "    <div style=\"width: 24px; height: 24px; background-color: #e1e1e1; border: 3px solid #9D9D9D; border-radius: 5px; position: absolute;\"> </div>\n",
              "    <div style=\"margin-left: 48px;\">\n",
              "        <h3 style=\"margin-bottom: 0px;\">Client</h3>\n",
              "        <p style=\"color: #9D9D9D; margin-bottom: 0px;\">Client-e1d40162-fd6e-11ed-86d4-0242ac1c000c</p>\n",
              "        <table style=\"width: 100%; text-align: left;\">\n",
              "\n",
              "        <tr>\n",
              "        \n",
              "            <td style=\"text-align: left;\"><strong>Connection method:</strong> Cluster object</td>\n",
              "            <td style=\"text-align: left;\"><strong>Cluster type:</strong> distributed.LocalCluster</td>\n",
              "        \n",
              "        </tr>\n",
              "\n",
              "        \n",
              "            <tr>\n",
              "                <td style=\"text-align: left;\">\n",
              "                    <strong>Dashboard: </strong> <a href=\"http://127.0.0.1:8787/status\" target=\"_blank\">http://127.0.0.1:8787/status</a>\n",
              "                </td>\n",
              "                <td style=\"text-align: left;\"></td>\n",
              "            </tr>\n",
              "        \n",
              "\n",
              "        </table>\n",
              "\n",
              "        \n",
              "\n",
              "        \n",
              "            <details>\n",
              "            <summary style=\"margin-bottom: 20px;\"><h3 style=\"display: inline;\">Cluster Info</h3></summary>\n",
              "            <div class=\"jp-RenderedHTMLCommon jp-RenderedHTML jp-mod-trusted jp-OutputArea-output\">\n",
              "    <div style=\"width: 24px; height: 24px; background-color: #e1e1e1; border: 3px solid #9D9D9D; border-radius: 5px; position: absolute;\">\n",
              "    </div>\n",
              "    <div style=\"margin-left: 48px;\">\n",
              "        <h3 style=\"margin-bottom: 0px; margin-top: 0px;\">LocalCluster</h3>\n",
              "        <p style=\"color: #9D9D9D; margin-bottom: 0px;\">76c7cc36</p>\n",
              "        <table style=\"width: 100%; text-align: left;\">\n",
              "            <tr>\n",
              "                <td style=\"text-align: left;\">\n",
              "                    <strong>Dashboard:</strong> <a href=\"http://127.0.0.1:8787/status\" target=\"_blank\">http://127.0.0.1:8787/status</a>\n",
              "                </td>\n",
              "                <td style=\"text-align: left;\">\n",
              "                    <strong>Workers:</strong> 2\n",
              "                </td>\n",
              "            </tr>\n",
              "            <tr>\n",
              "                <td style=\"text-align: left;\">\n",
              "                    <strong>Total threads:</strong> 2\n",
              "                </td>\n",
              "                <td style=\"text-align: left;\">\n",
              "                    <strong>Total memory:</strong> 12.68 GiB\n",
              "                </td>\n",
              "            </tr>\n",
              "            \n",
              "            <tr>\n",
              "    <td style=\"text-align: left;\"><strong>Status:</strong> running</td>\n",
              "    <td style=\"text-align: left;\"><strong>Using processes:</strong> True</td>\n",
              "</tr>\n",
              "\n",
              "            \n",
              "        </table>\n",
              "\n",
              "        <details>\n",
              "            <summary style=\"margin-bottom: 20px;\">\n",
              "                <h3 style=\"display: inline;\">Scheduler Info</h3>\n",
              "            </summary>\n",
              "\n",
              "            <div style=\"\">\n",
              "    <div>\n",
              "        <div style=\"width: 24px; height: 24px; background-color: #FFF7E5; border: 3px solid #FF6132; border-radius: 5px; position: absolute;\"> </div>\n",
              "        <div style=\"margin-left: 48px;\">\n",
              "            <h3 style=\"margin-bottom: 0px;\">Scheduler</h3>\n",
              "            <p style=\"color: #9D9D9D; margin-bottom: 0px;\">Scheduler-6c432367-6a96-48b7-8ad1-0a28b72658c7</p>\n",
              "            <table style=\"width: 100%; text-align: left;\">\n",
              "                <tr>\n",
              "                    <td style=\"text-align: left;\">\n",
              "                        <strong>Comm:</strong> tcp://127.0.0.1:41559\n",
              "                    </td>\n",
              "                    <td style=\"text-align: left;\">\n",
              "                        <strong>Workers:</strong> 2\n",
              "                    </td>\n",
              "                </tr>\n",
              "                <tr>\n",
              "                    <td style=\"text-align: left;\">\n",
              "                        <strong>Dashboard:</strong> <a href=\"http://127.0.0.1:8787/status\" target=\"_blank\">http://127.0.0.1:8787/status</a>\n",
              "                    </td>\n",
              "                    <td style=\"text-align: left;\">\n",
              "                        <strong>Total threads:</strong> 2\n",
              "                    </td>\n",
              "                </tr>\n",
              "                <tr>\n",
              "                    <td style=\"text-align: left;\">\n",
              "                        <strong>Started:</strong> Just now\n",
              "                    </td>\n",
              "                    <td style=\"text-align: left;\">\n",
              "                        <strong>Total memory:</strong> 12.68 GiB\n",
              "                    </td>\n",
              "                </tr>\n",
              "            </table>\n",
              "        </div>\n",
              "    </div>\n",
              "\n",
              "    <details style=\"margin-left: 48px;\">\n",
              "        <summary style=\"margin-bottom: 20px;\">\n",
              "            <h3 style=\"display: inline;\">Workers</h3>\n",
              "        </summary>\n",
              "\n",
              "        \n",
              "        <div style=\"margin-bottom: 20px;\">\n",
              "            <div style=\"width: 24px; height: 24px; background-color: #DBF5FF; border: 3px solid #4CC9FF; border-radius: 5px; position: absolute;\"> </div>\n",
              "            <div style=\"margin-left: 48px;\">\n",
              "            <details>\n",
              "                <summary>\n",
              "                    <h4 style=\"margin-bottom: 0px; display: inline;\">Worker: 0</h4>\n",
              "                </summary>\n",
              "                <table style=\"width: 100%; text-align: left;\">\n",
              "                    <tr>\n",
              "                        <td style=\"text-align: left;\">\n",
              "                            <strong>Comm: </strong> tcp://127.0.0.1:42743\n",
              "                        </td>\n",
              "                        <td style=\"text-align: left;\">\n",
              "                            <strong>Total threads: </strong> 1\n",
              "                        </td>\n",
              "                    </tr>\n",
              "                    <tr>\n",
              "                        <td style=\"text-align: left;\">\n",
              "                            <strong>Dashboard: </strong> <a href=\"http://127.0.0.1:40353/status\" target=\"_blank\">http://127.0.0.1:40353/status</a>\n",
              "                        </td>\n",
              "                        <td style=\"text-align: left;\">\n",
              "                            <strong>Memory: </strong> 6.34 GiB\n",
              "                        </td>\n",
              "                    </tr>\n",
              "                    <tr>\n",
              "                        <td style=\"text-align: left;\">\n",
              "                            <strong>Nanny: </strong> tcp://127.0.0.1:33937\n",
              "                        </td>\n",
              "                        <td style=\"text-align: left;\"></td>\n",
              "                    </tr>\n",
              "                    <tr>\n",
              "                        <td colspan=\"2\" style=\"text-align: left;\">\n",
              "                            <strong>Local directory: </strong> /tmp/dask-worker-space/worker-5jlweydh\n",
              "                        </td>\n",
              "                    </tr>\n",
              "\n",
              "                    \n",
              "\n",
              "                    \n",
              "\n",
              "                </table>\n",
              "            </details>\n",
              "            </div>\n",
              "        </div>\n",
              "        \n",
              "        <div style=\"margin-bottom: 20px;\">\n",
              "            <div style=\"width: 24px; height: 24px; background-color: #DBF5FF; border: 3px solid #4CC9FF; border-radius: 5px; position: absolute;\"> </div>\n",
              "            <div style=\"margin-left: 48px;\">\n",
              "            <details>\n",
              "                <summary>\n",
              "                    <h4 style=\"margin-bottom: 0px; display: inline;\">Worker: 1</h4>\n",
              "                </summary>\n",
              "                <table style=\"width: 100%; text-align: left;\">\n",
              "                    <tr>\n",
              "                        <td style=\"text-align: left;\">\n",
              "                            <strong>Comm: </strong> tcp://127.0.0.1:39679\n",
              "                        </td>\n",
              "                        <td style=\"text-align: left;\">\n",
              "                            <strong>Total threads: </strong> 1\n",
              "                        </td>\n",
              "                    </tr>\n",
              "                    <tr>\n",
              "                        <td style=\"text-align: left;\">\n",
              "                            <strong>Dashboard: </strong> <a href=\"http://127.0.0.1:33051/status\" target=\"_blank\">http://127.0.0.1:33051/status</a>\n",
              "                        </td>\n",
              "                        <td style=\"text-align: left;\">\n",
              "                            <strong>Memory: </strong> 6.34 GiB\n",
              "                        </td>\n",
              "                    </tr>\n",
              "                    <tr>\n",
              "                        <td style=\"text-align: left;\">\n",
              "                            <strong>Nanny: </strong> tcp://127.0.0.1:46837\n",
              "                        </td>\n",
              "                        <td style=\"text-align: left;\"></td>\n",
              "                    </tr>\n",
              "                    <tr>\n",
              "                        <td colspan=\"2\" style=\"text-align: left;\">\n",
              "                            <strong>Local directory: </strong> /tmp/dask-worker-space/worker-2j4gj2h1\n",
              "                        </td>\n",
              "                    </tr>\n",
              "\n",
              "                    \n",
              "\n",
              "                    \n",
              "\n",
              "                </table>\n",
              "            </details>\n",
              "            </div>\n",
              "        </div>\n",
              "        \n",
              "\n",
              "    </details>\n",
              "</div>\n",
              "\n",
              "        </details>\n",
              "    </div>\n",
              "</div>\n",
              "            </details>\n",
              "        \n",
              "\n",
              "    </div>\n",
              "</div>"
            ]
          },
          "metadata": {},
          "execution_count": 378
        }
      ],
      "source": [
        "# ЭТА ЯЧЕЙКА ЯВЛЯЕТСЯ ЧАСТЬЮ УСЛОВИЯ ЗАДАЧИ\n",
        "# ИЗМЕНЯТЬ СОДЕРЖИМОЕ ЭТОЙ ЯЧЕЙКИ ЗАПРЕЩЕНО\n",
        "\n",
        "import requests\n",
        "from dask.distributed import Semaphore, Client\n",
        "import time\n",
        "\n",
        "client = Client()\n",
        "client"
      ]
    },
    {
      "cell_type": "code",
      "execution_count": 379,
      "metadata": {
        "id": "8bPuuCrwwexJ"
      },
      "outputs": [],
      "source": [
        "# ЭТА ЯЧЕЙКА ЯВЛЯЕТСЯ ЧАСТЬЮ УСЛОВИЯ ЗАДАЧИ\n",
        "# ИЗМЕНЯТЬ СОДЕРЖИМОЕ ЭТОЙ ЯЧЕЙКИ ЗАПРЕЩЕНО\n",
        "\n",
        "def get_product(pid: int) -> dict:\n",
        "    \"\"\"Делает запрос к dummyjson и возвращает информацию о товаре\"\"\"\n",
        "    return requests.get(f\"https://dummyjson.com/products/{pid}\").json()\n",
        "\n",
        "def estimate_fake_delay_time(n: int) -> float:\n",
        "    \"\"\"Возвращает кол-во секунд для задержки в зависимости от числа n\"\"\"\n",
        "    return 0.07*n**2 -0.03*n + 2\n",
        "\n",
        "sem = Semaphore(2)\n",
        "\n",
        "def add_to_db(*products):\n",
        "    \"\"\"Принимает на вход переменное количество словарей (товаров), считает сумму и имитирует\n",
        "    длительную операцию сохранения этих элементов в БД, время выполнения которой зависит от кол-ва переданных элементо. \n",
        "    Одновременно могут обрабатываться только 2 запроса (это контролируется семафором).\"\"\"\n",
        "    ttl = 0\n",
        "    for p in products:\n",
        "        print(\"Added {} to db\".format(p[\"title\"]))\n",
        "        ttl += p[\"price\"]\n",
        "    with sem:    \n",
        "        time.sleep(estimate_fake_delay_time(len(products)))\n",
        "    return ttl"
      ]
    },
    {
      "cell_type": "code",
      "source": [
        "%%time\n",
        "list_of_products = [get_product(i) for i in range(1,17)]\n",
        "\n",
        "sum_of_products = 0\n",
        "for i in list_of_products:\n",
        "  sum_of_products += add_to_db(i)\n",
        "\n",
        "sum_of_products"
      ],
      "metadata": {
        "colab": {
          "base_uri": "https://localhost:8080/"
        },
        "id": "7Rr4fPhhCth6",
        "outputId": "04c75af4-80a5-4108-9f4d-68ade207a200"
      },
      "execution_count": 384,
      "outputs": [
        {
          "output_type": "stream",
          "name": "stdout",
          "text": [
            "Added iPhone 9 to db\n",
            "Added iPhone X to db\n",
            "Added Samsung Universe 9 to db\n",
            "Added OPPOF19 to db\n",
            "Added Huawei P30 to db\n",
            "Added MacBook Pro to db\n",
            "Added Samsung Galaxy Book to db\n",
            "Added Microsoft Surface Laptop 4 to db\n",
            "Added Infinix INBOOK to db\n",
            "Added HP Pavilion 15-DK1056WM to db\n",
            "Added perfume Oil to db\n",
            "Added Brown Perfume to db\n",
            "Added Fog Scent Xpressio Perfume to db\n",
            "Added Non-Alcoholic Concentrated Perfume Oil to db\n",
            "Added Eau De Perfume Spray to db\n",
            "Added Hyaluronic Acid Serum to db\n",
            "CPU times: user 2.16 s, sys: 243 ms, total: 2.4 s\n",
            "Wall time: 36.2 s\n"
          ]
        },
        {
          "output_type": "execute_result",
          "data": {
            "text/plain": [
              "10656"
            ]
          },
          "metadata": {},
          "execution_count": 384
        }
      ]
    },
    {
      "cell_type": "markdown",
      "metadata": {
        "id": "eg4GnTRFwexJ"
      },
      "source": [
        "<p class=\"task\" id=\"6\"></p>\n",
        "\n"
],
  "metadata": {
    "colab": {
      "provenance": [],
      "gpuType": "T4"
    },
    "kernelspec": {
      "display_name": "Python 3",
      "name": "python3"
    },
    "language_info": {
      "codemirror_mode": {
        "name": "ipython",
        "version": 3
      },
      "file_extension": ".py",
      "mimetype": "text/x-python",
      "name": "python",
      "nbconvert_exporter": "python",
      "pygments_lexer": "ipython3",
      "version": "3.10.10"
    },
    "accelerator": "GPU"
  },
  "nbformat": 4,
  "nbformat_minor": 0
}


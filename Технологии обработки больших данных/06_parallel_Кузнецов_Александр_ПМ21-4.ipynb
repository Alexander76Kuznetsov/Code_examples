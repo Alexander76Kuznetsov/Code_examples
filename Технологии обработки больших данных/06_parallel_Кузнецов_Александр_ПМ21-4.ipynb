{
 "cells": [
  {
   "cell_type": "markdown",
   "metadata": {},
   "source": [
    "# Параллельные вычисления (2)"
   ]
  },
  {
   "cell_type": "markdown",
   "metadata": {},
   "source": [
    "__Автор задач: Блохин Н.В. (NVBlokhin@fa.ru)__\n",
    "\n",
    "Материалы:\n",
    "* Макрушин С.В. Лекция \"Параллельные вычисления\"\n",
    "* https://nalepae.github.io/pandarallel/\n",
    "    * https://github.com/nalepae/pandarallel/blob/master/docs/examples_windows.ipynb\n",
    "    * https://github.com/nalepae/pandarallel/blob/master/docs/examples_mac_linux.ipynb\n",
    "* https://requests.readthedocs.io/en/latest/\n",
    "* https://docs.python.org/3/library/pathlib.html\n",
    "* https://realpython.com/python-pathlib/\n",
    "* https://realpython.com/python-gil/\n",
    "* https://docs.python.org/3/library/multiprocessing.html#multiprocessing.pool.ThreadPool"
   ]
  },
  {
   "cell_type": "markdown",
   "metadata": {},
   "source": [
    "## Лабораторная работа 6"
   ]
  },
  {
   "cell_type": "markdown",
   "metadata": {},
   "source": [
    "__При решении данных задач не подразумевается использования циклов или генераторов Python в ходе работы с пакетами `numpy` и `pandas`, если в задании не сказано обратного. Решения задач, в которых для обработки массивов `numpy` или структур `pandas` используются явные циклы (без согласования с преподавателем), могут быть признаны некорректными и не засчитаны.__"
   ]
  },
  {
   "cell_type": "code",
   "execution_count": 4,
   "metadata": {},
   "outputs": [],
   "source": [
    "import pandas as pd\n",
    "from pandarallel import pandarallel\n",
    "import requests\n",
    "import json\n",
    "from tqdm import tqdm\n",
    "from pathlib import Path"
   ]
  },
  {
   "cell_type": "markdown",
   "metadata": {},
   "source": [
    "<p class=\"task\" id=\"1\"></p>\n",
    "\n",
    "1\\. Напишите функцию `f`, которая принимает на вход тэг и проверяет, удовлетворяет ли тэг следующему шаблону: `[любое число]-[любое слово]-or-less`. Возьмите файл `tag_nsteps_10m.csv`, примените функцию `f` при помощи метода _серий_ `map` к столбцу `tags` и посчитайте количество тэгов, подходящих под этот шаблон. Выведите количество подходящих тегов на экран. Измерьте время выполнения кода."
   ]
  },
  {
   "cell_type": "code",
   "execution_count": 5,
   "metadata": {},
   "outputs": [],
   "source": [
    "import re"
   ]
  },
  {
   "cell_type": "code",
   "execution_count": 6,
   "metadata": {},
   "outputs": [],
   "source": [
    "def f(tag: str) -> bool:\n",
    "    if str(tag)[0] in '0123456789':\n",
    "        if len(re.split(r'\\d+', str(tag)))==2:\n",
    "            return True\n",
    "        else:\n",
    "            return False\n",
    "    else:\n",
    "        return False"
   ]
  },
  {
   "cell_type": "code",
   "execution_count": 7,
   "metadata": {},
   "outputs": [
    {
     "data": {
      "text/plain": [
       "True"
      ]
     },
     "execution_count": 7,
     "metadata": {},
     "output_type": "execute_result"
    }
   ],
   "source": [
    "f(str(123))"
   ]
  },
  {
   "cell_type": "code",
   "execution_count": 8,
   "metadata": {
    "scrolled": true
   },
   "outputs": [
    {
     "data": {
      "text/html": [
       "<div>\n",
       "<style scoped>\n",
       "    .dataframe tbody tr th:only-of-type {\n",
       "        vertical-align: middle;\n",
       "    }\n",
       "\n",
       "    .dataframe tbody tr th {\n",
       "        vertical-align: top;\n",
       "    }\n",
       "\n",
       "    .dataframe thead th {\n",
       "        text-align: right;\n",
       "    }\n",
       "</style>\n",
       "<table border=\"1\" class=\"dataframe\">\n",
       "  <thead>\n",
       "    <tr style=\"text-align: right;\">\n",
       "      <th></th>\n",
       "      <th>tags</th>\n",
       "      <th>n_steps</th>\n",
       "    </tr>\n",
       "  </thead>\n",
       "  <tbody>\n",
       "    <tr>\n",
       "      <th>0</th>\n",
       "      <td>camping</td>\n",
       "      <td>4</td>\n",
       "    </tr>\n",
       "    <tr>\n",
       "      <th>1</th>\n",
       "      <td>seafood</td>\n",
       "      <td>1</td>\n",
       "    </tr>\n",
       "    <tr>\n",
       "      <th>2</th>\n",
       "      <td>whole-chicken</td>\n",
       "      <td>6</td>\n",
       "    </tr>\n",
       "    <tr>\n",
       "      <th>3</th>\n",
       "      <td>pasta-rice-and-grains</td>\n",
       "      <td>31</td>\n",
       "    </tr>\n",
       "    <tr>\n",
       "      <th>4</th>\n",
       "      <td>pasta</td>\n",
       "      <td>11</td>\n",
       "    </tr>\n",
       "    <tr>\n",
       "      <th>...</th>\n",
       "      <td>...</td>\n",
       "      <td>...</td>\n",
       "    </tr>\n",
       "    <tr>\n",
       "      <th>9999995</th>\n",
       "      <td>gifts</td>\n",
       "      <td>5</td>\n",
       "    </tr>\n",
       "    <tr>\n",
       "      <th>9999996</th>\n",
       "      <td>black-beans</td>\n",
       "      <td>1</td>\n",
       "    </tr>\n",
       "    <tr>\n",
       "      <th>9999997</th>\n",
       "      <td>chili</td>\n",
       "      <td>3</td>\n",
       "    </tr>\n",
       "    <tr>\n",
       "      <th>9999998</th>\n",
       "      <td>low-in-something</td>\n",
       "      <td>8</td>\n",
       "    </tr>\n",
       "    <tr>\n",
       "      <th>9999999</th>\n",
       "      <td>shrimp-main-dish</td>\n",
       "      <td>4</td>\n",
       "    </tr>\n",
       "  </tbody>\n",
       "</table>\n",
       "<p>10000000 rows × 2 columns</p>\n",
       "</div>"
      ],
      "text/plain": [
       "                          tags  n_steps\n",
       "0                      camping        4\n",
       "1                      seafood        1\n",
       "2                whole-chicken        6\n",
       "3        pasta-rice-and-grains       31\n",
       "4                        pasta       11\n",
       "...                        ...      ...\n",
       "9999995                  gifts        5\n",
       "9999996            black-beans        1\n",
       "9999997                  chili        3\n",
       "9999998       low-in-something        8\n",
       "9999999       shrimp-main-dish        4\n",
       "\n",
       "[10000000 rows x 2 columns]"
      ]
     },
     "execution_count": 8,
     "metadata": {},
     "output_type": "execute_result"
    }
   ],
   "source": [
    "tag_step = pd.read_csv('tag_nsteps_10m.csv')\n",
    "tag_step"
   ]
  },
  {
   "cell_type": "code",
   "execution_count": 9,
   "metadata": {},
   "outputs": [
    {
     "name": "stdout",
     "output_type": "stream",
     "text": [
      "Wall time: 8.1 s\n"
     ]
    },
    {
     "data": {
      "text/plain": [
       "302661"
      ]
     },
     "execution_count": 9,
     "metadata": {},
     "output_type": "execute_result"
    }
   ],
   "source": [
    "%%time\n",
    "tag_step['tags'].map(f).sum()"
   ]
  },
  {
   "cell_type": "markdown",
   "metadata": {},
   "source": [
    "<!-- TODO -->"
   ]
  },
  {
   "cell_type": "markdown",
   "metadata": {},
   "source": [
    "<p class=\"task\" id=\"2\"></p>\n",
    "\n",
    "2\\. Напишите функцию `parallel_map`, которая принимает на вход серию `s` `pd.Series` и функцию одного аргумента `f` и поэлементно применяет эту функцию к серии, распараллелив вычисления при помощи пакета `multiprocessing`. Логика работы функции `parallel_map` должна включать следующие действия:\n",
    "* разбиение исходной серии на $K$ частей, где $K$ - количество ядер вашего процессора;\n",
    "* параллельное применение функции `f` к каждой части при помощи метода _серии_ `map` c использованием нескольких подпроцессов;\n",
    "* объединение результатов работы подпроцессов в одну серию. \n",
    "\n",
    "Возьмите файл `tag_nsteps_10m.csv`, примените функцию `f` при помощи `parallel_map` к столбцу `tags` и посчитайте количество тэгов, подходящих под этот шаблон. Выведите количество подходящих тегов на экран. Измерьте время выполнения кода."
   ]
  },
  {
   "cell_type": "code",
   "execution_count": 7,
   "metadata": {},
   "outputs": [],
   "source": [
    "from multiprocessing.pool import ThreadPool\n",
    "import numpy as np"
   ]
  },
  {
   "cell_type": "code",
   "execution_count": 8,
   "metadata": {},
   "outputs": [],
   "source": [
    "def parallel_map_without(s: pd.Series, f: callable) -> pd.Series:\n",
    "    data = np.array_split(s, 12)\n",
    "    return sum(map(lambda x: sum(x.map(f)), data))"
   ]
  },
  {
   "cell_type": "code",
   "execution_count": 9,
   "metadata": {},
   "outputs": [
    {
     "name": "stdout",
     "output_type": "stream",
     "text": [
      "Wall time: 9.96 s\n"
     ]
    },
    {
     "data": {
      "text/plain": [
       "302661"
      ]
     },
     "execution_count": 9,
     "metadata": {},
     "output_type": "execute_result"
    }
   ],
   "source": [
    "%%time\n",
    "parallel_map_without(tag_step['tags'], f)"
   ]
  },
  {
   "cell_type": "code",
   "execution_count": 10,
   "metadata": {},
   "outputs": [],
   "source": [
    "def parallel_map(s: pd.Series, f: callable) -> pd.Series:\n",
    "    data = np.array_split(s, 12)\n",
    "    with ThreadPool(processes=12) as pool:\n",
    "        return sum(pool.map(lambda x: sum(x.map(f)), data))"
   ]
  },
  {
   "cell_type": "code",
   "execution_count": 11,
   "metadata": {},
   "outputs": [
    {
     "name": "stdout",
     "output_type": "stream",
     "text": [
      "Wall time: 10.1 s\n"
     ]
    },
    {
     "data": {
      "text/plain": [
       "302661"
      ]
     },
     "execution_count": 11,
     "metadata": {},
     "output_type": "execute_result"
    }
   ],
   "source": [
    "%%time\n",
    "parallel_map(tag_step['tags'], f)"
   ]
  },
  {
   "cell_type": "markdown",
   "metadata": {},
   "source": [
    "<p class=\"task\" id=\"3\"></p>\n",
    "\n",
    "3\\. Используя пакет `pandarallel`, примените функцию `f` из задания 1 к столбцу `tags` таблицы, с которой вы работали в этом задании. Посчитайте количество тэгов, подходящих под описанный шаблон. Выведите на экран полученный результат. Измерьте время выполнения кода. "
   ]
  },
  {
   "cell_type": "code",
   "execution_count": 12,
   "metadata": {},
   "outputs": [
    {
     "name": "stdout",
     "output_type": "stream",
     "text": [
      "INFO: Pandarallel will run on 6 workers.\n",
      "INFO: Pandarallel will use standard multiprocessing data transfer (pipe) to transfer data between the main process and workers.\n",
      "\n",
      "WARNING: You are on Windows. If you detect any issue with pandarallel, be sure you checked out the Troubleshooting page:\n",
      "https://nalepae.github.io/pandarallel/troubleshooting/\n"
     ]
    }
   ],
   "source": [
    "pandarallel.initialize()"
   ]
  },
  {
   "cell_type": "code",
   "execution_count": 13,
   "metadata": {},
   "outputs": [
    {
     "name": "stdout",
     "output_type": "stream",
     "text": [
      "Wall time: 7.65 s\n"
     ]
    },
    {
     "data": {
      "text/plain": [
       "302661"
      ]
     },
     "execution_count": 13,
     "metadata": {},
     "output_type": "execute_result"
    }
   ],
   "source": [
    "%%time\n",
    "tag_step['tags'].map(f).sum()"
   ]
  },
  {
   "cell_type": "markdown",
   "metadata": {},
   "source": [
    "<p class=\"task\" id=\"4\"></p>\n",
    "\n",
    "4\\. Сайт [DummyJSON](https://dummyjson.com/) позволяет получить набор данных о товарах в виде JSON. Воспользовавшись пакетом `requests`, получите данные о __50 товарах__ и создайте словарь, где ключом является название товара (title), а значением - список ссылок на изображения этого товара. При создании словаря замените символ `/` в названии на пробел.\n",
    "\n",
    "Выведите на экран количество элементов полученного словаря."
   ]
  },
  {
   "cell_type": "code",
   "execution_count": 10,
   "metadata": {},
   "outputs": [],
   "source": [
    "r = requests.get(\"https://dummyjson.com/products?limit=50\")\n",
    "#r.text"
   ]
  },
  {
   "cell_type": "code",
   "execution_count": 11,
   "metadata": {},
   "outputs": [
    {
     "data": {
      "text/plain": [
       "{'iPhone 9': ['https://i.dummyjson.com/data/products/1/1.jpg',\n",
       "  'https://i.dummyjson.com/data/products/1/2.jpg',\n",
       "  'https://i.dummyjson.com/data/products/1/3.jpg',\n",
       "  'https://i.dummyjson.com/data/products/1/4.jpg',\n",
       "  'https://i.dummyjson.com/data/products/1/thumbnail.jpg'],\n",
       " 'iPhone X': ['https://i.dummyjson.com/data/products/2/1.jpg',\n",
       "  'https://i.dummyjson.com/data/products/2/2.jpg',\n",
       "  'https://i.dummyjson.com/data/products/2/3.jpg',\n",
       "  'https://i.dummyjson.com/data/products/2/thumbnail.jpg'],\n",
       " 'Samsung Universe 9': ['https://i.dummyjson.com/data/products/3/1.jpg'],\n",
       " 'OPPOF19': ['https://i.dummyjson.com/data/products/4/1.jpg',\n",
       "  'https://i.dummyjson.com/data/products/4/2.jpg',\n",
       "  'https://i.dummyjson.com/data/products/4/3.jpg',\n",
       "  'https://i.dummyjson.com/data/products/4/4.jpg',\n",
       "  'https://i.dummyjson.com/data/products/4/thumbnail.jpg'],\n",
       " 'Huawei P30': ['https://i.dummyjson.com/data/products/5/1.jpg',\n",
       "  'https://i.dummyjson.com/data/products/5/2.jpg',\n",
       "  'https://i.dummyjson.com/data/products/5/3.jpg'],\n",
       " 'MacBook Pro': ['https://i.dummyjson.com/data/products/6/1.png',\n",
       "  'https://i.dummyjson.com/data/products/6/2.jpg',\n",
       "  'https://i.dummyjson.com/data/products/6/3.png',\n",
       "  'https://i.dummyjson.com/data/products/6/4.jpg'],\n",
       " 'Samsung Galaxy Book': ['https://i.dummyjson.com/data/products/7/1.jpg',\n",
       "  'https://i.dummyjson.com/data/products/7/2.jpg',\n",
       "  'https://i.dummyjson.com/data/products/7/3.jpg',\n",
       "  'https://i.dummyjson.com/data/products/7/thumbnail.jpg'],\n",
       " 'Microsoft Surface Laptop 4': ['https://i.dummyjson.com/data/products/8/1.jpg',\n",
       "  'https://i.dummyjson.com/data/products/8/2.jpg',\n",
       "  'https://i.dummyjson.com/data/products/8/3.jpg',\n",
       "  'https://i.dummyjson.com/data/products/8/4.jpg',\n",
       "  'https://i.dummyjson.com/data/products/8/thumbnail.jpg'],\n",
       " 'Infinix INBOOK': ['https://i.dummyjson.com/data/products/9/1.jpg',\n",
       "  'https://i.dummyjson.com/data/products/9/2.png',\n",
       "  'https://i.dummyjson.com/data/products/9/3.png',\n",
       "  'https://i.dummyjson.com/data/products/9/4.jpg',\n",
       "  'https://i.dummyjson.com/data/products/9/thumbnail.jpg'],\n",
       " 'HP Pavilion 15-DK1056WM': ['https://i.dummyjson.com/data/products/10/1.jpg',\n",
       "  'https://i.dummyjson.com/data/products/10/2.jpg',\n",
       "  'https://i.dummyjson.com/data/products/10/3.jpg',\n",
       "  'https://i.dummyjson.com/data/products/10/thumbnail.jpeg'],\n",
       " 'perfume Oil': ['https://i.dummyjson.com/data/products/11/1.jpg',\n",
       "  'https://i.dummyjson.com/data/products/11/2.jpg',\n",
       "  'https://i.dummyjson.com/data/products/11/3.jpg',\n",
       "  'https://i.dummyjson.com/data/products/11/thumbnail.jpg'],\n",
       " 'Brown Perfume': ['https://i.dummyjson.com/data/products/12/1.jpg',\n",
       "  'https://i.dummyjson.com/data/products/12/2.jpg',\n",
       "  'https://i.dummyjson.com/data/products/12/3.png',\n",
       "  'https://i.dummyjson.com/data/products/12/4.jpg',\n",
       "  'https://i.dummyjson.com/data/products/12/thumbnail.jpg'],\n",
       " 'Fog Scent Xpressio Perfume': ['https://i.dummyjson.com/data/products/13/1.jpg',\n",
       "  'https://i.dummyjson.com/data/products/13/2.png',\n",
       "  'https://i.dummyjson.com/data/products/13/3.jpg',\n",
       "  'https://i.dummyjson.com/data/products/13/4.jpg',\n",
       "  'https://i.dummyjson.com/data/products/13/thumbnail.webp'],\n",
       " 'Non-Alcoholic Concentrated Perfume Oil': ['https://i.dummyjson.com/data/products/14/1.jpg',\n",
       "  'https://i.dummyjson.com/data/products/14/2.jpg',\n",
       "  'https://i.dummyjson.com/data/products/14/3.jpg',\n",
       "  'https://i.dummyjson.com/data/products/14/thumbnail.jpg'],\n",
       " 'Eau De Perfume Spray': ['https://i.dummyjson.com/data/products/15/1.jpg',\n",
       "  'https://i.dummyjson.com/data/products/15/2.jpg',\n",
       "  'https://i.dummyjson.com/data/products/15/3.jpg',\n",
       "  'https://i.dummyjson.com/data/products/15/4.jpg',\n",
       "  'https://i.dummyjson.com/data/products/15/thumbnail.jpg'],\n",
       " 'Hyaluronic Acid Serum': ['https://i.dummyjson.com/data/products/16/1.png',\n",
       "  'https://i.dummyjson.com/data/products/16/2.webp',\n",
       "  'https://i.dummyjson.com/data/products/16/3.jpg',\n",
       "  'https://i.dummyjson.com/data/products/16/4.jpg',\n",
       "  'https://i.dummyjson.com/data/products/16/thumbnail.jpg'],\n",
       " 'Tree Oil 30ml': ['https://i.dummyjson.com/data/products/17/1.jpg',\n",
       "  'https://i.dummyjson.com/data/products/17/2.jpg',\n",
       "  'https://i.dummyjson.com/data/products/17/3.jpg',\n",
       "  'https://i.dummyjson.com/data/products/17/thumbnail.jpg'],\n",
       " 'Oil Free Moisturizer 100ml': ['https://i.dummyjson.com/data/products/18/1.jpg',\n",
       "  'https://i.dummyjson.com/data/products/18/2.jpg',\n",
       "  'https://i.dummyjson.com/data/products/18/3.jpg',\n",
       "  'https://i.dummyjson.com/data/products/18/4.jpg',\n",
       "  'https://i.dummyjson.com/data/products/18/thumbnail.jpg'],\n",
       " 'Skin Beauty Serum.': ['https://i.dummyjson.com/data/products/19/1.jpg',\n",
       "  'https://i.dummyjson.com/data/products/19/2.jpg',\n",
       "  'https://i.dummyjson.com/data/products/19/3.png',\n",
       "  'https://i.dummyjson.com/data/products/19/thumbnail.jpg'],\n",
       " 'Freckle Treatment Cream- 15gm': ['https://i.dummyjson.com/data/products/20/1.jpg',\n",
       "  'https://i.dummyjson.com/data/products/20/2.jpg',\n",
       "  'https://i.dummyjson.com/data/products/20/3.jpg',\n",
       "  'https://i.dummyjson.com/data/products/20/4.jpg',\n",
       "  'https://i.dummyjson.com/data/products/20/thumbnail.jpg'],\n",
       " '- Daal Masoor 500 grams': ['https://i.dummyjson.com/data/products/21/1.png',\n",
       "  'https://i.dummyjson.com/data/products/21/2.jpg',\n",
       "  'https://i.dummyjson.com/data/products/21/3.jpg'],\n",
       " 'Elbow Macaroni - 400 gm': ['https://i.dummyjson.com/data/products/22/1.jpg',\n",
       "  'https://i.dummyjson.com/data/products/22/2.jpg',\n",
       "  'https://i.dummyjson.com/data/products/22/3.jpg'],\n",
       " 'Orange Essence Food Flavou': ['https://i.dummyjson.com/data/products/23/1.jpg',\n",
       "  'https://i.dummyjson.com/data/products/23/2.jpg',\n",
       "  'https://i.dummyjson.com/data/products/23/3.jpg',\n",
       "  'https://i.dummyjson.com/data/products/23/4.jpg',\n",
       "  'https://i.dummyjson.com/data/products/23/thumbnail.jpg'],\n",
       " 'cereals muesli fruit nuts': ['https://i.dummyjson.com/data/products/24/1.jpg',\n",
       "  'https://i.dummyjson.com/data/products/24/2.jpg',\n",
       "  'https://i.dummyjson.com/data/products/24/3.jpg',\n",
       "  'https://i.dummyjson.com/data/products/24/4.jpg',\n",
       "  'https://i.dummyjson.com/data/products/24/thumbnail.jpg'],\n",
       " 'Gulab Powder 50 Gram': ['https://i.dummyjson.com/data/products/25/1.png',\n",
       "  'https://i.dummyjson.com/data/products/25/2.jpg',\n",
       "  'https://i.dummyjson.com/data/products/25/3.png',\n",
       "  'https://i.dummyjson.com/data/products/25/4.jpg',\n",
       "  'https://i.dummyjson.com/data/products/25/thumbnail.jpg'],\n",
       " 'Plant Hanger For Home': ['https://i.dummyjson.com/data/products/26/1.jpg',\n",
       "  'https://i.dummyjson.com/data/products/26/2.jpg',\n",
       "  'https://i.dummyjson.com/data/products/26/3.jpg',\n",
       "  'https://i.dummyjson.com/data/products/26/4.jpg',\n",
       "  'https://i.dummyjson.com/data/products/26/5.jpg',\n",
       "  'https://i.dummyjson.com/data/products/26/thumbnail.jpg'],\n",
       " 'Flying Wooden Bird': ['https://i.dummyjson.com/data/products/27/1.jpg',\n",
       "  'https://i.dummyjson.com/data/products/27/2.jpg',\n",
       "  'https://i.dummyjson.com/data/products/27/3.jpg',\n",
       "  'https://i.dummyjson.com/data/products/27/4.jpg',\n",
       "  'https://i.dummyjson.com/data/products/27/thumbnail.webp'],\n",
       " '3D Embellishment Art Lamp': ['https://i.dummyjson.com/data/products/28/1.jpg',\n",
       "  'https://i.dummyjson.com/data/products/28/2.jpg',\n",
       "  'https://i.dummyjson.com/data/products/28/3.png',\n",
       "  'https://i.dummyjson.com/data/products/28/4.jpg',\n",
       "  'https://i.dummyjson.com/data/products/28/thumbnail.jpg'],\n",
       " 'Handcraft Chinese style': ['https://i.dummyjson.com/data/products/29/1.jpg',\n",
       "  'https://i.dummyjson.com/data/products/29/2.jpg',\n",
       "  'https://i.dummyjson.com/data/products/29/3.webp',\n",
       "  'https://i.dummyjson.com/data/products/29/4.webp',\n",
       "  'https://i.dummyjson.com/data/products/29/thumbnail.webp'],\n",
       " 'Key Holder': ['https://i.dummyjson.com/data/products/30/1.jpg',\n",
       "  'https://i.dummyjson.com/data/products/30/2.jpg',\n",
       "  'https://i.dummyjson.com/data/products/30/3.jpg',\n",
       "  'https://i.dummyjson.com/data/products/30/thumbnail.jpg'],\n",
       " 'Mornadi Velvet Bed': ['https://i.dummyjson.com/data/products/31/1.jpg',\n",
       "  'https://i.dummyjson.com/data/products/31/2.jpg',\n",
       "  'https://i.dummyjson.com/data/products/31/3.jpg',\n",
       "  'https://i.dummyjson.com/data/products/31/4.jpg',\n",
       "  'https://i.dummyjson.com/data/products/31/thumbnail.jpg'],\n",
       " 'Sofa for Coffe Cafe': ['https://i.dummyjson.com/data/products/32/1.jpg',\n",
       "  'https://i.dummyjson.com/data/products/32/2.jpg',\n",
       "  'https://i.dummyjson.com/data/products/32/3.jpg',\n",
       "  'https://i.dummyjson.com/data/products/32/thumbnail.jpg'],\n",
       " '3 Tier Corner Shelves': ['https://i.dummyjson.com/data/products/33/1.jpg',\n",
       "  'https://i.dummyjson.com/data/products/33/2.jpg',\n",
       "  'https://i.dummyjson.com/data/products/33/3.jpg',\n",
       "  'https://i.dummyjson.com/data/products/33/4.jpg',\n",
       "  'https://i.dummyjson.com/data/products/33/thumbnail.jpg'],\n",
       " 'Plastic Table': ['https://i.dummyjson.com/data/products/34/1.jpg',\n",
       "  'https://i.dummyjson.com/data/products/34/2.jpg',\n",
       "  'https://i.dummyjson.com/data/products/34/3.jpg',\n",
       "  'https://i.dummyjson.com/data/products/34/4.jpg',\n",
       "  'https://i.dummyjson.com/data/products/34/thumbnail.jpg'],\n",
       " '3 DOOR PORTABLE': ['https://i.dummyjson.com/data/products/35/1.jpg',\n",
       "  'https://i.dummyjson.com/data/products/35/2.jpg',\n",
       "  'https://i.dummyjson.com/data/products/35/3.jpg',\n",
       "  'https://i.dummyjson.com/data/products/35/4.jpg',\n",
       "  'https://i.dummyjson.com/data/products/35/thumbnail.jpg'],\n",
       " 'Sleeve Shirt Womens': ['https://i.dummyjson.com/data/products/36/1.jpg',\n",
       "  'https://i.dummyjson.com/data/products/36/2.webp',\n",
       "  'https://i.dummyjson.com/data/products/36/3.webp',\n",
       "  'https://i.dummyjson.com/data/products/36/4.jpg',\n",
       "  'https://i.dummyjson.com/data/products/36/thumbnail.jpg'],\n",
       " 'ank Tops for Womens Girls': ['https://i.dummyjson.com/data/products/37/1.jpg',\n",
       "  'https://i.dummyjson.com/data/products/37/2.jpg',\n",
       "  'https://i.dummyjson.com/data/products/37/3.jpg',\n",
       "  'https://i.dummyjson.com/data/products/37/4.jpg',\n",
       "  'https://i.dummyjson.com/data/products/37/thumbnail.jpg'],\n",
       " 'sublimation plain kids tank': ['https://i.dummyjson.com/data/products/38/1.png',\n",
       "  'https://i.dummyjson.com/data/products/38/2.jpg',\n",
       "  'https://i.dummyjson.com/data/products/38/3.jpg',\n",
       "  'https://i.dummyjson.com/data/products/38/4.jpg'],\n",
       " 'Women Sweaters Wool': ['https://i.dummyjson.com/data/products/39/1.jpg',\n",
       "  'https://i.dummyjson.com/data/products/39/2.jpg',\n",
       "  'https://i.dummyjson.com/data/products/39/3.jpg',\n",
       "  'https://i.dummyjson.com/data/products/39/4.jpg',\n",
       "  'https://i.dummyjson.com/data/products/39/thumbnail.jpg'],\n",
       " 'women winter clothes': ['https://i.dummyjson.com/data/products/40/1.jpg',\n",
       "  'https://i.dummyjson.com/data/products/40/2.jpg'],\n",
       " 'NIGHT SUIT': ['https://i.dummyjson.com/data/products/41/1.jpg',\n",
       "  'https://i.dummyjson.com/data/products/41/2.webp',\n",
       "  'https://i.dummyjson.com/data/products/41/3.jpg',\n",
       "  'https://i.dummyjson.com/data/products/41/4.jpg',\n",
       "  'https://i.dummyjson.com/data/products/41/thumbnail.webp'],\n",
       " 'Stiched Kurta plus trouser': ['https://i.dummyjson.com/data/products/42/1.png',\n",
       "  'https://i.dummyjson.com/data/products/42/2.png',\n",
       "  'https://i.dummyjson.com/data/products/42/3.png',\n",
       "  'https://i.dummyjson.com/data/products/42/4.jpg',\n",
       "  'https://i.dummyjson.com/data/products/42/thumbnail.jpg'],\n",
       " 'frock gold printed': ['https://i.dummyjson.com/data/products/43/1.jpg',\n",
       "  'https://i.dummyjson.com/data/products/43/2.jpg',\n",
       "  'https://i.dummyjson.com/data/products/43/3.jpg',\n",
       "  'https://i.dummyjson.com/data/products/43/4.jpg',\n",
       "  'https://i.dummyjson.com/data/products/43/thumbnail.jpg'],\n",
       " 'Ladies Multicolored Dress': ['https://i.dummyjson.com/data/products/44/1.jpg',\n",
       "  'https://i.dummyjson.com/data/products/44/2.jpg',\n",
       "  'https://i.dummyjson.com/data/products/44/3.jpg',\n",
       "  'https://i.dummyjson.com/data/products/44/4.jpg',\n",
       "  'https://i.dummyjson.com/data/products/44/thumbnail.jpg'],\n",
       " 'Malai Maxi Dress': ['https://i.dummyjson.com/data/products/45/1.jpg',\n",
       "  'https://i.dummyjson.com/data/products/45/2.webp',\n",
       "  'https://i.dummyjson.com/data/products/45/3.jpg',\n",
       "  'https://i.dummyjson.com/data/products/45/4.jpg',\n",
       "  'https://i.dummyjson.com/data/products/45/thumbnail.jpg'],\n",
       " \"women's shoes\": ['https://i.dummyjson.com/data/products/46/1.webp',\n",
       "  'https://i.dummyjson.com/data/products/46/2.jpg',\n",
       "  'https://i.dummyjson.com/data/products/46/3.jpg',\n",
       "  'https://i.dummyjson.com/data/products/46/4.jpg',\n",
       "  'https://i.dummyjson.com/data/products/46/thumbnail.jpg'],\n",
       " 'Sneaker shoes': ['https://i.dummyjson.com/data/products/47/1.jpg',\n",
       "  'https://i.dummyjson.com/data/products/47/2.jpg',\n",
       "  'https://i.dummyjson.com/data/products/47/3.jpg',\n",
       "  'https://i.dummyjson.com/data/products/47/thumbnail.jpeg'],\n",
       " 'Women Strip Heel': ['https://i.dummyjson.com/data/products/48/1.jpg',\n",
       "  'https://i.dummyjson.com/data/products/48/2.jpg',\n",
       "  'https://i.dummyjson.com/data/products/48/3.jpg',\n",
       "  'https://i.dummyjson.com/data/products/48/4.jpg',\n",
       "  'https://i.dummyjson.com/data/products/48/thumbnail.jpg'],\n",
       " 'Chappals & Shoe Ladies Metallic': ['https://i.dummyjson.com/data/products/49/1.jpg',\n",
       "  'https://i.dummyjson.com/data/products/49/2.jpg',\n",
       "  'https://i.dummyjson.com/data/products/49/3.webp',\n",
       "  'https://i.dummyjson.com/data/products/49/thumbnail.jpg'],\n",
       " 'Women Shoes': ['https://i.dummyjson.com/data/products/50/1.jpeg',\n",
       "  'https://i.dummyjson.com/data/products/50/2.jpg',\n",
       "  'https://i.dummyjson.com/data/products/50/3.jpg']}"
      ]
     },
     "execution_count": 11,
     "metadata": {},
     "output_type": "execute_result"
    }
   ],
   "source": [
    "d = dict()\n",
    "for i in r.json()['products']:\n",
    "    title = i['title'].replace('/',' ')\n",
    "    d[title] = i['images']\n",
    "d"
   ]
  },
  {
   "cell_type": "markdown",
   "metadata": {},
   "source": [
    "<p class=\"task\" id=\"5\"></p>\n",
    "\n",
    "5\\. Напишите функцию `download_product_imgs`, которая создает папку c названием товара внутри каталога `imgs` (сам каталог `imgs` может быть создан любым удобным способом до начала работы) и сохраняет в нее изображения. Название для файла изображения извлеките из URL.\n",
    "\n",
    "Воспользовавшись этой функцией, скачайте изображения всех продуктов. Выведите на экран общее количество загруженных файлов. Для отслеживания хода выполнения кода используйте пакет `tqdm`."
   ]
  },
  {
   "cell_type": "code",
   "execution_count": 16,
   "metadata": {},
   "outputs": [],
   "source": [
    "# пример кода для скачивания картинки\n",
    "#url = \"https://png.pngtree.com/png-vector/20201229/ourmid/pngtree-a-british-short-blue-and-white-cat-png-image_2654518.jpg\"\n",
    "#img = requests.get(url).content\n",
    "#with open(\"imgs/cat.jpg\", \"wb\") as fp:\n",
    "#    fp.write(img)"
   ]
  },
  {
   "cell_type": "code",
   "execution_count": 17,
   "metadata": {},
   "outputs": [],
   "source": [
    "def download_product_imgs(title, imgs):\n",
    "    '''\n",
    "    title - название товара\n",
    "    imgs - список ссылок на изображения товара\n",
    "    '''\n",
    "    root = Path(f\"imgs/{title}\")\n",
    "    root.mkdir(exist_ok=True)\n",
    "    \n",
    "    for i in imgs:\n",
    "        img = requests.get(i).content\n",
    "        with open(f\"imgs/{title}/{i.split('/')[-1]}\", \"wb\") as fp:\n",
    "            fp.write(img)\n",
    "            "
   ]
  },
  {
   "cell_type": "code",
   "execution_count": 18,
   "metadata": {},
   "outputs": [
    {
     "name": "stderr",
     "output_type": "stream",
     "text": [
      "100%|██████████████████████████████████████████████████████████████████████████████████| 50/50 [02:55<00:00,  3.51s/it]\n"
     ]
    }
   ],
   "source": [
    "c = 0\n",
    "\n",
    "for i in tqdm(d.keys()):\n",
    "    c += len(d[i])\n",
    "    download_product_imgs(i,d[i])"
   ]
  },
  {
   "cell_type": "code",
   "execution_count": 19,
   "metadata": {},
   "outputs": [
    {
     "data": {
      "text/plain": [
       "223"
      ]
     },
     "execution_count": 19,
     "metadata": {},
     "output_type": "execute_result"
    }
   ],
   "source": [
    "c"
   ]
  },
  {
   "cell_type": "markdown",
   "metadata": {},
   "source": [
    "<p class=\"task\" id=\"6\"></p>\n",
    "\n",
    "6\\. Создайте функцию `download_product_imgs_processes` на основе функции `download_product_imgs`, добавив в нее вывод сообщения следующего вида: `Process ID: <ID текущего процесса>`. Для определения ID процесса воспользуйтесь функцией `multiprocessing.current_process()`.\n",
    "\n",
    "Решите задачу 5, распараллелив вычисления при помощи процессов. Вместо корневого каталога `imgs` используйте `imgs_processes`. Выведите на экран общее количество загруженных файлов. Измерьте время выполнения кода. "
   ]
  },
  {
   "cell_type": "code",
   "execution_count": 12,
   "metadata": {},
   "outputs": [],
   "source": [
    "from pathlib import Path"
   ]
  },
  {
   "cell_type": "code",
   "execution_count": 31,
   "metadata": {},
   "outputs": [
    {
     "name": "stdout",
     "output_type": "stream",
     "text": [
      "Overwriting download_product_imgs_processes.py\n"
     ]
    }
   ],
   "source": [
    "%%file download_product_imgs_processes.py\n",
    "def download_product_imgs_processes(data):\n",
    "    title, imgs = data[0][0], data[0][1]\n",
    "    import multiprocessing\n",
    "    from pathlib import Path\n",
    "    import requests\n",
    "    root = Path(f\"imgs_processes/{title}\")\n",
    "    root.mkdir(exist_ok=True)\n",
    "    \n",
    "    for i in imgs:\n",
    "        img = requests.get(i).content\n",
    "        with open(f\"imgs_processes/{title}/{i.split('/')[-1]}\", \"wb\") as fp:\n",
    "            fp.write(img)\n",
    "    print(f'Process ID: {multiprocessing.current_process()}')\n",
    "    return len(imgs), f'Process ID: {multiprocessing.current_process()}'"
   ]
  },
  {
   "cell_type": "code",
   "execution_count": 32,
   "metadata": {},
   "outputs": [],
   "source": [
    "import multiprocessing\n",
    "from download_product_imgs_processes import download_product_imgs_processes "
   ]
  },
  {
   "cell_type": "code",
   "execution_count": 39,
   "metadata": {},
   "outputs": [
    {
     "name": "stdout",
     "output_type": "stream",
     "text": [
      "Process ID: <SpawnProcess name='SpawnPoolWorker-383' parent=27112 started daemon>\n",
      "Process ID: <SpawnProcess name='SpawnPoolWorker-383' parent=27112 started daemon>\n",
      "Process ID: <SpawnProcess name='SpawnPoolWorker-384' parent=27112 started daemon>\n",
      "Process ID: <SpawnProcess name='SpawnPoolWorker-384' parent=27112 started daemon>\n",
      "Process ID: <SpawnProcess name='SpawnPoolWorker-385' parent=27112 started daemon>\n",
      "Process ID: <SpawnProcess name='SpawnPoolWorker-385' parent=27112 started daemon>\n",
      "Process ID: <SpawnProcess name='SpawnPoolWorker-386' parent=27112 started daemon>\n",
      "Process ID: <SpawnProcess name='SpawnPoolWorker-386' parent=27112 started daemon>\n",
      "Process ID: <SpawnProcess name='SpawnPoolWorker-387' parent=27112 started daemon>\n",
      "Process ID: <SpawnProcess name='SpawnPoolWorker-387' parent=27112 started daemon>\n",
      "Process ID: <SpawnProcess name='SpawnPoolWorker-388' parent=27112 started daemon>\n",
      "Process ID: <SpawnProcess name='SpawnPoolWorker-388' parent=27112 started daemon>\n",
      "Process ID: <SpawnProcess name='SpawnPoolWorker-389' parent=27112 started daemon>\n",
      "Process ID: <SpawnProcess name='SpawnPoolWorker-389' parent=27112 started daemon>\n",
      "Process ID: <SpawnProcess name='SpawnPoolWorker-390' parent=27112 started daemon>\n",
      "Process ID: <SpawnProcess name='SpawnPoolWorker-390' parent=27112 started daemon>\n",
      "Process ID: <SpawnProcess name='SpawnPoolWorker-384' parent=27112 started daemon>\n",
      "Process ID: <SpawnProcess name='SpawnPoolWorker-384' parent=27112 started daemon>\n",
      "Process ID: <SpawnProcess name='SpawnPoolWorker-385' parent=27112 started daemon>\n",
      "Process ID: <SpawnProcess name='SpawnPoolWorker-385' parent=27112 started daemon>\n",
      "Process ID: <SpawnProcess name='SpawnPoolWorker-386' parent=27112 started daemon>\n",
      "Process ID: <SpawnProcess name='SpawnPoolWorker-386' parent=27112 started daemon>\n",
      "Process ID: <SpawnProcess name='SpawnPoolWorker-383' parent=27112 started daemon>\n",
      "Process ID: <SpawnProcess name='SpawnPoolWorker-383' parent=27112 started daemon>\n",
      "Process ID: <SpawnProcess name='SpawnPoolWorker-387' parent=27112 started daemon>\n",
      "Process ID: <SpawnProcess name='SpawnPoolWorker-387' parent=27112 started daemon>\n",
      "Process ID: <SpawnProcess name='SpawnPoolWorker-389' parent=27112 started daemon>\n",
      "Process ID: <SpawnProcess name='SpawnPoolWorker-389' parent=27112 started daemon>\n",
      "Process ID: <SpawnProcess name='SpawnPoolWorker-388' parent=27112 started daemon>\n",
      "Process ID: <SpawnProcess name='SpawnPoolWorker-388' parent=27112 started daemon>\n",
      "Process ID: <SpawnProcess name='SpawnPoolWorker-390' parent=27112 started daemon>\n",
      "Process ID: <SpawnProcess name='SpawnPoolWorker-390' parent=27112 started daemon>\n",
      "Process ID: <SpawnProcess name='SpawnPoolWorker-386' parent=27112 started daemon>\n",
      "Process ID: <SpawnProcess name='SpawnPoolWorker-386' parent=27112 started daemon>\n",
      "Process ID: <SpawnProcess name='SpawnPoolWorker-384' parent=27112 started daemon>\n",
      "Process ID: <SpawnProcess name='SpawnPoolWorker-384' parent=27112 started daemon>\n",
      "Process ID: <SpawnProcess name='SpawnPoolWorker-385' parent=27112 started daemon>\n",
      "Process ID: <SpawnProcess name='SpawnPoolWorker-385' parent=27112 started daemon>\n",
      "Process ID: <SpawnProcess name='SpawnPoolWorker-383' parent=27112 started daemon>\n",
      "Process ID: <SpawnProcess name='SpawnPoolWorker-383' parent=27112 started daemon>\n",
      "Process ID: <SpawnProcess name='SpawnPoolWorker-390' parent=27112 started daemon>\n",
      "Process ID: <SpawnProcess name='SpawnPoolWorker-390' parent=27112 started daemon>\n",
      "Process ID: <SpawnProcess name='SpawnPoolWorker-388' parent=27112 started daemon>\n",
      "Process ID: <SpawnProcess name='SpawnPoolWorker-388' parent=27112 started daemon>\n",
      "Process ID: <SpawnProcess name='SpawnPoolWorker-389' parent=27112 started daemon>\n",
      "Process ID: <SpawnProcess name='SpawnPoolWorker-389' parent=27112 started daemon>\n",
      "Process ID: <SpawnProcess name='SpawnPoolWorker-387' parent=27112 started daemon>\n",
      "Process ID: <SpawnProcess name='SpawnPoolWorker-387' parent=27112 started daemon>\n",
      "Process ID: <SpawnProcess name='SpawnPoolWorker-386' parent=27112 started daemon>\n",
      "Process ID: <SpawnProcess name='SpawnPoolWorker-386' parent=27112 started daemon>\n",
      "223\n",
      "Wall time: 22.7 s\n"
     ]
    }
   ],
   "source": [
    "%%time\n",
    "with multiprocessing.Pool(processes=8) as pool:\n",
    "    r = pool.map(download_product_imgs_processes, list(zip(d.items())))\n",
    "c = 0\n",
    "for i in r:\n",
    "    c += i[0]\n",
    "    print(i[1])\n",
    "print(c)"
   ]
  }
 ],
 "metadata": {
  "kernelspec": {
   "display_name": "Python 3",
   "language": "python",
   "name": "python3"
  },
  "language_info": {
   "codemirror_mode": {
    "name": "ipython",
    "version": 3
   },
   "file_extension": ".py",
   "mimetype": "text/x-python",
   "name": "python",
   "nbconvert_exporter": "python",
   "pygments_lexer": "ipython3",
   "version": "3.8.8"
  }
 },
 "nbformat": 4,
 "nbformat_minor": 4
}

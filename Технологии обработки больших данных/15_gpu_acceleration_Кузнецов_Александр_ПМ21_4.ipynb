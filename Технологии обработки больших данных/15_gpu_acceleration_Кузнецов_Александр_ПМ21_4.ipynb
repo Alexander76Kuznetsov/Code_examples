{
  "cells": [
    {
      "cell_type": "markdown",
      "metadata": {
        "id": "PYEvDMRz1AaY"
      },
      "source": [
        "# Вычисления на GPU\n",
        "\n",
        "__Автор задач: Блохин Н.В. (NVBlokhin@fa.ru)__\n",
        "\n",
        "Материалы: \n",
        "* Макрушин С.В. Лекция \"GPGPU\"\n",
        "* https://numpy.org/doc/stable/reference/generated/numpy.load.html\n",
        "* https://docs.cupy.dev/en/stable/user_guide/basic.html\n",
        "* https://carpentries-incubator.github.io/gpu-speedups/01_CuPy_and_Numba_on_the_GPU/index.html\n",
        "* https://carpentries-incubator.github.io/lesson-gpu-programming/02-cupy/index.html\n",
        "* https://carpentries-incubator.github.io/gpu-speedups/01_CuPy_and_Numba_on_the_GPU/index.html\n",
        "* https://www.youtube.com/watch?v=9bBsvpg-Xlk\n",
        "* https://numba.pydata.org/numba-doc/latest/user/vectorize.html\n",
        "* https://numba.pydata.org/numba-doc/latest/cuda/ufunc.html\n",
        "* https://towardsdatascience.com/cuda-by-numba-examples-1-4-e0d06651612f\n"
      ]
    },
    {
      "cell_type": "markdown",
      "metadata": {
        "id": "7w5rnrgl1fIf"
      },
      "source": [
        "Для выполнения данной работы рекомендуется использовать среду Google Colab. Перед началом работы смените среду выполнения на GPU. \n",
        "Обратите внимание, что время графического процессора, которое предоставляет Google, ограничено. "
      ]
    },
    {
      "cell_type": "code",
      "execution_count": null,
      "metadata": {
        "id": "ApiV5JV817FB"
      },
      "outputs": [],
      "source": [
        "!nvcc --version"
      ]
    },
    {
      "cell_type": "code",
      "execution_count": null,
      "metadata": {
        "id": "oNnq0fWt18Is"
      },
      "outputs": [],
      "source": [
        "!nvidia-smi"
      ]
    },
    {
      "cell_type": "markdown",
      "metadata": {
        "id": "MFyq2uZJQ4tF"
      },
      "source": [
        "## Задачи для совместного разбора"
      ]
    },
    {
      "cell_type": "markdown",
      "metadata": {
        "id": "s8wHaR-L2W8-"
      },
      "source": [
        "1. Создайте массив `cupy`, заполненный числами из стандартного нормального распределения. Исследуйте основные характеристики массива (размеры, устройство, тип). Сравните время выполнения нескольких аналогичных операций с `numpy` и `cupy`. "
      ]
    },
    {
      "cell_type": "code",
      "source": [],
      "metadata": {
        "id": "-rAyOzbo8SpH"
      },
      "execution_count": null,
      "outputs": []
    },
    {
      "cell_type": "markdown",
      "metadata": {
        "id": "0LqV0GT26-tn"
      },
      "source": [
        "2. Напишите функцию `f(x, y)`, которая считает sin(x) + cos(y), если они одинакового знака (или хотя бы одно из них равно нулю), и cos(x) + sin(y) в противном случае. Векторизуйте функцию при помощи numba с различными значениями аргумента `target`. Создайте 2 массива и выполните вычисления. Создайте ядро CUDA и выполните те же вычисления."
      ]
    },
    {
      "cell_type": "markdown",
      "metadata": {
        "id": "hHF_rSx8oMJE"
      },
      "source": [
        "![image.png](attachment:image.png)"
      ]
    },
    {
      "cell_type": "markdown",
      "metadata": {
        "id": "vF4SwgyA-Won"
      },
      "source": [
        "3. Создайте два тензора `A` и `B`, заполненные числами из стандартного нормального распределения. Решите матричное уравнение `AX = B`. Повторите решение с использованием GPU."
      ]
    },
    {
      "cell_type": "markdown",
      "metadata": {
        "id": "hph4vrXKZEs-"
      },
      "source": [
        "## Лабораторная работа 15"
      ]
    },
    {
      "cell_type": "markdown",
      "metadata": {
        "id": "Nvtdi8u66D_W"
      },
      "source": [
        "__При решении данных задач не подразумевается использования циклов или генераторов Python в ходе работы с пакетами `numpy`, `cupy`, `numba` и `torch`, если в задании не сказано обратного. Решения задач, в которых для обработки массивов используются явные циклы (без согласования с преподавателем), могут быть признаны некорректными и не засчитаны.__"
      ]
    },
    {
      "cell_type": "code",
      "source": [
        "from google.colab import drive\n",
        "drive.mount('/content/drive')"
      ],
      "metadata": {
        "colab": {
          "base_uri": "https://localhost:8080/"
        },
        "id": "TPJPPHa98KA0",
        "outputId": "50432834-08d7-41e7-f53b-e03a149616f3"
      },
      "execution_count": 1,
      "outputs": [
        {
          "output_type": "stream",
          "name": "stdout",
          "text": [
            "Mounted at /content/drive\n"
          ]
        }
      ]
    },
    {
      "cell_type": "code",
      "execution_count": 2,
      "metadata": {
        "id": "ies4HOQ0Zpu1"
      },
      "outputs": [],
      "source": [
        "import numpy as np\n",
        "import cupy as cp"
      ]
    },
    {
      "cell_type": "markdown",
      "metadata": {
        "id": "Y8QO1_Bv6Lf3"
      },
      "source": [
        "### CyPy"
      ]
    },
    {
      "cell_type": "markdown",
      "metadata": {
        "id": "nx5y6cxObS2X"
      },
      "source": [
        "<p class=\"task\" id=\"1\"></p>\n",
        "\n",
        "1\\. В файле \"blobs.npz\" находится четыре массива: \n",
        "* X - 1 млн 128-мерных векторов;\n",
        "* centers - центроиды кластеров;\n",
        "* y1 - вариант кластеризации точек;\n",
        "* y2 - альтернативный вариант кластеризации точек.\n",
        "\n",
        "Считайте эти данные в виде массива `cupy.ndarray`. Используя пакет `cupy`, вычислите и выведите на экран:\n",
        "* размерость каждого из заданных массивов;\n",
        "* объем памяти, занимаемой каждым из массивов (в мегабайтах);\n",
        "* количество точек в каждом из кластеров в соответствии с разбиением `y1`;\n",
        "* количество точек в каждом из кластеров в соответствии с разбиением `y2`."
      ]
    },
    {
      "cell_type": "code",
      "source": [
        "%%time\n",
        "data_cp = cp.load('/content/drive/My Drive/Colab Notebooks/blobs.npz')\n",
        "X_cp, y1_cp, y2_cp, centers_cp = data_cp['X'], data_cp['y1'], data_cp['y2'], data_cp['centers']"
      ],
      "metadata": {
        "colab": {
          "base_uri": "https://localhost:8080/"
        },
        "id": "3Gqp1xAa8a9K",
        "outputId": "bb4193e9-7dd2-4148-c7f7-6a6a5a4f7160"
      },
      "execution_count": 3,
      "outputs": [
        {
          "output_type": "stream",
          "name": "stdout",
          "text": [
            "CPU times: user 1.54 s, sys: 1.18 s, total: 2.72 s\n",
            "Wall time: 14.8 s\n"
          ]
        }
      ]
    },
    {
      "cell_type": "code",
      "source": [
        "X_cp.shape, y1_cp.shape, y2_cp.shape, centers_cp.shape"
      ],
      "metadata": {
        "colab": {
          "base_uri": "https://localhost:8080/"
        },
        "id": "iYXW6MR9Cmde",
        "outputId": "f6200a7a-626e-4a9f-a8bf-497d59e48e29"
      },
      "execution_count": 4,
      "outputs": [
        {
          "output_type": "execute_result",
          "data": {
            "text/plain": [
              "((1000000, 128), (1000000,), (1000000,), (3, 128))"
            ]
          },
          "metadata": {},
          "execution_count": 4
        }
      ]
    },
    {
      "cell_type": "code",
      "source": [
        "X_cp.nbytes / 1024**2, y1_cp.nbytes / 1024**2, y2_cp.nbytes / 1024**2, centers_cp.nbytes / 1024**2"
      ],
      "metadata": {
        "colab": {
          "base_uri": "https://localhost:8080/"
        },
        "id": "CZuZmM_UC6mT",
        "outputId": "12dd8db3-1631-4c35-b8af-965f9761e9ba"
      },
      "execution_count": 6,
      "outputs": [
        {
          "output_type": "execute_result",
          "data": {
            "text/plain": [
              "(976.5625, 7.62939453125, 7.62939453125, 0.0029296875)"
            ]
          },
          "metadata": {},
          "execution_count": 6
        }
      ]
    },
    {
      "cell_type": "code",
      "source": [
        "cp.asarray(cp.unique(y1_cp, return_counts=True)).T"
      ],
      "metadata": {
        "colab": {
          "base_uri": "https://localhost:8080/"
        },
        "id": "sdAk4HgECu4c",
        "outputId": "2fdea467-8bec-48e3-96dc-43fdd0a9bcf7"
      },
      "execution_count": 8,
      "outputs": [
        {
          "output_type": "execute_result",
          "data": {
            "text/plain": [
              "array([[     0, 333885],\n",
              "       [     1, 333352],\n",
              "       [     2, 332763]])"
            ]
          },
          "metadata": {},
          "execution_count": 8
        }
      ]
    },
    {
      "cell_type": "code",
      "source": [
        "cp.asarray(cp.unique(y2_cp, return_counts=True)).T"
      ],
      "metadata": {
        "colab": {
          "base_uri": "https://localhost:8080/"
        },
        "id": "FXVagBj9DgOr",
        "outputId": "1009a490-018e-4611-ecd9-6efd109d4576"
      },
      "execution_count": 12,
      "outputs": [
        {
          "output_type": "execute_result",
          "data": {
            "text/plain": [
              "array([[     0, 333334],\n",
              "       [     1, 333333],\n",
              "       [     2, 333333]])"
            ]
          },
          "metadata": {},
          "execution_count": 12
        }
      ]
    },
    {
      "cell_type": "markdown",
      "metadata": {
        "id": "98ponBSmhwpx"
      },
      "source": [
        "<p class=\"task\" id=\"2\"></p>\n",
        "\n",
        "2\\. Используя пакет `numpy`, выясните, какое из разбиений (`y1` или `y2`) лучше разделяет данные на кластеры. Для этого вычислите среднее значение евклидова расстояния от каждой точки до центроида присвоенного ей кластера. Выведите данные значения для обоих разбиений на экран и сделайте вывод. Замерьте время выполнения решения при помощи магической команды `timeit`."
      ]
    },
    {
      "cell_type": "code",
      "source": [
        "data = np.load('/content/drive/My Drive/Colab Notebooks/blobs.npz')"
      ],
      "metadata": {
        "id": "bqBdycz48fg7"
      },
      "execution_count": 16,
      "outputs": []
    },
    {
      "cell_type": "code",
      "source": [
        "X_np, y1_np, y2_np, centers_np = data['X'], data['y1'], data['y2'], data['centers']"
      ],
      "metadata": {
        "id": "q9l0Jt0C_njm"
      },
      "execution_count": 17,
      "outputs": []
    },
    {
      "cell_type": "code",
      "source": [
        "%%timeit\n",
        "avg_dist_y1_np = np.mean(np.sqrt(np.sum((X_np - centers_np[y1_np])**2,axis=1)))\n",
        "avg_dist_y2_np = np.mean(np.sqrt(np.sum((X_np - centers_np[y2_np])**2,axis=1)))"
      ],
      "metadata": {
        "colab": {
          "base_uri": "https://localhost:8080/"
        },
        "id": "hR5KSe7f_72O",
        "outputId": "655972a7-46f1-466a-f404-6d2f08fc5074"
      },
      "execution_count": 18,
      "outputs": [
        {
          "output_type": "stream",
          "name": "stdout",
          "text": [
            "1.67 s ± 42.1 ms per loop (mean ± std. dev. of 7 runs, 1 loop each)\n"
          ]
        }
      ]
    },
    {
      "cell_type": "code",
      "source": [
        "avg_dist_y1_np = np.mean(np.sqrt(np.sum((X_np - centers_np[y1_np])**2,axis=1)))\n",
        "avg_dist_y2_np = np.mean(np.sqrt(np.sum((X_np - centers_np[y2_np])**2,axis=1)))\n",
        "avg_dist_y1_np, avg_dist_y2_np"
      ],
      "metadata": {
        "colab": {
          "base_uri": "https://localhost:8080/"
        },
        "id": "IfwbsRr2DN8I",
        "outputId": "46892c76-65b8-49f5-8b42-525e58684c5e"
      },
      "execution_count": 20,
      "outputs": [
        {
          "output_type": "execute_result",
          "data": {
            "text/plain": [
              "(69.6272457739018, 11.292487638331732)"
            ]
          },
          "metadata": {},
          "execution_count": 20
        }
      ]
    },
    {
      "cell_type": "markdown",
      "metadata": {
        "id": "L3fxvtEuiQfP"
      },
      "source": [
        "<p class=\"task\" id=\"3\"></p>\n",
        "\n",
        "3\\. Решите задачу 2, воспользовавшись пакетом `cupy`. Замерьте время выполнения решения при помощи магической команды `timeit`. Сравните время выполнения двух решений. Подтвердите (программно), что результаты решений совпадают."
      ]
    },
    {
      "cell_type": "code",
      "source": [
        "%%timeit\n",
        "avg_dist_y1_cp = cp.mean(cp.sqrt(cp.sum((X_cp - centers_cp[y1_cp])**2,axis=1)))\n",
        "avg_dist_y2_cp = cp.mean(cp.sqrt(cp.sum((X_cp - centers_cp[y2_cp])**2,axis=1)))"
      ],
      "metadata": {
        "colab": {
          "base_uri": "https://localhost:8080/"
        },
        "id": "eYxM2ThcD27K",
        "outputId": "e9131d3f-1179-43fb-de8e-b2c4457871d3"
      },
      "execution_count": 13,
      "outputs": [
        {
          "output_type": "stream",
          "name": "stdout",
          "text": [
            "457 µs ± 36.1 µs per loop (mean ± std. dev. of 7 runs, 1 loop each)\n"
          ]
        }
      ]
    },
    {
      "cell_type": "code",
      "source": [
        "avg_dist_y1_cp = cp.mean(cp.sqrt(cp.sum((X_cp - centers_cp[y1_cp])**2,axis=1)))\n",
        "avg_dist_y2_cp = cp.mean(cp.sqrt(cp.sum((X_cp - centers_cp[y2_cp])**2,axis=1)))\n",
        "avg_dist_y1_cp, avg_dist_y2_cp"
      ],
      "metadata": {
        "colab": {
          "base_uri": "https://localhost:8080/"
        },
        "id": "17uzCZziEDYV",
        "outputId": "e7198c8d-8a1b-4a5d-fca8-ef6729904dde"
      },
      "execution_count": 15,
      "outputs": [
        {
          "output_type": "execute_result",
          "data": {
            "text/plain": [
              "(array(69.62724577), array(11.29248764))"
            ]
          },
          "metadata": {},
          "execution_count": 15
        }
      ]
    },
    {
      "cell_type": "code",
      "source": [
        "avg_dist_y1_cp == avg_dist_y1_np"
      ],
      "metadata": {
        "colab": {
          "base_uri": "https://localhost:8080/"
        },
        "id": "h7jGImHjEDOR",
        "outputId": "dedc9560-803d-4f1a-9a24-e0476ab21f3d"
      },
      "execution_count": 23,
      "outputs": [
        {
          "output_type": "execute_result",
          "data": {
            "text/plain": [
              "array(True)"
            ]
          },
          "metadata": {},
          "execution_count": 23
        }
      ]
    },
    {
      "cell_type": "code",
      "source": [
        "avg_dist_y2_cp == avg_dist_y2_np"
      ],
      "metadata": {
        "colab": {
          "base_uri": "https://localhost:8080/"
        },
        "id": "XF9r4OWOEdPV",
        "outputId": "0a525930-92f3-4462-e453-b8dd60c040e6"
      },
      "execution_count": 24,
      "outputs": [
        {
          "output_type": "execute_result",
          "data": {
            "text/plain": [
              "array(False)"
            ]
          },
          "metadata": {},
          "execution_count": 24
        }
      ]
    },
    {
      "cell_type": "markdown",
      "metadata": {
        "id": "AdULJZspk2hC"
      },
      "source": [
        "<p class=\"task\" id=\"4\"></p>\n",
        "\n",
        "4\\. Напишите функцию `test_y`, которая считает среднее значение евклидова расстояния от каждой точки до центроида присвоенного ей кластера. Реализуйте функцию таким образом, чтобы она могла корректно работать и с массивами `numpy`, и с массивами `cupy`. Если в функции передается часть аргументов в виде массивов `numpy`, а часть - в виде массивов `cupy`, должно быть возбуждено исключение `ValueError`. Подтвердите правильность решения различными примерами.\n",
        "\n",
        "```python\n",
        "def test_y(X, y, centers):\n",
        "  pass\n",
        "```"
      ]
    },
    {
      "cell_type": "code",
      "source": [
        "def test_y(X, y, centers):\n",
        "  if all(isinstance(n, cp.ndarray) for n in [X, y, centers]):\n",
        "    return cp.mean(cp.sqrt(cp.sum((X_cp - centers_cp[y1_cp])**2,axis=1)))\n",
        "  elif all(isinstance(n, np.ndarray) for n in [X, y, centers]):\n",
        "    return np.mean(np.sqrt(np.sum((X_np - centers_np[y1_np])**2,axis=1)))\n",
        "  else:\n",
        "    raise ValueError"
      ],
      "metadata": {
        "id": "Qs_3A6IGEfrm"
      },
      "execution_count": 47,
      "outputs": []
    },
    {
      "cell_type": "code",
      "source": [
        "test_y(X_cp, y1_cp, centers_cp)"
      ],
      "metadata": {
        "colab": {
          "base_uri": "https://localhost:8080/"
        },
        "id": "lffDagF5E_-T",
        "outputId": "a3e7c928-69ce-4895-c3e9-593bcddaea59"
      },
      "execution_count": 48,
      "outputs": [
        {
          "output_type": "execute_result",
          "data": {
            "text/plain": [
              "array(69.62724577)"
            ]
          },
          "metadata": {},
          "execution_count": 48
        }
      ]
    },
    {
      "cell_type": "code",
      "source": [
        "test_y(X_np, y1_np, centers_np)"
      ],
      "metadata": {
        "colab": {
          "base_uri": "https://localhost:8080/"
        },
        "id": "a9WdW41aFVyr",
        "outputId": "83ae5567-3126-40f5-d3fe-9b9626b15365"
      },
      "execution_count": 49,
      "outputs": [
        {
          "output_type": "execute_result",
          "data": {
            "text/plain": [
              "69.6272457739018"
            ]
          },
          "metadata": {},
          "execution_count": 49
        }
      ]
    },
    {
      "cell_type": "code",
      "source": [
        "test_y(X_cp, y1_np, centers_np)"
      ],
      "metadata": {
        "colab": {
          "base_uri": "https://localhost:8080/",
          "height": 252
        },
        "id": "HY_ETXacGeUp",
        "outputId": "0cbcc910-da85-4ac8-f70a-af39be8fbacf"
      },
      "execution_count": 50,
      "outputs": [
        {
          "output_type": "error",
          "ename": "ValueError",
          "evalue": "ignored",
          "traceback": [
            "\u001b[0;31m---------------------------------------------------------------------------\u001b[0m",
            "\u001b[0;31mValueError\u001b[0m                                Traceback (most recent call last)",
            "\u001b[0;32m<ipython-input-50-071f6833f423>\u001b[0m in \u001b[0;36m<cell line: 1>\u001b[0;34m()\u001b[0m\n\u001b[0;32m----> 1\u001b[0;31m \u001b[0mtest_y\u001b[0m\u001b[0;34m(\u001b[0m\u001b[0mX_cp\u001b[0m\u001b[0;34m,\u001b[0m \u001b[0my1_np\u001b[0m\u001b[0;34m,\u001b[0m \u001b[0mcenters_np\u001b[0m\u001b[0;34m)\u001b[0m\u001b[0;34m\u001b[0m\u001b[0;34m\u001b[0m\u001b[0m\n\u001b[0m",
            "\u001b[0;32m<ipython-input-47-c74a3c9951dc>\u001b[0m in \u001b[0;36mtest_y\u001b[0;34m(X, y, centers)\u001b[0m\n\u001b[1;32m      5\u001b[0m     \u001b[0;32mreturn\u001b[0m \u001b[0mnp\u001b[0m\u001b[0;34m.\u001b[0m\u001b[0mmean\u001b[0m\u001b[0;34m(\u001b[0m\u001b[0mnp\u001b[0m\u001b[0;34m.\u001b[0m\u001b[0msqrt\u001b[0m\u001b[0;34m(\u001b[0m\u001b[0mnp\u001b[0m\u001b[0;34m.\u001b[0m\u001b[0msum\u001b[0m\u001b[0;34m(\u001b[0m\u001b[0;34m(\u001b[0m\u001b[0mX_np\u001b[0m \u001b[0;34m-\u001b[0m \u001b[0mcenters_np\u001b[0m\u001b[0;34m[\u001b[0m\u001b[0my1_np\u001b[0m\u001b[0;34m]\u001b[0m\u001b[0;34m)\u001b[0m\u001b[0;34m**\u001b[0m\u001b[0;36m2\u001b[0m\u001b[0;34m,\u001b[0m\u001b[0maxis\u001b[0m\u001b[0;34m=\u001b[0m\u001b[0;36m1\u001b[0m\u001b[0;34m)\u001b[0m\u001b[0;34m)\u001b[0m\u001b[0;34m)\u001b[0m\u001b[0;34m\u001b[0m\u001b[0;34m\u001b[0m\u001b[0m\n\u001b[1;32m      6\u001b[0m   \u001b[0;32melse\u001b[0m\u001b[0;34m:\u001b[0m\u001b[0;34m\u001b[0m\u001b[0;34m\u001b[0m\u001b[0m\n\u001b[0;32m----> 7\u001b[0;31m     \u001b[0;32mraise\u001b[0m \u001b[0mValueError\u001b[0m\u001b[0;34m\u001b[0m\u001b[0;34m\u001b[0m\u001b[0m\n\u001b[0m",
            "\u001b[0;31mValueError\u001b[0m: "
          ]
        }
      ]
    },
    {
      "cell_type": "markdown",
      "metadata": {
        "id": "rgYAXQJ46XT_"
      },
      "source": [
        "### Numba"
      ]
    },
    {
      "cell_type": "markdown",
      "metadata": {
        "id": "aBeHTjlqj2nE"
      },
      "source": [
        "<p class=\"task\" id=\"5\"></p>\n",
        "\n",
        "5\\. Даны массива `numbers` и `powers`. Реализуйте функцию `power_sum`, которая находит сумму всех цифр числа `number`, возведенных в степень `power`. Для каждой пары `(numbers[i], power[i])` вычислите `power_sum` , найдите максимум этой величины и выведите ее на экран. Решите задачу при помощи декоратора `numba.vectorize` с различными значениями аргумента `target`: `cpu`, `parallel` и `cuda`. Замерьте время выполнения каждого из решений.\n",
        "\n",
        "```python\n",
        "def power_sum(number: int, power: int) -> int:\n",
        "  pass\n",
        "```"
      ]
    },
    {
      "cell_type": "code",
      "source": [
        "import numba"
      ],
      "metadata": {
        "id": "7S6cOIAsG-3C"
      },
      "execution_count": 63,
      "outputs": []
    },
    {
      "cell_type": "code",
      "execution_count": 64,
      "metadata": {
        "id": "D3lo_l2ImD5U"
      },
      "outputs": [],
      "source": [
        "import numpy as np\n",
        "np.random.seed(42)\n",
        "\n",
        "N = 10_000_000\n",
        "\n",
        "numbers = np.random.randint(0, 1000, size=N)\n",
        "powers = np.random.randint(1, 5, size=N)"
      ]
    },
    {
      "cell_type": "code",
      "source": [
        "def power_sum(number: int, power: int) -> int:\n",
        "  s = 0\n",
        "  while number > 0:\n",
        "    s += (number%10) ** power\n",
        "    number //= 10\n",
        "  return s"
      ],
      "metadata": {
        "id": "Z97tvEVuG-57"
      },
      "execution_count": 61,
      "outputs": []
    },
    {
      "cell_type": "code",
      "source": [
        "power_sum_cpu = numba.vectorize([\"int64(int64, int64)\"], target=\"cpu\")(power_sum)\n",
        "power_sum_parallel = numba.vectorize([\"int64(int64, int64)\"], target=\"parallel\")(power_sum)\n",
        "power_sum_cuda = numba.vectorize([\"int64(int64, int64)\"], target=\"cuda\")(power_sum)"
      ],
      "metadata": {
        "id": "4PmzKz9qIFsT"
      },
      "execution_count": 65,
      "outputs": []
    },
    {
      "cell_type": "code",
      "source": [
        "%%time\n",
        "power_sum_cpu(numbers, powers).max()"
      ],
      "metadata": {
        "colab": {
          "base_uri": "https://localhost:8080/"
        },
        "id": "pr5xMBboIFqD",
        "outputId": "276e2a8b-815b-4584-fd10-1954476ff74a"
      },
      "execution_count": 201,
      "outputs": [
        {
          "output_type": "stream",
          "name": "stdout",
          "text": [
            "CPU times: user 168 ms, sys: 24.1 ms, total: 192 ms\n",
            "Wall time: 191 ms\n"
          ]
        },
        {
          "output_type": "execute_result",
          "data": {
            "text/plain": [
              "19683"
            ]
          },
          "metadata": {},
          "execution_count": 201
        }
      ]
    },
    {
      "cell_type": "code",
      "source": [
        "%%time\n",
        "power_sum_parallel(numbers, powers).max()"
      ],
      "metadata": {
        "colab": {
          "base_uri": "https://localhost:8080/"
        },
        "id": "5CtcZJWGIFnh",
        "outputId": "5edf8cd8-c732-44e3-ef3e-2fc6514f8133"
      },
      "execution_count": 202,
      "outputs": [
        {
          "output_type": "stream",
          "name": "stdout",
          "text": [
            "CPU times: user 456 ms, sys: 23.9 ms, total: 480 ms\n",
            "Wall time: 430 ms\n"
          ]
        },
        {
          "output_type": "execute_result",
          "data": {
            "text/plain": [
              "19683"
            ]
          },
          "metadata": {},
          "execution_count": 202
        }
      ]
    },
    {
      "cell_type": "code",
      "source": [
        "%%time\n",
        "power_sum_cuda(numbers, powers).max()"
      ],
      "metadata": {
        "colab": {
          "base_uri": "https://localhost:8080/"
        },
        "id": "TFtVgmPcLZKm",
        "outputId": "48e605b2-2f1d-4b28-ea04-fccccd98503b"
      },
      "execution_count": 203,
      "outputs": [
        {
          "output_type": "stream",
          "name": "stdout",
          "text": [
            "CPU times: user 68.8 ms, sys: 27.2 ms, total: 96 ms\n",
            "Wall time: 102 ms\n"
          ]
        },
        {
          "output_type": "execute_result",
          "data": {
            "text/plain": [
              "19683"
            ]
          },
          "metadata": {},
          "execution_count": 203
        }
      ]
    },
    {
      "cell_type": "markdown",
      "metadata": {
        "id": "V__UEtFXmChB"
      },
      "source": [
        "<p class=\"task\" id=\"6\"></p>\n",
        "\n",
        "6\\. Преобразуйте `power_sum` в device function при помощи декоратора `numba.cuda.jit`. Напишите ядро `power_sum_kernel` и решите с его помощью задачу 5."
      ]
    },
    {
      "cell_type": "code",
      "source": [
        "from numba import cuda"
      ],
      "metadata": {
        "id": "FizQa7FzMU7f"
      },
      "execution_count": 72,
      "outputs": []
    },
    {
      "cell_type": "code",
      "source": [
        "@cuda.jit(device=True)\n",
        "def power_sum_device(number: int, power: int) -> int:\n",
        "  s = 0\n",
        "  while number > 0:\n",
        "    s += (number%10) ** power\n",
        "    number //= 10\n",
        "  return s"
      ],
      "metadata": {
        "id": "W6yPxZQlLhJI"
      },
      "execution_count": 73,
      "outputs": []
    },
    {
      "cell_type": "code",
      "source": [
        "@cuda.jit\n",
        "def power_sum_kernel(numbers, powers, res):\n",
        "  i = cuda.grid(1)\n",
        "  res[i] = power_sum_device(numbers[i], powers[i])"
      ],
      "metadata": {
        "id": "6CkbydKbLhGF"
      },
      "execution_count": 75,
      "outputs": []
    },
    {
      "cell_type": "code",
      "source": [
        "res = np.zeros(N)\n",
        "threadsperblock = 512\n",
        "blockspergrid = (N + threadsperblock - 1) // threadsperblock\n",
        "blockspergrid, res"
      ],
      "metadata": {
        "colab": {
          "base_uri": "https://localhost:8080/"
        },
        "id": "HAJXf9vfLhDt",
        "outputId": "6a132835-9579-4025-e057-babf6c1ce118"
      },
      "execution_count": 81,
      "outputs": [
        {
          "output_type": "execute_result",
          "data": {
            "text/plain": [
              "(19532, array([0., 0., 0., ..., 0., 0., 0.]))"
            ]
          },
          "metadata": {},
          "execution_count": 81
        }
      ]
    },
    {
      "cell_type": "code",
      "source": [
        "19532 * 512 > N"
      ],
      "metadata": {
        "colab": {
          "base_uri": "https://localhost:8080/"
        },
        "id": "oW-uymURLhBG",
        "outputId": "193fc5fd-d670-44d8-e82b-b949441df153"
      },
      "execution_count": 82,
      "outputs": [
        {
          "output_type": "execute_result",
          "data": {
            "text/plain": [
              "True"
            ]
          },
          "metadata": {},
          "execution_count": 82
        }
      ]
    },
    {
      "cell_type": "code",
      "source": [
        "%%time\n",
        "power_sum_kernel[blockspergrid, threadsperblock](numbers, powers, res)\n",
        "res.max()"
      ],
      "metadata": {
        "colab": {
          "base_uri": "https://localhost:8080/"
        },
        "id": "_ZF4-SY2NK-s",
        "outputId": "40a2e722-564a-44c6-b842-acbf8a2d7eef"
      },
      "execution_count": 205,
      "outputs": [
        {
          "output_type": "stream",
          "name": "stdout",
          "text": [
            "CPU times: user 119 ms, sys: 1.43 ms, total: 121 ms\n",
            "Wall time: 120 ms\n"
          ]
        },
        {
          "output_type": "stream",
          "name": "stderr",
          "text": [
            "/usr/local/lib/python3.10/dist-packages/numba/cuda/cudadrv/devicearray.py:885: NumbaPerformanceWarning: Host array used in CUDA kernel will incur copy overhead to/from device.\n",
            "  warn(NumbaPerformanceWarning(msg))\n"
          ]
        },
        {
          "output_type": "execute_result",
          "data": {
            "text/plain": [
              "19683.0"
            ]
          },
          "metadata": {},
          "execution_count": 205
        }
      ]
    },
    {
      "cell_type": "code",
      "source": [
        "res"
      ],
      "metadata": {
        "colab": {
          "base_uri": "https://localhost:8080/"
        },
        "id": "jpwRjmJONv87",
        "outputId": "0a40a838-76d8-41c2-e18f-b54f51521721"
      },
      "execution_count": 91,
      "outputs": [
        {
          "output_type": "execute_result",
          "data": {
            "text/plain": [
              "array([9.000e+00, 2.160e+02, 5.392e+03, ..., 1.000e+00, 1.770e+02,\n",
              "       1.340e+02])"
            ]
          },
          "metadata": {},
          "execution_count": 91
        }
      ]
    },
    {
      "cell_type": "code",
      "source": [
        "all(res == power_sum_parallel(numbers, powers))"
      ],
      "metadata": {
        "colab": {
          "base_uri": "https://localhost:8080/"
        },
        "id": "TWfH9VVhNSjP",
        "outputId": "7a945c53-ea63-431d-8cc7-e92336e60ebf"
      },
      "execution_count": 206,
      "outputs": [
        {
          "output_type": "execute_result",
          "data": {
            "text/plain": [
              "True"
            ]
          },
          "metadata": {},
          "execution_count": 206
        }
      ]
    },
    {
      "cell_type": "code",
      "source": [
        "len(res)"
      ],
      "metadata": {
        "colab": {
          "base_uri": "https://localhost:8080/"
        },
        "id": "IVLlboV8NoXk",
        "outputId": "5a6a1627-2a60-4667-dff1-e2bbaee934cb"
      },
      "execution_count": 90,
      "outputs": [
        {
          "output_type": "execute_result",
          "data": {
            "text/plain": [
              "10000000"
            ]
          },
          "metadata": {},
          "execution_count": 90
        }
      ]
    },
    {
      "cell_type": "markdown",
      "metadata": {
        "id": "Pj-LncQp6kW4"
      },
      "source": [
        "### PyTorch"
      ]
    },
    {
      "cell_type": "markdown",
      "metadata": {
        "id": "P3k4o-zPms0j"
      },
      "source": [
        "<p class=\"task\" id=\"7\"></p>\n",
        "\n",
        "7\\. Создайте тензор размера 256х64. Заполните его числами из равномерного распределения $U(-a, a)$, где $a=3\\sqrt{\\frac{6}{256+64}}$. Выведите на экран основные характеристики тензора:\n",
        "* кол-во строк;\n",
        "* кол-во столбцов;\n",
        "* кол-во элементов;\n",
        "* тип данных;\n",
        "* устройство."
      ]
    },
    {
      "cell_type": "code",
      "source": [
        "import torch as th"
      ],
      "metadata": {
        "id": "o3Y8CBLHNyF-"
      },
      "execution_count": 92,
      "outputs": []
    },
    {
      "cell_type": "code",
      "source": [
        "a = 3 * np.sqrt(6/(256+64))\n",
        "U = (a-(-a)) * th.rand(size=(256, 64)) + (-a)\n",
        "U"
      ],
      "metadata": {
        "colab": {
          "base_uri": "https://localhost:8080/"
        },
        "id": "zItQm2a_N4bn",
        "outputId": "877673bb-586c-49bc-df4a-72e59d4bcf53"
      },
      "execution_count": 127,
      "outputs": [
        {
          "output_type": "execute_result",
          "data": {
            "text/plain": [
              "tensor([[ 2.2572e-01,  6.3576e-02,  8.5264e-05,  ..., -3.6757e-01,\n",
              "          2.8168e-01,  1.1565e-01],\n",
              "        [ 6.8596e-02, -1.9135e-01, -3.4950e-03,  ..., -1.2086e-01,\n",
              "         -8.5516e-02,  2.6054e-01],\n",
              "        [-1.8674e-01, -2.1401e-01,  2.3157e-02,  ..., -1.2209e-01,\n",
              "         -1.6391e-01, -3.4237e-01],\n",
              "        ...,\n",
              "        [-7.0165e-02,  1.4363e-01,  2.2325e-01,  ...,  4.2570e-02,\n",
              "         -1.0668e-02,  1.1390e-01],\n",
              "        [-2.2553e-01, -2.3075e-01, -6.1607e-02,  ..., -2.2642e-01,\n",
              "          2.2104e-01, -8.4577e-02],\n",
              "        [ 2.9704e-01, -3.0796e-01,  7.9771e-02,  ..., -5.9742e-02,\n",
              "         -2.5226e-02, -1.8075e-01]])"
            ]
          },
          "metadata": {},
          "execution_count": 127
        }
      ]
    },
    {
      "cell_type": "code",
      "source": [
        "U.shape"
      ],
      "metadata": {
        "colab": {
          "base_uri": "https://localhost:8080/"
        },
        "id": "GXcFdre8N4YF",
        "outputId": "0d5f31e3-a2b5-4698-9295-d2cb93b80917"
      },
      "execution_count": 128,
      "outputs": [
        {
          "output_type": "execute_result",
          "data": {
            "text/plain": [
              "torch.Size([256, 64])"
            ]
          },
          "metadata": {},
          "execution_count": 128
        }
      ]
    },
    {
      "cell_type": "code",
      "source": [
        "U.numel()"
      ],
      "metadata": {
        "colab": {
          "base_uri": "https://localhost:8080/"
        },
        "id": "VZs0A2qSOWAm",
        "outputId": "4238121f-f009-498d-938b-dd281688f2a9"
      },
      "execution_count": 129,
      "outputs": [
        {
          "output_type": "execute_result",
          "data": {
            "text/plain": [
              "16384"
            ]
          },
          "metadata": {},
          "execution_count": 129
        }
      ]
    },
    {
      "cell_type": "code",
      "source": [
        "U.dtype"
      ],
      "metadata": {
        "colab": {
          "base_uri": "https://localhost:8080/"
        },
        "id": "mdYSFtc1OPNC",
        "outputId": "5f8fe43e-ecca-48f5-9fbb-e9f925610ff3"
      },
      "execution_count": 130,
      "outputs": [
        {
          "output_type": "execute_result",
          "data": {
            "text/plain": [
              "torch.float32"
            ]
          },
          "metadata": {},
          "execution_count": 130
        }
      ]
    },
    {
      "cell_type": "code",
      "source": [
        "U.device"
      ],
      "metadata": {
        "colab": {
          "base_uri": "https://localhost:8080/"
        },
        "id": "a69JB3JNOThF",
        "outputId": "2aa705b7-6d66-46f5-c043-9013153f8c95"
      },
      "execution_count": 131,
      "outputs": [
        {
          "output_type": "execute_result",
          "data": {
            "text/plain": [
              "device(type='cpu')"
            ]
          },
          "metadata": {},
          "execution_count": 131
        }
      ]
    },
    {
      "cell_type": "markdown",
      "metadata": {
        "id": "-xcccPArzWW2"
      },
      "source": [
        "<p class=\"task\" id=\"8\"></p>\n",
        "\n",
        "8\\. Создайте тензор `A`, заполненный целыми числами из отрезка [-1, 1] (при создании зафиксируйте зерно ГПСЧ, равное 42). Получите матрицу B по правилу $B = \\frac{A + A^T}{2}$. Проверьте, является ли матрица симметричной. Используя `torch`, получите SVD-разложение матрицы `B`. Проверьте, насколько точно разложение приближает исходную матрицу (для оценки качества используйте норму Фробениуса). Измерьте время выполнения решения."
      ]
    },
    {
      "cell_type": "code",
      "source": [
        "th.manual_seed(42)\n",
        "th.random.initial_seed()"
      ],
      "metadata": {
        "colab": {
          "base_uri": "https://localhost:8080/"
        },
        "id": "Xh422jC8QeR-",
        "outputId": "d796046f-b486-4fdd-98e7-860072e668e2"
      },
      "execution_count": 186,
      "outputs": [
        {
          "output_type": "execute_result",
          "data": {
            "text/plain": [
              "42"
            ]
          },
          "metadata": {},
          "execution_count": 186
        }
      ]
    },
    {
      "cell_type": "code",
      "source": [
        "A = th.randint(-1,1,(64,64))\n",
        "B = (A + A.T) / 2\n",
        "\n",
        "A, B"
      ],
      "metadata": {
        "colab": {
          "base_uri": "https://localhost:8080/"
        },
        "id": "MaNNey9tRg5t",
        "outputId": "5e357221-a39d-4f53-8976-3404a406a161"
      },
      "execution_count": 191,
      "outputs": [
        {
          "output_type": "execute_result",
          "data": {
            "text/plain": [
              "(tensor([[-1,  0,  0,  ...,  0,  0,  0],\n",
              "         [-1, -1,  0,  ...,  0, -1, -1],\n",
              "         [-1, -1,  0,  ..., -1,  0, -1],\n",
              "         ...,\n",
              "         [-1, -1, -1,  ...,  0,  0, -1],\n",
              "         [-1, -1,  0,  ..., -1, -1, -1],\n",
              "         [ 0,  0,  0,  ...,  0, -1, -1]]),\n",
              " tensor([[-1.0000, -0.5000, -0.5000,  ..., -0.5000, -0.5000,  0.0000],\n",
              "         [-0.5000, -1.0000, -0.5000,  ..., -0.5000, -1.0000, -0.5000],\n",
              "         [-0.5000, -0.5000,  0.0000,  ..., -1.0000,  0.0000, -0.5000],\n",
              "         ...,\n",
              "         [-0.5000, -0.5000, -1.0000,  ...,  0.0000, -0.5000, -0.5000],\n",
              "         [-0.5000, -1.0000,  0.0000,  ..., -0.5000, -1.0000, -1.0000],\n",
              "         [ 0.0000, -0.5000, -0.5000,  ..., -0.5000, -1.0000, -1.0000]]))"
            ]
          },
          "metadata": {},
          "execution_count": 191
        }
      ]
    },
    {
      "cell_type": "code",
      "source": [
        "(B == B.T).all()"
      ],
      "metadata": {
        "colab": {
          "base_uri": "https://localhost:8080/"
        },
        "id": "JGrJIkNPSS5f",
        "outputId": "a97c6045-04c8-4228-991f-274911407194"
      },
      "execution_count": 192,
      "outputs": [
        {
          "output_type": "execute_result",
          "data": {
            "text/plain": [
              "tensor(True)"
            ]
          },
          "metadata": {},
          "execution_count": 192
        }
      ]
    },
    {
      "cell_type": "code",
      "source": [
        "U, S, Vh = th.linalg.svd(B)\n",
        "th.sqrt(((U@th.diag(S)@Vh - B)**2).sum())"
      ],
      "metadata": {
        "colab": {
          "base_uri": "https://localhost:8080/"
        },
        "id": "0QNnzEyeSbQ8",
        "outputId": "9904d00c-b4dd-4d0f-aad2-0862c4ac3182"
      },
      "execution_count": 189,
      "outputs": [
        {
          "output_type": "execute_result",
          "data": {
            "text/plain": [
              "tensor(2.4836e-05)"
            ]
          },
          "metadata": {},
          "execution_count": 189
        }
      ]
    },
    {
      "cell_type": "code",
      "source": [
        "%%time\n",
        "A = th.randint(-1,1,(64,64))\n",
        "B = (A + A.T) / 2\n",
        "B == B.T\n",
        "U, S, Vh = th.linalg.svd(B)\n",
        "th.sqrt(((U@th.diag(S)@Vh - B)**2).sum())"
      ],
      "metadata": {
        "colab": {
          "base_uri": "https://localhost:8080/"
        },
        "id": "0iNPweEeSsBB",
        "outputId": "7c40bc1f-f6fa-460b-a441-9b0efe8d286f"
      },
      "execution_count": 193,
      "outputs": [
        {
          "output_type": "stream",
          "name": "stdout",
          "text": [
            "CPU times: user 2.2 ms, sys: 38 µs, total: 2.24 ms\n",
            "Wall time: 2.1 ms\n"
          ]
        },
        {
          "output_type": "execute_result",
          "data": {
            "text/plain": [
              "tensor(2.4976e-05)"
            ]
          },
          "metadata": {},
          "execution_count": 193
        }
      ]
    },
    {
      "cell_type": "markdown",
      "metadata": {
        "id": "V6mdQHNt0M_V"
      },
      "source": [
        "<p class=\"task\" id=\"9\"></p>\n",
        "\n",
        "9\\. Повторите решение задачи 8, перенеся вычисления на GPU. Сравните результаты и время выполнения двух решений."
      ]
    },
    {
      "cell_type": "code",
      "source": [
        "%%time\n",
        "A_gpu = A.cuda()\n",
        "B_gpu = (A_gpu + A_gpu.T) / 2\n",
        "B_gpu == B_gpu.T\n",
        "U_gpu, S_gpu, Vh_gpu = th.linalg.svd(B_gpu)\n",
        "th.sqrt(((U_gpu@th.diag(S_gpu)@Vh_gpu - B_gpu)**2).sum())"
      ],
      "metadata": {
        "colab": {
          "base_uri": "https://localhost:8080/"
        },
        "id": "XygumBysQrHE",
        "outputId": "68ac0b9f-7c6a-4ad3-da5e-4b7d40deb726"
      },
      "execution_count": 198,
      "outputs": [
        {
          "output_type": "stream",
          "name": "stdout",
          "text": [
            "CPU times: user 4.17 ms, sys: 6 µs, total: 4.17 ms\n",
            "Wall time: 4.18 ms\n"
          ]
        },
        {
          "output_type": "execute_result",
          "data": {
            "text/plain": [
              "tensor(0.0004, device='cuda:0')"
            ]
          },
          "metadata": {},
          "execution_count": 198
        }
      ]
    },
    {
      "cell_type": "code",
      "source": [
        "4.18 / 2.1"
      ],
      "metadata": {
        "colab": {
          "base_uri": "https://localhost:8080/"
        },
        "id": "gjcqVVmSU8Nx",
        "outputId": "30763050-b81a-4920-ed56-f461bc831a59"
      },
      "execution_count": 200,
      "outputs": [
        {
          "output_type": "execute_result",
          "data": {
            "text/plain": [
              "1.9904761904761903"
            ]
          },
          "metadata": {},
          "execution_count": 200
        }
      ]
    },
    {
      "cell_type": "code",
      "source": [
        "0.0004/2.4976e-05"
      ],
      "metadata": {
        "colab": {
          "base_uri": "https://localhost:8080/"
        },
        "id": "28Jt5FSZUuf7",
        "outputId": "55033a1a-5de8-47da-b2c9-511e00c8b36e"
      },
      "execution_count": 199,
      "outputs": [
        {
          "output_type": "execute_result",
          "data": {
            "text/plain": [
              "16.01537475976938"
            ]
          },
          "metadata": {},
          "execution_count": 199
        }
      ]
    },
    {
      "cell_type": "markdown",
      "source": [
        "**Вычисления на GPU выполнились в 2 раза дольше.\\\n",
        "Результаты отличаются в 16 раз.**"
      ],
      "metadata": {
        "id": "ToF_iIj0UKUe"
      }
    },
    {
      "cell_type": "code",
      "source": [],
      "metadata": {
        "id": "cNcaaQeeV4WK"
      },
      "execution_count": null,
      "outputs": []
    }
  ],
  "metadata": {
    "colab": {
      "provenance": [],
      "gpuType": "T4"
    },
    "kernelspec": {
      "display_name": "Python 3",
      "name": "python3"
    },
    "language_info": {
      "codemirror_mode": {
        "name": "ipython",
        "version": 3
      },
      "file_extension": ".py",
      "mimetype": "text/x-python",
      "name": "python",
      "nbconvert_exporter": "python",
      "pygments_lexer": "ipython3",
      "version": "3.10.10"
    },
    "accelerator": "GPU"
  },
  "nbformat": 4,
  "nbformat_minor": 0
}

{
 "cells": [
  {
   "cell_type": "markdown",
   "id": "f9b8d745",
   "metadata": {},
   "source": [
    "# Работа с базами данных (2)"
   ]
  },
  {
   "cell_type": "markdown",
   "id": "52dea052",
   "metadata": {},
   "source": [
    "__Автор задач: Блохин Н.В. (NVBlokhin@fa.ru)__\n",
    "\n",
    "Материалы:\n",
    "* Макрушин С.В. Лекция \"Работа с базами данных\"\n",
    "* https://sqliteonline.com/\n",
    "* https://docs.python.org/3/library/sqlite3.html\n",
    "* https://www.sqlitetutorial.net/sqlite-index/\n",
    "* https://docs.python.org/3/library/sqlite3.html#sqlite3.IntegrityError\n",
    "* https://www.sqlitetutorial.net/sqlite-alter-table/\n",
    "* https://www.sqlitetutorial.net/sqlite-create-view/\n",
    "* https://habr.com/ru/post/664000/\n",
    "* https://learnsql.com/blog/what-is-common-table-expression/\n"
   ]
  },
  {
   "cell_type": "markdown",
   "id": "adbd64fe",
   "metadata": {},
   "source": [
    "## Задачи для совместного разбора"
   ]
  },
  {
   "cell_type": "code",
   "execution_count": 1,
   "id": "f891aa88",
   "metadata": {},
   "outputs": [],
   "source": [
    "import pandas as pd\n",
    "import sqlite3\n",
    "\n",
    "# данные\n",
    "students = pd.DataFrame(\n",
    "    [\n",
    "        (\"Сотников Евгений Янович\", 1),\n",
    "        (\"Степанова Виктория Константиновна\", 1),\n",
    "        (\"Горелова Вероника Яновна\", 2),\n",
    "        (\"Гришин Иван Романович\", 3),\n",
    "    ],\n",
    "    columns=[\"name\", \"group_id\"],\n",
    ")\n",
    "groups = list(zip([1, 2, 3], [\"ПМ20-1\", \"ПМ20-2\", \"ПМ20-3\"]))\n",
    "\n",
    "con = sqlite3.connect(\"demo.sqlite\")\n",
    "con.execute(\"PRAGMA foreign_keys = 1\")\n",
    "cur = con.cursor()\n",
    "\n",
    "# создаем таблицы\n",
    "sql = \"\"\"\n",
    "DROP TABLE IF EXISTS StudentGroup;\n",
    "DROP TABLE IF EXISTS Student;\n",
    "CREATE TABLE StudentGroup (\n",
    "    id int PRIMARY KEY,\n",
    "    name varchar\n",
    ");\n",
    "\n",
    "CREATE TABLE Student(\n",
    "    name VARCHAR PRIMARY KEY,\n",
    "    group_id INT,\n",
    "    FOREIGN KEY (group_id) REFERENCES StudentGroup(id)\n",
    ");\n",
    "\"\"\"\n",
    "cur.executescript(sql)\n",
    "con.commit()\n",
    "\n",
    "# добавляем записи\n",
    "sql = \"\"\"\n",
    "INSERT INTO StudentGroup(id, name) VALUES (?, ?)\n",
    "\"\"\"\n",
    "cur.executemany(sql, groups)\n",
    "con.commit()\n",
    "\n",
    "students.to_sql(\"Student\", con, if_exists=\"append\", index=False)"
   ]
  },
  {
   "cell_type": "markdown",
   "id": "b73cdf2b",
   "metadata": {},
   "source": [
    "1\\. Добавить столбец Age со значением по умолчанию. Добавить запись к таблицу"
   ]
  },
  {
   "cell_type": "code",
   "execution_count": 2,
   "id": "a549f013",
   "metadata": {},
   "outputs": [],
   "source": [
    "sql = '''\n",
    "ALTER TABLE Student\n",
    "    ADD COLUMN Age INT DEFAULT 18\n",
    "'''\n",
    "cur.execute(sql)\n",
    "con.commit()"
   ]
  },
  {
   "cell_type": "code",
   "execution_count": 3,
   "id": "13009450",
   "metadata": {},
   "outputs": [
    {
     "data": {
      "text/html": [
       "<div>\n",
       "<style scoped>\n",
       "    .dataframe tbody tr th:only-of-type {\n",
       "        vertical-align: middle;\n",
       "    }\n",
       "\n",
       "    .dataframe tbody tr th {\n",
       "        vertical-align: top;\n",
       "    }\n",
       "\n",
       "    .dataframe thead th {\n",
       "        text-align: right;\n",
       "    }\n",
       "</style>\n",
       "<table border=\"1\" class=\"dataframe\">\n",
       "  <thead>\n",
       "    <tr style=\"text-align: right;\">\n",
       "      <th></th>\n",
       "      <th>name</th>\n",
       "      <th>group_id</th>\n",
       "      <th>Age</th>\n",
       "    </tr>\n",
       "  </thead>\n",
       "  <tbody>\n",
       "    <tr>\n",
       "      <th>0</th>\n",
       "      <td>Сотников Евгений Янович</td>\n",
       "      <td>1</td>\n",
       "      <td>18</td>\n",
       "    </tr>\n",
       "    <tr>\n",
       "      <th>1</th>\n",
       "      <td>Степанова Виктория Константиновна</td>\n",
       "      <td>1</td>\n",
       "      <td>18</td>\n",
       "    </tr>\n",
       "    <tr>\n",
       "      <th>2</th>\n",
       "      <td>Горелова Вероника Яновна</td>\n",
       "      <td>2</td>\n",
       "      <td>18</td>\n",
       "    </tr>\n",
       "    <tr>\n",
       "      <th>3</th>\n",
       "      <td>Гришин Иван Романович</td>\n",
       "      <td>3</td>\n",
       "      <td>18</td>\n",
       "    </tr>\n",
       "  </tbody>\n",
       "</table>\n",
       "</div>"
      ],
      "text/plain": [
       "                                name  group_id  Age\n",
       "0            Сотников Евгений Янович         1   18\n",
       "1  Степанова Виктория Константиновна         1   18\n",
       "2           Горелова Вероника Яновна         2   18\n",
       "3              Гришин Иван Романович         3   18"
      ]
     },
     "execution_count": 3,
     "metadata": {},
     "output_type": "execute_result"
    }
   ],
   "source": [
    "pd.read_sql_query('SELECT * FROM Student', con)"
   ]
  },
  {
   "cell_type": "code",
   "execution_count": 6,
   "id": "b77197ab",
   "metadata": {},
   "outputs": [
    {
     "name": "stdout",
     "output_type": "stream",
     "text": [
      "Ошибки не произошло\n"
     ]
    }
   ],
   "source": [
    "sql = '''\n",
    "INSERT INTO Student(name,group_id,Age)\n",
    "    VALUES ('Солончукова Полина Станиславовна', 2, 19)\n",
    "'''\n",
    "try:\n",
    "    cur.execute(sql)\n",
    "except sqlite3.OperationalError as e:\n",
    "    print('Произошла ошибка:', e)\n",
    "else:\n",
    "    print('Ошибки не произошло')\n",
    "    con.commit()\n",
    "con.commit()"
   ]
  },
  {
   "cell_type": "markdown",
   "id": "c41063fc",
   "metadata": {},
   "source": [
    "2\\. Занумеруйте студентов в рамках каждой группы."
   ]
  },
  {
   "cell_type": "code",
   "execution_count": 17,
   "id": "d1140f86",
   "metadata": {},
   "outputs": [
    {
     "data": {
      "text/html": [
       "<div>\n",
       "<style scoped>\n",
       "    .dataframe tbody tr th:only-of-type {\n",
       "        vertical-align: middle;\n",
       "    }\n",
       "\n",
       "    .dataframe tbody tr th {\n",
       "        vertical-align: top;\n",
       "    }\n",
       "\n",
       "    .dataframe thead th {\n",
       "        text-align: right;\n",
       "    }\n",
       "</style>\n",
       "<table border=\"1\" class=\"dataframe\">\n",
       "  <thead>\n",
       "    <tr style=\"text-align: right;\">\n",
       "      <th></th>\n",
       "      <th>name</th>\n",
       "      <th>group_id</th>\n",
       "      <th>Age</th>\n",
       "      <th>rid</th>\n",
       "    </tr>\n",
       "  </thead>\n",
       "  <tbody>\n",
       "    <tr>\n",
       "      <th>0</th>\n",
       "      <td>Сотников Евгений Янович</td>\n",
       "      <td>1</td>\n",
       "      <td>18</td>\n",
       "      <td>1</td>\n",
       "    </tr>\n",
       "    <tr>\n",
       "      <th>1</th>\n",
       "      <td>Степанова Виктория Константиновна</td>\n",
       "      <td>1</td>\n",
       "      <td>18</td>\n",
       "      <td>2</td>\n",
       "    </tr>\n",
       "    <tr>\n",
       "      <th>2</th>\n",
       "      <td>Солончукова Полина Станиславовна</td>\n",
       "      <td>2</td>\n",
       "      <td>19</td>\n",
       "      <td>1</td>\n",
       "    </tr>\n",
       "    <tr>\n",
       "      <th>3</th>\n",
       "      <td>Горелова Вероника Яновна</td>\n",
       "      <td>2</td>\n",
       "      <td>18</td>\n",
       "      <td>2</td>\n",
       "    </tr>\n",
       "    <tr>\n",
       "      <th>4</th>\n",
       "      <td>Гришин Иван Романович</td>\n",
       "      <td>3</td>\n",
       "      <td>18</td>\n",
       "      <td>1</td>\n",
       "    </tr>\n",
       "  </tbody>\n",
       "</table>\n",
       "</div>"
      ],
      "text/plain": [
       "                                name  group_id  Age  rid\n",
       "0            Сотников Евгений Янович         1   18    1\n",
       "1  Степанова Виктория Константиновна         1   18    2\n",
       "2   Солончукова Полина Станиславовна         2   19    1\n",
       "3           Горелова Вероника Яновна         2   18    2\n",
       "4              Гришин Иван Романович         3   18    1"
      ]
     },
     "execution_count": 17,
     "metadata": {},
     "output_type": "execute_result"
    }
   ],
   "source": [
    "sql = '''\n",
    "SELECT name,\n",
    "       group_id,\n",
    "       Age,\n",
    "       ROW_NUMBER() OVER(PARTITION BY group_id ORDER BY Age DESC) as rid\n",
    "FROM Student\n",
    "'''\n",
    "pd.read_sql_query(sql,con)"
   ]
  },
  {
   "cell_type": "markdown",
   "id": "f25a9d2f",
   "metadata": {},
   "source": [
    "3\\. Выведите уникальные номера студентов"
   ]
  },
  {
   "cell_type": "code",
   "execution_count": 19,
   "id": "2a924454",
   "metadata": {},
   "outputs": [
    {
     "data": {
      "text/html": [
       "<div>\n",
       "<style scoped>\n",
       "    .dataframe tbody tr th:only-of-type {\n",
       "        vertical-align: middle;\n",
       "    }\n",
       "\n",
       "    .dataframe tbody tr th {\n",
       "        vertical-align: top;\n",
       "    }\n",
       "\n",
       "    .dataframe thead th {\n",
       "        text-align: right;\n",
       "    }\n",
       "</style>\n",
       "<table border=\"1\" class=\"dataframe\">\n",
       "  <thead>\n",
       "    <tr style=\"text-align: right;\">\n",
       "      <th></th>\n",
       "      <th>rid</th>\n",
       "    </tr>\n",
       "  </thead>\n",
       "  <tbody>\n",
       "    <tr>\n",
       "      <th>0</th>\n",
       "      <td>1</td>\n",
       "    </tr>\n",
       "    <tr>\n",
       "      <th>1</th>\n",
       "      <td>2</td>\n",
       "    </tr>\n",
       "  </tbody>\n",
       "</table>\n",
       "</div>"
      ],
      "text/plain": [
       "   rid\n",
       "0    1\n",
       "1    2"
      ]
     },
     "execution_count": 19,
     "metadata": {},
     "output_type": "execute_result"
    }
   ],
   "source": [
    "sql = '''\n",
    "SELECT DISTINCT rid\n",
    "FROM (\n",
    "    SELECT name,\n",
    "           group_id,\n",
    "           Age,\n",
    "           ROW_NUMBER() OVER(PARTITION BY group_id ORDER BY Age DESC) as rid\n",
    "    FROM Student\n",
    ")\n",
    "'''\n",
    "pd.read_sql_query(sql,con)"
   ]
  },
  {
   "cell_type": "code",
   "execution_count": 20,
   "id": "92b9ec26",
   "metadata": {},
   "outputs": [
    {
     "data": {
      "text/html": [
       "<div>\n",
       "<style scoped>\n",
       "    .dataframe tbody tr th:only-of-type {\n",
       "        vertical-align: middle;\n",
       "    }\n",
       "\n",
       "    .dataframe tbody tr th {\n",
       "        vertical-align: top;\n",
       "    }\n",
       "\n",
       "    .dataframe thead th {\n",
       "        text-align: right;\n",
       "    }\n",
       "</style>\n",
       "<table border=\"1\" class=\"dataframe\">\n",
       "  <thead>\n",
       "    <tr style=\"text-align: right;\">\n",
       "      <th></th>\n",
       "      <th>rid</th>\n",
       "    </tr>\n",
       "  </thead>\n",
       "  <tbody>\n",
       "    <tr>\n",
       "      <th>0</th>\n",
       "      <td>1</td>\n",
       "    </tr>\n",
       "    <tr>\n",
       "      <th>1</th>\n",
       "      <td>2</td>\n",
       "    </tr>\n",
       "  </tbody>\n",
       "</table>\n",
       "</div>"
      ],
      "text/plain": [
       "   rid\n",
       "0    1\n",
       "1    2"
      ]
     },
     "execution_count": 20,
     "metadata": {},
     "output_type": "execute_result"
    }
   ],
   "source": [
    "sql = '''\n",
    "SELECT DISTINCT ROW_NUMBER() OVER(PARTITION BY group_id) as rid\n",
    "FROM Student\n",
    "'''\n",
    "pd.read_sql_query(sql,con)"
   ]
  },
  {
   "cell_type": "code",
   "execution_count": 21,
   "id": "9059d1f4",
   "metadata": {},
   "outputs": [],
   "source": [
    "# представление\n",
    "sql = '''\n",
    "CREATE VIEW StudentWithNumberView AS \n",
    "    SELECT name,\n",
    "           group_id,\n",
    "           Age,\n",
    "           ROW_NUMBER() OVER(PARTITION BY group_id ORDER BY Age DESC) as rid\n",
    "    FROM Student\n",
    "'''\n",
    "cur.execute(sql)\n",
    "con.commit()"
   ]
  },
  {
   "cell_type": "code",
   "execution_count": 22,
   "id": "73e7704a",
   "metadata": {},
   "outputs": [
    {
     "data": {
      "text/html": [
       "<div>\n",
       "<style scoped>\n",
       "    .dataframe tbody tr th:only-of-type {\n",
       "        vertical-align: middle;\n",
       "    }\n",
       "\n",
       "    .dataframe tbody tr th {\n",
       "        vertical-align: top;\n",
       "    }\n",
       "\n",
       "    .dataframe thead th {\n",
       "        text-align: right;\n",
       "    }\n",
       "</style>\n",
       "<table border=\"1\" class=\"dataframe\">\n",
       "  <thead>\n",
       "    <tr style=\"text-align: right;\">\n",
       "      <th></th>\n",
       "      <th>rid</th>\n",
       "    </tr>\n",
       "  </thead>\n",
       "  <tbody>\n",
       "    <tr>\n",
       "      <th>0</th>\n",
       "      <td>1</td>\n",
       "    </tr>\n",
       "    <tr>\n",
       "      <th>1</th>\n",
       "      <td>2</td>\n",
       "    </tr>\n",
       "  </tbody>\n",
       "</table>\n",
       "</div>"
      ],
      "text/plain": [
       "   rid\n",
       "0    1\n",
       "1    2"
      ]
     },
     "execution_count": 22,
     "metadata": {},
     "output_type": "execute_result"
    }
   ],
   "source": [
    "sql = '''\n",
    "SELECT DISTINCT rid\n",
    "FROM StudentWithNumberView\n",
    "'''\n",
    "pd.read_sql_query(sql,con)"
   ]
  },
  {
   "cell_type": "code",
   "execution_count": 23,
   "id": "df3d761b",
   "metadata": {},
   "outputs": [
    {
     "data": {
      "text/html": [
       "<div>\n",
       "<style scoped>\n",
       "    .dataframe tbody tr th:only-of-type {\n",
       "        vertical-align: middle;\n",
       "    }\n",
       "\n",
       "    .dataframe tbody tr th {\n",
       "        vertical-align: top;\n",
       "    }\n",
       "\n",
       "    .dataframe thead th {\n",
       "        text-align: right;\n",
       "    }\n",
       "</style>\n",
       "<table border=\"1\" class=\"dataframe\">\n",
       "  <thead>\n",
       "    <tr style=\"text-align: right;\">\n",
       "      <th></th>\n",
       "      <th>rid</th>\n",
       "    </tr>\n",
       "  </thead>\n",
       "  <tbody>\n",
       "    <tr>\n",
       "      <th>0</th>\n",
       "      <td>1</td>\n",
       "    </tr>\n",
       "    <tr>\n",
       "      <th>1</th>\n",
       "      <td>2</td>\n",
       "    </tr>\n",
       "  </tbody>\n",
       "</table>\n",
       "</div>"
      ],
      "text/plain": [
       "   rid\n",
       "0    1\n",
       "1    2"
      ]
     },
     "execution_count": 23,
     "metadata": {},
     "output_type": "execute_result"
    }
   ],
   "source": [
    "# обобщенное табличное выражение\n",
    "sql = '''\n",
    "WITH StudentWithNumberCTE AS (\n",
    "    SELECT name,\n",
    "           group_id,\n",
    "           Age,\n",
    "           ROW_NUMBER() OVER(PARTITION BY group_id ORDER BY Age DESC) as rid\n",
    "    FROM Student\n",
    ")\n",
    "\n",
    "SELECT DISTINCT rid\n",
    "FROM StudentWithNumberView\n",
    "'''\n",
    "pd.read_sql_query(sql,con)"
   ]
  },
  {
   "cell_type": "markdown",
   "id": "e4229ad3",
   "metadata": {},
   "source": [
    "## Лабораторная работа 4"
   ]
  },
  {
   "cell_type": "markdown",
   "id": "ab7ef89a",
   "metadata": {},
   "source": [
    "__При решении данных задач не подразумевается использования циклов или генераторов Python в ходе работы с пакетами `numpy` и `pandas`, если в задании не сказано обратного. Решения задач, в которых для обработки массивов `numpy` или структур `pandas` используются явные циклы (без согласования с преподавателем), могут быть признаны некорректными и не засчитаны.__"
   ]
  },
  {
   "cell_type": "code",
   "execution_count": 2,
   "id": "7f59a243",
   "metadata": {},
   "outputs": [],
   "source": [
    "import pandas as pd\n",
    "import sqlite3"
   ]
  },
  {
   "cell_type": "markdown",
   "id": "48b60bc7",
   "metadata": {},
   "source": [
    "__Для начала работы подключитесь к БД `recipes.db` и создайте объект-курсор.__"
   ]
  },
  {
   "cell_type": "code",
   "execution_count": 464,
   "id": "046022d8",
   "metadata": {},
   "outputs": [],
   "source": [
    "#con = sqlite3.connect('recipes.db')\n",
    "#cur = con.cursor()"
   ]
  },
  {
   "cell_type": "code",
   "execution_count": 567,
   "id": "b7b1b6fd",
   "metadata": {},
   "outputs": [],
   "source": [
    "sqlite3.register_adapter(bool, int)\n",
    "sqlite3.register_converter(\"BOOLEAN\", lambda x: bool(int(x)))\n",
    "con = sqlite3.connect('recipes.db', detect_types=sqlite3.PARSE_DECLTYPES)\n",
    "cur = con.cursor()"
   ]
  },
  {
   "cell_type": "code",
   "execution_count": 569,
   "id": "e94f7e3f",
   "metadata": {},
   "outputs": [],
   "source": [
    "#cur.execute('ALTER TABLE Review DROP COLUMN toxic')"
   ]
  },
  {
   "cell_type": "markdown",
   "id": "bf116062",
   "metadata": {},
   "source": [
    "<p class=\"task\" id=\"1\"></p>\n",
    "\n",
    "1\\. Создайте уникальный индекс для таблицы `Review` для обеспечения уникальности сочетания значений в полях `user_id` и `recipe_id`. "
   ]
  },
  {
   "cell_type": "code",
   "execution_count": 268,
   "id": "e5cb0609",
   "metadata": {
    "scrolled": true
   },
   "outputs": [
    {
     "data": {
      "text/html": [
       "<div>\n",
       "<style scoped>\n",
       "    .dataframe tbody tr th:only-of-type {\n",
       "        vertical-align: middle;\n",
       "    }\n",
       "\n",
       "    .dataframe tbody tr th {\n",
       "        vertical-align: top;\n",
       "    }\n",
       "\n",
       "    .dataframe thead th {\n",
       "        text-align: right;\n",
       "    }\n",
       "</style>\n",
       "<table border=\"1\" class=\"dataframe\">\n",
       "  <thead>\n",
       "    <tr style=\"text-align: right;\">\n",
       "      <th></th>\n",
       "      <th>id</th>\n",
       "      <th>user_id</th>\n",
       "      <th>recipe_id</th>\n",
       "      <th>date</th>\n",
       "      <th>rating</th>\n",
       "      <th>review</th>\n",
       "    </tr>\n",
       "  </thead>\n",
       "  <tbody>\n",
       "    <tr>\n",
       "      <th>0</th>\n",
       "      <td>370476</td>\n",
       "      <td>21752</td>\n",
       "      <td>57993</td>\n",
       "      <td>2003-05-01</td>\n",
       "      <td>5</td>\n",
       "      <td>Last week whole sides of frozen salmon fillet ...</td>\n",
       "    </tr>\n",
       "    <tr>\n",
       "      <th>1</th>\n",
       "      <td>624300</td>\n",
       "      <td>431813</td>\n",
       "      <td>142201</td>\n",
       "      <td>2007-09-16</td>\n",
       "      <td>5</td>\n",
       "      <td>So simple and so tasty!  I used a yellow capsi...</td>\n",
       "    </tr>\n",
       "    <tr>\n",
       "      <th>2</th>\n",
       "      <td>187037</td>\n",
       "      <td>400708</td>\n",
       "      <td>252013</td>\n",
       "      <td>2008-01-10</td>\n",
       "      <td>4</td>\n",
       "      <td>Very nice breakfast HH, easy to make and yummy...</td>\n",
       "    </tr>\n",
       "    <tr>\n",
       "      <th>3</th>\n",
       "      <td>706134</td>\n",
       "      <td>2001852463</td>\n",
       "      <td>404716</td>\n",
       "      <td>2017-12-11</td>\n",
       "      <td>5</td>\n",
       "      <td>These are a favorite for the holidays and so e...</td>\n",
       "    </tr>\n",
       "    <tr>\n",
       "      <th>4</th>\n",
       "      <td>312179</td>\n",
       "      <td>95810</td>\n",
       "      <td>129396</td>\n",
       "      <td>2008-03-14</td>\n",
       "      <td>5</td>\n",
       "      <td>Excellent soup!  The tomato flavor is just gre...</td>\n",
       "    </tr>\n",
       "  </tbody>\n",
       "</table>\n",
       "</div>"
      ],
      "text/plain": [
       "       id     user_id  recipe_id        date  rating  \\\n",
       "0  370476       21752      57993  2003-05-01       5   \n",
       "1  624300      431813     142201  2007-09-16       5   \n",
       "2  187037      400708     252013  2008-01-10       4   \n",
       "3  706134  2001852463     404716  2017-12-11       5   \n",
       "4  312179       95810     129396  2008-03-14       5   \n",
       "\n",
       "                                              review  \n",
       "0  Last week whole sides of frozen salmon fillet ...  \n",
       "1  So simple and so tasty!  I used a yellow capsi...  \n",
       "2  Very nice breakfast HH, easy to make and yummy...  \n",
       "3  These are a favorite for the holidays and so e...  \n",
       "4  Excellent soup!  The tomato flavor is just gre...  "
      ]
     },
     "execution_count": 268,
     "metadata": {},
     "output_type": "execute_result"
    }
   ],
   "source": [
    "pd.read_sql_query('SELECT * FROM Review',con).head()"
   ]
  },
  {
   "cell_type": "code",
   "execution_count": 571,
   "id": "cf0375dc",
   "metadata": {},
   "outputs": [],
   "source": [
    "#cur.execute('DROP INDEX user_recipe_id;')\n",
    "#con.commit()"
   ]
  },
  {
   "cell_type": "code",
   "execution_count": 572,
   "id": "6e421343",
   "metadata": {},
   "outputs": [],
   "source": [
    "sql = '''\n",
    "CREATE UNIQUE INDEX user_recipe_id \n",
    "ON Review (user_id, recipe_id);\n",
    "'''\n",
    "cur.execute(sql)\n",
    "con.commit()"
   ]
  },
  {
   "cell_type": "code",
   "execution_count": 573,
   "id": "d5e940d3",
   "metadata": {},
   "outputs": [
    {
     "data": {
      "text/html": [
       "<div>\n",
       "<style scoped>\n",
       "    .dataframe tbody tr th:only-of-type {\n",
       "        vertical-align: middle;\n",
       "    }\n",
       "\n",
       "    .dataframe tbody tr th {\n",
       "        vertical-align: top;\n",
       "    }\n",
       "\n",
       "    .dataframe thead th {\n",
       "        text-align: right;\n",
       "    }\n",
       "</style>\n",
       "<table border=\"1\" class=\"dataframe\">\n",
       "  <thead>\n",
       "    <tr style=\"text-align: right;\">\n",
       "      <th></th>\n",
       "      <th>seq</th>\n",
       "      <th>name</th>\n",
       "      <th>unique</th>\n",
       "      <th>origin</th>\n",
       "      <th>partial</th>\n",
       "    </tr>\n",
       "  </thead>\n",
       "  <tbody>\n",
       "    <tr>\n",
       "      <th>0</th>\n",
       "      <td>0</td>\n",
       "      <td>user_recipe_id</td>\n",
       "      <td>1</td>\n",
       "      <td>c</td>\n",
       "      <td>0</td>\n",
       "    </tr>\n",
       "    <tr>\n",
       "      <th>1</th>\n",
       "      <td>1</td>\n",
       "      <td>sqlite_autoindex_Review_1</td>\n",
       "      <td>1</td>\n",
       "      <td>pk</td>\n",
       "      <td>0</td>\n",
       "    </tr>\n",
       "  </tbody>\n",
       "</table>\n",
       "</div>"
      ],
      "text/plain": [
       "   seq                       name  unique origin  partial\n",
       "0    0             user_recipe_id       1      c        0\n",
       "1    1  sqlite_autoindex_Review_1       1     pk        0"
      ]
     },
     "execution_count": 573,
     "metadata": {},
     "output_type": "execute_result"
    }
   ],
   "source": [
    "sql = '''PRAGMA index_list('Review');'''\n",
    "pd.read_sql_query(sql, con)"
   ]
  },
  {
   "cell_type": "code",
   "execution_count": 574,
   "id": "0b253faf",
   "metadata": {},
   "outputs": [
    {
     "data": {
      "text/html": [
       "<div>\n",
       "<style scoped>\n",
       "    .dataframe tbody tr th:only-of-type {\n",
       "        vertical-align: middle;\n",
       "    }\n",
       "\n",
       "    .dataframe tbody tr th {\n",
       "        vertical-align: top;\n",
       "    }\n",
       "\n",
       "    .dataframe thead th {\n",
       "        text-align: right;\n",
       "    }\n",
       "</style>\n",
       "<table border=\"1\" class=\"dataframe\">\n",
       "  <thead>\n",
       "    <tr style=\"text-align: right;\">\n",
       "      <th></th>\n",
       "      <th>seqno</th>\n",
       "      <th>cid</th>\n",
       "      <th>name</th>\n",
       "    </tr>\n",
       "  </thead>\n",
       "  <tbody>\n",
       "    <tr>\n",
       "      <th>0</th>\n",
       "      <td>0</td>\n",
       "      <td>1</td>\n",
       "      <td>user_id</td>\n",
       "    </tr>\n",
       "    <tr>\n",
       "      <th>1</th>\n",
       "      <td>1</td>\n",
       "      <td>2</td>\n",
       "      <td>recipe_id</td>\n",
       "    </tr>\n",
       "  </tbody>\n",
       "</table>\n",
       "</div>"
      ],
      "text/plain": [
       "   seqno  cid       name\n",
       "0      0    1    user_id\n",
       "1      1    2  recipe_id"
      ]
     },
     "execution_count": 574,
     "metadata": {},
     "output_type": "execute_result"
    }
   ],
   "source": [
    "sql = '''PRAGMA index_info('user_recipe_id');'''\n",
    "pd.read_sql_query(sql, con)"
   ]
  },
  {
   "cell_type": "markdown",
   "id": "9143de78",
   "metadata": {},
   "source": [
    "<p class=\"task\" id=\"2\"></p>\n",
    "\n",
    "2\\. Напишите функцию `add_review(review_id, user_id, recipe_id, date, rating, review)`, которая добавляет запись в таблицу `Review`. В случае успешного добавления функция должна вернуть значение 0. В случае нарушения ограничения целостности функция должна вернуть значение 1. В случае любых других ошибок функция должна вернуть значение 2. Продемонстрируйте работу функции, попытавшись добавить одну и ту же запись дважды в двух ячейках подряд.\n",
    "\n",
    "Для решения задачи воспользуйтесь механизмом try - except и обработайте соответствующее исключение."
   ]
  },
  {
   "cell_type": "code",
   "execution_count": 575,
   "id": "3627838a",
   "metadata": {},
   "outputs": [],
   "source": [
    "def add_review(review_id, user_id, recipe_id, date, rating, review):\n",
    "    sql = '''\n",
    "    INSERT INTO Review(id, user_id, recipe_id, date, rating, review)\n",
    "    VALUES (?,?,?,?,?,?)\n",
    "    '''\n",
    "    try:\n",
    "        cur.execute(sql, [review_id, user_id, recipe_id, date, rating, review])\n",
    "        con.commit()\n",
    "        return 0\n",
    "    except sqlite3.Error as e:\n",
    "        if isinstance(e, sqlite3.IntegrityError):\n",
    "            return 1\n",
    "        else:\n",
    "            return 2"
   ]
  },
  {
   "cell_type": "code",
   "execution_count": 1,
   "id": "bd06f419",
   "metadata": {},
   "outputs": [],
   "source": [
    "def add_review_2(review_id, user_id, recipe_id, date, rating, review):\n",
    "    sql = '''\n",
    "    INSERT INTO Review(id, user_id, recipe_id, date, rating, review)\n",
    "    VALUES (?,?,?,?,?,?)\n",
    "    '''\n",
    "    try:\n",
    "        cur.execute(sql, [review_id, user_id, recipe_id, date, rating, review])\n",
    "        con.commit()\n",
    "        return 0\n",
    "    except BaseException as e:\n",
    "        if isinstance(e, sqlite3.IntegrityError):\n",
    "            return 1\n",
    "        else:\n",
    "            return 2"
   ]
  },
  {
   "cell_type": "code",
   "execution_count": 576,
   "id": "1a234496",
   "metadata": {},
   "outputs": [
    {
     "data": {
      "text/plain": [
       "0"
      ]
     },
     "execution_count": 576,
     "metadata": {},
     "output_type": "execute_result"
    }
   ],
   "source": [
    "add_review(2,1,1,'2003-05-01',4,'descripion') # несуществующее сочетание"
   ]
  },
  {
   "cell_type": "code",
   "execution_count": 577,
   "id": "311ba2ed",
   "metadata": {},
   "outputs": [
    {
     "data": {
      "text/html": [
       "<div>\n",
       "<style scoped>\n",
       "    .dataframe tbody tr th:only-of-type {\n",
       "        vertical-align: middle;\n",
       "    }\n",
       "\n",
       "    .dataframe tbody tr th {\n",
       "        vertical-align: top;\n",
       "    }\n",
       "\n",
       "    .dataframe thead th {\n",
       "        text-align: right;\n",
       "    }\n",
       "</style>\n",
       "<table border=\"1\" class=\"dataframe\">\n",
       "  <thead>\n",
       "    <tr style=\"text-align: right;\">\n",
       "      <th></th>\n",
       "      <th>id</th>\n",
       "      <th>user_id</th>\n",
       "      <th>recipe_id</th>\n",
       "      <th>date</th>\n",
       "      <th>rating</th>\n",
       "      <th>review</th>\n",
       "    </tr>\n",
       "  </thead>\n",
       "  <tbody>\n",
       "    <tr>\n",
       "      <th>0</th>\n",
       "      <td>2</td>\n",
       "      <td>1</td>\n",
       "      <td>1</td>\n",
       "      <td>2003-05-01</td>\n",
       "      <td>4</td>\n",
       "      <td>descripion</td>\n",
       "    </tr>\n",
       "  </tbody>\n",
       "</table>\n",
       "</div>"
      ],
      "text/plain": [
       "   id  user_id  recipe_id        date  rating      review\n",
       "0   2        1          1  2003-05-01       4  descripion"
      ]
     },
     "execution_count": 577,
     "metadata": {},
     "output_type": "execute_result"
    }
   ],
   "source": [
    "sql = '''\n",
    "SELECT * FROM Review WHERE id = 2\n",
    "'''\n",
    "pd.read_sql_query(sql, con)"
   ]
  },
  {
   "cell_type": "code",
   "execution_count": 578,
   "id": "2e7448f4",
   "metadata": {},
   "outputs": [
    {
     "data": {
      "text/plain": [
       "1"
      ]
     },
     "execution_count": 578,
     "metadata": {},
     "output_type": "execute_result"
    }
   ],
   "source": [
    "add_review(3,1,1,'2020-05-01',777,'inf') # существующее сочетание"
   ]
  },
  {
   "cell_type": "code",
   "execution_count": 579,
   "id": "27ac2812",
   "metadata": {},
   "outputs": [
    {
     "data": {
      "text/html": [
       "<div>\n",
       "<style scoped>\n",
       "    .dataframe tbody tr th:only-of-type {\n",
       "        vertical-align: middle;\n",
       "    }\n",
       "\n",
       "    .dataframe tbody tr th {\n",
       "        vertical-align: top;\n",
       "    }\n",
       "\n",
       "    .dataframe thead th {\n",
       "        text-align: right;\n",
       "    }\n",
       "</style>\n",
       "<table border=\"1\" class=\"dataframe\">\n",
       "  <thead>\n",
       "    <tr style=\"text-align: right;\">\n",
       "      <th></th>\n",
       "      <th>id</th>\n",
       "      <th>user_id</th>\n",
       "      <th>recipe_id</th>\n",
       "      <th>date</th>\n",
       "      <th>rating</th>\n",
       "      <th>review</th>\n",
       "    </tr>\n",
       "  </thead>\n",
       "  <tbody>\n",
       "  </tbody>\n",
       "</table>\n",
       "</div>"
      ],
      "text/plain": [
       "Empty DataFrame\n",
       "Columns: [id, user_id, recipe_id, date, rating, review]\n",
       "Index: []"
      ]
     },
     "execution_count": 579,
     "metadata": {},
     "output_type": "execute_result"
    }
   ],
   "source": [
    "sql = '''\n",
    "SELECT * FROM Review WHERE id = 3\n",
    "'''\n",
    "pd.read_sql_query(sql, con)"
   ]
  },
  {
   "cell_type": "code",
   "execution_count": 580,
   "id": "c2456441",
   "metadata": {},
   "outputs": [],
   "source": [
    "sql = ''' \n",
    "DELETE FROM Review WHERE id = 2;\n",
    "'''\n",
    "cur.execute(sql)\n",
    "con.commit()"
   ]
  },
  {
   "cell_type": "code",
   "execution_count": 581,
   "id": "6592d186",
   "metadata": {},
   "outputs": [
    {
     "data": {
      "text/html": [
       "<div>\n",
       "<style scoped>\n",
       "    .dataframe tbody tr th:only-of-type {\n",
       "        vertical-align: middle;\n",
       "    }\n",
       "\n",
       "    .dataframe tbody tr th {\n",
       "        vertical-align: top;\n",
       "    }\n",
       "\n",
       "    .dataframe thead th {\n",
       "        text-align: right;\n",
       "    }\n",
       "</style>\n",
       "<table border=\"1\" class=\"dataframe\">\n",
       "  <thead>\n",
       "    <tr style=\"text-align: right;\">\n",
       "      <th></th>\n",
       "      <th>id</th>\n",
       "      <th>user_id</th>\n",
       "      <th>recipe_id</th>\n",
       "      <th>date</th>\n",
       "      <th>rating</th>\n",
       "      <th>review</th>\n",
       "    </tr>\n",
       "  </thead>\n",
       "  <tbody>\n",
       "  </tbody>\n",
       "</table>\n",
       "</div>"
      ],
      "text/plain": [
       "Empty DataFrame\n",
       "Columns: [id, user_id, recipe_id, date, rating, review]\n",
       "Index: []"
      ]
     },
     "execution_count": 581,
     "metadata": {},
     "output_type": "execute_result"
    }
   ],
   "source": [
    "sql = '''\n",
    "SELECT * FROM Review WHERE id = 2;\n",
    "'''\n",
    "pd.read_sql_query(sql, con)"
   ]
  },
  {
   "cell_type": "code",
   "execution_count": 582,
   "id": "f57ecc3d",
   "metadata": {
    "scrolled": true
   },
   "outputs": [
    {
     "data": {
      "text/plain": [
       "2"
      ]
     },
     "execution_count": 582,
     "metadata": {},
     "output_type": "execute_result"
    }
   ],
   "source": [
    "add_review(3,1,1,'2020-05-01',[1,2,3],'inf')"
   ]
  },
  {
   "cell_type": "code",
   "execution_count": 583,
   "id": "f2fa8620",
   "metadata": {},
   "outputs": [
    {
     "data": {
      "text/html": [
       "<div>\n",
       "<style scoped>\n",
       "    .dataframe tbody tr th:only-of-type {\n",
       "        vertical-align: middle;\n",
       "    }\n",
       "\n",
       "    .dataframe tbody tr th {\n",
       "        vertical-align: top;\n",
       "    }\n",
       "\n",
       "    .dataframe thead th {\n",
       "        text-align: right;\n",
       "    }\n",
       "</style>\n",
       "<table border=\"1\" class=\"dataframe\">\n",
       "  <thead>\n",
       "    <tr style=\"text-align: right;\">\n",
       "      <th></th>\n",
       "      <th>id</th>\n",
       "      <th>user_id</th>\n",
       "      <th>recipe_id</th>\n",
       "      <th>date</th>\n",
       "      <th>rating</th>\n",
       "      <th>review</th>\n",
       "    </tr>\n",
       "  </thead>\n",
       "  <tbody>\n",
       "  </tbody>\n",
       "</table>\n",
       "</div>"
      ],
      "text/plain": [
       "Empty DataFrame\n",
       "Columns: [id, user_id, recipe_id, date, rating, review]\n",
       "Index: []"
      ]
     },
     "execution_count": 583,
     "metadata": {},
     "output_type": "execute_result"
    }
   ],
   "source": [
    "sql = '''\n",
    "SELECT * FROM Review WHERE id = 3\n",
    "'''\n",
    "pd.read_sql_query(sql, con)"
   ]
  },
  {
   "cell_type": "markdown",
   "id": "056d25ba",
   "metadata": {},
   "source": [
    "<p class=\"task\" id=\"3\"></p>\n",
    "\n",
    "3\\. _Измените_ таблицу Review, добавив в нее поле `toxic` булева типа. "
   ]
  },
  {
   "cell_type": "code",
   "execution_count": 667,
   "id": "e1503058",
   "metadata": {},
   "outputs": [],
   "source": [
    "#cur.execute('ALTER TABLE Review DROP COLUMN toxic')"
   ]
  },
  {
   "cell_type": "code",
   "execution_count": 668,
   "id": "0db1f7fc",
   "metadata": {},
   "outputs": [],
   "source": [
    "sql = '''\n",
    "ALTER TABLE Review\n",
    "    ADD COLUMN toxic BOOLEAN\n",
    "'''\n",
    "cur.execute(sql)\n",
    "con.commit()"
   ]
  },
  {
   "cell_type": "code",
   "execution_count": 669,
   "id": "ae299c5e",
   "metadata": {},
   "outputs": [
    {
     "data": {
      "text/html": [
       "<div>\n",
       "<style scoped>\n",
       "    .dataframe tbody tr th:only-of-type {\n",
       "        vertical-align: middle;\n",
       "    }\n",
       "\n",
       "    .dataframe tbody tr th {\n",
       "        vertical-align: top;\n",
       "    }\n",
       "\n",
       "    .dataframe thead th {\n",
       "        text-align: right;\n",
       "    }\n",
       "</style>\n",
       "<table border=\"1\" class=\"dataframe\">\n",
       "  <thead>\n",
       "    <tr style=\"text-align: right;\">\n",
       "      <th></th>\n",
       "      <th>id</th>\n",
       "      <th>user_id</th>\n",
       "      <th>recipe_id</th>\n",
       "      <th>date</th>\n",
       "      <th>rating</th>\n",
       "      <th>review</th>\n",
       "      <th>toxic</th>\n",
       "    </tr>\n",
       "  </thead>\n",
       "  <tbody>\n",
       "    <tr>\n",
       "      <th>0</th>\n",
       "      <td>370476</td>\n",
       "      <td>21752</td>\n",
       "      <td>57993</td>\n",
       "      <td>2003-05-01</td>\n",
       "      <td>5</td>\n",
       "      <td>Last week whole sides of frozen salmon fillet ...</td>\n",
       "      <td>None</td>\n",
       "    </tr>\n",
       "    <tr>\n",
       "      <th>1</th>\n",
       "      <td>624300</td>\n",
       "      <td>431813</td>\n",
       "      <td>142201</td>\n",
       "      <td>2007-09-16</td>\n",
       "      <td>5</td>\n",
       "      <td>So simple and so tasty!  I used a yellow capsi...</td>\n",
       "      <td>None</td>\n",
       "    </tr>\n",
       "    <tr>\n",
       "      <th>2</th>\n",
       "      <td>187037</td>\n",
       "      <td>400708</td>\n",
       "      <td>252013</td>\n",
       "      <td>2008-01-10</td>\n",
       "      <td>4</td>\n",
       "      <td>Very nice breakfast HH, easy to make and yummy...</td>\n",
       "      <td>None</td>\n",
       "    </tr>\n",
       "    <tr>\n",
       "      <th>3</th>\n",
       "      <td>706134</td>\n",
       "      <td>2001852463</td>\n",
       "      <td>404716</td>\n",
       "      <td>2017-12-11</td>\n",
       "      <td>5</td>\n",
       "      <td>These are a favorite for the holidays and so e...</td>\n",
       "      <td>None</td>\n",
       "    </tr>\n",
       "    <tr>\n",
       "      <th>4</th>\n",
       "      <td>312179</td>\n",
       "      <td>95810</td>\n",
       "      <td>129396</td>\n",
       "      <td>2008-03-14</td>\n",
       "      <td>5</td>\n",
       "      <td>Excellent soup!  The tomato flavor is just gre...</td>\n",
       "      <td>None</td>\n",
       "    </tr>\n",
       "  </tbody>\n",
       "</table>\n",
       "</div>"
      ],
      "text/plain": [
       "       id     user_id  recipe_id        date  rating  \\\n",
       "0  370476       21752      57993  2003-05-01       5   \n",
       "1  624300      431813     142201  2007-09-16       5   \n",
       "2  187037      400708     252013  2008-01-10       4   \n",
       "3  706134  2001852463     404716  2017-12-11       5   \n",
       "4  312179       95810     129396  2008-03-14       5   \n",
       "\n",
       "                                              review toxic  \n",
       "0  Last week whole sides of frozen salmon fillet ...  None  \n",
       "1  So simple and so tasty!  I used a yellow capsi...  None  \n",
       "2  Very nice breakfast HH, easy to make and yummy...  None  \n",
       "3  These are a favorite for the holidays and so e...  None  \n",
       "4  Excellent soup!  The tomato flavor is just gre...  None  "
      ]
     },
     "execution_count": 669,
     "metadata": {},
     "output_type": "execute_result"
    }
   ],
   "source": [
    "pd.read_sql_query('SELECT * FROM Review',con).head()"
   ]
  },
  {
   "cell_type": "code",
   "execution_count": 670,
   "id": "882ae629",
   "metadata": {},
   "outputs": [],
   "source": [
    "sql = '''\n",
    "INSERT INTO Review(id, user_id, recipe_id, date, rating, review, toxic)\n",
    "VALUES (2,1,1,'2003-05-01',4,'descripion',True);\n",
    "\n",
    "INSERT INTO Review(id, user_id, recipe_id, date, rating, review, toxic)\n",
    "VALUES (3,3,3,'2003-05-01',4,'descripion',1)\n",
    "'''\n",
    "cur.executescript(sql)\n",
    "con.commit()"
   ]
  },
  {
   "cell_type": "code",
   "execution_count": 671,
   "id": "e617252c",
   "metadata": {
    "scrolled": false
   },
   "outputs": [
    {
     "data": {
      "text/plain": [
       "126693    None\n",
       "126694    None\n",
       "126695    None\n",
       "126696    True\n",
       "126697    True\n",
       "Name: toxic, dtype: object"
      ]
     },
     "execution_count": 671,
     "metadata": {},
     "output_type": "execute_result"
    }
   ],
   "source": [
    "pd.read_sql_query('SELECT * FROM Review',con)['toxic'].tail()"
   ]
  },
  {
   "cell_type": "code",
   "execution_count": 672,
   "id": "9b243a1f",
   "metadata": {},
   "outputs": [],
   "source": [
    "sql = ''' \n",
    "DELETE FROM Review WHERE (id = 2) OR (id = 3);\n",
    "'''\n",
    "cur.execute(sql)\n",
    "con.commit()"
   ]
  },
  {
   "cell_type": "code",
   "execution_count": 673,
   "id": "ca0c0f66",
   "metadata": {
    "scrolled": false
   },
   "outputs": [
    {
     "data": {
      "text/plain": [
       "126691    None\n",
       "126692    None\n",
       "126693    None\n",
       "126694    None\n",
       "126695    None\n",
       "Name: toxic, dtype: object"
      ]
     },
     "execution_count": 673,
     "metadata": {},
     "output_type": "execute_result"
    }
   ],
   "source": [
    "pd.read_sql_query('SELECT * FROM Review',con)['toxic'].tail()"
   ]
  },
  {
   "cell_type": "markdown",
   "id": "0d12bb7c",
   "metadata": {},
   "source": [
    "<p class=\"task\" id=\"4\"></p>\n",
    "\n",
    "4\\. Вам дан классификатор `clf`, который классифицирует тексты отзывов как токсичные (`True`) и не токсичные (`False`).\n",
    "Напишите функцию `classify_reviews`, которая итеративно получает пакет (батч) `batch_size` строк из таблицы Reviews, у которых не проставлено значение в столбце `toxic`, делает для них прогноз при помощи модели `clf` и обновляет соответствующие строки в БД. Данная процедура выполняется до тех пор, пока в БД есть строки, для которых требуется получить прогноз.\n",
    "\n",
    "Продемонстрируйте результат, выведя на экран количество токсичных и не токсичных отзывов в таблице."
   ]
  },
  {
   "cell_type": "code",
   "execution_count": 674,
   "id": "e3192f36",
   "metadata": {},
   "outputs": [],
   "source": [
    "from sklearn.dummy import DummyClassifier\n",
    "\n",
    "clf = DummyClassifier(strategy=\"uniform\").fit(None, [True, False])"
   ]
  },
  {
   "cell_type": "code",
   "execution_count": 679,
   "id": "d42f11c5",
   "metadata": {},
   "outputs": [],
   "source": [
    "def classify_reviews(batch_size=10000):\n",
    "    sql = f'''\n",
    "    SELECT id \n",
    "    FROM Review \n",
    "    WHERE toxic is Null\n",
    "    LIMIT {batch_size}\n",
    "    '''\n",
    "    df_clf = pd.read_sql_query(sql, con)\n",
    "    pred = list(map(int,clf.predict(df_clf)))\n",
    "\n",
    "    while not df_clf.empty:\n",
    "        sql_update_query = '''UPDATE Review SET toxic = (?) WHERE id = (?)'''\n",
    "        cur.executemany(sql_update_query, zip(pred, pd.to_numeric(df_clf['id'], downcast='integer')))\n",
    "        con.commit()\n",
    "        df_clf = pd.read_sql_query(sql, con)\n",
    "        pred = list(map(int,clf.predict(df_clf)))\n",
    "\n",
    "    return pd.read_sql_query('SELECT * FROM Review', con)"
   ]
  },
  {
   "cell_type": "code",
   "execution_count": 680,
   "id": "792d1f8e",
   "metadata": {
    "scrolled": true
   },
   "outputs": [],
   "source": [
    "df_4 = classify_reviews()"
   ]
  },
  {
   "cell_type": "code",
   "execution_count": 681,
   "id": "dc81d56e",
   "metadata": {},
   "outputs": [
    {
     "data": {
      "text/html": [
       "<div>\n",
       "<style scoped>\n",
       "    .dataframe tbody tr th:only-of-type {\n",
       "        vertical-align: middle;\n",
       "    }\n",
       "\n",
       "    .dataframe tbody tr th {\n",
       "        vertical-align: top;\n",
       "    }\n",
       "\n",
       "    .dataframe thead th {\n",
       "        text-align: right;\n",
       "    }\n",
       "</style>\n",
       "<table border=\"1\" class=\"dataframe\">\n",
       "  <thead>\n",
       "    <tr style=\"text-align: right;\">\n",
       "      <th></th>\n",
       "      <th>id</th>\n",
       "      <th>user_id</th>\n",
       "      <th>recipe_id</th>\n",
       "      <th>date</th>\n",
       "      <th>rating</th>\n",
       "      <th>review</th>\n",
       "      <th>toxic</th>\n",
       "    </tr>\n",
       "  </thead>\n",
       "  <tbody>\n",
       "    <tr>\n",
       "      <th>0</th>\n",
       "      <td>370476</td>\n",
       "      <td>21752</td>\n",
       "      <td>57993</td>\n",
       "      <td>2003-05-01</td>\n",
       "      <td>5</td>\n",
       "      <td>Last week whole sides of frozen salmon fillet ...</td>\n",
       "      <td>True</td>\n",
       "    </tr>\n",
       "    <tr>\n",
       "      <th>1</th>\n",
       "      <td>624300</td>\n",
       "      <td>431813</td>\n",
       "      <td>142201</td>\n",
       "      <td>2007-09-16</td>\n",
       "      <td>5</td>\n",
       "      <td>So simple and so tasty!  I used a yellow capsi...</td>\n",
       "      <td>False</td>\n",
       "    </tr>\n",
       "    <tr>\n",
       "      <th>2</th>\n",
       "      <td>187037</td>\n",
       "      <td>400708</td>\n",
       "      <td>252013</td>\n",
       "      <td>2008-01-10</td>\n",
       "      <td>4</td>\n",
       "      <td>Very nice breakfast HH, easy to make and yummy...</td>\n",
       "      <td>False</td>\n",
       "    </tr>\n",
       "    <tr>\n",
       "      <th>3</th>\n",
       "      <td>706134</td>\n",
       "      <td>2001852463</td>\n",
       "      <td>404716</td>\n",
       "      <td>2017-12-11</td>\n",
       "      <td>5</td>\n",
       "      <td>These are a favorite for the holidays and so e...</td>\n",
       "      <td>False</td>\n",
       "    </tr>\n",
       "    <tr>\n",
       "      <th>4</th>\n",
       "      <td>312179</td>\n",
       "      <td>95810</td>\n",
       "      <td>129396</td>\n",
       "      <td>2008-03-14</td>\n",
       "      <td>5</td>\n",
       "      <td>Excellent soup!  The tomato flavor is just gre...</td>\n",
       "      <td>False</td>\n",
       "    </tr>\n",
       "  </tbody>\n",
       "</table>\n",
       "</div>"
      ],
      "text/plain": [
       "       id     user_id  recipe_id        date  rating  \\\n",
       "0  370476       21752      57993  2003-05-01       5   \n",
       "1  624300      431813     142201  2007-09-16       5   \n",
       "2  187037      400708     252013  2008-01-10       4   \n",
       "3  706134  2001852463     404716  2017-12-11       5   \n",
       "4  312179       95810     129396  2008-03-14       5   \n",
       "\n",
       "                                              review  toxic  \n",
       "0  Last week whole sides of frozen salmon fillet ...   True  \n",
       "1  So simple and so tasty!  I used a yellow capsi...  False  \n",
       "2  Very nice breakfast HH, easy to make and yummy...  False  \n",
       "3  These are a favorite for the holidays and so e...  False  \n",
       "4  Excellent soup!  The tomato flavor is just gre...  False  "
      ]
     },
     "execution_count": 681,
     "metadata": {},
     "output_type": "execute_result"
    }
   ],
   "source": [
    "df_4.head()"
   ]
  },
  {
   "cell_type": "code",
   "execution_count": 678,
   "id": "bb58e50b",
   "metadata": {},
   "outputs": [
    {
     "data": {
      "text/plain": [
       "array([ True, False])"
      ]
     },
     "execution_count": 678,
     "metadata": {},
     "output_type": "execute_result"
    }
   ],
   "source": [
    "df_4['toxic'].unique()"
   ]
  },
  {
   "cell_type": "code",
   "execution_count": 694,
   "id": "63443be9",
   "metadata": {},
   "outputs": [
    {
     "data": {
      "text/plain": [
       "False    63369\n",
       "True     63327\n",
       "Name: toxic, dtype: int64"
      ]
     },
     "execution_count": 694,
     "metadata": {},
     "output_type": "execute_result"
    }
   ],
   "source": [
    "df_4['toxic'].value_counts() "
   ]
  },
  {
   "cell_type": "markdown",
   "id": "260ac2f2",
   "metadata": {},
   "source": [
    "<p class=\"task\" id=\"5\"></p>\n",
    "\n",
    "5\\. Создайте представление `RecipeWithYear`, в котором добавлен дополнительный столбец `year`, содержащий год даты из столбца `submitted`. Сделайте выборку из этого представления и выведите на экран количество рецептов с разбивкой по годам."
   ]
  },
  {
   "cell_type": "code",
   "execution_count": 717,
   "id": "c3a4d070",
   "metadata": {},
   "outputs": [],
   "source": [
    "sql = '''\n",
    "CREATE VIEW RecipeWithYear AS \n",
    "   SELECT *, strftime('%Y', submitted) as year\n",
    "   FROM Recipe\n",
    "'''\n",
    "cur.execute(sql)\n",
    "con.commit()"
   ]
  },
  {
   "cell_type": "code",
   "execution_count": 723,
   "id": "793fe9cd",
   "metadata": {},
   "outputs": [
    {
     "data": {
      "text/html": [
       "<div>\n",
       "<style scoped>\n",
       "    .dataframe tbody tr th:only-of-type {\n",
       "        vertical-align: middle;\n",
       "    }\n",
       "\n",
       "    .dataframe tbody tr th {\n",
       "        vertical-align: top;\n",
       "    }\n",
       "\n",
       "    .dataframe thead th {\n",
       "        text-align: right;\n",
       "    }\n",
       "</style>\n",
       "<table border=\"1\" class=\"dataframe\">\n",
       "  <thead>\n",
       "    <tr style=\"text-align: right;\">\n",
       "      <th></th>\n",
       "      <th>year</th>\n",
       "      <th>count</th>\n",
       "    </tr>\n",
       "  </thead>\n",
       "  <tbody>\n",
       "    <tr>\n",
       "      <th>0</th>\n",
       "      <td>1999</td>\n",
       "      <td>275</td>\n",
       "    </tr>\n",
       "    <tr>\n",
       "      <th>1</th>\n",
       "      <td>2000</td>\n",
       "      <td>104</td>\n",
       "    </tr>\n",
       "    <tr>\n",
       "      <th>2</th>\n",
       "      <td>2001</td>\n",
       "      <td>589</td>\n",
       "    </tr>\n",
       "    <tr>\n",
       "      <th>3</th>\n",
       "      <td>2002</td>\n",
       "      <td>2644</td>\n",
       "    </tr>\n",
       "    <tr>\n",
       "      <th>4</th>\n",
       "      <td>2003</td>\n",
       "      <td>2334</td>\n",
       "    </tr>\n",
       "    <tr>\n",
       "      <th>5</th>\n",
       "      <td>2004</td>\n",
       "      <td>2153</td>\n",
       "    </tr>\n",
       "    <tr>\n",
       "      <th>6</th>\n",
       "      <td>2005</td>\n",
       "      <td>3130</td>\n",
       "    </tr>\n",
       "    <tr>\n",
       "      <th>7</th>\n",
       "      <td>2006</td>\n",
       "      <td>3473</td>\n",
       "    </tr>\n",
       "    <tr>\n",
       "      <th>8</th>\n",
       "      <td>2007</td>\n",
       "      <td>4429</td>\n",
       "    </tr>\n",
       "    <tr>\n",
       "      <th>9</th>\n",
       "      <td>2008</td>\n",
       "      <td>4029</td>\n",
       "    </tr>\n",
       "    <tr>\n",
       "      <th>10</th>\n",
       "      <td>2009</td>\n",
       "      <td>2963</td>\n",
       "    </tr>\n",
       "    <tr>\n",
       "      <th>11</th>\n",
       "      <td>2010</td>\n",
       "      <td>1538</td>\n",
       "    </tr>\n",
       "    <tr>\n",
       "      <th>12</th>\n",
       "      <td>2011</td>\n",
       "      <td>922</td>\n",
       "    </tr>\n",
       "    <tr>\n",
       "      <th>13</th>\n",
       "      <td>2012</td>\n",
       "      <td>659</td>\n",
       "    </tr>\n",
       "    <tr>\n",
       "      <th>14</th>\n",
       "      <td>2013</td>\n",
       "      <td>490</td>\n",
       "    </tr>\n",
       "    <tr>\n",
       "      <th>15</th>\n",
       "      <td>2014</td>\n",
       "      <td>139</td>\n",
       "    </tr>\n",
       "    <tr>\n",
       "      <th>16</th>\n",
       "      <td>2015</td>\n",
       "      <td>42</td>\n",
       "    </tr>\n",
       "    <tr>\n",
       "      <th>17</th>\n",
       "      <td>2016</td>\n",
       "      <td>24</td>\n",
       "    </tr>\n",
       "    <tr>\n",
       "      <th>18</th>\n",
       "      <td>2017</td>\n",
       "      <td>39</td>\n",
       "    </tr>\n",
       "    <tr>\n",
       "      <th>19</th>\n",
       "      <td>2018</td>\n",
       "      <td>24</td>\n",
       "    </tr>\n",
       "  </tbody>\n",
       "</table>\n",
       "</div>"
      ],
      "text/plain": [
       "    year  count\n",
       "0   1999    275\n",
       "1   2000    104\n",
       "2   2001    589\n",
       "3   2002   2644\n",
       "4   2003   2334\n",
       "5   2004   2153\n",
       "6   2005   3130\n",
       "7   2006   3473\n",
       "8   2007   4429\n",
       "9   2008   4029\n",
       "10  2009   2963\n",
       "11  2010   1538\n",
       "12  2011    922\n",
       "13  2012    659\n",
       "14  2013    490\n",
       "15  2014    139\n",
       "16  2015     42\n",
       "17  2016     24\n",
       "18  2017     39\n",
       "19  2018     24"
      ]
     },
     "execution_count": 723,
     "metadata": {},
     "output_type": "execute_result"
    }
   ],
   "source": [
    "sql = '''\n",
    "SELECT year, count(id) as count\n",
    "FROM RecipeWithYear\n",
    "GROUP BY year\n",
    "'''\n",
    "pd.read_sql_query(sql, con)"
   ]
  },
  {
   "cell_type": "code",
   "execution_count": 716,
   "id": "59a2c011",
   "metadata": {},
   "outputs": [],
   "source": [
    "#cur.execute('drop view RecipeWithYear')"
   ]
  },
  {
   "cell_type": "markdown",
   "id": "7f31d833",
   "metadata": {},
   "source": [
    "<p class=\"task\" id=\"6\"></p>\n",
    "\n",
    "6\\. Напишите запрос на языке SQL, который возвращает все строки из таблицы `Recipe` с дополнительным столбцом, содержащем номер рецепта. Рецепты нумеруются целыми числами, начиная с 1, в __рамках каждого года__ в порядке их добавления в БД (столбец `submitted`). Получите результат в виде `pd.DataFrame`. Посчитайте и выведите на экран количество строк полученного `pd.DataFrame`, для которых сгенерированный номер кратен 50."
   ]
  },
  {
   "cell_type": "code",
   "execution_count": 725,
   "id": "efd04402",
   "metadata": {
    "scrolled": true
   },
   "outputs": [
    {
     "data": {
      "text/html": [
       "<div>\n",
       "<style scoped>\n",
       "    .dataframe tbody tr th:only-of-type {\n",
       "        vertical-align: middle;\n",
       "    }\n",
       "\n",
       "    .dataframe tbody tr th {\n",
       "        vertical-align: top;\n",
       "    }\n",
       "\n",
       "    .dataframe thead th {\n",
       "        text-align: right;\n",
       "    }\n",
       "</style>\n",
       "<table border=\"1\" class=\"dataframe\">\n",
       "  <thead>\n",
       "    <tr style=\"text-align: right;\">\n",
       "      <th></th>\n",
       "      <th>id</th>\n",
       "      <th>name</th>\n",
       "      <th>minutes</th>\n",
       "      <th>submitted</th>\n",
       "      <th>description</th>\n",
       "      <th>n_ingredients</th>\n",
       "      <th>year</th>\n",
       "      <th>rid</th>\n",
       "    </tr>\n",
       "  </thead>\n",
       "  <tbody>\n",
       "    <tr>\n",
       "      <th>0</th>\n",
       "      <td>203</td>\n",
       "      <td>chinese plum sauce</td>\n",
       "      <td>115</td>\n",
       "      <td>1999-08-06</td>\n",
       "      <td>chinese plum sauce  serve this with egg rolls ...</td>\n",
       "      <td>12.0</td>\n",
       "      <td>1999</td>\n",
       "      <td>1</td>\n",
       "    </tr>\n",
       "    <tr>\n",
       "      <th>1</th>\n",
       "      <td>653</td>\n",
       "      <td>b c  cherry and raspberry preserves</td>\n",
       "      <td>215</td>\n",
       "      <td>1999-08-09</td>\n",
       "      <td>None</td>\n",
       "      <td>4.0</td>\n",
       "      <td>1999</td>\n",
       "      <td>2</td>\n",
       "    </tr>\n",
       "    <tr>\n",
       "      <th>2</th>\n",
       "      <td>360</td>\n",
       "      <td>baked zucchini frittatas</td>\n",
       "      <td>67</td>\n",
       "      <td>1999-08-09</td>\n",
       "      <td>None</td>\n",
       "      <td>NaN</td>\n",
       "      <td>1999</td>\n",
       "      <td>3</td>\n",
       "    </tr>\n",
       "    <tr>\n",
       "      <th>3</th>\n",
       "      <td>658</td>\n",
       "      <td>dried fruit roll ups</td>\n",
       "      <td>1495</td>\n",
       "      <td>1999-08-09</td>\n",
       "      <td>fruit roll-ups</td>\n",
       "      <td>4.0</td>\n",
       "      <td>1999</td>\n",
       "      <td>4</td>\n",
       "    </tr>\n",
       "    <tr>\n",
       "      <th>4</th>\n",
       "      <td>1144</td>\n",
       "      <td>steak   tomato basil pasta</td>\n",
       "      <td>0</td>\n",
       "      <td>1999-08-09</td>\n",
       "      <td>None</td>\n",
       "      <td>11.0</td>\n",
       "      <td>1999</td>\n",
       "      <td>5</td>\n",
       "    </tr>\n",
       "    <tr>\n",
       "      <th>...</th>\n",
       "      <td>...</td>\n",
       "      <td>...</td>\n",
       "      <td>...</td>\n",
       "      <td>...</td>\n",
       "      <td>...</td>\n",
       "      <td>...</td>\n",
       "      <td>...</td>\n",
       "      <td>...</td>\n",
       "    </tr>\n",
       "    <tr>\n",
       "      <th>29995</th>\n",
       "      <td>536547</td>\n",
       "      <td>cauliflower ceviche</td>\n",
       "      <td>45</td>\n",
       "      <td>2018-07-30</td>\n",
       "      <td>a healthy ceviche - a perfect appetizer for pa...</td>\n",
       "      <td>8.0</td>\n",
       "      <td>2018</td>\n",
       "      <td>20</td>\n",
       "    </tr>\n",
       "    <tr>\n",
       "      <th>29996</th>\n",
       "      <td>536610</td>\n",
       "      <td>miracle home made puff pastry</td>\n",
       "      <td>35</td>\n",
       "      <td>2018-07-31</td>\n",
       "      <td>puff pastry that you can make in minutes? at h...</td>\n",
       "      <td>NaN</td>\n",
       "      <td>2018</td>\n",
       "      <td>21</td>\n",
       "    </tr>\n",
       "    <tr>\n",
       "      <th>29997</th>\n",
       "      <td>536729</td>\n",
       "      <td>creole watermelon feta salad</td>\n",
       "      <td>10</td>\n",
       "      <td>2018-08-11</td>\n",
       "      <td>spicy watermelon salad. from tony chachere's s...</td>\n",
       "      <td>NaN</td>\n",
       "      <td>2018</td>\n",
       "      <td>22</td>\n",
       "    </tr>\n",
       "    <tr>\n",
       "      <th>29998</th>\n",
       "      <td>536728</td>\n",
       "      <td>gluten free  vegemite</td>\n",
       "      <td>2</td>\n",
       "      <td>2018-08-11</td>\n",
       "      <td>gluten free vegemite-like stuff.</td>\n",
       "      <td>3.0</td>\n",
       "      <td>2018</td>\n",
       "      <td>23</td>\n",
       "    </tr>\n",
       "    <tr>\n",
       "      <th>29999</th>\n",
       "      <td>536747</td>\n",
       "      <td>lemon pom pom cake</td>\n",
       "      <td>210</td>\n",
       "      <td>2018-08-15</td>\n",
       "      <td>by far one of my most joyous cake creations, t...</td>\n",
       "      <td>20.0</td>\n",
       "      <td>2018</td>\n",
       "      <td>24</td>\n",
       "    </tr>\n",
       "  </tbody>\n",
       "</table>\n",
       "<p>30000 rows × 8 columns</p>\n",
       "</div>"
      ],
      "text/plain": [
       "           id                                 name  minutes   submitted  \\\n",
       "0         203                   chinese plum sauce      115  1999-08-06   \n",
       "1         653  b c  cherry and raspberry preserves      215  1999-08-09   \n",
       "2         360             baked zucchini frittatas       67  1999-08-09   \n",
       "3         658                 dried fruit roll ups     1495  1999-08-09   \n",
       "4        1144           steak   tomato basil pasta        0  1999-08-09   \n",
       "...       ...                                  ...      ...         ...   \n",
       "29995  536547                  cauliflower ceviche       45  2018-07-30   \n",
       "29996  536610        miracle home made puff pastry       35  2018-07-31   \n",
       "29997  536729         creole watermelon feta salad       10  2018-08-11   \n",
       "29998  536728                gluten free  vegemite        2  2018-08-11   \n",
       "29999  536747                   lemon pom pom cake      210  2018-08-15   \n",
       "\n",
       "                                             description  n_ingredients  year  \\\n",
       "0      chinese plum sauce  serve this with egg rolls ...           12.0  1999   \n",
       "1                                                   None            4.0  1999   \n",
       "2                                                   None            NaN  1999   \n",
       "3                                         fruit roll-ups            4.0  1999   \n",
       "4                                                   None           11.0  1999   \n",
       "...                                                  ...            ...   ...   \n",
       "29995  a healthy ceviche - a perfect appetizer for pa...            8.0  2018   \n",
       "29996  puff pastry that you can make in minutes? at h...            NaN  2018   \n",
       "29997  spicy watermelon salad. from tony chachere's s...            NaN  2018   \n",
       "29998                   gluten free vegemite-like stuff.            3.0  2018   \n",
       "29999  by far one of my most joyous cake creations, t...           20.0  2018   \n",
       "\n",
       "       rid  \n",
       "0        1  \n",
       "1        2  \n",
       "2        3  \n",
       "3        4  \n",
       "4        5  \n",
       "...    ...  \n",
       "29995   20  \n",
       "29996   21  \n",
       "29997   22  \n",
       "29998   23  \n",
       "29999   24  \n",
       "\n",
       "[30000 rows x 8 columns]"
      ]
     },
     "execution_count": 725,
     "metadata": {},
     "output_type": "execute_result"
    }
   ],
   "source": [
    "sql = '''\n",
    "SELECT *, ROW_NUMBER() OVER(PARTITION BY year ORDER BY submitted) as rid \n",
    "FROM RecipeWithYear\n",
    "'''\n",
    "df6 = pd.read_sql_query(sql, con)\n",
    "df6"
   ]
  },
  {
   "cell_type": "code",
   "execution_count": 731,
   "id": "f75c748f",
   "metadata": {},
   "outputs": [
    {
     "data": {
      "text/html": [
       "<div>\n",
       "<style scoped>\n",
       "    .dataframe tbody tr th:only-of-type {\n",
       "        vertical-align: middle;\n",
       "    }\n",
       "\n",
       "    .dataframe tbody tr th {\n",
       "        vertical-align: top;\n",
       "    }\n",
       "\n",
       "    .dataframe thead th {\n",
       "        text-align: right;\n",
       "    }\n",
       "</style>\n",
       "<table border=\"1\" class=\"dataframe\">\n",
       "  <thead>\n",
       "    <tr style=\"text-align: right;\">\n",
       "      <th></th>\n",
       "      <th>id</th>\n",
       "      <th>name</th>\n",
       "      <th>minutes</th>\n",
       "      <th>submitted</th>\n",
       "      <th>description</th>\n",
       "      <th>n_ingredients</th>\n",
       "      <th>year</th>\n",
       "      <th>rid</th>\n",
       "    </tr>\n",
       "  </thead>\n",
       "  <tbody>\n",
       "    <tr>\n",
       "      <th>49</th>\n",
       "      <td>246</td>\n",
       "      <td>lee s hot crab dip</td>\n",
       "      <td>45</td>\n",
       "      <td>1999-09-01</td>\n",
       "      <td>lee's hot crab dip</td>\n",
       "      <td>10.0</td>\n",
       "      <td>1999</td>\n",
       "      <td>50</td>\n",
       "    </tr>\n",
       "    <tr>\n",
       "      <th>99</th>\n",
       "      <td>2891</td>\n",
       "      <td>potluck pasta salad</td>\n",
       "      <td>0</td>\n",
       "      <td>1999-09-27</td>\n",
       "      <td>originally from</td>\n",
       "      <td>12.0</td>\n",
       "      <td>1999</td>\n",
       "      <td>100</td>\n",
       "    </tr>\n",
       "    <tr>\n",
       "      <th>149</th>\n",
       "      <td>3441</td>\n",
       "      <td>30 minute smoked sausage and corn chowder</td>\n",
       "      <td>30</td>\n",
       "      <td>1999-10-18</td>\n",
       "      <td>i love corn chowder, have a pot on now! recipe...</td>\n",
       "      <td>8.0</td>\n",
       "      <td>1999</td>\n",
       "      <td>150</td>\n",
       "    </tr>\n",
       "    <tr>\n",
       "      <th>199</th>\n",
       "      <td>4279</td>\n",
       "      <td>never fail pie crust ii</td>\n",
       "      <td>0</td>\n",
       "      <td>1999-11-10</td>\n",
       "      <td>None</td>\n",
       "      <td>6.0</td>\n",
       "      <td>1999</td>\n",
       "      <td>200</td>\n",
       "    </tr>\n",
       "    <tr>\n",
       "      <th>249</th>\n",
       "      <td>4931</td>\n",
       "      <td>pickling corned beef</td>\n",
       "      <td>17340</td>\n",
       "      <td>1999-12-01</td>\n",
       "      <td>None</td>\n",
       "      <td>7.0</td>\n",
       "      <td>1999</td>\n",
       "      <td>250</td>\n",
       "    </tr>\n",
       "    <tr>\n",
       "      <th>...</th>\n",
       "      <td>...</td>\n",
       "      <td>...</td>\n",
       "      <td>...</td>\n",
       "      <td>...</td>\n",
       "      <td>...</td>\n",
       "      <td>...</td>\n",
       "      <td>...</td>\n",
       "      <td>...</td>\n",
       "    </tr>\n",
       "    <tr>\n",
       "      <th>29591</th>\n",
       "      <td>504794</td>\n",
       "      <td>green peas   pork chow yoke</td>\n",
       "      <td>25</td>\n",
       "      <td>2013-07-28</td>\n",
       "      <td>from desmoines daily register; september 8, 19...</td>\n",
       "      <td>15.0</td>\n",
       "      <td>2013</td>\n",
       "      <td>350</td>\n",
       "    </tr>\n",
       "    <tr>\n",
       "      <th>29641</th>\n",
       "      <td>506648</td>\n",
       "      <td>moroccan carrot and chickpea tagine</td>\n",
       "      <td>50</td>\n",
       "      <td>2013-09-05</td>\n",
       "      <td>this spicy dish uses ras el hanout, one of my ...</td>\n",
       "      <td>16.0</td>\n",
       "      <td>2013</td>\n",
       "      <td>400</td>\n",
       "    </tr>\n",
       "    <tr>\n",
       "      <th>29691</th>\n",
       "      <td>508912</td>\n",
       "      <td>delicious vinaigrette</td>\n",
       "      <td>15</td>\n",
       "      <td>2013-11-04</td>\n",
       "      <td>this recipe was was developed over many hundre...</td>\n",
       "      <td>NaN</td>\n",
       "      <td>2013</td>\n",
       "      <td>450</td>\n",
       "    </tr>\n",
       "    <tr>\n",
       "      <th>29781</th>\n",
       "      <td>513886</td>\n",
       "      <td>herbamare substitute</td>\n",
       "      <td>10</td>\n",
       "      <td>2014-03-02</td>\n",
       "      <td>herbamare is usually expensive and hard to fin...</td>\n",
       "      <td>12.0</td>\n",
       "      <td>2014</td>\n",
       "      <td>50</td>\n",
       "    </tr>\n",
       "    <tr>\n",
       "      <th>29831</th>\n",
       "      <td>517370</td>\n",
       "      <td>mickey s okinawa taco rice and cheese trc</td>\n",
       "      <td>30</td>\n",
       "      <td>2014-07-21</td>\n",
       "      <td>after much trial and error, i've finally got it.</td>\n",
       "      <td>7.0</td>\n",
       "      <td>2014</td>\n",
       "      <td>100</td>\n",
       "    </tr>\n",
       "  </tbody>\n",
       "</table>\n",
       "<p>589 rows × 8 columns</p>\n",
       "</div>"
      ],
      "text/plain": [
       "           id                                       name  minutes   submitted  \\\n",
       "49        246                         lee s hot crab dip       45  1999-09-01   \n",
       "99       2891                        potluck pasta salad        0  1999-09-27   \n",
       "149      3441  30 minute smoked sausage and corn chowder       30  1999-10-18   \n",
       "199      4279                    never fail pie crust ii        0  1999-11-10   \n",
       "249      4931                       pickling corned beef    17340  1999-12-01   \n",
       "...       ...                                        ...      ...         ...   \n",
       "29591  504794                green peas   pork chow yoke       25  2013-07-28   \n",
       "29641  506648        moroccan carrot and chickpea tagine       50  2013-09-05   \n",
       "29691  508912                      delicious vinaigrette       15  2013-11-04   \n",
       "29781  513886                       herbamare substitute       10  2014-03-02   \n",
       "29831  517370  mickey s okinawa taco rice and cheese trc       30  2014-07-21   \n",
       "\n",
       "                                             description  n_ingredients  year  \\\n",
       "49                                    lee's hot crab dip           10.0  1999   \n",
       "99                                      originally from            12.0  1999   \n",
       "149    i love corn chowder, have a pot on now! recipe...            8.0  1999   \n",
       "199                                                 None            6.0  1999   \n",
       "249                                                 None            7.0  1999   \n",
       "...                                                  ...            ...   ...   \n",
       "29591  from desmoines daily register; september 8, 19...           15.0  2013   \n",
       "29641  this spicy dish uses ras el hanout, one of my ...           16.0  2013   \n",
       "29691  this recipe was was developed over many hundre...            NaN  2013   \n",
       "29781  herbamare is usually expensive and hard to fin...           12.0  2014   \n",
       "29831   after much trial and error, i've finally got it.            7.0  2014   \n",
       "\n",
       "       rid  \n",
       "49      50  \n",
       "99     100  \n",
       "149    150  \n",
       "199    200  \n",
       "249    250  \n",
       "...    ...  \n",
       "29591  350  \n",
       "29641  400  \n",
       "29691  450  \n",
       "29781   50  \n",
       "29831  100  \n",
       "\n",
       "[589 rows x 8 columns]"
      ]
     },
     "execution_count": 731,
     "metadata": {},
     "output_type": "execute_result"
    }
   ],
   "source": [
    "df6[df6['rid']%50==0]"
   ]
  },
  {
   "cell_type": "code",
   "execution_count": 732,
   "id": "ebce6ecf",
   "metadata": {},
   "outputs": [
    {
     "data": {
      "text/plain": [
       "589"
      ]
     },
     "execution_count": 732,
     "metadata": {},
     "output_type": "execute_result"
    }
   ],
   "source": [
    "df6[df6['rid']%50==0].shape[0]"
   ]
  },
  {
   "cell_type": "markdown",
   "id": "e76fde29",
   "metadata": {},
   "source": [
    "<p class=\"task\" id=\"7\"></p>\n",
    "\n",
    "7\\. Используя обобщенное табличное выражение и решение задачи 6, напишите запрос на языке SQL, который вернет количество строк, для которых сгенерированный номер кратен 50. Выполните запрос и выведите количество таких строк на экран."
   ]
  },
  {
   "cell_type": "code",
   "execution_count": 735,
   "id": "6e901650",
   "metadata": {},
   "outputs": [
    {
     "data": {
      "text/plain": [
       "[(589,)]"
      ]
     },
     "execution_count": 735,
     "metadata": {},
     "output_type": "execute_result"
    }
   ],
   "source": [
    "sql = '''\n",
    "WITH RecipeWithRid AS (\n",
    "    SELECT *, ROW_NUMBER() OVER(PARTITION BY year ORDER BY submitted) as rid \n",
    "    FROM RecipeWithYear\n",
    ")\n",
    "\n",
    "SELECT COUNT(id)\n",
    "FROM RecipeWithRid\n",
    "WHERE rid % 50 = 0\n",
    "'''\n",
    "cur.execute(sql).fetchall()"
   ]
  },
  {
   "cell_type": "code",
   "execution_count": null,
   "id": "8d11c7fb",
   "metadata": {},
   "outputs": [],
   "source": []
  }
 ],
 "metadata": {
  "kernelspec": {
   "display_name": "Python 3",
   "language": "python",
   "name": "python3"
  },
  "language_info": {
   "codemirror_mode": {
    "name": "ipython",
    "version": 3
   },
   "file_extension": ".py",
   "mimetype": "text/x-python",
   "name": "python",
   "nbconvert_exporter": "python",
   "pygments_lexer": "ipython3",
   "version": "3.8.8"
  }
 },
 "nbformat": 4,
 "nbformat_minor": 5
}

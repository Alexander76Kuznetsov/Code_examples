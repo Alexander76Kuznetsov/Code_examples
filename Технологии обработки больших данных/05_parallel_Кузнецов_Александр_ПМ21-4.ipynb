{
 "cells": [
  {
   "cell_type": "markdown",
   "metadata": {},
   "source": [
    "# Параллельные вычисления (1)"
   ]
  },
  {
   "cell_type": "markdown",
   "metadata": {},
   "source": [
    "__Автор задач: Блохин Н.В. (NVBlokhin@fa.ru)__\n",
    "\n",
    "Материалы:\n",
    "* Макрушин С.В. Лекция \"Параллельные вычисления\"\n",
    "* https://docs.python.org/3/library/multiprocessing.html\n",
    "    * https://docs.python.org/3/library/multiprocessing.html#multiprocessing.Process\n",
    "    * https://docs.python.org/3/library/multiprocessing.html#multiprocessing.pool.Pool\n",
    "    * https://docs.python.org/3/library/multiprocessing.html#multiprocessing.Queue\n",
    "* https://pandas.pydata.org/docs/reference/api/pandas.read_csv.html\n",
    "* https://numpy.org/doc/stable/reference/generated/numpy.array_split.html"
   ]
  },
  {
   "cell_type": "markdown",
   "metadata": {},
   "source": [
    "## Задачи для совместного разбора"
   ]
  },
  {
   "cell_type": "markdown",
   "metadata": {},
   "source": [
    "1. Посчитайте, сколько раз встречается буква \"a\" в файлах [\"xaa\", \"xab\", \"xac\", \"xad\"], используя пул процессов."
   ]
  },
  {
   "cell_type": "code",
   "execution_count": 5,
   "metadata": {},
   "outputs": [],
   "source": [
    "import multiprocessing\n",
    "\n",
    "files = [f\"{name}.txt\" for name in [\"xaa\", \"xab\", \"xac\", \"xad\"]]"
   ]
  },
  {
   "cell_type": "code",
   "execution_count": 6,
   "metadata": {},
   "outputs": [
    {
     "name": "stdout",
     "output_type": "stream",
     "text": [
      "Overwriting count_a.py\n"
     ]
    }
   ],
   "source": [
    "%%file count_a.py\n",
    "def count_a(file):\n",
    "    with open(file, \"r\", encoding=\"utf8\") as fp:\n",
    "        text = fp.read()\n",
    "    a = text.count(\"a\")\n",
    "    return a"
   ]
  },
  {
   "cell_type": "code",
   "execution_count": 7,
   "metadata": {},
   "outputs": [],
   "source": [
    "from count_a import count_a"
   ]
  },
  {
   "cell_type": "code",
   "execution_count": 8,
   "metadata": {},
   "outputs": [
    {
     "name": "stdout",
     "output_type": "stream",
     "text": [
      "Wall time: 233 ms\n"
     ]
    },
    {
     "data": {
      "text/plain": [
       "8998272"
      ]
     },
     "execution_count": 8,
     "metadata": {},
     "output_type": "execute_result"
    }
   ],
   "source": [
    "%%time\n",
    "a = []\n",
    "for file in files:\n",
    "    r = count_a(file)\n",
    "    a.append(r)\n",
    "sum(a)"
   ]
  },
  {
   "cell_type": "code",
   "execution_count": 9,
   "metadata": {},
   "outputs": [
    {
     "name": "stdout",
     "output_type": "stream",
     "text": [
      "Wall time: 250 ms\n"
     ]
    },
    {
     "data": {
      "text/plain": [
       "8998272"
      ]
     },
     "execution_count": 9,
     "metadata": {},
     "output_type": "execute_result"
    }
   ],
   "source": [
    "%%time\n",
    "with multiprocessing.Pool(processes=4) as pool:\n",
    "    r = pool.map(count_a, files)\n",
    "sum(r)"
   ]
  },
  {
   "cell_type": "code",
   "execution_count": 12,
   "metadata": {},
   "outputs": [],
   "source": [
    "def dvdv(ab):\n",
    "    a, b = ab\n",
    "    print(a*b)"
   ]
  },
  {
   "cell_type": "code",
   "execution_count": 13,
   "metadata": {},
   "outputs": [
    {
     "name": "stdout",
     "output_type": "stream",
     "text": [
      "5\n"
     ]
    }
   ],
   "source": [
    "dvdv((1,5))"
   ]
  },
  {
   "cell_type": "markdown",
   "metadata": {},
   "source": [
    "2. Посчитайте, сколько раз встречается буква \"a\" в файлах [\"xaa\", \"xab\", \"xac\", \"xad\"], используя процессы и очереди."
   ]
  },
  {
   "cell_type": "code",
   "execution_count": 10,
   "metadata": {},
   "outputs": [
    {
     "name": "stdout",
     "output_type": "stream",
     "text": [
      "Writing count_a_2.py\n"
     ]
    }
   ],
   "source": [
    "%%file count_a_2.py\n",
    "def count_a_2(file):\n",
    "    with open(file, \"r\", encoding=\"utf8\") as fp:\n",
    "        text = fp.read()\n",
    "    a = text.count(\"a\")\n",
    "    print(a)\n",
    "    return a"
   ]
  },
  {
   "cell_type": "code",
   "execution_count": 11,
   "metadata": {},
   "outputs": [],
   "source": [
    "from count_a_2 import count_a_2"
   ]
  },
  {
   "cell_type": "code",
   "execution_count": 12,
   "metadata": {},
   "outputs": [
    {
     "name": "stdout",
     "output_type": "stream",
     "text": [
      "Writing count_a_3.py\n"
     ]
    }
   ],
   "source": [
    "%%file count_a_3.py\n",
    "def count_a_3(file, queue):\n",
    "    with open(file, \"r\", encoding=\"utf8\") as fp:\n",
    "        text = fp.read()\n",
    "    a = text.count(\"a\")\n",
    "    print(a)\n",
    "    queue.put(a)"
   ]
  },
  {
   "cell_type": "code",
   "execution_count": 13,
   "metadata": {},
   "outputs": [],
   "source": [
    "from count_a_3 import count_a_3"
   ]
  },
  {
   "cell_type": "code",
   "execution_count": 14,
   "metadata": {},
   "outputs": [
    {
     "name": "stdout",
     "output_type": "stream",
     "text": [
      "Wall time: 234 ms\n"
     ]
    },
    {
     "data": {
      "text/plain": [
       "8998272"
      ]
     },
     "execution_count": 14,
     "metadata": {},
     "output_type": "execute_result"
    }
   ],
   "source": [
    "%%time\n",
    "processes = []\n",
    "queue = multiprocessing.Queue()\n",
    "\n",
    "for file in files:\n",
    "    p = multiprocessing.Process(target=count_a_3, args=(file, queue))\n",
    "    p.start()\n",
    "    processes.append(p)\n",
    "    \n",
    "for p in processes:\n",
    "    p.join()\n",
    "# тут мы уверены, что все процессы завершились\n",
    "\n",
    "res = []\n",
    "while len(res) < 4:\n",
    "    if not queue.empty():\n",
    "        res.append(queue.get())\n",
    "sum(res)"
   ]
  },
  {
   "cell_type": "code",
   "execution_count": null,
   "metadata": {},
   "outputs": [],
   "source": []
  },
  {
   "cell_type": "code",
   "execution_count": null,
   "metadata": {},
   "outputs": [],
   "source": []
  },
  {
   "cell_type": "markdown",
   "metadata": {},
   "source": [
    "## Лабораторная работа 5"
   ]
  },
  {
   "cell_type": "markdown",
   "metadata": {},
   "source": [
    "__При решении данных задач не подразумевается использования циклов или генераторов Python в ходе работы с пакетами `numpy` и `pandas`, если в задании не сказано обратного. Решения задач, в которых для обработки массивов `numpy` или структур `pandas` используются явные циклы (без согласования с преподавателем), могут быть признаны некорректными и не засчитаны.__"
   ]
  },
  {
   "cell_type": "markdown",
   "metadata": {},
   "source": [
    "<p class=\"task\" id=\"1\"></p>\n",
    "\n",
    "1\\. В каждой строке файла `tag_nsteps.csv` хранится информация о тэге рецепта и количестве шагов в этом рецепте в следующем виде:\n",
    "\n",
    "```\n",
    "tags,n_steps\n",
    "hungarian,2\n",
    "european,6\n",
    "occasion,4\n",
    "pumpkin,4\n",
    "................\n",
    "```\n",
    "\n",
    "Всего в исходном файле хранится чуть меньше, чем 71 млн, строк. Разбейте файл `tag_nsteps.csv` на несколько (например, 8) примерно одинаковых по объему файлов c названиями `tag_nsteps_*.csv`, где вместо символа `*` указан номер очередного файла. Каждый файл имеет структуру, аналогичную оригинальному файлу (включая заголовок). \n",
    "\n",
    "При создании файлов выводите на экран сообщения следующего вида:\n",
    "`file: <название файла> #rows: <кол-во строк в этом файле>`\n",
    "\n",
    "__Важно__: здесь и далее вы не можете загружать в память весь исходный файл сразу. "
   ]
  },
  {
   "cell_type": "code",
   "execution_count": 1,
   "metadata": {},
   "outputs": [],
   "source": [
    "import pandas as pd\n",
    "import multiprocessing\n",
    "import numpy as np"
   ]
  },
  {
   "cell_type": "code",
   "execution_count": 2,
   "metadata": {},
   "outputs": [
    {
     "name": "stdout",
     "output_type": "stream",
     "text": [
      "Overwriting get_sample.py\n"
     ]
    }
   ],
   "source": [
    "%%file get_sample.py\n",
    "import pandas as pd\n",
    "def get_sample(i, sizes, queue):\n",
    "    df = pd.read_csv('tag_nsteps.csv', names=['tags', 'n_steps'], skiprows=i*sizes[i-1]+1, nrows=sizes[i])\n",
    "\n",
    "    name = f'tag_nsteps_{i}.csv'\n",
    "    print(f'file: {name} \\n#rows: {df.shape[0]}')\n",
    "    #return f'file: {name} \\n#rows: {df.shape[0]}'\n",
    "    df.to_csv(name, index=False)\n",
    "    queue.put(f'file: {name} \\n#rows: {df.shape[0]}\\n')"
   ]
  },
  {
   "cell_type": "code",
   "execution_count": 3,
   "metadata": {},
   "outputs": [],
   "source": [
    "import get_sample"
   ]
  },
  {
   "cell_type": "code",
   "execution_count": 4,
   "metadata": {},
   "outputs": [
    {
     "data": {
      "text/plain": [
       "8836948"
      ]
     },
     "execution_count": 4,
     "metadata": {},
     "output_type": "execute_result"
    }
   ],
   "source": [
    "n = 70695585\n",
    "num_parts = 8\n",
    "size_one = int(n/num_parts)\n",
    "size_one"
   ]
  },
  {
   "cell_type": "code",
   "execution_count": 5,
   "metadata": {},
   "outputs": [
    {
     "data": {
      "text/plain": [
       "True"
      ]
     },
     "execution_count": 5,
     "metadata": {},
     "output_type": "execute_result"
    }
   ],
   "source": [
    "sizes = [size_one]*7 + [size_one+1]\n",
    "sum(sizes) == n"
   ]
  },
  {
   "cell_type": "code",
   "execution_count": 6,
   "metadata": {},
   "outputs": [
    {
     "name": "stdout",
     "output_type": "stream",
     "text": [
      "file: tag_nsteps_0.csv \n",
      "#rows: 8836948\n",
      "\n",
      "file: tag_nsteps_1.csv \n",
      "#rows: 8836948\n",
      "\n",
      "file: tag_nsteps_2.csv \n",
      "#rows: 8836948\n",
      "\n",
      "file: tag_nsteps_3.csv \n",
      "#rows: 8836948\n",
      "\n",
      "file: tag_nsteps_4.csv \n",
      "#rows: 8836948\n",
      "\n",
      "file: tag_nsteps_5.csv \n",
      "#rows: 8836948\n",
      "\n",
      "file: tag_nsteps_6.csv \n",
      "#rows: 8836948\n",
      "\n",
      "file: tag_nsteps_7.csv \n",
      "#rows: 8836949\n",
      "\n",
      "Wall time: 23.6 s\n"
     ]
    }
   ],
   "source": [
    "%%time\n",
    "processes = []\n",
    "queue = multiprocessing.Queue()\n",
    "\n",
    "for i in range(num_parts):\n",
    "    p = multiprocessing.Process(target=get_sample.get_sample, args=(i, sizes, queue))\n",
    "    p.start()\n",
    "    processes.append(p)\n",
    "\n",
    "for p in processes:\n",
    "    p.join()\n",
    "# тут мы уверены, что все процессы завершились\n",
    "\n",
    "while not queue.empty():\n",
    "    print(queue.get())"
   ]
  },
  {
   "cell_type": "markdown",
   "metadata": {},
   "source": [
    "<p class=\"task\" id=\"2\"></p>\n",
    "\n",
    "2\\. Напишите функцию, которая принимает на вход название файла, созданного в результате решения задачи 1, считает для каждого тэга сумму по столбцу `n_steps` и количество строк c этим тэгом, и возвращает результат в виде словаря. Ожидаемый вид итогового словаря:\n",
    "\n",
    "```\n",
    "{\n",
    "    '1-day-or-more': {'sum': 56616, 'count': 12752},\n",
    "    '15-minutes-or-less': {'sum': 195413, 'count': 38898},\n",
    "    '3-steps-or-less': {'sum': 187938, 'count': 39711},\n",
    "    ....\n",
    "}\n",
    "```\n",
    "\n",
    "Примените данную функцию к каждому файлу, полученному в задании 1, и соберите результат в виде списка словарей. Не используйте параллельных вычислений. \n",
    "\n",
    "Выведите на экран значение по ключу \"30-minutes-or-less\" для каждого из словарей."
   ]
  },
  {
   "cell_type": "code",
   "execution_count": 7,
   "metadata": {},
   "outputs": [],
   "source": [
    "files = [f'tag_nsteps_{i}.csv' for i in range(8)]"
   ]
  },
  {
   "cell_type": "code",
   "execution_count": 8,
   "metadata": {},
   "outputs": [],
   "source": [
    "def get_tag_sum_count_from_file(file: str) -> dict:\n",
    "    df2 = pd.read_csv(file)\n",
    "    f = df2.groupby('tags').agg({'n_steps': 'sum', 'tags': 'count'}).rename(columns={'n_steps': 'sum', 'tags': 'count'})\n",
    "    return f.T.to_dict()"
   ]
  },
  {
   "cell_type": "code",
   "execution_count": 9,
   "metadata": {},
   "outputs": [
    {
     "name": "stdout",
     "output_type": "stream",
     "text": [
      "tag_nsteps_0.csv - \"30-minutes-or-less\": {'sum': 347663, 'count': 45422}\n",
      "tag_nsteps_1.csv - \"30-minutes-or-less\": {'sum': 348230, 'count': 45827}\n",
      "tag_nsteps_2.csv - \"30-minutes-or-less\": {'sum': 352485, 'count': 46136}\n",
      "tag_nsteps_3.csv - \"30-minutes-or-less\": {'sum': 346169, 'count': 45423}\n",
      "tag_nsteps_4.csv - \"30-minutes-or-less\": {'sum': 344724, 'count': 45414}\n",
      "tag_nsteps_5.csv - \"30-minutes-or-less\": {'sum': 349181, 'count': 45883}\n",
      "tag_nsteps_6.csv - \"30-minutes-or-less\": {'sum': 345148, 'count': 45606}\n",
      "tag_nsteps_7.csv - \"30-minutes-or-less\": {'sum': 349605, 'count': 46071}\n",
      "Wall time: 24.2 s\n"
     ]
    }
   ],
   "source": [
    "%%time\n",
    "res2 = []\n",
    "for file in files:\n",
    "    d = get_tag_sum_count_from_file(file)\n",
    "    print(f'{file} - \"30-minutes-or-less\": {d[\"30-minutes-or-less\"]}')\n",
    "    res2.append(d)"
   ]
  },
  {
   "cell_type": "markdown",
   "metadata": {},
   "source": [
    "<p class=\"task\" id=\"3\"></p>\n",
    "\n",
    "3\\. Напишите функцию, которая объединяет результаты обработки отдельных файлов. Данная функция принимает на вход список словарей, каждый из которых является результатом вызова функции `get_tag_sum_count_from_file` для конкретного файла, и агрегирует эти словари. Не используйте параллельных вычислений.\n",
    "\n",
    "Процедура агрегации словарей имеет следующий вид:\n",
    "$$d_{agg}[k] = \\{sum: \\sum_{i=1}^{n}d_{i}[k][sum], count: \\sum_{i=1}^{n}d_{i}[k][count]\\}$$\n",
    "где $d_1, d_2, ..., d_n$- результат вызова функции `get_tag_sum_count_from_file` для конкретных файлов.\n",
    "\n",
    "Примените данную функцию к результату выполнения задания 2. Выведите на экран результат для тэга \"30-minutes-or-less\"."
   ]
  },
  {
   "cell_type": "code",
   "execution_count": 10,
   "metadata": {},
   "outputs": [
    {
     "data": {
      "text/plain": [
       "True"
      ]
     },
     "execution_count": 10,
     "metadata": {},
     "output_type": "execute_result"
    }
   ],
   "source": [
    "res2[0].keys() == res2[1].keys() == res2[1].keys() == res2[3].keys() == res2[4].keys() == res2[5].keys() == res2[6].keys() == res2[7].keys()"
   ]
  },
  {
   "cell_type": "code",
   "execution_count": 11,
   "metadata": {},
   "outputs": [],
   "source": [
    "#def agg_results(tag_sum_count_list: list) -> dict:\n",
    "#    d_agg = pd.DataFrame(tag_sum_count_list[0]).T\n",
    "#    for i in tag_sum_count_list[1:]:\n",
    "#        d_agg += pd.DataFrame(i).T\n",
    "#    d_agg = d_agg.T.to_dict()\n",
    "#    return d_agg"
   ]
  },
  {
   "cell_type": "code",
   "execution_count": 12,
   "metadata": {},
   "outputs": [],
   "source": [
    "#res3 = agg_results(res2)\n",
    "#res3[\"30-minutes-or-less\"]"
   ]
  },
  {
   "cell_type": "code",
   "execution_count": 13,
   "metadata": {},
   "outputs": [],
   "source": [
    "def agg_results(tag_sum_count_list: list) -> dict:\n",
    "    d_agg = tag_sum_count_list[0].copy()\n",
    "    for i in tag_sum_count_list[1:]:\n",
    "        for k,v in i.items():\n",
    "            s_new = v['sum'] + d_agg.get(k,{'sum': 0, 'count': 0})['sum']\n",
    "            c_new = v['count'] + d_agg.get(k,{'sum': 0, 'count': 0})['count']\n",
    "            d_agg[k] = {'sum': s_new, 'count': c_new}\n",
    "    return d_agg"
   ]
  },
  {
   "cell_type": "code",
   "execution_count": 30,
   "metadata": {},
   "outputs": [
    {
     "name": "stdout",
     "output_type": "stream",
     "text": [
      "Wall time: 2.99 ms\n"
     ]
    },
    {
     "data": {
      "text/plain": [
       "{'sum': 2783205, 'count': 365782}"
      ]
     },
     "execution_count": 30,
     "metadata": {},
     "output_type": "execute_result"
    }
   ],
   "source": [
    "%%time\n",
    "res3 = agg_results(res2)\n",
    "res3[\"30-minutes-or-less\"]"
   ]
  },
  {
   "cell_type": "markdown",
   "metadata": {},
   "source": [
    "<p class=\"task\" id=\"4\"></p>\n",
    "\n",
    "4\\. Напишите функцию, которая считает среднее значение количества шагов для каждого тэга в словаре. Используйте решения задач 1-3, чтобы получить среднее значение количества шагов каждого тэга для всего датасета, имея результаты обработки частей датасета и результат их агрегации. Выведите на экран результат для тэга \"30-minutes-or-less\".\n",
    "\n",
    "Определите, за какое время задача решается для всего датасета. При замере времени учитывайте время расчета статистики для каждого файла, агрегации результатов и, собственно, вычисления средного. Временем, затрачиваемым на процедуру разбиения исходного файла, можно пренебречь."
   ]
  },
  {
   "cell_type": "code",
   "execution_count": 15,
   "metadata": {},
   "outputs": [],
   "source": [
    "def get_tag_mean_n_steps(tag_sum_count: dict) -> dict:\n",
    "    # tag_sum_count - результат вызова agg_results\n",
    "    d_mean = {}\n",
    "    for k, v in tag_sum_count.items():\n",
    "        d_mean[k] = v['sum']/v['count']\n",
    "    return d_mean"
   ]
  },
  {
   "cell_type": "code",
   "execution_count": 31,
   "metadata": {},
   "outputs": [
    {
     "name": "stdout",
     "output_type": "stream",
     "text": [
      "Wall time: 0 ns\n"
     ]
    },
    {
     "data": {
      "text/plain": [
       "7.608917333275011"
      ]
     },
     "execution_count": 31,
     "metadata": {},
     "output_type": "execute_result"
    }
   ],
   "source": [
    "%%time\n",
    "res4 = get_tag_mean_n_steps(res3)\n",
    "res4[\"30-minutes-or-less\"]"
   ]
  },
  {
   "cell_type": "markdown",
   "metadata": {},
   "source": [
    "* время расчета статистики для каждого файла = 24.2 s\n",
    "* время агрегации результатов = 2.99 ms\n",
    "* время вычисления средного = 0"
   ]
  },
  {
   "cell_type": "code",
   "execution_count": 32,
   "metadata": {},
   "outputs": [
    {
     "name": "stdout",
     "output_type": "stream",
     "text": [
      "общее время = 24.20299 s\n"
     ]
    }
   ],
   "source": [
    "print(f'общее время = {24.2+2.99/1000+0} s')"
   ]
  },
  {
   "cell_type": "markdown",
   "metadata": {},
   "source": [
    "<p class=\"task\" id=\"5\"></p>\n",
    "\n",
    "5\\. Повторите решение задачи 4, распараллелив вызовы функции `get_tag_sum_count_from_file` для различных файлов с помощью `multiprocessing.Pool`. Для обработки каждого файла создайте свой собственный процесс. Выведите на экран результат для тэга \"30-minutes-or-less\". Определите, за какое время задача решается для всех файлов. При замере времени учитывайте время расчета статистики для каждого файла, агрегации результатов и, собственно, вычисления средного. Временем, затрачиваемым на процедуру разбиения исходного файла можно пренебречь."
   ]
  },
  {
   "cell_type": "code",
   "execution_count": 18,
   "metadata": {},
   "outputs": [
    {
     "name": "stdout",
     "output_type": "stream",
     "text": [
      "Overwriting get_tag_sum_count_from_file2.py\n"
     ]
    }
   ],
   "source": [
    "%%file get_tag_sum_count_from_file2.py\n",
    "def get_tag_sum_count_from_file2(file: str) -> dict:\n",
    "    import pandas as pd\n",
    "    df2 = pd.read_csv(file)\n",
    "    f = df2.groupby('tags').agg({'n_steps': 'sum', 'tags': 'count'}).rename(columns={'n_steps': 'sum', 'tags': 'count'})\n",
    "    return f.T.to_dict()"
   ]
  },
  {
   "cell_type": "code",
   "execution_count": 19,
   "metadata": {},
   "outputs": [],
   "source": [
    "from get_tag_sum_count_from_file2 import get_tag_sum_count_from_file2"
   ]
  },
  {
   "cell_type": "code",
   "execution_count": 20,
   "metadata": {},
   "outputs": [
    {
     "name": "stdout",
     "output_type": "stream",
     "text": [
      "Wall time: 6.4 s\n"
     ]
    }
   ],
   "source": [
    "%%time\n",
    "with multiprocessing.Pool(processes=8) as pool:\n",
    "    tag_sum_count_list5 = pool.map(get_tag_sum_count_from_file2, files)"
   ]
  },
  {
   "cell_type": "code",
   "execution_count": 21,
   "metadata": {},
   "outputs": [
    {
     "name": "stdout",
     "output_type": "stream",
     "text": [
      "\"30-minutes-or-less\": {'sum': 347663, 'count': 45422}\n",
      "\"30-minutes-or-less\": {'sum': 348230, 'count': 45827}\n",
      "\"30-minutes-or-less\": {'sum': 352485, 'count': 46136}\n",
      "\"30-minutes-or-less\": {'sum': 346169, 'count': 45423}\n",
      "\"30-minutes-or-less\": {'sum': 344724, 'count': 45414}\n",
      "\"30-minutes-or-less\": {'sum': 349181, 'count': 45883}\n",
      "\"30-minutes-or-less\": {'sum': 345148, 'count': 45606}\n",
      "\"30-minutes-or-less\": {'sum': 349605, 'count': 46071}\n"
     ]
    }
   ],
   "source": [
    "for i in tag_sum_count_list5:\n",
    "    print(f'\"30-minutes-or-less\": {i[\"30-minutes-or-less\"]}')"
   ]
  },
  {
   "cell_type": "code",
   "execution_count": 28,
   "metadata": {},
   "outputs": [
    {
     "name": "stdout",
     "output_type": "stream",
     "text": [
      "Wall time: 2.99 ms\n"
     ]
    },
    {
     "data": {
      "text/plain": [
       "{'sum': 2783205, 'count': 365782}"
      ]
     },
     "execution_count": 28,
     "metadata": {},
     "output_type": "execute_result"
    }
   ],
   "source": [
    "%%time\n",
    "tag_sum_count5 = agg_results(tag_sum_count_list5)\n",
    "tag_sum_count5[\"30-minutes-or-less\"]"
   ]
  },
  {
   "cell_type": "code",
   "execution_count": 29,
   "metadata": {},
   "outputs": [
    {
     "name": "stdout",
     "output_type": "stream",
     "text": [
      "Wall time: 0 ns\n"
     ]
    },
    {
     "data": {
      "text/plain": [
       "7.608917333275011"
      ]
     },
     "execution_count": 29,
     "metadata": {},
     "output_type": "execute_result"
    }
   ],
   "source": [
    "%%time\n",
    "tag_mean_n_steps5 = get_tag_mean_n_steps(tag_sum_count5)\n",
    "tag_mean_n_steps5[\"30-minutes-or-less\"]"
   ]
  },
  {
   "cell_type": "markdown",
   "metadata": {},
   "source": [
    "* время расчета статистики для каждого файла = 6.4 s\n",
    "* время агрегации результатов = 2.99 ms\n",
    "* время вычисления средного = 0"
   ]
  },
  {
   "cell_type": "code",
   "execution_count": 33,
   "metadata": {},
   "outputs": [
    {
     "name": "stdout",
     "output_type": "stream",
     "text": [
      "общее время = 6.40299 s\n"
     ]
    }
   ],
   "source": [
    "print(f'общее время = {6.4+2.99/1000+0} s')"
   ]
  },
  {
   "cell_type": "markdown",
   "metadata": {},
   "source": [
    "<p class=\"task\" id=\"6\"></p>\n",
    "\n",
    "6\\. Повторите решение задачи 4, распараллелив вычисления функции `get_tag_sum_count_from_file` для различных файлов с помощью `multiprocessing.Process`. Для обработки каждого файла создайте свой собственный процесс. Для обмена данными между процессами используйте `multiprocessing.Queue`.\n",
    "\n",
    "Выведите на экран результат для тэга \"30-minutes-or-less\". Определите, за какое время задача решается для всех файлов. При замере времени учитывайте время расчета статистики для каждого файла, агрегации результатов и, собственно, вычисления средного. Временем, затрачиваемым на процедуру разбиения исходного файла можно пренебречь."
   ]
  },
  {
   "cell_type": "code",
   "execution_count": 25,
   "metadata": {},
   "outputs": [
    {
     "name": "stdout",
     "output_type": "stream",
     "text": [
      "Overwriting get_tag_sum_count_from_file3.py\n"
     ]
    }
   ],
   "source": [
    "%%file get_tag_sum_count_from_file3.py\n",
    "def get_tag_sum_count_from_file3(file: str, queue):\n",
    "    import pandas as pd\n",
    "    df2 = pd.read_csv(file)\n",
    "    f = df2.groupby('tags').agg({'n_steps': 'sum', 'tags': 'count'}).rename(columns={'n_steps': 'sum', 'tags': 'count'})\n",
    "    queue.put(f.T.to_dict())"
   ]
  },
  {
   "cell_type": "code",
   "execution_count": 26,
   "metadata": {},
   "outputs": [],
   "source": [
    "from get_tag_sum_count_from_file3 import get_tag_sum_count_from_file3"
   ]
  },
  {
   "cell_type": "code",
   "execution_count": 27,
   "metadata": {},
   "outputs": [
    {
     "name": "stdout",
     "output_type": "stream",
     "text": [
      "Wall time: 7.83 s\n"
     ]
    },
    {
     "data": {
      "text/plain": [
       "7.608917333275011"
      ]
     },
     "execution_count": 27,
     "metadata": {},
     "output_type": "execute_result"
    }
   ],
   "source": [
    "%%time\n",
    "#processes = []\n",
    "queue = multiprocessing.Queue()\n",
    "\n",
    "for file in files:\n",
    "    p = multiprocessing.Process(target=get_tag_sum_count_from_file3, args=(file, queue))\n",
    "    p.start()\n",
    "#    processes.append(p)\n",
    "    \n",
    "#for p in processes:\n",
    "#    p.join()\n",
    "# тут мы уверены, что все процессы завершились\n",
    "\n",
    "tag_sum_count_list6 = []\n",
    "while len(tag_sum_count_list6) < 8:\n",
    "    if not queue.empty():\n",
    "        tag_sum_count_list6.append(queue.get())\n",
    "        \n",
    "tag_sum_count6 = agg_results(tag_sum_count_list6)\n",
    "tag_mean_n_steps6 = get_tag_mean_n_steps(tag_sum_count6)\n",
    "tag_mean_n_steps6[\"30-minutes-or-less\"]"
   ]
  },
  {
   "cell_type": "markdown",
   "metadata": {},
   "source": [
    "<p class=\"task\" id=\"7\"></p>\n",
    "\n",
    "7\\. Исследуйте, как влияет количество запущенных одновременно процессов на скорость решения задачи. Узнайте количество ядер вашего процессора $K$ (воспользуйтесь функцией `multiprocessing.cpu_count`). Повторите решение задачи 1, разбив исходный файл на $\\frac{K}{2}$, $K$ и $2K$ фрагментов. Для каждого из разбиений повторите решение задачи 5. Визуализируйте зависимость времени выполнения кода от количества файлов в разбиении. Сделайте вывод в виде текстового комментария."
   ]
  },
  {
   "cell_type": "code",
   "execution_count": 36,
   "metadata": {},
   "outputs": [
    {
     "data": {
      "text/plain": [
       "12"
      ]
     },
     "execution_count": 36,
     "metadata": {},
     "output_type": "execute_result"
    }
   ],
   "source": [
    "K = multiprocessing.cpu_count()\n",
    "K"
   ]
  },
  {
   "cell_type": "code",
   "execution_count": 71,
   "metadata": {},
   "outputs": [
    {
     "data": {
      "text/plain": [
       "[11782597.5, 5891298.75, 2945649.375]"
      ]
     },
     "execution_count": 71,
     "metadata": {},
     "output_type": "execute_result"
    }
   ],
   "source": [
    "n = 70695585\n",
    "num_parts = [int(K/2), K, 2*K]\n",
    "size_one = [n/num_parts[i] for i in range(3)]\n",
    "size_one"
   ]
  },
  {
   "cell_type": "code",
   "execution_count": 76,
   "metadata": {},
   "outputs": [
    {
     "data": {
      "text/plain": [
       "([70695585, 70695585, 70695585], 70695585)"
      ]
     },
     "execution_count": 76,
     "metadata": {},
     "output_type": "execute_result"
    }
   ],
   "source": [
    "sizes = [[round(size_one[i])]*(num_parts[i]-1) + [n-round(size_one[i])*(num_parts[i]-1)] for i in range(3)]\n",
    "[sum(size) for size in sizes], n"
   ]
  },
  {
   "cell_type": "code",
   "execution_count": 79,
   "metadata": {},
   "outputs": [
    {
     "data": {
      "text/plain": [
       "[11782598, 11782598, 11782598, 11782598, 11782598, 11782595]"
      ]
     },
     "execution_count": 79,
     "metadata": {},
     "output_type": "execute_result"
    }
   ],
   "source": [
    "sizes[0]"
   ]
  },
  {
   "cell_type": "code",
   "execution_count": 82,
   "metadata": {},
   "outputs": [
    {
     "data": {
      "text/plain": [
       "['tag_nsteps_0.csv',\n",
       " 'tag_nsteps_1.csv',\n",
       " 'tag_nsteps_2.csv',\n",
       " 'tag_nsteps_3.csv',\n",
       " 'tag_nsteps_4.csv',\n",
       " 'tag_nsteps_5.csv']"
      ]
     },
     "execution_count": 82,
     "metadata": {},
     "output_type": "execute_result"
    }
   ],
   "source": [
    "files = [[f'tag_nsteps_{i}.csv' for i in range(num_parts[j])] for j in range(3)]\n",
    "files[0]"
   ]
  },
  {
   "cell_type": "code",
   "execution_count": 83,
   "metadata": {},
   "outputs": [
    {
     "name": "stdout",
     "output_type": "stream",
     "text": [
      "file: tag_nsteps_0.csv \n",
      "#rows: 11782598\n",
      "\n",
      "file: tag_nsteps_1.csv \n",
      "#rows: 11782598\n",
      "\n",
      "file: tag_nsteps_2.csv \n",
      "#rows: 11782598\n",
      "\n",
      "file: tag_nsteps_3.csv \n",
      "#rows: 11782598\n",
      "\n",
      "file: tag_nsteps_4.csv \n",
      "#rows: 11782598\n",
      "\n",
      "file: tag_nsteps_5.csv \n",
      "#rows: 11782595\n",
      "\n",
      "Wall time: 30.8 s\n"
     ]
    },
    {
     "data": {
      "text/plain": [
       "7.608917333275011"
      ]
     },
     "execution_count": 83,
     "metadata": {},
     "output_type": "execute_result"
    }
   ],
   "source": [
    "%%time\n",
    "processes = []\n",
    "queue = multiprocessing.Queue()\n",
    "ex = 0\n",
    "\n",
    "for i in range(num_parts[ex]):\n",
    "    p = multiprocessing.Process(target=get_sample.get_sample, args=(i, sizes[ex], queue))\n",
    "    p.start()\n",
    "    processes.append(p)\n",
    "\n",
    "for p in processes:\n",
    "    p.join()\n",
    "# тут мы уверены, что все процессы завершились\n",
    "\n",
    "while not queue.empty():\n",
    "    print(queue.get())\n",
    "    \n",
    "with multiprocessing.Pool(processes=num_parts[ex]) as pool:\n",
    "    tag_sum_count_list7_1 = pool.map(get_tag_sum_count_from_file2, files[ex])\n",
    "    \n",
    "tag_sum_count7_1 = agg_results(tag_sum_count_list7_1)\n",
    "\n",
    "tag_mean_n_steps7_1 = get_tag_mean_n_steps(tag_sum_count7_1)\n",
    "\n",
    "tag_mean_n_steps7_1[\"30-minutes-or-less\"]"
   ]
  },
  {
   "cell_type": "code",
   "execution_count": 84,
   "metadata": {},
   "outputs": [
    {
     "name": "stdout",
     "output_type": "stream",
     "text": [
      "file: tag_nsteps_0.csv \n",
      "#rows: 5891299\n",
      "\n",
      "file: tag_nsteps_1.csv \n",
      "#rows: 5891299\n",
      "\n",
      "file: tag_nsteps_2.csv \n",
      "#rows: 5891299\n",
      "\n",
      "file: tag_nsteps_3.csv \n",
      "#rows: 5891299\n",
      "\n",
      "file: tag_nsteps_4.csv \n",
      "#rows: 5891299\n",
      "\n",
      "file: tag_nsteps_5.csv \n",
      "#rows: 5891299\n",
      "\n",
      "file: tag_nsteps_6.csv \n",
      "#rows: 5891299\n",
      "\n",
      "file: tag_nsteps_7.csv \n",
      "#rows: 5891299\n",
      "\n",
      "file: tag_nsteps_8.csv \n",
      "#rows: 5891299\n",
      "\n",
      "file: tag_nsteps_9.csv \n",
      "#rows: 5891299\n",
      "\n",
      "file: tag_nsteps_10.csv \n",
      "#rows: 5891299\n",
      "\n",
      "file: tag_nsteps_11.csv \n",
      "#rows: 5891296\n",
      "\n",
      "Wall time: 32.8 s\n"
     ]
    },
    {
     "data": {
      "text/plain": [
       "7.608917333275011"
      ]
     },
     "execution_count": 84,
     "metadata": {},
     "output_type": "execute_result"
    }
   ],
   "source": [
    "%%time\n",
    "processes = []\n",
    "queue = multiprocessing.Queue()\n",
    "ex = 1\n",
    "\n",
    "for i in range(num_parts[ex]):\n",
    "    p = multiprocessing.Process(target=get_sample.get_sample, args=(i, sizes[ex], queue))\n",
    "    p.start()\n",
    "    processes.append(p)\n",
    "\n",
    "for p in processes:\n",
    "    p.join()\n",
    "# тут мы уверены, что все процессы завершились\n",
    "\n",
    "while not queue.empty():\n",
    "    print(queue.get())\n",
    "    \n",
    "with multiprocessing.Pool(processes=num_parts[ex]) as pool:\n",
    "    tag_sum_count_list7_1 = pool.map(get_tag_sum_count_from_file2, files[ex])\n",
    "    \n",
    "tag_sum_count7_1 = agg_results(tag_sum_count_list7_1)\n",
    "\n",
    "tag_mean_n_steps7_1 = get_tag_mean_n_steps(tag_sum_count7_1)\n",
    "\n",
    "tag_mean_n_steps7_1[\"30-minutes-or-less\"]"
   ]
  },
  {
   "cell_type": "code",
   "execution_count": 85,
   "metadata": {},
   "outputs": [
    {
     "name": "stdout",
     "output_type": "stream",
     "text": [
      "file: tag_nsteps_0.csv \n",
      "#rows: 2945649\n",
      "\n",
      "file: tag_nsteps_1.csv \n",
      "#rows: 2945649\n",
      "\n",
      "file: tag_nsteps_2.csv \n",
      "#rows: 2945649\n",
      "\n",
      "file: tag_nsteps_4.csv \n",
      "#rows: 2945649\n",
      "\n",
      "file: tag_nsteps_3.csv \n",
      "#rows: 2945649\n",
      "\n",
      "file: tag_nsteps_8.csv \n",
      "#rows: 2945649\n",
      "\n",
      "file: tag_nsteps_6.csv \n",
      "#rows: 2945649\n",
      "\n",
      "file: tag_nsteps_5.csv \n",
      "#rows: 2945649\n",
      "\n",
      "file: tag_nsteps_7.csv \n",
      "#rows: 2945649\n",
      "\n",
      "file: tag_nsteps_10.csv \n",
      "#rows: 2945649\n",
      "\n",
      "file: tag_nsteps_11.csv \n",
      "#rows: 2945649\n",
      "\n",
      "file: tag_nsteps_9.csv \n",
      "#rows: 2945649\n",
      "\n",
      "file: tag_nsteps_12.csv \n",
      "#rows: 2945649\n",
      "\n",
      "file: tag_nsteps_13.csv \n",
      "#rows: 2945649\n",
      "\n",
      "file: tag_nsteps_15.csv \n",
      "#rows: 2945649\n",
      "\n",
      "file: tag_nsteps_14.csv \n",
      "#rows: 2945649\n",
      "\n",
      "file: tag_nsteps_16.csv \n",
      "#rows: 2945649\n",
      "\n",
      "file: tag_nsteps_17.csv \n",
      "#rows: 2945649\n",
      "\n",
      "file: tag_nsteps_20.csv \n",
      "#rows: 2945649\n",
      "\n",
      "file: tag_nsteps_18.csv \n",
      "#rows: 2945649\n",
      "\n",
      "file: tag_nsteps_19.csv \n",
      "#rows: 2945649\n",
      "\n",
      "file: tag_nsteps_21.csv \n",
      "#rows: 2945649\n",
      "\n",
      "file: tag_nsteps_23.csv \n",
      "#rows: 2945658\n",
      "\n",
      "file: tag_nsteps_22.csv \n",
      "#rows: 2945649\n",
      "\n",
      "Wall time: 41 s\n"
     ]
    },
    {
     "data": {
      "text/plain": [
       "7.608917333275011"
      ]
     },
     "execution_count": 85,
     "metadata": {},
     "output_type": "execute_result"
    }
   ],
   "source": [
    "%%time\n",
    "processes = []\n",
    "queue = multiprocessing.Queue()\n",
    "ex = 2\n",
    "\n",
    "for i in range(num_parts[ex]):\n",
    "    p = multiprocessing.Process(target=get_sample.get_sample, args=(i, sizes[ex], queue))\n",
    "    p.start()\n",
    "    processes.append(p)\n",
    "\n",
    "for p in processes:\n",
    "    p.join()\n",
    "# тут мы уверены, что все процессы завершились\n",
    "\n",
    "while not queue.empty():\n",
    "    print(queue.get())\n",
    "    \n",
    "with multiprocessing.Pool(processes=num_parts[ex]) as pool:\n",
    "    tag_sum_count_list7_1 = pool.map(get_tag_sum_count_from_file2, files[ex])\n",
    "    \n",
    "tag_sum_count7_1 = agg_results(tag_sum_count_list7_1)\n",
    "\n",
    "tag_mean_n_steps7_1 = get_tag_mean_n_steps(tag_sum_count7_1)\n",
    "\n",
    "tag_mean_n_steps7_1[\"30-minutes-or-less\"]"
   ]
  },
  {
   "cell_type": "code",
   "execution_count": 87,
   "metadata": {},
   "outputs": [],
   "source": [
    "import matplotlib.pyplot as plt"
   ]
  },
  {
   "cell_type": "code",
   "execution_count": 95,
   "metadata": {},
   "outputs": [
    {
     "data": {
      "text/plain": [
       "Text(0, 0.5, 'время выполнения кода, s')"
      ]
     },
     "execution_count": 95,
     "metadata": {},
     "output_type": "execute_result"
    },
    {
     "data": {
      "image/png": "[encoded data removed]",
      "text/plain": [
       "<Figure size 432x288 with 1 Axes>"
      ]
     },
     "metadata": {
      "needs_background": "light"
     },
     "output_type": "display_data"
    }
   ],
   "source": [
    "time = [30.8, 32.8, 41]\n",
    "\n",
    "plt.scatter(num_parts, time)\n",
    "plt.xlabel('количество файлов в разбиении')\n",
    "plt.ylabel('время выполнения кода, s')"
   ]
  },
  {
   "cell_type": "code",
   "execution_count": 96,
   "metadata": {},
   "outputs": [
    {
     "data": {
      "text/plain": [
       "Text(0, 0.5, 'время выполнения кода, s')"
      ]
     },
     "execution_count": 96,
     "metadata": {},
     "output_type": "execute_result"
    },
    {
     "data": {
      "image/png": "[encoded data removed]",
      "text/plain": [
       "<Figure size 432x288 with 1 Axes>"
      ]
     },
     "metadata": {
      "needs_background": "light"
     },
     "output_type": "display_data"
    }
   ],
   "source": [
    "time = [30.8, 32.8, 41]\n",
    "\n",
    "plt.plot(num_parts, time)\n",
    "plt.xlabel('количество файлов в разбиении')\n",
    "plt.ylabel('время выполнения кода, s')"
   ]
  },
  {
   "cell_type": "markdown",
   "metadata": {},
   "source": [
    "* Разбиение на большее кол-во файлов приводит к увеличению времени выполнения кода"
   ]
  },
  {
   "cell_type": "code",
   "execution_count": null,
   "metadata": {},
   "outputs": [],
   "source": []
  }
 ],
 "metadata": {
  "kernelspec": {
   "display_name": "Python 3",
   "language": "python",
   "name": "python3"
  },
  "language_info": {
   "codemirror_mode": {
    "name": "ipython",
    "version": 3
   },
   "file_extension": ".py",
   "mimetype": "text/x-python",
   "name": "python",
   "nbconvert_exporter": "python",
   "pygments_lexer": "ipython3",
   "version": "3.8.8"
  }
 },
 "nbformat": 4,
 "nbformat_minor": 4
}

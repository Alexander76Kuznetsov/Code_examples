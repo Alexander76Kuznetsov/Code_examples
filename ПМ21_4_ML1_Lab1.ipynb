{
 "cells": [
  {
   "cell_type": "code",
   "execution_count": 1,
   "metadata": {
    "id": "jSyZ-lnCCzqJ"
   },
   "outputs": [],
   "source": [
    "import numpy as np\n",
    "import pandas as pd\n",
    "import matplotlib.pyplot as plt\n",
    "import seaborn as sns"
   ]
  },
  {
   "cell_type": "code",
   "execution_count": 2,
   "metadata": {
    "id": "qnA20WM7DrPz"
   },
   "outputs": [],
   "source": [
    "x = pd.read_csv('https://raw.githubusercontent.com/koroteevmv/ML_course/main/ML1.1_sgd/data/x.csv', index_col=0)['0']\n",
    "y = pd.read_csv('https://raw.githubusercontent.com/koroteevmv/ML_course/main/ML1.1_sgd/data/y.csv', index_col=0)['0']"
   ]
  },
  {
   "cell_type": "code",
   "execution_count": 3,
   "metadata": {
    "colab": {
     "base_uri": "https://localhost:8080/",
     "height": 265
    },
    "id": "N2-jqBVmEFlZ",
    "outputId": "6f93207c-98f8-4012-d1f2-08f5598ca31c"
   },
   "outputs": [
    {
     "data": {
      "image/png": "[encoded data removed]",
      "text/plain": [
       "<Figure size 432x288 with 1 Axes>"
      ]
     },
     "metadata": {
      "needs_background": "light"
     },
     "output_type": "display_data"
    }
   ],
   "source": [
    "plt.scatter(x, y);"
   ]
  },
  {
   "cell_type": "code",
   "execution_count": 4,
   "metadata": {
    "id": "5mnVdKSaE2Xg"
   },
   "outputs": [],
   "source": [
    "class Model(object):\n",
    "    \"\"\"Модель парной линейной регрессии\"\"\"\n",
    "    def __init__(self, b0, b1):\n",
    "        self.b0 = b0\n",
    "        self.b1 = b1\n",
    "    def predict(self, X):\n",
    "        return self.b0 + self.b1 * X\n",
    "    def error(self, X, Y):\n",
    "        return sum(((self.predict(X) - Y)**2) / (2 * len(X)))\n",
    "    def fit(self, X, Y, alpha=0.001, accuracy=0.01, max_steps=5000):\n",
    "        steps, errors = [], []\n",
    "        step = 0        \n",
    "        for _ in range(10000):\n",
    "            dJ0 = sum(self.predict(X) - Y) / len(X)\n",
    "            dJ1 = sum((self.predict(X) - Y) * X) / len(X)\n",
    "            self.b0 -= alpha * dJ0\n",
    "            self.b1 -= alpha * dJ1    \n",
    "            new_err = hyp.error(X, Y)\n",
    "            step += 1            \n",
    "            steps.append(step)\n",
    "            errors.append(new_err)\n",
    "        return steps, errors"
   ]
  },
  {
   "cell_type": "markdown",
   "metadata": {
    "id": "tWCS0x7-PNuj"
   },
   "source": [
    "# 1\n",
    "**Проверьте работу модели с разными начальными значениями параметров. Убедитесь, что модель всегда сходится к оптимуму.**"
   ]
  },
  {
   "cell_type": "markdown",
   "metadata": {
    "id": "M0-4TgaNP1O-"
   },
   "source": [
    "## b0 = 0, b1 = 0"
   ]
  },
  {
   "cell_type": "code",
   "execution_count": 5,
   "metadata": {
    "colab": {
     "base_uri": "https://localhost:8080/"
    },
    "id": "9vozr8oSPAjs",
    "outputId": "c5616972-8e5d-4621-cac1-1499d3706ad7"
   },
   "outputs": [
    {
     "name": "stdout",
     "output_type": "stream",
     "text": [
      "error after gradient descent: 2.776975306057215e-06\n"
     ]
    }
   ],
   "source": [
    "hyp = Model(0,0)\n",
    "steps, errors = hyp.fit(x, y)\n",
    "J = hyp.error(x, y)\n",
    "print(\"error after gradient descent:\", J)"
   ]
  },
  {
   "cell_type": "code",
   "execution_count": 6,
   "metadata": {
    "colab": {
     "base_uri": "https://localhost:8080/",
     "height": 266
    },
    "id": "iLvfQQFyGxi_",
    "outputId": "78e0e617-8889-43ee-fbe6-8d66c53f174a"
   },
   "outputs": [
    {
     "data": {
      "image/png": "[encoded data removed]",
      "text/plain": [
       "<Figure size 432x288 with 1 Axes>"
      ]
     },
     "metadata": {
      "needs_background": "light"
     },
     "output_type": "display_data"
    }
   ],
   "source": [
    "X0 = np.linspace(-3, 2, 100)\n",
    "Y0 = hyp.predict(X0)\n",
    "plt.figure()\n",
    "plt.scatter(x, y)\n",
    "plt.plot(X0, Y0, 'r')\n",
    "plt.show()"
   ]
  },
  {
   "cell_type": "code",
   "execution_count": 7,
   "metadata": {
    "colab": {
     "base_uri": "https://localhost:8080/",
     "height": 265
    },
    "id": "cYkrdRptG2p_",
    "outputId": "99908253-4ea2-4621-e5c8-7dc054cc44df"
   },
   "outputs": [
    {
     "data": {
      "image/png": "[encoded data removed]",
      "text/plain": [
       "<Figure size 432x288 with 1 Axes>"
      ]
     },
     "metadata": {
      "needs_background": "light"
     },
     "output_type": "display_data"
    }
   ],
   "source": [
    "plt.figure()\n",
    "plt.plot(steps, errors, 'g')\n",
    "plt.show()"
   ]
  },
  {
   "cell_type": "markdown",
   "metadata": {
    "id": "xZZSDJCmN9O7"
   },
   "source": [
    "## b0 = 100, b1 = 100"
   ]
  },
  {
   "cell_type": "code",
   "execution_count": 8,
   "metadata": {
    "colab": {
     "base_uri": "https://localhost:8080/"
    },
    "id": "8HANfEr_OGtG",
    "outputId": "f613f330-2331-48b9-a168-b0191f769101"
   },
   "outputs": [
    {
     "name": "stdout",
     "output_type": "stream",
     "text": [
      "error after gradient descent: 3.5318300851469825e-05\n"
     ]
    }
   ],
   "source": [
    "hyp = Model(100,100)\n",
    "steps, errors = hyp.fit(x, y)\n",
    "J = hyp.error(x, y)\n",
    "print(\"error after gradient descent:\", J)"
   ]
  },
  {
   "cell_type": "code",
   "execution_count": 9,
   "metadata": {
    "colab": {
     "base_uri": "https://localhost:8080/",
     "height": 266
    },
    "id": "YBAkFr9HOGtH",
    "outputId": "0904326a-f97e-4aa5-8c41-b332b1176d16"
   },
   "outputs": [
    {
     "data": {
      "image/png": "[encoded data removed]",
      "text/plain": [
       "<Figure size 432x288 with 1 Axes>"
      ]
     },
     "metadata": {
      "needs_background": "light"
     },
     "output_type": "display_data"
    }
   ],
   "source": [
    "X0 = np.linspace(-3, 2, 100)\n",
    "Y0 = hyp.predict(X0)\n",
    "plt.figure()\n",
    "plt.scatter(x, y)\n",
    "plt.plot(X0, Y0, 'r')\n",
    "plt.show()"
   ]
  },
  {
   "cell_type": "code",
   "execution_count": 10,
   "metadata": {
    "colab": {
     "base_uri": "https://localhost:8080/",
     "height": 265
    },
    "id": "Jqmmc6n_OGtH",
    "outputId": "c140d807-32d9-45e6-d1c7-242ad137dd0d"
   },
   "outputs": [
    {
     "data": {
      "image/png": "[encoded data removed]",
      "text/plain": [
       "<Figure size 432x288 with 1 Axes>"
      ]
     },
     "metadata": {
      "needs_background": "light"
     },
     "output_type": "display_data"
    }
   ],
   "source": [
    "plt.figure()\n",
    "plt.plot(steps, errors, 'g')\n",
    "plt.show()"
   ]
  },
  {
   "cell_type": "markdown",
   "metadata": {
    "id": "PRa5Eo_IQDy5"
   },
   "source": [
    "## b0 = 10000, b1 = 10000"
   ]
  },
  {
   "cell_type": "code",
   "execution_count": 11,
   "metadata": {
    "colab": {
     "base_uri": "https://localhost:8080/"
    },
    "id": "m19WZpi4QDy6",
    "outputId": "c8874fff-92c6-428f-b17c-ef66b5c89000"
   },
   "outputs": [
    {
     "name": "stdout",
     "output_type": "stream",
     "text": [
      "error after gradient descent: 0.5758520472913853\n"
     ]
    }
   ],
   "source": [
    "hyp = Model(10000,10000)\n",
    "steps, errors = hyp.fit(x, y)\n",
    "J = hyp.error(x, y)\n",
    "print(\"error after gradient descent:\", J)"
   ]
  },
  {
   "cell_type": "code",
   "execution_count": 12,
   "metadata": {
    "colab": {
     "base_uri": "https://localhost:8080/",
     "height": 265
    },
    "id": "3rffFMSDQDy7",
    "outputId": "44ff98aa-cb14-4203-89b1-f402345c6d59"
   },
   "outputs": [
    {
     "data": {
      "image/png": "[encoded data removed]",
      "text/plain": [
       "<Figure size 432x288 with 1 Axes>"
      ]
     },
     "metadata": {
      "needs_background": "light"
     },
     "output_type": "display_data"
    }
   ],
   "source": [
    "X0 = np.linspace(-3, 2, 100)\n",
    "Y0 = hyp.predict(X0)\n",
    "plt.figure()\n",
    "plt.scatter(x, y)\n",
    "plt.plot(X0, Y0, 'r')\n",
    "plt.show()"
   ]
  },
  {
   "cell_type": "code",
   "execution_count": 13,
   "metadata": {
    "colab": {
     "base_uri": "https://localhost:8080/",
     "height": 276
    },
    "id": "IeFJmeIfQDy7",
    "outputId": "47c7889d-b448-4779-e3cb-9c7d52289f11"
   },
   "outputs": [
    {
     "data": {
      "image/png": "[encoded data removed]",
      "text/plain": [
       "<Figure size 432x288 with 1 Axes>"
      ]
     },
     "metadata": {
      "needs_background": "light"
     },
     "output_type": "display_data"
    }
   ],
   "source": [
    "plt.figure()\n",
    "plt.plot(steps, errors, 'g')\n",
    "plt.show()"
   ]
  },
  {
   "cell_type": "markdown",
   "metadata": {
    "id": "And_XWWQPR91"
   },
   "source": [
    "# 2 \n",
    "**Проверьте работу модели с другими значениями скорости обучения. Найдите значение, при котором градиентный спуск расходится.**"
   ]
  },
  {
   "cell_type": "markdown",
   "metadata": {
    "id": "E-55iXvMQYnC"
   },
   "source": [
    "## alpha=0.1"
   ]
  },
  {
   "cell_type": "code",
   "execution_count": 14,
   "metadata": {
    "colab": {
     "base_uri": "https://localhost:8080/"
    },
    "id": "xlsHMtD1QYnP",
    "outputId": "c120f74b-bf51-458d-cd90-0da0e18baece"
   },
   "outputs": [
    {
     "name": "stdout",
     "output_type": "stream",
     "text": [
      "error after gradient descent: 1.6583631164782415e-27\n"
     ]
    }
   ],
   "source": [
    "hyp = Model(0,0)\n",
    "steps, errors = hyp.fit(x, y, alpha=0.1)\n",
    "J = hyp.error(x, y)\n",
    "print(\"error after gradient descent:\", J)"
   ]
  },
  {
   "cell_type": "code",
   "execution_count": 15,
   "metadata": {
    "colab": {
     "base_uri": "https://localhost:8080/",
     "height": 266
    },
    "id": "-MncjoYNQYnQ",
    "outputId": "39d1cbac-0575-455d-e957-02d274089804"
   },
   "outputs": [
    {
     "data": {
      "image/png": "[encoded data removed]",
      "text/plain": [
       "<Figure size 432x288 with 1 Axes>"
      ]
     },
     "metadata": {
      "needs_background": "light"
     },
     "output_type": "display_data"
    }
   ],
   "source": [
    "X0 = np.linspace(-3, 2, 100)\n",
    "Y0 = hyp.predict(X0)\n",
    "plt.figure()\n",
    "plt.scatter(x, y)\n",
    "plt.plot(X0, Y0, 'r')\n",
    "plt.show()"
   ]
  },
  {
   "cell_type": "code",
   "execution_count": 16,
   "metadata": {
    "colab": {
     "base_uri": "https://localhost:8080/",
     "height": 265
    },
    "id": "bSZK8LbjQYnQ",
    "outputId": "0d7dcaca-4d65-423d-f234-812d656c9ca7"
   },
   "outputs": [
    {
     "data": {
      "image/png": "[encoded data removed]",
      "text/plain": [
       "<Figure size 432x288 with 1 Axes>"
      ]
     },
     "metadata": {
      "needs_background": "light"
     },
     "output_type": "display_data"
    }
   ],
   "source": [
    "plt.figure()\n",
    "plt.plot(steps, errors, 'g')\n",
    "plt.show()"
   ]
  },
  {
   "cell_type": "markdown",
   "metadata": {
    "id": "szliJIwLN5BU"
   },
   "source": [
    "## alpha=1"
   ]
  },
  {
   "cell_type": "code",
   "execution_count": 17,
   "metadata": {
    "colab": {
     "base_uri": "https://localhost:8080/"
    },
    "id": "5XsS0ATTG-tW",
    "outputId": "78a3813b-76f4-4cd5-b1bb-f556d8fc0a28"
   },
   "outputs": [
    {
     "name": "stdout",
     "output_type": "stream",
     "text": [
      "error after gradient descent: 3.0967720910582346e-29\n"
     ]
    }
   ],
   "source": [
    "hyp = Model(0,0)\n",
    "steps, errors = hyp.fit(x, y, alpha=1)\n",
    "J = hyp.error(x, y)\n",
    "print(\"error after gradient descent:\", J)"
   ]
  },
  {
   "cell_type": "code",
   "execution_count": 18,
   "metadata": {
    "colab": {
     "base_uri": "https://localhost:8080/",
     "height": 266
    },
    "id": "sGPtOmsSNUBw",
    "outputId": "68b6525b-c443-417a-8e4d-7f49a00a31ef"
   },
   "outputs": [
    {
     "data": {
      "image/png": "[encoded data removed]",
      "text/plain": [
       "<Figure size 432x288 with 1 Axes>"
      ]
     },
     "metadata": {
      "needs_background": "light"
     },
     "output_type": "display_data"
    }
   ],
   "source": [
    "X0 = np.linspace(-3, 2, 100)\n",
    "Y0 = hyp.predict(X0)\n",
    "plt.figure()\n",
    "plt.scatter(x, y)\n",
    "plt.plot(X0, Y0, 'r')\n",
    "plt.show()"
   ]
  },
  {
   "cell_type": "code",
   "execution_count": 19,
   "metadata": {
    "colab": {
     "base_uri": "https://localhost:8080/",
     "height": 265
    },
    "id": "FldpwXz6NUBy",
    "outputId": "be329da9-f2a2-47d0-e97a-89d42df1eae3"
   },
   "outputs": [
    {
     "data": {
      "image/png": "[encoded data removed]",
      "text/plain": [
       "<Figure size 432x288 with 1 Axes>"
      ]
     },
     "metadata": {
      "needs_background": "light"
     },
     "output_type": "display_data"
    }
   ],
   "source": [
    "plt.figure()\n",
    "plt.plot(steps, errors, 'g')\n",
    "plt.show()"
   ]
  },
  {
   "cell_type": "markdown",
   "metadata": {
    "id": "OPM-D_N3N0Bt"
   },
   "source": [
    "## alpha=1.6"
   ]
  },
  {
   "cell_type": "code",
   "execution_count": 20,
   "metadata": {
    "colab": {
     "base_uri": "https://localhost:8080/"
    },
    "id": "sTE6dJYXHQhP",
    "outputId": "5b24aa36-e908-4c4a-90d2-0d9dfd4f0003"
   },
   "outputs": [
    {
     "name": "stdout",
     "output_type": "stream",
     "text": [
      "error after gradient descent: inf\n"
     ]
    }
   ],
   "source": [
    "hyp = Model(0,0)\n",
    "steps, errors = hyp.fit(x, y, alpha=1.6)\n",
    "J = hyp.error(x, y)\n",
    "print(\"error after gradient descent:\", J)"
   ]
  },
  {
   "cell_type": "code",
   "execution_count": 21,
   "metadata": {
    "colab": {
     "base_uri": "https://localhost:8080/",
     "height": 276
    },
    "id": "a-S-SOwSHnIQ",
    "outputId": "67af95ff-2dea-4f98-bbd6-8691016d888c"
   },
   "outputs": [
    {
     "data": {
      "image/png": "[encoded data removed]",
      "text/plain": [
       "<Figure size 432x288 with 1 Axes>"
      ]
     },
     "metadata": {
      "needs_background": "light"
     },
     "output_type": "display_data"
    }
   ],
   "source": [
    "X0 = np.linspace(-3, 2, 100)\n",
    "Y0 = hyp.predict(X0)\n",
    "plt.figure()\n",
    "plt.scatter(x, y)\n",
    "plt.plot(X0, Y0, 'r')\n",
    "plt.show()"
   ]
  },
  {
   "cell_type": "code",
   "execution_count": 22,
   "metadata": {
    "colab": {
     "base_uri": "https://localhost:8080/",
     "height": 276
    },
    "id": "cqvEKWAqHhQf",
    "outputId": "cee7b439-de9d-4a06-a8b5-a94761e9a334"
   },
   "outputs": [
    {
     "data": {
      "image/png": "[encoded data removed]",
      "text/plain": [
       "<Figure size 432x288 with 1 Axes>"
      ]
     },
     "metadata": {
      "needs_background": "light"
     },
     "output_type": "display_data"
    }
   ],
   "source": [
    "plt.figure()\n",
    "plt.plot(steps, errors, 'g')\n",
    "plt.show()"
   ]
  },
  {
   "cell_type": "markdown",
   "metadata": {
    "id": "zq1lfrzBQs4_"
   },
   "source": [
    "# 3\n",
    "**Модифицируйте код модели таким образом, чтобы он корректно работал как с Series, так и с DataFrame. При этом, конечно, датафрейм не должен содержать \"лишних\" столбцов.**"
   ]
  },
  {
   "cell_type": "code",
   "execution_count": 23,
   "metadata": {
    "id": "HuJK9THpKXjl"
   },
   "outputs": [],
   "source": [
    "class Model_df(object):\n",
    "    \"\"\"Модель парной линейной регрессии\"\"\"\n",
    "    def __init__(self, b0=0, b1=0):\n",
    "        self.b0 = b0\n",
    "        self.b1 = b1\n",
    "    def predict(self, X):\n",
    "        if len(X.shape) == 1:\n",
    "            return self.b0 + self.b1 * X\n",
    "        else:\n",
    "            return self.b0 + self.b1 * X.iloc[:,0]\n",
    "    def error(self, X, Y=None):\n",
    "        if Y is None:\n",
    "            Y = X.iloc[:,1]\n",
    "            X = X.iloc[:,0]\n",
    "        return sum(((self.predict(X) - Y)**2) / (2 * len(X)))\n",
    "    def fit(self, X, Y=None, alpha=0.001, accuracy=0.01, max_steps=5000):\n",
    "        steps, errors = [], []\n",
    "        step = 0        \n",
    "        if Y is None:\n",
    "            Y = X.iloc[:,1]\n",
    "            X = X.iloc[:,0]\n",
    "        for _ in range(10000):\n",
    "            dJ0 = sum(self.predict(X) - Y) / len(X)\n",
    "            dJ1 = sum((self.predict(X) - Y) * X) / len(X)\n",
    "            self.b0 -= alpha * dJ0\n",
    "            self.b1 -= alpha * dJ1    \n",
    "            new_err = hyp.error(X, Y)\n",
    "            step += 1            \n",
    "            steps.append(step)\n",
    "            errors.append(new_err)\n",
    "        return steps, errors"
   ]
  },
  {
   "cell_type": "code",
   "execution_count": 24,
   "metadata": {
    "colab": {
     "base_uri": "https://localhost:8080/"
    },
    "id": "9c-tDDnGa4jQ",
    "outputId": "43831d50-6fba-464f-c249-c50e831ca630"
   },
   "outputs": [
    {
     "name": "stdout",
     "output_type": "stream",
     "text": [
      "error after gradient descent: 3.0967720910582346e-29\n"
     ]
    }
   ],
   "source": [
    "hyp = Model_df()\n",
    "steps, errors = hyp.fit(x, y, alpha=1)\n",
    "J = hyp.error(x, y)\n",
    "print(\"error after gradient descent:\", J)"
   ]
  },
  {
   "cell_type": "code",
   "execution_count": 25,
   "metadata": {
    "colab": {
     "base_uri": "https://localhost:8080/",
     "height": 206
    },
    "id": "XkLU5vlfVx-5",
    "outputId": "7e809734-310a-4706-f82f-a83075a553ce"
   },
   "outputs": [
    {
     "data": {
      "text/html": [
       "\n",
       "  <div id=\"df-fd7051f2-b74c-4ce8-9325-acad48d84899\">\n",
       "    <div class=\"colab-df-container\">\n",
       "      <div>\n",
       "<style scoped>\n",
       "    .dataframe tbody tr th:only-of-type {\n",
       "        vertical-align: middle;\n",
       "    }\n",
       "\n",
       "    .dataframe tbody tr th {\n",
       "        vertical-align: top;\n",
       "    }\n",
       "\n",
       "    .dataframe thead th {\n",
       "        text-align: right;\n",
       "    }\n",
       "</style>\n",
       "<table border=\"1\" class=\"dataframe\">\n",
       "  <thead>\n",
       "    <tr style=\"text-align: right;\">\n",
       "      <th></th>\n",
       "      <th>X</th>\n",
       "      <th>Y</th>\n",
       "    </tr>\n",
       "  </thead>\n",
       "  <tbody>\n",
       "    <tr>\n",
       "      <th>0</th>\n",
       "      <td>1.462108</td>\n",
       "      <td>101.159902</td>\n",
       "    </tr>\n",
       "    <tr>\n",
       "      <th>1</th>\n",
       "      <td>1.133769</td>\n",
       "      <td>78.442913</td>\n",
       "    </tr>\n",
       "    <tr>\n",
       "      <th>2</th>\n",
       "      <td>-2.301539</td>\n",
       "      <td>-159.238195</td>\n",
       "    </tr>\n",
       "    <tr>\n",
       "      <th>3</th>\n",
       "      <td>1.744812</td>\n",
       "      <td>120.719533</td>\n",
       "    </tr>\n",
       "    <tr>\n",
       "      <th>4</th>\n",
       "      <td>0.042214</td>\n",
       "      <td>2.920673</td>\n",
       "    </tr>\n",
       "  </tbody>\n",
       "</table>\n",
       "</div>\n",
       "      <button class=\"colab-df-convert\" onclick=\"convertToInteractive('df-fd7051f2-b74c-4ce8-9325-acad48d84899')\"\n",
       "              title=\"Convert this dataframe to an interactive table.\"\n",
       "              style=\"display:none;\">\n",
       "        \n",
       "  <svg xmlns=\"http://www.w3.org/2000/svg\" height=\"24px\"viewBox=\"0 0 24 24\"\n",
       "       width=\"24px\">\n",
       "    <path d=\"M0 0h24v24H0V0z\" fill=\"none\"/>\n",
       "    <path d=\"M18.56 5.44l.94 2.06.94-2.06 2.06-.94-2.06-.94-.94-2.06-.94 2.06-2.06.94zm-11 1L8.5 8.5l.94-2.06 2.06-.94-2.06-.94L8.5 2.5l-.94 2.06-2.06.94zm10 10l.94 2.06.94-2.06 2.06-.94-2.06-.94-.94-2.06-.94 2.06-2.06.94z\"/><path d=\"M17.41 7.96l-1.37-1.37c-.4-.4-.92-.59-1.43-.59-.52 0-1.04.2-1.43.59L10.3 9.45l-7.72 7.72c-.78.78-.78 2.05 0 2.83L4 21.41c.39.39.9.59 1.41.59.51 0 1.02-.2 1.41-.59l7.78-7.78 2.81-2.81c.8-.78.8-2.07 0-2.86zM5.41 20L4 18.59l7.72-7.72 1.47 1.35L5.41 20z\"/>\n",
       "  </svg>\n",
       "      </button>\n",
       "      \n",
       "  <style>\n",
       "    .colab-df-container {\n",
       "      display:flex;\n",
       "      flex-wrap:wrap;\n",
       "      gap: 12px;\n",
       "    }\n",
       "\n",
       "    .colab-df-convert {\n",
       "      background-color: #E8F0FE;\n",
       "      border: none;\n",
       "      border-radius: 50%;\n",
       "      cursor: pointer;\n",
       "      display: none;\n",
       "      fill: #1967D2;\n",
       "      height: 32px;\n",
       "      padding: 0 0 0 0;\n",
       "      width: 32px;\n",
       "    }\n",
       "\n",
       "    .colab-df-convert:hover {\n",
       "      background-color: #E2EBFA;\n",
       "      box-shadow: 0px 1px 2px rgba(60, 64, 67, 0.3), 0px 1px 3px 1px rgba(60, 64, 67, 0.15);\n",
       "      fill: #174EA6;\n",
       "    }\n",
       "\n",
       "    [theme=dark] .colab-df-convert {\n",
       "      background-color: #3B4455;\n",
       "      fill: #D2E3FC;\n",
       "    }\n",
       "\n",
       "    [theme=dark] .colab-df-convert:hover {\n",
       "      background-color: #434B5C;\n",
       "      box-shadow: 0px 1px 3px 1px rgba(0, 0, 0, 0.15);\n",
       "      filter: drop-shadow(0px 1px 2px rgba(0, 0, 0, 0.3));\n",
       "      fill: #FFFFFF;\n",
       "    }\n",
       "  </style>\n",
       "\n",
       "      <script>\n",
       "        const buttonEl =\n",
       "          document.querySelector('#df-fd7051f2-b74c-4ce8-9325-acad48d84899 button.colab-df-convert');\n",
       "        buttonEl.style.display =\n",
       "          google.colab.kernel.accessAllowed ? 'block' : 'none';\n",
       "\n",
       "        async function convertToInteractive(key) {\n",
       "          const element = document.querySelector('#df-fd7051f2-b74c-4ce8-9325-acad48d84899');\n",
       "          const dataTable =\n",
       "            await google.colab.kernel.invokeFunction('convertToInteractive',\n",
       "                                                     [key], {});\n",
       "          if (!dataTable) return;\n",
       "\n",
       "          const docLinkHtml = 'Like what you see? Visit the ' +\n",
       "            '<a target=\"_blank\" href=https://colab.research.google.com/notebooks/data_table.ipynb>data table notebook</a>'\n",
       "            + ' to learn more about interactive tables.';\n",
       "          element.innerHTML = '';\n",
       "          dataTable['output_type'] = 'display_data';\n",
       "          await google.colab.output.renderOutput(dataTable, element);\n",
       "          const docLink = document.createElement('div');\n",
       "          docLink.innerHTML = docLinkHtml;\n",
       "          element.appendChild(docLink);\n",
       "        }\n",
       "      </script>\n",
       "    </div>\n",
       "  </div>\n",
       "  "
      ],
      "text/plain": [
       "          X           Y\n",
       "0  1.462108  101.159902\n",
       "1  1.133769   78.442913\n",
       "2 -2.301539 -159.238195\n",
       "3  1.744812  120.719533\n",
       "4  0.042214    2.920673"
      ]
     },
     "execution_count": 25,
     "metadata": {},
     "output_type": "execute_result"
    }
   ],
   "source": [
    "df = pd.DataFrame({'X': x,'Y': y})\n",
    "df.head()"
   ]
  },
  {
   "cell_type": "code",
   "execution_count": 26,
   "metadata": {
    "colab": {
     "base_uri": "https://localhost:8080/"
    },
    "id": "6YXi-g8_Tvlw",
    "outputId": "26b2630f-4fff-4c68-e689-394bcf737124"
   },
   "outputs": [
    {
     "name": "stdout",
     "output_type": "stream",
     "text": [
      "error after gradient descent: 3.0967720910582346e-29\n"
     ]
    }
   ],
   "source": [
    "hyp = Model_df()\n",
    "steps, errors = hyp.fit(df, alpha=1)\n",
    "J = hyp.error(df)\n",
    "print(\"error after gradient descent:\", J)"
   ]
  },
  {
   "cell_type": "markdown",
   "metadata": {
    "id": "74bYdWQqaTYw"
   },
   "source": [
    "# 4\n",
    "**Модифицируйте алгоритм градиентного спука таким образом, чтобы он останавливался, если ошибка перестает снижаться. Для этого сравнивайте, на сколько понизилась ошибка на каждом шаге и если это снижение меньше некоторой заранее заданной очень маленькой величины - выходите из цикла. Эту величину можно взять одну миллионную, например.**"
   ]
  },
  {
   "cell_type": "code",
   "execution_count": 27,
   "metadata": {
    "id": "vzi-L0BNZTJD"
   },
   "outputs": [],
   "source": [
    "class Model_df4(object):\n",
    "    \"\"\"Модель парной линейной регрессии\"\"\"\n",
    "    def __init__(self, b0=0, b1=0):\n",
    "        self.b0 = b0\n",
    "        self.b1 = b1\n",
    "    def predict(self, X):\n",
    "        if len(X.shape) == 1:\n",
    "            return self.b0 + self.b1 * X\n",
    "        else:\n",
    "            return self.b0 + self.b1 * X.iloc[:,0]\n",
    "    def error(self, X, Y=None):\n",
    "        if Y is None:\n",
    "            Y = X.iloc[:,1]\n",
    "            X = X.iloc[:,0]\n",
    "        return sum(((self.predict(X) - Y)**2) / (2 * len(X)))\n",
    "    def fit(self, X, Y=None, alpha=0.001, accuracy=0.01, max_steps=5000):\n",
    "        steps, errors = [], [hyp.error(X, Y)]\n",
    "        step = 0        \n",
    "        if Y is None:\n",
    "            Y = X.iloc[:,1]\n",
    "            X = X.iloc[:,0]\n",
    "        for _ in range(10000):\n",
    "            dJ0 = sum(self.predict(X) - Y) / len(X)\n",
    "            dJ1 = sum((self.predict(X) - Y) * X) / len(X)\n",
    "            self.b0 -= alpha * dJ0\n",
    "            self.b1 -= alpha * dJ1    \n",
    "            new_err = hyp.error(X, Y)\n",
    "            step += 1            \n",
    "            steps.append(step)\n",
    "            errors.append(new_err)\n",
    "            if abs(errors[-1]-errors[-2]) < accuracy:\n",
    "                break\n",
    "        return steps, errors"
   ]
  },
  {
   "cell_type": "code",
   "execution_count": 28,
   "metadata": {
    "colab": {
     "base_uri": "https://localhost:8080/"
    },
    "id": "sQadxlCJbUHP",
    "outputId": "f566c391-6624-4a14-9cd7-2b6d969a3d2a"
   },
   "outputs": [
    {
     "name": "stdout",
     "output_type": "stream",
     "text": [
      "error after gradient descent: 4.4961047667431675\n"
     ]
    }
   ],
   "source": [
    "hyp = Model_df4()\n",
    "steps, errors = hyp.fit(x, y)\n",
    "J = hyp.error(x, y)\n",
    "print(\"error after gradient descent:\", J)"
   ]
  },
  {
   "cell_type": "code",
   "execution_count": 29,
   "metadata": {
    "colab": {
     "base_uri": "https://localhost:8080/"
    },
    "id": "OHsS-xybc7yM",
    "outputId": "05a77fe5-5934-40ea-fd41-a42cf01306c8"
   },
   "outputs": [
    {
     "name": "stdout",
     "output_type": "stream",
     "text": [
      "error after gradient descent: 0.0005244076717215663\n"
     ]
    }
   ],
   "source": [
    "hyp = Model_df4()\n",
    "steps, errors = hyp.fit(x, y, accuracy=0.000001)\n",
    "J = hyp.error(x, y)\n",
    "print(\"error after gradient descent:\", J)"
   ]
  },
  {
   "cell_type": "markdown",
   "metadata": {
    "id": "rvhF5YDrb98d"
   },
   "source": [
    "# 5\n",
    "**Убедитесь, что алгоритм градиентного спуска завершается всегда - либо если ошибка перестает существенно меняться, либо при достижении максимального количества шагов.**"
   ]
  },
  {
   "cell_type": "code",
   "execution_count": 30,
   "metadata": {
    "id": "mufdXLVpbX8f"
   },
   "outputs": [],
   "source": [
    "class Model_df5(object):\n",
    "    \"\"\"Модель парной линейной регрессии\"\"\"\n",
    "    def __init__(self, b0=0, b1=0):\n",
    "        self.b0 = b0\n",
    "        self.b1 = b1\n",
    "    def predict(self, X):\n",
    "        if len(X.shape) == 1:\n",
    "            return self.b0 + self.b1 * X\n",
    "        else:\n",
    "            return self.b0 + self.b1 * X.iloc[:,0]\n",
    "    def error(self, X, Y=None):\n",
    "        if Y is None:\n",
    "            Y = X.iloc[:,1]\n",
    "            X = X.iloc[:,0]\n",
    "        return sum(((self.predict(X) - Y)**2) / (2 * len(X)))\n",
    "    def fit(self, X, Y=None, alpha=0.001, accuracy=0.01, max_steps=5000):\n",
    "        steps, errors = [], [hyp.error(X, Y)]\n",
    "        step = 0        \n",
    "        if Y is None:\n",
    "            Y = X.iloc[:,1]\n",
    "            X = X.iloc[:,0]\n",
    "        for _ in range(max_steps): # алгоритм сделает не больше max_steps итераций\n",
    "            dJ0 = sum(self.predict(X) - Y) / len(X)\n",
    "            dJ1 = sum((self.predict(X) - Y) * X) / len(X)\n",
    "            self.b0 -= alpha * dJ0\n",
    "            self.b1 -= alpha * dJ1    \n",
    "            new_err = hyp.error(X, Y)\n",
    "            step += 1            \n",
    "            steps.append(step)\n",
    "            errors.append(new_err)\n",
    "            if abs(errors[-1]-errors[-2]) < accuracy:\n",
    "                break\n",
    "        return steps, errors"
   ]
  },
  {
   "cell_type": "code",
   "execution_count": 31,
   "metadata": {
    "colab": {
     "base_uri": "https://localhost:8080/"
    },
    "id": "g4mn-TUocJk9",
    "outputId": "e813b7bf-4c50-44f2-9835-34b350dbaef1"
   },
   "outputs": [
    {
     "name": "stdout",
     "output_type": "stream",
     "text": [
      "error after gradient descent: 4.4961047667431675\n"
     ]
    }
   ],
   "source": [
    "hyp = Model_df5()\n",
    "steps, errors = hyp.fit(x, y)\n",
    "J = hyp.error(x, y)\n",
    "print(\"error after gradient descent:\", J)"
   ]
  },
  {
   "cell_type": "code",
   "execution_count": 32,
   "metadata": {
    "colab": {
     "base_uri": "https://localhost:8080/"
    },
    "id": "a0Z5f5BqcMNt",
    "outputId": "c1d8d3ba-3317-4bd5-d5bf-bc545ce758b8"
   },
   "outputs": [
    {
     "name": "stdout",
     "output_type": "stream",
     "text": [
      "error after gradient descent: 2594.561288363529\n"
     ]
    }
   ],
   "source": [
    "hyp = Model_df5()\n",
    "steps, errors = hyp.fit(x, y, max_steps=50)\n",
    "J = hyp.error(x, y)\n",
    "print(\"error after gradient descent:\", J)"
   ]
  },
  {
   "cell_type": "markdown",
   "metadata": {
    "id": "iKx00ueddHGs"
   },
   "source": [
    "# 6\n",
    "**Реализуйте механизм адаптивной скорости обучения. Чтобы не задавать вручную параметр alpha можно отслеживать, увеличивается ли ошибка после первого шага градиентного спуска. В начале задаем скорость обучения близкой к 1. Если ошибка после одного шага увеличивается - скорость обучения надо уменьшить (например, в 2 раза). Если не увеличивается - скорость обучения можно не трогать. Еще подумайте, как после уменьшения скорости перезапускать градиентный спуск заново.**"
   ]
  },
  {
   "cell_type": "code",
   "execution_count": 33,
   "metadata": {
    "id": "edLh8UsCdbbc"
   },
   "outputs": [],
   "source": [
    "class Model_df6(object):\n",
    "    \"\"\"Модель парной линейной регрессии\"\"\"\n",
    "    def __init__(self, b0=0, b1=0):\n",
    "        self.b0 = b0\n",
    "        self.b1 = b1\n",
    "    def predict(self, X):\n",
    "        if len(X.shape) == 1:\n",
    "            return self.b0 + self.b1 * X\n",
    "        else:\n",
    "            return self.b0 + self.b1 * X.iloc[:,0]\n",
    "    def error(self, X, Y=None):\n",
    "        if Y is None:\n",
    "            Y = X.iloc[:,1]\n",
    "            X = X.iloc[:,0]\n",
    "        return sum(((self.predict(X) - Y)**2) / (2 * len(X)))\n",
    "    def fit(self, X, Y=None, alpha=1, accuracy=0.01, max_steps=5000):\n",
    "        steps, errors = [], [hyp.error(X, Y)]\n",
    "        step = 0        \n",
    "        if Y is None:\n",
    "            Y = X.iloc[:,1]\n",
    "            X = X.iloc[:,0]\n",
    "        fl = 0\n",
    "        while step < max_steps: \n",
    "            dJ0 = sum(self.predict(X) - Y) / len(X)\n",
    "            dJ1 = sum((self.predict(X) - Y) * X) / len(X)\n",
    "            self.b0 -= alpha * dJ0\n",
    "            self.b1 -= alpha * dJ1    \n",
    "            new_err = hyp.error(X, Y)\n",
    "            if fl == 0:\n",
    "                if new_err >= errors[-1]:\n",
    "                    self.b0 += alpha * dJ0\n",
    "                    self.b1 += alpha * dJ1   \n",
    "                    alpha /= 2\n",
    "                    continue\n",
    "                else:\n",
    "                    fl = 1\n",
    "            step += 1            \n",
    "            steps.append(step)\n",
    "            errors.append(new_err)\n",
    "            if abs(errors[-1]-errors[-2]) < accuracy:\n",
    "                break\n",
    "        return steps, errors"
   ]
  },
  {
   "cell_type": "code",
   "execution_count": 34,
   "metadata": {
    "colab": {
     "base_uri": "https://localhost:8080/"
    },
    "id": "yFVMIQCagxUp",
    "outputId": "fb684c5f-fdbd-4727-dbd3-92d91b7840b1"
   },
   "outputs": [
    {
     "name": "stdout",
     "output_type": "stream",
     "text": [
      "error after gradient descent: nan\n"
     ]
    }
   ],
   "source": [
    "hyp = Model_df5() # в первоначальной модели алгоритм расходится при alpha=4\n",
    "steps1, errors1 = hyp.fit(x, y, alpha=4, accuracy=0, max_steps=10000)\n",
    "J = hyp.error(x, y)\n",
    "print(\"error after gradient descent:\", J)"
   ]
  },
  {
   "cell_type": "code",
   "execution_count": 35,
   "metadata": {
    "colab": {
     "base_uri": "https://localhost:8080/"
    },
    "id": "M8QICgX3gS3Y",
    "outputId": "bff358e8-c673-405b-b148-53cdd48fd12d"
   },
   "outputs": [
    {
     "name": "stdout",
     "output_type": "stream",
     "text": [
      "error after gradient descent: 3.0967720910582346e-29\n"
     ]
    }
   ],
   "source": [
    "hyp = Model_df6() # алгоритм сходится при alpha=4\n",
    "steps2, errors2 = hyp.fit(x, y, alpha=4, accuracy=0, max_steps=10000)\n",
    "J = hyp.error(x, y)\n",
    "print(\"error after gradient descent:\", J)"
   ]
  },
  {
   "cell_type": "code",
   "execution_count": 36,
   "metadata": {
    "colab": {
     "base_uri": "https://localhost:8080/"
    },
    "id": "PFZMm8nZgd0Y",
    "outputId": "4f9989ce-ef2d-4cbd-a418-87a2a6f81576"
   },
   "outputs": [
    {
     "name": "stdout",
     "output_type": "stream",
     "text": [
      "error after gradient descent: 3.0967720910582346e-29\n"
     ]
    }
   ],
   "source": [
    "hyp = Model_df5() # первоначальная модель дает такой же результат при alpha=1\n",
    "steps3, errors3 = hyp.fit(x, y, alpha=1, accuracy=0, max_steps=10000)\n",
    "J = hyp.error(x, y)\n",
    "print(\"error after gradient descent:\", J)"
   ]
  },
  {
   "cell_type": "code",
   "execution_count": 37,
   "metadata": {
    "colab": {
     "base_uri": "https://localhost:8080/"
    },
    "id": "6K8fisFRhX2C",
    "outputId": "cc587241-c157-4895-a571-d177ab9a5a4c"
   },
   "outputs": [
    {
     "data": {
      "text/plain": [
       "True"
      ]
     },
     "execution_count": 37,
     "metadata": {},
     "output_type": "execute_result"
    }
   ],
   "source": [
    "(steps2 == steps3) and (errors2 == errors3) # новый алгоритм доходит делением на 2 до alpha=1 \n",
    "                                            # (т.к. при alpha=2, алгоритм расходится, \n",
    "                                            # а при alpha=1 - уже сходится)"
   ]
  },
  {
   "cell_type": "markdown",
   "metadata": {
    "id": "7DUBQkIfi5wj"
   },
   "source": [
    "# 7\n",
    "**Добавьте к классу модели метод рисования графиков. Сделайте так, чтобы он был независим от масштаба переданных данных.**"
   ]
  },
  {
   "cell_type": "code",
   "execution_count": 77,
   "metadata": {
    "id": "ktU7osJUh9fS"
   },
   "outputs": [],
   "source": [
    "class Model_df7(object):\n",
    "    \"\"\"Модель парной линейной регрессии\"\"\"\n",
    "    def __init__(self, b0=0, b1=0):\n",
    "        self.b0 = b0\n",
    "        self.b1 = b1\n",
    "    def predict(self, X):\n",
    "        if len(X.shape) == 1:\n",
    "            return self.b0 + self.b1 * X\n",
    "        else:\n",
    "            return self.b0 + self.b1 * X.iloc[:,0]\n",
    "    def error(self, X, Y=None):\n",
    "        if Y is None:\n",
    "            Y = X.iloc[:,1]\n",
    "            X = X.iloc[:,0]\n",
    "        return sum(((self.predict(X) - Y)**2) / (2 * len(X)))\n",
    "    def fit(self, X, Y=None, alpha=1, accuracy=0.01, max_steps=5000):\n",
    "        steps, errors = [], [hyp.error(X, Y)]\n",
    "        step = 0        \n",
    "        if Y is None:\n",
    "            Y = X.iloc[:,1]\n",
    "            X = X.iloc[:,0]\n",
    "        fl = 0\n",
    "        while step < max_steps: \n",
    "            dJ0 = sum(self.predict(X) - Y) / len(X)\n",
    "            dJ1 = sum((self.predict(X) - Y) * X) / len(X)\n",
    "            self.b0 -= alpha * dJ0\n",
    "            self.b1 -= alpha * dJ1    \n",
    "            new_err = hyp.error(X, Y)\n",
    "            if fl == 0:\n",
    "                if new_err >= errors[-1]:\n",
    "                    self.b0 += alpha * dJ0\n",
    "                    self.b1 += alpha * dJ1   \n",
    "                    alpha /= 2\n",
    "                    continue\n",
    "                else:\n",
    "                    fl = 1\n",
    "            step += 1            \n",
    "            steps.append(step)\n",
    "            errors.append(new_err)\n",
    "            if abs(errors[-1]-errors[-2]) < accuracy:\n",
    "                break\n",
    "        return steps, errors\n",
    "    def vis(self, X, Y=None):\n",
    "        if Y is None:\n",
    "            Y = X.iloc[:,1]\n",
    "            X = X.iloc[:,0]\n",
    "        \n",
    "        x1 = (X-X.min()) / (X.max()-X.min())\n",
    "        y1 = (Y-Y.min()) / (Y.max()-Y.min())\n",
    "\n",
    "        X0 = np.linspace(0, 1, 100)\n",
    "        Y0 = self.predict(X0)\n",
    "        Y0 = (Y0-Y0.min()) / (Y0.max()-Y0.min())\n",
    "\n",
    "        plt.figure()\n",
    "        plt.scatter(x1, y1)\n",
    "        plt.plot(X0, Y0, 'r')\n",
    "        plt.show()"
   ]
  },
  {
   "cell_type": "code",
   "execution_count": 78,
   "metadata": {
    "colab": {
     "base_uri": "https://localhost:8080/",
     "height": 265
    },
    "id": "SQvc-kb-x5U4",
    "outputId": "43ceb0fd-0381-4ea3-ce67-773dccae14b7"
   },
   "outputs": [
    {
     "data": {
      "image/png": "[encoded data removed]",
      "text/plain": [
       "<Figure size 432x288 with 1 Axes>"
      ]
     },
     "metadata": {
      "needs_background": "light"
     },
     "output_type": "display_data"
    }
   ],
   "source": [
    "hyp = Model_df7()\n",
    "hyp.fit(x, y, alpha=1.6)\n",
    "hyp.vis(x,y)"
   ]
  },
  {
   "cell_type": "markdown",
   "metadata": {
    "id": "_EGlFMAV1pEZ"
   },
   "source": [
    "Сравним с визуализацией, зависящей от масштаба данных:"
   ]
  },
  {
   "cell_type": "code",
   "execution_count": 79,
   "metadata": {
    "colab": {
     "base_uri": "https://localhost:8080/",
     "height": 266
    },
    "id": "qin-vHbN1i6l",
    "outputId": "5bbe15ee-6602-4da4-c756-bf33a13705cc"
   },
   "outputs": [
    {
     "data": {
      "image/png": "[encoded data removed]",
      "text/plain": [
       "<Figure size 432x288 with 1 Axes>"
      ]
     },
     "metadata": {
      "needs_background": "light"
     },
     "output_type": "display_data"
    }
   ],
   "source": [
    "X0 = np.linspace(-3, 2, 100)\n",
    "Y0 = hyp.predict(X0)\n",
    "plt.figure()\n",
    "plt.scatter(x, y)\n",
    "plt.plot(X0, Y0, 'r')\n",
    "plt.show()"
   ]
  },
  {
   "cell_type": "markdown",
   "metadata": {
    "id": "okPEzQmV1yFJ"
   },
   "source": [
    "Рисунки одинаковы"
   ]
  }
 ],
 "metadata": {
  "colab": {
   "provenance": []
  },
  "kernelspec": {
   "display_name": "Python 3",
   "language": "python",
   "name": "python3"
  },
  "language_info": {
   "codemirror_mode": {
    "name": "ipython",
    "version": 3
   },
   "file_extension": ".py",
   "mimetype": "text/x-python",
   "name": "python",
   "nbconvert_exporter": "python",
   "pygments_lexer": "ipython3",
   "version": "3.8.8"
  }
 },
 "nbformat": 4,
 "nbformat_minor": 1
}

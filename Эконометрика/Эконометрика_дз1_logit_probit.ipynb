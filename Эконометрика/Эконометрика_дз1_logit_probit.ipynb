{
 "cells": [
  {
   "cell_type": "code",
   "execution_count": 1,
   "metadata": {
    "id": "Bh3e6EO6NhFW"
   },
   "outputs": [],
   "source": [
    "import pandas as pd\n",
    "import numpy as np\n",
    "import seaborn as sns\n",
    "import matplotlib.pyplot as plt\n",
    "from sklearn.compose import ColumnTransformer\n",
    "from sklearn.preprocessing import Normalizer, OneHotEncoder\n",
    "from sklearn.linear_model import LogisticRegression\n",
    "from sklearn.model_selection import train_test_split\n",
    "from sklearn.metrics import accuracy_score, f1_score\n",
    "import scipy.stats as sts\n",
    "import sympy as sp\n",
    "from statsmodels.discrete.discrete_model import Logit, Probit"
   ]
  },
  {
   "cell_type": "code",
   "execution_count": 2,
   "metadata": {
    "colab": {
     "base_uri": "https://localhost:8080/",
     "height": 261
    },
    "id": "ttSuI9cmNhjN",
    "outputId": "eeb97fa0-bdd3-4e8b-b84e-2ddf63f217b3"
   },
   "outputs": [
    {
     "data": {
      "text/html": [
       "<div>\n",
       "<style scoped>\n",
       "    .dataframe tbody tr th:only-of-type {\n",
       "        vertical-align: middle;\n",
       "    }\n",
       "\n",
       "    .dataframe tbody tr th {\n",
       "        vertical-align: top;\n",
       "    }\n",
       "\n",
       "    .dataframe thead th {\n",
       "        text-align: right;\n",
       "    }\n",
       "</style>\n",
       "<table border=\"1\" class=\"dataframe\">\n",
       "  <thead>\n",
       "    <tr style=\"text-align: right;\">\n",
       "      <th></th>\n",
       "      <th>fixed acidity</th>\n",
       "      <th>volatile acidity</th>\n",
       "      <th>citric acid</th>\n",
       "      <th>residual sugar</th>\n",
       "      <th>chlorides</th>\n",
       "      <th>free sulfur dioxide</th>\n",
       "      <th>total sulfur dioxide</th>\n",
       "      <th>density</th>\n",
       "      <th>pH</th>\n",
       "      <th>sulphates</th>\n",
       "      <th>alcohol</th>\n",
       "      <th>quality</th>\n",
       "    </tr>\n",
       "  </thead>\n",
       "  <tbody>\n",
       "    <tr>\n",
       "      <th>0</th>\n",
       "      <td>7.4</td>\n",
       "      <td>0.70</td>\n",
       "      <td>0.00</td>\n",
       "      <td>1.9</td>\n",
       "      <td>0.076</td>\n",
       "      <td>11.0</td>\n",
       "      <td>34.0</td>\n",
       "      <td>0.9978</td>\n",
       "      <td>3.51</td>\n",
       "      <td>0.56</td>\n",
       "      <td>9.4</td>\n",
       "      <td>0</td>\n",
       "    </tr>\n",
       "    <tr>\n",
       "      <th>1</th>\n",
       "      <td>7.8</td>\n",
       "      <td>0.88</td>\n",
       "      <td>0.00</td>\n",
       "      <td>2.6</td>\n",
       "      <td>0.098</td>\n",
       "      <td>25.0</td>\n",
       "      <td>67.0</td>\n",
       "      <td>0.9968</td>\n",
       "      <td>3.20</td>\n",
       "      <td>0.68</td>\n",
       "      <td>9.8</td>\n",
       "      <td>0</td>\n",
       "    </tr>\n",
       "    <tr>\n",
       "      <th>2</th>\n",
       "      <td>7.8</td>\n",
       "      <td>0.76</td>\n",
       "      <td>0.04</td>\n",
       "      <td>2.3</td>\n",
       "      <td>0.092</td>\n",
       "      <td>15.0</td>\n",
       "      <td>54.0</td>\n",
       "      <td>0.9970</td>\n",
       "      <td>3.26</td>\n",
       "      <td>0.65</td>\n",
       "      <td>9.8</td>\n",
       "      <td>0</td>\n",
       "    </tr>\n",
       "    <tr>\n",
       "      <th>3</th>\n",
       "      <td>11.2</td>\n",
       "      <td>0.28</td>\n",
       "      <td>0.56</td>\n",
       "      <td>1.9</td>\n",
       "      <td>0.075</td>\n",
       "      <td>17.0</td>\n",
       "      <td>60.0</td>\n",
       "      <td>0.9980</td>\n",
       "      <td>3.16</td>\n",
       "      <td>0.58</td>\n",
       "      <td>9.8</td>\n",
       "      <td>1</td>\n",
       "    </tr>\n",
       "    <tr>\n",
       "      <th>4</th>\n",
       "      <td>7.4</td>\n",
       "      <td>0.70</td>\n",
       "      <td>0.00</td>\n",
       "      <td>1.9</td>\n",
       "      <td>0.076</td>\n",
       "      <td>11.0</td>\n",
       "      <td>34.0</td>\n",
       "      <td>0.9978</td>\n",
       "      <td>3.51</td>\n",
       "      <td>0.56</td>\n",
       "      <td>9.4</td>\n",
       "      <td>0</td>\n",
       "    </tr>\n",
       "  </tbody>\n",
       "</table>\n",
       "</div>"
      ],
      "text/plain": [
       "   fixed acidity  volatile acidity  citric acid  residual sugar  chlorides   \n",
       "0            7.4              0.70         0.00             1.9      0.076  \\\n",
       "1            7.8              0.88         0.00             2.6      0.098   \n",
       "2            7.8              0.76         0.04             2.3      0.092   \n",
       "3           11.2              0.28         0.56             1.9      0.075   \n",
       "4            7.4              0.70         0.00             1.9      0.076   \n",
       "\n",
       "   free sulfur dioxide  total sulfur dioxide  density    pH  sulphates   \n",
       "0                 11.0                  34.0   0.9978  3.51       0.56  \\\n",
       "1                 25.0                  67.0   0.9968  3.20       0.68   \n",
       "2                 15.0                  54.0   0.9970  3.26       0.65   \n",
       "3                 17.0                  60.0   0.9980  3.16       0.58   \n",
       "4                 11.0                  34.0   0.9978  3.51       0.56   \n",
       "\n",
       "   alcohol  quality  \n",
       "0      9.4        0  \n",
       "1      9.8        0  \n",
       "2      9.8        0  \n",
       "3      9.8        1  \n",
       "4      9.4        0  "
      ]
     },
     "execution_count": 2,
     "metadata": {},
     "output_type": "execute_result"
    }
   ],
   "source": [
    "df = pd.read_csv('wine_quality_winequality.csv', sep=';')\n",
    "df['quality'] = (df['quality']>5).astype(np.int64)\n",
    "#df['intercept'] = 1\n",
    "df.head()"
   ]
  },
  {
   "cell_type": "code",
   "execution_count": 3,
   "metadata": {
    "colab": {
     "base_uri": "https://localhost:8080/"
    },
    "id": "LAJrVLJ2OpHK",
    "outputId": "ad244aa8-f502-4556-f321-15567652d579"
   },
   "outputs": [
    {
     "data": {
      "text/plain": [
       "Index(['fixed acidity', 'volatile acidity', 'citric acid', 'residual sugar',\n",
       "       'chlorides', 'free sulfur dioxide', 'total sulfur dioxide', 'density',\n",
       "       'pH', 'sulphates', 'alcohol', 'quality'],\n",
       "      dtype='object')"
      ]
     },
     "execution_count": 3,
     "metadata": {},
     "output_type": "execute_result"
    }
   ],
   "source": [
    "df.columns"
   ]
  },
  {
   "cell_type": "code",
   "execution_count": 4,
   "metadata": {
    "colab": {
     "base_uri": "https://localhost:8080/",
     "height": 355
    },
    "id": "_vfmzBGmKE2A",
    "outputId": "aa683652-8f1d-4d1e-b89e-a05d54d37d12"
   },
   "outputs": [
    {
     "data": {
      "text/html": [
       "<div>\n",
       "<style scoped>\n",
       "    .dataframe tbody tr th:only-of-type {\n",
       "        vertical-align: middle;\n",
       "    }\n",
       "\n",
       "    .dataframe tbody tr th {\n",
       "        vertical-align: top;\n",
       "    }\n",
       "\n",
       "    .dataframe thead th {\n",
       "        text-align: right;\n",
       "    }\n",
       "</style>\n",
       "<table border=\"1\" class=\"dataframe\">\n",
       "  <thead>\n",
       "    <tr style=\"text-align: right;\">\n",
       "      <th></th>\n",
       "      <th>fixed acidity</th>\n",
       "      <th>volatile acidity</th>\n",
       "      <th>citric acid</th>\n",
       "      <th>residual sugar</th>\n",
       "      <th>chlorides</th>\n",
       "      <th>free sulfur dioxide</th>\n",
       "      <th>total sulfur dioxide</th>\n",
       "      <th>density</th>\n",
       "      <th>pH</th>\n",
       "      <th>sulphates</th>\n",
       "      <th>alcohol</th>\n",
       "      <th>quality</th>\n",
       "    </tr>\n",
       "  </thead>\n",
       "  <tbody>\n",
       "    <tr>\n",
       "      <th>count</th>\n",
       "      <td>1599.000000</td>\n",
       "      <td>1599.000000</td>\n",
       "      <td>1599.000000</td>\n",
       "      <td>1599.000000</td>\n",
       "      <td>1599.000000</td>\n",
       "      <td>1599.000000</td>\n",
       "      <td>1599.000000</td>\n",
       "      <td>1599.000000</td>\n",
       "      <td>1599.000000</td>\n",
       "      <td>1599.000000</td>\n",
       "      <td>1599.000000</td>\n",
       "      <td>1599.000000</td>\n",
       "    </tr>\n",
       "    <tr>\n",
       "      <th>mean</th>\n",
       "      <td>8.319637</td>\n",
       "      <td>0.527821</td>\n",
       "      <td>0.270976</td>\n",
       "      <td>2.538806</td>\n",
       "      <td>0.087467</td>\n",
       "      <td>15.874922</td>\n",
       "      <td>46.467792</td>\n",
       "      <td>0.996747</td>\n",
       "      <td>3.311113</td>\n",
       "      <td>0.658149</td>\n",
       "      <td>10.422983</td>\n",
       "      <td>0.534709</td>\n",
       "    </tr>\n",
       "    <tr>\n",
       "      <th>std</th>\n",
       "      <td>1.741096</td>\n",
       "      <td>0.179060</td>\n",
       "      <td>0.194801</td>\n",
       "      <td>1.409928</td>\n",
       "      <td>0.047065</td>\n",
       "      <td>10.460157</td>\n",
       "      <td>32.895324</td>\n",
       "      <td>0.001887</td>\n",
       "      <td>0.154386</td>\n",
       "      <td>0.169507</td>\n",
       "      <td>1.065668</td>\n",
       "      <td>0.498950</td>\n",
       "    </tr>\n",
       "    <tr>\n",
       "      <th>min</th>\n",
       "      <td>4.600000</td>\n",
       "      <td>0.120000</td>\n",
       "      <td>0.000000</td>\n",
       "      <td>0.900000</td>\n",
       "      <td>0.012000</td>\n",
       "      <td>1.000000</td>\n",
       "      <td>6.000000</td>\n",
       "      <td>0.990070</td>\n",
       "      <td>2.740000</td>\n",
       "      <td>0.330000</td>\n",
       "      <td>8.400000</td>\n",
       "      <td>0.000000</td>\n",
       "    </tr>\n",
       "    <tr>\n",
       "      <th>25%</th>\n",
       "      <td>7.100000</td>\n",
       "      <td>0.390000</td>\n",
       "      <td>0.090000</td>\n",
       "      <td>1.900000</td>\n",
       "      <td>0.070000</td>\n",
       "      <td>7.000000</td>\n",
       "      <td>22.000000</td>\n",
       "      <td>0.995600</td>\n",
       "      <td>3.210000</td>\n",
       "      <td>0.550000</td>\n",
       "      <td>9.500000</td>\n",
       "      <td>0.000000</td>\n",
       "    </tr>\n",
       "    <tr>\n",
       "      <th>50%</th>\n",
       "      <td>7.900000</td>\n",
       "      <td>0.520000</td>\n",
       "      <td>0.260000</td>\n",
       "      <td>2.200000</td>\n",
       "      <td>0.079000</td>\n",
       "      <td>14.000000</td>\n",
       "      <td>38.000000</td>\n",
       "      <td>0.996750</td>\n",
       "      <td>3.310000</td>\n",
       "      <td>0.620000</td>\n",
       "      <td>10.200000</td>\n",
       "      <td>1.000000</td>\n",
       "    </tr>\n",
       "    <tr>\n",
       "      <th>75%</th>\n",
       "      <td>9.200000</td>\n",
       "      <td>0.640000</td>\n",
       "      <td>0.420000</td>\n",
       "      <td>2.600000</td>\n",
       "      <td>0.090000</td>\n",
       "      <td>21.000000</td>\n",
       "      <td>62.000000</td>\n",
       "      <td>0.997835</td>\n",
       "      <td>3.400000</td>\n",
       "      <td>0.730000</td>\n",
       "      <td>11.100000</td>\n",
       "      <td>1.000000</td>\n",
       "    </tr>\n",
       "    <tr>\n",
       "      <th>max</th>\n",
       "      <td>15.900000</td>\n",
       "      <td>1.580000</td>\n",
       "      <td>1.000000</td>\n",
       "      <td>15.500000</td>\n",
       "      <td>0.611000</td>\n",
       "      <td>72.000000</td>\n",
       "      <td>289.000000</td>\n",
       "      <td>1.003690</td>\n",
       "      <td>4.010000</td>\n",
       "      <td>2.000000</td>\n",
       "      <td>14.900000</td>\n",
       "      <td>1.000000</td>\n",
       "    </tr>\n",
       "  </tbody>\n",
       "</table>\n",
       "</div>"
      ],
      "text/plain": [
       "       fixed acidity  volatile acidity  citric acid  residual sugar   \n",
       "count    1599.000000       1599.000000  1599.000000     1599.000000  \\\n",
       "mean        8.319637          0.527821     0.270976        2.538806   \n",
       "std         1.741096          0.179060     0.194801        1.409928   \n",
       "min         4.600000          0.120000     0.000000        0.900000   \n",
       "25%         7.100000          0.390000     0.090000        1.900000   \n",
       "50%         7.900000          0.520000     0.260000        2.200000   \n",
       "75%         9.200000          0.640000     0.420000        2.600000   \n",
       "max        15.900000          1.580000     1.000000       15.500000   \n",
       "\n",
       "         chlorides  free sulfur dioxide  total sulfur dioxide      density   \n",
       "count  1599.000000          1599.000000           1599.000000  1599.000000  \\\n",
       "mean      0.087467            15.874922             46.467792     0.996747   \n",
       "std       0.047065            10.460157             32.895324     0.001887   \n",
       "min       0.012000             1.000000              6.000000     0.990070   \n",
       "25%       0.070000             7.000000             22.000000     0.995600   \n",
       "50%       0.079000            14.000000             38.000000     0.996750   \n",
       "75%       0.090000            21.000000             62.000000     0.997835   \n",
       "max       0.611000            72.000000            289.000000     1.003690   \n",
       "\n",
       "                pH    sulphates      alcohol      quality  \n",
       "count  1599.000000  1599.000000  1599.000000  1599.000000  \n",
       "mean      3.311113     0.658149    10.422983     0.534709  \n",
       "std       0.154386     0.169507     1.065668     0.498950  \n",
       "min       2.740000     0.330000     8.400000     0.000000  \n",
       "25%       3.210000     0.550000     9.500000     0.000000  \n",
       "50%       3.310000     0.620000    10.200000     1.000000  \n",
       "75%       3.400000     0.730000    11.100000     1.000000  \n",
       "max       4.010000     2.000000    14.900000     1.000000  "
      ]
     },
     "execution_count": 4,
     "metadata": {},
     "output_type": "execute_result"
    }
   ],
   "source": [
    "df.describe()"
   ]
  },
  {
   "cell_type": "code",
   "execution_count": 5,
   "metadata": {
    "colab": {
     "base_uri": "https://localhost:8080/",
     "height": 1000
    },
    "id": "v8iBxqtqVQ3F",
    "outputId": "6ceafed7-545a-40e1-80ff-6a5cd6fd6685"
   },
   "outputs": [
    {
     "data": {
      "image/png": "[encoded data removed]",
      "text/plain": [
       "<Figure size 360x360 with 1 Axes>"
      ]
     },
     "metadata": {
      "needs_background": "light"
     },
     "output_type": "display_data"
    },
    {
     "data": {
      "image/png": "[encoded data removed]",
      "text/plain": [
       "<Figure size 360x360 with 1 Axes>"
      ]
     },
     "metadata": {
      "needs_background": "light"
     },
     "output_type": "display_data"
    },
    {
     "data": {
      "image/png": "[encoded data removed]",
      "text/plain": [
       "<Figure size 360x360 with 1 Axes>"
      ]
     },
     "metadata": {
      "needs_background": "light"
     },
     "output_type": "display_data"
    },
    {
     "data": {
      "image/png": "[encoded data removed]",
      "text/plain": [
       "<Figure size 360x360 with 1 Axes>"
      ]
     },
     "metadata": {
      "needs_background": "light"
     },
     "output_type": "display_data"
    },
    {
     "data": {
      "image/png": "[encoded data removed]",
      "text/plain": [
       "<Figure size 360x360 with 1 Axes>"
      ]
     },
     "metadata": {
      "needs_background": "light"
     },
     "output_type": "display_data"
    },
    {
     "data": {
      "image/png": "[encoded data removed]",
      "text/plain": [
       "<Figure size 360x360 with 1 Axes>"
      ]
     },
     "metadata": {
      "needs_background": "light"
     },
     "output_type": "display_data"
    },
    {
     "data": {
      "image/png": "[encoded data removed]",
      "text/plain": [
       "<Figure size 360x360 with 1 Axes>"
      ]
     },
     "metadata": {
      "needs_background": "light"
     },
     "output_type": "display_data"
    },
    {
     "data": {
      "image/png": "[encoded data removed]",
      "text/plain": [
       "<Figure size 360x360 with 1 Axes>"
      ]
     },
     "metadata": {
      "needs_background": "light"
     },
     "output_type": "display_data"
    },
    {
     "data": {
      "image/png": "[encoded data removed]",
      "text/plain": [
       "<Figure size 360x360 with 1 Axes>"
      ]
     },
     "metadata": {
      "needs_background": "light"
     },
     "output_type": "display_data"
    },
    {
     "data": {
      "image/png": "[encoded data removed]",
      "text/plain": [
       "<Figure size 360x360 with 1 Axes>"
      ]
     },
     "metadata": {
      "needs_background": "light"
     },
     "output_type": "display_data"
    },
    {
     "data": {
      "image/png": "[encoded data removed]",
      "text/plain": [
       "<Figure size 360x360 with 1 Axes>"
      ]
     },
     "metadata": {
      "needs_background": "light"
     },
     "output_type": "display_data"
    }
   ],
   "source": [
    "for i in df.drop('quality',axis=1).columns:\n",
    "  sns.displot(df[[i]], x=i)"
   ]
  },
  {
   "cell_type": "code",
   "execution_count": 7,
   "metadata": {
    "colab": {
     "base_uri": "https://localhost:8080/",
     "height": 1000
    },
    "id": "GVeLE1dNlRcu",
    "outputId": "9a47315a-e41e-4e7b-bd47-e602163e8b07"
   },
   "outputs": [
    {
     "data": {
      "image/png": "[encoded data removed]",
      "text/plain": [
       "<Figure size 432x3600 with 11 Axes>"
      ]
     },
     "metadata": {
      "needs_background": "light"
     },
     "output_type": "display_data"
    }
   ],
   "source": [
    "cols = df.drop('quality',axis=1).columns\n",
    "figure, axes = plt.subplots(len(cols), figsize=(6,50))\n",
    "for i in range(len(cols)):\n",
    "  axes[i].boxplot(df[[cols[i]]])\n",
    "  axes[i].set_title(cols[i])\n"
   ]
  },
  {
   "cell_type": "code",
   "execution_count": 8,
   "metadata": {
    "colab": {
     "base_uri": "https://localhost:8080/"
    },
    "id": "WICg0oTQPaEA",
    "outputId": "aca349f5-58e2-4f52-f9a1-9faa93e1724d"
   },
   "outputs": [
    {
     "data": {
      "text/plain": [
       "0"
      ]
     },
     "execution_count": 8,
     "metadata": {},
     "output_type": "execute_result"
    }
   ],
   "source": [
    "df.isna().sum().sum()"
   ]
  },
  {
   "cell_type": "markdown",
   "metadata": {
    "id": "p52jr5NUpxrw"
   },
   "source": [
    "# Логит-модель"
   ]
  },
  {
   "cell_type": "code",
   "execution_count": 9,
   "metadata": {
    "id": "5O-6esjwOj49"
   },
   "outputs": [],
   "source": [
    "X, y = df.drop('quality',axis=1), df['quality']\n",
    "#X['intercept'] = 1\n",
    "X_train, X_test, y_train, y_test = train_test_split(X, y, test_size=0.3, random_state=42)"
   ]
  },
  {
   "cell_type": "code",
   "execution_count": 10,
   "metadata": {
    "colab": {
     "base_uri": "https://localhost:8080/"
    },
    "id": "vsK2Mkn4RHTV",
    "outputId": "a0604f7b-17fd-4ba3-a0f0-e9e536a7c15a"
   },
   "outputs": [
    {
     "name": "stdout",
     "output_type": "stream",
     "text": [
      "Optimization terminated successfully.\n",
      "         Current function value: 0.509417\n",
      "         Iterations 6\n"
     ]
    },
    {
     "data": {
      "text/plain": [
       "fixed acidity           0.099908\n",
       "volatile acidity       -3.480969\n",
       "citric acid            -1.412619\n",
       "residual sugar          0.001433\n",
       "chlorides              -2.644580\n",
       "free sulfur dioxide     0.026274\n",
       "total sulfur dioxide   -0.017684\n",
       "density                -9.410823\n",
       "pH                     -0.019682\n",
       "sulphates               2.427461\n",
       "alcohol                 0.967545\n",
       "dtype: float64"
      ]
     },
     "execution_count": 10,
     "metadata": {},
     "output_type": "execute_result"
    }
   ],
   "source": [
    "logit_model = Logit(y_train, X_train).fit(method='newton')\n",
    "logit_model.params"
   ]
  },
  {
   "cell_type": "code",
   "execution_count": 11,
   "metadata": {
    "colab": {
     "base_uri": "https://localhost:8080/",
     "height": 61
    },
    "id": "mIMnZQrJSgOg",
    "outputId": "2192df3d-af33-47e7-aeb8-3b24c5e5b6b9"
   },
   "outputs": [
    {
     "data": {
      "text/latex": [
       "$\\displaystyle \\hat{y} = 0.1 \\beta_{1} + 2.427 \\beta_{10} + 0.968 \\beta_{11} - 3.481 \\beta_{2} - 1.413 \\beta_{3} + 0.001 \\beta_{4} - 2.645 \\beta_{5} + 0.026 \\beta_{6} - 0.018 \\beta_{7} - 9.411 \\beta_{8} - 0.02 \\beta_{9}$"
      ],
      "text/plain": [
       "Eq(\\hat{y}, 0.1*beta1 + 2.427*beta10 + 0.968*beta11 - 3.481*beta2 - 1.413*beta3 + 0.001*beta4 - 2.645*beta5 + 0.026*beta6 - 0.018*beta7 - 9.411*beta8 - 0.02*beta9)"
      ]
     },
     "execution_count": 11,
     "metadata": {},
     "output_type": "execute_result"
    }
   ],
   "source": [
    "beta1, beta2, beta3, beta4, beta5, beta6, beta7, beta8, beta9, beta10, beta11 = sp.symbols('beta1 beta2 beta3 beta4 beta5 beta6 beta7 beta8 beta9 beta10 beta11')\n",
    "y_star = sp.Symbol('\\hat{y}')\n",
    "beta = sp.Matrix([beta1, beta2, beta3, beta4, beta5, beta6, beta7, beta8, beta9, beta10, beta11])\n",
    "sp.Eq(y_star,(sp.Matrix(np.round(logit_model.params.values,3)).T@beta)[0])"
   ]
  },
  {
   "cell_type": "code",
   "execution_count": 14,
   "metadata": {
    "colab": {
     "base_uri": "https://localhost:8080/",
     "height": 452
    },
    "id": "NH_DDIeZ4JlI",
    "outputId": "39705bd7-5e3b-4a47-c94f-b37aa9e7a247"
   },
   "outputs": [
    {
     "data": {
      "image/png": "[encoded data removed]",
      "text/plain": [
       "<Figure size 432x288 with 1 Axes>"
      ]
     },
     "metadata": {
      "needs_background": "light"
     },
     "output_type": "display_data"
    }
   ],
   "source": [
    "x_axis = X_train @ logit_model.params.values\n",
    "plt.scatter(x_axis, y_train, color='tab:blue', label='Целевая переменная')\n",
    "plt.plot(x_axis.sort_values().values, logit_model.predict(X_train).sort_values().values,color='tab:red', label='Логит-модель')\n",
    "plt.legend()\n",
    "plt.title('Граница принятия решений логит-модели')\n",
    "plt.grid()"
   ]
  },
  {
   "cell_type": "code",
   "execution_count": 15,
   "metadata": {
    "colab": {
     "base_uri": "https://localhost:8080/",
     "height": 436
    },
    "id": "LtBlyGIWSkdZ",
    "outputId": "6c450882-910c-43c9-a896-f2aff34ba08c"
   },
   "outputs": [
    {
     "data": {
      "text/html": [
       "<table class=\"simpletable\">\n",
       "<caption>Logit Regression Results</caption>\n",
       "<tr>\n",
       "  <th>Dep. Variable:</th>        <td>quality</td>     <th>  No. Observations:  </th>  <td>  1119</td>  \n",
       "</tr>\n",
       "<tr>\n",
       "  <th>Model:</th>                 <td>Logit</td>      <th>  Df Residuals:      </th>  <td>  1108</td>  \n",
       "</tr>\n",
       "<tr>\n",
       "  <th>Method:</th>                 <td>MLE</td>       <th>  Df Model:          </th>  <td>    10</td>  \n",
       "</tr>\n",
       "<tr>\n",
       "  <th>Date:</th>            <td>Sun, 24 Sep 2023</td> <th>  Pseudo R-squ.:     </th>  <td>0.2637</td>  \n",
       "</tr>\n",
       "<tr>\n",
       "  <th>Time:</th>                <td>17:33:58</td>     <th>  Log-Likelihood:    </th> <td> -570.04</td> \n",
       "</tr>\n",
       "<tr>\n",
       "  <th>converged:</th>             <td>True</td>       <th>  LL-Null:           </th> <td> -774.18</td> \n",
       "</tr>\n",
       "<tr>\n",
       "  <th>Covariance Type:</th>     <td>nonrobust</td>    <th>  LLR p-value:       </th> <td>1.623e-81</td>\n",
       "</tr>\n",
       "</table>\n",
       "<table class=\"simpletable\">\n",
       "<tr>\n",
       "            <td></td>              <th>coef</th>     <th>std err</th>      <th>z</th>      <th>P>|z|</th>  <th>[0.025</th>    <th>0.975]</th>  \n",
       "</tr>\n",
       "<tr>\n",
       "  <th>fixed acidity</th>        <td>    0.0999</td> <td>    0.076</td> <td>    1.317</td> <td> 0.188</td> <td>   -0.049</td> <td>    0.249</td>\n",
       "</tr>\n",
       "<tr>\n",
       "  <th>volatile acidity</th>     <td>   -3.4810</td> <td>    0.586</td> <td>   -5.940</td> <td> 0.000</td> <td>   -4.629</td> <td>   -2.332</td>\n",
       "</tr>\n",
       "<tr>\n",
       "  <th>citric acid</th>          <td>   -1.4126</td> <td>    0.683</td> <td>   -2.069</td> <td> 0.039</td> <td>   -2.751</td> <td>   -0.074</td>\n",
       "</tr>\n",
       "<tr>\n",
       "  <th>residual sugar</th>       <td>    0.0014</td> <td>    0.052</td> <td>    0.027</td> <td> 0.978</td> <td>   -0.101</td> <td>    0.104</td>\n",
       "</tr>\n",
       "<tr>\n",
       "  <th>chlorides</th>            <td>   -2.6446</td> <td>    1.850</td> <td>   -1.429</td> <td> 0.153</td> <td>   -6.271</td> <td>    0.982</td>\n",
       "</tr>\n",
       "<tr>\n",
       "  <th>free sulfur dioxide</th>  <td>    0.0263</td> <td>    0.010</td> <td>    2.579</td> <td> 0.010</td> <td>    0.006</td> <td>    0.046</td>\n",
       "</tr>\n",
       "<tr>\n",
       "  <th>total sulfur dioxide</th> <td>   -0.0177</td> <td>    0.004</td> <td>   -4.944</td> <td> 0.000</td> <td>   -0.025</td> <td>   -0.011</td>\n",
       "</tr>\n",
       "<tr>\n",
       "  <th>density</th>              <td>   -9.4108</td> <td>    2.856</td> <td>   -3.295</td> <td> 0.001</td> <td>  -15.008</td> <td>   -3.813</td>\n",
       "</tr>\n",
       "<tr>\n",
       "  <th>pH</th>                   <td>   -0.0197</td> <td>    0.720</td> <td>   -0.027</td> <td> 0.978</td> <td>   -1.430</td> <td>    1.391</td>\n",
       "</tr>\n",
       "<tr>\n",
       "  <th>sulphates</th>            <td>    2.4275</td> <td>    0.494</td> <td>    4.909</td> <td> 0.000</td> <td>    1.458</td> <td>    3.397</td>\n",
       "</tr>\n",
       "<tr>\n",
       "  <th>alcohol</th>              <td>    0.9675</td> <td>    0.092</td> <td>   10.509</td> <td> 0.000</td> <td>    0.787</td> <td>    1.148</td>\n",
       "</tr>\n",
       "</table>"
      ],
      "text/plain": [
       "<class 'statsmodels.iolib.summary.Summary'>\n",
       "\"\"\"\n",
       "                           Logit Regression Results                           \n",
       "==============================================================================\n",
       "Dep. Variable:                quality   No. Observations:                 1119\n",
       "Model:                          Logit   Df Residuals:                     1108\n",
       "Method:                           MLE   Df Model:                           10\n",
       "Date:                Sun, 24 Sep 2023   Pseudo R-squ.:                  0.2637\n",
       "Time:                        17:33:58   Log-Likelihood:                -570.04\n",
       "converged:                       True   LL-Null:                       -774.18\n",
       "Covariance Type:            nonrobust   LLR p-value:                 1.623e-81\n",
       "========================================================================================\n",
       "                           coef    std err          z      P>|z|      [0.025      0.975]\n",
       "----------------------------------------------------------------------------------------\n",
       "fixed acidity            0.0999      0.076      1.317      0.188      -0.049       0.249\n",
       "volatile acidity        -3.4810      0.586     -5.940      0.000      -4.629      -2.332\n",
       "citric acid             -1.4126      0.683     -2.069      0.039      -2.751      -0.074\n",
       "residual sugar           0.0014      0.052      0.027      0.978      -0.101       0.104\n",
       "chlorides               -2.6446      1.850     -1.429      0.153      -6.271       0.982\n",
       "free sulfur dioxide      0.0263      0.010      2.579      0.010       0.006       0.046\n",
       "total sulfur dioxide    -0.0177      0.004     -4.944      0.000      -0.025      -0.011\n",
       "density                 -9.4108      2.856     -3.295      0.001     -15.008      -3.813\n",
       "pH                      -0.0197      0.720     -0.027      0.978      -1.430       1.391\n",
       "sulphates                2.4275      0.494      4.909      0.000       1.458       3.397\n",
       "alcohol                  0.9675      0.092     10.509      0.000       0.787       1.148\n",
       "========================================================================================\n",
       "\"\"\""
      ]
     },
     "execution_count": 15,
     "metadata": {},
     "output_type": "execute_result"
    }
   ],
   "source": [
    "logit_model.summary()"
   ]
  },
  {
   "cell_type": "markdown",
   "metadata": {
    "id": "kMjlpBQD9yaT"
   },
   "source": [
    "Значимые признаки: volatile acidity, citric acid, free sulfur dioxide, total sulfur dioxide, density, sulphates, alcohol\n",
    "\n",
    "Незначимые признаки: fixed acidity, residual sugar, chlorides, pH"
   ]
  },
  {
   "cell_type": "code",
   "execution_count": 16,
   "metadata": {
    "colab": {
     "base_uri": "https://localhost:8080/",
     "height": 363
    },
    "id": "g_nANOKuZXc6",
    "outputId": "06a0aad2-664f-40f6-a2ed-974f26cc2a56"
   },
   "outputs": [
    {
     "data": {
      "text/html": [
       "<div>\n",
       "<style scoped>\n",
       "    .dataframe tbody tr th:only-of-type {\n",
       "        vertical-align: middle;\n",
       "    }\n",
       "\n",
       "    .dataframe tbody tr th {\n",
       "        vertical-align: top;\n",
       "    }\n",
       "\n",
       "    .dataframe thead th {\n",
       "        text-align: right;\n",
       "    }\n",
       "</style>\n",
       "<table border=\"1\" class=\"dataframe\">\n",
       "  <thead>\n",
       "    <tr style=\"text-align: right;\">\n",
       "      <th></th>\n",
       "      <th>X^Tb</th>\n",
       "      <th>result</th>\n",
       "      <th>P(y=1)</th>\n",
       "      <th>P(y=0)</th>\n",
       "      <th>LnLHood</th>\n",
       "      <th>pred</th>\n",
       "    </tr>\n",
       "  </thead>\n",
       "  <tbody>\n",
       "    <tr>\n",
       "      <th>925</th>\n",
       "      <td>2.762214</td>\n",
       "      <td>1</td>\n",
       "      <td>0.940599</td>\n",
       "      <td>0.059401</td>\n",
       "      <td>-0.061238</td>\n",
       "      <td>1</td>\n",
       "    </tr>\n",
       "    <tr>\n",
       "      <th>363</th>\n",
       "      <td>0.987608</td>\n",
       "      <td>0</td>\n",
       "      <td>0.728615</td>\n",
       "      <td>0.271385</td>\n",
       "      <td>-1.304218</td>\n",
       "      <td>1</td>\n",
       "    </tr>\n",
       "    <tr>\n",
       "      <th>906</th>\n",
       "      <td>0.098535</td>\n",
       "      <td>0</td>\n",
       "      <td>0.524614</td>\n",
       "      <td>0.475386</td>\n",
       "      <td>-0.743628</td>\n",
       "      <td>1</td>\n",
       "    </tr>\n",
       "    <tr>\n",
       "      <th>426</th>\n",
       "      <td>0.516476</td>\n",
       "      <td>1</td>\n",
       "      <td>0.626323</td>\n",
       "      <td>0.373677</td>\n",
       "      <td>-0.467889</td>\n",
       "      <td>1</td>\n",
       "    </tr>\n",
       "    <tr>\n",
       "      <th>1251</th>\n",
       "      <td>-0.545961</td>\n",
       "      <td>0</td>\n",
       "      <td>0.366802</td>\n",
       "      <td>0.633198</td>\n",
       "      <td>-0.456972</td>\n",
       "      <td>0</td>\n",
       "    </tr>\n",
       "    <tr>\n",
       "      <th>1274</th>\n",
       "      <td>0.821140</td>\n",
       "      <td>1</td>\n",
       "      <td>0.694478</td>\n",
       "      <td>0.305522</td>\n",
       "      <td>-0.364594</td>\n",
       "      <td>1</td>\n",
       "    </tr>\n",
       "    <tr>\n",
       "      <th>346</th>\n",
       "      <td>2.075317</td>\n",
       "      <td>1</td>\n",
       "      <td>0.888481</td>\n",
       "      <td>0.111519</td>\n",
       "      <td>-0.118242</td>\n",
       "      <td>1</td>\n",
       "    </tr>\n",
       "    <tr>\n",
       "      <th>1105</th>\n",
       "      <td>2.022868</td>\n",
       "      <td>0</td>\n",
       "      <td>0.883177</td>\n",
       "      <td>0.116823</td>\n",
       "      <td>-2.147097</td>\n",
       "      <td>1</td>\n",
       "    </tr>\n",
       "    <tr>\n",
       "      <th>1564</th>\n",
       "      <td>-0.469909</td>\n",
       "      <td>0</td>\n",
       "      <td>0.384638</td>\n",
       "      <td>0.615362</td>\n",
       "      <td>-0.485544</td>\n",
       "      <td>0</td>\n",
       "    </tr>\n",
       "    <tr>\n",
       "      <th>643</th>\n",
       "      <td>-1.311850</td>\n",
       "      <td>0</td>\n",
       "      <td>0.212178</td>\n",
       "      <td>0.787822</td>\n",
       "      <td>-0.238482</td>\n",
       "      <td>0</td>\n",
       "    </tr>\n",
       "  </tbody>\n",
       "</table>\n",
       "</div>"
      ],
      "text/plain": [
       "          X^Tb  result    P(y=1)    P(y=0)   LnLHood  pred\n",
       "925   2.762214       1  0.940599  0.059401 -0.061238     1\n",
       "363   0.987608       0  0.728615  0.271385 -1.304218     1\n",
       "906   0.098535       0  0.524614  0.475386 -0.743628     1\n",
       "426   0.516476       1  0.626323  0.373677 -0.467889     1\n",
       "1251 -0.545961       0  0.366802  0.633198 -0.456972     0\n",
       "1274  0.821140       1  0.694478  0.305522 -0.364594     1\n",
       "346   2.075317       1  0.888481  0.111519 -0.118242     1\n",
       "1105  2.022868       0  0.883177  0.116823 -2.147097     1\n",
       "1564 -0.469909       0  0.384638  0.615362 -0.485544     0\n",
       "643  -1.311850       0  0.212178  0.787822 -0.238482     0"
      ]
     },
     "execution_count": 16,
     "metadata": {},
     "output_type": "execute_result"
    }
   ],
   "source": [
    "XTb = X_train@logit_model.params\n",
    "result = y_train\n",
    "prediction1 = logit_model.predict(X_train)\n",
    "prediction0 = 1 - prediction1\n",
    "LnLikelihood = np.log(prediction1**result * prediction0**(1-result))\n",
    "prediction_y = (logit_model.predict(X_train)>0.5).astype(np.int64)\n",
    "cols = [XTb, result, prediction1, prediction0, LnLikelihood, prediction_y]\n",
    "col_names = ['X^Tb', 'result', 'P(y=1)', 'P(y=0)', 'LnLHood', 'pred']\n",
    "\n",
    "res_table = pd.DataFrame(dict(zip(col_names,cols)))\n",
    "n = res_table.shape[0]\n",
    "res_table.head(10)"
   ]
  },
  {
   "cell_type": "code",
   "execution_count": 17,
   "metadata": {
    "colab": {
     "base_uri": "https://localhost:8080/"
    },
    "id": "UVDN-5ELqjFH",
    "outputId": "594108f7-16a7-4391-d966-d6c1bd38d716"
   },
   "outputs": [
    {
     "name": "stdout",
     "output_type": "stream",
     "text": [
      "Логарифм правдоподобия: -570.0371\n",
      "Логарифм правдоподобия для тривиальной модели: -774.1793\n",
      "Критерий отношения правдоподобия: 408.2844\n",
      "Критическое значение: 3.8415\n",
      "H0 отвергается => ур-е значимо\n",
      "R2_pseudo: 0.267\n",
      "R2_McFadden: 0.264\n",
      "R2_p: 0.537\n"
     ]
    }
   ],
   "source": [
    "LnLikelihood_res = res_table['LnLHood'].sum()\n",
    "print(f'Логарифм правдоподобия: {np.round(LnLikelihood_res,4)}')\n",
    "\n",
    "p0_hat = res_table['result'].mean()\n",
    "Ln_L0 = res_table['result'].sum()*np.log(p0_hat) + (n-res_table['result'].sum())*np.log(1-p0_hat)\n",
    "print(f'Логарифм правдоподобия для тривиальной модели: {np.round(Ln_L0,4)}')\n",
    "\n",
    "LR = 2 * (LnLikelihood_res - Ln_L0)\n",
    "print(f'Критерий отношения правдоподобия: {np.round(LR,4)}')\n",
    "\n",
    "alpha = 0.05\n",
    "nu = 1\n",
    "chi2_cr = sts.chi2.isf(alpha, nu)\n",
    "print(f'Критическое значение: {np.round(chi2_cr,4)}')\n",
    "if LR > chi2_cr:\n",
    "  print('H0 отвергается => ур-е значимо')\n",
    "else:\n",
    "  print('H0 не отвергается => ур-е незначимо')\n",
    "\n",
    "R2_pseudo = 1 - 1/(1+LR/n)\n",
    "print(f'R2_pseudo: {np.round(R2_pseudo,3)}')\n",
    "\n",
    "R2_McF = 1 - LnLikelihood_res/Ln_L0\n",
    "print(f'R2_McFadden: {np.round(R2_McF,3)}')\n",
    "\n",
    "wr1 = ((res_table['result']-res_table['pred'])**2).mean()\n",
    "wr0 = p0_hat\n",
    "R2_p = 1 - wr1/wr0\n",
    "print(f'R2_p: {np.round(R2_p,3)}')"
   ]
  },
  {
   "cell_type": "code",
   "execution_count": 18,
   "metadata": {
    "colab": {
     "base_uri": "https://localhost:8080/",
     "height": 394
    },
    "id": "EXOlHDA8GHOT",
    "outputId": "777fdb04-adf3-4ed2-958a-345e8b59c3c0"
   },
   "outputs": [
    {
     "data": {
      "text/html": [
       "<div>\n",
       "<style scoped>\n",
       "    .dataframe tbody tr th:only-of-type {\n",
       "        vertical-align: middle;\n",
       "    }\n",
       "\n",
       "    .dataframe tbody tr th {\n",
       "        vertical-align: top;\n",
       "    }\n",
       "\n",
       "    .dataframe thead th {\n",
       "        text-align: right;\n",
       "    }\n",
       "</style>\n",
       "<table border=\"1\" class=\"dataframe\">\n",
       "  <thead>\n",
       "    <tr style=\"text-align: right;\">\n",
       "      <th></th>\n",
       "      <th>Предельный эффект</th>\n",
       "    </tr>\n",
       "  </thead>\n",
       "  <tbody>\n",
       "    <tr>\n",
       "      <th>fixed acidity</th>\n",
       "      <td>0.024765</td>\n",
       "    </tr>\n",
       "    <tr>\n",
       "      <th>volatile acidity</th>\n",
       "      <td>-0.862854</td>\n",
       "    </tr>\n",
       "    <tr>\n",
       "      <th>citric acid</th>\n",
       "      <td>-0.350156</td>\n",
       "    </tr>\n",
       "    <tr>\n",
       "      <th>residual sugar</th>\n",
       "      <td>0.000355</td>\n",
       "    </tr>\n",
       "    <tr>\n",
       "      <th>chlorides</th>\n",
       "      <td>-0.655532</td>\n",
       "    </tr>\n",
       "    <tr>\n",
       "      <th>free sulfur dioxide</th>\n",
       "      <td>0.006513</td>\n",
       "    </tr>\n",
       "    <tr>\n",
       "      <th>total sulfur dioxide</th>\n",
       "      <td>-0.004384</td>\n",
       "    </tr>\n",
       "    <tr>\n",
       "      <th>density</th>\n",
       "      <td>-2.332731</td>\n",
       "    </tr>\n",
       "    <tr>\n",
       "      <th>pH</th>\n",
       "      <td>-0.004879</td>\n",
       "    </tr>\n",
       "    <tr>\n",
       "      <th>sulphates</th>\n",
       "      <td>0.601713</td>\n",
       "    </tr>\n",
       "    <tr>\n",
       "      <th>alcohol</th>\n",
       "      <td>0.239833</td>\n",
       "    </tr>\n",
       "  </tbody>\n",
       "</table>\n",
       "</div>"
      ],
      "text/plain": [
       "                      Предельный эффект\n",
       "fixed acidity                  0.024765\n",
       "volatile acidity              -0.862854\n",
       "citric acid                   -0.350156\n",
       "residual sugar                 0.000355\n",
       "chlorides                     -0.655532\n",
       "free sulfur dioxide            0.006513\n",
       "total sulfur dioxide          -0.004384\n",
       "density                       -2.332731\n",
       "pH                            -0.004879\n",
       "sulphates                      0.601713\n",
       "alcohol                        0.239833"
      ]
     },
     "execution_count": 18,
     "metadata": {},
     "output_type": "execute_result"
    }
   ],
   "source": [
    "p1 = logit_model.predict(X_train.mean(axis=0))[0]\n",
    "pd.DataFrame(p1*(1-p1)*logit_model.params,columns=['Предельный эффект'])"
   ]
  },
  {
   "cell_type": "code",
   "execution_count": 19,
   "metadata": {
    "colab": {
     "base_uri": "https://localhost:8080/",
     "height": 417
    },
    "id": "d_6hAkhtxOV8",
    "outputId": "7c163027-35f7-4e57-9168-7f96ff6d10fe"
   },
   "outputs": [
    {
     "data": {
      "text/html": [
       "<div>\n",
       "<style scoped>\n",
       "    .dataframe tbody tr th:only-of-type {\n",
       "        vertical-align: middle;\n",
       "    }\n",
       "\n",
       "    .dataframe tbody tr th {\n",
       "        vertical-align: top;\n",
       "    }\n",
       "\n",
       "    .dataframe thead th {\n",
       "        text-align: right;\n",
       "    }\n",
       "</style>\n",
       "<table border=\"1\" class=\"dataframe\">\n",
       "  <thead>\n",
       "    <tr style=\"text-align: right;\">\n",
       "      <th></th>\n",
       "      <th>fixed acidity</th>\n",
       "      <th>volatile acidity</th>\n",
       "      <th>citric acid</th>\n",
       "      <th>residual sugar</th>\n",
       "      <th>chlorides</th>\n",
       "      <th>free sulfur dioxide</th>\n",
       "      <th>total sulfur dioxide</th>\n",
       "      <th>density</th>\n",
       "      <th>pH</th>\n",
       "      <th>sulphates</th>\n",
       "      <th>alcohol</th>\n",
       "    </tr>\n",
       "  </thead>\n",
       "  <tbody>\n",
       "    <tr>\n",
       "      <th>0</th>\n",
       "      <td>4.600000</td>\n",
       "      <td>0.120000</td>\n",
       "      <td>0.000000</td>\n",
       "      <td>0.900000</td>\n",
       "      <td>0.012000</td>\n",
       "      <td>1.000000</td>\n",
       "      <td>6.000000</td>\n",
       "      <td>0.990070</td>\n",
       "      <td>2.740000</td>\n",
       "      <td>0.370000</td>\n",
       "      <td>8.400000</td>\n",
       "    </tr>\n",
       "    <tr>\n",
       "      <th>1</th>\n",
       "      <td>5.855556</td>\n",
       "      <td>0.282222</td>\n",
       "      <td>0.111111</td>\n",
       "      <td>2.522222</td>\n",
       "      <td>0.078556</td>\n",
       "      <td>8.444444</td>\n",
       "      <td>37.444444</td>\n",
       "      <td>0.991583</td>\n",
       "      <td>2.881111</td>\n",
       "      <td>0.551111</td>\n",
       "      <td>9.122222</td>\n",
       "    </tr>\n",
       "    <tr>\n",
       "      <th>2</th>\n",
       "      <td>7.111111</td>\n",
       "      <td>0.444444</td>\n",
       "      <td>0.222222</td>\n",
       "      <td>4.144444</td>\n",
       "      <td>0.145111</td>\n",
       "      <td>15.888889</td>\n",
       "      <td>68.888889</td>\n",
       "      <td>0.993097</td>\n",
       "      <td>3.022222</td>\n",
       "      <td>0.732222</td>\n",
       "      <td>9.844444</td>\n",
       "    </tr>\n",
       "    <tr>\n",
       "      <th>3</th>\n",
       "      <td>8.366667</td>\n",
       "      <td>0.606667</td>\n",
       "      <td>0.333333</td>\n",
       "      <td>5.766667</td>\n",
       "      <td>0.211667</td>\n",
       "      <td>23.333333</td>\n",
       "      <td>100.333333</td>\n",
       "      <td>0.994610</td>\n",
       "      <td>3.163333</td>\n",
       "      <td>0.913333</td>\n",
       "      <td>10.566667</td>\n",
       "    </tr>\n",
       "    <tr>\n",
       "      <th>4</th>\n",
       "      <td>9.622222</td>\n",
       "      <td>0.768889</td>\n",
       "      <td>0.444444</td>\n",
       "      <td>7.388889</td>\n",
       "      <td>0.278222</td>\n",
       "      <td>30.777778</td>\n",
       "      <td>131.777778</td>\n",
       "      <td>0.996123</td>\n",
       "      <td>3.304444</td>\n",
       "      <td>1.094444</td>\n",
       "      <td>11.288889</td>\n",
       "    </tr>\n",
       "    <tr>\n",
       "      <th>5</th>\n",
       "      <td>10.877778</td>\n",
       "      <td>0.931111</td>\n",
       "      <td>0.555556</td>\n",
       "      <td>9.011111</td>\n",
       "      <td>0.344778</td>\n",
       "      <td>38.222222</td>\n",
       "      <td>163.222222</td>\n",
       "      <td>0.997637</td>\n",
       "      <td>3.445556</td>\n",
       "      <td>1.275556</td>\n",
       "      <td>12.011111</td>\n",
       "    </tr>\n",
       "    <tr>\n",
       "      <th>6</th>\n",
       "      <td>12.133333</td>\n",
       "      <td>1.093333</td>\n",
       "      <td>0.666667</td>\n",
       "      <td>10.633333</td>\n",
       "      <td>0.411333</td>\n",
       "      <td>45.666667</td>\n",
       "      <td>194.666667</td>\n",
       "      <td>0.999150</td>\n",
       "      <td>3.586667</td>\n",
       "      <td>1.456667</td>\n",
       "      <td>12.733333</td>\n",
       "    </tr>\n",
       "    <tr>\n",
       "      <th>7</th>\n",
       "      <td>13.388889</td>\n",
       "      <td>1.255556</td>\n",
       "      <td>0.777778</td>\n",
       "      <td>12.255556</td>\n",
       "      <td>0.477889</td>\n",
       "      <td>53.111111</td>\n",
       "      <td>226.111111</td>\n",
       "      <td>1.000663</td>\n",
       "      <td>3.727778</td>\n",
       "      <td>1.637778</td>\n",
       "      <td>13.455556</td>\n",
       "    </tr>\n",
       "    <tr>\n",
       "      <th>8</th>\n",
       "      <td>14.644444</td>\n",
       "      <td>1.417778</td>\n",
       "      <td>0.888889</td>\n",
       "      <td>13.877778</td>\n",
       "      <td>0.544444</td>\n",
       "      <td>60.555556</td>\n",
       "      <td>257.555556</td>\n",
       "      <td>1.002177</td>\n",
       "      <td>3.868889</td>\n",
       "      <td>1.818889</td>\n",
       "      <td>14.177778</td>\n",
       "    </tr>\n",
       "    <tr>\n",
       "      <th>9</th>\n",
       "      <td>15.900000</td>\n",
       "      <td>1.580000</td>\n",
       "      <td>1.000000</td>\n",
       "      <td>15.500000</td>\n",
       "      <td>0.611000</td>\n",
       "      <td>68.000000</td>\n",
       "      <td>289.000000</td>\n",
       "      <td>1.003690</td>\n",
       "      <td>4.010000</td>\n",
       "      <td>2.000000</td>\n",
       "      <td>14.900000</td>\n",
       "    </tr>\n",
       "  </tbody>\n",
       "</table>\n",
       "</div>"
      ],
      "text/plain": [
       "   fixed acidity  volatile acidity  citric acid  residual sugar  chlorides   \n",
       "0       4.600000          0.120000     0.000000        0.900000   0.012000  \\\n",
       "1       5.855556          0.282222     0.111111        2.522222   0.078556   \n",
       "2       7.111111          0.444444     0.222222        4.144444   0.145111   \n",
       "3       8.366667          0.606667     0.333333        5.766667   0.211667   \n",
       "4       9.622222          0.768889     0.444444        7.388889   0.278222   \n",
       "5      10.877778          0.931111     0.555556        9.011111   0.344778   \n",
       "6      12.133333          1.093333     0.666667       10.633333   0.411333   \n",
       "7      13.388889          1.255556     0.777778       12.255556   0.477889   \n",
       "8      14.644444          1.417778     0.888889       13.877778   0.544444   \n",
       "9      15.900000          1.580000     1.000000       15.500000   0.611000   \n",
       "\n",
       "   free sulfur dioxide  total sulfur dioxide   density        pH  sulphates   \n",
       "0             1.000000              6.000000  0.990070  2.740000   0.370000  \\\n",
       "1             8.444444             37.444444  0.991583  2.881111   0.551111   \n",
       "2            15.888889             68.888889  0.993097  3.022222   0.732222   \n",
       "3            23.333333            100.333333  0.994610  3.163333   0.913333   \n",
       "4            30.777778            131.777778  0.996123  3.304444   1.094444   \n",
       "5            38.222222            163.222222  0.997637  3.445556   1.275556   \n",
       "6            45.666667            194.666667  0.999150  3.586667   1.456667   \n",
       "7            53.111111            226.111111  1.000663  3.727778   1.637778   \n",
       "8            60.555556            257.555556  1.002177  3.868889   1.818889   \n",
       "9            68.000000            289.000000  1.003690  4.010000   2.000000   \n",
       "\n",
       "     alcohol  \n",
       "0   8.400000  \n",
       "1   9.122222  \n",
       "2   9.844444  \n",
       "3  10.566667  \n",
       "4  11.288889  \n",
       "5  12.011111  \n",
       "6  12.733333  \n",
       "7  13.455556  \n",
       "8  14.177778  \n",
       "9  14.900000  "
      ]
     },
     "execution_count": 19,
     "metadata": {},
     "output_type": "execute_result"
    }
   ],
   "source": [
    "rng_features = []\n",
    "for i in X_train.columns:\n",
    "  feature = X_train[i]\n",
    "  rng_features.append(np.linspace(feature.min(),feature.max(),10))\n",
    "\n",
    "values = np.c_[rng_features].T\n",
    "values_df = pd.DataFrame(values,columns=X_train.columns)\n",
    "values_df"
   ]
  },
  {
   "cell_type": "code",
   "execution_count": 20,
   "metadata": {
    "colab": {
     "base_uri": "https://localhost:8080/",
     "height": 417
    },
    "id": "Y5627PFR7K1z",
    "outputId": "7a9a357a-4f74-47be-8c88-1de84137602c"
   },
   "outputs": [
    {
     "data": {
      "text/html": [
       "<div>\n",
       "<style scoped>\n",
       "    .dataframe tbody tr th:only-of-type {\n",
       "        vertical-align: middle;\n",
       "    }\n",
       "\n",
       "    .dataframe tbody tr th {\n",
       "        vertical-align: top;\n",
       "    }\n",
       "\n",
       "    .dataframe thead th {\n",
       "        text-align: right;\n",
       "    }\n",
       "</style>\n",
       "<table border=\"1\" class=\"dataframe\">\n",
       "  <thead>\n",
       "    <tr style=\"text-align: right;\">\n",
       "      <th></th>\n",
       "      <th>fixed acidity</th>\n",
       "      <th>volatile acidity</th>\n",
       "      <th>citric acid</th>\n",
       "      <th>residual sugar</th>\n",
       "      <th>chlorides</th>\n",
       "      <th>free sulfur dioxide</th>\n",
       "      <th>total sulfur dioxide</th>\n",
       "      <th>density</th>\n",
       "      <th>pH</th>\n",
       "      <th>sulphates</th>\n",
       "      <th>alcohol</th>\n",
       "    </tr>\n",
       "  </thead>\n",
       "  <tbody>\n",
       "    <tr>\n",
       "      <th>0</th>\n",
       "      <td>0.011132</td>\n",
       "      <td>-0.152172</td>\n",
       "      <td>-0.089002</td>\n",
       "      <td>0.000129</td>\n",
       "      <td>-0.207650</td>\n",
       "      <td>0.003243</td>\n",
       "      <td>-0.001220</td>\n",
       "      <td>-0.818612</td>\n",
       "      <td>-0.001752</td>\n",
       "      <td>0.385256</td>\n",
       "      <td>0.214387</td>\n",
       "    </tr>\n",
       "    <tr>\n",
       "      <th>1</th>\n",
       "      <td>0.010122</td>\n",
       "      <td>-0.249971</td>\n",
       "      <td>-0.101777</td>\n",
       "      <td>0.000129</td>\n",
       "      <td>-0.239624</td>\n",
       "      <td>0.002809</td>\n",
       "      <td>-0.001909</td>\n",
       "      <td>-0.828066</td>\n",
       "      <td>-0.001756</td>\n",
       "      <td>0.287215</td>\n",
       "      <td>0.241886</td>\n",
       "    </tr>\n",
       "    <tr>\n",
       "      <th>2</th>\n",
       "      <td>0.009175</td>\n",
       "      <td>-0.391975</td>\n",
       "      <td>-0.115972</td>\n",
       "      <td>0.000128</td>\n",
       "      <td>-0.274972</td>\n",
       "      <td>0.002413</td>\n",
       "      <td>-0.002794</td>\n",
       "      <td>-0.837599</td>\n",
       "      <td>-0.001760</td>\n",
       "      <td>0.204508</td>\n",
       "      <td>0.214823</td>\n",
       "    </tr>\n",
       "    <tr>\n",
       "      <th>3</th>\n",
       "      <td>0.008292</td>\n",
       "      <td>-0.571711</td>\n",
       "      <td>-0.131614</td>\n",
       "      <td>0.000128</td>\n",
       "      <td>-0.313507</td>\n",
       "      <td>0.002059</td>\n",
       "      <td>-0.003708</td>\n",
       "      <td>-0.847211</td>\n",
       "      <td>-0.001764</td>\n",
       "      <td>0.140916</td>\n",
       "      <td>0.154042</td>\n",
       "    </tr>\n",
       "    <tr>\n",
       "      <th>4</th>\n",
       "      <td>0.007474</td>\n",
       "      <td>-0.750925</td>\n",
       "      <td>-0.148680</td>\n",
       "      <td>0.000128</td>\n",
       "      <td>-0.354823</td>\n",
       "      <td>0.001746</td>\n",
       "      <td>-0.004326</td>\n",
       "      <td>-0.856903</td>\n",
       "      <td>-0.001768</td>\n",
       "      <td>0.094920</td>\n",
       "      <td>0.094532</td>\n",
       "    </tr>\n",
       "    <tr>\n",
       "      <th>5</th>\n",
       "      <td>0.006722</td>\n",
       "      <td>-0.860463</td>\n",
       "      <td>-0.167089</td>\n",
       "      <td>0.000128</td>\n",
       "      <td>-0.398259</td>\n",
       "      <td>0.001473</td>\n",
       "      <td>-0.004346</td>\n",
       "      <td>-0.866673</td>\n",
       "      <td>-0.001772</td>\n",
       "      <td>0.062967</td>\n",
       "      <td>0.052651</td>\n",
       "    </tr>\n",
       "    <tr>\n",
       "      <th>6</th>\n",
       "      <td>0.006032</td>\n",
       "      <td>-0.843850</td>\n",
       "      <td>-0.186686</td>\n",
       "      <td>0.000127</td>\n",
       "      <td>-0.442859</td>\n",
       "      <td>0.001237</td>\n",
       "      <td>-0.003758</td>\n",
       "      <td>-0.876522</td>\n",
       "      <td>-0.001776</td>\n",
       "      <td>0.041348</td>\n",
       "      <td>0.027767</td>\n",
       "    </tr>\n",
       "    <tr>\n",
       "      <th>7</th>\n",
       "      <td>0.005403</td>\n",
       "      <td>-0.710316</td>\n",
       "      <td>-0.207228</td>\n",
       "      <td>0.000127</td>\n",
       "      <td>-0.487371</td>\n",
       "      <td>0.001036</td>\n",
       "      <td>-0.002851</td>\n",
       "      <td>-0.886449</td>\n",
       "      <td>-0.001780</td>\n",
       "      <td>0.026971</td>\n",
       "      <td>0.014225</td>\n",
       "    </tr>\n",
       "    <tr>\n",
       "      <th>8</th>\n",
       "      <td>0.004831</td>\n",
       "      <td>-0.525362</td>\n",
       "      <td>-0.228372</td>\n",
       "      <td>0.000127</td>\n",
       "      <td>-0.530268</td>\n",
       "      <td>0.000864</td>\n",
       "      <td>-0.001958</td>\n",
       "      <td>-0.896454</td>\n",
       "      <td>-0.001784</td>\n",
       "      <td>0.017516</td>\n",
       "      <td>0.007180</td>\n",
       "    </tr>\n",
       "    <tr>\n",
       "      <th>9</th>\n",
       "      <td>0.004313</td>\n",
       "      <td>-0.352832</td>\n",
       "      <td>-0.249677</td>\n",
       "      <td>0.000127</td>\n",
       "      <td>-0.569822</td>\n",
       "      <td>0.000719</td>\n",
       "      <td>-0.001255</td>\n",
       "      <td>-0.906537</td>\n",
       "      <td>-0.001788</td>\n",
       "      <td>0.011344</td>\n",
       "      <td>0.003597</td>\n",
       "    </tr>\n",
       "  </tbody>\n",
       "</table>\n",
       "</div>"
      ],
      "text/plain": [
       "   fixed acidity  volatile acidity  citric acid  residual sugar  chlorides   \n",
       "0       0.011132         -0.152172    -0.089002        0.000129  -0.207650  \\\n",
       "1       0.010122         -0.249971    -0.101777        0.000129  -0.239624   \n",
       "2       0.009175         -0.391975    -0.115972        0.000128  -0.274972   \n",
       "3       0.008292         -0.571711    -0.131614        0.000128  -0.313507   \n",
       "4       0.007474         -0.750925    -0.148680        0.000128  -0.354823   \n",
       "5       0.006722         -0.860463    -0.167089        0.000128  -0.398259   \n",
       "6       0.006032         -0.843850    -0.186686        0.000127  -0.442859   \n",
       "7       0.005403         -0.710316    -0.207228        0.000127  -0.487371   \n",
       "8       0.004831         -0.525362    -0.228372        0.000127  -0.530268   \n",
       "9       0.004313         -0.352832    -0.249677        0.000127  -0.569822   \n",
       "\n",
       "   free sulfur dioxide  total sulfur dioxide   density        pH  sulphates   \n",
       "0             0.003243             -0.001220 -0.818612 -0.001752   0.385256  \\\n",
       "1             0.002809             -0.001909 -0.828066 -0.001756   0.287215   \n",
       "2             0.002413             -0.002794 -0.837599 -0.001760   0.204508   \n",
       "3             0.002059             -0.003708 -0.847211 -0.001764   0.140916   \n",
       "4             0.001746             -0.004326 -0.856903 -0.001768   0.094920   \n",
       "5             0.001473             -0.004346 -0.866673 -0.001772   0.062967   \n",
       "6             0.001237             -0.003758 -0.876522 -0.001776   0.041348   \n",
       "7             0.001036             -0.002851 -0.886449 -0.001780   0.026971   \n",
       "8             0.000864             -0.001958 -0.896454 -0.001784   0.017516   \n",
       "9             0.000719             -0.001255 -0.906537 -0.001788   0.011344   \n",
       "\n",
       "    alcohol  \n",
       "0  0.214387  \n",
       "1  0.241886  \n",
       "2  0.214823  \n",
       "3  0.154042  \n",
       "4  0.094532  \n",
       "5  0.052651  \n",
       "6  0.027767  \n",
       "7  0.014225  \n",
       "8  0.007180  \n",
       "9  0.003597  "
      ]
     },
     "execution_count": 20,
     "metadata": {},
     "output_type": "execute_result"
    }
   ],
   "source": [
    "fixed_features = X_train.sample(1,random_state=1)\n",
    "marg_eff_df = values_df.copy()\n",
    "\n",
    "for i in X_train.columns:\n",
    "  marg_col = []\n",
    "  for j in values_df[i]:\n",
    "    vals = fixed_features.copy()\n",
    "    vals[i] = j\n",
    "    p1 = logit_model.predict(vals.values)[0]\n",
    "    marg_col.append(p1*(1-p1)*logit_model.params[i])\n",
    "  marg_eff_df[i] = marg_col\n",
    "marg_eff_df"
   ]
  },
  {
   "cell_type": "code",
   "execution_count": 21,
   "metadata": {
    "colab": {
     "base_uri": "https://localhost:8080/",
     "height": 394
    },
    "id": "3YE6om6K3JWj",
    "outputId": "d14c8cce-9024-4f9c-97b1-f1d612ae7562"
   },
   "outputs": [
    {
     "data": {
      "text/html": [
       "<div>\n",
       "<style scoped>\n",
       "    .dataframe tbody tr th:only-of-type {\n",
       "        vertical-align: middle;\n",
       "    }\n",
       "\n",
       "    .dataframe tbody tr th {\n",
       "        vertical-align: top;\n",
       "    }\n",
       "\n",
       "    .dataframe thead th {\n",
       "        text-align: right;\n",
       "    }\n",
       "</style>\n",
       "<table border=\"1\" class=\"dataframe\">\n",
       "  <thead>\n",
       "    <tr style=\"text-align: right;\">\n",
       "      <th></th>\n",
       "      <th>Опт. значения</th>\n",
       "    </tr>\n",
       "  </thead>\n",
       "  <tbody>\n",
       "    <tr>\n",
       "      <th>fixed acidity</th>\n",
       "      <td>4.600</td>\n",
       "    </tr>\n",
       "    <tr>\n",
       "      <th>volatile acidity</th>\n",
       "      <td>0.120</td>\n",
       "    </tr>\n",
       "    <tr>\n",
       "      <th>citric acid</th>\n",
       "      <td>0.000</td>\n",
       "    </tr>\n",
       "    <tr>\n",
       "      <th>residual sugar</th>\n",
       "      <td>0.900</td>\n",
       "    </tr>\n",
       "    <tr>\n",
       "      <th>chlorides</th>\n",
       "      <td>0.012</td>\n",
       "    </tr>\n",
       "    <tr>\n",
       "      <th>free sulfur dioxide</th>\n",
       "      <td>1.000</td>\n",
       "    </tr>\n",
       "    <tr>\n",
       "      <th>total sulfur dioxide</th>\n",
       "      <td>6.000</td>\n",
       "    </tr>\n",
       "    <tr>\n",
       "      <th>density</th>\n",
       "      <td>0.990</td>\n",
       "    </tr>\n",
       "    <tr>\n",
       "      <th>pH</th>\n",
       "      <td>2.740</td>\n",
       "    </tr>\n",
       "    <tr>\n",
       "      <th>sulphates</th>\n",
       "      <td>0.370</td>\n",
       "    </tr>\n",
       "    <tr>\n",
       "      <th>alcohol</th>\n",
       "      <td>9.122</td>\n",
       "    </tr>\n",
       "  </tbody>\n",
       "</table>\n",
       "</div>"
      ],
      "text/plain": [
       "                      Опт. значения\n",
       "fixed acidity                 4.600\n",
       "volatile acidity              0.120\n",
       "citric acid                   0.000\n",
       "residual sugar                0.900\n",
       "chlorides                     0.012\n",
       "free sulfur dioxide           1.000\n",
       "total sulfur dioxide          6.000\n",
       "density                       0.990\n",
       "pH                            2.740\n",
       "sulphates                     0.370\n",
       "alcohol                       9.122"
      ]
     },
     "execution_count": 21,
     "metadata": {},
     "output_type": "execute_result"
    }
   ],
   "source": [
    "perfect_features = values_df[marg_eff_df == marg_eff_df.max(axis=0)].T.values.ravel()\n",
    "perfect_features = perfect_features[~np.isnan(perfect_features)]\n",
    "pd.DataFrame(np.round(perfect_features,3),index=X_train.columns, columns=['Опт. значения'])"
   ]
  },
  {
   "cell_type": "code",
   "execution_count": 22,
   "metadata": {
    "colab": {
     "base_uri": "https://localhost:8080/"
    },
    "id": "l4JcDTCM2hn9",
    "outputId": "dbb60d0e-c8fc-421b-8b3b-db96b35fe796"
   },
   "outputs": [
    {
     "data": {
      "text/plain": [
       "0.57067393584762"
      ]
     },
     "execution_count": 22,
     "metadata": {},
     "output_type": "execute_result"
    }
   ],
   "source": [
    "logit_model.predict(perfect_features)[0]"
   ]
  },
  {
   "cell_type": "markdown",
   "metadata": {
    "id": "K9fp3_pf6VvX"
   },
   "source": [
    "### Оценка обобщающей способности"
   ]
  },
  {
   "cell_type": "code",
   "execution_count": 23,
   "metadata": {
    "colab": {
     "base_uri": "https://localhost:8080/"
    },
    "id": "rWeMrz8Z6a3W",
    "outputId": "bf34cfa6-0739-4e31-f25e-c5fd118f52e8"
   },
   "outputs": [
    {
     "data": {
      "text/plain": [
       "(0.7569258266309205, 0.76592082616179)"
      ]
     },
     "execution_count": 23,
     "metadata": {},
     "output_type": "execute_result"
    }
   ],
   "source": [
    "y_pred_log = (logit_model.predict(X_train)>0.5).astype(np.int64)\n",
    "accuracy_score(y_pred_log,y_train), f1_score(y_pred_log,y_train)"
   ]
  },
  {
   "cell_type": "code",
   "execution_count": 24,
   "metadata": {
    "colab": {
     "base_uri": "https://localhost:8080/"
    },
    "id": "lXfbR5OFV7gv",
    "outputId": "de7591c1-bd05-457e-c4dd-d4e8a7b1d8bd"
   },
   "outputs": [
    {
     "data": {
      "text/plain": [
       "(0.7375, 0.7576923076923078)"
      ]
     },
     "execution_count": 24,
     "metadata": {},
     "output_type": "execute_result"
    }
   ],
   "source": [
    "y_pred_log = (logit_model.predict(X_test)>0.5).astype(np.int64)\n",
    "accuracy_score(y_pred_log,y_test), f1_score(y_pred_log,y_test)"
   ]
  },
  {
   "cell_type": "markdown",
   "metadata": {
    "id": "45RyVnql6m9o"
   },
   "source": [
    "# Пробит-модель"
   ]
  },
  {
   "cell_type": "code",
   "execution_count": 25,
   "metadata": {
    "colab": {
     "base_uri": "https://localhost:8080/"
    },
    "id": "78V-Jm8jRxPw",
    "outputId": "877d6200-917b-4251-b934-3791fbabadeb"
   },
   "outputs": [
    {
     "name": "stdout",
     "output_type": "stream",
     "text": [
      "Optimization terminated successfully.\n",
      "         Current function value: 0.511100\n",
      "         Iterations 6\n"
     ]
    },
    {
     "data": {
      "text/plain": [
       "fixed acidity           0.038887\n",
       "volatile acidity       -1.968680\n",
       "citric acid            -0.682810\n",
       "residual sugar         -0.003067\n",
       "chlorides              -1.752313\n",
       "free sulfur dioxide     0.015418\n",
       "total sulfur dioxide   -0.010810\n",
       "density                -4.971615\n",
       "pH                     -0.088047\n",
       "sulphates               1.445253\n",
       "alcohol                 0.550756\n",
       "dtype: float64"
      ]
     },
     "execution_count": 25,
     "metadata": {},
     "output_type": "execute_result"
    }
   ],
   "source": [
    "probit_model = Probit(y_train, X_train).fit(method='newton')\n",
    "probit_model.params"
   ]
  },
  {
   "cell_type": "code",
   "execution_count": 26,
   "metadata": {
    "colab": {
     "base_uri": "https://localhost:8080/",
     "height": 61
    },
    "id": "-y03L8joUoG6",
    "outputId": "6ad8fe4e-b2e9-46f3-b22d-9a997723aefe"
   },
   "outputs": [
    {
     "data": {
      "text/latex": [
       "$\\displaystyle \\hat{y} = 0.039 \\beta_{1} + 1.445 \\beta_{10} + 0.551 \\beta_{11} - 1.969 \\beta_{2} - 0.683 \\beta_{3} - 0.003 \\beta_{4} - 1.752 \\beta_{5} + 0.015 \\beta_{6} - 0.011 \\beta_{7} - 4.972 \\beta_{8} - 0.088 \\beta_{9}$"
      ],
      "text/plain": [
       "Eq(\\hat{y}, 0.039*beta1 + 1.445*beta10 + 0.551*beta11 - 1.969*beta2 - 0.683*beta3 - 0.003*beta4 - 1.752*beta5 + 0.015*beta6 - 0.011*beta7 - 4.972*beta8 - 0.088*beta9)"
      ]
     },
     "execution_count": 26,
     "metadata": {},
     "output_type": "execute_result"
    }
   ],
   "source": [
    "beta1, beta2, beta3, beta4, beta5, beta6, beta7, beta8, beta9, beta10, beta11 = sp.symbols('beta1 beta2 beta3 beta4 beta5 beta6 beta7 beta8 beta9 beta10 beta11')\n",
    "y_star = sp.Symbol('\\hat{y}')\n",
    "beta = sp.Matrix([beta1, beta2, beta3, beta4, beta5, beta6, beta7, beta8, beta9, beta10, beta11])\n",
    "sp.Eq(y_star,(sp.Matrix(np.round(probit_model.params.values,3)).T@beta)[0])"
   ]
  },
  {
   "cell_type": "code",
   "execution_count": 28,
   "metadata": {
    "colab": {
     "base_uri": "https://localhost:8080/",
     "height": 452
    },
    "id": "M7Cwzdck8VI8",
    "outputId": "d84d7d9c-b2c4-4e3b-f77b-ea08fc518a38"
   },
   "outputs": [
    {
     "data": {
      "image/png": "[encoded data removed]",
      "text/plain": [
       "<Figure size 432x288 with 1 Axes>"
      ]
     },
     "metadata": {
      "needs_background": "light"
     },
     "output_type": "display_data"
    }
   ],
   "source": [
    "x_axis = X_train @ probit_model.params.values\n",
    "plt.scatter(x_axis, y_train, color='tab:blue', label='Целевая переменная')\n",
    "plt.plot(x_axis.sort_values().values, probit_model.predict(X_train).sort_values().values,color='tab:red', label='Пробит-модель')\n",
    "plt.legend()\n",
    "plt.title('Граница принятия решений пробит-модели')\n",
    "plt.grid()"
   ]
  },
  {
   "cell_type": "code",
   "execution_count": 29,
   "metadata": {
    "colab": {
     "base_uri": "https://localhost:8080/",
     "height": 436
    },
    "id": "DwWn2F5USEve",
    "outputId": "ddc15b21-f809-41a7-e9ba-a8a9a84df00c"
   },
   "outputs": [
    {
     "data": {
      "text/html": [
       "<table class=\"simpletable\">\n",
       "<caption>Probit Regression Results</caption>\n",
       "<tr>\n",
       "  <th>Dep. Variable:</th>        <td>quality</td>     <th>  No. Observations:  </th>  <td>  1119</td>  \n",
       "</tr>\n",
       "<tr>\n",
       "  <th>Model:</th>                <td>Probit</td>      <th>  Df Residuals:      </th>  <td>  1108</td>  \n",
       "</tr>\n",
       "<tr>\n",
       "  <th>Method:</th>                 <td>MLE</td>       <th>  Df Model:          </th>  <td>    10</td>  \n",
       "</tr>\n",
       "<tr>\n",
       "  <th>Date:</th>            <td>Sun, 24 Sep 2023</td> <th>  Pseudo R-squ.:     </th>  <td>0.2613</td>  \n",
       "</tr>\n",
       "<tr>\n",
       "  <th>Time:</th>                <td>17:34:35</td>     <th>  Log-Likelihood:    </th> <td> -571.92</td> \n",
       "</tr>\n",
       "<tr>\n",
       "  <th>converged:</th>             <td>True</td>       <th>  LL-Null:           </th> <td> -774.18</td> \n",
       "</tr>\n",
       "<tr>\n",
       "  <th>Covariance Type:</th>     <td>nonrobust</td>    <th>  LLR p-value:       </th> <td>1.029e-80</td>\n",
       "</tr>\n",
       "</table>\n",
       "<table class=\"simpletable\">\n",
       "<tr>\n",
       "            <td></td>              <th>coef</th>     <th>std err</th>      <th>z</th>      <th>P>|z|</th>  <th>[0.025</th>    <th>0.975]</th>  \n",
       "</tr>\n",
       "<tr>\n",
       "  <th>fixed acidity</th>        <td>    0.0389</td> <td>    0.043</td> <td>    0.906</td> <td> 0.365</td> <td>   -0.045</td> <td>    0.123</td>\n",
       "</tr>\n",
       "<tr>\n",
       "  <th>volatile acidity</th>     <td>   -1.9687</td> <td>    0.333</td> <td>   -5.906</td> <td> 0.000</td> <td>   -2.622</td> <td>   -1.315</td>\n",
       "</tr>\n",
       "<tr>\n",
       "  <th>citric acid</th>          <td>   -0.6828</td> <td>    0.395</td> <td>   -1.730</td> <td> 0.084</td> <td>   -1.456</td> <td>    0.091</td>\n",
       "</tr>\n",
       "<tr>\n",
       "  <th>residual sugar</th>       <td>   -0.0031</td> <td>    0.030</td> <td>   -0.102</td> <td> 0.918</td> <td>   -0.062</td> <td>    0.056</td>\n",
       "</tr>\n",
       "<tr>\n",
       "  <th>chlorides</th>            <td>   -1.7523</td> <td>    1.065</td> <td>   -1.645</td> <td> 0.100</td> <td>   -3.840</td> <td>    0.336</td>\n",
       "</tr>\n",
       "<tr>\n",
       "  <th>free sulfur dioxide</th>  <td>    0.0154</td> <td>    0.006</td> <td>    2.609</td> <td> 0.009</td> <td>    0.004</td> <td>    0.027</td>\n",
       "</tr>\n",
       "<tr>\n",
       "  <th>total sulfur dioxide</th> <td>   -0.0108</td> <td>    0.002</td> <td>   -5.446</td> <td> 0.000</td> <td>   -0.015</td> <td>   -0.007</td>\n",
       "</tr>\n",
       "<tr>\n",
       "  <th>density</th>              <td>   -4.9716</td> <td>    1.638</td> <td>   -3.036</td> <td> 0.002</td> <td>   -8.182</td> <td>   -1.762</td>\n",
       "</tr>\n",
       "<tr>\n",
       "  <th>pH</th>                   <td>   -0.0880</td> <td>    0.416</td> <td>   -0.212</td> <td> 0.832</td> <td>   -0.904</td> <td>    0.727</td>\n",
       "</tr>\n",
       "<tr>\n",
       "  <th>sulphates</th>            <td>    1.4453</td> <td>    0.282</td> <td>    5.129</td> <td> 0.000</td> <td>    0.893</td> <td>    1.998</td>\n",
       "</tr>\n",
       "<tr>\n",
       "  <th>alcohol</th>              <td>    0.5508</td> <td>    0.050</td> <td>   11.052</td> <td> 0.000</td> <td>    0.453</td> <td>    0.648</td>\n",
       "</tr>\n",
       "</table>"
      ],
      "text/plain": [
       "<class 'statsmodels.iolib.summary.Summary'>\n",
       "\"\"\"\n",
       "                          Probit Regression Results                           \n",
       "==============================================================================\n",
       "Dep. Variable:                quality   No. Observations:                 1119\n",
       "Model:                         Probit   Df Residuals:                     1108\n",
       "Method:                           MLE   Df Model:                           10\n",
       "Date:                Sun, 24 Sep 2023   Pseudo R-squ.:                  0.2613\n",
       "Time:                        17:34:35   Log-Likelihood:                -571.92\n",
       "converged:                       True   LL-Null:                       -774.18\n",
       "Covariance Type:            nonrobust   LLR p-value:                 1.029e-80\n",
       "========================================================================================\n",
       "                           coef    std err          z      P>|z|      [0.025      0.975]\n",
       "----------------------------------------------------------------------------------------\n",
       "fixed acidity            0.0389      0.043      0.906      0.365      -0.045       0.123\n",
       "volatile acidity        -1.9687      0.333     -5.906      0.000      -2.622      -1.315\n",
       "citric acid             -0.6828      0.395     -1.730      0.084      -1.456       0.091\n",
       "residual sugar          -0.0031      0.030     -0.102      0.918      -0.062       0.056\n",
       "chlorides               -1.7523      1.065     -1.645      0.100      -3.840       0.336\n",
       "free sulfur dioxide      0.0154      0.006      2.609      0.009       0.004       0.027\n",
       "total sulfur dioxide    -0.0108      0.002     -5.446      0.000      -0.015      -0.007\n",
       "density                 -4.9716      1.638     -3.036      0.002      -8.182      -1.762\n",
       "pH                      -0.0880      0.416     -0.212      0.832      -0.904       0.727\n",
       "sulphates                1.4453      0.282      5.129      0.000       0.893       1.998\n",
       "alcohol                  0.5508      0.050     11.052      0.000       0.453       0.648\n",
       "========================================================================================\n",
       "\"\"\""
      ]
     },
     "execution_count": 29,
     "metadata": {},
     "output_type": "execute_result"
    }
   ],
   "source": [
    "probit_model.summary()"
   ]
  },
  {
   "cell_type": "markdown",
   "metadata": {
    "id": "BtF4EcLSZ29s"
   },
   "source": [
    "Значимые признаки: volatile acidity, free sulfur dioxide, total sulfur dioxide, density, sulphates, alcohol\n",
    "\n",
    "Незначимые признаки: fixed acidity, citric acid, residual sugar, chlorides, pH"
   ]
  },
  {
   "cell_type": "code",
   "execution_count": 30,
   "metadata": {
    "colab": {
     "base_uri": "https://localhost:8080/",
     "height": 363
    },
    "id": "ASVJALfFaTmi",
    "outputId": "c9739176-c495-4761-90cb-6198cf634984"
   },
   "outputs": [
    {
     "data": {
      "text/html": [
       "<div>\n",
       "<style scoped>\n",
       "    .dataframe tbody tr th:only-of-type {\n",
       "        vertical-align: middle;\n",
       "    }\n",
       "\n",
       "    .dataframe tbody tr th {\n",
       "        vertical-align: top;\n",
       "    }\n",
       "\n",
       "    .dataframe thead th {\n",
       "        text-align: right;\n",
       "    }\n",
       "</style>\n",
       "<table border=\"1\" class=\"dataframe\">\n",
       "  <thead>\n",
       "    <tr style=\"text-align: right;\">\n",
       "      <th></th>\n",
       "      <th>X^Tb</th>\n",
       "      <th>result</th>\n",
       "      <th>P(y=1)</th>\n",
       "      <th>P(y=0)</th>\n",
       "      <th>LnLHood</th>\n",
       "      <th>pred</th>\n",
       "    </tr>\n",
       "  </thead>\n",
       "  <tbody>\n",
       "    <tr>\n",
       "      <th>925</th>\n",
       "      <td>1.580584</td>\n",
       "      <td>1</td>\n",
       "      <td>0.943013</td>\n",
       "      <td>0.056987</td>\n",
       "      <td>-0.058675</td>\n",
       "      <td>1</td>\n",
       "    </tr>\n",
       "    <tr>\n",
       "      <th>363</th>\n",
       "      <td>0.596317</td>\n",
       "      <td>0</td>\n",
       "      <td>0.724518</td>\n",
       "      <td>0.275482</td>\n",
       "      <td>-1.289234</td>\n",
       "      <td>1</td>\n",
       "    </tr>\n",
       "    <tr>\n",
       "      <th>906</th>\n",
       "      <td>0.051485</td>\n",
       "      <td>0</td>\n",
       "      <td>0.520530</td>\n",
       "      <td>0.479470</td>\n",
       "      <td>-0.735075</td>\n",
       "      <td>1</td>\n",
       "    </tr>\n",
       "    <tr>\n",
       "      <th>426</th>\n",
       "      <td>0.297273</td>\n",
       "      <td>1</td>\n",
       "      <td>0.616871</td>\n",
       "      <td>0.383129</td>\n",
       "      <td>-0.483096</td>\n",
       "      <td>1</td>\n",
       "    </tr>\n",
       "    <tr>\n",
       "      <th>1251</th>\n",
       "      <td>-0.311646</td>\n",
       "      <td>0</td>\n",
       "      <td>0.377655</td>\n",
       "      <td>0.622345</td>\n",
       "      <td>-0.474260</td>\n",
       "      <td>0</td>\n",
       "    </tr>\n",
       "    <tr>\n",
       "      <th>1274</th>\n",
       "      <td>0.465911</td>\n",
       "      <td>1</td>\n",
       "      <td>0.679360</td>\n",
       "      <td>0.320640</td>\n",
       "      <td>-0.386604</td>\n",
       "      <td>1</td>\n",
       "    </tr>\n",
       "    <tr>\n",
       "      <th>346</th>\n",
       "      <td>1.194782</td>\n",
       "      <td>1</td>\n",
       "      <td>0.883914</td>\n",
       "      <td>0.116086</td>\n",
       "      <td>-0.123396</td>\n",
       "      <td>1</td>\n",
       "    </tr>\n",
       "    <tr>\n",
       "      <th>1105</th>\n",
       "      <td>1.187962</td>\n",
       "      <td>0</td>\n",
       "      <td>0.882576</td>\n",
       "      <td>0.117424</td>\n",
       "      <td>-2.141962</td>\n",
       "      <td>1</td>\n",
       "    </tr>\n",
       "    <tr>\n",
       "      <th>1564</th>\n",
       "      <td>-0.243139</td>\n",
       "      <td>0</td>\n",
       "      <td>0.403949</td>\n",
       "      <td>0.596051</td>\n",
       "      <td>-0.517429</td>\n",
       "      <td>0</td>\n",
       "    </tr>\n",
       "    <tr>\n",
       "      <th>643</th>\n",
       "      <td>-0.764864</td>\n",
       "      <td>0</td>\n",
       "      <td>0.222176</td>\n",
       "      <td>0.777824</td>\n",
       "      <td>-0.251255</td>\n",
       "      <td>0</td>\n",
       "    </tr>\n",
       "  </tbody>\n",
       "</table>\n",
       "</div>"
      ],
      "text/plain": [
       "          X^Tb  result    P(y=1)    P(y=0)   LnLHood  pred\n",
       "925   1.580584       1  0.943013  0.056987 -0.058675     1\n",
       "363   0.596317       0  0.724518  0.275482 -1.289234     1\n",
       "906   0.051485       0  0.520530  0.479470 -0.735075     1\n",
       "426   0.297273       1  0.616871  0.383129 -0.483096     1\n",
       "1251 -0.311646       0  0.377655  0.622345 -0.474260     0\n",
       "1274  0.465911       1  0.679360  0.320640 -0.386604     1\n",
       "346   1.194782       1  0.883914  0.116086 -0.123396     1\n",
       "1105  1.187962       0  0.882576  0.117424 -2.141962     1\n",
       "1564 -0.243139       0  0.403949  0.596051 -0.517429     0\n",
       "643  -0.764864       0  0.222176  0.777824 -0.251255     0"
      ]
     },
     "execution_count": 30,
     "metadata": {},
     "output_type": "execute_result"
    }
   ],
   "source": [
    "XTb = X_train@probit_model.params\n",
    "result = y_train\n",
    "prediction1 = probit_model.predict(X_train)\n",
    "prediction0 = 1 - prediction1\n",
    "LnLikelihood = np.log(prediction1**result * prediction0**(1-result))\n",
    "prediction_y = (probit_model.predict(X_train)>0.5).astype(np.int64)\n",
    "cols = [XTb, result, prediction1, prediction0, LnLikelihood, prediction_y]\n",
    "col_names = ['X^Tb', 'result', 'P(y=1)', 'P(y=0)', 'LnLHood', 'pred']\n",
    "\n",
    "res_table = pd.DataFrame(dict(zip(col_names,cols)))\n",
    "n = res_table.shape[0]\n",
    "res_table.head(10)"
   ]
  },
  {
   "cell_type": "code",
   "execution_count": 31,
   "metadata": {
    "colab": {
     "base_uri": "https://localhost:8080/"
    },
    "id": "fyJIxNBaaTjF",
    "outputId": "0fd0bd88-0ffe-4bd8-8ce4-ab444b0df392"
   },
   "outputs": [
    {
     "name": "stdout",
     "output_type": "stream",
     "text": [
      "Логарифм правдоподобия: -571.9207\n",
      "Логарифм правдоподобия для тривиальной модели: -774.1793\n",
      "Критерий отношения правдоподобия: 404.5172\n",
      "Критическое значение: 3.8415\n",
      "H0 отвергается => ур-е значимо\n",
      "R2_pseudo: 0.266\n",
      "R2_McFadden: 0.261\n",
      "R2_p: 0.541\n"
     ]
    }
   ],
   "source": [
    "LnLikelihood_res = res_table['LnLHood'].sum()\n",
    "print(f'Логарифм правдоподобия: {np.round(LnLikelihood_res,4)}')\n",
    "\n",
    "p0_hat = res_table['result'].mean()\n",
    "Ln_L0 = res_table['result'].sum()*np.log(p0_hat) + (n-res_table['result'].sum())*np.log(1-p0_hat)\n",
    "print(f'Логарифм правдоподобия для тривиальной модели: {np.round(Ln_L0,4)}')\n",
    "\n",
    "LR = 2 * (LnLikelihood_res - Ln_L0)\n",
    "print(f'Критерий отношения правдоподобия: {np.round(LR,4)}')\n",
    "\n",
    "alpha = 0.05\n",
    "nu = 1\n",
    "chi2_cr = sts.chi2.isf(alpha, nu)\n",
    "print(f'Критическое значение: {np.round(chi2_cr,4)}')\n",
    "if LR > chi2_cr:\n",
    "  print('H0 отвергается => ур-е значимо')\n",
    "else:\n",
    "  print('H0 не отвергается => ур-е незначимо')\n",
    "\n",
    "R2_pseudo = 1 - 1/(1+LR/n)\n",
    "print(f'R2_pseudo: {np.round(R2_pseudo,3)}')\n",
    "\n",
    "R2_McF = 1 - LnLikelihood_res/Ln_L0\n",
    "print(f'R2_McFadden: {np.round(R2_McF,3)}')\n",
    "\n",
    "wr1 = ((res_table['result']-res_table['pred'])**2).mean()\n",
    "wr0 = p0_hat\n",
    "R2_p = 1 - wr1/wr0\n",
    "print(f'R2_p: {np.round(R2_p,3)}')"
   ]
  },
  {
   "cell_type": "code",
   "execution_count": 32,
   "metadata": {
    "colab": {
     "base_uri": "https://localhost:8080/",
     "height": 394
    },
    "id": "81rG1TFLaTg1",
    "outputId": "f28dc59d-9242-4636-f29d-868cc59bfe43"
   },
   "outputs": [
    {
     "data": {
      "text/html": [
       "<div>\n",
       "<style scoped>\n",
       "    .dataframe tbody tr th:only-of-type {\n",
       "        vertical-align: middle;\n",
       "    }\n",
       "\n",
       "    .dataframe tbody tr th {\n",
       "        vertical-align: top;\n",
       "    }\n",
       "\n",
       "    .dataframe thead th {\n",
       "        text-align: right;\n",
       "    }\n",
       "</style>\n",
       "<table border=\"1\" class=\"dataframe\">\n",
       "  <thead>\n",
       "    <tr style=\"text-align: right;\">\n",
       "      <th></th>\n",
       "      <th>Предельный эффект</th>\n",
       "    </tr>\n",
       "  </thead>\n",
       "  <tbody>\n",
       "    <tr>\n",
       "      <th>fixed acidity</th>\n",
       "      <td>0.009651</td>\n",
       "    </tr>\n",
       "    <tr>\n",
       "      <th>volatile acidity</th>\n",
       "      <td>-0.488565</td>\n",
       "    </tr>\n",
       "    <tr>\n",
       "      <th>citric acid</th>\n",
       "      <td>-0.169452</td>\n",
       "    </tr>\n",
       "    <tr>\n",
       "      <th>residual sugar</th>\n",
       "      <td>-0.000761</td>\n",
       "    </tr>\n",
       "    <tr>\n",
       "      <th>chlorides</th>\n",
       "      <td>-0.434870</td>\n",
       "    </tr>\n",
       "    <tr>\n",
       "      <th>free sulfur dioxide</th>\n",
       "      <td>0.003826</td>\n",
       "    </tr>\n",
       "    <tr>\n",
       "      <th>total sulfur dioxide</th>\n",
       "      <td>-0.002683</td>\n",
       "    </tr>\n",
       "    <tr>\n",
       "      <th>density</th>\n",
       "      <td>-1.233801</td>\n",
       "    </tr>\n",
       "    <tr>\n",
       "      <th>pH</th>\n",
       "      <td>-0.021850</td>\n",
       "    </tr>\n",
       "    <tr>\n",
       "      <th>sulphates</th>\n",
       "      <td>0.358667</td>\n",
       "    </tr>\n",
       "    <tr>\n",
       "      <th>alcohol</th>\n",
       "      <td>0.136681</td>\n",
       "    </tr>\n",
       "  </tbody>\n",
       "</table>\n",
       "</div>"
      ],
      "text/plain": [
       "                      Предельный эффект\n",
       "fixed acidity                  0.009651\n",
       "volatile acidity              -0.488565\n",
       "citric acid                   -0.169452\n",
       "residual sugar                -0.000761\n",
       "chlorides                     -0.434870\n",
       "free sulfur dioxide            0.003826\n",
       "total sulfur dioxide          -0.002683\n",
       "density                       -1.233801\n",
       "pH                            -0.021850\n",
       "sulphates                      0.358667\n",
       "alcohol                        0.136681"
      ]
     },
     "execution_count": 32,
     "metadata": {},
     "output_type": "execute_result"
    }
   ],
   "source": [
    "p1 = probit_model.predict(X_train.mean(axis=0))[0]\n",
    "pd.DataFrame(p1*(1-p1)*probit_model.params,columns=['Предельный эффект'])"
   ]
  },
  {
   "cell_type": "code",
   "execution_count": 33,
   "metadata": {
    "colab": {
     "base_uri": "https://localhost:8080/",
     "height": 417
    },
    "id": "wxidud1BaTeq",
    "outputId": "8bc94f94-f117-4de9-eedc-7d710e5398ab"
   },
   "outputs": [
    {
     "data": {
      "text/html": [
       "<div>\n",
       "<style scoped>\n",
       "    .dataframe tbody tr th:only-of-type {\n",
       "        vertical-align: middle;\n",
       "    }\n",
       "\n",
       "    .dataframe tbody tr th {\n",
       "        vertical-align: top;\n",
       "    }\n",
       "\n",
       "    .dataframe thead th {\n",
       "        text-align: right;\n",
       "    }\n",
       "</style>\n",
       "<table border=\"1\" class=\"dataframe\">\n",
       "  <thead>\n",
       "    <tr style=\"text-align: right;\">\n",
       "      <th></th>\n",
       "      <th>fixed acidity</th>\n",
       "      <th>volatile acidity</th>\n",
       "      <th>citric acid</th>\n",
       "      <th>residual sugar</th>\n",
       "      <th>chlorides</th>\n",
       "      <th>free sulfur dioxide</th>\n",
       "      <th>total sulfur dioxide</th>\n",
       "      <th>density</th>\n",
       "      <th>pH</th>\n",
       "      <th>sulphates</th>\n",
       "      <th>alcohol</th>\n",
       "    </tr>\n",
       "  </thead>\n",
       "  <tbody>\n",
       "    <tr>\n",
       "      <th>0</th>\n",
       "      <td>4.600000</td>\n",
       "      <td>0.120000</td>\n",
       "      <td>0.000000</td>\n",
       "      <td>0.900000</td>\n",
       "      <td>0.012000</td>\n",
       "      <td>1.000000</td>\n",
       "      <td>6.000000</td>\n",
       "      <td>0.990070</td>\n",
       "      <td>2.740000</td>\n",
       "      <td>0.370000</td>\n",
       "      <td>8.400000</td>\n",
       "    </tr>\n",
       "    <tr>\n",
       "      <th>1</th>\n",
       "      <td>5.855556</td>\n",
       "      <td>0.282222</td>\n",
       "      <td>0.111111</td>\n",
       "      <td>2.522222</td>\n",
       "      <td>0.078556</td>\n",
       "      <td>8.444444</td>\n",
       "      <td>37.444444</td>\n",
       "      <td>0.991583</td>\n",
       "      <td>2.881111</td>\n",
       "      <td>0.551111</td>\n",
       "      <td>9.122222</td>\n",
       "    </tr>\n",
       "    <tr>\n",
       "      <th>2</th>\n",
       "      <td>7.111111</td>\n",
       "      <td>0.444444</td>\n",
       "      <td>0.222222</td>\n",
       "      <td>4.144444</td>\n",
       "      <td>0.145111</td>\n",
       "      <td>15.888889</td>\n",
       "      <td>68.888889</td>\n",
       "      <td>0.993097</td>\n",
       "      <td>3.022222</td>\n",
       "      <td>0.732222</td>\n",
       "      <td>9.844444</td>\n",
       "    </tr>\n",
       "    <tr>\n",
       "      <th>3</th>\n",
       "      <td>8.366667</td>\n",
       "      <td>0.606667</td>\n",
       "      <td>0.333333</td>\n",
       "      <td>5.766667</td>\n",
       "      <td>0.211667</td>\n",
       "      <td>23.333333</td>\n",
       "      <td>100.333333</td>\n",
       "      <td>0.994610</td>\n",
       "      <td>3.163333</td>\n",
       "      <td>0.913333</td>\n",
       "      <td>10.566667</td>\n",
       "    </tr>\n",
       "    <tr>\n",
       "      <th>4</th>\n",
       "      <td>9.622222</td>\n",
       "      <td>0.768889</td>\n",
       "      <td>0.444444</td>\n",
       "      <td>7.388889</td>\n",
       "      <td>0.278222</td>\n",
       "      <td>30.777778</td>\n",
       "      <td>131.777778</td>\n",
       "      <td>0.996123</td>\n",
       "      <td>3.304444</td>\n",
       "      <td>1.094444</td>\n",
       "      <td>11.288889</td>\n",
       "    </tr>\n",
       "    <tr>\n",
       "      <th>5</th>\n",
       "      <td>10.877778</td>\n",
       "      <td>0.931111</td>\n",
       "      <td>0.555556</td>\n",
       "      <td>9.011111</td>\n",
       "      <td>0.344778</td>\n",
       "      <td>38.222222</td>\n",
       "      <td>163.222222</td>\n",
       "      <td>0.997637</td>\n",
       "      <td>3.445556</td>\n",
       "      <td>1.275556</td>\n",
       "      <td>12.011111</td>\n",
       "    </tr>\n",
       "    <tr>\n",
       "      <th>6</th>\n",
       "      <td>12.133333</td>\n",
       "      <td>1.093333</td>\n",
       "      <td>0.666667</td>\n",
       "      <td>10.633333</td>\n",
       "      <td>0.411333</td>\n",
       "      <td>45.666667</td>\n",
       "      <td>194.666667</td>\n",
       "      <td>0.999150</td>\n",
       "      <td>3.586667</td>\n",
       "      <td>1.456667</td>\n",
       "      <td>12.733333</td>\n",
       "    </tr>\n",
       "    <tr>\n",
       "      <th>7</th>\n",
       "      <td>13.388889</td>\n",
       "      <td>1.255556</td>\n",
       "      <td>0.777778</td>\n",
       "      <td>12.255556</td>\n",
       "      <td>0.477889</td>\n",
       "      <td>53.111111</td>\n",
       "      <td>226.111111</td>\n",
       "      <td>1.000663</td>\n",
       "      <td>3.727778</td>\n",
       "      <td>1.637778</td>\n",
       "      <td>13.455556</td>\n",
       "    </tr>\n",
       "    <tr>\n",
       "      <th>8</th>\n",
       "      <td>14.644444</td>\n",
       "      <td>1.417778</td>\n",
       "      <td>0.888889</td>\n",
       "      <td>13.877778</td>\n",
       "      <td>0.544444</td>\n",
       "      <td>60.555556</td>\n",
       "      <td>257.555556</td>\n",
       "      <td>1.002177</td>\n",
       "      <td>3.868889</td>\n",
       "      <td>1.818889</td>\n",
       "      <td>14.177778</td>\n",
       "    </tr>\n",
       "    <tr>\n",
       "      <th>9</th>\n",
       "      <td>15.900000</td>\n",
       "      <td>1.580000</td>\n",
       "      <td>1.000000</td>\n",
       "      <td>15.500000</td>\n",
       "      <td>0.611000</td>\n",
       "      <td>68.000000</td>\n",
       "      <td>289.000000</td>\n",
       "      <td>1.003690</td>\n",
       "      <td>4.010000</td>\n",
       "      <td>2.000000</td>\n",
       "      <td>14.900000</td>\n",
       "    </tr>\n",
       "  </tbody>\n",
       "</table>\n",
       "</div>"
      ],
      "text/plain": [
       "   fixed acidity  volatile acidity  citric acid  residual sugar  chlorides   \n",
       "0       4.600000          0.120000     0.000000        0.900000   0.012000  \\\n",
       "1       5.855556          0.282222     0.111111        2.522222   0.078556   \n",
       "2       7.111111          0.444444     0.222222        4.144444   0.145111   \n",
       "3       8.366667          0.606667     0.333333        5.766667   0.211667   \n",
       "4       9.622222          0.768889     0.444444        7.388889   0.278222   \n",
       "5      10.877778          0.931111     0.555556        9.011111   0.344778   \n",
       "6      12.133333          1.093333     0.666667       10.633333   0.411333   \n",
       "7      13.388889          1.255556     0.777778       12.255556   0.477889   \n",
       "8      14.644444          1.417778     0.888889       13.877778   0.544444   \n",
       "9      15.900000          1.580000     1.000000       15.500000   0.611000   \n",
       "\n",
       "   free sulfur dioxide  total sulfur dioxide   density        pH  sulphates   \n",
       "0             1.000000              6.000000  0.990070  2.740000   0.370000  \\\n",
       "1             8.444444             37.444444  0.991583  2.881111   0.551111   \n",
       "2            15.888889             68.888889  0.993097  3.022222   0.732222   \n",
       "3            23.333333            100.333333  0.994610  3.163333   0.913333   \n",
       "4            30.777778            131.777778  0.996123  3.304444   1.094444   \n",
       "5            38.222222            163.222222  0.997637  3.445556   1.275556   \n",
       "6            45.666667            194.666667  0.999150  3.586667   1.456667   \n",
       "7            53.111111            226.111111  1.000663  3.727778   1.637778   \n",
       "8            60.555556            257.555556  1.002177  3.868889   1.818889   \n",
       "9            68.000000            289.000000  1.003690  4.010000   2.000000   \n",
       "\n",
       "     alcohol  \n",
       "0   8.400000  \n",
       "1   9.122222  \n",
       "2   9.844444  \n",
       "3  10.566667  \n",
       "4  11.288889  \n",
       "5  12.011111  \n",
       "6  12.733333  \n",
       "7  13.455556  \n",
       "8  14.177778  \n",
       "9  14.900000  "
      ]
     },
     "execution_count": 33,
     "metadata": {},
     "output_type": "execute_result"
    }
   ],
   "source": [
    "rng_features = []\n",
    "for i in X_train.columns:\n",
    "  feature = X_train[i]\n",
    "  rng_features.append(np.linspace(feature.min(),feature.max(),10))\n",
    "\n",
    "values = np.c_[rng_features].T\n",
    "values_df = pd.DataFrame(values,columns=X_train.columns)\n",
    "values_df"
   ]
  },
  {
   "cell_type": "code",
   "execution_count": 34,
   "metadata": {
    "colab": {
     "base_uri": "https://localhost:8080/",
     "height": 417
    },
    "id": "c6fArzIUctxJ",
    "outputId": "b63d3656-dccc-46c5-e2c6-2edbba08f603"
   },
   "outputs": [
    {
     "data": {
      "text/html": [
       "<div>\n",
       "<style scoped>\n",
       "    .dataframe tbody tr th:only-of-type {\n",
       "        vertical-align: middle;\n",
       "    }\n",
       "\n",
       "    .dataframe tbody tr th {\n",
       "        vertical-align: top;\n",
       "    }\n",
       "\n",
       "    .dataframe thead th {\n",
       "        text-align: right;\n",
       "    }\n",
       "</style>\n",
       "<table border=\"1\" class=\"dataframe\">\n",
       "  <thead>\n",
       "    <tr style=\"text-align: right;\">\n",
       "      <th></th>\n",
       "      <th>fixed acidity</th>\n",
       "      <th>volatile acidity</th>\n",
       "      <th>citric acid</th>\n",
       "      <th>residual sugar</th>\n",
       "      <th>chlorides</th>\n",
       "      <th>free sulfur dioxide</th>\n",
       "      <th>total sulfur dioxide</th>\n",
       "      <th>density</th>\n",
       "      <th>pH</th>\n",
       "      <th>sulphates</th>\n",
       "      <th>alcohol</th>\n",
       "    </tr>\n",
       "  </thead>\n",
       "  <tbody>\n",
       "    <tr>\n",
       "      <th>0</th>\n",
       "      <td>0.008741</td>\n",
       "      <td>-0.424023</td>\n",
       "      <td>-0.165118</td>\n",
       "      <td>-0.000762</td>\n",
       "      <td>-0.438078</td>\n",
       "      <td>0.003511</td>\n",
       "      <td>-0.002558</td>\n",
       "      <td>-1.239306</td>\n",
       "      <td>-0.021919</td>\n",
       "      <td>0.317233</td>\n",
       "      <td>0.099973</td>\n",
       "    </tr>\n",
       "    <tr>\n",
       "      <th>1</th>\n",
       "      <td>0.008952</td>\n",
       "      <td>-0.483683</td>\n",
       "      <td>-0.168185</td>\n",
       "      <td>-0.000762</td>\n",
       "      <td>-0.434365</td>\n",
       "      <td>0.003682</td>\n",
       "      <td>-0.002699</td>\n",
       "      <td>-1.238461</td>\n",
       "      <td>-0.021889</td>\n",
       "      <td>0.353021</td>\n",
       "      <td>0.129326</td>\n",
       "    </tr>\n",
       "    <tr>\n",
       "      <th>2</th>\n",
       "      <td>0.009140</td>\n",
       "      <td>-0.484794</td>\n",
       "      <td>-0.170061</td>\n",
       "      <td>-0.000761</td>\n",
       "      <td>-0.423299</td>\n",
       "      <td>0.003797</td>\n",
       "      <td>-0.002459</td>\n",
       "      <td>-1.237527</td>\n",
       "      <td>-0.021854</td>\n",
       "      <td>0.360164</td>\n",
       "      <td>0.137075</td>\n",
       "    </tr>\n",
       "    <tr>\n",
       "      <th>3</th>\n",
       "      <td>0.009304</td>\n",
       "      <td>-0.426934</td>\n",
       "      <td>-0.170702</td>\n",
       "      <td>-0.000761</td>\n",
       "      <td>-0.405468</td>\n",
       "      <td>0.003851</td>\n",
       "      <td>-0.001938</td>\n",
       "      <td>-1.236505</td>\n",
       "      <td>-0.021816</td>\n",
       "      <td>0.336799</td>\n",
       "      <td>0.118851</td>\n",
       "    </tr>\n",
       "    <tr>\n",
       "      <th>4</th>\n",
       "      <td>0.009443</td>\n",
       "      <td>-0.331093</td>\n",
       "      <td>-0.170096</td>\n",
       "      <td>-0.000760</td>\n",
       "      <td>-0.381793</td>\n",
       "      <td>0.003841</td>\n",
       "      <td>-0.001327</td>\n",
       "      <td>-1.235394</td>\n",
       "      <td>-0.021773</td>\n",
       "      <td>0.288911</td>\n",
       "      <td>0.084628</td>\n",
       "    </tr>\n",
       "    <tr>\n",
       "      <th>5</th>\n",
       "      <td>0.009555</td>\n",
       "      <td>-0.227071</td>\n",
       "      <td>-0.168254</td>\n",
       "      <td>-0.000760</td>\n",
       "      <td>-0.353446</td>\n",
       "      <td>0.003767</td>\n",
       "      <td>-0.000795</td>\n",
       "      <td>-1.234196</td>\n",
       "      <td>-0.021726</td>\n",
       "      <td>0.227751</td>\n",
       "      <td>0.049913</td>\n",
       "    </tr>\n",
       "    <tr>\n",
       "      <th>6</th>\n",
       "      <td>0.009639</td>\n",
       "      <td>-0.138491</td>\n",
       "      <td>-0.165220</td>\n",
       "      <td>-0.000759</td>\n",
       "      <td>-0.321750</td>\n",
       "      <td>0.003633</td>\n",
       "      <td>-0.000420</td>\n",
       "      <td>-1.232910</td>\n",
       "      <td>-0.021674</td>\n",
       "      <td>0.165421</td>\n",
       "      <td>0.024659</td>\n",
       "    </tr>\n",
       "    <tr>\n",
       "      <th>7</th>\n",
       "      <td>0.009694</td>\n",
       "      <td>-0.075571</td>\n",
       "      <td>-0.161061</td>\n",
       "      <td>-0.000759</td>\n",
       "      <td>-0.288076</td>\n",
       "      <td>0.003446</td>\n",
       "      <td>-0.000197</td>\n",
       "      <td>-1.231537</td>\n",
       "      <td>-0.021619</td>\n",
       "      <td>0.111050</td>\n",
       "      <td>0.010320</td>\n",
       "    </tr>\n",
       "    <tr>\n",
       "      <th>8</th>\n",
       "      <td>0.009720</td>\n",
       "      <td>-0.037103</td>\n",
       "      <td>-0.155870</td>\n",
       "      <td>-0.000758</td>\n",
       "      <td>-0.253742</td>\n",
       "      <td>0.003215</td>\n",
       "      <td>-0.000082</td>\n",
       "      <td>-1.230076</td>\n",
       "      <td>-0.021559</td>\n",
       "      <td>0.069136</td>\n",
       "      <td>0.003691</td>\n",
       "    </tr>\n",
       "    <tr>\n",
       "      <th>9</th>\n",
       "      <td>0.009716</td>\n",
       "      <td>-0.016463</td>\n",
       "      <td>-0.149759</td>\n",
       "      <td>-0.000757</td>\n",
       "      <td>-0.219933</td>\n",
       "      <td>0.002951</td>\n",
       "      <td>-0.000031</td>\n",
       "      <td>-1.228529</td>\n",
       "      <td>-0.021496</td>\n",
       "      <td>0.040044</td>\n",
       "      <td>0.001135</td>\n",
       "    </tr>\n",
       "  </tbody>\n",
       "</table>\n",
       "</div>"
      ],
      "text/plain": [
       "   fixed acidity  volatile acidity  citric acid  residual sugar  chlorides   \n",
       "0       0.008741         -0.424023    -0.165118       -0.000762  -0.438078  \\\n",
       "1       0.008952         -0.483683    -0.168185       -0.000762  -0.434365   \n",
       "2       0.009140         -0.484794    -0.170061       -0.000761  -0.423299   \n",
       "3       0.009304         -0.426934    -0.170702       -0.000761  -0.405468   \n",
       "4       0.009443         -0.331093    -0.170096       -0.000760  -0.381793   \n",
       "5       0.009555         -0.227071    -0.168254       -0.000760  -0.353446   \n",
       "6       0.009639         -0.138491    -0.165220       -0.000759  -0.321750   \n",
       "7       0.009694         -0.075571    -0.161061       -0.000759  -0.288076   \n",
       "8       0.009720         -0.037103    -0.155870       -0.000758  -0.253742   \n",
       "9       0.009716         -0.016463    -0.149759       -0.000757  -0.219933   \n",
       "\n",
       "   free sulfur dioxide  total sulfur dioxide   density        pH  sulphates   \n",
       "0             0.003511             -0.002558 -1.239306 -0.021919   0.317233  \\\n",
       "1             0.003682             -0.002699 -1.238461 -0.021889   0.353021   \n",
       "2             0.003797             -0.002459 -1.237527 -0.021854   0.360164   \n",
       "3             0.003851             -0.001938 -1.236505 -0.021816   0.336799   \n",
       "4             0.003841             -0.001327 -1.235394 -0.021773   0.288911   \n",
       "5             0.003767             -0.000795 -1.234196 -0.021726   0.227751   \n",
       "6             0.003633             -0.000420 -1.232910 -0.021674   0.165421   \n",
       "7             0.003446             -0.000197 -1.231537 -0.021619   0.111050   \n",
       "8             0.003215             -0.000082 -1.230076 -0.021559   0.069136   \n",
       "9             0.002951             -0.000031 -1.228529 -0.021496   0.040044   \n",
       "\n",
       "    alcohol  \n",
       "0  0.099973  \n",
       "1  0.129326  \n",
       "2  0.137075  \n",
       "3  0.118851  \n",
       "4  0.084628  \n",
       "5  0.049913  \n",
       "6  0.024659  \n",
       "7  0.010320  \n",
       "8  0.003691  \n",
       "9  0.001135  "
      ]
     },
     "execution_count": 34,
     "metadata": {},
     "output_type": "execute_result"
    }
   ],
   "source": [
    "fixed_features = X_train.sample(1,random_state=7)\n",
    "marg_eff_df = values_df.copy()\n",
    "\n",
    "for i in X_train.columns:\n",
    "  marg_col = []\n",
    "  for j in values_df[i]:\n",
    "    vals = fixed_features.copy()\n",
    "    vals[i] = j\n",
    "    p1 = probit_model.predict(vals.values)[0]\n",
    "    marg_col.append(p1*(1-p1)*probit_model.params[i])\n",
    "  marg_eff_df[i] = marg_col\n",
    "marg_eff_df"
   ]
  },
  {
   "cell_type": "code",
   "execution_count": 35,
   "metadata": {
    "colab": {
     "base_uri": "https://localhost:8080/",
     "height": 394
    },
    "id": "ENTMxZOTdBGE",
    "outputId": "93ed1cb5-0fb2-400a-c188-8d92802394b7"
   },
   "outputs": [
    {
     "data": {
      "text/html": [
       "<div>\n",
       "<style scoped>\n",
       "    .dataframe tbody tr th:only-of-type {\n",
       "        vertical-align: middle;\n",
       "    }\n",
       "\n",
       "    .dataframe tbody tr th {\n",
       "        vertical-align: top;\n",
       "    }\n",
       "\n",
       "    .dataframe thead th {\n",
       "        text-align: right;\n",
       "    }\n",
       "</style>\n",
       "<table border=\"1\" class=\"dataframe\">\n",
       "  <thead>\n",
       "    <tr style=\"text-align: right;\">\n",
       "      <th></th>\n",
       "      <th>Опт. значения</th>\n",
       "    </tr>\n",
       "  </thead>\n",
       "  <tbody>\n",
       "    <tr>\n",
       "      <th>fixed acidity</th>\n",
       "      <td>14.644</td>\n",
       "    </tr>\n",
       "    <tr>\n",
       "      <th>volatile acidity</th>\n",
       "      <td>1.580</td>\n",
       "    </tr>\n",
       "    <tr>\n",
       "      <th>citric acid</th>\n",
       "      <td>1.000</td>\n",
       "    </tr>\n",
       "    <tr>\n",
       "      <th>residual sugar</th>\n",
       "      <td>15.500</td>\n",
       "    </tr>\n",
       "    <tr>\n",
       "      <th>chlorides</th>\n",
       "      <td>0.611</td>\n",
       "    </tr>\n",
       "    <tr>\n",
       "      <th>free sulfur dioxide</th>\n",
       "      <td>23.333</td>\n",
       "    </tr>\n",
       "    <tr>\n",
       "      <th>total sulfur dioxide</th>\n",
       "      <td>289.000</td>\n",
       "    </tr>\n",
       "    <tr>\n",
       "      <th>density</th>\n",
       "      <td>1.004</td>\n",
       "    </tr>\n",
       "    <tr>\n",
       "      <th>pH</th>\n",
       "      <td>4.010</td>\n",
       "    </tr>\n",
       "    <tr>\n",
       "      <th>sulphates</th>\n",
       "      <td>0.732</td>\n",
       "    </tr>\n",
       "    <tr>\n",
       "      <th>alcohol</th>\n",
       "      <td>9.844</td>\n",
       "    </tr>\n",
       "  </tbody>\n",
       "</table>\n",
       "</div>"
      ],
      "text/plain": [
       "                      Опт. значения\n",
       "fixed acidity                14.644\n",
       "volatile acidity              1.580\n",
       "citric acid                   1.000\n",
       "residual sugar               15.500\n",
       "chlorides                     0.611\n",
       "free sulfur dioxide          23.333\n",
       "total sulfur dioxide        289.000\n",
       "density                       1.004\n",
       "pH                            4.010\n",
       "sulphates                     0.732\n",
       "alcohol                       9.844"
      ]
     },
     "execution_count": 35,
     "metadata": {},
     "output_type": "execute_result"
    }
   ],
   "source": [
    "perfect_features = values_df[marg_eff_df == marg_eff_df.max(axis=0)].T.values.ravel()\n",
    "perfect_features = perfect_features[~np.isnan(perfect_features)]\n",
    "pd.DataFrame(np.round(perfect_features,3),index=X_train.columns, columns=['Опт. значения'])"
   ]
  },
  {
   "cell_type": "code",
   "execution_count": 36,
   "metadata": {
    "colab": {
     "base_uri": "https://localhost:8080/"
    },
    "id": "Ezq3Tte4dLeG",
    "outputId": "6def29eb-6749-44ec-d2b6-549706a4474f"
   },
   "outputs": [
    {
     "data": {
      "text/plain": [
       "5.75474261008224e-05"
      ]
     },
     "execution_count": 36,
     "metadata": {},
     "output_type": "execute_result"
    }
   ],
   "source": [
    "logit_model.predict(perfect_features)[0]"
   ]
  },
  {
   "cell_type": "markdown",
   "metadata": {
    "id": "p7Z4Po3yaKyh"
   },
   "source": [
    "### Обобщаяющая способность"
   ]
  },
  {
   "cell_type": "code",
   "execution_count": 37,
   "metadata": {
    "colab": {
     "base_uri": "https://localhost:8080/"
    },
    "id": "qbCC9YMeeO9C",
    "outputId": "da6c22d3-02e1-47ff-a700-5cfa8ff421f4"
   },
   "outputs": [
    {
     "data": {
      "text/plain": [
       "(0.7587131367292225, 0.768041237113402)"
      ]
     },
     "execution_count": 37,
     "metadata": {},
     "output_type": "execute_result"
    }
   ],
   "source": [
    "y_pred_log = (probit_model.predict(X_train)>0.5).astype(np.int64)\n",
    "accuracy_score(y_pred_log,y_train), f1_score(y_pred_log,y_train)"
   ]
  },
  {
   "cell_type": "code",
   "execution_count": 38,
   "metadata": {
    "colab": {
     "base_uri": "https://localhost:8080/"
    },
    "id": "xNs0WBVogJDl",
    "outputId": "300979fa-8fa5-4ece-d4d6-9a7d7243e440"
   },
   "outputs": [
    {
     "data": {
      "text/plain": [
       "(0.7375, 0.7567567567567567)"
      ]
     },
     "execution_count": 38,
     "metadata": {},
     "output_type": "execute_result"
    }
   ],
   "source": [
    "y_pred_prob = (probit_model.predict(X_test)>0.5).astype(np.int64)\n",
    "accuracy_score(y_pred_prob,y_test), f1_score(y_pred_prob,y_test)"
   ]
  },
  {
   "cell_type": "code",
   "execution_count": null,
   "metadata": {
    "colab": {
     "base_uri": "https://localhost:8080/"
    },
    "id": "9y2ZScXiV7a2",
    "outputId": "b8ba0f56-d2b2-4188-f02e-21f304c34c92"
   },
   "outputs": [],
   "source": []
  },
  {
   "cell_type": "code",
   "execution_count": null,
   "metadata": {},
   "outputs": [],
   "source": []
  }
 ],
 "metadata": {
  "colab": {
   "collapsed_sections": [
    "-Gp7--_AKaQd",
    "QBvk1Mf_s__U"
   ],
   "provenance": []
  },
  "kernelspec": {
   "display_name": "Python 3",
   "language": "python",
   "name": "python3"
  },
  "language_info": {
   "codemirror_mode": {
    "name": "ipython",
    "version": 3
   },
   "file_extension": ".py",
   "mimetype": "text/x-python",
   "name": "python",
   "nbconvert_exporter": "python",
   "pygments_lexer": "ipython3",
   "version": "3.8.8"
  }
 },
 "nbformat": 4,
 "nbformat_minor": 1
}
